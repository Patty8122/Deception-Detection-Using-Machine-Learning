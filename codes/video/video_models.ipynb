{
 "cells": [
  {
   "cell_type": "code",
   "execution_count": 1,
   "id": "63df50f7",
   "metadata": {
    "id": "63df50f7"
   },
   "outputs": [],
   "source": [
    "import pandas as pd\n",
    "import numpy as np\n"
   ]
  },
  {
   "cell_type": "markdown",
   "id": "59432653",
   "metadata": {
    "id": "59432653"
   },
   "source": [
    "## Load data"
   ]
  },
  {
   "cell_type": "code",
   "execution_count": 3,
   "id": "eOrWgRwGd2X5",
   "metadata": {
    "id": "eOrWgRwGd2X5"
   },
   "outputs": [],
   "source": [
    "new_df = pd.read_hdf('D:/holistic_features_deception/data_with_gender.h5')"
   ]
  },
  {
   "cell_type": "code",
   "execution_count": 4,
   "id": "c2fbc7de",
   "metadata": {},
   "outputs": [],
   "source": [
    "new_df = new_df[new_df.columns[list(range(720))]]"
   ]
  },
  {
   "cell_type": "code",
   "execution_count": 5,
   "id": "eCN6OZvQgBXb",
   "metadata": {
    "colab": {
     "base_uri": "https://localhost:8080/",
     "height": 534
    },
    "id": "eCN6OZvQgBXb",
    "outputId": "82da6500-b5ee-4fce-da90-7a1d8680ed92"
   },
   "outputs": [],
   "source": [
    "import random\n",
    "random.seed(0)\n",
    "samples= list(new_df.person_id.unique())\n",
    "num_samples = len(samples)\n",
    "train_ids = random.sample(samples,round(0.9*num_samples))\n",
    "test_ids = list(set(samples)-set(train_ids))\n",
    "\n",
    "df_train=pd.DataFrame()\n",
    "for i in train_ids:\n",
    "  df_train=df_train.append(new_df[new_df['person_id']==i])\n",
    "\n",
    "df_test=pd.DataFrame()\n",
    "for i in test_ids:\n",
    "  df_test=df_test.append(new_df[new_df['person_id']==i])\n",
    "\n",
    "X_train = df_train.drop('y',axis=1)\n",
    "X_test = df_test.drop('y',axis=1)\n",
    "y_train = df_train['y']\n",
    "y_test = df_test['y']"
   ]
  },
  {
   "cell_type": "code",
   "execution_count": 6,
   "id": "eaac4b05",
   "metadata": {},
   "outputs": [
    {
     "name": "stdout",
     "output_type": "stream",
     "text": [
      "timestamp\n",
      "confidence\n",
      "gaze_0_x\n",
      "gaze_0_y\n",
      "gaze_0_z\n",
      "gaze_1_x\n",
      "gaze_1_y\n",
      "gaze_1_z\n",
      "gaze_angle_x\n",
      "gaze_angle_y\n",
      "eye_lmk_x_0\n",
      "eye_lmk_x_1\n",
      "eye_lmk_x_2\n",
      "eye_lmk_x_3\n",
      "eye_lmk_x_4\n",
      "eye_lmk_x_5\n",
      "eye_lmk_x_6\n",
      "eye_lmk_x_7\n",
      "eye_lmk_x_8\n",
      "eye_lmk_x_9\n",
      "eye_lmk_x_10\n",
      "eye_lmk_x_11\n",
      "eye_lmk_x_12\n",
      "eye_lmk_x_13\n",
      "eye_lmk_x_14\n",
      "eye_lmk_x_15\n",
      "eye_lmk_x_16\n",
      "eye_lmk_x_17\n",
      "eye_lmk_x_18\n",
      "eye_lmk_x_19\n",
      "eye_lmk_x_20\n",
      "eye_lmk_x_21\n",
      "eye_lmk_x_22\n",
      "eye_lmk_x_23\n",
      "eye_lmk_x_24\n",
      "eye_lmk_x_25\n",
      "eye_lmk_x_26\n",
      "eye_lmk_x_27\n",
      "eye_lmk_x_28\n",
      "eye_lmk_x_29\n",
      "eye_lmk_x_30\n",
      "eye_lmk_x_31\n",
      "eye_lmk_x_32\n",
      "eye_lmk_x_33\n",
      "eye_lmk_x_34\n",
      "eye_lmk_x_35\n",
      "eye_lmk_x_36\n",
      "eye_lmk_x_37\n",
      "eye_lmk_x_38\n",
      "eye_lmk_x_39\n",
      "eye_lmk_x_40\n",
      "eye_lmk_x_41\n",
      "eye_lmk_x_42\n",
      "eye_lmk_x_43\n",
      "eye_lmk_x_44\n",
      "eye_lmk_x_45\n",
      "eye_lmk_x_46\n",
      "eye_lmk_x_47\n",
      "eye_lmk_x_48\n",
      "eye_lmk_x_49\n",
      "eye_lmk_x_50\n",
      "eye_lmk_x_51\n",
      "eye_lmk_x_52\n",
      "eye_lmk_x_53\n",
      "eye_lmk_x_54\n",
      "eye_lmk_x_55\n",
      "eye_lmk_y_0\n",
      "eye_lmk_y_1\n",
      "eye_lmk_y_2\n",
      "eye_lmk_y_3\n",
      "eye_lmk_y_4\n",
      "eye_lmk_y_5\n",
      "eye_lmk_y_6\n",
      "eye_lmk_y_7\n",
      "eye_lmk_y_8\n",
      "eye_lmk_y_9\n",
      "eye_lmk_y_10\n",
      "eye_lmk_y_11\n",
      "eye_lmk_y_12\n",
      "eye_lmk_y_13\n",
      "eye_lmk_y_14\n",
      "eye_lmk_y_15\n",
      "eye_lmk_y_16\n",
      "eye_lmk_y_17\n",
      "eye_lmk_y_18\n",
      "eye_lmk_y_19\n",
      "eye_lmk_y_20\n",
      "eye_lmk_y_21\n",
      "eye_lmk_y_22\n",
      "eye_lmk_y_23\n",
      "eye_lmk_y_24\n",
      "eye_lmk_y_25\n",
      "eye_lmk_y_26\n",
      "eye_lmk_y_27\n",
      "eye_lmk_y_28\n",
      "eye_lmk_y_29\n",
      "eye_lmk_y_30\n",
      "eye_lmk_y_31\n",
      "eye_lmk_y_32\n",
      "eye_lmk_y_33\n",
      "eye_lmk_y_34\n",
      "eye_lmk_y_35\n",
      "eye_lmk_y_36\n",
      "eye_lmk_y_37\n",
      "eye_lmk_y_38\n",
      "eye_lmk_y_39\n",
      "eye_lmk_y_40\n",
      "eye_lmk_y_41\n",
      "eye_lmk_y_42\n",
      "eye_lmk_y_43\n",
      "eye_lmk_y_44\n",
      "eye_lmk_y_45\n",
      "eye_lmk_y_46\n",
      "eye_lmk_y_47\n",
      "eye_lmk_y_48\n",
      "eye_lmk_y_49\n",
      "eye_lmk_y_50\n",
      "eye_lmk_y_51\n",
      "eye_lmk_y_52\n",
      "eye_lmk_y_53\n",
      "eye_lmk_y_54\n",
      "eye_lmk_y_55\n",
      "eye_lmk_X_0\n",
      "eye_lmk_X_1\n",
      "eye_lmk_X_2\n",
      "eye_lmk_X_3\n",
      "eye_lmk_X_4\n",
      "eye_lmk_X_5\n",
      "eye_lmk_X_6\n",
      "eye_lmk_X_7\n",
      "eye_lmk_X_8\n",
      "eye_lmk_X_9\n",
      "eye_lmk_X_10\n",
      "eye_lmk_X_11\n",
      "eye_lmk_X_12\n",
      "eye_lmk_X_13\n",
      "eye_lmk_X_14\n",
      "eye_lmk_X_15\n",
      "eye_lmk_X_16\n",
      "eye_lmk_X_17\n",
      "eye_lmk_X_18\n",
      "eye_lmk_X_19\n",
      "eye_lmk_X_20\n",
      "eye_lmk_X_21\n",
      "eye_lmk_X_22\n",
      "eye_lmk_X_23\n",
      "eye_lmk_X_24\n",
      "eye_lmk_X_25\n",
      "eye_lmk_X_26\n",
      "eye_lmk_X_27\n",
      "eye_lmk_X_28\n",
      "eye_lmk_X_29\n",
      "eye_lmk_X_30\n",
      "eye_lmk_X_31\n",
      "eye_lmk_X_32\n",
      "eye_lmk_X_33\n",
      "eye_lmk_X_34\n",
      "eye_lmk_X_35\n",
      "eye_lmk_X_36\n",
      "eye_lmk_X_37\n",
      "eye_lmk_X_38\n",
      "eye_lmk_X_39\n",
      "eye_lmk_X_40\n",
      "eye_lmk_X_41\n",
      "eye_lmk_X_42\n",
      "eye_lmk_X_43\n",
      "eye_lmk_X_44\n",
      "eye_lmk_X_45\n",
      "eye_lmk_X_46\n",
      "eye_lmk_X_47\n",
      "eye_lmk_X_48\n",
      "eye_lmk_X_49\n",
      "eye_lmk_X_50\n",
      "eye_lmk_X_51\n",
      "eye_lmk_X_52\n",
      "eye_lmk_X_53\n",
      "eye_lmk_X_54\n",
      "eye_lmk_X_55\n",
      "eye_lmk_Y_0\n",
      "eye_lmk_Y_1\n",
      "eye_lmk_Y_2\n",
      "eye_lmk_Y_3\n",
      "eye_lmk_Y_4\n",
      "eye_lmk_Y_5\n",
      "eye_lmk_Y_6\n",
      "eye_lmk_Y_7\n",
      "eye_lmk_Y_8\n",
      "eye_lmk_Y_9\n",
      "eye_lmk_Y_10\n",
      "eye_lmk_Y_11\n",
      "eye_lmk_Y_12\n",
      "eye_lmk_Y_13\n",
      "eye_lmk_Y_14\n",
      "eye_lmk_Y_15\n",
      "eye_lmk_Y_16\n",
      "eye_lmk_Y_17\n",
      "eye_lmk_Y_18\n",
      "eye_lmk_Y_19\n",
      "eye_lmk_Y_20\n",
      "eye_lmk_Y_21\n",
      "eye_lmk_Y_22\n",
      "eye_lmk_Y_23\n",
      "eye_lmk_Y_24\n",
      "eye_lmk_Y_25\n",
      "eye_lmk_Y_26\n",
      "eye_lmk_Y_27\n",
      "eye_lmk_Y_28\n",
      "eye_lmk_Y_29\n",
      "eye_lmk_Y_30\n",
      "eye_lmk_Y_31\n",
      "eye_lmk_Y_32\n",
      "eye_lmk_Y_33\n",
      "eye_lmk_Y_34\n",
      "eye_lmk_Y_35\n",
      "eye_lmk_Y_36\n",
      "eye_lmk_Y_37\n",
      "eye_lmk_Y_38\n",
      "eye_lmk_Y_39\n",
      "eye_lmk_Y_40\n",
      "eye_lmk_Y_41\n",
      "eye_lmk_Y_42\n",
      "eye_lmk_Y_43\n",
      "eye_lmk_Y_44\n",
      "eye_lmk_Y_45\n",
      "eye_lmk_Y_46\n",
      "eye_lmk_Y_47\n",
      "eye_lmk_Y_48\n",
      "eye_lmk_Y_49\n",
      "eye_lmk_Y_50\n",
      "eye_lmk_Y_51\n",
      "eye_lmk_Y_52\n",
      "eye_lmk_Y_53\n",
      "eye_lmk_Y_54\n",
      "eye_lmk_Y_55\n",
      "eye_lmk_Z_0\n",
      "eye_lmk_Z_1\n",
      "eye_lmk_Z_2\n",
      "eye_lmk_Z_3\n",
      "eye_lmk_Z_4\n",
      "eye_lmk_Z_5\n",
      "eye_lmk_Z_6\n",
      "eye_lmk_Z_7\n",
      "eye_lmk_Z_8\n",
      "eye_lmk_Z_9\n",
      "eye_lmk_Z_10\n",
      "eye_lmk_Z_11\n",
      "eye_lmk_Z_12\n",
      "eye_lmk_Z_13\n",
      "eye_lmk_Z_14\n",
      "eye_lmk_Z_15\n",
      "eye_lmk_Z_16\n",
      "eye_lmk_Z_17\n",
      "eye_lmk_Z_18\n",
      "eye_lmk_Z_19\n",
      "eye_lmk_Z_20\n",
      "eye_lmk_Z_21\n",
      "eye_lmk_Z_22\n",
      "eye_lmk_Z_23\n",
      "eye_lmk_Z_24\n",
      "eye_lmk_Z_25\n",
      "eye_lmk_Z_26\n",
      "eye_lmk_Z_27\n",
      "eye_lmk_Z_28\n",
      "eye_lmk_Z_29\n",
      "eye_lmk_Z_30\n",
      "eye_lmk_Z_31\n",
      "eye_lmk_Z_32\n",
      "eye_lmk_Z_33\n",
      "eye_lmk_Z_34\n",
      "eye_lmk_Z_35\n",
      "eye_lmk_Z_36\n",
      "eye_lmk_Z_37\n",
      "eye_lmk_Z_38\n",
      "eye_lmk_Z_39\n",
      "eye_lmk_Z_40\n",
      "eye_lmk_Z_41\n",
      "eye_lmk_Z_42\n",
      "eye_lmk_Z_43\n",
      "eye_lmk_Z_44\n",
      "eye_lmk_Z_45\n",
      "eye_lmk_Z_46\n",
      "eye_lmk_Z_47\n",
      "eye_lmk_Z_48\n",
      "eye_lmk_Z_49\n",
      "eye_lmk_Z_50\n",
      "eye_lmk_Z_51\n",
      "eye_lmk_Z_52\n",
      "eye_lmk_Z_53\n",
      "eye_lmk_Z_54\n",
      "eye_lmk_Z_55\n",
      "pose_Tx\n",
      "pose_Ty\n",
      "pose_Tz\n",
      "pose_Rx\n",
      "pose_Ry\n",
      "pose_Rz\n",
      "x_0\n",
      "x_1\n",
      "x_2\n",
      "x_3\n",
      "x_4\n",
      "x_5\n",
      "x_6\n",
      "x_7\n",
      "x_8\n",
      "x_9\n",
      "x_10\n",
      "x_11\n",
      "x_12\n",
      "x_13\n",
      "x_14\n",
      "x_15\n",
      "x_16\n",
      "x_17\n",
      "x_18\n",
      "x_19\n",
      "x_20\n",
      "x_21\n",
      "x_22\n",
      "x_23\n",
      "x_24\n",
      "x_25\n",
      "x_26\n",
      "x_27\n",
      "x_28\n",
      "x_29\n",
      "x_30\n",
      "x_31\n",
      "x_32\n",
      "x_33\n",
      "x_34\n",
      "x_35\n",
      "x_36\n",
      "x_37\n",
      "x_38\n",
      "x_39\n",
      "x_40\n",
      "x_41\n",
      "x_42\n",
      "x_43\n",
      "x_44\n",
      "x_45\n",
      "x_46\n",
      "x_47\n",
      "x_48\n",
      "x_49\n",
      "x_50\n",
      "x_51\n",
      "x_52\n",
      "x_53\n",
      "x_54\n",
      "x_55\n",
      "x_56\n",
      "x_57\n",
      "x_58\n",
      "x_59\n",
      "x_60\n",
      "x_61\n",
      "x_62\n",
      "x_63\n",
      "x_64\n",
      "x_65\n",
      "x_66\n",
      "x_67\n",
      "y_0\n",
      "y_1\n",
      "y_2\n",
      "y_3\n",
      "y_4\n",
      "y_5\n",
      "y_6\n",
      "y_7\n",
      "y_8\n",
      "y_9\n",
      "y_10\n",
      "y_11\n",
      "y_12\n",
      "y_13\n",
      "y_14\n",
      "y_15\n",
      "y_16\n",
      "y_17\n",
      "y_18\n",
      "y_19\n",
      "y_20\n",
      "y_21\n",
      "y_22\n",
      "y_23\n",
      "y_24\n",
      "y_25\n",
      "y_26\n",
      "y_27\n",
      "y_28\n",
      "y_29\n",
      "y_30\n",
      "y_31\n",
      "y_32\n",
      "y_33\n",
      "y_34\n",
      "y_35\n",
      "y_36\n",
      "y_37\n",
      "y_38\n",
      "y_39\n",
      "y_40\n",
      "y_41\n",
      "y_42\n",
      "y_43\n",
      "y_44\n",
      "y_45\n",
      "y_46\n",
      "y_47\n",
      "y_48\n",
      "y_49\n",
      "y_50\n",
      "y_51\n",
      "y_52\n",
      "y_53\n",
      "y_54\n",
      "y_55\n",
      "y_56\n",
      "y_57\n",
      "y_58\n",
      "y_59\n",
      "y_60\n",
      "y_61\n",
      "y_62\n",
      "y_63\n",
      "y_64\n",
      "y_65\n",
      "y_66\n",
      "y_67\n",
      "X_0\n",
      "X_1\n",
      "X_2\n",
      "X_3\n",
      "X_4\n",
      "X_5\n",
      "X_6\n",
      "X_7\n",
      "X_8\n",
      "X_9\n",
      "X_10\n",
      "X_11\n",
      "X_12\n",
      "X_13\n",
      "X_14\n",
      "X_15\n",
      "X_16\n",
      "X_17\n",
      "X_18\n",
      "X_19\n",
      "X_20\n",
      "X_21\n",
      "X_22\n",
      "X_23\n",
      "X_24\n",
      "X_25\n",
      "X_26\n",
      "X_27\n",
      "X_28\n",
      "X_29\n",
      "X_30\n",
      "X_31\n",
      "X_32\n",
      "X_33\n",
      "X_34\n",
      "X_35\n",
      "X_36\n",
      "X_37\n",
      "X_38\n",
      "X_39\n",
      "X_40\n",
      "X_41\n",
      "X_42\n",
      "X_43\n",
      "X_44\n",
      "X_45\n",
      "X_46\n",
      "X_47\n",
      "X_48\n",
      "X_49\n",
      "X_50\n",
      "X_51\n",
      "X_52\n",
      "X_53\n",
      "X_54\n",
      "X_55\n",
      "X_56\n",
      "X_57\n",
      "X_58\n",
      "X_59\n",
      "X_60\n",
      "X_61\n",
      "X_62\n",
      "X_63\n",
      "X_64\n",
      "X_65\n",
      "X_66\n",
      "X_67\n",
      "Y_0\n",
      "Y_1\n",
      "Y_2\n",
      "Y_3\n",
      "Y_4\n",
      "Y_5\n",
      "Y_6\n",
      "Y_7\n",
      "Y_8\n",
      "Y_9\n",
      "Y_10\n",
      "Y_11\n",
      "Y_12\n",
      "Y_13\n",
      "Y_14\n",
      "Y_15\n",
      "Y_16\n",
      "Y_17\n",
      "Y_18\n",
      "Y_19\n",
      "Y_20\n",
      "Y_21\n",
      "Y_22\n",
      "Y_23\n",
      "Y_24\n",
      "Y_25\n",
      "Y_26\n",
      "Y_27\n",
      "Y_28\n",
      "Y_29\n",
      "Y_30\n",
      "Y_31\n",
      "Y_32\n",
      "Y_33\n",
      "Y_34\n",
      "Y_35\n",
      "Y_36\n",
      "Y_37\n",
      "Y_38\n",
      "Y_39\n",
      "Y_40\n",
      "Y_41\n",
      "Y_42\n",
      "Y_43\n",
      "Y_44\n",
      "Y_45\n",
      "Y_46\n",
      "Y_47\n",
      "Y_48\n",
      "Y_49\n",
      "Y_50\n",
      "Y_51\n",
      "Y_52\n",
      "Y_53\n",
      "Y_54\n",
      "Y_55\n",
      "Y_56\n",
      "Y_57\n",
      "Y_58\n",
      "Y_59\n",
      "Y_60\n",
      "Y_61\n",
      "Y_62\n",
      "Y_63\n",
      "Y_64\n",
      "Y_65\n",
      "Y_66\n",
      "Y_67\n",
      "Z_0\n",
      "Z_1\n",
      "Z_2\n",
      "Z_3\n",
      "Z_4\n",
      "Z_5\n",
      "Z_6\n",
      "Z_7\n",
      "Z_8\n",
      "Z_9\n",
      "Z_10\n",
      "Z_11\n",
      "Z_12\n",
      "Z_13\n",
      "Z_14\n",
      "Z_15\n",
      "Z_16\n",
      "Z_17\n",
      "Z_18\n",
      "Z_19\n",
      "Z_20\n",
      "Z_21\n",
      "Z_22\n",
      "Z_23\n",
      "Z_24\n",
      "Z_25\n",
      "Z_26\n",
      "Z_27\n",
      "Z_28\n",
      "Z_29\n",
      "Z_30\n",
      "Z_31\n",
      "Z_32\n",
      "Z_33\n",
      "Z_34\n",
      "Z_35\n",
      "Z_36\n",
      "Z_37\n",
      "Z_38\n",
      "Z_39\n",
      "Z_40\n",
      "Z_41\n",
      "Z_42\n",
      "Z_43\n",
      "Z_44\n",
      "Z_45\n",
      "Z_46\n",
      "Z_47\n",
      "Z_48\n",
      "Z_49\n",
      "Z_50\n",
      "Z_51\n",
      "Z_52\n",
      "Z_53\n",
      "Z_54\n",
      "Z_55\n",
      "Z_56\n",
      "Z_57\n",
      "Z_58\n",
      "Z_59\n",
      "Z_60\n",
      "Z_61\n",
      "Z_62\n",
      "Z_63\n",
      "Z_64\n",
      "Z_65\n",
      "Z_66\n",
      "Z_67\n",
      "p_scale\n",
      "p_rx\n",
      "p_ry\n",
      "p_rz\n",
      "p_tx\n",
      "p_ty\n",
      "p_0\n",
      "p_1\n",
      "p_2\n",
      "p_3\n",
      "p_4\n",
      "p_5\n",
      "p_6\n",
      "p_7\n",
      "p_8\n",
      "p_9\n",
      "p_10\n",
      "p_11\n",
      "p_12\n",
      "p_13\n",
      "p_14\n",
      "p_15\n",
      "p_16\n",
      "p_17\n",
      "p_18\n",
      "p_19\n",
      "p_20\n",
      "p_21\n",
      "p_22\n",
      "p_23\n",
      "p_24\n",
      "p_25\n",
      "p_26\n",
      "p_27\n",
      "p_28\n",
      "p_29\n",
      "p_30\n",
      "p_31\n",
      "p_32\n",
      "p_33\n",
      "AU01_r\n",
      "AU02_r\n",
      "AU04_r\n",
      "AU05_r\n",
      "AU06_r\n",
      "AU07_r\n",
      "AU09_r\n",
      "AU10_r\n",
      "AU12_r\n",
      "AU14_r\n",
      "AU15_r\n",
      "AU17_r\n",
      "AU20_r\n",
      "AU23_r\n",
      "AU25_r\n",
      "AU26_r\n",
      "AU45_r\n",
      "AU01_c\n",
      "AU02_c\n",
      "AU04_c\n",
      "AU05_c\n",
      "AU06_c\n",
      "AU07_c\n",
      "AU09_c\n",
      "AU10_c\n",
      "AU12_c\n",
      "AU14_c\n",
      "AU15_c\n",
      "AU17_c\n",
      "AU20_c\n",
      "AU23_c\n",
      "AU25_c\n",
      "AU26_c\n",
      "AU28_c\n",
      "AU45_c\n",
      "question\n",
      "person_id\n",
      "WC\n",
      "OtherP\n",
      "positive_assumption\n",
      "negative_assumption\n",
      "What is your age (in years) ?\n",
      "Gender_Male\n"
     ]
    }
   ],
   "source": [
    "for i in X_train.columns:\n",
    "    print(i)"
   ]
  },
  {
   "cell_type": "code",
   "execution_count": 8,
   "id": "419be345",
   "metadata": {},
   "outputs": [],
   "source": [
    "X_train =X_train.reset_index()\n",
    "X_test=X_test.reset_index()\n",
    "y_train=y_train.reset_index()\n",
    "y_test=y_test.reset_index()"
   ]
  },
  {
   "cell_type": "code",
   "execution_count": 9,
   "id": "96e36cda",
   "metadata": {},
   "outputs": [],
   "source": [
    "X_train.drop(['index','WC','person_id','question'],axis=True,inplace=True)\n",
    "X_test.drop(['index','WC','person_id','question'],axis=True,inplace=True)\n",
    "y_train.drop(['index'],axis=True,inplace=True)\n",
    "y_test.drop(['index'],axis=True,inplace=True)"
   ]
  },
  {
   "cell_type": "code",
   "execution_count": 10,
   "id": "d97c661c",
   "metadata": {},
   "outputs": [],
   "source": [
    "categorical_list = ['positive_assumption','negative_assumption','Gender_Male']\n",
    "numerical_list = list(X_train.columns)\n",
    "for i in range(len(categorical_list)):\n",
    "    numerical_list.remove(categorical_list[i])"
   ]
  },
  {
   "cell_type": "code",
   "execution_count": 59,
   "id": "974c55f5",
   "metadata": {},
   "outputs": [],
   "source": [
    "# categorical_list = []\n",
    "# numerical_list = []\n",
    "# for i in X_train.columns.tolist():\n",
    "#     if (X_train[i].dtype=='object') or (X_train[i].dtype=='bool'):\n",
    "#         categorical_list.append(i)\n",
    "#     else:\n",
    "#         numerical_list.append(i)\n",
    "# print('Number of categorical features:', str(len(categorical_list)))\n",
    "# print('Number of numerical features:', str(len(numerical_list)))"
   ]
  },
  {
   "cell_type": "code",
   "execution_count": 11,
   "id": "J9q8giftkS3R",
   "metadata": {
    "id": "J9q8giftkS3R"
   },
   "outputs": [],
   "source": [
    "X_test = X_test.reset_index()\n",
    "X_train = X_train.reset_index()"
   ]
  },
  {
   "cell_type": "code",
   "execution_count": 12,
   "id": "8f150240",
   "metadata": {},
   "outputs": [],
   "source": [
    "X_train.drop(['index'],inplace=True,axis=1)\n",
    "X_test.drop(['index'],inplace=True,axis=1)"
   ]
  },
  {
   "cell_type": "code",
   "execution_count": 62,
   "id": "30e3cdba",
   "metadata": {},
   "outputs": [],
   "source": [
    "# X_train.drop(['WC'],inplace=True,axis=1)\n",
    "# X_test.drop(['WC'],inplace=True,axis=1)"
   ]
  },
  {
   "cell_type": "code",
   "execution_count": 63,
   "id": "03e6962c",
   "metadata": {
    "id": "03e6962c"
   },
   "outputs": [],
   "source": [
    "# from sklearn.preprocessing import StandardScaler\n",
    "# col_transform =list(X_train.columns)\n",
    "# col_transform.remove('person_id')\n",
    "# col_transform.remove('question')\n",
    "# col_transform.remove('Gender_Male')\n",
    "# col_transform.remove('negative_assumption')\n",
    "# col_transform.remove('positive_assumption')\n",
    "\n",
    "# scale = StandardScaler().fit(X_train[col_transform])\n",
    "# X_train[col_transform] = pd.DataFrame(scale.transform(X_train[col_transform]),columns=col_transform)\n",
    "# X_test[col_transform] = pd.DataFrame(scale.transform(X_test[col_transform]),columns=col_transform)"
   ]
  },
  {
   "cell_type": "code",
   "execution_count": 13,
   "id": "d42304df",
   "metadata": {},
   "outputs": [],
   "source": [
    "from sklearn.preprocessing import OneHotEncoder, StandardScaler\n",
    "# Instantiate encoder/scaler\n",
    "scaler = StandardScaler()\n",
    "ohe    = OneHotEncoder(sparse=False,drop='if_binary')\n",
    "\n",
    "# Scale and Encode Separate Columns\n",
    "scaled_columns  = pd.DataFrame(scaler.fit_transform(X_train[numerical_list]), columns = X_train[numerical_list].columns)\n",
    "encoded_columns =    pd.DataFrame(ohe.fit_transform(X_train[categorical_list]), columns =ohe.get_feature_names(categorical_list))\n",
    "\n",
    "# Concatenate (Column-Bind) Processed Columns Back Together\n",
    "X_train = pd.concat([scaled_columns.reset_index(), encoded_columns.reset_index()], axis=1)\n",
    "X_train.drop(['index','index'], inplace=True,axis=1)"
   ]
  },
  {
   "cell_type": "code",
   "execution_count": 14,
   "id": "7e936a06",
   "metadata": {},
   "outputs": [],
   "source": [
    "scaled_columns  = pd.DataFrame(scaler.transform(X_test[numerical_list]), columns = X_test[numerical_list].columns)\n",
    "encoded_columns =    pd.DataFrame(ohe.transform(X_test[categorical_list]), columns =ohe.get_feature_names(categorical_list))\n",
    "\n",
    "# Concatenate (Column-Bind) Processed Columns Back Together\n",
    "X_test = pd.concat([scaled_columns.reset_index(), encoded_columns.reset_index()], axis=1)\n",
    "X_test.drop(['index','index'], inplace=True,axis=1)"
   ]
  },
  {
   "cell_type": "code",
   "execution_count": 15,
   "id": "L2PhhiaTe7iN",
   "metadata": {
    "id": "L2PhhiaTe7iN"
   },
   "outputs": [],
   "source": [
    "df_train = X_train.copy()\n",
    "df_train['y'] = y_train.values"
   ]
  },
  {
   "cell_type": "code",
   "execution_count": null,
   "id": "323dd930",
   "metadata": {},
   "outputs": [],
   "source": [
    "df_train.isna().sum().sum()"
   ]
  },
  {
   "cell_type": "markdown",
   "id": "212c615f",
   "metadata": {
    "id": "212c615f"
   },
   "source": [
    "## Feature selection"
   ]
  },
  {
   "cell_type": "markdown",
   "id": "16886033",
   "metadata": {
    "id": "16886033"
   },
   "source": [
    "### null importance"
   ]
  },
  {
   "cell_type": "code",
   "execution_count": 31,
   "id": "202b0e15",
   "metadata": {
    "id": "202b0e15"
   },
   "outputs": [],
   "source": [
    "# df_train = X_train.copy()\n",
    "# y_trai\n",
    "df_train['y'] = y_train.values"
   ]
  },
  {
   "cell_type": "code",
   "execution_count": 7,
   "id": "63743cc4",
   "metadata": {
    "id": "63743cc4"
   },
   "outputs": [],
   "source": [
    "from sklearn.metrics import roc_auc_score\n",
    "from sklearn.model_selection import KFold\n",
    "import time\n",
    "from lightgbm import LGBMClassifier\n",
    "import lightgbm as lgb\n",
    "\n",
    "import matplotlib.pyplot as plt\n",
    "import matplotlib.gridspec as gridspec\n",
    "import seaborn as sns\n",
    "%matplotlib inline\n",
    "\n",
    "import warnings\n",
    "warnings.simplefilter('ignore', UserWarning)\n",
    "\n",
    "import gc\n",
    "gc.enable()"
   ]
  },
  {
   "cell_type": "code",
   "execution_count": null,
   "id": "e86f182a",
   "metadata": {
    "id": "e86f182a"
   },
   "outputs": [],
   "source": [
    "data = df_train.copy()\n",
    "\n",
    "\n",
    "\n",
    "# categorical_feats = df_train.columns[[-1,-2,-3]]\n",
    "\n",
    "# print(categorical_feats)\n",
    "# for f_ in categorical_feats:\n",
    "#     data[f_], _ = pd.factorize(data[f_])\n",
    "#     # Set feature type as categorical\n",
    "#     data[f_] = data[f_].astype('category')"
   ]
  },
  {
   "cell_type": "code",
   "execution_count": null,
   "id": "4c3018f9",
   "metadata": {
    "id": "4c3018f9",
    "outputId": "5bbea429-51a9-410a-8b4a-17c7a60a8288"
   },
   "outputs": [
    {
     "data": {
      "text/html": [
       "<div>\n",
       "<style scoped>\n",
       "    .dataframe tbody tr th:only-of-type {\n",
       "        vertical-align: middle;\n",
       "    }\n",
       "\n",
       "    .dataframe tbody tr th {\n",
       "        vertical-align: top;\n",
       "    }\n",
       "\n",
       "    .dataframe thead th {\n",
       "        text-align: right;\n",
       "    }\n",
       "</style>\n",
       "<table border=\"1\" class=\"dataframe\">\n",
       "  <thead>\n",
       "    <tr style=\"text-align: right;\">\n",
       "      <th></th>\n",
       "      <th>timestamp</th>\n",
       "      <th>confidence</th>\n",
       "      <th>gaze_0_x</th>\n",
       "      <th>gaze_0_y</th>\n",
       "      <th>gaze_0_z</th>\n",
       "      <th>gaze_1_x</th>\n",
       "      <th>gaze_1_y</th>\n",
       "      <th>gaze_1_z</th>\n",
       "      <th>gaze_angle_x</th>\n",
       "      <th>gaze_angle_y</th>\n",
       "      <th>...</th>\n",
       "      <th>AU26_c</th>\n",
       "      <th>AU28_c</th>\n",
       "      <th>AU45_c</th>\n",
       "      <th>question</th>\n",
       "      <th>person_id</th>\n",
       "      <th>WC</th>\n",
       "      <th>OtherP</th>\n",
       "      <th>y</th>\n",
       "      <th>positive_assumption</th>\n",
       "      <th>negative_assumption</th>\n",
       "    </tr>\n",
       "  </thead>\n",
       "  <tbody>\n",
       "    <tr>\n",
       "      <th>6415</th>\n",
       "      <td>0.000000</td>\n",
       "      <td>0.98</td>\n",
       "      <td>0.326309</td>\n",
       "      <td>0.274022</td>\n",
       "      <td>-0.904674</td>\n",
       "      <td>0.158873</td>\n",
       "      <td>0.243419</td>\n",
       "      <td>-0.956821</td>\n",
       "      <td>0.255</td>\n",
       "      <td>0.271</td>\n",
       "      <td>...</td>\n",
       "      <td>0</td>\n",
       "      <td>0</td>\n",
       "      <td>0</td>\n",
       "      <td>1</td>\n",
       "      <td>28</td>\n",
       "      <td>119</td>\n",
       "      <td>0.0</td>\n",
       "      <td>0</td>\n",
       "      <td>0</td>\n",
       "      <td>0</td>\n",
       "    </tr>\n",
       "    <tr>\n",
       "      <th>6416</th>\n",
       "      <td>0.040000</td>\n",
       "      <td>0.98</td>\n",
       "      <td>0.336460</td>\n",
       "      <td>0.274016</td>\n",
       "      <td>-0.900949</td>\n",
       "      <td>0.161493</td>\n",
       "      <td>0.241291</td>\n",
       "      <td>-0.956922</td>\n",
       "      <td>0.262</td>\n",
       "      <td>0.271</td>\n",
       "      <td>...</td>\n",
       "      <td>0</td>\n",
       "      <td>0</td>\n",
       "      <td>0</td>\n",
       "      <td>1</td>\n",
       "      <td>28</td>\n",
       "      <td>119</td>\n",
       "      <td>0.0</td>\n",
       "      <td>0</td>\n",
       "      <td>0</td>\n",
       "      <td>0</td>\n",
       "    </tr>\n",
       "    <tr>\n",
       "      <th>6417</th>\n",
       "      <td>0.080000</td>\n",
       "      <td>0.98</td>\n",
       "      <td>0.341593</td>\n",
       "      <td>0.269892</td>\n",
       "      <td>-0.900263</td>\n",
       "      <td>0.166425</td>\n",
       "      <td>0.237461</td>\n",
       "      <td>-0.957035</td>\n",
       "      <td>0.267</td>\n",
       "      <td>0.267</td>\n",
       "      <td>...</td>\n",
       "      <td>0</td>\n",
       "      <td>0</td>\n",
       "      <td>0</td>\n",
       "      <td>1</td>\n",
       "      <td>28</td>\n",
       "      <td>119</td>\n",
       "      <td>0.0</td>\n",
       "      <td>0</td>\n",
       "      <td>0</td>\n",
       "      <td>0</td>\n",
       "    </tr>\n",
       "    <tr>\n",
       "      <th>6418</th>\n",
       "      <td>0.120000</td>\n",
       "      <td>0.98</td>\n",
       "      <td>0.341751</td>\n",
       "      <td>0.269591</td>\n",
       "      <td>-0.900292</td>\n",
       "      <td>0.166547</td>\n",
       "      <td>0.237231</td>\n",
       "      <td>-0.957070</td>\n",
       "      <td>0.267</td>\n",
       "      <td>0.266</td>\n",
       "      <td>...</td>\n",
       "      <td>0</td>\n",
       "      <td>0</td>\n",
       "      <td>0</td>\n",
       "      <td>1</td>\n",
       "      <td>28</td>\n",
       "      <td>119</td>\n",
       "      <td>0.0</td>\n",
       "      <td>0</td>\n",
       "      <td>0</td>\n",
       "      <td>0</td>\n",
       "    </tr>\n",
       "    <tr>\n",
       "      <th>6419</th>\n",
       "      <td>0.160000</td>\n",
       "      <td>0.98</td>\n",
       "      <td>0.341803</td>\n",
       "      <td>0.269438</td>\n",
       "      <td>-0.900319</td>\n",
       "      <td>0.166416</td>\n",
       "      <td>0.237016</td>\n",
       "      <td>-0.957146</td>\n",
       "      <td>0.267</td>\n",
       "      <td>0.266</td>\n",
       "      <td>...</td>\n",
       "      <td>0</td>\n",
       "      <td>0</td>\n",
       "      <td>0</td>\n",
       "      <td>1</td>\n",
       "      <td>28</td>\n",
       "      <td>119</td>\n",
       "      <td>0.0</td>\n",
       "      <td>0</td>\n",
       "      <td>0</td>\n",
       "      <td>0</td>\n",
       "    </tr>\n",
       "    <tr>\n",
       "      <th>...</th>\n",
       "      <td>...</td>\n",
       "      <td>...</td>\n",
       "      <td>...</td>\n",
       "      <td>...</td>\n",
       "      <td>...</td>\n",
       "      <td>...</td>\n",
       "      <td>...</td>\n",
       "      <td>...</td>\n",
       "      <td>...</td>\n",
       "      <td>...</td>\n",
       "      <td>...</td>\n",
       "      <td>...</td>\n",
       "      <td>...</td>\n",
       "      <td>...</td>\n",
       "      <td>...</td>\n",
       "      <td>...</td>\n",
       "      <td>...</td>\n",
       "      <td>...</td>\n",
       "      <td>...</td>\n",
       "      <td>...</td>\n",
       "      <td>...</td>\n",
       "    </tr>\n",
       "    <tr>\n",
       "      <th>860059</th>\n",
       "      <td>44.320000</td>\n",
       "      <td>0.98</td>\n",
       "      <td>0.191839</td>\n",
       "      <td>0.410695</td>\n",
       "      <td>-0.891362</td>\n",
       "      <td>0.040223</td>\n",
       "      <td>0.424845</td>\n",
       "      <td>-0.904372</td>\n",
       "      <td>0.129</td>\n",
       "      <td>0.435</td>\n",
       "      <td>...</td>\n",
       "      <td>1</td>\n",
       "      <td>0</td>\n",
       "      <td>0</td>\n",
       "      <td>24</td>\n",
       "      <td>24</td>\n",
       "      <td>100</td>\n",
       "      <td>0.0</td>\n",
       "      <td>1</td>\n",
       "      <td>0</td>\n",
       "      <td>0</td>\n",
       "    </tr>\n",
       "    <tr>\n",
       "      <th>860060</th>\n",
       "      <td>44.360001</td>\n",
       "      <td>0.98</td>\n",
       "      <td>0.189389</td>\n",
       "      <td>0.405606</td>\n",
       "      <td>-0.894212</td>\n",
       "      <td>0.039152</td>\n",
       "      <td>0.419084</td>\n",
       "      <td>-0.907103</td>\n",
       "      <td>0.126</td>\n",
       "      <td>0.429</td>\n",
       "      <td>...</td>\n",
       "      <td>1</td>\n",
       "      <td>0</td>\n",
       "      <td>0</td>\n",
       "      <td>24</td>\n",
       "      <td>24</td>\n",
       "      <td>100</td>\n",
       "      <td>0.0</td>\n",
       "      <td>1</td>\n",
       "      <td>0</td>\n",
       "      <td>0</td>\n",
       "    </tr>\n",
       "    <tr>\n",
       "      <th>860061</th>\n",
       "      <td>44.400002</td>\n",
       "      <td>0.98</td>\n",
       "      <td>0.187418</td>\n",
       "      <td>0.443895</td>\n",
       "      <td>-0.876260</td>\n",
       "      <td>0.030524</td>\n",
       "      <td>0.459217</td>\n",
       "      <td>-0.887799</td>\n",
       "      <td>0.123</td>\n",
       "      <td>0.473</td>\n",
       "      <td>...</td>\n",
       "      <td>0</td>\n",
       "      <td>0</td>\n",
       "      <td>0</td>\n",
       "      <td>24</td>\n",
       "      <td>24</td>\n",
       "      <td>100</td>\n",
       "      <td>0.0</td>\n",
       "      <td>1</td>\n",
       "      <td>0</td>\n",
       "      <td>0</td>\n",
       "    </tr>\n",
       "    <tr>\n",
       "      <th>860062</th>\n",
       "      <td>44.439999</td>\n",
       "      <td>0.93</td>\n",
       "      <td>0.186500</td>\n",
       "      <td>0.458894</td>\n",
       "      <td>-0.868697</td>\n",
       "      <td>0.029780</td>\n",
       "      <td>0.475174</td>\n",
       "      <td>-0.879388</td>\n",
       "      <td>0.123</td>\n",
       "      <td>0.491</td>\n",
       "      <td>...</td>\n",
       "      <td>0</td>\n",
       "      <td>0</td>\n",
       "      <td>0</td>\n",
       "      <td>24</td>\n",
       "      <td>24</td>\n",
       "      <td>100</td>\n",
       "      <td>0.0</td>\n",
       "      <td>1</td>\n",
       "      <td>0</td>\n",
       "      <td>0</td>\n",
       "    </tr>\n",
       "    <tr>\n",
       "      <th>860063</th>\n",
       "      <td>44.480000</td>\n",
       "      <td>0.98</td>\n",
       "      <td>0.185974</td>\n",
       "      <td>0.464983</td>\n",
       "      <td>-0.865566</td>\n",
       "      <td>0.025003</td>\n",
       "      <td>0.481289</td>\n",
       "      <td>-0.876205</td>\n",
       "      <td>0.121</td>\n",
       "      <td>0.498</td>\n",
       "      <td>...</td>\n",
       "      <td>0</td>\n",
       "      <td>0</td>\n",
       "      <td>0</td>\n",
       "      <td>24</td>\n",
       "      <td>24</td>\n",
       "      <td>100</td>\n",
       "      <td>0.0</td>\n",
       "      <td>1</td>\n",
       "      <td>0</td>\n",
       "      <td>0</td>\n",
       "    </tr>\n",
       "  </tbody>\n",
       "</table>\n",
       "<p>787477 rows × 718 columns</p>\n",
       "</div>"
      ],
      "text/plain": [
       "        timestamp  confidence  gaze_0_x  gaze_0_y  gaze_0_z  gaze_1_x  \\\n",
       "6415     0.000000        0.98  0.326309  0.274022 -0.904674  0.158873   \n",
       "6416     0.040000        0.98  0.336460  0.274016 -0.900949  0.161493   \n",
       "6417     0.080000        0.98  0.341593  0.269892 -0.900263  0.166425   \n",
       "6418     0.120000        0.98  0.341751  0.269591 -0.900292  0.166547   \n",
       "6419     0.160000        0.98  0.341803  0.269438 -0.900319  0.166416   \n",
       "...           ...         ...       ...       ...       ...       ...   \n",
       "860059  44.320000        0.98  0.191839  0.410695 -0.891362  0.040223   \n",
       "860060  44.360001        0.98  0.189389  0.405606 -0.894212  0.039152   \n",
       "860061  44.400002        0.98  0.187418  0.443895 -0.876260  0.030524   \n",
       "860062  44.439999        0.93  0.186500  0.458894 -0.868697  0.029780   \n",
       "860063  44.480000        0.98  0.185974  0.464983 -0.865566  0.025003   \n",
       "\n",
       "        gaze_1_y  gaze_1_z  gaze_angle_x  gaze_angle_y  ...  AU26_c  AU28_c  \\\n",
       "6415    0.243419 -0.956821         0.255         0.271  ...       0       0   \n",
       "6416    0.241291 -0.956922         0.262         0.271  ...       0       0   \n",
       "6417    0.237461 -0.957035         0.267         0.267  ...       0       0   \n",
       "6418    0.237231 -0.957070         0.267         0.266  ...       0       0   \n",
       "6419    0.237016 -0.957146         0.267         0.266  ...       0       0   \n",
       "...          ...       ...           ...           ...  ...     ...     ...   \n",
       "860059  0.424845 -0.904372         0.129         0.435  ...       1       0   \n",
       "860060  0.419084 -0.907103         0.126         0.429  ...       1       0   \n",
       "860061  0.459217 -0.887799         0.123         0.473  ...       0       0   \n",
       "860062  0.475174 -0.879388         0.123         0.491  ...       0       0   \n",
       "860063  0.481289 -0.876205         0.121         0.498  ...       0       0   \n",
       "\n",
       "        AU45_c  question  person_id   WC  OtherP  y  positive_assumption  \\\n",
       "6415         0         1         28  119     0.0  0                    0   \n",
       "6416         0         1         28  119     0.0  0                    0   \n",
       "6417         0         1         28  119     0.0  0                    0   \n",
       "6418         0         1         28  119     0.0  0                    0   \n",
       "6419         0         1         28  119     0.0  0                    0   \n",
       "...        ...       ...        ...  ...     ... ..                  ...   \n",
       "860059       0        24         24  100     0.0  1                    0   \n",
       "860060       0        24         24  100     0.0  1                    0   \n",
       "860061       0        24         24  100     0.0  1                    0   \n",
       "860062       0        24         24  100     0.0  1                    0   \n",
       "860063       0        24         24  100     0.0  1                    0   \n",
       "\n",
       "        negative_assumption  \n",
       "6415                      0  \n",
       "6416                      0  \n",
       "6417                      0  \n",
       "6418                      0  \n",
       "6419                      0  \n",
       "...                     ...  \n",
       "860059                    0  \n",
       "860060                    0  \n",
       "860061                    0  \n",
       "860062                    0  \n",
       "860063                    0  \n",
       "\n",
       "[787477 rows x 718 columns]"
      ]
     },
     "execution_count": 16,
     "metadata": {
      "tags": []
     },
     "output_type": "execute_result"
    }
   ],
   "source": [
    "data"
   ]
  },
  {
   "cell_type": "code",
   "execution_count": null,
   "id": "c5c1b468",
   "metadata": {
    "id": "c5c1b468"
   },
   "outputs": [],
   "source": [
    "def get_feature_importances(data, shuffle, seed=None):\n",
    "    # Gather real features\n",
    "    train_features = [f for f in data if f not in ['y', 'question','WC','positive_assumption','negative_assumption']]\n",
    "    # Go over fold and keep track of CV score (train and valid) and feature importances\n",
    "    \n",
    "    # Shuffle target if required\n",
    "    y = data['y'].copy()\n",
    "    if shuffle:\n",
    "        # Here you could as well use a binomial distribution\n",
    "        y = data['y'].copy().sample(frac=1.0)\n",
    "    \n",
    "    # Fit LightGBM in RF mode, yes it's quicker than sklearn RandomForest\n",
    "    dtrain = lgb.Dataset(data[train_features], y, free_raw_data=False, silent=True)\n",
    "    lgb_params = {\n",
    "        'objective': 'binary',\n",
    "        'boosting_type': 'rf',\n",
    "        'subsample': 0.623,\n",
    "        'colsample_bytree': 0.7,\n",
    "        'num_leaves': 127,\n",
    "        'max_depth': 8,\n",
    "        'seed': seed,\n",
    "        'bagging_freq': 1,\n",
    "        'n_jobs': 4\n",
    "    }\n",
    "    \n",
    "    # Fit the model\n",
    "    clf = lgb.train(params=lgb_params, train_set=dtrain, num_boost_round=200)\n",
    "\n",
    "    # Get feature importances\n",
    "    imp_df = pd.DataFrame()\n",
    "    imp_df[\"feature\"] = list(train_features)\n",
    "    imp_df[\"importance_gain\"] = clf.feature_importance(importance_type='gain')\n",
    "    imp_df[\"importance_split\"] = clf.feature_importance(importance_type='split')\n",
    "    imp_df['trn_score'] = roc_auc_score(y, clf.predict(data[train_features]))\n",
    "    \n",
    "    return imp_df"
   ]
  },
  {
   "cell_type": "code",
   "execution_count": null,
   "id": "f719051b",
   "metadata": {
    "id": "f719051b",
    "outputId": "6c6881d4-9139-42fe-fd92-a20720302d8e"
   },
   "outputs": [
    {
     "name": "stdout",
     "output_type": "stream",
     "text": [
      "[LightGBM] [Info] Number of positive: 421357, number of negative: 366120\n",
      "[LightGBM] [Warning] Auto-choosing col-wise multi-threading, the overhead of testing was 2.064860 seconds.\n",
      "You can set `force_col_wise=true` to remove the overhead.\n",
      "[LightGBM] [Info] Total Bins 176490\n",
      "[LightGBM] [Info] Number of data points in the train set: 787477, number of used features: 713\n",
      "[LightGBM] [Info] [binary:BoostFromScore]: pavg=0.535072 -> initscore=0.140519\n",
      "[LightGBM] [Info] Start training from score 0.140519\n",
      "[LightGBM] [Warning] No further splits with positive gain, best gain: -inf\n",
      "[LightGBM] [Warning] No further splits with positive gain, best gain: -inf\n",
      "[LightGBM] [Warning] No further splits with positive gain, best gain: -inf\n",
      "[LightGBM] [Warning] No further splits with positive gain, best gain: -inf\n",
      "[LightGBM] [Warning] No further splits with positive gain, best gain: -inf\n",
      "[LightGBM] [Warning] No further splits with positive gain, best gain: -inf\n",
      "[LightGBM] [Warning] No further splits with positive gain, best gain: -inf\n",
      "[LightGBM] [Warning] No further splits with positive gain, best gain: -inf\n",
      "[LightGBM] [Warning] No further splits with positive gain, best gain: -inf\n",
      "[LightGBM] [Warning] No further splits with positive gain, best gain: -inf\n",
      "[LightGBM] [Warning] No further splits with positive gain, best gain: -inf\n",
      "[LightGBM] [Warning] No further splits with positive gain, best gain: -inf\n",
      "[LightGBM] [Warning] No further splits with positive gain, best gain: -inf\n",
      "[LightGBM] [Warning] No further splits with positive gain, best gain: -inf\n",
      "[LightGBM] [Warning] No further splits with positive gain, best gain: -inf\n",
      "[LightGBM] [Warning] No further splits with positive gain, best gain: -inf\n",
      "[LightGBM] [Warning] No further splits with positive gain, best gain: -inf\n",
      "[LightGBM] [Warning] No further splits with positive gain, best gain: -inf\n",
      "[LightGBM] [Warning] No further splits with positive gain, best gain: -inf\n",
      "[LightGBM] [Warning] No further splits with positive gain, best gain: -inf\n",
      "[LightGBM] [Warning] No further splits with positive gain, best gain: -inf\n",
      "[LightGBM] [Warning] No further splits with positive gain, best gain: -inf\n",
      "[LightGBM] [Warning] No further splits with positive gain, best gain: -inf\n",
      "[LightGBM] [Warning] No further splits with positive gain, best gain: -inf\n",
      "[LightGBM] [Warning] No further splits with positive gain, best gain: -inf\n",
      "[LightGBM] [Warning] No further splits with positive gain, best gain: -inf\n",
      "[LightGBM] [Warning] No further splits with positive gain, best gain: -inf\n",
      "[LightGBM] [Warning] No further splits with positive gain, best gain: -inf\n",
      "[LightGBM] [Warning] No further splits with positive gain, best gain: -inf\n",
      "[LightGBM] [Warning] No further splits with positive gain, best gain: -inf\n",
      "[LightGBM] [Warning] No further splits with positive gain, best gain: -inf\n",
      "[LightGBM] [Warning] No further splits with positive gain, best gain: -inf\n",
      "[LightGBM] [Warning] No further splits with positive gain, best gain: -inf\n",
      "[LightGBM] [Warning] No further splits with positive gain, best gain: -inf\n",
      "[LightGBM] [Warning] No further splits with positive gain, best gain: -inf\n",
      "[LightGBM] [Warning] No further splits with positive gain, best gain: -inf\n",
      "[LightGBM] [Warning] No further splits with positive gain, best gain: -inf\n",
      "[LightGBM] [Warning] No further splits with positive gain, best gain: -inf\n",
      "[LightGBM] [Warning] No further splits with positive gain, best gain: -inf\n",
      "[LightGBM] [Warning] No further splits with positive gain, best gain: -inf\n",
      "[LightGBM] [Warning] No further splits with positive gain, best gain: -inf\n",
      "[LightGBM] [Warning] No further splits with positive gain, best gain: -inf\n",
      "[LightGBM] [Warning] No further splits with positive gain, best gain: -inf\n",
      "[LightGBM] [Warning] No further splits with positive gain, best gain: -inf\n",
      "[LightGBM] [Warning] No further splits with positive gain, best gain: -inf\n",
      "[LightGBM] [Warning] No further splits with positive gain, best gain: -inf\n",
      "[LightGBM] [Warning] No further splits with positive gain, best gain: -inf\n",
      "[LightGBM] [Warning] No further splits with positive gain, best gain: -inf\n",
      "[LightGBM] [Warning] No further splits with positive gain, best gain: -inf\n",
      "[LightGBM] [Warning] No further splits with positive gain, best gain: -inf\n",
      "[LightGBM] [Warning] No further splits with positive gain, best gain: -inf\n",
      "[LightGBM] [Warning] No further splits with positive gain, best gain: -inf\n",
      "[LightGBM] [Warning] No further splits with positive gain, best gain: -inf\n",
      "[LightGBM] [Warning] No further splits with positive gain, best gain: -inf\n",
      "[LightGBM] [Warning] No further splits with positive gain, best gain: -inf\n",
      "[LightGBM] [Warning] No further splits with positive gain, best gain: -inf\n",
      "[LightGBM] [Warning] No further splits with positive gain, best gain: -inf\n",
      "[LightGBM] [Warning] No further splits with positive gain, best gain: -inf\n",
      "[LightGBM] [Warning] No further splits with positive gain, best gain: -inf\n",
      "[LightGBM] [Warning] No further splits with positive gain, best gain: -inf\n",
      "[LightGBM] [Warning] No further splits with positive gain, best gain: -inf\n",
      "[LightGBM] [Warning] No further splits with positive gain, best gain: -inf\n",
      "[LightGBM] [Warning] No further splits with positive gain, best gain: -inf\n",
      "[LightGBM] [Warning] No further splits with positive gain, best gain: -inf\n",
      "[LightGBM] [Warning] No further splits with positive gain, best gain: -inf\n",
      "[LightGBM] [Warning] No further splits with positive gain, best gain: -inf\n",
      "[LightGBM] [Warning] No further splits with positive gain, best gain: -inf\n",
      "[LightGBM] [Warning] No further splits with positive gain, best gain: -inf\n",
      "[LightGBM] [Warning] No further splits with positive gain, best gain: -inf\n",
      "[LightGBM] [Warning] No further splits with positive gain, best gain: -inf\n",
      "[LightGBM] [Warning] No further splits with positive gain, best gain: -inf\n",
      "[LightGBM] [Warning] No further splits with positive gain, best gain: -inf\n",
      "[LightGBM] [Warning] No further splits with positive gain, best gain: -inf\n",
      "[LightGBM] [Warning] No further splits with positive gain, best gain: -inf\n",
      "[LightGBM] [Warning] No further splits with positive gain, best gain: -inf\n",
      "[LightGBM] [Warning] No further splits with positive gain, best gain: -inf\n",
      "[LightGBM] [Warning] No further splits with positive gain, best gain: -inf\n",
      "[LightGBM] [Warning] No further splits with positive gain, best gain: -inf\n"
     ]
    }
   ],
   "source": [
    "np.random.seed(123)\n",
    "# Get the actual importance, i.e. without shuffling\n",
    "actual_imp_df = get_feature_importances(data=data, shuffle=False)"
   ]
  },
  {
   "cell_type": "code",
   "execution_count": null,
   "id": "93c53da0",
   "metadata": {
    "id": "93c53da0",
    "outputId": "ef8ccbd0-4e1b-41a6-e718-07d1c3db4a06"
   },
   "outputs": [
    {
     "data": {
      "text/plain": [
       "array([0.72580373])"
      ]
     },
     "execution_count": 30,
     "metadata": {
      "tags": []
     },
     "output_type": "execute_result"
    }
   ],
   "source": [
    "actual_imp_df.trn_score.unique()"
   ]
  },
  {
   "cell_type": "code",
   "execution_count": null,
   "id": "9c4becfe",
   "metadata": {
    "id": "9c4becfe",
    "outputId": "cd7e92ec-407b-4d72-f879-0bef5d28963e"
   },
   "outputs": [
    {
     "name": "stdout",
     "output_type": "stream",
     "text": [
      "[LightGBM] [Info] Number of positive: 421357, number of negative: 366120\n",
      "[LightGBM] [Warning] Auto-choosing col-wise multi-threading, the overhead of testing was 2.049123 seconds.\n",
      "You can set `force_col_wise=true` to remove the overhead.\n",
      "[LightGBM] [Info] Total Bins 176490\n",
      "[LightGBM] [Info] Number of data points in the train set: 787477, number of used features: 713\n",
      "[LightGBM] [Info] [binary:BoostFromScore]: pavg=0.535072 -> initscore=0.140519\n",
      "[LightGBM] [Info] Start training from score 0.140519\n",
      "[LightGBM] [Warning] No further splits with positive gain, best gain: -inf\n",
      "[LightGBM] [Warning] No further splits with positive gain, best gain: -inf\n",
      "[LightGBM] [Warning] No further splits with positive gain, best gain: -inf\n",
      "[LightGBM] [Warning] No further splits with positive gain, best gain: -inf\n",
      "[LightGBM] [Warning] No further splits with positive gain, best gain: -inf\n",
      "[LightGBM] [Warning] No further splits with positive gain, best gain: -inf\n",
      "[LightGBM] [Warning] No further splits with positive gain, best gain: -inf\n",
      "[LightGBM] [Warning] No further splits with positive gain, best gain: -inf\n",
      "[LightGBM] [Warning] No further splits with positive gain, best gain: -inf\n",
      "[LightGBM] [Warning] No further splits with positive gain, best gain: -inf\n",
      "[LightGBM] [Warning] No further splits with positive gain, best gain: -inf\n",
      "[LightGBM] [Warning] No further splits with positive gain, best gain: -inf\n",
      "[LightGBM] [Warning] No further splits with positive gain, best gain: -inf\n",
      "[LightGBM] [Warning] No further splits with positive gain, best gain: -inf\n",
      "[LightGBM] [Warning] No further splits with positive gain, best gain: -inf\n",
      "[LightGBM] [Warning] No further splits with positive gain, best gain: -inf\n",
      "[LightGBM] [Warning] No further splits with positive gain, best gain: -inf\n",
      "[LightGBM] [Warning] No further splits with positive gain, best gain: -inf\n",
      "[LightGBM] [Warning] No further splits with positive gain, best gain: -inf\n",
      "[LightGBM] [Warning] No further splits with positive gain, best gain: -inf\n",
      "[LightGBM] [Warning] No further splits with positive gain, best gain: -inf\n",
      "[LightGBM] [Warning] No further splits with positive gain, best gain: -inf\n",
      "[LightGBM] [Warning] No further splits with positive gain, best gain: -inf\n",
      "[LightGBM] [Warning] No further splits with positive gain, best gain: -inf\n",
      "[LightGBM] [Warning] No further splits with positive gain, best gain: -inf\n",
      "[LightGBM] [Warning] No further splits with positive gain, best gain: -inf\n",
      "[LightGBM] [Warning] No further splits with positive gain, best gain: -inf\n",
      "[LightGBM] [Warning] No further splits with positive gain, best gain: -inf\n",
      "[LightGBM] [Warning] No further splits with positive gain, best gain: -inf\n",
      "[LightGBM] [Warning] No further splits with positive gain, best gain: -inf\n",
      "[LightGBM] [Warning] No further splits with positive gain, best gain: -inf\n",
      "[LightGBM] [Warning] No further splits with positive gain, best gain: -inf\n",
      "[LightGBM] [Warning] No further splits with positive gain, best gain: -inf\n",
      "[LightGBM] [Warning] No further splits with positive gain, best gain: -inf\n",
      "[LightGBM] [Warning] No further splits with positive gain, best gain: -inf\n",
      "[LightGBM] [Warning] No further splits with positive gain, best gain: -inf\n",
      "[LightGBM] [Warning] No further splits with positive gain, best gain: -inf\n",
      "[LightGBM] [Warning] No further splits with positive gain, best gain: -inf\n",
      "[LightGBM] [Warning] No further splits with positive gain, best gain: -inf\n",
      "[LightGBM] [Warning] No further splits with positive gain, best gain: -inf\n",
      "[LightGBM] [Warning] No further splits with positive gain, best gain: -inf\n",
      "[LightGBM] [Warning] No further splits with positive gain, best gain: -inf\n",
      "[LightGBM] [Warning] No further splits with positive gain, best gain: -inf\n",
      "[LightGBM] [Warning] No further splits with positive gain, best gain: -inf\n",
      "[LightGBM] [Warning] No further splits with positive gain, best gain: -inf\n",
      "[LightGBM] [Warning] No further splits with positive gain, best gain: -inf\n",
      "[LightGBM] [Warning] No further splits with positive gain, best gain: -inf\n",
      "[LightGBM] [Warning] No further splits with positive gain, best gain: -inf\n",
      "[LightGBM] [Warning] No further splits with positive gain, best gain: -inf\n",
      "[LightGBM] [Warning] No further splits with positive gain, best gain: -inf\n",
      "[LightGBM] [Warning] No further splits with positive gain, best gain: -inf\n",
      "[LightGBM] [Warning] No further splits with positive gain, best gain: -inf\n",
      "[LightGBM] [Warning] No further splits with positive gain, best gain: -inf\n",
      "[LightGBM] [Warning] No further splits with positive gain, best gain: -inf\n",
      "[LightGBM] [Warning] No further splits with positive gain, best gain: -inf\n",
      "[LightGBM] [Warning] No further splits with positive gain, best gain: -inf\n",
      "[LightGBM] [Warning] No further splits with positive gain, best gain: -inf\n",
      "[LightGBM] [Warning] No further splits with positive gain, best gain: -inf\n",
      "[LightGBM] [Warning] No further splits with positive gain, best gain: -inf\n",
      "[LightGBM] [Warning] No further splits with positive gain, best gain: -inf\n",
      "[LightGBM] [Warning] No further splits with positive gain, best gain: -inf\n",
      "[LightGBM] [Warning] No further splits with positive gain, best gain: -inf\n",
      "[LightGBM] [Warning] No further splits with positive gain, best gain: -inf\n",
      "[LightGBM] [Warning] No further splits with positive gain, best gain: -inf\n",
      "[LightGBM] [Warning] No further splits with positive gain, best gain: -inf\n",
      "[LightGBM] [Warning] No further splits with positive gain, best gain: -inf\n",
      "[LightGBM] [Warning] No further splits with positive gain, best gain: -inf\n",
      "[LightGBM] [Warning] No further splits with positive gain, best gain: -inf\n",
      "[LightGBM] [Warning] No further splits with positive gain, best gain: -inf\n",
      "[LightGBM] [Warning] No further splits with positive gain, best gain: -inf\n",
      "[LightGBM] [Warning] No further splits with positive gain, best gain: -inf\n",
      "[LightGBM] [Warning] No further splits with positive gain, best gain: -inf\n",
      "[LightGBM] [Warning] No further splits with positive gain, best gain: -inf\n",
      "[LightGBM] [Warning] No further splits with positive gain, best gain: -inf\n",
      "[LightGBM] [Warning] No further splits with positive gain, best gain: -inf\n",
      "[LightGBM] [Warning] No further splits with positive gain, best gain: -inf\n",
      "Done with    1 of   80 (Spent   1.4 min)[LightGBM] [Info] Number of positive: 421357, number of negative: 366120\n",
      "[LightGBM] [Warning] Auto-choosing col-wise multi-threading, the overhead of testing was 2.087780 seconds.\n",
      "You can set `force_col_wise=true` to remove the overhead.\n",
      "[LightGBM] [Info] Total Bins 176490\n",
      "[LightGBM] [Info] Number of data points in the train set: 787477, number of used features: 713\n",
      "[LightGBM] [Info] [binary:BoostFromScore]: pavg=0.535072 -> initscore=0.140519\n",
      "[LightGBM] [Info] Start training from score 0.140519\n",
      "[LightGBM] [Warning] No further splits with positive gain, best gain: -inf\n",
      "[LightGBM] [Warning] No further splits with positive gain, best gain: -inf\n",
      "[LightGBM] [Warning] No further splits with positive gain, best gain: -inf\n",
      "[LightGBM] [Warning] No further splits with positive gain, best gain: -inf\n",
      "[LightGBM] [Warning] No further splits with positive gain, best gain: -inf\n",
      "[LightGBM] [Warning] No further splits with positive gain, best gain: -inf\n",
      "[LightGBM] [Warning] No further splits with positive gain, best gain: -inf\n",
      "[LightGBM] [Warning] No further splits with positive gain, best gain: -inf\n",
      "[LightGBM] [Warning] No further splits with positive gain, best gain: -inf\n",
      "[LightGBM] [Warning] No further splits with positive gain, best gain: -inf\n",
      "[LightGBM] [Warning] No further splits with positive gain, best gain: -inf\n",
      "[LightGBM] [Warning] No further splits with positive gain, best gain: -inf\n",
      "[LightGBM] [Warning] No further splits with positive gain, best gain: -inf\n",
      "[LightGBM] [Warning] No further splits with positive gain, best gain: -inf\n",
      "[LightGBM] [Warning] No further splits with positive gain, best gain: -inf\n",
      "[LightGBM] [Warning] No further splits with positive gain, best gain: -inf\n",
      "[LightGBM] [Warning] No further splits with positive gain, best gain: -inf\n",
      "[LightGBM] [Warning] No further splits with positive gain, best gain: -inf\n",
      "[LightGBM] [Warning] No further splits with positive gain, best gain: -inf\n",
      "[LightGBM] [Warning] No further splits with positive gain, best gain: -inf\n",
      "[LightGBM] [Warning] No further splits with positive gain, best gain: -inf\n",
      "[LightGBM] [Warning] No further splits with positive gain, best gain: -inf\n",
      "[LightGBM] [Warning] No further splits with positive gain, best gain: -inf\n",
      "[LightGBM] [Warning] No further splits with positive gain, best gain: -inf\n",
      "[LightGBM] [Warning] No further splits with positive gain, best gain: -inf\n",
      "[LightGBM] [Warning] No further splits with positive gain, best gain: -inf\n",
      "[LightGBM] [Warning] No further splits with positive gain, best gain: -inf\n",
      "[LightGBM] [Warning] No further splits with positive gain, best gain: -inf\n",
      "[LightGBM] [Warning] No further splits with positive gain, best gain: -inf\n",
      "[LightGBM] [Warning] No further splits with positive gain, best gain: -inf\n",
      "[LightGBM] [Warning] No further splits with positive gain, best gain: -inf\n",
      "[LightGBM] [Warning] No further splits with positive gain, best gain: -inf\n",
      "[LightGBM] [Warning] No further splits with positive gain, best gain: -inf\n",
      "[LightGBM] [Warning] No further splits with positive gain, best gain: -inf\n",
      "[LightGBM] [Warning] No further splits with positive gain, best gain: -inf\n",
      "[LightGBM] [Warning] No further splits with positive gain, best gain: -inf\n",
      "[LightGBM] [Warning] No further splits with positive gain, best gain: -inf\n",
      "[LightGBM] [Warning] No further splits with positive gain, best gain: -inf\n",
      "[LightGBM] [Warning] No further splits with positive gain, best gain: -inf\n",
      "[LightGBM] [Warning] No further splits with positive gain, best gain: -inf\n",
      "[LightGBM] [Warning] No further splits with positive gain, best gain: -inf\n",
      "[LightGBM] [Warning] No further splits with positive gain, best gain: -inf\n",
      "[LightGBM] [Warning] No further splits with positive gain, best gain: -inf\n",
      "[LightGBM] [Warning] No further splits with positive gain, best gain: -inf\n",
      "[LightGBM] [Warning] No further splits with positive gain, best gain: -inf\n",
      "[LightGBM] [Warning] No further splits with positive gain, best gain: -inf\n",
      "[LightGBM] [Warning] No further splits with positive gain, best gain: -inf\n",
      "[LightGBM] [Warning] No further splits with positive gain, best gain: -inf\n",
      "[LightGBM] [Warning] No further splits with positive gain, best gain: -inf\n",
      "[LightGBM] [Warning] No further splits with positive gain, best gain: -inf\n",
      "[LightGBM] [Warning] No further splits with positive gain, best gain: -inf\n",
      "[LightGBM] [Warning] No further splits with positive gain, best gain: -inf\n",
      "[LightGBM] [Warning] No further splits with positive gain, best gain: -inf\n",
      "[LightGBM] [Warning] No further splits with positive gain, best gain: -inf\n",
      "[LightGBM] [Warning] No further splits with positive gain, best gain: -inf\n",
      "[LightGBM] [Warning] No further splits with positive gain, best gain: -inf\n",
      "[LightGBM] [Warning] No further splits with positive gain, best gain: -inf\n",
      "[LightGBM] [Warning] No further splits with positive gain, best gain: -inf\n",
      "[LightGBM] [Warning] No further splits with positive gain, best gain: -inf\n",
      "[LightGBM] [Warning] No further splits with positive gain, best gain: -inf\n",
      "[LightGBM] [Warning] No further splits with positive gain, best gain: -inf\n",
      "[LightGBM] [Warning] No further splits with positive gain, best gain: -inf\n",
      "[LightGBM] [Warning] No further splits with positive gain, best gain: -inf\n",
      "[LightGBM] [Warning] No further splits with positive gain, best gain: -inf\n",
      "[LightGBM] [Warning] No further splits with positive gain, best gain: -inf\n",
      "[LightGBM] [Warning] No further splits with positive gain, best gain: -inf\n",
      "[LightGBM] [Warning] No further splits with positive gain, best gain: -inf\n",
      "[LightGBM] [Warning] No further splits with positive gain, best gain: -inf\n",
      "[LightGBM] [Warning] No further splits with positive gain, best gain: -inf\n",
      "[LightGBM] [Warning] No further splits with positive gain, best gain: -inf\n",
      "[LightGBM] [Warning] No further splits with positive gain, best gain: -inf\n",
      "[LightGBM] [Warning] No further splits with positive gain, best gain: -inf\n",
      "[LightGBM] [Warning] No further splits with positive gain, best gain: -inf\n",
      "[LightGBM] [Warning] No further splits with positive gain, best gain: -inf\n",
      "[LightGBM] [Warning] No further splits with positive gain, best gain: -inf\n",
      "[LightGBM] [Warning] No further splits with positive gain, best gain: -inf\n",
      "[LightGBM] [Warning] No further splits with positive gain, best gain: -inf\n",
      "[LightGBM] [Warning] No further splits with positive gain, best gain: -inf\n",
      "[LightGBM] [Warning] No further splits with positive gain, best gain: -inf\n",
      "[LightGBM] [Warning] No further splits with positive gain, best gain: -inf\n",
      "[LightGBM] [Warning] No further splits with positive gain, best gain: -inf\n",
      "[LightGBM] [Warning] No further splits with positive gain, best gain: -inf\n",
      "[LightGBM] [Warning] No further splits with positive gain, best gain: -inf\n",
      "[LightGBM] [Warning] No further splits with positive gain, best gain: -inf\n",
      "[LightGBM] [Warning] No further splits with positive gain, best gain: -inf\n",
      "Done with    2 of   80 (Spent   2.7 min)[LightGBM] [Info] Number of positive: 421357, number of negative: 366120\n",
      "[LightGBM] [Warning] Auto-choosing col-wise multi-threading, the overhead of testing was 2.140765 seconds.\n",
      "You can set `force_col_wise=true` to remove the overhead.\n",
      "[LightGBM] [Info] Total Bins 176490\n",
      "[LightGBM] [Info] Number of data points in the train set: 787477, number of used features: 713\n",
      "[LightGBM] [Info] [binary:BoostFromScore]: pavg=0.535072 -> initscore=0.140519\n",
      "[LightGBM] [Info] Start training from score 0.140519\n",
      "[LightGBM] [Warning] No further splits with positive gain, best gain: -inf\n",
      "[LightGBM] [Warning] No further splits with positive gain, best gain: -inf\n",
      "[LightGBM] [Warning] No further splits with positive gain, best gain: -inf\n",
      "[LightGBM] [Warning] No further splits with positive gain, best gain: -inf\n",
      "[LightGBM] [Warning] No further splits with positive gain, best gain: -inf\n",
      "[LightGBM] [Warning] No further splits with positive gain, best gain: -inf\n",
      "[LightGBM] [Warning] No further splits with positive gain, best gain: -inf\n",
      "[LightGBM] [Warning] No further splits with positive gain, best gain: -inf\n",
      "[LightGBM] [Warning] No further splits with positive gain, best gain: -inf\n",
      "[LightGBM] [Warning] No further splits with positive gain, best gain: -inf\n",
      "[LightGBM] [Warning] No further splits with positive gain, best gain: -inf\n",
      "[LightGBM] [Warning] No further splits with positive gain, best gain: -inf\n",
      "[LightGBM] [Warning] No further splits with positive gain, best gain: -inf\n",
      "[LightGBM] [Warning] No further splits with positive gain, best gain: -inf\n",
      "[LightGBM] [Warning] No further splits with positive gain, best gain: -inf\n",
      "[LightGBM] [Warning] No further splits with positive gain, best gain: -inf\n",
      "[LightGBM] [Warning] No further splits with positive gain, best gain: -inf\n",
      "[LightGBM] [Warning] No further splits with positive gain, best gain: -inf\n",
      "[LightGBM] [Warning] No further splits with positive gain, best gain: -inf\n",
      "[LightGBM] [Warning] No further splits with positive gain, best gain: -inf\n",
      "[LightGBM] [Warning] No further splits with positive gain, best gain: -inf\n",
      "[LightGBM] [Warning] No further splits with positive gain, best gain: -inf\n",
      "[LightGBM] [Warning] No further splits with positive gain, best gain: -inf\n",
      "[LightGBM] [Warning] No further splits with positive gain, best gain: -inf\n",
      "[LightGBM] [Warning] No further splits with positive gain, best gain: -inf\n",
      "[LightGBM] [Warning] No further splits with positive gain, best gain: -inf\n",
      "[LightGBM] [Warning] No further splits with positive gain, best gain: -inf\n",
      "[LightGBM] [Warning] No further splits with positive gain, best gain: -inf\n",
      "[LightGBM] [Warning] No further splits with positive gain, best gain: -inf\n",
      "[LightGBM] [Warning] No further splits with positive gain, best gain: -inf\n",
      "[LightGBM] [Warning] No further splits with positive gain, best gain: -inf\n",
      "[LightGBM] [Warning] No further splits with positive gain, best gain: -inf\n",
      "[LightGBM] [Warning] No further splits with positive gain, best gain: -inf\n",
      "[LightGBM] [Warning] No further splits with positive gain, best gain: -inf\n",
      "[LightGBM] [Warning] No further splits with positive gain, best gain: -inf\n",
      "[LightGBM] [Warning] No further splits with positive gain, best gain: -inf\n",
      "[LightGBM] [Warning] No further splits with positive gain, best gain: -inf\n",
      "[LightGBM] [Warning] No further splits with positive gain, best gain: -inf\n",
      "[LightGBM] [Warning] No further splits with positive gain, best gain: -inf\n",
      "[LightGBM] [Warning] No further splits with positive gain, best gain: -inf\n",
      "[LightGBM] [Warning] No further splits with positive gain, best gain: -inf\n",
      "[LightGBM] [Warning] No further splits with positive gain, best gain: -inf\n",
      "[LightGBM] [Warning] No further splits with positive gain, best gain: -inf\n",
      "[LightGBM] [Warning] No further splits with positive gain, best gain: -inf\n",
      "[LightGBM] [Warning] No further splits with positive gain, best gain: -inf\n",
      "[LightGBM] [Warning] No further splits with positive gain, best gain: -inf\n",
      "[LightGBM] [Warning] No further splits with positive gain, best gain: -inf\n",
      "[LightGBM] [Warning] No further splits with positive gain, best gain: -inf\n",
      "[LightGBM] [Warning] No further splits with positive gain, best gain: -inf\n",
      "[LightGBM] [Warning] No further splits with positive gain, best gain: -inf\n",
      "[LightGBM] [Warning] No further splits with positive gain, best gain: -inf\n",
      "[LightGBM] [Warning] No further splits with positive gain, best gain: -inf\n",
      "[LightGBM] [Warning] No further splits with positive gain, best gain: -inf\n",
      "[LightGBM] [Warning] No further splits with positive gain, best gain: -inf\n",
      "[LightGBM] [Warning] No further splits with positive gain, best gain: -inf\n",
      "[LightGBM] [Warning] No further splits with positive gain, best gain: -inf\n",
      "[LightGBM] [Warning] No further splits with positive gain, best gain: -inf\n",
      "[LightGBM] [Warning] No further splits with positive gain, best gain: -inf\n",
      "[LightGBM] [Warning] No further splits with positive gain, best gain: -inf\n",
      "[LightGBM] [Warning] No further splits with positive gain, best gain: -inf\n",
      "[LightGBM] [Warning] No further splits with positive gain, best gain: -inf\n",
      "[LightGBM] [Warning] No further splits with positive gain, best gain: -inf\n",
      "[LightGBM] [Warning] No further splits with positive gain, best gain: -inf\n",
      "[LightGBM] [Warning] No further splits with positive gain, best gain: -inf\n",
      "[LightGBM] [Warning] No further splits with positive gain, best gain: -inf\n",
      "[LightGBM] [Warning] No further splits with positive gain, best gain: -inf\n",
      "[LightGBM] [Warning] No further splits with positive gain, best gain: -inf\n",
      "[LightGBM] [Warning] No further splits with positive gain, best gain: -inf\n",
      "Done with    3 of   80 (Spent   4.1 min)[LightGBM] [Info] Number of positive: 421357, number of negative: 366120\n",
      "[LightGBM] [Warning] Auto-choosing col-wise multi-threading, the overhead of testing was 2.062056 seconds.\n",
      "You can set `force_col_wise=true` to remove the overhead.\n",
      "[LightGBM] [Info] Total Bins 176490\n",
      "[LightGBM] [Info] Number of data points in the train set: 787477, number of used features: 713\n",
      "[LightGBM] [Info] [binary:BoostFromScore]: pavg=0.535072 -> initscore=0.140519\n",
      "[LightGBM] [Info] Start training from score 0.140519\n",
      "[LightGBM] [Warning] No further splits with positive gain, best gain: -inf\n",
      "[LightGBM] [Warning] No further splits with positive gain, best gain: -inf\n",
      "[LightGBM] [Warning] No further splits with positive gain, best gain: -inf\n",
      "[LightGBM] [Warning] No further splits with positive gain, best gain: -inf\n",
      "[LightGBM] [Warning] No further splits with positive gain, best gain: -inf\n",
      "[LightGBM] [Warning] No further splits with positive gain, best gain: -inf\n",
      "[LightGBM] [Warning] No further splits with positive gain, best gain: -inf\n",
      "[LightGBM] [Warning] No further splits with positive gain, best gain: -inf\n",
      "[LightGBM] [Warning] No further splits with positive gain, best gain: -inf\n",
      "[LightGBM] [Warning] No further splits with positive gain, best gain: -inf\n",
      "[LightGBM] [Warning] No further splits with positive gain, best gain: -inf\n",
      "[LightGBM] [Warning] No further splits with positive gain, best gain: -inf\n",
      "[LightGBM] [Warning] No further splits with positive gain, best gain: -inf\n",
      "[LightGBM] [Warning] No further splits with positive gain, best gain: -inf\n",
      "[LightGBM] [Warning] No further splits with positive gain, best gain: -inf\n",
      "[LightGBM] [Warning] No further splits with positive gain, best gain: -inf\n",
      "[LightGBM] [Warning] No further splits with positive gain, best gain: -inf\n",
      "[LightGBM] [Warning] No further splits with positive gain, best gain: -inf\n",
      "[LightGBM] [Warning] No further splits with positive gain, best gain: -inf\n",
      "[LightGBM] [Warning] No further splits with positive gain, best gain: -inf\n",
      "[LightGBM] [Warning] No further splits with positive gain, best gain: -inf\n",
      "[LightGBM] [Warning] No further splits with positive gain, best gain: -inf\n",
      "[LightGBM] [Warning] No further splits with positive gain, best gain: -inf\n",
      "[LightGBM] [Warning] No further splits with positive gain, best gain: -inf\n",
      "[LightGBM] [Warning] No further splits with positive gain, best gain: -inf\n",
      "[LightGBM] [Warning] No further splits with positive gain, best gain: -inf\n",
      "[LightGBM] [Warning] No further splits with positive gain, best gain: -inf\n",
      "[LightGBM] [Warning] No further splits with positive gain, best gain: -inf\n",
      "[LightGBM] [Warning] No further splits with positive gain, best gain: -inf\n",
      "[LightGBM] [Warning] No further splits with positive gain, best gain: -inf\n",
      "[LightGBM] [Warning] No further splits with positive gain, best gain: -inf\n",
      "[LightGBM] [Warning] No further splits with positive gain, best gain: -inf\n",
      "[LightGBM] [Warning] No further splits with positive gain, best gain: -inf\n",
      "[LightGBM] [Warning] No further splits with positive gain, best gain: -inf\n",
      "[LightGBM] [Warning] No further splits with positive gain, best gain: -inf\n",
      "[LightGBM] [Warning] No further splits with positive gain, best gain: -inf\n",
      "[LightGBM] [Warning] No further splits with positive gain, best gain: -inf\n",
      "[LightGBM] [Warning] No further splits with positive gain, best gain: -inf\n",
      "[LightGBM] [Warning] No further splits with positive gain, best gain: -inf\n",
      "[LightGBM] [Warning] No further splits with positive gain, best gain: -inf\n",
      "[LightGBM] [Warning] No further splits with positive gain, best gain: -inf\n",
      "[LightGBM] [Warning] No further splits with positive gain, best gain: -inf\n",
      "[LightGBM] [Warning] No further splits with positive gain, best gain: -inf\n",
      "[LightGBM] [Warning] No further splits with positive gain, best gain: -inf\n",
      "[LightGBM] [Warning] No further splits with positive gain, best gain: -inf\n",
      "[LightGBM] [Warning] No further splits with positive gain, best gain: -inf\n",
      "[LightGBM] [Warning] No further splits with positive gain, best gain: -inf\n",
      "[LightGBM] [Warning] No further splits with positive gain, best gain: -inf\n",
      "[LightGBM] [Warning] No further splits with positive gain, best gain: -inf\n",
      "[LightGBM] [Warning] No further splits with positive gain, best gain: -inf\n",
      "[LightGBM] [Warning] No further splits with positive gain, best gain: -inf\n",
      "[LightGBM] [Warning] No further splits with positive gain, best gain: -inf\n",
      "[LightGBM] [Warning] No further splits with positive gain, best gain: -inf\n",
      "[LightGBM] [Warning] No further splits with positive gain, best gain: -inf\n",
      "[LightGBM] [Warning] No further splits with positive gain, best gain: -inf\n",
      "[LightGBM] [Warning] No further splits with positive gain, best gain: -inf\n",
      "[LightGBM] [Warning] No further splits with positive gain, best gain: -inf\n",
      "[LightGBM] [Warning] No further splits with positive gain, best gain: -inf\n",
      "[LightGBM] [Warning] No further splits with positive gain, best gain: -inf\n",
      "[LightGBM] [Warning] No further splits with positive gain, best gain: -inf\n",
      "[LightGBM] [Warning] No further splits with positive gain, best gain: -inf\n",
      "[LightGBM] [Warning] No further splits with positive gain, best gain: -inf\n",
      "[LightGBM] [Warning] No further splits with positive gain, best gain: -inf\n",
      "[LightGBM] [Warning] No further splits with positive gain, best gain: -inf\n",
      "[LightGBM] [Warning] No further splits with positive gain, best gain: -inf\n",
      "[LightGBM] [Warning] No further splits with positive gain, best gain: -inf\n",
      "[LightGBM] [Warning] No further splits with positive gain, best gain: -inf\n",
      "[LightGBM] [Warning] No further splits with positive gain, best gain: -inf\n",
      "[LightGBM] [Warning] No further splits with positive gain, best gain: -inf\n",
      "[LightGBM] [Warning] No further splits with positive gain, best gain: -inf\n",
      "[LightGBM] [Warning] No further splits with positive gain, best gain: -inf\n",
      "[LightGBM] [Warning] No further splits with positive gain, best gain: -inf\n",
      "[LightGBM] [Warning] No further splits with positive gain, best gain: -inf\n",
      "[LightGBM] [Warning] No further splits with positive gain, best gain: -inf\n",
      "[LightGBM] [Warning] No further splits with positive gain, best gain: -inf\n",
      "[LightGBM] [Warning] No further splits with positive gain, best gain: -inf\n",
      "[LightGBM] [Warning] No further splits with positive gain, best gain: -inf\n",
      "[LightGBM] [Warning] No further splits with positive gain, best gain: -inf\n",
      "[LightGBM] [Warning] No further splits with positive gain, best gain: -inf\n",
      "[LightGBM] [Warning] No further splits with positive gain, best gain: -inf\n",
      "[LightGBM] [Warning] No further splits with positive gain, best gain: -inf\n",
      "[LightGBM] [Warning] No further splits with positive gain, best gain: -inf\n",
      "[LightGBM] [Warning] No further splits with positive gain, best gain: -inf\n",
      "[LightGBM] [Warning] No further splits with positive gain, best gain: -inf\n",
      "[LightGBM] [Warning] No further splits with positive gain, best gain: -inf\n",
      "[LightGBM] [Warning] No further splits with positive gain, best gain: -inf\n",
      "[LightGBM] [Warning] No further splits with positive gain, best gain: -inf\n",
      "[LightGBM] [Warning] No further splits with positive gain, best gain: -inf\n",
      "[LightGBM] [Warning] No further splits with positive gain, best gain: -inf\n",
      "[LightGBM] [Warning] No further splits with positive gain, best gain: -inf\n",
      "[LightGBM] [Warning] No further splits with positive gain, best gain: -inf\n",
      "Done with    4 of   80 (Spent   5.5 min)"
     ]
    },
    {
     "ename": "KeyboardInterrupt",
     "evalue": "",
     "output_type": "error",
     "traceback": [
      "\u001b[1;31m---------------------------------------------------------------------------\u001b[0m",
      "\u001b[1;31mKeyboardInterrupt\u001b[0m                         Traceback (most recent call last)",
      "\u001b[1;32m<ipython-input-31-15ef08f258e3>\u001b[0m in \u001b[0;36m<module>\u001b[1;34m\u001b[0m\n\u001b[0;32m      6\u001b[0m \u001b[1;32mfor\u001b[0m \u001b[0mi\u001b[0m \u001b[1;32min\u001b[0m \u001b[0mrange\u001b[0m\u001b[1;33m(\u001b[0m\u001b[0mnb_runs\u001b[0m\u001b[1;33m)\u001b[0m\u001b[1;33m:\u001b[0m\u001b[1;33m\u001b[0m\u001b[1;33m\u001b[0m\u001b[0m\n\u001b[0;32m      7\u001b[0m     \u001b[1;31m# Get current run importances\u001b[0m\u001b[1;33m\u001b[0m\u001b[1;33m\u001b[0m\u001b[1;33m\u001b[0m\u001b[0m\n\u001b[1;32m----> 8\u001b[1;33m     \u001b[0mimp_df\u001b[0m \u001b[1;33m=\u001b[0m \u001b[0mget_feature_importances\u001b[0m\u001b[1;33m(\u001b[0m\u001b[0mdata\u001b[0m\u001b[1;33m=\u001b[0m\u001b[0mdata\u001b[0m\u001b[1;33m,\u001b[0m \u001b[0mshuffle\u001b[0m\u001b[1;33m=\u001b[0m\u001b[1;32mTrue\u001b[0m\u001b[1;33m)\u001b[0m\u001b[1;33m\u001b[0m\u001b[1;33m\u001b[0m\u001b[0m\n\u001b[0m\u001b[0;32m      9\u001b[0m     \u001b[0mimp_df\u001b[0m\u001b[1;33m[\u001b[0m\u001b[1;34m'run'\u001b[0m\u001b[1;33m]\u001b[0m \u001b[1;33m=\u001b[0m \u001b[0mi\u001b[0m \u001b[1;33m+\u001b[0m \u001b[1;36m1\u001b[0m\u001b[1;33m\u001b[0m\u001b[1;33m\u001b[0m\u001b[0m\n\u001b[0;32m     10\u001b[0m     \u001b[1;31m# Concat the latest importances with the old ones\u001b[0m\u001b[1;33m\u001b[0m\u001b[1;33m\u001b[0m\u001b[1;33m\u001b[0m\u001b[0m\n",
      "\u001b[1;32m<ipython-input-27-bea3c00c78bd>\u001b[0m in \u001b[0;36mget_feature_importances\u001b[1;34m(data, shuffle, seed)\u001b[0m\n\u001b[0;32m     25\u001b[0m \u001b[1;33m\u001b[0m\u001b[0m\n\u001b[0;32m     26\u001b[0m     \u001b[1;31m# Fit the model\u001b[0m\u001b[1;33m\u001b[0m\u001b[1;33m\u001b[0m\u001b[1;33m\u001b[0m\u001b[0m\n\u001b[1;32m---> 27\u001b[1;33m     \u001b[0mclf\u001b[0m \u001b[1;33m=\u001b[0m \u001b[0mlgb\u001b[0m\u001b[1;33m.\u001b[0m\u001b[0mtrain\u001b[0m\u001b[1;33m(\u001b[0m\u001b[0mparams\u001b[0m\u001b[1;33m=\u001b[0m\u001b[0mlgb_params\u001b[0m\u001b[1;33m,\u001b[0m \u001b[0mtrain_set\u001b[0m\u001b[1;33m=\u001b[0m\u001b[0mdtrain\u001b[0m\u001b[1;33m,\u001b[0m \u001b[0mnum_boost_round\u001b[0m\u001b[1;33m=\u001b[0m\u001b[1;36m200\u001b[0m\u001b[1;33m)\u001b[0m\u001b[1;33m\u001b[0m\u001b[1;33m\u001b[0m\u001b[0m\n\u001b[0m\u001b[0;32m     28\u001b[0m \u001b[1;33m\u001b[0m\u001b[0m\n\u001b[0;32m     29\u001b[0m     \u001b[1;31m# Get feature importances\u001b[0m\u001b[1;33m\u001b[0m\u001b[1;33m\u001b[0m\u001b[1;33m\u001b[0m\u001b[0m\n",
      "\u001b[1;32mC:\\ProgramData\\Anaconda3\\lib\\site-packages\\lightgbm\\engine.py\u001b[0m in \u001b[0;36mtrain\u001b[1;34m(params, train_set, num_boost_round, valid_sets, valid_names, fobj, feval, init_model, feature_name, categorical_feature, early_stopping_rounds, evals_result, verbose_eval, learning_rates, keep_training_booster, callbacks)\u001b[0m\n\u001b[0;32m    226\u001b[0m     \u001b[1;31m# construct booster\u001b[0m\u001b[1;33m\u001b[0m\u001b[1;33m\u001b[0m\u001b[1;33m\u001b[0m\u001b[0m\n\u001b[0;32m    227\u001b[0m     \u001b[1;32mtry\u001b[0m\u001b[1;33m:\u001b[0m\u001b[1;33m\u001b[0m\u001b[1;33m\u001b[0m\u001b[0m\n\u001b[1;32m--> 228\u001b[1;33m         \u001b[0mbooster\u001b[0m \u001b[1;33m=\u001b[0m \u001b[0mBooster\u001b[0m\u001b[1;33m(\u001b[0m\u001b[0mparams\u001b[0m\u001b[1;33m=\u001b[0m\u001b[0mparams\u001b[0m\u001b[1;33m,\u001b[0m \u001b[0mtrain_set\u001b[0m\u001b[1;33m=\u001b[0m\u001b[0mtrain_set\u001b[0m\u001b[1;33m)\u001b[0m\u001b[1;33m\u001b[0m\u001b[1;33m\u001b[0m\u001b[0m\n\u001b[0m\u001b[0;32m    229\u001b[0m         \u001b[1;32mif\u001b[0m \u001b[0mis_valid_contain_train\u001b[0m\u001b[1;33m:\u001b[0m\u001b[1;33m\u001b[0m\u001b[1;33m\u001b[0m\u001b[0m\n\u001b[0;32m    230\u001b[0m             \u001b[0mbooster\u001b[0m\u001b[1;33m.\u001b[0m\u001b[0mset_train_data_name\u001b[0m\u001b[1;33m(\u001b[0m\u001b[0mtrain_data_name\u001b[0m\u001b[1;33m)\u001b[0m\u001b[1;33m\u001b[0m\u001b[1;33m\u001b[0m\u001b[0m\n",
      "\u001b[1;32mC:\\ProgramData\\Anaconda3\\lib\\site-packages\\lightgbm\\basic.py\u001b[0m in \u001b[0;36m__init__\u001b[1;34m(self, params, train_set, model_file, model_str, silent)\u001b[0m\n\u001b[0;32m   2227\u001b[0m                 )\n\u001b[0;32m   2228\u001b[0m             \u001b[1;31m# construct booster object\u001b[0m\u001b[1;33m\u001b[0m\u001b[1;33m\u001b[0m\u001b[1;33m\u001b[0m\u001b[0m\n\u001b[1;32m-> 2229\u001b[1;33m             \u001b[0mtrain_set\u001b[0m\u001b[1;33m.\u001b[0m\u001b[0mconstruct\u001b[0m\u001b[1;33m(\u001b[0m\u001b[1;33m)\u001b[0m\u001b[1;33m\u001b[0m\u001b[1;33m\u001b[0m\u001b[0m\n\u001b[0m\u001b[0;32m   2230\u001b[0m             \u001b[1;31m# copy the parameters from train_set\u001b[0m\u001b[1;33m\u001b[0m\u001b[1;33m\u001b[0m\u001b[1;33m\u001b[0m\u001b[0m\n\u001b[0;32m   2231\u001b[0m             \u001b[0mparams\u001b[0m\u001b[1;33m.\u001b[0m\u001b[0mupdate\u001b[0m\u001b[1;33m(\u001b[0m\u001b[0mtrain_set\u001b[0m\u001b[1;33m.\u001b[0m\u001b[0mget_params\u001b[0m\u001b[1;33m(\u001b[0m\u001b[1;33m)\u001b[0m\u001b[1;33m)\u001b[0m\u001b[1;33m\u001b[0m\u001b[1;33m\u001b[0m\u001b[0m\n",
      "\u001b[1;32mC:\\ProgramData\\Anaconda3\\lib\\site-packages\\lightgbm\\basic.py\u001b[0m in \u001b[0;36mconstruct\u001b[1;34m(self)\u001b[0m\n\u001b[0;32m   1466\u001b[0m             \u001b[1;32melse\u001b[0m\u001b[1;33m:\u001b[0m\u001b[1;33m\u001b[0m\u001b[1;33m\u001b[0m\u001b[0m\n\u001b[0;32m   1467\u001b[0m                 \u001b[1;31m# create train\u001b[0m\u001b[1;33m\u001b[0m\u001b[1;33m\u001b[0m\u001b[1;33m\u001b[0m\u001b[0m\n\u001b[1;32m-> 1468\u001b[1;33m                 self._lazy_init(self.data, label=self.label,\n\u001b[0m\u001b[0;32m   1469\u001b[0m                                 \u001b[0mweight\u001b[0m\u001b[1;33m=\u001b[0m\u001b[0mself\u001b[0m\u001b[1;33m.\u001b[0m\u001b[0mweight\u001b[0m\u001b[1;33m,\u001b[0m \u001b[0mgroup\u001b[0m\u001b[1;33m=\u001b[0m\u001b[0mself\u001b[0m\u001b[1;33m.\u001b[0m\u001b[0mgroup\u001b[0m\u001b[1;33m,\u001b[0m\u001b[1;33m\u001b[0m\u001b[1;33m\u001b[0m\u001b[0m\n\u001b[0;32m   1470\u001b[0m                                 \u001b[0minit_score\u001b[0m\u001b[1;33m=\u001b[0m\u001b[0mself\u001b[0m\u001b[1;33m.\u001b[0m\u001b[0minit_score\u001b[0m\u001b[1;33m,\u001b[0m \u001b[0mpredictor\u001b[0m\u001b[1;33m=\u001b[0m\u001b[0mself\u001b[0m\u001b[1;33m.\u001b[0m\u001b[0m_predictor\u001b[0m\u001b[1;33m,\u001b[0m\u001b[1;33m\u001b[0m\u001b[1;33m\u001b[0m\u001b[0m\n",
      "\u001b[1;32mC:\\ProgramData\\Anaconda3\\lib\\site-packages\\lightgbm\\basic.py\u001b[0m in \u001b[0;36m_lazy_init\u001b[1;34m(self, data, label, reference, weight, group, init_score, predictor, silent, feature_name, categorical_feature, params)\u001b[0m\n\u001b[0;32m   1268\u001b[0m             \u001b[0mself\u001b[0m\u001b[1;33m.\u001b[0m\u001b[0m__init_from_csc\u001b[0m\u001b[1;33m(\u001b[0m\u001b[0mdata\u001b[0m\u001b[1;33m,\u001b[0m \u001b[0mparams_str\u001b[0m\u001b[1;33m,\u001b[0m \u001b[0mref_dataset\u001b[0m\u001b[1;33m)\u001b[0m\u001b[1;33m\u001b[0m\u001b[1;33m\u001b[0m\u001b[0m\n\u001b[0;32m   1269\u001b[0m         \u001b[1;32melif\u001b[0m \u001b[0misinstance\u001b[0m\u001b[1;33m(\u001b[0m\u001b[0mdata\u001b[0m\u001b[1;33m,\u001b[0m \u001b[0mnp\u001b[0m\u001b[1;33m.\u001b[0m\u001b[0mndarray\u001b[0m\u001b[1;33m)\u001b[0m\u001b[1;33m:\u001b[0m\u001b[1;33m\u001b[0m\u001b[1;33m\u001b[0m\u001b[0m\n\u001b[1;32m-> 1270\u001b[1;33m             \u001b[0mself\u001b[0m\u001b[1;33m.\u001b[0m\u001b[0m__init_from_np2d\u001b[0m\u001b[1;33m(\u001b[0m\u001b[0mdata\u001b[0m\u001b[1;33m,\u001b[0m \u001b[0mparams_str\u001b[0m\u001b[1;33m,\u001b[0m \u001b[0mref_dataset\u001b[0m\u001b[1;33m)\u001b[0m\u001b[1;33m\u001b[0m\u001b[1;33m\u001b[0m\u001b[0m\n\u001b[0m\u001b[0;32m   1271\u001b[0m         \u001b[1;32melif\u001b[0m \u001b[0misinstance\u001b[0m\u001b[1;33m(\u001b[0m\u001b[0mdata\u001b[0m\u001b[1;33m,\u001b[0m \u001b[0mlist\u001b[0m\u001b[1;33m)\u001b[0m \u001b[1;32mand\u001b[0m \u001b[0mlen\u001b[0m\u001b[1;33m(\u001b[0m\u001b[0mdata\u001b[0m\u001b[1;33m)\u001b[0m \u001b[1;33m>\u001b[0m \u001b[1;36m0\u001b[0m \u001b[1;32mand\u001b[0m \u001b[0mall\u001b[0m\u001b[1;33m(\u001b[0m\u001b[0misinstance\u001b[0m\u001b[1;33m(\u001b[0m\u001b[0mx\u001b[0m\u001b[1;33m,\u001b[0m \u001b[0mnp\u001b[0m\u001b[1;33m.\u001b[0m\u001b[0mndarray\u001b[0m\u001b[1;33m)\u001b[0m \u001b[1;32mfor\u001b[0m \u001b[0mx\u001b[0m \u001b[1;32min\u001b[0m \u001b[0mdata\u001b[0m\u001b[1;33m)\u001b[0m\u001b[1;33m:\u001b[0m\u001b[1;33m\u001b[0m\u001b[1;33m\u001b[0m\u001b[0m\n\u001b[0;32m   1272\u001b[0m             \u001b[0mself\u001b[0m\u001b[1;33m.\u001b[0m\u001b[0m__init_from_list_np2d\u001b[0m\u001b[1;33m(\u001b[0m\u001b[0mdata\u001b[0m\u001b[1;33m,\u001b[0m \u001b[0mparams_str\u001b[0m\u001b[1;33m,\u001b[0m \u001b[0mref_dataset\u001b[0m\u001b[1;33m)\u001b[0m\u001b[1;33m\u001b[0m\u001b[1;33m\u001b[0m\u001b[0m\n",
      "\u001b[1;32mC:\\ProgramData\\Anaconda3\\lib\\site-packages\\lightgbm\\basic.py\u001b[0m in \u001b[0;36m__init_from_np2d\u001b[1;34m(self, mat, params_str, ref_dataset)\u001b[0m\n\u001b[0;32m   1310\u001b[0m \u001b[1;33m\u001b[0m\u001b[0m\n\u001b[0;32m   1311\u001b[0m         \u001b[0mptr_data\u001b[0m\u001b[1;33m,\u001b[0m \u001b[0mtype_ptr_data\u001b[0m\u001b[1;33m,\u001b[0m \u001b[0m_\u001b[0m \u001b[1;33m=\u001b[0m \u001b[0mc_float_array\u001b[0m\u001b[1;33m(\u001b[0m\u001b[0mdata\u001b[0m\u001b[1;33m)\u001b[0m\u001b[1;33m\u001b[0m\u001b[1;33m\u001b[0m\u001b[0m\n\u001b[1;32m-> 1312\u001b[1;33m         _safe_call(_LIB.LGBM_DatasetCreateFromMat(\n\u001b[0m\u001b[0;32m   1313\u001b[0m             \u001b[0mptr_data\u001b[0m\u001b[1;33m,\u001b[0m\u001b[1;33m\u001b[0m\u001b[1;33m\u001b[0m\u001b[0m\n\u001b[0;32m   1314\u001b[0m             \u001b[0mctypes\u001b[0m\u001b[1;33m.\u001b[0m\u001b[0mc_int\u001b[0m\u001b[1;33m(\u001b[0m\u001b[0mtype_ptr_data\u001b[0m\u001b[1;33m)\u001b[0m\u001b[1;33m,\u001b[0m\u001b[1;33m\u001b[0m\u001b[1;33m\u001b[0m\u001b[0m\n",
      "\u001b[1;31mKeyboardInterrupt\u001b[0m: "
     ]
    }
   ],
   "source": [
    "null_imp_df = pd.DataFrame()\n",
    "nb_runs = 80\n",
    "import time\n",
    "start = time.time()\n",
    "dsp = ''\n",
    "for i in range(nb_runs):\n",
    "    # Get current run importances\n",
    "    imp_df = get_feature_importances(data=data, shuffle=True)\n",
    "    imp_df['run'] = i + 1 \n",
    "    # Concat the latest importances with the old ones\n",
    "    null_imp_df = pd.concat([null_imp_df, imp_df], axis=0)\n",
    "    # Erase previous message\n",
    "    for l in range(len(dsp)):\n",
    "        print('\\b', end='', flush=True)\n",
    "    # Display current run and time used\n",
    "    spent = (time.time() - start) / 60\n",
    "    dsp = 'Done with %4d of %4d (Spent %5.1f min)' % (i + 1, nb_runs, spent)\n",
    "    print(dsp, end='', flush=True)"
   ]
  },
  {
   "cell_type": "code",
   "execution_count": null,
   "id": "b4a745e2",
   "metadata": {
    "id": "b4a745e2"
   },
   "outputs": [],
   "source": [
    "null_imp_df.head()"
   ]
  },
  {
   "cell_type": "code",
   "execution_count": null,
   "id": "5c2e5282",
   "metadata": {
    "id": "5c2e5282"
   },
   "outputs": [],
   "source": [
    "def display_distributions(actual_imp_df_, null_imp_df_, feature_):\n",
    "    plt.figure(figsize=(13, 6))\n",
    "    gs = gridspec.GridSpec(1, 2)\n",
    "    # Plot Split importances\n",
    "    ax = plt.subplot(gs[0, 0])\n",
    "    a = ax.hist(null_imp_df_.loc[null_imp_df_['feature'] == feature_, 'importance_split'].values, label='Null importances')\n",
    "    ax.vlines(x=actual_imp_df_.loc[actual_imp_df_['feature'] == feature_, 'importance_split'].mean(), \n",
    "               ymin=0, ymax=np.max(a[0]), color='r',linewidth=10, label='Real Target')\n",
    "    ax.legend()\n",
    "    ax.set_title('Split Importance of %s' % feature_.upper(), fontweight='bold')\n",
    "    plt.xlabel('Null Importance (split) Distribution for %s ' % feature_.upper())\n",
    "    # Plot Gain importances\n",
    "    ax = plt.subplot(gs[0, 1])\n",
    "    a = ax.hist(null_imp_df_.loc[null_imp_df_['feature'] == feature_, 'importance_gain'].values, label='Null importances')\n",
    "    ax.vlines(x=actual_imp_df_.loc[actual_imp_df_['feature'] == feature_, 'importance_gain'].mean(), \n",
    "               ymin=0, ymax=np.max(a[0]), color='r',linewidth=10, label='Real Target')\n",
    "    ax.legend()\n",
    "    ax.set_title('Gain Importance of %s' % feature_.upper(), fontweight='bold')\n",
    "    plt.xlabel('Null Importance (gain) Distribution for %s ' % feature_.upper())"
   ]
  },
  {
   "cell_type": "code",
   "execution_count": null,
   "id": "3b5b3d6e",
   "metadata": {
    "id": "3b5b3d6e"
   },
   "outputs": [],
   "source": [
    "display_distributions(actual_imp_df_=actual_imp_df, null_imp_df_=null_imp_df, feature_='LIVINGAPARTMENTS_AVG')"
   ]
  },
  {
   "cell_type": "code",
   "execution_count": null,
   "id": "8fde625b",
   "metadata": {
    "id": "8fde625b"
   },
   "outputs": [],
   "source": [
    "feature_scores = []\n",
    "for _f in actual_imp_df['feature'].unique():\n",
    "    f_null_imps_gain = null_imp_df.loc[null_imp_df['feature'] == _f, 'importance_gain'].values\n",
    "    f_act_imps_gain = actual_imp_df.loc[actual_imp_df['feature'] == _f, 'importance_gain'].mean()\n",
    "    gain_score = np.log(1e-10 + f_act_imps_gain / (1 + np.percentile(f_null_imps_gain, 75)))  # Avoid didvide by zero\n",
    "    f_null_imps_split = null_imp_df.loc[null_imp_df['feature'] == _f, 'importance_split'].values\n",
    "    f_act_imps_split = actual_imp_df.loc[actual_imp_df['feature'] == _f, 'importance_split'].mean()\n",
    "    split_score = np.log(1e-10 + f_act_imps_split / (1 + np.percentile(f_null_imps_split, 75)))  # Avoid didvide by zero\n",
    "    feature_scores.append((_f, split_score, gain_score))\n",
    "\n",
    "scores_df = pd.DataFrame(feature_scores, columns=['feature', 'split_score', 'gain_score'])\n",
    "\n",
    "plt.figure(figsize=(16, 16))\n",
    "gs = gridspec.GridSpec(1, 2)\n",
    "# Plot Split importances\n",
    "ax = plt.subplot(gs[0, 0])\n",
    "sns.barplot(x='split_score', y='feature', data=scores_df.sort_values('split_score', ascending=False).iloc[0:70], ax=ax)\n",
    "ax.set_title('Feature scores wrt split importances', fontweight='bold', fontsize=14)\n",
    "# Plot Gain importances\n",
    "ax = plt.subplot(gs[0, 1])\n",
    "sns.barplot(x='gain_score', y='feature', data=scores_df.sort_values('gain_score', ascending=False).iloc[0:70], ax=ax)\n",
    "ax.set_title('Feature scores wrt gain importances', fontweight='bold', fontsize=14)\n",
    "plt.tight_layout()"
   ]
  },
  {
   "cell_type": "markdown",
   "id": "b1619a55",
   "metadata": {
    "id": "b1619a55"
   },
   "source": [
    "\n",
    "\n",
    "\n",
    "### Correlation"
   ]
  },
  {
   "cell_type": "code",
   "execution_count": 16,
   "id": "9dfa57c4",
   "metadata": {
    "colab": {
     "base_uri": "https://localhost:8080/"
    },
    "id": "9dfa57c4",
    "outputId": "78ab6a30-deab-4cef-b7f3-8903b13f698f"
   },
   "outputs": [
    {
     "name": "stdout",
     "output_type": "stream",
     "text": [
      "label 1 sample size: 210678\n",
      "label 0 sample size: 183060\n"
     ]
    }
   ],
   "source": [
    "application_sample1 = df_train.loc[df_train.y==1].sample(frac=0.5, replace=False)\n",
    "print('label 1 sample size:', str(application_sample1.shape[0]))\n",
    "application_sample0 = df_train.loc[df_train.y==0].sample(frac=0.5, replace=False)\n",
    "print('label 0 sample size:', str(application_sample0.shape[0]))\n",
    "application = pd.concat([application_sample1, application_sample0], axis=0)"
   ]
  },
  {
   "cell_type": "code",
   "execution_count": 17,
   "id": "f61b7526",
   "metadata": {
    "colab": {
     "base_uri": "https://localhost:8080/"
    },
    "id": "f61b7526",
    "outputId": "d9aa0ae0-2f79-43b1-e69b-50b3f3e7993f"
   },
   "outputs": [
    {
     "name": "stdout",
     "output_type": "stream",
     "text": [
      "Number of categorical features: 0\n",
      "Number of numerical features: 717\n"
     ]
    }
   ],
   "source": [
    "categorical_list = []\n",
    "numerical_list = []\n",
    "for i in application.columns.tolist():\n",
    "    if application[i].dtype=='object':\n",
    "        categorical_list.append(i)\n",
    "    else:\n",
    "        numerical_list.append(i)\n",
    "print('Number of categorical features:', str(len(categorical_list)))\n",
    "print('Number of numerical features:', str(len(numerical_list)))"
   ]
  },
  {
   "cell_type": "code",
   "execution_count": null,
   "id": "8cdc21cd",
   "metadata": {
    "id": "8cdc21cd"
   },
   "outputs": [],
   "source": [
    "# from sklearn.impute import SimpleImputer\n",
    "# application[numerical_list] = SimpleImputer(strategy='median').fit_transform(application[numerical_list])"
   ]
  },
  {
   "cell_type": "code",
   "execution_count": 18,
   "id": "503123a2",
   "metadata": {
    "id": "503123a2"
   },
   "outputs": [],
   "source": [
    "X = application.drop(['y'], axis=1)\n",
    "y = application.y\n",
    "feature_name = X.columns.tolist()"
   ]
  },
  {
   "cell_type": "code",
   "execution_count": 19,
   "id": "0a0787bd",
   "metadata": {
    "id": "0a0787bd"
   },
   "outputs": [],
   "source": [
    "def cor_selector(X, y):\n",
    "    cor_list = []\n",
    "    # calculate the correlation with y for each feature\n",
    "    for i in X.columns.tolist():\n",
    "        cor = np.corrcoef(X[i], y)[0, 1]\n",
    "        cor_list.append(cor)\n",
    "    # replace NaN with 0\n",
    "    cor_list = [0 if np.isnan(i) else i for i in cor_list]\n",
    "    # feature name\n",
    "    cor_feature = X.iloc[:,np.argsort(np.abs(cor_list))[-100:]].columns.tolist()\n",
    "    # feature selection? 0 for not select, 1 for select\n",
    "    cor_support = [True if i in cor_feature else False for i in feature_name]\n",
    "    return cor_support, cor_feature"
   ]
  },
  {
   "cell_type": "code",
   "execution_count": 20,
   "id": "a8bb1b69",
   "metadata": {
    "colab": {
     "base_uri": "https://localhost:8080/"
    },
    "id": "a8bb1b69",
    "outputId": "79f87948-8b15-4fea-e5bb-c5beaaa533ad"
   },
   "outputs": [
    {
     "name": "stdout",
     "output_type": "stream",
     "text": [
      "100 selected features\n",
      "['eye_lmk_x_18', 'X_65', 'Z_12', 'Z_11', 'x_36', 'eye_lmk_x_19', 'Y_13', 'eye_lmk_x_8', 'X_66', 'X_55', 'x_33', 'X_67', 'X_5', 'x_32', 'AU01_r', 'X_12', 'AU12_r', 'X_59', 'x_31', 'X_56', 'x_15', 'X_57', 'X_58', 'p_10', 'x_52', 'p_tx', 'x_53', 'X_11', 'X_6', 'x_54', 'x_63', 'x_64', 'p_8', 'x_51', 'X_10', 'x_0', 'X_7', 'x_14', 'x_50', 'X_9', 'X_8', 'x_65', 'x_62', 'x_55', 'p_22', 'x_61', 'AU06_r', 'p_13', 'x_66', 'p_11', 'AU17_r', 'x_56', 'x_1', 'x_13', 'x_49', 'x_67', 'AU04_r', 'x_57', 'x_12', 'x_60', 'x_58', 'x_2', 'x_48', 'x_11', 'x_59', 'x_10', 'AU23_r', 'x_9', 'x_3', 'x_8', 'p_7', 'p_31', 'p_17', 'AU09_r', 'x_4', 'x_7', 'Gender_Male_1', 'x_6', 'x_5', 'AU45_r', 'p_9', 'p_25', 'positive_assumption_1', 'p_28', 'p_26', 'gaze_0_y', 'p_rz', 'gaze_1_y', 'p_rx', 'p_12', 'gaze_angle_y', 'pose_Rx', 'What is your age (in years) ?', 'pose_Rz', 'AU15_r', 'p_24', 'p_20', 'p_4', 'negative_assumption_1', 'timestamp']\n"
     ]
    }
   ],
   "source": [
    "cor_support, cor_feature = cor_selector(X, y)\n",
    "print(str(len(cor_feature)), 'selected features')\n",
    "print(cor_feature)"
   ]
  },
  {
   "cell_type": "code",
   "execution_count": 39,
   "id": "6bbf78d1",
   "metadata": {},
   "outputs": [
    {
     "data": {
      "text/plain": [
       "475872    0.923175\n",
       "473168    0.520142\n",
       "454942   -1.495022\n",
       "477200    1.057519\n",
       "471330    0.251453\n",
       "            ...   \n",
       "268729    1.191863\n",
       "267006    0.923175\n",
       "254904   -1.226334\n",
       "257205   -0.823301\n",
       "255864   -1.091990\n",
       "Name: question, Length: 393738, dtype: float32"
      ]
     },
     "execution_count": 39,
     "metadata": {},
     "output_type": "execute_result"
    }
   ],
   "source": [
    "X.question"
   ]
  },
  {
   "cell_type": "markdown",
   "id": "Sx-0FAwJuP8h",
   "metadata": {
    "id": "Sx-0FAwJuP8h"
   },
   "source": [
    "\n",
    "\n",
    "\n",
    "### chi\n"
   ]
  },
  {
   "cell_type": "code",
   "execution_count": 19,
   "id": "taPez20PuP8p",
   "metadata": {
    "colab": {
     "base_uri": "https://localhost:8080/"
    },
    "id": "taPez20PuP8p",
    "outputId": "47e67af1-edff-4fb3-bedd-4e5042db0e16"
   },
   "outputs": [
    {
     "data": {
      "text/plain": [
       "SelectKBest(k=100, score_func=<function chi2 at 0x7f2a113dd710>)"
      ]
     },
     "execution_count": 19,
     "metadata": {
      "tags": []
     },
     "output_type": "execute_result"
    }
   ],
   "source": [
    "from sklearn.feature_selection import SelectKBest\n",
    "from sklearn.feature_selection import chi2\n",
    "from sklearn.preprocessing import MinMaxScaler\n",
    "X_norm = MinMaxScaler().fit_transform(X_train)\n",
    "chi_selector = SelectKBest(chi2, k=100)\n",
    "chi_selector.fit(X_train.abs(), y_train)"
   ]
  },
  {
   "cell_type": "code",
   "execution_count": 20,
   "id": "57PwAqKMunm8",
   "metadata": {
    "colab": {
     "base_uri": "https://localhost:8080/"
    },
    "id": "57PwAqKMunm8",
    "outputId": "19ef14d4-7e2c-46bf-dc51-34fdc0269a38"
   },
   "outputs": [
    {
     "name": "stdout",
     "output_type": "stream",
     "text": [
      "100 selected features\n"
     ]
    }
   ],
   "source": [
    "\n",
    "chi_support = chi_selector.get_support()\n",
    "chi_feature = X_train.loc[:,chi_support].columns.tolist()\n",
    "print(str(len(chi_feature)), 'selected features')"
   ]
  },
  {
   "cell_type": "markdown",
   "id": "X4YI5-Jvmke6",
   "metadata": {
    "id": "X4YI5-Jvmke6"
   },
   "source": [
    "### RFE"
   ]
  },
  {
   "cell_type": "code",
   "execution_count": 120,
   "id": "wnP7RlPPm-Me",
   "metadata": {
    "colab": {
     "base_uri": "https://localhost:8080/"
    },
    "id": "wnP7RlPPm-Me",
    "outputId": "d2621c76-44ba-454a-d976-5bed1f12d9e0"
   },
   "outputs": [
    {
     "name": "stdout",
     "output_type": "stream",
     "text": [
      "Fitting estimator with 6377 features.\n",
      "Fitting estimator with 6277 features.\n",
      "Fitting estimator with 6177 features.\n",
      "Fitting estimator with 6077 features.\n",
      "Fitting estimator with 5977 features.\n",
      "Fitting estimator with 5877 features.\n",
      "Fitting estimator with 5777 features.\n",
      "Fitting estimator with 5677 features.\n",
      "Fitting estimator with 5577 features.\n",
      "Fitting estimator with 5477 features.\n",
      "Fitting estimator with 5377 features.\n",
      "Fitting estimator with 5277 features.\n",
      "Fitting estimator with 5177 features.\n",
      "Fitting estimator with 5077 features.\n",
      "Fitting estimator with 4977 features.\n",
      "Fitting estimator with 4877 features.\n",
      "Fitting estimator with 4777 features.\n",
      "Fitting estimator with 4677 features.\n",
      "Fitting estimator with 4577 features.\n",
      "Fitting estimator with 4477 features.\n",
      "Fitting estimator with 4377 features.\n",
      "Fitting estimator with 4277 features.\n",
      "Fitting estimator with 4177 features.\n",
      "Fitting estimator with 4077 features.\n",
      "Fitting estimator with 3977 features.\n",
      "Fitting estimator with 3877 features.\n",
      "Fitting estimator with 3777 features.\n",
      "Fitting estimator with 3677 features.\n",
      "Fitting estimator with 3577 features.\n",
      "Fitting estimator with 3477 features.\n",
      "Fitting estimator with 3377 features.\n",
      "Fitting estimator with 3277 features.\n",
      "Fitting estimator with 3177 features.\n",
      "Fitting estimator with 3077 features.\n",
      "Fitting estimator with 2977 features.\n",
      "Fitting estimator with 2877 features.\n",
      "Fitting estimator with 2777 features.\n",
      "Fitting estimator with 2677 features.\n",
      "Fitting estimator with 2577 features.\n",
      "Fitting estimator with 2477 features.\n",
      "Fitting estimator with 2377 features.\n",
      "Fitting estimator with 2277 features.\n",
      "Fitting estimator with 2177 features.\n",
      "Fitting estimator with 2077 features.\n",
      "Fitting estimator with 1977 features.\n",
      "Fitting estimator with 1877 features.\n",
      "Fitting estimator with 1777 features.\n",
      "Fitting estimator with 1677 features.\n",
      "Fitting estimator with 1577 features.\n",
      "Fitting estimator with 1477 features.\n",
      "Fitting estimator with 1377 features.\n",
      "Fitting estimator with 1277 features.\n",
      "Fitting estimator with 1177 features.\n",
      "Fitting estimator with 1077 features.\n",
      "Fitting estimator with 977 features.\n",
      "Fitting estimator with 877 features.\n",
      "Fitting estimator with 777 features.\n",
      "Fitting estimator with 677 features.\n",
      "Fitting estimator with 577 features.\n",
      "Fitting estimator with 477 features.\n",
      "Fitting estimator with 377 features.\n",
      "Fitting estimator with 277 features.\n",
      "Fitting estimator with 177 features.\n"
     ]
    },
    {
     "data": {
      "text/plain": [
       "RFE(estimator=LogisticRegression(C=1.0, class_weight=None, dual=False,\n",
       "                                 fit_intercept=True, intercept_scaling=1,\n",
       "                                 l1_ratio=None, max_iter=100,\n",
       "                                 multi_class='auto', n_jobs=None, penalty='l2',\n",
       "                                 random_state=None, solver='lbfgs', tol=0.0001,\n",
       "                                 verbose=0, warm_start=False),\n",
       "    n_features_to_select=100, step=100, verbose=5)"
      ]
     },
     "execution_count": 120,
     "metadata": {
      "tags": []
     },
     "output_type": "execute_result"
    }
   ],
   "source": [
    "from sklearn.feature_selection import RFE\n",
    "from sklearn.linear_model import LogisticRegression\n",
    "rfe_selector = RFE(estimator=LogisticRegression(), n_features_to_select=100, step=100, verbose=5)\n",
    "rfe_selector.fit(X_train, y_train)\n"
   ]
  },
  {
   "cell_type": "code",
   "execution_count": 21,
   "id": "ee926a6b",
   "metadata": {},
   "outputs": [
    {
     "data": {
      "text/html": [
       "<div>\n",
       "<style scoped>\n",
       "    .dataframe tbody tr th:only-of-type {\n",
       "        vertical-align: middle;\n",
       "    }\n",
       "\n",
       "    .dataframe tbody tr th {\n",
       "        vertical-align: top;\n",
       "    }\n",
       "\n",
       "    .dataframe thead th {\n",
       "        text-align: right;\n",
       "    }\n",
       "</style>\n",
       "<table border=\"1\" class=\"dataframe\">\n",
       "  <thead>\n",
       "    <tr style=\"text-align: right;\">\n",
       "      <th></th>\n",
       "      <th>y</th>\n",
       "    </tr>\n",
       "  </thead>\n",
       "  <tbody>\n",
       "    <tr>\n",
       "      <th>0</th>\n",
       "      <td>1</td>\n",
       "    </tr>\n",
       "    <tr>\n",
       "      <th>1</th>\n",
       "      <td>1</td>\n",
       "    </tr>\n",
       "    <tr>\n",
       "      <th>2</th>\n",
       "      <td>1</td>\n",
       "    </tr>\n",
       "    <tr>\n",
       "      <th>3</th>\n",
       "      <td>1</td>\n",
       "    </tr>\n",
       "    <tr>\n",
       "      <th>4</th>\n",
       "      <td>1</td>\n",
       "    </tr>\n",
       "    <tr>\n",
       "      <th>...</th>\n",
       "      <td>...</td>\n",
       "    </tr>\n",
       "    <tr>\n",
       "      <th>74912</th>\n",
       "      <td>0</td>\n",
       "    </tr>\n",
       "    <tr>\n",
       "      <th>74913</th>\n",
       "      <td>0</td>\n",
       "    </tr>\n",
       "    <tr>\n",
       "      <th>74914</th>\n",
       "      <td>0</td>\n",
       "    </tr>\n",
       "    <tr>\n",
       "      <th>74915</th>\n",
       "      <td>0</td>\n",
       "    </tr>\n",
       "    <tr>\n",
       "      <th>74916</th>\n",
       "      <td>0</td>\n",
       "    </tr>\n",
       "  </tbody>\n",
       "</table>\n",
       "<p>74917 rows × 1 columns</p>\n",
       "</div>"
      ],
      "text/plain": [
       "       y\n",
       "0      1\n",
       "1      1\n",
       "2      1\n",
       "3      1\n",
       "4      1\n",
       "...   ..\n",
       "74912  0\n",
       "74913  0\n",
       "74914  0\n",
       "74915  0\n",
       "74916  0\n",
       "\n",
       "[74917 rows x 1 columns]"
      ]
     },
     "execution_count": 21,
     "metadata": {},
     "output_type": "execute_result"
    }
   ],
   "source": [
    "y_test\n"
   ]
  },
  {
   "cell_type": "code",
   "execution_count": 122,
   "id": "JH_ZY9sinfZ1",
   "metadata": {
    "colab": {
     "base_uri": "https://localhost:8080/"
    },
    "id": "JH_ZY9sinfZ1",
    "outputId": "0c7c40ec-7b82-49f7-cb70-8f52bb79813a"
   },
   "outputs": [
    {
     "name": "stdout",
     "output_type": "stream",
     "text": [
      "100 selected features\n"
     ]
    }
   ],
   "source": [
    "rfe_support = rfe_selector.get_support()\n",
    "rfe_feature = X_train.loc[:,rfe_support].columns.tolist()\n",
    "print(str(len(rfe_feature)), 'selected features')"
   ]
  },
  {
   "cell_type": "markdown",
   "id": "f3h6UUJvozyA",
   "metadata": {
    "id": "f3h6UUJvozyA"
   },
   "source": [
    "### SelectFromModel"
   ]
  },
  {
   "cell_type": "code",
   "execution_count": 137,
   "id": "f1Fk8m0vpBZ9",
   "metadata": {
    "colab": {
     "base_uri": "https://localhost:8080/"
    },
    "id": "f1Fk8m0vpBZ9",
    "outputId": "27b065e1-94bd-490c-ae9e-3f3e9e77036b"
   },
   "outputs": [
    {
     "name": "stdout",
     "output_type": "stream",
     "text": [
      "2685 selected features\n"
     ]
    }
   ],
   "source": [
    "from sklearn.feature_selection import SelectFromModel\n",
    "from sklearn.linear_model import LogisticRegression\n",
    "\n",
    "embeded_lr_selector = SelectFromModel(LogisticRegression(penalty=\"l2\"), '1.25*median')\n",
    "embeded_lr_selector.fit(X_train, y_train)\n",
    "\n",
    "embeded_lr_support = embeded_lr_selector.get_support()\n",
    "embeded_lr_feature = X_train.loc[:,embeded_lr_support].columns.tolist()\n",
    "print(str(len(embeded_lr_feature)), 'selected features')"
   ]
  },
  {
   "cell_type": "markdown",
   "id": "lEsxM2OKpzjO",
   "metadata": {
    "id": "lEsxM2OKpzjO"
   },
   "source": [
    "### SelectFromRF"
   ]
  },
  {
   "cell_type": "code",
   "execution_count": 17,
   "id": "wC1Pi3Map3Y5",
   "metadata": {
    "colab": {
     "base_uri": "https://localhost:8080/"
    },
    "id": "wC1Pi3Map3Y5",
    "outputId": "52c00fa1-fd32-4dce-8ecc-6af972284458"
   },
   "outputs": [
    {
     "name": "stdout",
     "output_type": "stream",
     "text": [
      "2946 selected features\n"
     ]
    }
   ],
   "source": [
    "from sklearn.feature_selection import SelectFromModel\n",
    "from sklearn.ensemble import RandomForestClassifier\n",
    "\n",
    "embeded_rf_selector = SelectFromModel(RandomForestClassifier(n_estimators=100), threshold='1.25*median')\n",
    "embeded_rf_selector.fit(X_train, y_train)\n",
    "\n",
    "embeded_rf_support = embeded_rf_selector.get_support()\n",
    "embeded_rf_feature = X_train.loc[:,embeded_rf_support].columns.tolist()\n",
    "print(str(len(embeded_rf_feature)), 'selected features')"
   ]
  },
  {
   "cell_type": "markdown",
   "id": "uK46dJsqr1rm",
   "metadata": {
    "id": "uK46dJsqr1rm"
   },
   "source": [
    "### SelectFromlgbm"
   ]
  },
  {
   "cell_type": "code",
   "execution_count": null,
   "id": "Xyrl3jAsr1ro",
   "metadata": {
    "colab": {
     "base_uri": "https://localhost:8080/"
    },
    "id": "Xyrl3jAsr1ro",
    "outputId": "788b89bd-3eda-48e7-9ef1-b2b71ace5a5f"
   },
   "outputs": [
    {
     "name": "stdout",
     "output_type": "stream",
     "text": [
      "2941 selected features\n"
     ]
    }
   ],
   "source": [
    "from sklearn.feature_selection import SelectFromModel\n",
    "from lightgbm import LGBMClassifier\n",
    "\n",
    "lgbc=LGBMClassifier(n_estimators=500, learning_rate=0.05, num_leaves=32, colsample_bytree=0.2,\n",
    "            reg_alpha=3, reg_lambda=1, min_split_gain=0.01, min_child_weight=40)\n",
    "\n",
    "embeded_lgb_selector = SelectFromModel(lgbc, threshold='1.25*median')\n",
    "embeded_lgb_selector.fit(X_train, y_train)\n",
    "\n",
    "embeded_lgb_support = embeded_lgb_selector.get_support()\n",
    "embeded_lgb_feature = X_train.loc[:,embeded_lgb_support].columns.tolist()\n",
    "print(str(len(embeded_lgb_feature)), 'selected features')"
   ]
  },
  {
   "cell_type": "markdown",
   "id": "18015e10",
   "metadata": {
    "id": "18015e10"
   },
   "source": [
    "# Models correlation features"
   ]
  },
  {
   "cell_type": "code",
   "execution_count": 29,
   "id": "EJW0b03Tld2z",
   "metadata": {
    "id": "EJW0b03Tld2z"
   },
   "outputs": [],
   "source": [
    "import pandas as pd\n",
    "import numpy as np\n",
    "from sklearn.linear_model import LogisticRegression\n",
    "from sklearn import svm\n",
    "from sklearn import tree\n",
    "from sklearn.ensemble import RandomForestClassifier\n",
    "from sklearn.neighbors import KNeighborsClassifier\n",
    "from xgboost import XGBClassifier\n",
    "from sklearn.model_selection import train_test_split\n",
    "from sklearn.neural_network import MLPClassifier\n",
    "from sklearn.preprocessing import StandardScaler\n",
    "import seaborn as sns\n",
    "import matplotlib.pyplot as plt\n",
    "from sklearn.metrics import accuracy_score\n",
    "from sklearn.feature_selection import SelectFromModel\n",
    "\n",
    "from sklearn.decomposition import PCA\n",
    "from sklearn.manifold import TSNE\n",
    "%matplotlib inline\n",
    "import matplotlib.pyplot as plt\n",
    "from mpl_toolkits.mplot3d import Axes3D\n",
    "\n",
    "\n",
    "\n",
    "import warnings\n",
    "warnings.filterwarnings('ignore')"
   ]
  },
  {
   "cell_type": "code",
   "execution_count": null,
   "id": "228cc777",
   "metadata": {
    "id": "228cc777"
   },
   "outputs": [],
   "source": [
    "features = X_train[cor_feature]\n",
    "features2 = X_test[cor_feature]"
   ]
  },
  {
   "cell_type": "code",
   "execution_count": null,
   "id": "4t4BH4VPklGT",
   "metadata": {
    "colab": {
     "base_uri": "https://localhost:8080/"
    },
    "id": "4t4BH4VPklGT",
    "outputId": "7f6d0ee8-d2d0-4f41-f006-c87282438b11"
   },
   "outputs": [],
   "source": [
    "features.isna().sum().sum()"
   ]
  },
  {
   "cell_type": "code",
   "execution_count": null,
   "id": "17xh_Mqoii9g",
   "metadata": {
    "colab": {
     "base_uri": "https://localhost:8080/"
    },
    "id": "17xh_Mqoii9g",
    "outputId": "1d51b99c-b1dd-401d-94f3-05d2e3afdf41"
   },
   "outputs": [],
   "source": [
    "X_test.isna().sum().sum()"
   ]
  },
  {
   "cell_type": "code",
   "execution_count": 32,
   "id": "8f5909cf",
   "metadata": {},
   "outputs": [
    {
     "ename": "MemoryError",
     "evalue": "Unable to allocate 4.51 TiB for an array with shape (787477, 787477) and data type float64",
     "output_type": "error",
     "traceback": [
      "\u001b[1;31m---------------------------------------------------------------------------\u001b[0m",
      "\u001b[1;31mMemoryError\u001b[0m                               Traceback (most recent call last)",
      "\u001b[1;32m<ipython-input-32-b5d78aa1aeda>\u001b[0m in \u001b[0;36m<module>\u001b[1;34m\u001b[0m\n\u001b[0;32m      1\u001b[0m \u001b[1;32mfrom\u001b[0m \u001b[0mkfda\u001b[0m \u001b[1;32mimport\u001b[0m \u001b[0mKfda\u001b[0m\u001b[1;33m\u001b[0m\u001b[1;33m\u001b[0m\u001b[0m\n\u001b[0;32m      2\u001b[0m \u001b[0mcls\u001b[0m \u001b[1;33m=\u001b[0m \u001b[0mKfda\u001b[0m\u001b[1;33m(\u001b[0m\u001b[0mkernel\u001b[0m\u001b[1;33m=\u001b[0m\u001b[1;34m'rbf'\u001b[0m\u001b[1;33m)\u001b[0m\u001b[1;33m\u001b[0m\u001b[1;33m\u001b[0m\u001b[0m\n\u001b[1;32m----> 3\u001b[1;33m \u001b[0mcls\u001b[0m\u001b[1;33m.\u001b[0m\u001b[0mfit\u001b[0m\u001b[1;33m(\u001b[0m\u001b[0mfeatures\u001b[0m\u001b[1;33m,\u001b[0m \u001b[0my_train\u001b[0m\u001b[1;33m)\u001b[0m\u001b[1;33m\u001b[0m\u001b[1;33m\u001b[0m\u001b[0m\n\u001b[0m\u001b[0;32m      4\u001b[0m \u001b[1;33m\u001b[0m\u001b[0m\n\u001b[0;32m      5\u001b[0m \u001b[0mprint\u001b[0m\u001b[1;33m(\u001b[0m\u001b[1;34m'Scores:'\u001b[0m\u001b[1;33m)\u001b[0m\u001b[1;33m\u001b[0m\u001b[1;33m\u001b[0m\u001b[0m\n",
      "\u001b[1;32mC:\\ProgramData\\Anaconda3\\lib\\site-packages\\kfda\\kfda.py\u001b[0m in \u001b[0;36mfit\u001b[1;34m(self, X, y)\u001b[0m\n\u001b[0;32m     83\u001b[0m             self.y_[:, np.newaxis])\n\u001b[0;32m     84\u001b[0m \u001b[1;33m\u001b[0m\u001b[0m\n\u001b[1;32m---> 85\u001b[1;33m         K = pairwise_kernels(\n\u001b[0m\u001b[0;32m     86\u001b[0m             X, X, metric=self.kernel, **self.kwds)\n\u001b[0;32m     87\u001b[0m \u001b[1;33m\u001b[0m\u001b[0m\n",
      "\u001b[1;32mC:\\ProgramData\\Anaconda3\\lib\\site-packages\\sklearn\\utils\\validation.py\u001b[0m in \u001b[0;36minner_f\u001b[1;34m(*args, **kwargs)\u001b[0m\n\u001b[0;32m     61\u001b[0m             \u001b[0mextra_args\u001b[0m \u001b[1;33m=\u001b[0m \u001b[0mlen\u001b[0m\u001b[1;33m(\u001b[0m\u001b[0margs\u001b[0m\u001b[1;33m)\u001b[0m \u001b[1;33m-\u001b[0m \u001b[0mlen\u001b[0m\u001b[1;33m(\u001b[0m\u001b[0mall_args\u001b[0m\u001b[1;33m)\u001b[0m\u001b[1;33m\u001b[0m\u001b[1;33m\u001b[0m\u001b[0m\n\u001b[0;32m     62\u001b[0m             \u001b[1;32mif\u001b[0m \u001b[0mextra_args\u001b[0m \u001b[1;33m<=\u001b[0m \u001b[1;36m0\u001b[0m\u001b[1;33m:\u001b[0m\u001b[1;33m\u001b[0m\u001b[1;33m\u001b[0m\u001b[0m\n\u001b[1;32m---> 63\u001b[1;33m                 \u001b[1;32mreturn\u001b[0m \u001b[0mf\u001b[0m\u001b[1;33m(\u001b[0m\u001b[1;33m*\u001b[0m\u001b[0margs\u001b[0m\u001b[1;33m,\u001b[0m \u001b[1;33m**\u001b[0m\u001b[0mkwargs\u001b[0m\u001b[1;33m)\u001b[0m\u001b[1;33m\u001b[0m\u001b[1;33m\u001b[0m\u001b[0m\n\u001b[0m\u001b[0;32m     64\u001b[0m \u001b[1;33m\u001b[0m\u001b[0m\n\u001b[0;32m     65\u001b[0m             \u001b[1;31m# extra_args > 0\u001b[0m\u001b[1;33m\u001b[0m\u001b[1;33m\u001b[0m\u001b[1;33m\u001b[0m\u001b[0m\n",
      "\u001b[1;32mC:\\ProgramData\\Anaconda3\\lib\\site-packages\\sklearn\\metrics\\pairwise.py\u001b[0m in \u001b[0;36mpairwise_kernels\u001b[1;34m(X, Y, metric, filter_params, n_jobs, **kwds)\u001b[0m\n\u001b[0;32m   1952\u001b[0m         \u001b[1;32mraise\u001b[0m \u001b[0mValueError\u001b[0m\u001b[1;33m(\u001b[0m\u001b[1;34m\"Unknown kernel %r\"\u001b[0m \u001b[1;33m%\u001b[0m \u001b[0mmetric\u001b[0m\u001b[1;33m)\u001b[0m\u001b[1;33m\u001b[0m\u001b[1;33m\u001b[0m\u001b[0m\n\u001b[0;32m   1953\u001b[0m \u001b[1;33m\u001b[0m\u001b[0m\n\u001b[1;32m-> 1954\u001b[1;33m     \u001b[1;32mreturn\u001b[0m \u001b[0m_parallel_pairwise\u001b[0m\u001b[1;33m(\u001b[0m\u001b[0mX\u001b[0m\u001b[1;33m,\u001b[0m \u001b[0mY\u001b[0m\u001b[1;33m,\u001b[0m \u001b[0mfunc\u001b[0m\u001b[1;33m,\u001b[0m \u001b[0mn_jobs\u001b[0m\u001b[1;33m,\u001b[0m \u001b[1;33m**\u001b[0m\u001b[0mkwds\u001b[0m\u001b[1;33m)\u001b[0m\u001b[1;33m\u001b[0m\u001b[1;33m\u001b[0m\u001b[0m\n\u001b[0m",
      "\u001b[1;32mC:\\ProgramData\\Anaconda3\\lib\\site-packages\\sklearn\\metrics\\pairwise.py\u001b[0m in \u001b[0;36m_parallel_pairwise\u001b[1;34m(X, Y, func, n_jobs, **kwds)\u001b[0m\n\u001b[0;32m   1357\u001b[0m \u001b[1;33m\u001b[0m\u001b[0m\n\u001b[0;32m   1358\u001b[0m     \u001b[1;32mif\u001b[0m \u001b[0meffective_n_jobs\u001b[0m\u001b[1;33m(\u001b[0m\u001b[0mn_jobs\u001b[0m\u001b[1;33m)\u001b[0m \u001b[1;33m==\u001b[0m \u001b[1;36m1\u001b[0m\u001b[1;33m:\u001b[0m\u001b[1;33m\u001b[0m\u001b[1;33m\u001b[0m\u001b[0m\n\u001b[1;32m-> 1359\u001b[1;33m         \u001b[1;32mreturn\u001b[0m \u001b[0mfunc\u001b[0m\u001b[1;33m(\u001b[0m\u001b[0mX\u001b[0m\u001b[1;33m,\u001b[0m \u001b[0mY\u001b[0m\u001b[1;33m,\u001b[0m \u001b[1;33m**\u001b[0m\u001b[0mkwds\u001b[0m\u001b[1;33m)\u001b[0m\u001b[1;33m\u001b[0m\u001b[1;33m\u001b[0m\u001b[0m\n\u001b[0m\u001b[0;32m   1360\u001b[0m \u001b[1;33m\u001b[0m\u001b[0m\n\u001b[0;32m   1361\u001b[0m     \u001b[1;31m# enforce a threading backend to prevent data communication overhead\u001b[0m\u001b[1;33m\u001b[0m\u001b[1;33m\u001b[0m\u001b[1;33m\u001b[0m\u001b[0m\n",
      "\u001b[1;32mC:\\ProgramData\\Anaconda3\\lib\\site-packages\\sklearn\\metrics\\pairwise.py\u001b[0m in \u001b[0;36mrbf_kernel\u001b[1;34m(X, Y, gamma)\u001b[0m\n\u001b[0;32m   1103\u001b[0m         \u001b[0mgamma\u001b[0m \u001b[1;33m=\u001b[0m \u001b[1;36m1.0\u001b[0m \u001b[1;33m/\u001b[0m \u001b[0mX\u001b[0m\u001b[1;33m.\u001b[0m\u001b[0mshape\u001b[0m\u001b[1;33m[\u001b[0m\u001b[1;36m1\u001b[0m\u001b[1;33m]\u001b[0m\u001b[1;33m\u001b[0m\u001b[1;33m\u001b[0m\u001b[0m\n\u001b[0;32m   1104\u001b[0m \u001b[1;33m\u001b[0m\u001b[0m\n\u001b[1;32m-> 1105\u001b[1;33m     \u001b[0mK\u001b[0m \u001b[1;33m=\u001b[0m \u001b[0meuclidean_distances\u001b[0m\u001b[1;33m(\u001b[0m\u001b[0mX\u001b[0m\u001b[1;33m,\u001b[0m \u001b[0mY\u001b[0m\u001b[1;33m,\u001b[0m \u001b[0msquared\u001b[0m\u001b[1;33m=\u001b[0m\u001b[1;32mTrue\u001b[0m\u001b[1;33m)\u001b[0m\u001b[1;33m\u001b[0m\u001b[1;33m\u001b[0m\u001b[0m\n\u001b[0m\u001b[0;32m   1106\u001b[0m     \u001b[0mK\u001b[0m \u001b[1;33m*=\u001b[0m \u001b[1;33m-\u001b[0m\u001b[0mgamma\u001b[0m\u001b[1;33m\u001b[0m\u001b[1;33m\u001b[0m\u001b[0m\n\u001b[0;32m   1107\u001b[0m     \u001b[0mnp\u001b[0m\u001b[1;33m.\u001b[0m\u001b[0mexp\u001b[0m\u001b[1;33m(\u001b[0m\u001b[0mK\u001b[0m\u001b[1;33m,\u001b[0m \u001b[0mK\u001b[0m\u001b[1;33m)\u001b[0m  \u001b[1;31m# exponentiate K in-place\u001b[0m\u001b[1;33m\u001b[0m\u001b[1;33m\u001b[0m\u001b[0m\n",
      "\u001b[1;32mC:\\ProgramData\\Anaconda3\\lib\\site-packages\\sklearn\\utils\\validation.py\u001b[0m in \u001b[0;36minner_f\u001b[1;34m(*args, **kwargs)\u001b[0m\n\u001b[0;32m     61\u001b[0m             \u001b[0mextra_args\u001b[0m \u001b[1;33m=\u001b[0m \u001b[0mlen\u001b[0m\u001b[1;33m(\u001b[0m\u001b[0margs\u001b[0m\u001b[1;33m)\u001b[0m \u001b[1;33m-\u001b[0m \u001b[0mlen\u001b[0m\u001b[1;33m(\u001b[0m\u001b[0mall_args\u001b[0m\u001b[1;33m)\u001b[0m\u001b[1;33m\u001b[0m\u001b[1;33m\u001b[0m\u001b[0m\n\u001b[0;32m     62\u001b[0m             \u001b[1;32mif\u001b[0m \u001b[0mextra_args\u001b[0m \u001b[1;33m<=\u001b[0m \u001b[1;36m0\u001b[0m\u001b[1;33m:\u001b[0m\u001b[1;33m\u001b[0m\u001b[1;33m\u001b[0m\u001b[0m\n\u001b[1;32m---> 63\u001b[1;33m                 \u001b[1;32mreturn\u001b[0m \u001b[0mf\u001b[0m\u001b[1;33m(\u001b[0m\u001b[1;33m*\u001b[0m\u001b[0margs\u001b[0m\u001b[1;33m,\u001b[0m \u001b[1;33m**\u001b[0m\u001b[0mkwargs\u001b[0m\u001b[1;33m)\u001b[0m\u001b[1;33m\u001b[0m\u001b[1;33m\u001b[0m\u001b[0m\n\u001b[0m\u001b[0;32m     64\u001b[0m \u001b[1;33m\u001b[0m\u001b[0m\n\u001b[0;32m     65\u001b[0m             \u001b[1;31m# extra_args > 0\u001b[0m\u001b[1;33m\u001b[0m\u001b[1;33m\u001b[0m\u001b[1;33m\u001b[0m\u001b[0m\n",
      "\u001b[1;32mC:\\ProgramData\\Anaconda3\\lib\\site-packages\\sklearn\\metrics\\pairwise.py\u001b[0m in \u001b[0;36meuclidean_distances\u001b[1;34m(X, Y, Y_norm_squared, squared, X_norm_squared)\u001b[0m\n\u001b[0;32m    311\u001b[0m     \u001b[1;32melse\u001b[0m\u001b[1;33m:\u001b[0m\u001b[1;33m\u001b[0m\u001b[1;33m\u001b[0m\u001b[0m\n\u001b[0;32m    312\u001b[0m         \u001b[1;31m# if dtype is already float64, no need to chunk and upcast\u001b[0m\u001b[1;33m\u001b[0m\u001b[1;33m\u001b[0m\u001b[1;33m\u001b[0m\u001b[0m\n\u001b[1;32m--> 313\u001b[1;33m         \u001b[0mdistances\u001b[0m \u001b[1;33m=\u001b[0m \u001b[1;33m-\u001b[0m \u001b[1;36m2\u001b[0m \u001b[1;33m*\u001b[0m \u001b[0msafe_sparse_dot\u001b[0m\u001b[1;33m(\u001b[0m\u001b[0mX\u001b[0m\u001b[1;33m,\u001b[0m \u001b[0mY\u001b[0m\u001b[1;33m.\u001b[0m\u001b[0mT\u001b[0m\u001b[1;33m,\u001b[0m \u001b[0mdense_output\u001b[0m\u001b[1;33m=\u001b[0m\u001b[1;32mTrue\u001b[0m\u001b[1;33m)\u001b[0m\u001b[1;33m\u001b[0m\u001b[1;33m\u001b[0m\u001b[0m\n\u001b[0m\u001b[0;32m    314\u001b[0m         \u001b[0mdistances\u001b[0m \u001b[1;33m+=\u001b[0m \u001b[0mXX\u001b[0m\u001b[1;33m\u001b[0m\u001b[1;33m\u001b[0m\u001b[0m\n\u001b[0;32m    315\u001b[0m         \u001b[0mdistances\u001b[0m \u001b[1;33m+=\u001b[0m \u001b[0mYY\u001b[0m\u001b[1;33m\u001b[0m\u001b[1;33m\u001b[0m\u001b[0m\n",
      "\u001b[1;32mC:\\ProgramData\\Anaconda3\\lib\\site-packages\\sklearn\\utils\\validation.py\u001b[0m in \u001b[0;36minner_f\u001b[1;34m(*args, **kwargs)\u001b[0m\n\u001b[0;32m     61\u001b[0m             \u001b[0mextra_args\u001b[0m \u001b[1;33m=\u001b[0m \u001b[0mlen\u001b[0m\u001b[1;33m(\u001b[0m\u001b[0margs\u001b[0m\u001b[1;33m)\u001b[0m \u001b[1;33m-\u001b[0m \u001b[0mlen\u001b[0m\u001b[1;33m(\u001b[0m\u001b[0mall_args\u001b[0m\u001b[1;33m)\u001b[0m\u001b[1;33m\u001b[0m\u001b[1;33m\u001b[0m\u001b[0m\n\u001b[0;32m     62\u001b[0m             \u001b[1;32mif\u001b[0m \u001b[0mextra_args\u001b[0m \u001b[1;33m<=\u001b[0m \u001b[1;36m0\u001b[0m\u001b[1;33m:\u001b[0m\u001b[1;33m\u001b[0m\u001b[1;33m\u001b[0m\u001b[0m\n\u001b[1;32m---> 63\u001b[1;33m                 \u001b[1;32mreturn\u001b[0m \u001b[0mf\u001b[0m\u001b[1;33m(\u001b[0m\u001b[1;33m*\u001b[0m\u001b[0margs\u001b[0m\u001b[1;33m,\u001b[0m \u001b[1;33m**\u001b[0m\u001b[0mkwargs\u001b[0m\u001b[1;33m)\u001b[0m\u001b[1;33m\u001b[0m\u001b[1;33m\u001b[0m\u001b[0m\n\u001b[0m\u001b[0;32m     64\u001b[0m \u001b[1;33m\u001b[0m\u001b[0m\n\u001b[0;32m     65\u001b[0m             \u001b[1;31m# extra_args > 0\u001b[0m\u001b[1;33m\u001b[0m\u001b[1;33m\u001b[0m\u001b[1;33m\u001b[0m\u001b[0m\n",
      "\u001b[1;32mC:\\ProgramData\\Anaconda3\\lib\\site-packages\\sklearn\\utils\\extmath.py\u001b[0m in \u001b[0;36msafe_sparse_dot\u001b[1;34m(a, b, dense_output)\u001b[0m\n\u001b[0;32m    150\u001b[0m             \u001b[0mret\u001b[0m \u001b[1;33m=\u001b[0m \u001b[0mnp\u001b[0m\u001b[1;33m.\u001b[0m\u001b[0mdot\u001b[0m\u001b[1;33m(\u001b[0m\u001b[0ma\u001b[0m\u001b[1;33m,\u001b[0m \u001b[0mb\u001b[0m\u001b[1;33m)\u001b[0m\u001b[1;33m\u001b[0m\u001b[1;33m\u001b[0m\u001b[0m\n\u001b[0;32m    151\u001b[0m     \u001b[1;32melse\u001b[0m\u001b[1;33m:\u001b[0m\u001b[1;33m\u001b[0m\u001b[1;33m\u001b[0m\u001b[0m\n\u001b[1;32m--> 152\u001b[1;33m         \u001b[0mret\u001b[0m \u001b[1;33m=\u001b[0m \u001b[0ma\u001b[0m \u001b[1;33m@\u001b[0m \u001b[0mb\u001b[0m\u001b[1;33m\u001b[0m\u001b[1;33m\u001b[0m\u001b[0m\n\u001b[0m\u001b[0;32m    153\u001b[0m \u001b[1;33m\u001b[0m\u001b[0m\n\u001b[0;32m    154\u001b[0m     if (sparse.issparse(a) and sparse.issparse(b)\n",
      "\u001b[1;31mMemoryError\u001b[0m: Unable to allocate 4.51 TiB for an array with shape (787477, 787477) and data type float64"
     ]
    }
   ],
   "source": [
    "from kfda import Kfda\n",
    "cls = Kfda(kernel='rbf')\n",
    "cls.fit(features, y_train)\n",
    "\n",
    "print('Scores:')\n",
    "test_score = cls.score(features2, y_test)\n",
    "print(f'Test Score: {test_score}')\n",
    "train_score = cls.score(features, y_train)\n",
    "print(f'Train Score: {train_score}')\n",
    "# predictions = cls.predict(test_sample)\n",
    "# import matplotlib.pyplot as plt\n",
    "from sklearn.metrics import classication_report\n",
    "y_pred = cls.predict(X_test)\n",
    "print(classication_report(y_test, y_pred))\n",
    "# pos = plt.imshow(confusion)\n",
    "# plt.colorbar(pos)"
   ]
  },
  {
   "cell_type": "code",
   "execution_count": 37,
   "id": "f9cbffc9",
   "metadata": {},
   "outputs": [
    {
     "ename": "NameError",
     "evalue": "name 'classification_report' is not defined",
     "output_type": "error",
     "traceback": [
      "\u001b[1;31m---------------------------------------------------------------------------\u001b[0m",
      "\u001b[1;31mNameError\u001b[0m                                 Traceback (most recent call last)",
      "\u001b[1;32m<ipython-input-37-7e761dae2664>\u001b[0m in \u001b[0;36m<module>\u001b[1;34m\u001b[0m\n\u001b[0;32m     14\u001b[0m \u001b[0my_pred\u001b[0m \u001b[1;33m=\u001b[0m \u001b[0mlda\u001b[0m\u001b[1;33m.\u001b[0m\u001b[0mfit\u001b[0m\u001b[1;33m(\u001b[0m\u001b[0mfeatures\u001b[0m\u001b[1;33m,\u001b[0m \u001b[0my_train\u001b[0m\u001b[1;33m)\u001b[0m\u001b[1;33m.\u001b[0m\u001b[0mpredict\u001b[0m\u001b[1;33m(\u001b[0m\u001b[0mfeatures2\u001b[0m\u001b[1;33m)\u001b[0m\u001b[1;33m\u001b[0m\u001b[1;33m\u001b[0m\u001b[0m\n\u001b[0;32m     15\u001b[0m \u001b[1;31m# splot = plot_data(lda, X, y, y_pred, fig_index=2 * i + 1)\u001b[0m\u001b[1;33m\u001b[0m\u001b[1;33m\u001b[0m\u001b[1;33m\u001b[0m\u001b[0m\n\u001b[1;32m---> 16\u001b[1;33m \u001b[0mprint\u001b[0m\u001b[1;33m(\u001b[0m\u001b[0mclassification_report\u001b[0m\u001b[1;33m(\u001b[0m\u001b[0my_pred\u001b[0m\u001b[1;33m,\u001b[0m\u001b[0my_test\u001b[0m\u001b[1;33m)\u001b[0m\u001b[1;33m)\u001b[0m\u001b[1;33m\u001b[0m\u001b[1;33m\u001b[0m\u001b[0m\n\u001b[0m\u001b[0;32m     17\u001b[0m \u001b[1;33m\u001b[0m\u001b[0m\n\u001b[0;32m     18\u001b[0m \u001b[1;33m\u001b[0m\u001b[0m\n",
      "\u001b[1;31mNameError\u001b[0m: name 'classification_report' is not defined"
     ]
    }
   ],
   "source": [
    "from scipy import linalg\n",
    "import numpy as np\n",
    "import matplotlib.pyplot as plt\n",
    "import matplotlib as mpl\n",
    "from matplotlib import colors\n",
    "\n",
    "from sklearn.discriminant_analysis import LinearDiscriminantAnalysis as LDA\n",
    "# from sklearn.discriminant_analysis import LinearDiscriminantAnalysis\n",
    "from sklearn.discriminant_analysis import QuadraticDiscriminantAnalysis as QDA\n",
    "\n",
    "\n",
    "\n",
    "lda = LDA(solver=\"svd\")\n",
    "y_pred = lda.fit(features, y_train).predict(features2)\n",
    "# splot = plot_data(lda, X, y, y_pred, fig_index=2 * i + 1)\n",
    "\n",
    "\n",
    "    # QDA\n",
    "#     qda = QDA()\n",
    "#     y_pred = qda.fit(X, y, store_covariances=True).predict(X)"
   ]
  },
  {
   "cell_type": "code",
   "execution_count": 38,
   "id": "302bb0b2",
   "metadata": {},
   "outputs": [
    {
     "name": "stdout",
     "output_type": "stream",
     "text": [
      "              precision    recall  f1-score   support\n",
      "\n",
      "           0       0.99      0.97      0.98     33111\n",
      "           1       0.98      0.99      0.98     41806\n",
      "\n",
      "    accuracy                           0.98     74917\n",
      "   macro avg       0.98      0.98      0.98     74917\n",
      "weighted avg       0.98      0.98      0.98     74917\n",
      "\n"
     ]
    }
   ],
   "source": [
    "from sklearn.metrics import classification_report\n",
    "print(classification_report(y_pred,y_test))\n"
   ]
  },
  {
   "cell_type": "code",
   "execution_count": 42,
   "id": "a4f6ed92",
   "metadata": {},
   "outputs": [
    {
     "data": {
      "text/plain": [
       "{'covariance_estimator': None,\n",
       " 'n_components': None,\n",
       " 'priors': None,\n",
       " 'shrinkage': None,\n",
       " 'solver': 'svd',\n",
       " 'store_covariance': False,\n",
       " 'tol': 0.0001}"
      ]
     },
     "execution_count": 42,
     "metadata": {},
     "output_type": "execute_result"
    }
   ],
   "source": [
    "lda.get_params()"
   ]
  },
  {
   "cell_type": "code",
   "execution_count": 65,
   "id": "77380da7",
   "metadata": {
    "colab": {
     "base_uri": "https://localhost:8080/"
    },
    "id": "77380da7",
    "outputId": "79b65b8c-7805-42bb-82e1-40f2a610ab97"
   },
   "outputs": [
    {
     "ename": "MemoryError",
     "evalue": "Unable to allocate 300. MiB for an array with shape (787477, 100) and data type float32",
     "output_type": "error",
     "traceback": [
      "\u001b[1;31m---------------------------------------------------------------------------\u001b[0m",
      "\u001b[1;31mMemoryError\u001b[0m                               Traceback (most recent call last)",
      "\u001b[1;32m<ipython-input-65-91cbc360c3e4>\u001b[0m in \u001b[0;36m<module>\u001b[1;34m\u001b[0m\n\u001b[0;32m      7\u001b[0m \u001b[1;31m# scores = cross_val_score(clf, features, y_train, cv=5)\u001b[0m\u001b[1;33m\u001b[0m\u001b[1;33m\u001b[0m\u001b[1;33m\u001b[0m\u001b[0m\n\u001b[0;32m      8\u001b[0m \u001b[1;31m# print(scores.mean())\u001b[0m\u001b[1;33m\u001b[0m\u001b[1;33m\u001b[0m\u001b[1;33m\u001b[0m\u001b[0m\n\u001b[1;32m----> 9\u001b[1;33m \u001b[0mclf\u001b[0m\u001b[1;33m.\u001b[0m\u001b[0mfit\u001b[0m\u001b[1;33m(\u001b[0m\u001b[0mfeatures\u001b[0m\u001b[1;33m,\u001b[0m \u001b[0my_train\u001b[0m\u001b[1;33m)\u001b[0m\u001b[1;33m\u001b[0m\u001b[1;33m\u001b[0m\u001b[0m\n\u001b[0m\u001b[0;32m     10\u001b[0m \u001b[0my_pred\u001b[0m \u001b[1;33m=\u001b[0m \u001b[1;33m(\u001b[0m\u001b[0mclf\u001b[0m\u001b[1;33m.\u001b[0m\u001b[0mpredict\u001b[0m\u001b[1;33m(\u001b[0m\u001b[0mfeatures2\u001b[0m\u001b[1;33m)\u001b[0m\u001b[1;33m>\u001b[0m\u001b[1;36m0.5\u001b[0m\u001b[1;33m)\u001b[0m\u001b[1;33m.\u001b[0m\u001b[0mastype\u001b[0m\u001b[1;33m(\u001b[0m\u001b[0mint\u001b[0m\u001b[1;33m)\u001b[0m\u001b[1;33m\u001b[0m\u001b[1;33m\u001b[0m\u001b[0m\n\u001b[0;32m     11\u001b[0m \u001b[1;32mfrom\u001b[0m \u001b[0msklearn\u001b[0m\u001b[1;33m.\u001b[0m\u001b[0mmetrics\u001b[0m \u001b[1;32mimport\u001b[0m \u001b[0mclassification_report\u001b[0m\u001b[1;33m\u001b[0m\u001b[1;33m\u001b[0m\u001b[0m\n",
      "\u001b[1;32mC:\\ProgramData\\Anaconda3\\lib\\site-packages\\sklearn\\ensemble\\_weight_boosting.py\u001b[0m in \u001b[0;36mfit\u001b[1;34m(self, X, y, sample_weight)\u001b[0m\n\u001b[0;32m    441\u001b[0m \u001b[1;33m\u001b[0m\u001b[0m\n\u001b[0;32m    442\u001b[0m         \u001b[1;31m# Fit\u001b[0m\u001b[1;33m\u001b[0m\u001b[1;33m\u001b[0m\u001b[1;33m\u001b[0m\u001b[0m\n\u001b[1;32m--> 443\u001b[1;33m         \u001b[1;32mreturn\u001b[0m \u001b[0msuper\u001b[0m\u001b[1;33m(\u001b[0m\u001b[1;33m)\u001b[0m\u001b[1;33m.\u001b[0m\u001b[0mfit\u001b[0m\u001b[1;33m(\u001b[0m\u001b[0mX\u001b[0m\u001b[1;33m,\u001b[0m \u001b[0my\u001b[0m\u001b[1;33m,\u001b[0m \u001b[0msample_weight\u001b[0m\u001b[1;33m)\u001b[0m\u001b[1;33m\u001b[0m\u001b[1;33m\u001b[0m\u001b[0m\n\u001b[0m\u001b[0;32m    444\u001b[0m \u001b[1;33m\u001b[0m\u001b[0m\n\u001b[0;32m    445\u001b[0m     \u001b[1;32mdef\u001b[0m \u001b[0m_validate_estimator\u001b[0m\u001b[1;33m(\u001b[0m\u001b[0mself\u001b[0m\u001b[1;33m)\u001b[0m\u001b[1;33m:\u001b[0m\u001b[1;33m\u001b[0m\u001b[1;33m\u001b[0m\u001b[0m\n",
      "\u001b[1;32mC:\\ProgramData\\Anaconda3\\lib\\site-packages\\sklearn\\ensemble\\_weight_boosting.py\u001b[0m in \u001b[0;36mfit\u001b[1;34m(self, X, y, sample_weight)\u001b[0m\n\u001b[0;32m    128\u001b[0m         \u001b[1;32mfor\u001b[0m \u001b[0miboost\u001b[0m \u001b[1;32min\u001b[0m \u001b[0mrange\u001b[0m\u001b[1;33m(\u001b[0m\u001b[0mself\u001b[0m\u001b[1;33m.\u001b[0m\u001b[0mn_estimators\u001b[0m\u001b[1;33m)\u001b[0m\u001b[1;33m:\u001b[0m\u001b[1;33m\u001b[0m\u001b[1;33m\u001b[0m\u001b[0m\n\u001b[0;32m    129\u001b[0m             \u001b[1;31m# Boosting step\u001b[0m\u001b[1;33m\u001b[0m\u001b[1;33m\u001b[0m\u001b[1;33m\u001b[0m\u001b[0m\n\u001b[1;32m--> 130\u001b[1;33m             sample_weight, estimator_weight, estimator_error = self._boost(\n\u001b[0m\u001b[0;32m    131\u001b[0m                 \u001b[0miboost\u001b[0m\u001b[1;33m,\u001b[0m\u001b[1;33m\u001b[0m\u001b[1;33m\u001b[0m\u001b[0m\n\u001b[0;32m    132\u001b[0m                 \u001b[0mX\u001b[0m\u001b[1;33m,\u001b[0m \u001b[0my\u001b[0m\u001b[1;33m,\u001b[0m\u001b[1;33m\u001b[0m\u001b[1;33m\u001b[0m\u001b[0m\n",
      "\u001b[1;32mC:\\ProgramData\\Anaconda3\\lib\\site-packages\\sklearn\\ensemble\\_weight_boosting.py\u001b[0m in \u001b[0;36m_boost\u001b[1;34m(self, iboost, X, y, sample_weight, random_state)\u001b[0m\n\u001b[0;32m    501\u001b[0m         \"\"\"\n\u001b[0;32m    502\u001b[0m         \u001b[1;32mif\u001b[0m \u001b[0mself\u001b[0m\u001b[1;33m.\u001b[0m\u001b[0malgorithm\u001b[0m \u001b[1;33m==\u001b[0m \u001b[1;34m'SAMME.R'\u001b[0m\u001b[1;33m:\u001b[0m\u001b[1;33m\u001b[0m\u001b[1;33m\u001b[0m\u001b[0m\n\u001b[1;32m--> 503\u001b[1;33m             \u001b[1;32mreturn\u001b[0m \u001b[0mself\u001b[0m\u001b[1;33m.\u001b[0m\u001b[0m_boost_real\u001b[0m\u001b[1;33m(\u001b[0m\u001b[0miboost\u001b[0m\u001b[1;33m,\u001b[0m \u001b[0mX\u001b[0m\u001b[1;33m,\u001b[0m \u001b[0my\u001b[0m\u001b[1;33m,\u001b[0m \u001b[0msample_weight\u001b[0m\u001b[1;33m,\u001b[0m \u001b[0mrandom_state\u001b[0m\u001b[1;33m)\u001b[0m\u001b[1;33m\u001b[0m\u001b[1;33m\u001b[0m\u001b[0m\n\u001b[0m\u001b[0;32m    504\u001b[0m \u001b[1;33m\u001b[0m\u001b[0m\n\u001b[0;32m    505\u001b[0m         \u001b[1;32melse\u001b[0m\u001b[1;33m:\u001b[0m  \u001b[1;31m# elif self.algorithm == \"SAMME\":\u001b[0m\u001b[1;33m\u001b[0m\u001b[1;33m\u001b[0m\u001b[0m\n",
      "\u001b[1;32mC:\\ProgramData\\Anaconda3\\lib\\site-packages\\sklearn\\ensemble\\_weight_boosting.py\u001b[0m in \u001b[0;36m_boost_real\u001b[1;34m(self, iboost, X, y, sample_weight, random_state)\u001b[0m\n\u001b[0;32m    511\u001b[0m         \u001b[0mestimator\u001b[0m \u001b[1;33m=\u001b[0m \u001b[0mself\u001b[0m\u001b[1;33m.\u001b[0m\u001b[0m_make_estimator\u001b[0m\u001b[1;33m(\u001b[0m\u001b[0mrandom_state\u001b[0m\u001b[1;33m=\u001b[0m\u001b[0mrandom_state\u001b[0m\u001b[1;33m)\u001b[0m\u001b[1;33m\u001b[0m\u001b[1;33m\u001b[0m\u001b[0m\n\u001b[0;32m    512\u001b[0m \u001b[1;33m\u001b[0m\u001b[0m\n\u001b[1;32m--> 513\u001b[1;33m         \u001b[0mestimator\u001b[0m\u001b[1;33m.\u001b[0m\u001b[0mfit\u001b[0m\u001b[1;33m(\u001b[0m\u001b[0mX\u001b[0m\u001b[1;33m,\u001b[0m \u001b[0my\u001b[0m\u001b[1;33m,\u001b[0m \u001b[0msample_weight\u001b[0m\u001b[1;33m=\u001b[0m\u001b[0msample_weight\u001b[0m\u001b[1;33m)\u001b[0m\u001b[1;33m\u001b[0m\u001b[1;33m\u001b[0m\u001b[0m\n\u001b[0m\u001b[0;32m    514\u001b[0m \u001b[1;33m\u001b[0m\u001b[0m\n\u001b[0;32m    515\u001b[0m         \u001b[0my_predict_proba\u001b[0m \u001b[1;33m=\u001b[0m \u001b[0mestimator\u001b[0m\u001b[1;33m.\u001b[0m\u001b[0mpredict_proba\u001b[0m\u001b[1;33m(\u001b[0m\u001b[0mX\u001b[0m\u001b[1;33m)\u001b[0m\u001b[1;33m\u001b[0m\u001b[1;33m\u001b[0m\u001b[0m\n",
      "\u001b[1;32mC:\\ProgramData\\Anaconda3\\lib\\site-packages\\sklearn\\tree\\_classes.py\u001b[0m in \u001b[0;36mfit\u001b[1;34m(self, X, y, sample_weight, check_input, X_idx_sorted)\u001b[0m\n\u001b[0;32m    896\u001b[0m         \"\"\"\n\u001b[0;32m    897\u001b[0m \u001b[1;33m\u001b[0m\u001b[0m\n\u001b[1;32m--> 898\u001b[1;33m         super().fit(\n\u001b[0m\u001b[0;32m    899\u001b[0m             \u001b[0mX\u001b[0m\u001b[1;33m,\u001b[0m \u001b[0my\u001b[0m\u001b[1;33m,\u001b[0m\u001b[1;33m\u001b[0m\u001b[1;33m\u001b[0m\u001b[0m\n\u001b[0;32m    900\u001b[0m             \u001b[0msample_weight\u001b[0m\u001b[1;33m=\u001b[0m\u001b[0msample_weight\u001b[0m\u001b[1;33m,\u001b[0m\u001b[1;33m\u001b[0m\u001b[1;33m\u001b[0m\u001b[0m\n",
      "\u001b[1;32mC:\\ProgramData\\Anaconda3\\lib\\site-packages\\sklearn\\tree\\_classes.py\u001b[0m in \u001b[0;36mfit\u001b[1;34m(self, X, y, sample_weight, check_input, X_idx_sorted)\u001b[0m\n\u001b[0;32m    154\u001b[0m             \u001b[0mcheck_X_params\u001b[0m \u001b[1;33m=\u001b[0m \u001b[0mdict\u001b[0m\u001b[1;33m(\u001b[0m\u001b[0mdtype\u001b[0m\u001b[1;33m=\u001b[0m\u001b[0mDTYPE\u001b[0m\u001b[1;33m,\u001b[0m \u001b[0maccept_sparse\u001b[0m\u001b[1;33m=\u001b[0m\u001b[1;34m\"csc\"\u001b[0m\u001b[1;33m)\u001b[0m\u001b[1;33m\u001b[0m\u001b[1;33m\u001b[0m\u001b[0m\n\u001b[0;32m    155\u001b[0m             \u001b[0mcheck_y_params\u001b[0m \u001b[1;33m=\u001b[0m \u001b[0mdict\u001b[0m\u001b[1;33m(\u001b[0m\u001b[0mensure_2d\u001b[0m\u001b[1;33m=\u001b[0m\u001b[1;32mFalse\u001b[0m\u001b[1;33m,\u001b[0m \u001b[0mdtype\u001b[0m\u001b[1;33m=\u001b[0m\u001b[1;32mNone\u001b[0m\u001b[1;33m)\u001b[0m\u001b[1;33m\u001b[0m\u001b[1;33m\u001b[0m\u001b[0m\n\u001b[1;32m--> 156\u001b[1;33m             X, y = self._validate_data(X, y,\n\u001b[0m\u001b[0;32m    157\u001b[0m                                        validate_separately=(check_X_params,\n\u001b[0;32m    158\u001b[0m                                                             check_y_params))\n",
      "\u001b[1;32mC:\\ProgramData\\Anaconda3\\lib\\site-packages\\sklearn\\base.py\u001b[0m in \u001b[0;36m_validate_data\u001b[1;34m(self, X, y, reset, validate_separately, **check_params)\u001b[0m\n\u001b[0;32m    428\u001b[0m                 \u001b[1;31m# :(\u001b[0m\u001b[1;33m\u001b[0m\u001b[1;33m\u001b[0m\u001b[1;33m\u001b[0m\u001b[0m\n\u001b[0;32m    429\u001b[0m                 \u001b[0mcheck_X_params\u001b[0m\u001b[1;33m,\u001b[0m \u001b[0mcheck_y_params\u001b[0m \u001b[1;33m=\u001b[0m \u001b[0mvalidate_separately\u001b[0m\u001b[1;33m\u001b[0m\u001b[1;33m\u001b[0m\u001b[0m\n\u001b[1;32m--> 430\u001b[1;33m                 \u001b[0mX\u001b[0m \u001b[1;33m=\u001b[0m \u001b[0mcheck_array\u001b[0m\u001b[1;33m(\u001b[0m\u001b[0mX\u001b[0m\u001b[1;33m,\u001b[0m \u001b[1;33m**\u001b[0m\u001b[0mcheck_X_params\u001b[0m\u001b[1;33m)\u001b[0m\u001b[1;33m\u001b[0m\u001b[1;33m\u001b[0m\u001b[0m\n\u001b[0m\u001b[0;32m    431\u001b[0m                 \u001b[0my\u001b[0m \u001b[1;33m=\u001b[0m \u001b[0mcheck_array\u001b[0m\u001b[1;33m(\u001b[0m\u001b[0my\u001b[0m\u001b[1;33m,\u001b[0m \u001b[1;33m**\u001b[0m\u001b[0mcheck_y_params\u001b[0m\u001b[1;33m)\u001b[0m\u001b[1;33m\u001b[0m\u001b[1;33m\u001b[0m\u001b[0m\n\u001b[0;32m    432\u001b[0m             \u001b[1;32melse\u001b[0m\u001b[1;33m:\u001b[0m\u001b[1;33m\u001b[0m\u001b[1;33m\u001b[0m\u001b[0m\n",
      "\u001b[1;32mC:\\ProgramData\\Anaconda3\\lib\\site-packages\\sklearn\\utils\\validation.py\u001b[0m in \u001b[0;36minner_f\u001b[1;34m(*args, **kwargs)\u001b[0m\n\u001b[0;32m     61\u001b[0m             \u001b[0mextra_args\u001b[0m \u001b[1;33m=\u001b[0m \u001b[0mlen\u001b[0m\u001b[1;33m(\u001b[0m\u001b[0margs\u001b[0m\u001b[1;33m)\u001b[0m \u001b[1;33m-\u001b[0m \u001b[0mlen\u001b[0m\u001b[1;33m(\u001b[0m\u001b[0mall_args\u001b[0m\u001b[1;33m)\u001b[0m\u001b[1;33m\u001b[0m\u001b[1;33m\u001b[0m\u001b[0m\n\u001b[0;32m     62\u001b[0m             \u001b[1;32mif\u001b[0m \u001b[0mextra_args\u001b[0m \u001b[1;33m<=\u001b[0m \u001b[1;36m0\u001b[0m\u001b[1;33m:\u001b[0m\u001b[1;33m\u001b[0m\u001b[1;33m\u001b[0m\u001b[0m\n\u001b[1;32m---> 63\u001b[1;33m                 \u001b[1;32mreturn\u001b[0m \u001b[0mf\u001b[0m\u001b[1;33m(\u001b[0m\u001b[1;33m*\u001b[0m\u001b[0margs\u001b[0m\u001b[1;33m,\u001b[0m \u001b[1;33m**\u001b[0m\u001b[0mkwargs\u001b[0m\u001b[1;33m)\u001b[0m\u001b[1;33m\u001b[0m\u001b[1;33m\u001b[0m\u001b[0m\n\u001b[0m\u001b[0;32m     64\u001b[0m \u001b[1;33m\u001b[0m\u001b[0m\n\u001b[0;32m     65\u001b[0m             \u001b[1;31m# extra_args > 0\u001b[0m\u001b[1;33m\u001b[0m\u001b[1;33m\u001b[0m\u001b[1;33m\u001b[0m\u001b[0m\n",
      "\u001b[1;32mC:\\ProgramData\\Anaconda3\\lib\\site-packages\\sklearn\\utils\\validation.py\u001b[0m in \u001b[0;36mcheck_array\u001b[1;34m(array, accept_sparse, accept_large_sparse, dtype, order, copy, force_all_finite, ensure_2d, allow_nd, ensure_min_samples, ensure_min_features, estimator)\u001b[0m\n\u001b[0;32m    614\u001b[0m                     \u001b[0marray\u001b[0m \u001b[1;33m=\u001b[0m \u001b[0marray\u001b[0m\u001b[1;33m.\u001b[0m\u001b[0mastype\u001b[0m\u001b[1;33m(\u001b[0m\u001b[0mdtype\u001b[0m\u001b[1;33m,\u001b[0m \u001b[0mcasting\u001b[0m\u001b[1;33m=\u001b[0m\u001b[1;34m\"unsafe\"\u001b[0m\u001b[1;33m,\u001b[0m \u001b[0mcopy\u001b[0m\u001b[1;33m=\u001b[0m\u001b[1;32mFalse\u001b[0m\u001b[1;33m)\u001b[0m\u001b[1;33m\u001b[0m\u001b[1;33m\u001b[0m\u001b[0m\n\u001b[0;32m    615\u001b[0m                 \u001b[1;32melse\u001b[0m\u001b[1;33m:\u001b[0m\u001b[1;33m\u001b[0m\u001b[1;33m\u001b[0m\u001b[0m\n\u001b[1;32m--> 616\u001b[1;33m                     \u001b[0marray\u001b[0m \u001b[1;33m=\u001b[0m \u001b[0mnp\u001b[0m\u001b[1;33m.\u001b[0m\u001b[0masarray\u001b[0m\u001b[1;33m(\u001b[0m\u001b[0marray\u001b[0m\u001b[1;33m,\u001b[0m \u001b[0morder\u001b[0m\u001b[1;33m=\u001b[0m\u001b[0morder\u001b[0m\u001b[1;33m,\u001b[0m \u001b[0mdtype\u001b[0m\u001b[1;33m=\u001b[0m\u001b[0mdtype\u001b[0m\u001b[1;33m)\u001b[0m\u001b[1;33m\u001b[0m\u001b[1;33m\u001b[0m\u001b[0m\n\u001b[0m\u001b[0;32m    617\u001b[0m             \u001b[1;32mexcept\u001b[0m \u001b[0mComplexWarning\u001b[0m \u001b[1;32mas\u001b[0m \u001b[0mcomplex_warning\u001b[0m\u001b[1;33m:\u001b[0m\u001b[1;33m\u001b[0m\u001b[1;33m\u001b[0m\u001b[0m\n\u001b[0;32m    618\u001b[0m                 raise ValueError(\"Complex data not supported\\n\"\n",
      "\u001b[1;32mC:\\ProgramData\\Anaconda3\\lib\\site-packages\\numpy\\core\\_asarray.py\u001b[0m in \u001b[0;36masarray\u001b[1;34m(a, dtype, order, like)\u001b[0m\n\u001b[0;32m    100\u001b[0m         \u001b[1;32mreturn\u001b[0m \u001b[0m_asarray_with_like\u001b[0m\u001b[1;33m(\u001b[0m\u001b[0ma\u001b[0m\u001b[1;33m,\u001b[0m \u001b[0mdtype\u001b[0m\u001b[1;33m=\u001b[0m\u001b[0mdtype\u001b[0m\u001b[1;33m,\u001b[0m \u001b[0morder\u001b[0m\u001b[1;33m=\u001b[0m\u001b[0morder\u001b[0m\u001b[1;33m,\u001b[0m \u001b[0mlike\u001b[0m\u001b[1;33m=\u001b[0m\u001b[0mlike\u001b[0m\u001b[1;33m)\u001b[0m\u001b[1;33m\u001b[0m\u001b[1;33m\u001b[0m\u001b[0m\n\u001b[0;32m    101\u001b[0m \u001b[1;33m\u001b[0m\u001b[0m\n\u001b[1;32m--> 102\u001b[1;33m     \u001b[1;32mreturn\u001b[0m \u001b[0marray\u001b[0m\u001b[1;33m(\u001b[0m\u001b[0ma\u001b[0m\u001b[1;33m,\u001b[0m \u001b[0mdtype\u001b[0m\u001b[1;33m,\u001b[0m \u001b[0mcopy\u001b[0m\u001b[1;33m=\u001b[0m\u001b[1;32mFalse\u001b[0m\u001b[1;33m,\u001b[0m \u001b[0morder\u001b[0m\u001b[1;33m=\u001b[0m\u001b[0morder\u001b[0m\u001b[1;33m)\u001b[0m\u001b[1;33m\u001b[0m\u001b[1;33m\u001b[0m\u001b[0m\n\u001b[0m\u001b[0;32m    103\u001b[0m \u001b[1;33m\u001b[0m\u001b[0m\n\u001b[0;32m    104\u001b[0m \u001b[1;33m\u001b[0m\u001b[0m\n",
      "\u001b[1;31mMemoryError\u001b[0m: Unable to allocate 300. MiB for an array with shape (787477, 100) and data type float32"
     ]
    }
   ],
   "source": [
    "from sklearn.model_selection import cross_val_score\n",
    "# from sklearn.datasets import load_iris\n",
    "from sklearn.ensemble import AdaBoostClassifier\n",
    "\n",
    "# X, y = load_iris(return_X_y=True)\n",
    "clf = AdaBoostClassifier()\n",
    "# scores = cross_val_score(clf, features, y_train, cv=5)\n",
    "# print(scores.mean())\n",
    "clf.fit(features, y_train)\n",
    "y_pred = (clf.predict(features2)>0.5).astype(int)\n",
    "from sklearn.metrics import classification_report\n",
    "print(classification_report(y_pred,y_test))\n"
   ]
  },
  {
   "cell_type": "code",
   "execution_count": null,
   "id": "fbbf2475",
   "metadata": {
    "colab": {
     "base_uri": "https://localhost:8080/"
    },
    "id": "fbbf2475",
    "outputId": "6fb87daf-fbb8-456e-ba7d-4a5b918f877b"
   },
   "outputs": [],
   "source": [
    "from sklearn.svm import SVC\n",
    "\n",
    "svclassifier = SVC(gamma='auto')\n",
    "svclassifier.fit(features, y_train)\n",
    "y_pred = svclassifier.predict(features2)\n",
    "print(classification_report(y_test, y_pred))"
   ]
  },
  {
   "cell_type": "code",
   "execution_count": null,
   "id": "91072e8d",
   "metadata": {
    "colab": {
     "base_uri": "https://localhost:8080/"
    },
    "id": "91072e8d",
    "outputId": "f56961bf-a4a8-44c8-ba99-ca876ca85ee8"
   },
   "outputs": [],
   "source": [
    "from sklearn import datasets\n",
    "from sklearn.tree import DecisionTreeClassifier\n",
    "from sklearn.neighbors import KNeighborsClassifier\n",
    "from sklearn.svm import SVC\n",
    "from itertools import product\n",
    "from sklearn.ensemble import VotingClassifier\n",
    "\n",
    "\n",
    "clf1 = DecisionTreeClassifier()\n",
    "clf2 = KNeighborsClassifier()\n",
    "clf3 = SVC(kernel='rbf', probability=True)\n",
    "eclf = VotingClassifier(estimators=[('dt', clf1), ('knn', clf2), ('svc', clf3)],\n",
    "                        voting='soft', weights=[2, 2, 2])\n",
    "\n",
    "clf1 = clf1.fit(features, y_train)\n",
    "clf2 = clf2.fit(features, y_train)\n",
    "clf3 = clf3.fit(features, y_train)\n",
    "eclf = eclf.fit(features, y_train)\n",
    "\n",
    "for clf, label in zip([clf1, clf2, clf3, eclf], ['DecisionTreeClassifier', 'KNNClassifier', 'SVC', 'voting']):\n",
    "    scores = cross_val_score(clf, features, y_train, scoring='accuracy', cv=5)\n",
    "    print(\"Accuracy: %0.2f (+/- %0.2f) [%s]\" % (scores.mean(), scores.std(), label))"
   ]
  },
  {
   "cell_type": "code",
   "execution_count": 40,
   "id": "88238eff",
   "metadata": {
    "colab": {
     "base_uri": "https://localhost:8080/",
     "height": 827
    },
    "id": "88238eff",
    "outputId": "c730ca44-4e59-4566-cfe7-678f468ea6ac"
   },
   "outputs": [
    {
     "name": "stdout",
     "output_type": "stream",
     "text": [
      "Logistic Regression score is 96.84717754314775% \n",
      "\n",
      "Support Vector Classifier score is 97.16219282672824%\n",
      "\n",
      "Decision Tree Classifier score is 96.8138072800566%\n",
      "\n",
      "Random Forest Classifier score is 96.93660984823205%\n",
      "\n",
      "KNN Classifier score is 52.04960155905869% with k = 1\n",
      "KNN Classifier score is 50.34504852036253% with k = 2\n",
      "KNN Classifier score is 52.88919737843213% with k = 3\n",
      "KNN Classifier score is 51.95616482240346% with k = 4\n",
      "KNN Classifier score is 54.294752859831554% with k = 5\n",
      "KNN Classifier score is 53.364389924850165% with k = 6\n",
      "KNN Classifier score is 55.33056582618098% with k = 7\n",
      "KNN Classifier score is 54.34013641763552% with k = 8\n",
      "KNN Classifier score is 55.87516851982861% with k = 9\n",
      "KNN Classifier score is 54.9408011532763% with k = 10\n",
      "KNN Classifier score is 56.18751418236181% with k = 11\n",
      "KNN Classifier score is 55.41599369969433% with k = 12\n",
      "KNN Classifier score is 56.183509750790876% with k = 13\n",
      "KNN Classifier score is 55.49741714163674% with k = 14\n",
      "KNN Classifier score is 56.417101592428956% with k = 15\n",
      "KNN Classifier score is 55.55881842572447% with k = 16\n",
      "KNN Classifier score is 56.43178450818907% with k = 17\n",
      "KNN Classifier score is 55.82978496202464% with k = 18\n",
      "KNN Classifier score is 56.55458707636451% with k = 19\n"
     ]
    },
    {
     "data": {
      "image/png": "[encoded data removed]",
      "text/plain": [
       "<Figure size 432x288 with 1 Axes>"
      ]
     },
     "metadata": {
      "needs_background": "light"
     },
     "output_type": "display_data"
    },
    {
     "name": "stdout",
     "output_type": "stream",
     "text": [
      "\n",
      "MLP Classifier score is 85.75089766007716%\n",
      "\n"
     ]
    }
   ],
   "source": [
    "# fitting logistic regression\n",
    "lr = LogisticRegression()\n",
    "lr.fit(features, y_train)\n",
    "predictionsLR = lr.predict(features2)\n",
    "scoreLR = accuracy_score(y_test, predictionsLR)\n",
    "print(f\"Logistic Regression score is {scoreLR * 100}% \\n\")\n",
    "\n",
    "# fitting SVC\n",
    "svc = svm.LinearSVC()\n",
    "svc.fit(features, y_train)\n",
    "predictionsSVC = svc.predict(features2)\n",
    "scoreSVC = accuracy_score(y_test, predictionsSVC)\n",
    "print(f\"Support Vector Classifier score is {scoreSVC * 100}%\\n\")\n",
    "\n",
    "# fitting decision tree classifier\n",
    "clf = tree.DecisionTreeClassifier()\n",
    "clf.fit(features, y_train)\n",
    "predictionsTree = clf.predict(features2)\n",
    "scoreTree = accuracy_score(y_test, predictionsTree)\n",
    "print(f\"Decision Tree Classifier score is {scoreTree * 100}%\\n\")\n",
    "\n",
    "# fitting Random Forest classifier\n",
    "clf1 = RandomForestClassifier(max_features=23)\n",
    "clf1.fit(features, y_train)\n",
    "predictionsTree1 = clf1.predict(features2)\n",
    "scoreTree1 = accuracy_score(y_test, predictionsTree1)\n",
    "print(f\"Random Forest Classifier score is {scoreTree1 * 100}%\\n\")\n",
    "\n",
    "# fitting XGBoost\n",
    "# xgb = XGBClassifier()\n",
    "# xgb.fit(features.to_numpy(), y_train)\n",
    "# predictionsXGB = xgb.predict(X_test)\n",
    "# predictionsXGB = (predictionsXGB>0.5).astype(int)\n",
    "# scoreXGB = accuracy_score(y_test, predictionsXGB)\n",
    "# print(f\"XG Boost Classifier score is {scoreXGB * 100}%\\n\")\n",
    "\n",
    "# fitting KNN Classifier\n",
    "K = range(1, 20)\n",
    "acc = []\n",
    "for k in K:\n",
    "    knn = KNeighborsClassifier(n_neighbors=k)\n",
    "    knn.fit(features, y_train)\n",
    "    predictionsKNN = knn.predict(features2)\n",
    "    scoreKNN = accuracy_score(y_test, predictionsKNN)\n",
    "    print(f\"KNN Classifier score is {scoreKNN * 100}% with k = {k}\")\n",
    "    acc.append(scoreKNN*100)\n",
    "\n",
    "# Elbow plot:\n",
    "plt.plot(K, acc)\n",
    "plt.xlabel('K')\n",
    "plt.ylabel('Accuracy')\n",
    "plt.title(\"Elbow Curve without feature selection for Inter-Reseach Area\")\n",
    "\n",
    "plt.show()\n",
    "\n",
    "# MLP / ANN\n",
    "classifier = MLPClassifier(hidden_layer_sizes=(128, 64), max_iter=300, activation='relu', solver='adam', random_state=1)\n",
    "classifier.fit(features, y_train)\n",
    "predictionsMLP = classifier.predict(features2)\n",
    "scoreMLP = accuracy_score(y_test, predictionsMLP)\n",
    "print(f\"\\nMLP Classifier score is {scoreMLP * 100}%\\n\")"
   ]
  },
  {
   "cell_type": "code",
   "execution_count": 50,
   "id": "a837a119",
   "metadata": {},
   "outputs": [
    {
     "data": {
      "text/plain": [
       "Index(['X_58', 'confidence', 'X_6', 'x_54', 'X_11', 'x_63', 'x_0', 'x_64',\n",
       "       'x_51', 'p_18', 'x_14', 'x_50', 'p_22', 'x_62', 'x_65', 'X_7', 'X_10',\n",
       "       'x_55', 'X_8', 'X_9', 'x_61', 'x_66', 'AU04_r', 'x_1', 'x_56', 'x_49',\n",
       "       'x_13', 'x_67', 'x_57', 'p_11', 'x_12', 'x_60', 'x_2', 'x_58', 'AU17_r',\n",
       "       'x_48', 'p_13', 'x_59', 'x_11', 'p_7', 'AU09_r', 'x_10', 'AU23_r',\n",
       "       'x_3', 'x_9', 'positive_assumption_1', 'x_8', 'gaze_0_y', 'p_17',\n",
       "       'p_rx', 'x_4', 'x_7', 'gaze_1_y', 'p_31', 'x_6', 'x_5', 'p_28',\n",
       "       'Gender_Male_1', 'gaze_angle_y', 'pose_Rx', 'p_25', 'p_12', 'AU45_r',\n",
       "       'p_9', 'p_rz', 'p_26', 'AU15_r', 'pose_Rz', 'p_24',\n",
       "       'What is your age (in years) ?', 'p_4', 'question_15', 'p_20',\n",
       "       'negative_assumption_1', 'question_4', 'question_1', 'timestamp',\n",
       "       'question_25', 'question_12', 'question_5', 'question_13',\n",
       "       'question_17', 'question_26', 'question_2', 'question_18',\n",
       "       'question_19', 'question_3', 'question_21', 'question_8', 'question_22',\n",
       "       'question_16', 'question_6', 'question_14', 'question_27',\n",
       "       'question_23', 'question_9', 'question_10', 'question_20',\n",
       "       'question_24', 'question_11'],\n",
       "      dtype='object')"
      ]
     },
     "execution_count": 50,
     "metadata": {},
     "output_type": "execute_result"
    }
   ],
   "source": [
    "features.columns"
   ]
  },
  {
   "cell_type": "code",
   "execution_count": 54,
   "id": "627f481e",
   "metadata": {},
   "outputs": [
    {
     "name": "stderr",
     "output_type": "stream",
     "text": [
      "No handles with labels found to put in legend.\n"
     ]
    },
    {
     "data": {
      "image/png": "[encoded data removed]",
      "text/plain": [
       "<Figure size 432x288 with 1 Axes>"
      ]
     },
     "metadata": {
      "needs_background": "light"
     },
     "output_type": "display_data"
    }
   ],
   "source": [
    "from sklearn.metrics import classification_report,confusion_matrix\n",
    "#Create a Gaussian Classifier\n",
    "# clf=RandomForestClassifier()\n",
    "# # RandomForestClassifier()\n",
    "# #Train the model using the training sets y_pred=clf.predict(X_test)\n",
    "# clf.fit(features,y_train)\n",
    "# y_pred=clf.predict(features2)\n",
    "# print(classification_report(y_test,y_pred))\n",
    "# import pandas as pd\n",
    "feature_imp = pd.Series(clf.feature_importances_ ,index=features.columns).sort_values(ascending=False)\n",
    "feature_imp\n",
    "import matplotlib.pyplot as plt\n",
    "import seaborn as sns\n",
    "%matplotlib inline\n",
    "# Creating a bar plot\n",
    "sns.barplot(x=feature_imp[:15], y=feature_imp.index[:15],orient='h')\n",
    "# Add labels to your graph\n",
    "plt.xlabel('Feature Importance Score')\n",
    "plt.ylabel('Features')\n",
    "plt.title(\"Visualizing Important Features\")\n",
    "plt.legend()\n",
    "plt.show()"
   ]
  },
  {
   "cell_type": "code",
   "execution_count": 114,
   "id": "f148ed88",
   "metadata": {
    "colab": {
     "base_uri": "https://localhost:8080/"
    },
    "id": "f148ed88",
    "outputId": "d9da354f-4381-4268-8df0-204c5d6ac719"
   },
   "outputs": [
    {
     "name": "stdout",
     "output_type": "stream",
     "text": [
      "Number of mislabeled points out of a total 87 points : 38\n"
     ]
    }
   ],
   "source": [
    "from sklearn.naive_bayes import GaussianNB\n",
    "gnb = GaussianNB()\n",
    "y_pred = gnb.fit(features, y_train).predict(features2)\n",
    "print(\"Number of mislabeled points out of a total %d points : %d\"\n",
    "      % (X_test.shape[0], (y_test != y_pred).sum()))"
   ]
  },
  {
   "cell_type": "code",
   "execution_count": 115,
   "id": "070f2d7d",
   "metadata": {
    "colab": {
     "base_uri": "https://localhost:8080/"
    },
    "id": "070f2d7d",
    "outputId": "cf431877-dd83-4e90-e613-19aef83d7c50"
   },
   "outputs": [
    {
     "name": "stdout",
     "output_type": "stream",
     "text": [
      "              precision    recall  f1-score   support\n",
      "\n",
      "           0       0.31      0.54      0.39        26\n",
      "           1       0.71      0.49      0.58        61\n",
      "\n",
      "    accuracy                           0.51        87\n",
      "   macro avg       0.51      0.52      0.49        87\n",
      "weighted avg       0.59      0.51      0.53        87\n",
      "\n"
     ]
    }
   ],
   "source": [
    "from numpy import mean\n",
    "from numpy import std\n",
    "from sklearn.datasets import make_classification\n",
    "from sklearn.ensemble import GradientBoostingClassifier\n",
    "from sklearn.model_selection import cross_val_score\n",
    "from sklearn.model_selection import RepeatedStratifiedKFold\n",
    "from matplotlib import pyplot\n",
    "# define dataset\n",
    "# X, y = make_classification(n_samples=1000, n_features=10, n_informative=5, n_redundant=5, random_state=1)\n",
    "# evaluate the model\n",
    "# model = GradientBoostingClassifier()\n",
    "# cv = RepeatedStratifiedKFold(n_splits=10, n_repeats=3, random_state=1)\n",
    "# n_scores = cross_val_score(model, X_train, y_train, scoring='accuracy', cv=cv, n_jobs=-1, error_score='raise')\n",
    "# print('Accuracy: %.3f (%.3f)' % (mean(n_scores), std(n_scores)))\n",
    "# fit the model on the whole dataset\n",
    "model = GradientBoostingClassifier()\n",
    "model.fit(features, y_train)\n",
    "# make a single prediction\n",
    "# row = [[2.56999479, -0.13019997, 3.16075093, -4.35936352, -1.61271951, -1.39352057, -2.48924933, -1.93094078, 3.26130366, 2.05692145]]\n",
    "yhat = model.predict(features2)\n",
    "\n",
    "print(classification_report(yhat,y_test))"
   ]
  },
  {
   "cell_type": "code",
   "execution_count": 116,
   "id": "236ec010",
   "metadata": {
    "colab": {
     "base_uri": "https://localhost:8080/"
    },
    "id": "236ec010",
    "outputId": "20c99687-42f9-44ce-9c03-a0f43f522398"
   },
   "outputs": [
    {
     "name": "stdout",
     "output_type": "stream",
     "text": [
      "              precision    recall  f1-score   support\n",
      "\n",
      "           0       0.38      0.71      0.49        24\n",
      "           1       0.83      0.56      0.67        63\n",
      "\n",
      "    accuracy                           0.60        87\n",
      "   macro avg       0.61      0.63      0.58        87\n",
      "weighted avg       0.71      0.60      0.62        87\n",
      "\n"
     ]
    }
   ],
   "source": [
    "# histogram-based gradient boosting for classification in scikit-learn\n",
    "from numpy import mean\n",
    "from numpy import std\n",
    "from sklearn.datasets import make_classification\n",
    "from sklearn.experimental import enable_hist_gradient_boosting\n",
    "from sklearn.ensemble import HistGradientBoostingClassifier\n",
    "from sklearn.model_selection import cross_val_score\n",
    "from sklearn.model_selection import RepeatedStratifiedKFold\n",
    "from matplotlib import pyplot\n",
    "# evaluate the model\n",
    "# model = HistGradientBoostingClassifier()\n",
    "# cv = RepeatedStratifiedKFold(n_splits=10, n_repeats=3, random_state=1)\n",
    "# n_scores = cross_val_score(model, features, y_train, scoring='accuracy', cv=cv, n_jobs=-1, error_score='raise')\n",
    "# print('Accuracy: %.3f (%.3f)' % (mean(n_scores), std(n_scores)))\n",
    "# fit the model on the whole dataset\n",
    "model = HistGradientBoostingClassifier()\n",
    "model.fit(features, y_train)\n",
    "# make a single prediction\n",
    "yhat = model.predict(features2)\n",
    "print(classification_report(yhat,y_test))"
   ]
  },
  {
   "cell_type": "code",
   "execution_count": 117,
   "id": "7f6c009a",
   "metadata": {
    "colab": {
     "base_uri": "https://localhost:8080/",
     "height": 387
    },
    "id": "7f6c009a",
    "outputId": "6612033c-34dc-40d2-efcc-72eb0b1e458c"
   },
   "outputs": [
    {
     "ename": "ValueError",
     "evalue": "ignored",
     "output_type": "error",
     "traceback": [
      "\u001b[0;31m---------------------------------------------------------------------------\u001b[0m",
      "\u001b[0;31mValueError\u001b[0m                                Traceback (most recent call last)",
      "\u001b[0;32m<ipython-input-117-3e5eb772ea61>\u001b[0m in \u001b[0;36m<module>\u001b[0;34m()\u001b[0m\n\u001b[1;32m     17\u001b[0m \u001b[0;31m# fit the model on the whole dataset\u001b[0m\u001b[0;34m\u001b[0m\u001b[0;34m\u001b[0m\u001b[0;34m\u001b[0m\u001b[0m\n\u001b[1;32m     18\u001b[0m \u001b[0mmodel\u001b[0m \u001b[0;34m=\u001b[0m \u001b[0mXGBClassifier\u001b[0m\u001b[0;34m(\u001b[0m\u001b[0;34m)\u001b[0m\u001b[0;34m\u001b[0m\u001b[0;34m\u001b[0m\u001b[0m\n\u001b[0;32m---> 19\u001b[0;31m \u001b[0mmodel\u001b[0m\u001b[0;34m.\u001b[0m\u001b[0mfit\u001b[0m\u001b[0;34m(\u001b[0m\u001b[0mfeatures\u001b[0m\u001b[0;34m,\u001b[0m \u001b[0my_train\u001b[0m\u001b[0;34m)\u001b[0m\u001b[0;34m\u001b[0m\u001b[0;34m\u001b[0m\u001b[0m\n\u001b[0m\u001b[1;32m     20\u001b[0m \u001b[0;31m# make a single prediction\u001b[0m\u001b[0;34m\u001b[0m\u001b[0;34m\u001b[0m\u001b[0;34m\u001b[0m\u001b[0m\n\u001b[1;32m     21\u001b[0m \u001b[0myhat\u001b[0m \u001b[0;34m=\u001b[0m \u001b[0mmodel\u001b[0m\u001b[0;34m.\u001b[0m\u001b[0mpredict\u001b[0m\u001b[0;34m(\u001b[0m\u001b[0mfeatures2\u001b[0m\u001b[0;34m)\u001b[0m\u001b[0;34m\u001b[0m\u001b[0;34m\u001b[0m\u001b[0m\n",
      "\u001b[0;32m/usr/local/lib/python3.7/dist-packages/xgboost/sklearn.py\u001b[0m in \u001b[0;36mfit\u001b[0;34m(self, X, y, sample_weight, eval_set, eval_metric, early_stopping_rounds, verbose, xgb_model, sample_weight_eval_set, callbacks)\u001b[0m\n\u001b[1;32m    724\u001b[0m         \u001b[0;32melse\u001b[0m\u001b[0;34m:\u001b[0m\u001b[0;34m\u001b[0m\u001b[0;34m\u001b[0m\u001b[0m\n\u001b[1;32m    725\u001b[0m             train_dmatrix = DMatrix(X, label=training_labels,\n\u001b[0;32m--> 726\u001b[0;31m                                     missing=self.missing, nthread=self.n_jobs)\n\u001b[0m\u001b[1;32m    727\u001b[0m \u001b[0;34m\u001b[0m\u001b[0m\n\u001b[1;32m    728\u001b[0m         self._Booster = train(xgb_options, train_dmatrix, self.get_num_boosting_rounds(),\n",
      "\u001b[0;32m/usr/local/lib/python3.7/dist-packages/xgboost/core.py\u001b[0m in \u001b[0;36m__init__\u001b[0;34m(self, data, label, missing, weight, silent, feature_names, feature_types, nthread)\u001b[0m\n\u001b[1;32m    424\u001b[0m                 \u001b[0mself\u001b[0m\u001b[0;34m.\u001b[0m\u001b[0mset_weight\u001b[0m\u001b[0;34m(\u001b[0m\u001b[0mweight\u001b[0m\u001b[0;34m)\u001b[0m\u001b[0;34m\u001b[0m\u001b[0;34m\u001b[0m\u001b[0m\n\u001b[1;32m    425\u001b[0m \u001b[0;34m\u001b[0m\u001b[0m\n\u001b[0;32m--> 426\u001b[0;31m         \u001b[0mself\u001b[0m\u001b[0;34m.\u001b[0m\u001b[0mfeature_names\u001b[0m \u001b[0;34m=\u001b[0m \u001b[0mfeature_names\u001b[0m\u001b[0;34m\u001b[0m\u001b[0;34m\u001b[0m\u001b[0m\n\u001b[0m\u001b[1;32m    427\u001b[0m         \u001b[0mself\u001b[0m\u001b[0;34m.\u001b[0m\u001b[0mfeature_types\u001b[0m \u001b[0;34m=\u001b[0m \u001b[0mfeature_types\u001b[0m\u001b[0;34m\u001b[0m\u001b[0;34m\u001b[0m\u001b[0m\n\u001b[1;32m    428\u001b[0m \u001b[0;34m\u001b[0m\u001b[0m\n",
      "\u001b[0;32m/usr/local/lib/python3.7/dist-packages/xgboost/core.py\u001b[0m in \u001b[0;36mfeature_names\u001b[0;34m(self, feature_names)\u001b[0m\n\u001b[1;32m    868\u001b[0m                        \u001b[0;32mnot\u001b[0m \u001b[0many\u001b[0m\u001b[0;34m(\u001b[0m\u001b[0mx\u001b[0m \u001b[0;32min\u001b[0m \u001b[0mf\u001b[0m \u001b[0;32mfor\u001b[0m \u001b[0mx\u001b[0m \u001b[0;32min\u001b[0m \u001b[0mset\u001b[0m\u001b[0;34m(\u001b[0m\u001b[0;34m(\u001b[0m\u001b[0;34m'['\u001b[0m\u001b[0;34m,\u001b[0m \u001b[0;34m']'\u001b[0m\u001b[0;34m,\u001b[0m \u001b[0;34m'<'\u001b[0m\u001b[0;34m)\u001b[0m\u001b[0;34m)\u001b[0m\u001b[0;34m)\u001b[0m\u001b[0;34m\u001b[0m\u001b[0;34m\u001b[0m\u001b[0m\n\u001b[1;32m    869\u001b[0m                        for f in feature_names):\n\u001b[0;32m--> 870\u001b[0;31m                 \u001b[0;32mraise\u001b[0m \u001b[0mValueError\u001b[0m\u001b[0;34m(\u001b[0m\u001b[0;34m'feature_names may not contain [, ] or <'\u001b[0m\u001b[0;34m)\u001b[0m\u001b[0;34m\u001b[0m\u001b[0;34m\u001b[0m\u001b[0m\n\u001b[0m\u001b[1;32m    871\u001b[0m         \u001b[0;32melse\u001b[0m\u001b[0;34m:\u001b[0m\u001b[0;34m\u001b[0m\u001b[0;34m\u001b[0m\u001b[0m\n\u001b[1;32m    872\u001b[0m             \u001b[0;31m# reset feature_types also\u001b[0m\u001b[0;34m\u001b[0m\u001b[0;34m\u001b[0m\u001b[0;34m\u001b[0m\u001b[0m\n",
      "\u001b[0;31mValueError\u001b[0m: feature_names may not contain [, ] or <"
     ]
    }
   ],
   "source": [
    "# xgboost for classification\n",
    "from numpy import asarray\n",
    "from numpy import mean\n",
    "from numpy import std\n",
    "from sklearn.datasets import make_classification\n",
    "from xgboost import XGBClassifier\n",
    "from sklearn.model_selection import cross_val_score\n",
    "from sklearn.model_selection import RepeatedStratifiedKFold\n",
    "from matplotlib import pyplot\n",
    "# define dataset\n",
    "X, y = make_classification(n_samples=1000, n_features=10, n_informative=5, n_redundant=5, random_state=1)\n",
    "# evaluate the model\n",
    "# model = XGBClassifier()\n",
    "# cv = RepeatedStratifiedKFold(n_splits=10, n_repeats=3, random_state=1)\n",
    "# n_scores = cross_val_score(model, features, y_train, scoring='accuracy', cv=cv, n_jobs=-1, error_score='raise')\n",
    "# print('Accuracy: %.3f (%.3f)' % (mean(n_scores), std(n_scores)))\n",
    "# fit the model on the whole dataset\n",
    "model = XGBClassifier()\n",
    "model.fit(features, y_train)\n",
    "# make a single prediction\n",
    "yhat = model.predict(features2)\n",
    "print(classification_report(yhat,y_test))"
   ]
  },
  {
   "cell_type": "code",
   "execution_count": 118,
   "id": "2294b541",
   "metadata": {
    "colab": {
     "base_uri": "https://localhost:8080/"
    },
    "id": "2294b541",
    "outputId": "3ab5d55a-c374-4759-ad71-97e3d645f029"
   },
   "outputs": [
    {
     "name": "stdout",
     "output_type": "stream",
     "text": [
      "              precision    recall  f1-score   support\n",
      "\n",
      "           0       0.40      0.64      0.49        28\n",
      "           1       0.76      0.54      0.63        59\n",
      "\n",
      "    accuracy                           0.57        87\n",
      "   macro avg       0.58      0.59      0.56        87\n",
      "weighted avg       0.65      0.57      0.59        87\n",
      "\n"
     ]
    }
   ],
   "source": [
    "# lightgbm for classification\n",
    "from numpy import mean\n",
    "from numpy import std\n",
    "from sklearn.datasets import make_classification\n",
    "from lightgbm import LGBMClassifier\n",
    "from sklearn.model_selection import cross_val_score\n",
    "from sklearn.model_selection import RepeatedStratifiedKFold\n",
    "from matplotlib import pyplot\n",
    "# evaluate the model\n",
    "# model = LGBMClassifier()\n",
    "# cv = RepeatedStratifiedKFold(n_splits=10, n_repeats=3, random_state=1)\n",
    "# n_scores = cross_val_score(model, features, y_train, scoring='accuracy', cv=cv, n_jobs=-1, error_score='raise')\n",
    "# print('Accuracy: %.3f (%.3f)' % (mean(n_scores), std(n_scores)))\n",
    "# fit the model on the whole dataset\n",
    "model = LGBMClassifier()\n",
    "model.fit(features, y_train)\n",
    "# make a single prediction\n",
    "yhat = model.predict(features2)\n",
    "print(classification_report(yhat,y_test))"
   ]
  },
  {
   "cell_type": "code",
   "execution_count": null,
   "id": "732a6df9",
   "metadata": {
    "id": "732a6df9"
   },
   "outputs": [],
   "source": []
  },
  {
   "cell_type": "markdown",
   "id": "Rl4RaMhButB_",
   "metadata": {
    "id": "Rl4RaMhButB_"
   },
   "source": [
    "# Models chi"
   ]
  },
  {
   "cell_type": "code",
   "execution_count": null,
   "id": "0vxQ4vywutB_",
   "metadata": {
    "id": "0vxQ4vywutB_"
   },
   "outputs": [],
   "source": [
    "import pandas as pd\n",
    "import numpy as np\n",
    "from sklearn.linear_model import LogisticRegression\n",
    "from sklearn import svm\n",
    "from sklearn import tree\n",
    "from sklearn.ensemble import RandomForestClassifier\n",
    "from sklearn.neighbors import KNeighborsClassifier\n",
    "from xgboost import XGBClassifier\n",
    "from sklearn.model_selection import train_test_split\n",
    "from sklearn.neural_network import MLPClassifier\n",
    "from sklearn.preprocessing import StandardScaler\n",
    "import seaborn as sns\n",
    "import matplotlib.pyplot as plt\n",
    "from sklearn.metrics import accuracy_score\n",
    "from sklearn.feature_selection import SelectFromModel\n",
    "\n",
    "from sklearn.decomposition import PCA\n",
    "from sklearn.manifold import TSNE\n",
    "%matplotlib inline\n",
    "import matplotlib.pyplot as plt\n",
    "from mpl_toolkits.mplot3d import Axes3D\n",
    "\n",
    "\n",
    "\n",
    "import warnings\n",
    "warnings.filterwarnings('ignore')"
   ]
  },
  {
   "cell_type": "code",
   "execution_count": 21,
   "id": "D0oMFrX6utB_",
   "metadata": {
    "id": "D0oMFrX6utB_"
   },
   "outputs": [],
   "source": [
    "features = X_train[chi_feature]\n",
    "features2 = X_test[chi_feature]"
   ]
  },
  {
   "cell_type": "code",
   "execution_count": 22,
   "id": "awxGthAiutB_",
   "metadata": {
    "colab": {
     "base_uri": "https://localhost:8080/"
    },
    "id": "awxGthAiutB_",
    "outputId": "6baa7e87-1948-4dc5-e770-9cdd91fd4226"
   },
   "outputs": [
    {
     "data": {
      "text/plain": [
       "0"
      ]
     },
     "execution_count": 22,
     "metadata": {
      "tags": []
     },
     "output_type": "execute_result"
    }
   ],
   "source": [
    "features.isna().sum().sum()"
   ]
  },
  {
   "cell_type": "code",
   "execution_count": 23,
   "id": "m26_abtautB_",
   "metadata": {
    "colab": {
     "base_uri": "https://localhost:8080/"
    },
    "id": "m26_abtautB_",
    "outputId": "f12bd8d0-3047-4f6e-97b8-f219e8e224a4"
   },
   "outputs": [
    {
     "data": {
      "text/plain": [
       "0"
      ]
     },
     "execution_count": 23,
     "metadata": {
      "tags": []
     },
     "output_type": "execute_result"
    }
   ],
   "source": [
    "X_test.isna().sum().sum()"
   ]
  },
  {
   "cell_type": "code",
   "execution_count": 24,
   "id": "Il7_aME5utCA",
   "metadata": {
    "colab": {
     "base_uri": "https://localhost:8080/"
    },
    "id": "Il7_aME5utCA",
    "outputId": "e0f56dee-9826-4e23-8499-02b37c2ebfb6"
   },
   "outputs": [
    {
     "name": "stdout",
     "output_type": "stream",
     "text": [
      "              precision    recall  f1-score   support\n",
      "\n",
      "           0       0.31      0.54      0.39        26\n",
      "           1       0.71      0.49      0.58        61\n",
      "\n",
      "    accuracy                           0.51        87\n",
      "   macro avg       0.51      0.52      0.49        87\n",
      "weighted avg       0.59      0.51      0.53        87\n",
      "\n"
     ]
    }
   ],
   "source": [
    "from sklearn.model_selection import cross_val_score\n",
    "# from sklearn.datasets import load_iris\n",
    "from sklearn.ensemble import AdaBoostClassifier\n",
    "\n",
    "# X, y = load_iris(return_X_y=True)\n",
    "clf = AdaBoostClassifier()\n",
    "# scores = cross_val_score(clf, features, y_train, cv=5)\n",
    "# print(scores.mean())\n",
    "clf.fit(features, y_train)\n",
    "y_pred = (clf.predict(features2)>0.5).astype(int)\n",
    "from sklearn.metrics import classification_report\n",
    "print(classification_report(y_pred,y_test))\n"
   ]
  },
  {
   "cell_type": "code",
   "execution_count": 25,
   "id": "QuxXByxlutCA",
   "metadata": {
    "colab": {
     "base_uri": "https://localhost:8080/"
    },
    "id": "QuxXByxlutCA",
    "outputId": "8229f790-5371-4f67-8800-525f4c62e19b"
   },
   "outputs": [
    {
     "name": "stdout",
     "output_type": "stream",
     "text": [
      "              precision    recall  f1-score   support\n",
      "\n",
      "           0       0.67      0.04      0.08        45\n",
      "           1       0.49      0.98      0.65        42\n",
      "\n",
      "    accuracy                           0.49        87\n",
      "   macro avg       0.58      0.51      0.37        87\n",
      "weighted avg       0.58      0.49      0.36        87\n",
      "\n"
     ]
    }
   ],
   "source": [
    "from sklearn.svm import SVC\n",
    "\n",
    "svclassifier = SVC(gamma='auto')\n",
    "svclassifier.fit(features, y_train)\n",
    "y_pred = svclassifier.predict(features2)\n",
    "print(classification_report(y_test, y_pred))"
   ]
  },
  {
   "cell_type": "code",
   "execution_count": 26,
   "id": "cMi0n7AQutCA",
   "metadata": {
    "colab": {
     "base_uri": "https://localhost:8080/"
    },
    "id": "cMi0n7AQutCA",
    "outputId": "188e629a-7cae-4ada-b8fe-79250e88cfe3"
   },
   "outputs": [
    {
     "name": "stdout",
     "output_type": "stream",
     "text": [
      "Accuracy: 0.52 (+/- 0.05) [DecisionTreeClassifier]\n",
      "Accuracy: 0.55 (+/- 0.01) [KNNClassifier]\n",
      "Accuracy: 0.52 (+/- 0.00) [SVC]\n",
      "Accuracy: 0.51 (+/- 0.04) [voting]\n"
     ]
    }
   ],
   "source": [
    "from sklearn import datasets\n",
    "from sklearn.tree import DecisionTreeClassifier\n",
    "from sklearn.neighbors import KNeighborsClassifier\n",
    "from sklearn.svm import SVC\n",
    "from itertools import product\n",
    "from sklearn.ensemble import VotingClassifier\n",
    "\n",
    "\n",
    "clf1 = DecisionTreeClassifier()\n",
    "clf2 = KNeighborsClassifier()\n",
    "clf3 = SVC(kernel='rbf', probability=True)\n",
    "eclf = VotingClassifier(estimators=[('dt', clf1), ('knn', clf2), ('svc', clf3)],\n",
    "                        voting='soft', weights=[2, 2, 2])\n",
    "\n",
    "clf1 = clf1.fit(features, y_train)\n",
    "clf2 = clf2.fit(features, y_train)\n",
    "clf3 = clf3.fit(features, y_train)\n",
    "eclf = eclf.fit(features, y_train)\n",
    "\n",
    "for clf, label in zip([clf1, clf2, clf3, eclf], ['DecisionTreeClassifier', 'KNNClassifier', 'SVC', 'voting']):\n",
    "    scores = cross_val_score(clf, features, y_train, scoring='accuracy', cv=5)\n",
    "    print(\"Accuracy: %0.2f (+/- %0.2f) [%s]\" % (scores.mean(), scores.std(), label))"
   ]
  },
  {
   "cell_type": "code",
   "execution_count": 27,
   "id": "YBuJ2yqmutCA",
   "metadata": {
    "colab": {
     "base_uri": "https://localhost:8080/",
     "height": 0
    },
    "id": "YBuJ2yqmutCA",
    "outputId": "fe7662a0-23e6-4261-f06d-2fb419367958"
   },
   "outputs": [
    {
     "name": "stdout",
     "output_type": "stream",
     "text": [
      "Logistic Regression score is 50.57471264367817% \n",
      "\n",
      "Support Vector Classifier score is 51.724137931034484%\n",
      "\n",
      "Decision Tree Classifier score is 51.724137931034484%\n",
      "\n",
      "Random Forest Classifier score is 52.87356321839081%\n",
      "\n",
      "KNN Classifier score is 48.275862068965516% with k = 1\n",
      "KNN Classifier score is 54.02298850574713% with k = 2\n",
      "KNN Classifier score is 50.57471264367817% with k = 3\n",
      "KNN Classifier score is 51.724137931034484% with k = 4\n",
      "KNN Classifier score is 50.57471264367817% with k = 5\n",
      "KNN Classifier score is 51.724137931034484% with k = 6\n",
      "KNN Classifier score is 48.275862068965516% with k = 7\n",
      "KNN Classifier score is 51.724137931034484% with k = 8\n",
      "KNN Classifier score is 48.275862068965516% with k = 9\n",
      "KNN Classifier score is 49.42528735632184% with k = 10\n",
      "KNN Classifier score is 48.275862068965516% with k = 11\n",
      "KNN Classifier score is 50.57471264367817% with k = 12\n",
      "KNN Classifier score is 48.275862068965516% with k = 13\n",
      "KNN Classifier score is 54.02298850574713% with k = 14\n",
      "KNN Classifier score is 52.87356321839081% with k = 15\n",
      "KNN Classifier score is 54.02298850574713% with k = 16\n",
      "KNN Classifier score is 56.32183908045977% with k = 17\n",
      "KNN Classifier score is 52.87356321839081% with k = 18\n",
      "KNN Classifier score is 54.02298850574713% with k = 19\n"
     ]
    },
    {
     "data": {
      "image/png": "[encoded data removed]",
      "text/plain": [
       "<Figure size 432x288 with 1 Axes>"
      ]
     },
     "metadata": {
      "needs_background": "light",
      "tags": []
     },
     "output_type": "display_data"
    },
    {
     "name": "stdout",
     "output_type": "stream",
     "text": [
      "\n",
      "MLP Classifier score is 51.724137931034484%\n",
      "\n"
     ]
    }
   ],
   "source": [
    "# fitting logistic regression\n",
    "lr = LogisticRegression()\n",
    "lr.fit(features, y_train)\n",
    "predictionsLR = lr.predict(features2)\n",
    "scoreLR = accuracy_score(y_test, predictionsLR)\n",
    "print(f\"Logistic Regression score is {scoreLR * 100}% \\n\")\n",
    "\n",
    "# fitting SVC\n",
    "svc = svm.LinearSVC()\n",
    "svc.fit(features, y_train)\n",
    "predictionsSVC = svc.predict(features2)\n",
    "scoreSVC = accuracy_score(y_test, predictionsSVC)\n",
    "print(f\"Support Vector Classifier score is {scoreSVC * 100}%\\n\")\n",
    "\n",
    "# fitting decision tree classifier\n",
    "clf = tree.DecisionTreeClassifier()\n",
    "clf.fit(features, y_train)\n",
    "predictionsTree = clf.predict(features2)\n",
    "scoreTree = accuracy_score(y_test, predictionsTree)\n",
    "print(f\"Decision Tree Classifier score is {scoreTree * 100}%\\n\")\n",
    "\n",
    "# fitting Random Forest classifier\n",
    "clf1 = RandomForestClassifier(max_features=23)\n",
    "clf1.fit(features, y_train)\n",
    "predictionsTree1 = clf1.predict(features2)\n",
    "scoreTree1 = accuracy_score(y_test, predictionsTree1)\n",
    "print(f\"Random Forest Classifier score is {scoreTree1 * 100}%\\n\")\n",
    "\n",
    "# fitting XGBoost\n",
    "# xgb = XGBClassifier()\n",
    "# xgb.fit(features.to_numpy(), y_train)\n",
    "# predictionsXGB = xgb.predict(X_test)\n",
    "# predictionsXGB = (predictionsXGB>0.5).astype(int)\n",
    "# scoreXGB = accuracy_score(y_test, predictionsXGB)\n",
    "# print(f\"XG Boost Classifier score is {scoreXGB * 100}%\\n\")\n",
    "\n",
    "# fitting KNN Classifier\n",
    "K = range(1, 20)\n",
    "acc = []\n",
    "for k in K:\n",
    "    knn = KNeighborsClassifier(n_neighbors=k)\n",
    "    knn.fit(features, y_train)\n",
    "    predictionsKNN = knn.predict(features2)\n",
    "    scoreKNN = accuracy_score(y_test, predictionsKNN)\n",
    "    print(f\"KNN Classifier score is {scoreKNN * 100}% with k = {k}\")\n",
    "    acc.append(scoreKNN*100)\n",
    "\n",
    "# Elbow plot:\n",
    "plt.plot(K, acc)\n",
    "plt.xlabel('K')\n",
    "plt.ylabel('Accuracy')\n",
    "plt.title(\"Elbow Curve without feature selection for Inter-Reseach Area\")\n",
    "\n",
    "plt.show()\n",
    "\n",
    "# MLP / ANN\n",
    "classifier = MLPClassifier(hidden_layer_sizes=(128, 64), max_iter=300, activation='relu', solver='adam', random_state=1)\n",
    "classifier.fit(features, y_train)\n",
    "predictionsMLP = classifier.predict(features2)\n",
    "scoreMLP = accuracy_score(y_test, predictionsMLP)\n",
    "print(f\"\\nMLP Classifier score is {scoreMLP * 100}%\\n\")"
   ]
  },
  {
   "cell_type": "code",
   "execution_count": 28,
   "id": "92jo2kOtutCA",
   "metadata": {
    "colab": {
     "base_uri": "https://localhost:8080/"
    },
    "id": "92jo2kOtutCA",
    "outputId": "89ff8df8-5c72-4b04-b159-5c07009bd96c"
   },
   "outputs": [
    {
     "name": "stdout",
     "output_type": "stream",
     "text": [
      "Number of mislabeled points out of a total 87 points : 46\n"
     ]
    }
   ],
   "source": [
    "from sklearn.naive_bayes import GaussianNB\n",
    "gnb = GaussianNB()\n",
    "y_pred = gnb.fit(features, y_train).predict(features2)\n",
    "print(\"Number of mislabeled points out of a total %d points : %d\"\n",
    "      % (X_test.shape[0], (y_test != y_pred).sum()))"
   ]
  },
  {
   "cell_type": "code",
   "execution_count": 29,
   "id": "Kj6dYRuQutCA",
   "metadata": {
    "colab": {
     "base_uri": "https://localhost:8080/"
    },
    "id": "Kj6dYRuQutCA",
    "outputId": "f673ba74-ef52-4c7d-fab4-9041ad051c52"
   },
   "outputs": [
    {
     "name": "stdout",
     "output_type": "stream",
     "text": [
      "              precision    recall  f1-score   support\n",
      "\n",
      "           0       0.36      0.53      0.43        30\n",
      "           1       0.67      0.49      0.57        57\n",
      "\n",
      "    accuracy                           0.51        87\n",
      "   macro avg       0.51      0.51      0.50        87\n",
      "weighted avg       0.56      0.51      0.52        87\n",
      "\n"
     ]
    }
   ],
   "source": [
    "from numpy import mean\n",
    "from numpy import std\n",
    "from sklearn.datasets import make_classification\n",
    "from sklearn.ensemble import GradientBoostingClassifier\n",
    "from sklearn.model_selection import cross_val_score\n",
    "from sklearn.model_selection import RepeatedStratifiedKFold\n",
    "from matplotlib import pyplot\n",
    "# define dataset\n",
    "# X, y = make_classification(n_samples=1000, n_features=10, n_informative=5, n_redundant=5, random_state=1)\n",
    "# evaluate the model\n",
    "# model = GradientBoostingClassifier()\n",
    "# cv = RepeatedStratifiedKFold(n_splits=10, n_repeats=3, random_state=1)\n",
    "# n_scores = cross_val_score(model, X_train, y_train, scoring='accuracy', cv=cv, n_jobs=-1, error_score='raise')\n",
    "# print('Accuracy: %.3f (%.3f)' % (mean(n_scores), std(n_scores)))\n",
    "# fit the model on the whole dataset\n",
    "model = GradientBoostingClassifier()\n",
    "model.fit(features, y_train)\n",
    "# make a single prediction\n",
    "# row = [[2.56999479, -0.13019997, 3.16075093, -4.35936352, -1.61271951, -1.39352057, -2.48924933, -1.93094078, 3.26130366, 2.05692145]]\n",
    "yhat = model.predict(features2)\n",
    "\n",
    "print(classification_report(yhat,y_test))"
   ]
  },
  {
   "cell_type": "code",
   "execution_count": 30,
   "id": "enHD5HdYutCB",
   "metadata": {
    "colab": {
     "base_uri": "https://localhost:8080/"
    },
    "id": "enHD5HdYutCB",
    "outputId": "3895dba7-87f7-4c46-b096-6181b8f513e9"
   },
   "outputs": [
    {
     "name": "stdout",
     "output_type": "stream",
     "text": [
      "              precision    recall  f1-score   support\n",
      "\n",
      "           0       0.38      0.50      0.43        34\n",
      "           1       0.60      0.47      0.53        53\n",
      "\n",
      "    accuracy                           0.48        87\n",
      "   macro avg       0.49      0.49      0.48        87\n",
      "weighted avg       0.51      0.48      0.49        87\n",
      "\n"
     ]
    }
   ],
   "source": [
    "# histogram-based gradient boosting for classification in scikit-learn\n",
    "from numpy import mean\n",
    "from numpy import std\n",
    "from sklearn.datasets import make_classification\n",
    "from sklearn.experimental import enable_hist_gradient_boosting\n",
    "from sklearn.ensemble import HistGradientBoostingClassifier\n",
    "from sklearn.model_selection import cross_val_score\n",
    "from sklearn.model_selection import RepeatedStratifiedKFold\n",
    "from matplotlib import pyplot\n",
    "# evaluate the model\n",
    "# model = HistGradientBoostingClassifier()\n",
    "# cv = RepeatedStratifiedKFold(n_splits=10, n_repeats=3, random_state=1)\n",
    "# n_scores = cross_val_score(model, features, y_train, scoring='accuracy', cv=cv, n_jobs=-1, error_score='raise')\n",
    "# print('Accuracy: %.3f (%.3f)' % (mean(n_scores), std(n_scores)))\n",
    "# fit the model on the whole dataset\n",
    "model = HistGradientBoostingClassifier()\n",
    "model.fit(features, y_train)\n",
    "# make a single prediction\n",
    "yhat = model.predict(features2)\n",
    "print(classification_report(yhat,y_test))"
   ]
  },
  {
   "cell_type": "code",
   "execution_count": 32,
   "id": "xBesZOlkutCB",
   "metadata": {
    "colab": {
     "base_uri": "https://localhost:8080/",
     "height": 0
    },
    "id": "xBesZOlkutCB",
    "outputId": "1ab49c2d-f24d-4d11-d1f1-9ecebf9b89a7"
   },
   "outputs": [
    {
     "ename": "ValueError",
     "evalue": "ignored",
     "output_type": "error",
     "traceback": [
      "\u001b[0;31m---------------------------------------------------------------------------\u001b[0m",
      "\u001b[0;31mValueError\u001b[0m                                Traceback (most recent call last)",
      "\u001b[0;32m<ipython-input-32-6eac32dd02d6>\u001b[0m in \u001b[0;36m<module>\u001b[0;34m()\u001b[0m\n\u001b[1;32m     17\u001b[0m \u001b[0;31m# fit the model on the whole dataset\u001b[0m\u001b[0;34m\u001b[0m\u001b[0;34m\u001b[0m\u001b[0;34m\u001b[0m\u001b[0m\n\u001b[1;32m     18\u001b[0m \u001b[0mmodel\u001b[0m \u001b[0;34m=\u001b[0m \u001b[0mXGBClassifier\u001b[0m\u001b[0;34m(\u001b[0m\u001b[0;34m)\u001b[0m\u001b[0;34m\u001b[0m\u001b[0;34m\u001b[0m\u001b[0m\n\u001b[0;32m---> 19\u001b[0;31m \u001b[0mmodel\u001b[0m\u001b[0;34m.\u001b[0m\u001b[0mfit\u001b[0m\u001b[0;34m(\u001b[0m\u001b[0mfeatures\u001b[0m\u001b[0;34m,\u001b[0m \u001b[0my_train\u001b[0m\u001b[0;34m)\u001b[0m\u001b[0;34m\u001b[0m\u001b[0;34m\u001b[0m\u001b[0m\n\u001b[0m\u001b[1;32m     20\u001b[0m \u001b[0;31m# make a single prediction\u001b[0m\u001b[0;34m\u001b[0m\u001b[0;34m\u001b[0m\u001b[0;34m\u001b[0m\u001b[0m\n\u001b[1;32m     21\u001b[0m \u001b[0myhat\u001b[0m \u001b[0;34m=\u001b[0m \u001b[0mmodel\u001b[0m\u001b[0;34m.\u001b[0m\u001b[0mpredict\u001b[0m\u001b[0;34m(\u001b[0m\u001b[0mfeatures2\u001b[0m\u001b[0;34m)\u001b[0m\u001b[0;34m\u001b[0m\u001b[0;34m\u001b[0m\u001b[0m\n",
      "\u001b[0;32m/usr/local/lib/python3.7/dist-packages/xgboost/sklearn.py\u001b[0m in \u001b[0;36mfit\u001b[0;34m(self, X, y, sample_weight, eval_set, eval_metric, early_stopping_rounds, verbose, xgb_model, sample_weight_eval_set, callbacks)\u001b[0m\n\u001b[1;32m    724\u001b[0m         \u001b[0;32melse\u001b[0m\u001b[0;34m:\u001b[0m\u001b[0;34m\u001b[0m\u001b[0;34m\u001b[0m\u001b[0m\n\u001b[1;32m    725\u001b[0m             train_dmatrix = DMatrix(X, label=training_labels,\n\u001b[0;32m--> 726\u001b[0;31m                                     missing=self.missing, nthread=self.n_jobs)\n\u001b[0m\u001b[1;32m    727\u001b[0m \u001b[0;34m\u001b[0m\u001b[0m\n\u001b[1;32m    728\u001b[0m         self._Booster = train(xgb_options, train_dmatrix, self.get_num_boosting_rounds(),\n",
      "\u001b[0;32m/usr/local/lib/python3.7/dist-packages/xgboost/core.py\u001b[0m in \u001b[0;36m__init__\u001b[0;34m(self, data, label, missing, weight, silent, feature_names, feature_types, nthread)\u001b[0m\n\u001b[1;32m    424\u001b[0m                 \u001b[0mself\u001b[0m\u001b[0;34m.\u001b[0m\u001b[0mset_weight\u001b[0m\u001b[0;34m(\u001b[0m\u001b[0mweight\u001b[0m\u001b[0;34m)\u001b[0m\u001b[0;34m\u001b[0m\u001b[0;34m\u001b[0m\u001b[0m\n\u001b[1;32m    425\u001b[0m \u001b[0;34m\u001b[0m\u001b[0m\n\u001b[0;32m--> 426\u001b[0;31m         \u001b[0mself\u001b[0m\u001b[0;34m.\u001b[0m\u001b[0mfeature_names\u001b[0m \u001b[0;34m=\u001b[0m \u001b[0mfeature_names\u001b[0m\u001b[0;34m\u001b[0m\u001b[0;34m\u001b[0m\u001b[0m\n\u001b[0m\u001b[1;32m    427\u001b[0m         \u001b[0mself\u001b[0m\u001b[0;34m.\u001b[0m\u001b[0mfeature_types\u001b[0m \u001b[0;34m=\u001b[0m \u001b[0mfeature_types\u001b[0m\u001b[0;34m\u001b[0m\u001b[0;34m\u001b[0m\u001b[0m\n\u001b[1;32m    428\u001b[0m \u001b[0;34m\u001b[0m\u001b[0m\n",
      "\u001b[0;32m/usr/local/lib/python3.7/dist-packages/xgboost/core.py\u001b[0m in \u001b[0;36mfeature_names\u001b[0;34m(self, feature_names)\u001b[0m\n\u001b[1;32m    868\u001b[0m                        \u001b[0;32mnot\u001b[0m \u001b[0many\u001b[0m\u001b[0;34m(\u001b[0m\u001b[0mx\u001b[0m \u001b[0;32min\u001b[0m \u001b[0mf\u001b[0m \u001b[0;32mfor\u001b[0m \u001b[0mx\u001b[0m \u001b[0;32min\u001b[0m \u001b[0mset\u001b[0m\u001b[0;34m(\u001b[0m\u001b[0;34m(\u001b[0m\u001b[0;34m'['\u001b[0m\u001b[0;34m,\u001b[0m \u001b[0;34m']'\u001b[0m\u001b[0;34m,\u001b[0m \u001b[0;34m'<'\u001b[0m\u001b[0;34m)\u001b[0m\u001b[0;34m)\u001b[0m\u001b[0;34m)\u001b[0m\u001b[0;34m\u001b[0m\u001b[0;34m\u001b[0m\u001b[0m\n\u001b[1;32m    869\u001b[0m                        for f in feature_names):\n\u001b[0;32m--> 870\u001b[0;31m                 \u001b[0;32mraise\u001b[0m \u001b[0mValueError\u001b[0m\u001b[0;34m(\u001b[0m\u001b[0;34m'feature_names may not contain [, ] or <'\u001b[0m\u001b[0;34m)\u001b[0m\u001b[0;34m\u001b[0m\u001b[0;34m\u001b[0m\u001b[0m\n\u001b[0m\u001b[1;32m    871\u001b[0m         \u001b[0;32melse\u001b[0m\u001b[0;34m:\u001b[0m\u001b[0;34m\u001b[0m\u001b[0;34m\u001b[0m\u001b[0m\n\u001b[1;32m    872\u001b[0m             \u001b[0;31m# reset feature_types also\u001b[0m\u001b[0;34m\u001b[0m\u001b[0;34m\u001b[0m\u001b[0;34m\u001b[0m\u001b[0m\n",
      "\u001b[0;31mValueError\u001b[0m: feature_names may not contain [, ] or <"
     ]
    }
   ],
   "source": [
    "# xgboost for classification\n",
    "from numpy import asarray\n",
    "from numpy import mean\n",
    "from numpy import std\n",
    "# from sklearn.datasets import make_classification\n",
    "from xgboost import XGBClassifier\n",
    "from sklearn.model_selection import cross_val_score\n",
    "from sklearn.model_selection import RepeatedStratifiedKFold\n",
    "from matplotlib import pyplot\n",
    "# define dataset\n",
    "# X, y = make_classification(n_samples=1000, n_features=10, n_informative=5, n_redundant=5, random_state=1)\n",
    "# evaluate the model\n",
    "# model = XGBClassifier()\n",
    "# cv = RepeatedStratifiedKFold(n_splits=10, n_repeats=3, random_state=1)\n",
    "# n_scores = cross_val_score(model, features, y_train, scoring='accuracy', cv=cv, n_jobs=-1, error_score='raise')\n",
    "# print('Accuracy: %.3f (%.3f)' % (mean(n_scores), std(n_scores)))\n",
    "# fit the model on the whole dataset\n",
    "model = XGBClassifier()\n",
    "model.fit(features, y_train)\n",
    "# make a single prediction\n",
    "yhat = model.predict(features2)\n",
    "print(classification_report(yhat,y_test))"
   ]
  },
  {
   "cell_type": "code",
   "execution_count": 33,
   "id": "71ZGaSpPutCB",
   "metadata": {
    "colab": {
     "base_uri": "https://localhost:8080/"
    },
    "id": "71ZGaSpPutCB",
    "outputId": "da7db305-08d0-4720-8d64-76ce9a8b6d76"
   },
   "outputs": [
    {
     "name": "stdout",
     "output_type": "stream",
     "text": [
      "              precision    recall  f1-score   support\n",
      "\n",
      "           0       0.33      0.50      0.40        30\n",
      "           1       0.64      0.47      0.55        57\n",
      "\n",
      "    accuracy                           0.48        87\n",
      "   macro avg       0.49      0.49      0.47        87\n",
      "weighted avg       0.54      0.48      0.50        87\n",
      "\n"
     ]
    }
   ],
   "source": [
    "# lightgbm for classification\n",
    "from numpy import mean\n",
    "from numpy import std\n",
    "# from sklearn.datasets import make_classification\n",
    "from lightgbm import LGBMClassifier\n",
    "from sklearn.model_selection import cross_val_score\n",
    "from sklearn.model_selection import RepeatedStratifiedKFold\n",
    "from matplotlib import pyplot\n",
    "# evaluate the model\n",
    "# model = LGBMClassifier()\n",
    "# cv = RepeatedStratifiedKFold(n_splits=10, n_repeats=3, random_state=1)\n",
    "# n_scores = cross_val_score(model, features, y_train, scoring='accuracy', cv=cv, n_jobs=-1, error_score='raise')\n",
    "# print('Accuracy: %.3f (%.3f)' % (mean(n_scores), std(n_scores)))\n",
    "# fit the model on the whole dataset\n",
    "model = LGBMClassifier()\n",
    "model.fit(features, y_train)\n",
    "# make a single prediction\n",
    "yhat = model.predict(features2)\n",
    "print(classification_report(yhat,y_test))"
   ]
  },
  {
   "cell_type": "code",
   "execution_count": null,
   "id": "ZLWT-1RtutCB",
   "metadata": {
    "id": "ZLWT-1RtutCB"
   },
   "outputs": [],
   "source": []
  },
  {
   "cell_type": "markdown",
   "id": "VoP0_tbUmPcu",
   "metadata": {
    "id": "VoP0_tbUmPcu"
   },
   "source": [
    "# Models rfe features"
   ]
  },
  {
   "cell_type": "code",
   "execution_count": null,
   "id": "ZAFnTYc2mPc1",
   "metadata": {
    "id": "ZAFnTYc2mPc1"
   },
   "outputs": [],
   "source": [
    "import pandas as pd\n",
    "import numpy as np\n",
    "from sklearn.linear_model import LogisticRegression\n",
    "from sklearn import svm\n",
    "from sklearn import tree\n",
    "from sklearn.ensemble import RandomForestClassifier\n",
    "from sklearn.neighbors import KNeighborsClassifier\n",
    "from xgboost import XGBClassifier\n",
    "from sklearn.model_selection import train_test_split\n",
    "from sklearn.neural_network import MLPClassifier\n",
    "from sklearn.preprocessing import StandardScaler\n",
    "import seaborn as sns\n",
    "import matplotlib.pyplot as plt\n",
    "from sklearn.metrics import accuracy_score\n",
    "from sklearn.feature_selection import SelectFromModel\n",
    "\n",
    "from sklearn.decomposition import PCA\n",
    "from sklearn.manifold import TSNE\n",
    "%matplotlib inline\n",
    "import matplotlib.pyplot as plt\n",
    "from mpl_toolkits.mplot3d import Axes3D\n",
    "\n",
    "\n",
    "\n",
    "import warnings\n",
    "warnings.filterwarnings('ignore')"
   ]
  },
  {
   "cell_type": "code",
   "execution_count": 123,
   "id": "7bI-4T2qmPc1",
   "metadata": {
    "id": "7bI-4T2qmPc1"
   },
   "outputs": [],
   "source": [
    "features = X_train[rfe_feature]\n",
    "features2 = X_test[rfe_feature]"
   ]
  },
  {
   "cell_type": "code",
   "execution_count": 124,
   "id": "xMvcCaO_mPc2",
   "metadata": {
    "colab": {
     "base_uri": "https://localhost:8080/"
    },
    "id": "xMvcCaO_mPc2",
    "outputId": "327711eb-8f6a-4f0f-b1c3-9f76d2ec4d71"
   },
   "outputs": [
    {
     "data": {
      "text/plain": [
       "0"
      ]
     },
     "execution_count": 124,
     "metadata": {
      "tags": []
     },
     "output_type": "execute_result"
    }
   ],
   "source": [
    "features.isna().sum().sum()"
   ]
  },
  {
   "cell_type": "code",
   "execution_count": 125,
   "id": "6HIGdTFWmPc2",
   "metadata": {
    "colab": {
     "base_uri": "https://localhost:8080/"
    },
    "id": "6HIGdTFWmPc2",
    "outputId": "0e617e5f-b459-4446-fcc9-b5e02c8aa963"
   },
   "outputs": [
    {
     "data": {
      "text/plain": [
       "0"
      ]
     },
     "execution_count": 125,
     "metadata": {
      "tags": []
     },
     "output_type": "execute_result"
    }
   ],
   "source": [
    "X_test.isna().sum().sum()"
   ]
  },
  {
   "cell_type": "code",
   "execution_count": 126,
   "id": "3oKAnumSmPc2",
   "metadata": {
    "colab": {
     "base_uri": "https://localhost:8080/"
    },
    "id": "3oKAnumSmPc2",
    "outputId": "b79d069c-9db2-4477-e785-adedd15956a5"
   },
   "outputs": [
    {
     "name": "stdout",
     "output_type": "stream",
     "text": [
      "              precision    recall  f1-score   support\n",
      "\n",
      "           0       0.42      0.68      0.52        28\n",
      "           1       0.79      0.56      0.65        59\n",
      "\n",
      "    accuracy                           0.60        87\n",
      "   macro avg       0.60      0.62      0.59        87\n",
      "weighted avg       0.67      0.60      0.61        87\n",
      "\n"
     ]
    }
   ],
   "source": [
    "from sklearn.model_selection import cross_val_score\n",
    "# from sklearn.datasets import load_iris\n",
    "from sklearn.ensemble import AdaBoostClassifier\n",
    "\n",
    "# X, y = load_iris(return_X_y=True)\n",
    "clf = AdaBoostClassifier()\n",
    "# scores = cross_val_score(clf, features, y_train, cv=5)\n",
    "# print(scores.mean())\n",
    "clf.fit(features, y_train)\n",
    "y_pred = (clf.predict(features2)>0.5).astype(int)\n",
    "from sklearn.metrics import classification_report\n",
    "print(classification_report(y_pred,y_test))\n"
   ]
  },
  {
   "cell_type": "code",
   "execution_count": 127,
   "id": "pUUQ50WxmPc2",
   "metadata": {
    "colab": {
     "base_uri": "https://localhost:8080/"
    },
    "id": "pUUQ50WxmPc2",
    "outputId": "119b34ca-d047-44e4-af08-07820e8fc607"
   },
   "outputs": [
    {
     "name": "stdout",
     "output_type": "stream",
     "text": [
      "              precision    recall  f1-score   support\n",
      "\n",
      "           0       0.55      0.24      0.34        45\n",
      "           1       0.49      0.79      0.61        42\n",
      "\n",
      "    accuracy                           0.51        87\n",
      "   macro avg       0.52      0.52      0.47        87\n",
      "weighted avg       0.52      0.51      0.47        87\n",
      "\n"
     ]
    }
   ],
   "source": [
    "from sklearn.svm import SVC\n",
    "\n",
    "svclassifier = SVC(gamma='auto')\n",
    "svclassifier.fit(features, y_train)\n",
    "y_pred = svclassifier.predict(features2)\n",
    "print(classification_report(y_test, y_pred))"
   ]
  },
  {
   "cell_type": "code",
   "execution_count": 128,
   "id": "12141LsmmPc3",
   "metadata": {
    "colab": {
     "base_uri": "https://localhost:8080/"
    },
    "id": "12141LsmmPc3",
    "outputId": "2b824337-feab-4105-b9d0-c797884bbfec"
   },
   "outputs": [
    {
     "name": "stdout",
     "output_type": "stream",
     "text": [
      "Accuracy: 0.56 (+/- 0.03) [DecisionTreeClassifier]\n",
      "Accuracy: 0.58 (+/- 0.03) [KNNClassifier]\n",
      "Accuracy: 0.70 (+/- 0.04) [SVC]\n",
      "Accuracy: 0.58 (+/- 0.04) [voting]\n"
     ]
    }
   ],
   "source": [
    "from sklearn import datasets\n",
    "from sklearn.tree import DecisionTreeClassifier\n",
    "from sklearn.neighbors import KNeighborsClassifier\n",
    "from sklearn.svm import SVC\n",
    "from itertools import product\n",
    "from sklearn.ensemble import VotingClassifier\n",
    "\n",
    "\n",
    "clf1 = DecisionTreeClassifier()\n",
    "clf2 = KNeighborsClassifier()\n",
    "clf3 = SVC(kernel='rbf', probability=True)\n",
    "eclf = VotingClassifier(estimators=[('dt', clf1), ('knn', clf2), ('svc', clf3)],\n",
    "                        voting='soft', weights=[2, 2, 2])\n",
    "\n",
    "clf1 = clf1.fit(features, y_train)\n",
    "clf2 = clf2.fit(features, y_train)\n",
    "clf3 = clf3.fit(features, y_train)\n",
    "eclf = eclf.fit(features, y_train)\n",
    "\n",
    "for clf, label in zip([clf1, clf2, clf3, eclf], ['DecisionTreeClassifier', 'KNNClassifier', 'SVC', 'voting']):\n",
    "    scores = cross_val_score(clf, features, y_train, scoring='accuracy', cv=5)\n",
    "    print(\"Accuracy: %0.2f (+/- %0.2f) [%s]\" % (scores.mean(), scores.std(), label))"
   ]
  },
  {
   "cell_type": "code",
   "execution_count": 129,
   "id": "ft02PlTrmPc3",
   "metadata": {
    "colab": {
     "base_uri": "https://localhost:8080/",
     "height": 827
    },
    "id": "ft02PlTrmPc3",
    "outputId": "2c17b87c-c92c-497f-eb33-043862725a7a"
   },
   "outputs": [
    {
     "name": "stdout",
     "output_type": "stream",
     "text": [
      "Logistic Regression score is 51.724137931034484% \n",
      "\n",
      "Support Vector Classifier score is 52.87356321839081%\n",
      "\n",
      "Decision Tree Classifier score is 45.97701149425287%\n",
      "\n",
      "Random Forest Classifier score is 49.42528735632184%\n",
      "\n",
      "KNN Classifier score is 44.827586206896555% with k = 1\n",
      "KNN Classifier score is 54.02298850574713% with k = 2\n",
      "KNN Classifier score is 44.827586206896555% with k = 3\n",
      "KNN Classifier score is 45.97701149425287% with k = 4\n",
      "KNN Classifier score is 51.724137931034484% with k = 5\n",
      "KNN Classifier score is 49.42528735632184% with k = 6\n",
      "KNN Classifier score is 49.42528735632184% with k = 7\n",
      "KNN Classifier score is 50.57471264367817% with k = 8\n",
      "KNN Classifier score is 52.87356321839081% with k = 9\n",
      "KNN Classifier score is 56.32183908045977% with k = 10\n",
      "KNN Classifier score is 54.02298850574713% with k = 11\n",
      "KNN Classifier score is 55.172413793103445% with k = 12\n",
      "KNN Classifier score is 58.620689655172406% with k = 13\n",
      "KNN Classifier score is 57.47126436781609% with k = 14\n",
      "KNN Classifier score is 55.172413793103445% with k = 15\n",
      "KNN Classifier score is 59.77011494252874% with k = 16\n",
      "KNN Classifier score is 58.620689655172406% with k = 17\n",
      "KNN Classifier score is 58.620689655172406% with k = 18\n",
      "KNN Classifier score is 55.172413793103445% with k = 19\n"
     ]
    },
    {
     "data": {
      "image/png": "[encoded data removed]",
      "text/plain": [
       "<Figure size 432x288 with 1 Axes>"
      ]
     },
     "metadata": {
      "needs_background": "light",
      "tags": []
     },
     "output_type": "display_data"
    },
    {
     "name": "stdout",
     "output_type": "stream",
     "text": [
      "\n",
      "MLP Classifier score is 52.87356321839081%\n",
      "\n"
     ]
    }
   ],
   "source": [
    "# fitting logistic regression\n",
    "lr = LogisticRegression()\n",
    "lr.fit(features, y_train)\n",
    "predictionsLR = lr.predict(features2)\n",
    "scoreLR = accuracy_score(y_test, predictionsLR)\n",
    "print(f\"Logistic Regression score is {scoreLR * 100}% \\n\")\n",
    "\n",
    "# fitting SVC\n",
    "svc = svm.LinearSVC()\n",
    "svc.fit(features, y_train)\n",
    "predictionsSVC = svc.predict(features2)\n",
    "scoreSVC = accuracy_score(y_test, predictionsSVC)\n",
    "print(f\"Support Vector Classifier score is {scoreSVC * 100}%\\n\")\n",
    "\n",
    "# fitting decision tree classifier\n",
    "clf = tree.DecisionTreeClassifier()\n",
    "clf.fit(features, y_train)\n",
    "predictionsTree = clf.predict(features2)\n",
    "scoreTree = accuracy_score(y_test, predictionsTree)\n",
    "print(f\"Decision Tree Classifier score is {scoreTree * 100}%\\n\")\n",
    "\n",
    "# fitting Random Forest classifier\n",
    "clf1 = RandomForestClassifier(max_features=23)\n",
    "clf1.fit(features, y_train)\n",
    "predictionsTree1 = clf1.predict(features2)\n",
    "scoreTree1 = accuracy_score(y_test, predictionsTree1)\n",
    "print(f\"Random Forest Classifier score is {scoreTree1 * 100}%\\n\")\n",
    "\n",
    "# fitting XGBoost\n",
    "# xgb = XGBClassifier()\n",
    "# xgb.fit(features.to_numpy(), y_train)\n",
    "# predictionsXGB = xgb.predict(X_test)\n",
    "# predictionsXGB = (predictionsXGB>0.5).astype(int)\n",
    "# scoreXGB = accuracy_score(y_test, predictionsXGB)\n",
    "# print(f\"XG Boost Classifier score is {scoreXGB * 100}%\\n\")\n",
    "\n",
    "# fitting KNN Classifier\n",
    "K = range(1, 20)\n",
    "acc = []\n",
    "for k in K:\n",
    "    knn = KNeighborsClassifier(n_neighbors=k)\n",
    "    knn.fit(features, y_train)\n",
    "    predictionsKNN = knn.predict(features2)\n",
    "    scoreKNN = accuracy_score(y_test, predictionsKNN)\n",
    "    print(f\"KNN Classifier score is {scoreKNN * 100}% with k = {k}\")\n",
    "    acc.append(scoreKNN*100)\n",
    "\n",
    "# Elbow plot:\n",
    "plt.plot(K, acc)\n",
    "plt.xlabel('K')\n",
    "plt.ylabel('Accuracy')\n",
    "plt.title(\"Elbow Curve without feature selection for Inter-Reseach Area\")\n",
    "\n",
    "plt.show()\n",
    "\n",
    "# MLP / ANN\n",
    "classifier = MLPClassifier(hidden_layer_sizes=(128, 64), max_iter=300, activation='relu', solver='adam', random_state=1)\n",
    "classifier.fit(features, y_train)\n",
    "predictionsMLP = classifier.predict(features2)\n",
    "scoreMLP = accuracy_score(y_test, predictionsMLP)\n",
    "print(f\"\\nMLP Classifier score is {scoreMLP * 100}%\\n\")"
   ]
  },
  {
   "cell_type": "code",
   "execution_count": 130,
   "id": "yc8ST0-KmPc3",
   "metadata": {
    "colab": {
     "base_uri": "https://localhost:8080/"
    },
    "id": "yc8ST0-KmPc3",
    "outputId": "70a837cf-0a7a-46c1-d476-e1e6a5a43af8"
   },
   "outputs": [
    {
     "name": "stdout",
     "output_type": "stream",
     "text": [
      "Number of mislabeled points out of a total 87 points : 41\n"
     ]
    }
   ],
   "source": [
    "from sklearn.naive_bayes import GaussianNB\n",
    "gnb = GaussianNB()\n",
    "y_pred = gnb.fit(features, y_train).predict(features2)\n",
    "print(\"Number of mislabeled points out of a total %d points : %d\"\n",
    "      % (X_test.shape[0], (y_test != y_pred).sum()))"
   ]
  },
  {
   "cell_type": "code",
   "execution_count": 131,
   "id": "MzUZBG3OmPc3",
   "metadata": {
    "colab": {
     "base_uri": "https://localhost:8080/"
    },
    "id": "MzUZBG3OmPc3",
    "outputId": "ebb3f185-8cfd-40c0-b260-ffda72b5b491"
   },
   "outputs": [
    {
     "name": "stdout",
     "output_type": "stream",
     "text": [
      "              precision    recall  f1-score   support\n",
      "\n",
      "           0       0.31      0.58      0.41        24\n",
      "           1       0.76      0.51      0.61        63\n",
      "\n",
      "    accuracy                           0.53        87\n",
      "   macro avg       0.54      0.55      0.51        87\n",
      "weighted avg       0.64      0.53      0.55        87\n",
      "\n"
     ]
    }
   ],
   "source": [
    "from numpy import mean\n",
    "from numpy import std\n",
    "from sklearn.datasets import make_classification\n",
    "from sklearn.ensemble import GradientBoostingClassifier\n",
    "from sklearn.model_selection import cross_val_score\n",
    "from sklearn.model_selection import RepeatedStratifiedKFold\n",
    "from matplotlib import pyplot\n",
    "# define dataset\n",
    "# X, y = make_classification(n_samples=1000, n_features=10, n_informative=5, n_redundant=5, random_state=1)\n",
    "# evaluate the model\n",
    "# model = GradientBoostingClassifier()\n",
    "# cv = RepeatedStratifiedKFold(n_splits=10, n_repeats=3, random_state=1)\n",
    "# n_scores = cross_val_score(model, X_train, y_train, scoring='accuracy', cv=cv, n_jobs=-1, error_score='raise')\n",
    "# print('Accuracy: %.3f (%.3f)' % (mean(n_scores), std(n_scores)))\n",
    "# fit the model on the whole dataset\n",
    "model = GradientBoostingClassifier()\n",
    "model.fit(features, y_train)\n",
    "# make a single prediction\n",
    "# row = [[2.56999479, -0.13019997, 3.16075093, -4.35936352, -1.61271951, -1.39352057, -2.48924933, -1.93094078, 3.26130366, 2.05692145]]\n",
    "yhat = model.predict(features2)\n",
    "\n",
    "print(classification_report(yhat,y_test))"
   ]
  },
  {
   "cell_type": "code",
   "execution_count": 132,
   "id": "gl9ZEeFImPc4",
   "metadata": {
    "colab": {
     "base_uri": "https://localhost:8080/"
    },
    "id": "gl9ZEeFImPc4",
    "outputId": "d130c683-b2eb-4b37-b00e-6a33d3ef5ad6"
   },
   "outputs": [
    {
     "name": "stdout",
     "output_type": "stream",
     "text": [
      "              precision    recall  f1-score   support\n",
      "\n",
      "           0       0.16      0.47      0.23        15\n",
      "           1       0.81      0.47      0.60        72\n",
      "\n",
      "    accuracy                           0.47        87\n",
      "   macro avg       0.48      0.47      0.41        87\n",
      "weighted avg       0.70      0.47      0.53        87\n",
      "\n"
     ]
    }
   ],
   "source": [
    "# histogram-based gradient boosting for classification in scikit-learn\n",
    "from numpy import mean\n",
    "from numpy import std\n",
    "from sklearn.datasets import make_classification\n",
    "from sklearn.experimental import enable_hist_gradient_boosting\n",
    "from sklearn.ensemble import HistGradientBoostingClassifier\n",
    "from sklearn.model_selection import cross_val_score\n",
    "from sklearn.model_selection import RepeatedStratifiedKFold\n",
    "from matplotlib import pyplot\n",
    "# evaluate the model\n",
    "# model = HistGradientBoostingClassifier()\n",
    "# cv = RepeatedStratifiedKFold(n_splits=10, n_repeats=3, random_state=1)\n",
    "# n_scores = cross_val_score(model, features, y_train, scoring='accuracy', cv=cv, n_jobs=-1, error_score='raise')\n",
    "# print('Accuracy: %.3f (%.3f)' % (mean(n_scores), std(n_scores)))\n",
    "# fit the model on the whole dataset\n",
    "model = HistGradientBoostingClassifier()\n",
    "model.fit(features, y_train)\n",
    "# make a single prediction\n",
    "yhat = model.predict(features2)\n",
    "print(classification_report(yhat,y_test))"
   ]
  },
  {
   "cell_type": "code",
   "execution_count": 133,
   "id": "chk-JdFmmPc4",
   "metadata": {
    "colab": {
     "base_uri": "https://localhost:8080/",
     "height": 387
    },
    "id": "chk-JdFmmPc4",
    "outputId": "bb271dec-ea1e-4d10-f2c6-1512a8968b2e"
   },
   "outputs": [
    {
     "ename": "ValueError",
     "evalue": "ignored",
     "output_type": "error",
     "traceback": [
      "\u001b[0;31m---------------------------------------------------------------------------\u001b[0m",
      "\u001b[0;31mValueError\u001b[0m                                Traceback (most recent call last)",
      "\u001b[0;32m<ipython-input-133-3e5eb772ea61>\u001b[0m in \u001b[0;36m<module>\u001b[0;34m()\u001b[0m\n\u001b[1;32m     17\u001b[0m \u001b[0;31m# fit the model on the whole dataset\u001b[0m\u001b[0;34m\u001b[0m\u001b[0;34m\u001b[0m\u001b[0;34m\u001b[0m\u001b[0m\n\u001b[1;32m     18\u001b[0m \u001b[0mmodel\u001b[0m \u001b[0;34m=\u001b[0m \u001b[0mXGBClassifier\u001b[0m\u001b[0;34m(\u001b[0m\u001b[0;34m)\u001b[0m\u001b[0;34m\u001b[0m\u001b[0;34m\u001b[0m\u001b[0m\n\u001b[0;32m---> 19\u001b[0;31m \u001b[0mmodel\u001b[0m\u001b[0;34m.\u001b[0m\u001b[0mfit\u001b[0m\u001b[0;34m(\u001b[0m\u001b[0mfeatures\u001b[0m\u001b[0;34m,\u001b[0m \u001b[0my_train\u001b[0m\u001b[0;34m)\u001b[0m\u001b[0;34m\u001b[0m\u001b[0;34m\u001b[0m\u001b[0m\n\u001b[0m\u001b[1;32m     20\u001b[0m \u001b[0;31m# make a single prediction\u001b[0m\u001b[0;34m\u001b[0m\u001b[0;34m\u001b[0m\u001b[0;34m\u001b[0m\u001b[0m\n\u001b[1;32m     21\u001b[0m \u001b[0myhat\u001b[0m \u001b[0;34m=\u001b[0m \u001b[0mmodel\u001b[0m\u001b[0;34m.\u001b[0m\u001b[0mpredict\u001b[0m\u001b[0;34m(\u001b[0m\u001b[0mfeatures2\u001b[0m\u001b[0;34m)\u001b[0m\u001b[0;34m\u001b[0m\u001b[0;34m\u001b[0m\u001b[0m\n",
      "\u001b[0;32m/usr/local/lib/python3.7/dist-packages/xgboost/sklearn.py\u001b[0m in \u001b[0;36mfit\u001b[0;34m(self, X, y, sample_weight, eval_set, eval_metric, early_stopping_rounds, verbose, xgb_model, sample_weight_eval_set, callbacks)\u001b[0m\n\u001b[1;32m    724\u001b[0m         \u001b[0;32melse\u001b[0m\u001b[0;34m:\u001b[0m\u001b[0;34m\u001b[0m\u001b[0;34m\u001b[0m\u001b[0m\n\u001b[1;32m    725\u001b[0m             train_dmatrix = DMatrix(X, label=training_labels,\n\u001b[0;32m--> 726\u001b[0;31m                                     missing=self.missing, nthread=self.n_jobs)\n\u001b[0m\u001b[1;32m    727\u001b[0m \u001b[0;34m\u001b[0m\u001b[0m\n\u001b[1;32m    728\u001b[0m         self._Booster = train(xgb_options, train_dmatrix, self.get_num_boosting_rounds(),\n",
      "\u001b[0;32m/usr/local/lib/python3.7/dist-packages/xgboost/core.py\u001b[0m in \u001b[0;36m__init__\u001b[0;34m(self, data, label, missing, weight, silent, feature_names, feature_types, nthread)\u001b[0m\n\u001b[1;32m    424\u001b[0m                 \u001b[0mself\u001b[0m\u001b[0;34m.\u001b[0m\u001b[0mset_weight\u001b[0m\u001b[0;34m(\u001b[0m\u001b[0mweight\u001b[0m\u001b[0;34m)\u001b[0m\u001b[0;34m\u001b[0m\u001b[0;34m\u001b[0m\u001b[0m\n\u001b[1;32m    425\u001b[0m \u001b[0;34m\u001b[0m\u001b[0m\n\u001b[0;32m--> 426\u001b[0;31m         \u001b[0mself\u001b[0m\u001b[0;34m.\u001b[0m\u001b[0mfeature_names\u001b[0m \u001b[0;34m=\u001b[0m \u001b[0mfeature_names\u001b[0m\u001b[0;34m\u001b[0m\u001b[0;34m\u001b[0m\u001b[0m\n\u001b[0m\u001b[1;32m    427\u001b[0m         \u001b[0mself\u001b[0m\u001b[0;34m.\u001b[0m\u001b[0mfeature_types\u001b[0m \u001b[0;34m=\u001b[0m \u001b[0mfeature_types\u001b[0m\u001b[0;34m\u001b[0m\u001b[0;34m\u001b[0m\u001b[0m\n\u001b[1;32m    428\u001b[0m \u001b[0;34m\u001b[0m\u001b[0m\n",
      "\u001b[0;32m/usr/local/lib/python3.7/dist-packages/xgboost/core.py\u001b[0m in \u001b[0;36mfeature_names\u001b[0;34m(self, feature_names)\u001b[0m\n\u001b[1;32m    868\u001b[0m                        \u001b[0;32mnot\u001b[0m \u001b[0many\u001b[0m\u001b[0;34m(\u001b[0m\u001b[0mx\u001b[0m \u001b[0;32min\u001b[0m \u001b[0mf\u001b[0m \u001b[0;32mfor\u001b[0m \u001b[0mx\u001b[0m \u001b[0;32min\u001b[0m \u001b[0mset\u001b[0m\u001b[0;34m(\u001b[0m\u001b[0;34m(\u001b[0m\u001b[0;34m'['\u001b[0m\u001b[0;34m,\u001b[0m \u001b[0;34m']'\u001b[0m\u001b[0;34m,\u001b[0m \u001b[0;34m'<'\u001b[0m\u001b[0;34m)\u001b[0m\u001b[0;34m)\u001b[0m\u001b[0;34m)\u001b[0m\u001b[0;34m\u001b[0m\u001b[0;34m\u001b[0m\u001b[0m\n\u001b[1;32m    869\u001b[0m                        for f in feature_names):\n\u001b[0;32m--> 870\u001b[0;31m                 \u001b[0;32mraise\u001b[0m \u001b[0mValueError\u001b[0m\u001b[0;34m(\u001b[0m\u001b[0;34m'feature_names may not contain [, ] or <'\u001b[0m\u001b[0;34m)\u001b[0m\u001b[0;34m\u001b[0m\u001b[0;34m\u001b[0m\u001b[0m\n\u001b[0m\u001b[1;32m    871\u001b[0m         \u001b[0;32melse\u001b[0m\u001b[0;34m:\u001b[0m\u001b[0;34m\u001b[0m\u001b[0;34m\u001b[0m\u001b[0m\n\u001b[1;32m    872\u001b[0m             \u001b[0;31m# reset feature_types also\u001b[0m\u001b[0;34m\u001b[0m\u001b[0;34m\u001b[0m\u001b[0;34m\u001b[0m\u001b[0m\n",
      "\u001b[0;31mValueError\u001b[0m: feature_names may not contain [, ] or <"
     ]
    }
   ],
   "source": [
    "# xgboost for classification\n",
    "from numpy import asarray\n",
    "from numpy import mean\n",
    "from numpy import std\n",
    "from sklearn.datasets import make_classification\n",
    "from xgboost import XGBClassifier\n",
    "from sklearn.model_selection import cross_val_score\n",
    "from sklearn.model_selection import RepeatedStratifiedKFold\n",
    "from matplotlib import pyplot\n",
    "# define dataset\n",
    "X, y = make_classification(n_samples=1000, n_features=10, n_informative=5, n_redundant=5, random_state=1)\n",
    "# evaluate the model\n",
    "# model = XGBClassifier()\n",
    "# cv = RepeatedStratifiedKFold(n_splits=10, n_repeats=3, random_state=1)\n",
    "# n_scores = cross_val_score(model, features, y_train, scoring='accuracy', cv=cv, n_jobs=-1, error_score='raise')\n",
    "# print('Accuracy: %.3f (%.3f)' % (mean(n_scores), std(n_scores)))\n",
    "# fit the model on the whole dataset\n",
    "model = XGBClassifier()\n",
    "model.fit(features, y_train)\n",
    "# make a single prediction\n",
    "yhat = model.predict(features2)\n",
    "print(classification_report(yhat,y_test))"
   ]
  },
  {
   "cell_type": "code",
   "execution_count": 134,
   "id": "yTS9Ii_zmPc4",
   "metadata": {
    "colab": {
     "base_uri": "https://localhost:8080/"
    },
    "id": "yTS9Ii_zmPc4",
    "outputId": "b8e75f5b-28f3-48ed-8c5f-16b05301df9f"
   },
   "outputs": [
    {
     "name": "stdout",
     "output_type": "stream",
     "text": [
      "              precision    recall  f1-score   support\n",
      "\n",
      "           0       0.24      0.61      0.35        18\n",
      "           1       0.83      0.51      0.63        69\n",
      "\n",
      "    accuracy                           0.53        87\n",
      "   macro avg       0.54      0.56      0.49        87\n",
      "weighted avg       0.71      0.53      0.57        87\n",
      "\n"
     ]
    }
   ],
   "source": [
    "# lightgbm for classification\n",
    "from numpy import mean\n",
    "from numpy import std\n",
    "from sklearn.datasets import make_classification\n",
    "from lightgbm import LGBMClassifier\n",
    "from sklearn.model_selection import cross_val_score\n",
    "from sklearn.model_selection import RepeatedStratifiedKFold\n",
    "from matplotlib import pyplot\n",
    "# evaluate the model\n",
    "# model = LGBMClassifier()\n",
    "# cv = RepeatedStratifiedKFold(n_splits=10, n_repeats=3, random_state=1)\n",
    "# n_scores = cross_val_score(model, features, y_train, scoring='accuracy', cv=cv, n_jobs=-1, error_score='raise')\n",
    "# print('Accuracy: %.3f (%.3f)' % (mean(n_scores), std(n_scores)))\n",
    "# fit the model on the whole dataset\n",
    "model = LGBMClassifier()\n",
    "model.fit(features, y_train)\n",
    "# make a single prediction\n",
    "yhat = model.predict(features2)\n",
    "print(classification_report(yhat,y_test))"
   ]
  },
  {
   "cell_type": "code",
   "execution_count": 134,
   "id": "RKVX4MyBmPc4",
   "metadata": {
    "id": "RKVX4MyBmPc4"
   },
   "outputs": [],
   "source": []
  },
  {
   "cell_type": "markdown",
   "id": "1r_X3Et_owwx",
   "metadata": {
    "id": "1r_X3Et_owwx"
   },
   "source": [
    "# Models embed"
   ]
  },
  {
   "cell_type": "code",
   "execution_count": null,
   "id": "pPK2Yxltoww6",
   "metadata": {
    "id": "pPK2Yxltoww6"
   },
   "outputs": [],
   "source": [
    "import pandas as pd\n",
    "import numpy as np\n",
    "from sklearn.linear_model import LogisticRegression\n",
    "from sklearn import svm\n",
    "from sklearn import tree\n",
    "from sklearn.ensemble import RandomForestClassifier\n",
    "from sklearn.neighbors import KNeighborsClassifier\n",
    "from xgboost import XGBClassifier\n",
    "from sklearn.model_selection import train_test_split\n",
    "from sklearn.neural_network import MLPClassifier\n",
    "from sklearn.preprocessing import StandardScaler\n",
    "import seaborn as sns\n",
    "import matplotlib.pyplot as plt\n",
    "from sklearn.metrics import accuracy_score\n",
    "from sklearn.feature_selection import SelectFromModel\n",
    "\n",
    "from sklearn.decomposition import PCA\n",
    "from sklearn.manifold import TSNE\n",
    "%matplotlib inline\n",
    "import matplotlib.pyplot as plt\n",
    "from mpl_toolkits.mplot3d import Axes3D\n",
    "\n",
    "\n",
    "\n",
    "import warnings\n",
    "warnings.filterwarnings('ignore')"
   ]
  },
  {
   "cell_type": "code",
   "execution_count": 138,
   "id": "nIWGQWBOoww6",
   "metadata": {
    "id": "nIWGQWBOoww6"
   },
   "outputs": [],
   "source": [
    "features = X_train[embeded_lr_feature]\n",
    "features2 = X_test[embeded_lr_feature]"
   ]
  },
  {
   "cell_type": "code",
   "execution_count": 139,
   "id": "NHYfxjl7oww6",
   "metadata": {
    "colab": {
     "base_uri": "https://localhost:8080/"
    },
    "id": "NHYfxjl7oww6",
    "outputId": "da6939bb-d592-4436-fa01-ea7bd295481e"
   },
   "outputs": [
    {
     "data": {
      "text/plain": [
       "0"
      ]
     },
     "execution_count": 139,
     "metadata": {
      "tags": []
     },
     "output_type": "execute_result"
    }
   ],
   "source": [
    "features.isna().sum().sum()"
   ]
  },
  {
   "cell_type": "code",
   "execution_count": 140,
   "id": "9-7uYPMDoww7",
   "metadata": {
    "colab": {
     "base_uri": "https://localhost:8080/"
    },
    "id": "9-7uYPMDoww7",
    "outputId": "353d454a-29b9-4322-de7f-3043930e8af5"
   },
   "outputs": [
    {
     "data": {
      "text/plain": [
       "0"
      ]
     },
     "execution_count": 140,
     "metadata": {
      "tags": []
     },
     "output_type": "execute_result"
    }
   ],
   "source": [
    "X_test.isna().sum().sum()"
   ]
  },
  {
   "cell_type": "code",
   "execution_count": 141,
   "id": "gpV4yAsvoww7",
   "metadata": {
    "colab": {
     "base_uri": "https://localhost:8080/"
    },
    "id": "gpV4yAsvoww7",
    "outputId": "01cc12c2-a00f-490a-9f5e-35c720e0a380"
   },
   "outputs": [
    {
     "name": "stdout",
     "output_type": "stream",
     "text": [
      "              precision    recall  f1-score   support\n",
      "\n",
      "           0       0.31      0.52      0.39        27\n",
      "           1       0.69      0.48      0.57        60\n",
      "\n",
      "    accuracy                           0.49        87\n",
      "   macro avg       0.50      0.50      0.48        87\n",
      "weighted avg       0.57      0.49      0.51        87\n",
      "\n"
     ]
    }
   ],
   "source": [
    "from sklearn.model_selection import cross_val_score\n",
    "# from sklearn.datasets import load_iris\n",
    "from sklearn.ensemble import AdaBoostClassifier\n",
    "\n",
    "# X, y = load_iris(return_X_y=True)\n",
    "clf = AdaBoostClassifier()\n",
    "# scores = cross_val_score(clf, features, y_train, cv=5)\n",
    "# print(scores.mean())\n",
    "clf.fit(features, y_train)\n",
    "y_pred = (clf.predict(features2)>0.5).astype(int)\n",
    "from sklearn.metrics import classification_report\n",
    "print(classification_report(y_pred,y_test))\n"
   ]
  },
  {
   "cell_type": "code",
   "execution_count": 142,
   "id": "AAJHjOUvoww7",
   "metadata": {
    "colab": {
     "base_uri": "https://localhost:8080/"
    },
    "id": "AAJHjOUvoww7",
    "outputId": "42a5dccf-450f-428e-a326-f4e29fd0147e"
   },
   "outputs": [
    {
     "name": "stdout",
     "output_type": "stream",
     "text": [
      "              precision    recall  f1-score   support\n",
      "\n",
      "           0       0.53      0.20      0.29        45\n",
      "           1       0.49      0.81      0.61        42\n",
      "\n",
      "    accuracy                           0.49        87\n",
      "   macro avg       0.51      0.50      0.45        87\n",
      "weighted avg       0.51      0.49      0.44        87\n",
      "\n"
     ]
    }
   ],
   "source": [
    "from sklearn.svm import SVC\n",
    "\n",
    "svclassifier = SVC(gamma='auto')\n",
    "svclassifier.fit(features, y_train)\n",
    "y_pred = svclassifier.predict(features2)\n",
    "print(classification_report(y_test, y_pred))"
   ]
  },
  {
   "cell_type": "code",
   "execution_count": 143,
   "id": "Zc-QrRafoww7",
   "metadata": {
    "colab": {
     "base_uri": "https://localhost:8080/"
    },
    "id": "Zc-QrRafoww7",
    "outputId": "b70423ec-217b-4c83-df64-985cb4bdbc79"
   },
   "outputs": [
    {
     "name": "stdout",
     "output_type": "stream",
     "text": [
      "Accuracy: 0.51 (+/- 0.04) [DecisionTreeClassifier]\n",
      "Accuracy: 0.54 (+/- 0.01) [KNNClassifier]\n",
      "Accuracy: 0.59 (+/- 0.02) [SVC]\n",
      "Accuracy: 0.53 (+/- 0.04) [voting]\n"
     ]
    }
   ],
   "source": [
    "from sklearn import datasets\n",
    "from sklearn.tree import DecisionTreeClassifier\n",
    "from sklearn.neighbors import KNeighborsClassifier\n",
    "from sklearn.svm import SVC\n",
    "from itertools import product\n",
    "from sklearn.ensemble import VotingClassifier\n",
    "\n",
    "\n",
    "clf1 = DecisionTreeClassifier()\n",
    "clf2 = KNeighborsClassifier()\n",
    "clf3 = SVC(kernel='rbf', probability=True)\n",
    "eclf = VotingClassifier(estimators=[('dt', clf1), ('knn', clf2), ('svc', clf3)],\n",
    "                        voting='soft', weights=[2, 2, 2])\n",
    "\n",
    "clf1 = clf1.fit(features, y_train)\n",
    "clf2 = clf2.fit(features, y_train)\n",
    "clf3 = clf3.fit(features, y_train)\n",
    "eclf = eclf.fit(features, y_train)\n",
    "\n",
    "for clf, label in zip([clf1, clf2, clf3, eclf], ['DecisionTreeClassifier', 'KNNClassifier', 'SVC', 'voting']):\n",
    "    scores = cross_val_score(clf, features, y_train, scoring='accuracy', cv=5)\n",
    "    print(\"Accuracy: %0.2f (+/- %0.2f) [%s]\" % (scores.mean(), scores.std(), label))"
   ]
  },
  {
   "cell_type": "code",
   "execution_count": 144,
   "id": "Eq9XOSgqoww8",
   "metadata": {
    "colab": {
     "base_uri": "https://localhost:8080/",
     "height": 827
    },
    "id": "Eq9XOSgqoww8",
    "outputId": "71677c5e-90c3-4307-e3f8-d80b7348b426"
   },
   "outputs": [
    {
     "name": "stdout",
     "output_type": "stream",
     "text": [
      "Logistic Regression score is 56.32183908045977% \n",
      "\n",
      "Support Vector Classifier score is 55.172413793103445%\n",
      "\n",
      "Decision Tree Classifier score is 47.12643678160919%\n",
      "\n",
      "Random Forest Classifier score is 48.275862068965516%\n",
      "\n",
      "KNN Classifier score is 48.275862068965516% with k = 1\n",
      "KNN Classifier score is 49.42528735632184% with k = 2\n",
      "KNN Classifier score is 44.827586206896555% with k = 3\n",
      "KNN Classifier score is 42.5287356321839% with k = 4\n",
      "KNN Classifier score is 45.97701149425287% with k = 5\n",
      "KNN Classifier score is 42.5287356321839% with k = 6\n",
      "KNN Classifier score is 51.724137931034484% with k = 7\n",
      "KNN Classifier score is 49.42528735632184% with k = 8\n",
      "KNN Classifier score is 49.42528735632184% with k = 9\n",
      "KNN Classifier score is 51.724137931034484% with k = 10\n",
      "KNN Classifier score is 50.57471264367817% with k = 11\n",
      "KNN Classifier score is 44.827586206896555% with k = 12\n",
      "KNN Classifier score is 45.97701149425287% with k = 13\n",
      "KNN Classifier score is 48.275862068965516% with k = 14\n",
      "KNN Classifier score is 49.42528735632184% with k = 15\n",
      "KNN Classifier score is 51.724137931034484% with k = 16\n",
      "KNN Classifier score is 51.724137931034484% with k = 17\n",
      "KNN Classifier score is 51.724137931034484% with k = 18\n",
      "KNN Classifier score is 50.57471264367817% with k = 19\n"
     ]
    },
    {
     "data": {
      "image/png": "[encoded data removed]",
      "text/plain": [
       "<Figure size 432x288 with 1 Axes>"
      ]
     },
     "metadata": {
      "needs_background": "light",
      "tags": []
     },
     "output_type": "display_data"
    },
    {
     "name": "stdout",
     "output_type": "stream",
     "text": [
      "\n",
      "MLP Classifier score is 50.57471264367817%\n",
      "\n"
     ]
    }
   ],
   "source": [
    "# fitting logistic regression\n",
    "lr = LogisticRegression()\n",
    "lr.fit(features, y_train)\n",
    "predictionsLR = lr.predict(features2)\n",
    "scoreLR = accuracy_score(y_test, predictionsLR)\n",
    "print(f\"Logistic Regression score is {scoreLR * 100}% \\n\")\n",
    "\n",
    "# fitting SVC\n",
    "svc = svm.LinearSVC()\n",
    "svc.fit(features, y_train)\n",
    "predictionsSVC = svc.predict(features2)\n",
    "scoreSVC = accuracy_score(y_test, predictionsSVC)\n",
    "print(f\"Support Vector Classifier score is {scoreSVC * 100}%\\n\")\n",
    "\n",
    "# fitting decision tree classifier\n",
    "clf = tree.DecisionTreeClassifier()\n",
    "clf.fit(features, y_train)\n",
    "predictionsTree = clf.predict(features2)\n",
    "scoreTree = accuracy_score(y_test, predictionsTree)\n",
    "print(f\"Decision Tree Classifier score is {scoreTree * 100}%\\n\")\n",
    "\n",
    "# fitting Random Forest classifier\n",
    "clf1 = RandomForestClassifier(max_features=23)\n",
    "clf1.fit(features, y_train)\n",
    "predictionsTree1 = clf1.predict(features2)\n",
    "scoreTree1 = accuracy_score(y_test, predictionsTree1)\n",
    "print(f\"Random Forest Classifier score is {scoreTree1 * 100}%\\n\")\n",
    "\n",
    "# fitting XGBoost\n",
    "# xgb = XGBClassifier()\n",
    "# xgb.fit(features.to_numpy(), y_train)\n",
    "# predictionsXGB = xgb.predict(X_test)\n",
    "# predictionsXGB = (predictionsXGB>0.5).astype(int)\n",
    "# scoreXGB = accuracy_score(y_test, predictionsXGB)\n",
    "# print(f\"XG Boost Classifier score is {scoreXGB * 100}%\\n\")\n",
    "\n",
    "# fitting KNN Classifier\n",
    "K = range(1, 20)\n",
    "acc = []\n",
    "for k in K:\n",
    "    knn = KNeighborsClassifier(n_neighbors=k)\n",
    "    knn.fit(features, y_train)\n",
    "    predictionsKNN = knn.predict(features2)\n",
    "    scoreKNN = accuracy_score(y_test, predictionsKNN)\n",
    "    print(f\"KNN Classifier score is {scoreKNN * 100}% with k = {k}\")\n",
    "    acc.append(scoreKNN*100)\n",
    "\n",
    "# Elbow plot:\n",
    "plt.plot(K, acc)\n",
    "plt.xlabel('K')\n",
    "plt.ylabel('Accuracy')\n",
    "plt.title(\"Elbow Curve without feature selection for Inter-Reseach Area\")\n",
    "\n",
    "plt.show()\n",
    "\n",
    "# MLP / ANN\n",
    "classifier = MLPClassifier(hidden_layer_sizes=(128, 64), max_iter=300, activation='relu', solver='adam', random_state=1)\n",
    "classifier.fit(features, y_train)\n",
    "predictionsMLP = classifier.predict(features2)\n",
    "scoreMLP = accuracy_score(y_test, predictionsMLP)\n",
    "print(f\"\\nMLP Classifier score is {scoreMLP * 100}%\\n\")"
   ]
  },
  {
   "cell_type": "code",
   "execution_count": 145,
   "id": "6hGyZp0qoww8",
   "metadata": {
    "colab": {
     "base_uri": "https://localhost:8080/"
    },
    "id": "6hGyZp0qoww8",
    "outputId": "d6e255f4-7e11-4d9b-f9d6-e3bf7afa77f5"
   },
   "outputs": [
    {
     "name": "stdout",
     "output_type": "stream",
     "text": [
      "Number of mislabeled points out of a total 87 points : 44\n"
     ]
    }
   ],
   "source": [
    "from sklearn.naive_bayes import GaussianNB\n",
    "gnb = GaussianNB()\n",
    "y_pred = gnb.fit(features, y_train).predict(features2)\n",
    "print(\"Number of mislabeled points out of a total %d points : %d\"\n",
    "      % (X_test.shape[0], (y_test != y_pred).sum()))"
   ]
  },
  {
   "cell_type": "code",
   "execution_count": 146,
   "id": "3qjXatsCoww8",
   "metadata": {
    "colab": {
     "base_uri": "https://localhost:8080/"
    },
    "id": "3qjXatsCoww8",
    "outputId": "c0ce3641-71ae-4cf5-f773-5a0a062407f6"
   },
   "outputs": [
    {
     "name": "stdout",
     "output_type": "stream",
     "text": [
      "              precision    recall  f1-score   support\n",
      "\n",
      "           0       0.29      0.52      0.37        25\n",
      "           1       0.71      0.48      0.58        62\n",
      "\n",
      "    accuracy                           0.49        87\n",
      "   macro avg       0.50      0.50      0.47        87\n",
      "weighted avg       0.59      0.49      0.52        87\n",
      "\n"
     ]
    }
   ],
   "source": [
    "from numpy import mean\n",
    "from numpy import std\n",
    "from sklearn.datasets import make_classification\n",
    "from sklearn.ensemble import GradientBoostingClassifier\n",
    "from sklearn.model_selection import cross_val_score\n",
    "from sklearn.model_selection import RepeatedStratifiedKFold\n",
    "from matplotlib import pyplot\n",
    "# define dataset\n",
    "# X, y = make_classification(n_samples=1000, n_features=10, n_informative=5, n_redundant=5, random_state=1)\n",
    "# evaluate the model\n",
    "# model = GradientBoostingClassifier()\n",
    "# cv = RepeatedStratifiedKFold(n_splits=10, n_repeats=3, random_state=1)\n",
    "# n_scores = cross_val_score(model, X_train, y_train, scoring='accuracy', cv=cv, n_jobs=-1, error_score='raise')\n",
    "# print('Accuracy: %.3f (%.3f)' % (mean(n_scores), std(n_scores)))\n",
    "# fit the model on the whole dataset\n",
    "model = GradientBoostingClassifier()\n",
    "model.fit(features, y_train)\n",
    "# make a single prediction\n",
    "# row = [[2.56999479, -0.13019997, 3.16075093, -4.35936352, -1.61271951, -1.39352057, -2.48924933, -1.93094078, 3.26130366, 2.05692145]]\n",
    "yhat = model.predict(features2)\n",
    "\n",
    "print(classification_report(yhat,y_test))"
   ]
  },
  {
   "cell_type": "code",
   "execution_count": 147,
   "id": "aF0L1T-roww9",
   "metadata": {
    "colab": {
     "base_uri": "https://localhost:8080/"
    },
    "id": "aF0L1T-roww9",
    "outputId": "7b01d0f1-71c3-4760-8934-c4eab9d2ccf3"
   },
   "outputs": [
    {
     "name": "stdout",
     "output_type": "stream",
     "text": [
      "              precision    recall  f1-score   support\n",
      "\n",
      "           0       0.27      0.60      0.37        20\n",
      "           1       0.81      0.51      0.62        67\n",
      "\n",
      "    accuracy                           0.53        87\n",
      "   macro avg       0.54      0.55      0.50        87\n",
      "weighted avg       0.68      0.53      0.57        87\n",
      "\n"
     ]
    }
   ],
   "source": [
    "# histogram-based gradient boosting for classification in scikit-learn\n",
    "from numpy import mean\n",
    "from numpy import std\n",
    "from sklearn.datasets import make_classification\n",
    "from sklearn.experimental import enable_hist_gradient_boosting\n",
    "from sklearn.ensemble import HistGradientBoostingClassifier\n",
    "from sklearn.model_selection import cross_val_score\n",
    "from sklearn.model_selection import RepeatedStratifiedKFold\n",
    "from matplotlib import pyplot\n",
    "# evaluate the model\n",
    "# model = HistGradientBoostingClassifier()\n",
    "# cv = RepeatedStratifiedKFold(n_splits=10, n_repeats=3, random_state=1)\n",
    "# n_scores = cross_val_score(model, features, y_train, scoring='accuracy', cv=cv, n_jobs=-1, error_score='raise')\n",
    "# print('Accuracy: %.3f (%.3f)' % (mean(n_scores), std(n_scores)))\n",
    "# fit the model on the whole dataset\n",
    "model = HistGradientBoostingClassifier()\n",
    "model.fit(features, y_train)\n",
    "# make a single prediction\n",
    "yhat = model.predict(features2)\n",
    "print(classification_report(yhat,y_test))"
   ]
  },
  {
   "cell_type": "code",
   "execution_count": null,
   "id": "E8MzWy3goww9",
   "metadata": {
    "colab": {
     "base_uri": "https://localhost:8080/",
     "height": 387
    },
    "id": "E8MzWy3goww9",
    "outputId": "bb271dec-ea1e-4d10-f2c6-1512a8968b2e"
   },
   "outputs": [
    {
     "ename": "ValueError",
     "evalue": "ignored",
     "output_type": "error",
     "traceback": [
      "\u001b[0;31m---------------------------------------------------------------------------\u001b[0m",
      "\u001b[0;31mValueError\u001b[0m                                Traceback (most recent call last)",
      "\u001b[0;32m<ipython-input-133-3e5eb772ea61>\u001b[0m in \u001b[0;36m<module>\u001b[0;34m()\u001b[0m\n\u001b[1;32m     17\u001b[0m \u001b[0;31m# fit the model on the whole dataset\u001b[0m\u001b[0;34m\u001b[0m\u001b[0;34m\u001b[0m\u001b[0;34m\u001b[0m\u001b[0m\n\u001b[1;32m     18\u001b[0m \u001b[0mmodel\u001b[0m \u001b[0;34m=\u001b[0m \u001b[0mXGBClassifier\u001b[0m\u001b[0;34m(\u001b[0m\u001b[0;34m)\u001b[0m\u001b[0;34m\u001b[0m\u001b[0;34m\u001b[0m\u001b[0m\n\u001b[0;32m---> 19\u001b[0;31m \u001b[0mmodel\u001b[0m\u001b[0;34m.\u001b[0m\u001b[0mfit\u001b[0m\u001b[0;34m(\u001b[0m\u001b[0mfeatures\u001b[0m\u001b[0;34m,\u001b[0m \u001b[0my_train\u001b[0m\u001b[0;34m)\u001b[0m\u001b[0;34m\u001b[0m\u001b[0;34m\u001b[0m\u001b[0m\n\u001b[0m\u001b[1;32m     20\u001b[0m \u001b[0;31m# make a single prediction\u001b[0m\u001b[0;34m\u001b[0m\u001b[0;34m\u001b[0m\u001b[0;34m\u001b[0m\u001b[0m\n\u001b[1;32m     21\u001b[0m \u001b[0myhat\u001b[0m \u001b[0;34m=\u001b[0m \u001b[0mmodel\u001b[0m\u001b[0;34m.\u001b[0m\u001b[0mpredict\u001b[0m\u001b[0;34m(\u001b[0m\u001b[0mfeatures2\u001b[0m\u001b[0;34m)\u001b[0m\u001b[0;34m\u001b[0m\u001b[0;34m\u001b[0m\u001b[0m\n",
      "\u001b[0;32m/usr/local/lib/python3.7/dist-packages/xgboost/sklearn.py\u001b[0m in \u001b[0;36mfit\u001b[0;34m(self, X, y, sample_weight, eval_set, eval_metric, early_stopping_rounds, verbose, xgb_model, sample_weight_eval_set, callbacks)\u001b[0m\n\u001b[1;32m    724\u001b[0m         \u001b[0;32melse\u001b[0m\u001b[0;34m:\u001b[0m\u001b[0;34m\u001b[0m\u001b[0;34m\u001b[0m\u001b[0m\n\u001b[1;32m    725\u001b[0m             train_dmatrix = DMatrix(X, label=training_labels,\n\u001b[0;32m--> 726\u001b[0;31m                                     missing=self.missing, nthread=self.n_jobs)\n\u001b[0m\u001b[1;32m    727\u001b[0m \u001b[0;34m\u001b[0m\u001b[0m\n\u001b[1;32m    728\u001b[0m         self._Booster = train(xgb_options, train_dmatrix, self.get_num_boosting_rounds(),\n",
      "\u001b[0;32m/usr/local/lib/python3.7/dist-packages/xgboost/core.py\u001b[0m in \u001b[0;36m__init__\u001b[0;34m(self, data, label, missing, weight, silent, feature_names, feature_types, nthread)\u001b[0m\n\u001b[1;32m    424\u001b[0m                 \u001b[0mself\u001b[0m\u001b[0;34m.\u001b[0m\u001b[0mset_weight\u001b[0m\u001b[0;34m(\u001b[0m\u001b[0mweight\u001b[0m\u001b[0;34m)\u001b[0m\u001b[0;34m\u001b[0m\u001b[0;34m\u001b[0m\u001b[0m\n\u001b[1;32m    425\u001b[0m \u001b[0;34m\u001b[0m\u001b[0m\n\u001b[0;32m--> 426\u001b[0;31m         \u001b[0mself\u001b[0m\u001b[0;34m.\u001b[0m\u001b[0mfeature_names\u001b[0m \u001b[0;34m=\u001b[0m \u001b[0mfeature_names\u001b[0m\u001b[0;34m\u001b[0m\u001b[0;34m\u001b[0m\u001b[0m\n\u001b[0m\u001b[1;32m    427\u001b[0m         \u001b[0mself\u001b[0m\u001b[0;34m.\u001b[0m\u001b[0mfeature_types\u001b[0m \u001b[0;34m=\u001b[0m \u001b[0mfeature_types\u001b[0m\u001b[0;34m\u001b[0m\u001b[0;34m\u001b[0m\u001b[0m\n\u001b[1;32m    428\u001b[0m \u001b[0;34m\u001b[0m\u001b[0m\n",
      "\u001b[0;32m/usr/local/lib/python3.7/dist-packages/xgboost/core.py\u001b[0m in \u001b[0;36mfeature_names\u001b[0;34m(self, feature_names)\u001b[0m\n\u001b[1;32m    868\u001b[0m                        \u001b[0;32mnot\u001b[0m \u001b[0many\u001b[0m\u001b[0;34m(\u001b[0m\u001b[0mx\u001b[0m \u001b[0;32min\u001b[0m \u001b[0mf\u001b[0m \u001b[0;32mfor\u001b[0m \u001b[0mx\u001b[0m \u001b[0;32min\u001b[0m \u001b[0mset\u001b[0m\u001b[0;34m(\u001b[0m\u001b[0;34m(\u001b[0m\u001b[0;34m'['\u001b[0m\u001b[0;34m,\u001b[0m \u001b[0;34m']'\u001b[0m\u001b[0;34m,\u001b[0m \u001b[0;34m'<'\u001b[0m\u001b[0;34m)\u001b[0m\u001b[0;34m)\u001b[0m\u001b[0;34m)\u001b[0m\u001b[0;34m\u001b[0m\u001b[0;34m\u001b[0m\u001b[0m\n\u001b[1;32m    869\u001b[0m                        for f in feature_names):\n\u001b[0;32m--> 870\u001b[0;31m                 \u001b[0;32mraise\u001b[0m \u001b[0mValueError\u001b[0m\u001b[0;34m(\u001b[0m\u001b[0;34m'feature_names may not contain [, ] or <'\u001b[0m\u001b[0;34m)\u001b[0m\u001b[0;34m\u001b[0m\u001b[0;34m\u001b[0m\u001b[0m\n\u001b[0m\u001b[1;32m    871\u001b[0m         \u001b[0;32melse\u001b[0m\u001b[0;34m:\u001b[0m\u001b[0;34m\u001b[0m\u001b[0;34m\u001b[0m\u001b[0m\n\u001b[1;32m    872\u001b[0m             \u001b[0;31m# reset feature_types also\u001b[0m\u001b[0;34m\u001b[0m\u001b[0;34m\u001b[0m\u001b[0;34m\u001b[0m\u001b[0m\n",
      "\u001b[0;31mValueError\u001b[0m: feature_names may not contain [, ] or <"
     ]
    }
   ],
   "source": [
    "# xgboost for classification\n",
    "from numpy import asarray\n",
    "from numpy import mean\n",
    "from numpy import std\n",
    "from sklearn.datasets import make_classification\n",
    "from xgboost import XGBClassifier\n",
    "from sklearn.model_selection import cross_val_score\n",
    "from sklearn.model_selection import RepeatedStratifiedKFold\n",
    "from matplotlib import pyplot\n",
    "# define dataset\n",
    "X, y = make_classification(n_samples=1000, n_features=10, n_informative=5, n_redundant=5, random_state=1)\n",
    "# evaluate the model\n",
    "# model = XGBClassifier()\n",
    "# cv = RepeatedStratifiedKFold(n_splits=10, n_repeats=3, random_state=1)\n",
    "# n_scores = cross_val_score(model, features, y_train, scoring='accuracy', cv=cv, n_jobs=-1, error_score='raise')\n",
    "# print('Accuracy: %.3f (%.3f)' % (mean(n_scores), std(n_scores)))\n",
    "# fit the model on the whole dataset\n",
    "model = XGBClassifier()\n",
    "model.fit(features, y_train)\n",
    "# make a single prediction\n",
    "yhat = model.predict(features2)\n",
    "print(classification_report(yhat,y_test))"
   ]
  },
  {
   "cell_type": "code",
   "execution_count": 148,
   "id": "Tdax6s_Ooww9",
   "metadata": {
    "colab": {
     "base_uri": "https://localhost:8080/"
    },
    "id": "Tdax6s_Ooww9",
    "outputId": "775d69c5-06ca-4c3c-f428-59688a9936a8"
   },
   "outputs": [
    {
     "name": "stdout",
     "output_type": "stream",
     "text": [
      "              precision    recall  f1-score   support\n",
      "\n",
      "           0       0.24      0.65      0.35        17\n",
      "           1       0.86      0.51      0.64        70\n",
      "\n",
      "    accuracy                           0.54        87\n",
      "   macro avg       0.55      0.58      0.50        87\n",
      "weighted avg       0.74      0.54      0.59        87\n",
      "\n"
     ]
    }
   ],
   "source": [
    "# lightgbm for classification\n",
    "from numpy import mean\n",
    "from numpy import std\n",
    "from sklearn.datasets import make_classification\n",
    "from lightgbm import LGBMClassifier\n",
    "from sklearn.model_selection import cross_val_score\n",
    "from sklearn.model_selection import RepeatedStratifiedKFold\n",
    "from matplotlib import pyplot\n",
    "# evaluate the model\n",
    "# model = LGBMClassifier()\n",
    "# cv = RepeatedStratifiedKFold(n_splits=10, n_repeats=3, random_state=1)\n",
    "# n_scores = cross_val_score(model, features, y_train, scoring='accuracy', cv=cv, n_jobs=-1, error_score='raise')\n",
    "# print('Accuracy: %.3f (%.3f)' % (mean(n_scores), std(n_scores)))\n",
    "# fit the model on the whole dataset\n",
    "model = LGBMClassifier()\n",
    "model.fit(features, y_train)\n",
    "# make a single prediction\n",
    "yhat = model.predict(features2)\n",
    "print(classification_report(yhat,y_test))"
   ]
  },
  {
   "cell_type": "code",
   "execution_count": 148,
   "id": "cbbPd1unoww_",
   "metadata": {
    "id": "cbbPd1unoww_"
   },
   "outputs": [],
   "source": []
  },
  {
   "cell_type": "markdown",
   "id": "AULrRtEVqIWj",
   "metadata": {
    "id": "AULrRtEVqIWj"
   },
   "source": [
    "# Models embed rf"
   ]
  },
  {
   "cell_type": "code",
   "execution_count": 18,
   "id": "Bmnf27hTqIWj",
   "metadata": {
    "id": "Bmnf27hTqIWj"
   },
   "outputs": [],
   "source": [
    "import pandas as pd\n",
    "import numpy as np\n",
    "from sklearn.linear_model import LogisticRegression\n",
    "from sklearn import svm\n",
    "from sklearn import tree\n",
    "from sklearn.ensemble import RandomForestClassifier\n",
    "from sklearn.neighbors import KNeighborsClassifier\n",
    "from xgboost import XGBClassifier\n",
    "from sklearn.model_selection import train_test_split\n",
    "from sklearn.neural_network import MLPClassifier\n",
    "from sklearn.preprocessing import StandardScaler\n",
    "import seaborn as sns\n",
    "import matplotlib.pyplot as plt\n",
    "from sklearn.metrics import accuracy_score\n",
    "from sklearn.feature_selection import SelectFromModel\n",
    "\n",
    "from sklearn.decomposition import PCA\n",
    "from sklearn.manifold import TSNE\n",
    "%matplotlib inline\n",
    "import matplotlib.pyplot as plt\n",
    "from mpl_toolkits.mplot3d import Axes3D\n",
    "\n",
    "\n",
    "\n",
    "import warnings\n",
    "warnings.filterwarnings('ignore')"
   ]
  },
  {
   "cell_type": "code",
   "execution_count": 23,
   "id": "zdmSCMlaBD1v",
   "metadata": {
    "id": "zdmSCMlaBD1v"
   },
   "outputs": [],
   "source": [
    "from sklearn.metrics import classification_report, confusion_matrix"
   ]
  },
  {
   "cell_type": "code",
   "execution_count": 19,
   "id": "Cq2mqFUaqIWj",
   "metadata": {
    "id": "Cq2mqFUaqIWj"
   },
   "outputs": [],
   "source": [
    "features = X_train[embeded_rf_feature]\n",
    "features2 = X_test[embeded_rf_feature]"
   ]
  },
  {
   "cell_type": "code",
   "execution_count": 20,
   "id": "IlWMhzoyqIWj",
   "metadata": {
    "colab": {
     "base_uri": "https://localhost:8080/"
    },
    "id": "IlWMhzoyqIWj",
    "outputId": "b9064bd9-6a6d-41c8-9517-d8fec8b592d5"
   },
   "outputs": [
    {
     "data": {
      "text/plain": [
       "0"
      ]
     },
     "execution_count": 20,
     "metadata": {
      "tags": []
     },
     "output_type": "execute_result"
    }
   ],
   "source": [
    "features.isna().sum().sum()"
   ]
  },
  {
   "cell_type": "code",
   "execution_count": 21,
   "id": "3nxlWCrkqIWk",
   "metadata": {
    "colab": {
     "base_uri": "https://localhost:8080/"
    },
    "id": "3nxlWCrkqIWk",
    "outputId": "48d683d2-3259-4035-df21-0f7920d62e76"
   },
   "outputs": [
    {
     "data": {
      "text/plain": [
       "0"
      ]
     },
     "execution_count": 21,
     "metadata": {
      "tags": []
     },
     "output_type": "execute_result"
    }
   ],
   "source": [
    "X_test.isna().sum().sum()"
   ]
  },
  {
   "cell_type": "code",
   "execution_count": 24,
   "id": "UVTrWTLkqIWk",
   "metadata": {
    "colab": {
     "base_uri": "https://localhost:8080/"
    },
    "id": "UVTrWTLkqIWk",
    "outputId": "f8ba19c5-ab85-4dbf-c310-532164bd8d6a"
   },
   "outputs": [
    {
     "name": "stdout",
     "output_type": "stream",
     "text": [
      "              precision    recall  f1-score   support\n",
      "\n",
      "           0       0.22      0.42      0.29        24\n",
      "           1       0.67      0.44      0.53        63\n",
      "\n",
      "    accuracy                           0.44        87\n",
      "   macro avg       0.44      0.43      0.41        87\n",
      "weighted avg       0.54      0.44      0.47        87\n",
      "\n"
     ]
    }
   ],
   "source": [
    "from sklearn.model_selection import cross_val_score\n",
    "# from sklearn.datasets import load_iris\n",
    "from sklearn.ensemble import AdaBoostClassifier\n",
    "\n",
    "# X, y = load_iris(return_X_y=True)\n",
    "clf = AdaBoostClassifier()\n",
    "# scores = cross_val_score(clf, features, y_train, cv=5)\n",
    "# print(scores.mean())\n",
    "clf.fit(features, y_train)\n",
    "y_pred = (clf.predict(features2)>0.5).astype(int)\n",
    "from sklearn.metrics import classification_report\n",
    "print(classification_report(y_pred,y_test))\n"
   ]
  },
  {
   "cell_type": "code",
   "execution_count": 25,
   "id": "nEyl39i9qIWk",
   "metadata": {
    "colab": {
     "base_uri": "https://localhost:8080/"
    },
    "id": "nEyl39i9qIWk",
    "outputId": "9acbb15a-e4fe-472b-a26c-5bb3c55e6ee1"
   },
   "outputs": [
    {
     "name": "stdout",
     "output_type": "stream",
     "text": [
      "              precision    recall  f1-score   support\n",
      "\n",
      "           0       0.47      0.20      0.28        45\n",
      "           1       0.47      0.76      0.58        42\n",
      "\n",
      "    accuracy                           0.47        87\n",
      "   macro avg       0.47      0.48      0.43        87\n",
      "weighted avg       0.47      0.47      0.43        87\n",
      "\n"
     ]
    }
   ],
   "source": [
    "from sklearn.svm import SVC\n",
    "\n",
    "svclassifier = SVC(gamma='auto')\n",
    "svclassifier.fit(features, y_train)\n",
    "y_pred = svclassifier.predict(features2)\n",
    "print(classification_report(y_test, y_pred))"
   ]
  },
  {
   "cell_type": "code",
   "execution_count": 26,
   "id": "1mNhIbZ6qIWl",
   "metadata": {
    "colab": {
     "base_uri": "https://localhost:8080/"
    },
    "id": "1mNhIbZ6qIWl",
    "outputId": "6a479b0e-573b-424a-bb76-7f41c1522636"
   },
   "outputs": [
    {
     "name": "stdout",
     "output_type": "stream",
     "text": [
      "Accuracy: 0.51 (+/- 0.01) [DecisionTreeClassifier]\n",
      "Accuracy: 0.52 (+/- 0.03) [KNNClassifier]\n",
      "Accuracy: 0.55 (+/- 0.02) [SVC]\n",
      "Accuracy: 0.53 (+/- 0.04) [voting]\n"
     ]
    }
   ],
   "source": [
    "from sklearn import datasets\n",
    "from sklearn.tree import DecisionTreeClassifier\n",
    "from sklearn.neighbors import KNeighborsClassifier\n",
    "from sklearn.svm import SVC\n",
    "from itertools import product\n",
    "from sklearn.ensemble import VotingClassifier\n",
    "\n",
    "\n",
    "clf1 = DecisionTreeClassifier()\n",
    "clf2 = KNeighborsClassifier()\n",
    "clf3 = SVC(kernel='rbf', probability=True)\n",
    "eclf = VotingClassifier(estimators=[('dt', clf1), ('knn', clf2), ('svc', clf3)],\n",
    "                        voting='soft', weights=[2, 2, 2])\n",
    "\n",
    "clf1 = clf1.fit(features, y_train)\n",
    "clf2 = clf2.fit(features, y_train)\n",
    "clf3 = clf3.fit(features, y_train)\n",
    "eclf = eclf.fit(features, y_train)\n",
    "\n",
    "for clf, label in zip([clf1, clf2, clf3, eclf], ['DecisionTreeClassifier', 'KNNClassifier', 'SVC', 'voting']):\n",
    "    scores = cross_val_score(clf, features, y_train, scoring='accuracy', cv=5)\n",
    "    print(\"Accuracy: %0.2f (+/- %0.2f) [%s]\" % (scores.mean(), scores.std(), label))"
   ]
  },
  {
   "cell_type": "code",
   "execution_count": 27,
   "id": "_QMoPvFCqIWl",
   "metadata": {
    "colab": {
     "base_uri": "https://localhost:8080/",
     "height": 827
    },
    "id": "_QMoPvFCqIWl",
    "outputId": "02c251f4-e884-4c10-be29-437c6a5c8f9a"
   },
   "outputs": [
    {
     "name": "stdout",
     "output_type": "stream",
     "text": [
      "Logistic Regression score is 49.42528735632184% \n",
      "\n",
      "Support Vector Classifier score is 52.87356321839081%\n",
      "\n",
      "Decision Tree Classifier score is 47.12643678160919%\n",
      "\n",
      "Random Forest Classifier score is 51.724137931034484%\n",
      "\n",
      "KNN Classifier score is 47.12643678160919% with k = 1\n",
      "KNN Classifier score is 44.827586206896555% with k = 2\n",
      "KNN Classifier score is 47.12643678160919% with k = 3\n",
      "KNN Classifier score is 47.12643678160919% with k = 4\n",
      "KNN Classifier score is 50.57471264367817% with k = 5\n",
      "KNN Classifier score is 45.97701149425287% with k = 6\n",
      "KNN Classifier score is 52.87356321839081% with k = 7\n",
      "KNN Classifier score is 51.724137931034484% with k = 8\n",
      "KNN Classifier score is 54.02298850574713% with k = 9\n",
      "KNN Classifier score is 52.87356321839081% with k = 10\n",
      "KNN Classifier score is 51.724137931034484% with k = 11\n",
      "KNN Classifier score is 51.724137931034484% with k = 12\n",
      "KNN Classifier score is 54.02298850574713% with k = 13\n",
      "KNN Classifier score is 54.02298850574713% with k = 14\n",
      "KNN Classifier score is 50.57471264367817% with k = 15\n",
      "KNN Classifier score is 48.275862068965516% with k = 16\n",
      "KNN Classifier score is 47.12643678160919% with k = 17\n",
      "KNN Classifier score is 45.97701149425287% with k = 18\n",
      "KNN Classifier score is 48.275862068965516% with k = 19\n"
     ]
    },
    {
     "data": {
      "image/png": "[encoded data removed]",
      "text/plain": [
       "<Figure size 432x288 with 1 Axes>"
      ]
     },
     "metadata": {
      "needs_background": "light",
      "tags": []
     },
     "output_type": "display_data"
    },
    {
     "name": "stdout",
     "output_type": "stream",
     "text": [
      "\n",
      "MLP Classifier score is 47.12643678160919%\n",
      "\n"
     ]
    }
   ],
   "source": [
    "# fitting logistic regression\n",
    "lr = LogisticRegression()\n",
    "lr.fit(features, y_train)\n",
    "predictionsLR = lr.predict(features2)\n",
    "scoreLR = accuracy_score(y_test, predictionsLR)\n",
    "print(f\"Logistic Regression score is {scoreLR * 100}% \\n\")\n",
    "\n",
    "# fitting SVC\n",
    "svc = svm.LinearSVC()\n",
    "svc.fit(features, y_train)\n",
    "predictionsSVC = svc.predict(features2)\n",
    "scoreSVC = accuracy_score(y_test, predictionsSVC)\n",
    "print(f\"Support Vector Classifier score is {scoreSVC * 100}%\\n\")\n",
    "\n",
    "# fitting decision tree classifier\n",
    "clf = tree.DecisionTreeClassifier()\n",
    "clf.fit(features, y_train)\n",
    "predictionsTree = clf.predict(features2)\n",
    "scoreTree = accuracy_score(y_test, predictionsTree)\n",
    "print(f\"Decision Tree Classifier score is {scoreTree * 100}%\\n\")\n",
    "\n",
    "# fitting Random Forest classifier\n",
    "clf1 = RandomForestClassifier(max_features=23)\n",
    "clf1.fit(features, y_train)\n",
    "predictionsTree1 = clf1.predict(features2)\n",
    "scoreTree1 = accuracy_score(y_test, predictionsTree1)\n",
    "print(f\"Random Forest Classifier score is {scoreTree1 * 100}%\\n\")\n",
    "\n",
    "# fitting XGBoost\n",
    "# xgb = XGBClassifier()\n",
    "# xgb.fit(features.to_numpy(), y_train)\n",
    "# predictionsXGB = xgb.predict(X_test)\n",
    "# predictionsXGB = (predictionsXGB>0.5).astype(int)\n",
    "# scoreXGB = accuracy_score(y_test, predictionsXGB)\n",
    "# print(f\"XG Boost Classifier score is {scoreXGB * 100}%\\n\")\n",
    "\n",
    "# fitting KNN Classifier\n",
    "K = range(1, 20)\n",
    "acc = []\n",
    "for k in K:\n",
    "    knn = KNeighborsClassifier(n_neighbors=k)\n",
    "    knn.fit(features, y_train)\n",
    "    predictionsKNN = knn.predict(features2)\n",
    "    scoreKNN = accuracy_score(y_test, predictionsKNN)\n",
    "    print(f\"KNN Classifier score is {scoreKNN * 100}% with k = {k}\")\n",
    "    acc.append(scoreKNN*100)\n",
    "\n",
    "# Elbow plot:\n",
    "plt.plot(K, acc)\n",
    "plt.xlabel('K')\n",
    "plt.ylabel('Accuracy')\n",
    "plt.title(\"Elbow Curve without feature selection for Inter-Reseach Area\")\n",
    "\n",
    "plt.show()\n",
    "\n",
    "# MLP / ANN\n",
    "classifier = MLPClassifier(hidden_layer_sizes=(128, 64), max_iter=300, activation='relu', solver='adam', random_state=1)\n",
    "classifier.fit(features, y_train)\n",
    "predictionsMLP = classifier.predict(features2)\n",
    "scoreMLP = accuracy_score(y_test, predictionsMLP)\n",
    "print(f\"\\nMLP Classifier score is {scoreMLP * 100}%\\n\")"
   ]
  },
  {
   "cell_type": "code",
   "execution_count": 30,
   "id": "48RYtYwlqIWl",
   "metadata": {
    "colab": {
     "base_uri": "https://localhost:8080/"
    },
    "id": "48RYtYwlqIWl",
    "outputId": "30b47bb2-fe4c-49eb-cbd7-9b1279b7da94"
   },
   "outputs": [
    {
     "name": "stdout",
     "output_type": "stream",
     "text": [
      "Number of mislabeled points out of a total 87 points : 48\n",
      "              precision    recall  f1-score   support\n",
      "\n",
      "           0       0.47      0.58      0.52        45\n",
      "           1       0.41      0.31      0.35        42\n",
      "\n",
      "    accuracy                           0.45        87\n",
      "   macro avg       0.44      0.44      0.44        87\n",
      "weighted avg       0.44      0.45      0.44        87\n",
      "\n"
     ]
    }
   ],
   "source": [
    "from sklearn.naive_bayes import GaussianNB\n",
    "gnb = GaussianNB()\n",
    "y_pred = gnb.fit(features, y_train).predict(features2)\n",
    "print(\"Number of mislabeled points out of a total %d points : %d\"\n",
    "      % (X_test.shape[0], (y_test != y_pred).sum()))\n",
    "\n",
    "print(classification_report(y_test,y_pred))"
   ]
  },
  {
   "cell_type": "code",
   "execution_count": 29,
   "id": "cg9mr6wsqIWl",
   "metadata": {
    "colab": {
     "base_uri": "https://localhost:8080/"
    },
    "id": "cg9mr6wsqIWl",
    "outputId": "0a8bf105-408d-4d20-cea3-8627e7388ad0"
   },
   "outputs": [
    {
     "name": "stdout",
     "output_type": "stream",
     "text": [
      "              precision    recall  f1-score   support\n",
      "\n",
      "           0       0.33      0.56      0.42        27\n",
      "           1       0.71      0.50      0.59        60\n",
      "\n",
      "    accuracy                           0.52        87\n",
      "   macro avg       0.52      0.53      0.50        87\n",
      "weighted avg       0.60      0.52      0.53        87\n",
      "\n"
     ]
    }
   ],
   "source": [
    "from numpy import mean\n",
    "from numpy import std\n",
    "# from sklearn.datasets import make_classification\n",
    "from sklearn.ensemble import GradientBoostingClassifier\n",
    "from sklearn.model_selection import cross_val_score\n",
    "from sklearn.model_selection import RepeatedStratifiedKFold\n",
    "from matplotlib import pyplot\n",
    "# define dataset\n",
    "# X, y = make_classification(n_samples=1000, n_features=10, n_informative=5, n_redundant=5, random_state=1)\n",
    "# evaluate the model\n",
    "# model = GradientBoostingClassifier()\n",
    "# cv = RepeatedStratifiedKFold(n_splits=10, n_repeats=3, random_state=1)\n",
    "# n_scores = cross_val_score(model, X_train, y_train, scoring='accuracy', cv=cv, n_jobs=-1, error_score='raise')\n",
    "# print('Accuracy: %.3f (%.3f)' % (mean(n_scores), std(n_scores)))\n",
    "# fit the model on the whole dataset\n",
    "model = GradientBoostingClassifier()\n",
    "model.fit(features, y_train)\n",
    "# make a single prediction\n",
    "# row = [[2.56999479, -0.13019997, 3.16075093, -4.35936352, -1.61271951, -1.39352057, -2.48924933, -1.93094078, 3.26130366, 2.05692145]]\n",
    "yhat = model.predict(features2)\n",
    "\n",
    "print(classification_report(yhat,y_test))"
   ]
  },
  {
   "cell_type": "code",
   "execution_count": 31,
   "id": "s2Get55oqIWm",
   "metadata": {
    "colab": {
     "base_uri": "https://localhost:8080/"
    },
    "id": "s2Get55oqIWm",
    "outputId": "7a45668e-1321-4445-c01c-27585745a3dc"
   },
   "outputs": [
    {
     "name": "stdout",
     "output_type": "stream",
     "text": [
      "              precision    recall  f1-score   support\n",
      "\n",
      "           0       0.16      0.54      0.24        13\n",
      "           1       0.86      0.49      0.62        74\n",
      "\n",
      "    accuracy                           0.49        87\n",
      "   macro avg       0.51      0.51      0.43        87\n",
      "weighted avg       0.75      0.49      0.56        87\n",
      "\n"
     ]
    }
   ],
   "source": [
    "# histogram-based gradient boosting for classification in scikit-learn\n",
    "from numpy import mean\n",
    "from numpy import std\n",
    "from sklearn.datasets import make_classification\n",
    "from sklearn.experimental import enable_hist_gradient_boosting\n",
    "from sklearn.ensemble import HistGradientBoostingClassifier\n",
    "from sklearn.model_selection import cross_val_score\n",
    "from sklearn.model_selection import RepeatedStratifiedKFold\n",
    "from matplotlib import pyplot\n",
    "# evaluate the model\n",
    "# model = HistGradientBoostingClassifier()\n",
    "# cv = RepeatedStratifiedKFold(n_splits=10, n_repeats=3, random_state=1)\n",
    "# n_scores = cross_val_score(model, features, y_train, scoring='accuracy', cv=cv, n_jobs=-1, error_score='raise')\n",
    "# print('Accuracy: %.3f (%.3f)' % (mean(n_scores), std(n_scores)))\n",
    "# fit the model on the whole dataset\n",
    "model = HistGradientBoostingClassifier()\n",
    "model.fit(features, y_train)\n",
    "# make a single prediction\n",
    "yhat = model.predict(features2)\n",
    "print(classification_report(yhat,y_test))"
   ]
  },
  {
   "cell_type": "code",
   "execution_count": 32,
   "id": "O-luGAMlqIWm",
   "metadata": {
    "colab": {
     "base_uri": "https://localhost:8080/",
     "height": 672
    },
    "id": "O-luGAMlqIWm",
    "outputId": "8feeace8-f1ea-460a-a79a-0ed34314e77e"
   },
   "outputs": [
    {
     "ename": "ValueError",
     "evalue": "ignored",
     "output_type": "error",
     "traceback": [
      "\u001b[0;31m---------------------------------------------------------------------------\u001b[0m",
      "\u001b[0;31mValueError\u001b[0m                                Traceback (most recent call last)",
      "\u001b[0;32m<ipython-input-32-6eac32dd02d6>\u001b[0m in \u001b[0;36m<module>\u001b[0;34m()\u001b[0m\n\u001b[1;32m     17\u001b[0m \u001b[0;31m# fit the model on the whole dataset\u001b[0m\u001b[0;34m\u001b[0m\u001b[0;34m\u001b[0m\u001b[0;34m\u001b[0m\u001b[0m\n\u001b[1;32m     18\u001b[0m \u001b[0mmodel\u001b[0m \u001b[0;34m=\u001b[0m \u001b[0mXGBClassifier\u001b[0m\u001b[0;34m(\u001b[0m\u001b[0;34m)\u001b[0m\u001b[0;34m\u001b[0m\u001b[0;34m\u001b[0m\u001b[0m\n\u001b[0;32m---> 19\u001b[0;31m \u001b[0mmodel\u001b[0m\u001b[0;34m.\u001b[0m\u001b[0mfit\u001b[0m\u001b[0;34m(\u001b[0m\u001b[0mfeatures\u001b[0m\u001b[0;34m,\u001b[0m \u001b[0my_train\u001b[0m\u001b[0;34m)\u001b[0m\u001b[0;34m\u001b[0m\u001b[0;34m\u001b[0m\u001b[0m\n\u001b[0m\u001b[1;32m     20\u001b[0m \u001b[0;31m# make a single prediction\u001b[0m\u001b[0;34m\u001b[0m\u001b[0;34m\u001b[0m\u001b[0;34m\u001b[0m\u001b[0m\n\u001b[1;32m     21\u001b[0m \u001b[0myhat\u001b[0m \u001b[0;34m=\u001b[0m \u001b[0mmodel\u001b[0m\u001b[0;34m.\u001b[0m\u001b[0mpredict\u001b[0m\u001b[0;34m(\u001b[0m\u001b[0mfeatures2\u001b[0m\u001b[0;34m)\u001b[0m\u001b[0;34m\u001b[0m\u001b[0;34m\u001b[0m\u001b[0m\n",
      "\u001b[0;32m/usr/local/lib/python3.7/dist-packages/xgboost/sklearn.py\u001b[0m in \u001b[0;36mfit\u001b[0;34m(self, X, y, sample_weight, eval_set, eval_metric, early_stopping_rounds, verbose, xgb_model, sample_weight_eval_set, callbacks)\u001b[0m\n\u001b[1;32m    724\u001b[0m         \u001b[0;32melse\u001b[0m\u001b[0;34m:\u001b[0m\u001b[0;34m\u001b[0m\u001b[0;34m\u001b[0m\u001b[0m\n\u001b[1;32m    725\u001b[0m             train_dmatrix = DMatrix(X, label=training_labels,\n\u001b[0;32m--> 726\u001b[0;31m                                     missing=self.missing, nthread=self.n_jobs)\n\u001b[0m\u001b[1;32m    727\u001b[0m \u001b[0;34m\u001b[0m\u001b[0m\n\u001b[1;32m    728\u001b[0m         self._Booster = train(xgb_options, train_dmatrix, self.get_num_boosting_rounds(),\n",
      "\u001b[0;32m/usr/local/lib/python3.7/dist-packages/xgboost/core.py\u001b[0m in \u001b[0;36m__init__\u001b[0;34m(self, data, label, missing, weight, silent, feature_names, feature_types, nthread)\u001b[0m\n\u001b[1;32m    424\u001b[0m                 \u001b[0mself\u001b[0m\u001b[0;34m.\u001b[0m\u001b[0mset_weight\u001b[0m\u001b[0;34m(\u001b[0m\u001b[0mweight\u001b[0m\u001b[0;34m)\u001b[0m\u001b[0;34m\u001b[0m\u001b[0;34m\u001b[0m\u001b[0m\n\u001b[1;32m    425\u001b[0m \u001b[0;34m\u001b[0m\u001b[0m\n\u001b[0;32m--> 426\u001b[0;31m         \u001b[0mself\u001b[0m\u001b[0;34m.\u001b[0m\u001b[0mfeature_names\u001b[0m \u001b[0;34m=\u001b[0m \u001b[0mfeature_names\u001b[0m\u001b[0;34m\u001b[0m\u001b[0;34m\u001b[0m\u001b[0m\n\u001b[0m\u001b[1;32m    427\u001b[0m         \u001b[0mself\u001b[0m\u001b[0;34m.\u001b[0m\u001b[0mfeature_types\u001b[0m \u001b[0;34m=\u001b[0m \u001b[0mfeature_types\u001b[0m\u001b[0;34m\u001b[0m\u001b[0;34m\u001b[0m\u001b[0m\n\u001b[1;32m    428\u001b[0m \u001b[0;34m\u001b[0m\u001b[0m\n",
      "\u001b[0;32m/usr/local/lib/python3.7/dist-packages/xgboost/core.py\u001b[0m in \u001b[0;36mfeature_names\u001b[0;34m(self, feature_names)\u001b[0m\n\u001b[1;32m    868\u001b[0m                        \u001b[0;32mnot\u001b[0m \u001b[0many\u001b[0m\u001b[0;34m(\u001b[0m\u001b[0mx\u001b[0m \u001b[0;32min\u001b[0m \u001b[0mf\u001b[0m \u001b[0;32mfor\u001b[0m \u001b[0mx\u001b[0m \u001b[0;32min\u001b[0m \u001b[0mset\u001b[0m\u001b[0;34m(\u001b[0m\u001b[0;34m(\u001b[0m\u001b[0;34m'['\u001b[0m\u001b[0;34m,\u001b[0m \u001b[0;34m']'\u001b[0m\u001b[0;34m,\u001b[0m \u001b[0;34m'<'\u001b[0m\u001b[0;34m)\u001b[0m\u001b[0;34m)\u001b[0m\u001b[0;34m)\u001b[0m\u001b[0;34m\u001b[0m\u001b[0;34m\u001b[0m\u001b[0m\n\u001b[1;32m    869\u001b[0m                        for f in feature_names):\n\u001b[0;32m--> 870\u001b[0;31m                 \u001b[0;32mraise\u001b[0m \u001b[0mValueError\u001b[0m\u001b[0;34m(\u001b[0m\u001b[0;34m'feature_names may not contain [, ] or <'\u001b[0m\u001b[0;34m)\u001b[0m\u001b[0;34m\u001b[0m\u001b[0;34m\u001b[0m\u001b[0m\n\u001b[0m\u001b[1;32m    871\u001b[0m         \u001b[0;32melse\u001b[0m\u001b[0;34m:\u001b[0m\u001b[0;34m\u001b[0m\u001b[0;34m\u001b[0m\u001b[0m\n\u001b[1;32m    872\u001b[0m             \u001b[0;31m# reset feature_types also\u001b[0m\u001b[0;34m\u001b[0m\u001b[0;34m\u001b[0m\u001b[0;34m\u001b[0m\u001b[0m\n",
      "\u001b[0;31mValueError\u001b[0m: feature_names may not contain [, ] or <"
     ]
    }
   ],
   "source": [
    "# xgboost for classification\n",
    "from numpy import asarray\n",
    "from numpy import mean\n",
    "from numpy import std\n",
    "# from sklearn.datasets import make_classification\n",
    "from xgboost import XGBClassifier\n",
    "from sklearn.model_selection import cross_val_score\n",
    "from sklearn.model_selection import RepeatedStratifiedKFold\n",
    "from matplotlib import pyplot\n",
    "# define dataset\n",
    "# X, y = make_classification(n_samples=1000, n_features=10, n_informative=5, n_redundant=5, random_state=1)\n",
    "# evaluate the model\n",
    "# model = XGBClassifier()\n",
    "# cv = RepeatedStratifiedKFold(n_splits=10, n_repeats=3, random_state=1)\n",
    "# n_scores = cross_val_score(model, features, y_train, scoring='accuracy', cv=cv, n_jobs=-1, error_score='raise')\n",
    "# print('Accuracy: %.3f (%.3f)' % (mean(n_scores), std(n_scores)))\n",
    "# fit the model on the whole dataset\n",
    "model = XGBClassifier()\n",
    "model.fit(features, y_train)\n",
    "# make a single prediction\n",
    "yhat = model.predict(features2)\n",
    "print(classification_report(yhat,y_test))"
   ]
  },
  {
   "cell_type": "code",
   "execution_count": 33,
   "id": "nrsbgcjAqIWm",
   "metadata": {
    "colab": {
     "base_uri": "https://localhost:8080/"
    },
    "id": "nrsbgcjAqIWm",
    "outputId": "e964b6b7-7a2f-4352-e286-3cf5f39cef88"
   },
   "outputs": [
    {
     "name": "stdout",
     "output_type": "stream",
     "text": [
      "              precision    recall  f1-score   support\n",
      "\n",
      "           0       0.33      0.58      0.42        26\n",
      "           1       0.74      0.51      0.60        61\n",
      "\n",
      "    accuracy                           0.53        87\n",
      "   macro avg       0.54      0.54      0.51        87\n",
      "weighted avg       0.62      0.53      0.55        87\n",
      "\n"
     ]
    }
   ],
   "source": [
    "# lightgbm for classification\n",
    "from numpy import mean\n",
    "from numpy import std\n",
    "from sklearn.datasets import make_classification\n",
    "from lightgbm import LGBMClassifier\n",
    "from sklearn.model_selection import cross_val_score\n",
    "from sklearn.model_selection import RepeatedStratifiedKFold\n",
    "from matplotlib import pyplot\n",
    "# evaluate the model\n",
    "# model = LGBMClassifier()\n",
    "# cv = RepeatedStratifiedKFold(n_splits=10, n_repeats=3, random_state=1)\n",
    "# n_scores = cross_val_score(model, features, y_train, scoring='accuracy', cv=cv, n_jobs=-1, error_score='raise')\n",
    "# print('Accuracy: %.3f (%.3f)' % (mean(n_scores), std(n_scores)))\n",
    "# fit the model on the whole dataset\n",
    "model = LGBMClassifier()\n",
    "model.fit(features, y_train)\n",
    "# make a single prediction\n",
    "yhat = model.predict(features2)\n",
    "print(classification_report(yhat,y_test))"
   ]
  },
  {
   "cell_type": "code",
   "execution_count": null,
   "id": "NlnIinX5qIWm",
   "metadata": {
    "id": "NlnIinX5qIWm"
   },
   "outputs": [],
   "source": []
  },
  {
   "cell_type": "markdown",
   "id": "7gp8UbHXsLIl",
   "metadata": {
    "id": "7gp8UbHXsLIl"
   },
   "source": [
    "# Models lgbm"
   ]
  },
  {
   "cell_type": "code",
   "execution_count": null,
   "id": "csjsHeECsLIl",
   "metadata": {
    "id": "csjsHeECsLIl"
   },
   "outputs": [],
   "source": [
    "import pandas as pd\n",
    "import numpy as np\n",
    "from sklearn.linear_model import LogisticRegression\n",
    "from sklearn import svm\n",
    "from sklearn import tree\n",
    "from sklearn.ensemble import RandomForestClassifier\n",
    "from sklearn.neighbors import KNeighborsClassifier\n",
    "from xgboost import XGBClassifier\n",
    "from sklearn.model_selection import train_test_split\n",
    "from sklearn.neural_network import MLPClassifier\n",
    "from sklearn.preprocessing import StandardScaler\n",
    "import seaborn as sns\n",
    "import matplotlib.pyplot as plt\n",
    "from sklearn.metrics import accuracy_score\n",
    "from sklearn.feature_selection import SelectFromModel\n",
    "\n",
    "from sklearn.decomposition import PCA\n",
    "from sklearn.manifold import TSNE\n",
    "%matplotlib inline\n",
    "import matplotlib.pyplot as plt\n",
    "from mpl_toolkits.mplot3d import Axes3D\n",
    "\n",
    "\n",
    "\n",
    "import warnings\n",
    "warnings.filterwarnings('ignore')"
   ]
  },
  {
   "cell_type": "code",
   "execution_count": null,
   "id": "6dDYneZwsLIm",
   "metadata": {
    "id": "6dDYneZwsLIm"
   },
   "outputs": [],
   "source": [
    "features = X_train[embeded_lgb_feature]\n",
    "features2 = X_test[embeded_lgb_feature]"
   ]
  },
  {
   "cell_type": "code",
   "execution_count": null,
   "id": "CsoCCfXHsLIm",
   "metadata": {
    "colab": {
     "base_uri": "https://localhost:8080/"
    },
    "id": "CsoCCfXHsLIm",
    "outputId": "da6939bb-d592-4436-fa01-ea7bd295481e"
   },
   "outputs": [
    {
     "data": {
      "text/plain": [
       "0"
      ]
     },
     "execution_count": 139,
     "metadata": {
      "tags": []
     },
     "output_type": "execute_result"
    }
   ],
   "source": [
    "features.isna().sum().sum()"
   ]
  },
  {
   "cell_type": "code",
   "execution_count": null,
   "id": "brwSG0XusLIm",
   "metadata": {
    "colab": {
     "base_uri": "https://localhost:8080/"
    },
    "id": "brwSG0XusLIm",
    "outputId": "353d454a-29b9-4322-de7f-3043930e8af5"
   },
   "outputs": [
    {
     "data": {
      "text/plain": [
       "0"
      ]
     },
     "execution_count": 140,
     "metadata": {
      "tags": []
     },
     "output_type": "execute_result"
    }
   ],
   "source": [
    "X_test.isna().sum().sum()"
   ]
  },
  {
   "cell_type": "code",
   "execution_count": null,
   "id": "wYsauz-WsLIm",
   "metadata": {
    "colab": {
     "base_uri": "https://localhost:8080/"
    },
    "id": "wYsauz-WsLIm",
    "outputId": "01cc12c2-a00f-490a-9f5e-35c720e0a380"
   },
   "outputs": [
    {
     "name": "stdout",
     "output_type": "stream",
     "text": [
      "              precision    recall  f1-score   support\n",
      "\n",
      "           0       0.31      0.52      0.39        27\n",
      "           1       0.69      0.48      0.57        60\n",
      "\n",
      "    accuracy                           0.49        87\n",
      "   macro avg       0.50      0.50      0.48        87\n",
      "weighted avg       0.57      0.49      0.51        87\n",
      "\n"
     ]
    }
   ],
   "source": [
    "from sklearn.model_selection import cross_val_score\n",
    "# from sklearn.datasets import load_iris\n",
    "from sklearn.ensemble import AdaBoostClassifier\n",
    "\n",
    "# X, y = load_iris(return_X_y=True)\n",
    "clf = AdaBoostClassifier()\n",
    "# scores = cross_val_score(clf, features, y_train, cv=5)\n",
    "# print(scores.mean())\n",
    "clf.fit(features, y_train)\n",
    "y_pred = (clf.predict(features2)>0.5).astype(int)\n",
    "from sklearn.metrics import classification_report\n",
    "print(classification_report(y_pred,y_test))\n"
   ]
  },
  {
   "cell_type": "code",
   "execution_count": null,
   "id": "NIFvhMJIsLIn",
   "metadata": {
    "colab": {
     "base_uri": "https://localhost:8080/"
    },
    "id": "NIFvhMJIsLIn",
    "outputId": "42a5dccf-450f-428e-a326-f4e29fd0147e"
   },
   "outputs": [
    {
     "name": "stdout",
     "output_type": "stream",
     "text": [
      "              precision    recall  f1-score   support\n",
      "\n",
      "           0       0.53      0.20      0.29        45\n",
      "           1       0.49      0.81      0.61        42\n",
      "\n",
      "    accuracy                           0.49        87\n",
      "   macro avg       0.51      0.50      0.45        87\n",
      "weighted avg       0.51      0.49      0.44        87\n",
      "\n"
     ]
    }
   ],
   "source": [
    "from sklearn.svm import SVC\n",
    "\n",
    "svclassifier = SVC(gamma='auto')\n",
    "svclassifier.fit(features, y_train)\n",
    "y_pred = svclassifier.predict(features2)\n",
    "print(classification_report(y_test, y_pred))"
   ]
  },
  {
   "cell_type": "code",
   "execution_count": null,
   "id": "wo_0lws6sLIn",
   "metadata": {
    "colab": {
     "base_uri": "https://localhost:8080/"
    },
    "id": "wo_0lws6sLIn",
    "outputId": "b70423ec-217b-4c83-df64-985cb4bdbc79"
   },
   "outputs": [
    {
     "name": "stdout",
     "output_type": "stream",
     "text": [
      "Accuracy: 0.51 (+/- 0.04) [DecisionTreeClassifier]\n",
      "Accuracy: 0.54 (+/- 0.01) [KNNClassifier]\n",
      "Accuracy: 0.59 (+/- 0.02) [SVC]\n",
      "Accuracy: 0.53 (+/- 0.04) [voting]\n"
     ]
    }
   ],
   "source": [
    "from sklearn import datasets\n",
    "from sklearn.tree import DecisionTreeClassifier\n",
    "from sklearn.neighbors import KNeighborsClassifier\n",
    "from sklearn.svm import SVC\n",
    "from itertools import product\n",
    "from sklearn.ensemble import VotingClassifier\n",
    "\n",
    "\n",
    "clf1 = DecisionTreeClassifier()\n",
    "clf2 = KNeighborsClassifier()\n",
    "clf3 = SVC(kernel='rbf', probability=True)\n",
    "eclf = VotingClassifier(estimators=[('dt', clf1), ('knn', clf2), ('svc', clf3)],\n",
    "                        voting='soft', weights=[2, 2, 2])\n",
    "\n",
    "clf1 = clf1.fit(features, y_train)\n",
    "clf2 = clf2.fit(features, y_train)\n",
    "clf3 = clf3.fit(features, y_train)\n",
    "eclf = eclf.fit(features, y_train)\n",
    "\n",
    "for clf, label in zip([clf1, clf2, clf3, eclf], ['DecisionTreeClassifier', 'KNNClassifier', 'SVC', 'voting']):\n",
    "    scores = cross_val_score(clf, features, y_train, scoring='accuracy', cv=5)\n",
    "    print(\"Accuracy: %0.2f (+/- %0.2f) [%s]\" % (scores.mean(), scores.std(), label))"
   ]
  },
  {
   "cell_type": "code",
   "execution_count": null,
   "id": "6bJs0YZDsLIn",
   "metadata": {
    "colab": {
     "base_uri": "https://localhost:8080/",
     "height": 827
    },
    "id": "6bJs0YZDsLIn",
    "outputId": "71677c5e-90c3-4307-e3f8-d80b7348b426"
   },
   "outputs": [
    {
     "name": "stdout",
     "output_type": "stream",
     "text": [
      "Logistic Regression score is 56.32183908045977% \n",
      "\n",
      "Support Vector Classifier score is 55.172413793103445%\n",
      "\n",
      "Decision Tree Classifier score is 47.12643678160919%\n",
      "\n",
      "Random Forest Classifier score is 48.275862068965516%\n",
      "\n",
      "KNN Classifier score is 48.275862068965516% with k = 1\n",
      "KNN Classifier score is 49.42528735632184% with k = 2\n",
      "KNN Classifier score is 44.827586206896555% with k = 3\n",
      "KNN Classifier score is 42.5287356321839% with k = 4\n",
      "KNN Classifier score is 45.97701149425287% with k = 5\n",
      "KNN Classifier score is 42.5287356321839% with k = 6\n",
      "KNN Classifier score is 51.724137931034484% with k = 7\n",
      "KNN Classifier score is 49.42528735632184% with k = 8\n",
      "KNN Classifier score is 49.42528735632184% with k = 9\n",
      "KNN Classifier score is 51.724137931034484% with k = 10\n",
      "KNN Classifier score is 50.57471264367817% with k = 11\n",
      "KNN Classifier score is 44.827586206896555% with k = 12\n",
      "KNN Classifier score is 45.97701149425287% with k = 13\n",
      "KNN Classifier score is 48.275862068965516% with k = 14\n",
      "KNN Classifier score is 49.42528735632184% with k = 15\n",
      "KNN Classifier score is 51.724137931034484% with k = 16\n",
      "KNN Classifier score is 51.724137931034484% with k = 17\n",
      "KNN Classifier score is 51.724137931034484% with k = 18\n",
      "KNN Classifier score is 50.57471264367817% with k = 19\n"
     ]
    },
    {
     "data": {
      "image/png": "[encoded data removed]",
      "text/plain": [
       "<Figure size 432x288 with 1 Axes>"
      ]
     },
     "metadata": {
      "needs_background": "light",
      "tags": []
     },
     "output_type": "display_data"
    },
    {
     "name": "stdout",
     "output_type": "stream",
     "text": [
      "\n",
      "MLP Classifier score is 50.57471264367817%\n",
      "\n"
     ]
    }
   ],
   "source": [
    "# fitting logistic regression\n",
    "lr = LogisticRegression()\n",
    "lr.fit(features, y_train)\n",
    "predictionsLR = lr.predict(features2)\n",
    "scoreLR = accuracy_score(y_test, predictionsLR)\n",
    "print(f\"Logistic Regression score is {scoreLR * 100}% \\n\")\n",
    "\n",
    "# fitting SVC\n",
    "svc = svm.LinearSVC()\n",
    "svc.fit(features, y_train)\n",
    "predictionsSVC = svc.predict(features2)\n",
    "scoreSVC = accuracy_score(y_test, predictionsSVC)\n",
    "print(f\"Support Vector Classifier score is {scoreSVC * 100}%\\n\")\n",
    "\n",
    "# fitting decision tree classifier\n",
    "clf = tree.DecisionTreeClassifier()\n",
    "clf.fit(features, y_train)\n",
    "predictionsTree = clf.predict(features2)\n",
    "scoreTree = accuracy_score(y_test, predictionsTree)\n",
    "print(f\"Decision Tree Classifier score is {scoreTree * 100}%\\n\")\n",
    "\n",
    "# fitting Random Forest classifier\n",
    "clf1 = RandomForestClassifier(max_features=23)\n",
    "clf1.fit(features, y_train)\n",
    "predictionsTree1 = clf1.predict(features2)\n",
    "scoreTree1 = accuracy_score(y_test, predictionsTree1)\n",
    "print(f\"Random Forest Classifier score is {scoreTree1 * 100}%\\n\")\n",
    "\n",
    "# fitting XGBoost\n",
    "# xgb = XGBClassifier()\n",
    "# xgb.fit(features.to_numpy(), y_train)\n",
    "# predictionsXGB = xgb.predict(X_test)\n",
    "# predictionsXGB = (predictionsXGB>0.5).astype(int)\n",
    "# scoreXGB = accuracy_score(y_test, predictionsXGB)\n",
    "# print(f\"XG Boost Classifier score is {scoreXGB * 100}%\\n\")\n",
    "\n",
    "# fitting KNN Classifier\n",
    "K = range(1, 20)\n",
    "acc = []\n",
    "for k in K:\n",
    "    knn = KNeighborsClassifier(n_neighbors=k)\n",
    "    knn.fit(features, y_train)\n",
    "    predictionsKNN = knn.predict(features2)\n",
    "    scoreKNN = accuracy_score(y_test, predictionsKNN)\n",
    "    print(f\"KNN Classifier score is {scoreKNN * 100}% with k = {k}\")\n",
    "    acc.append(scoreKNN*100)\n",
    "\n",
    "# Elbow plot:\n",
    "plt.plot(K, acc)\n",
    "plt.xlabel('K')\n",
    "plt.ylabel('Accuracy')\n",
    "plt.title(\"Elbow Curve without feature selection for Inter-Reseach Area\")\n",
    "\n",
    "plt.show()\n",
    "\n",
    "# MLP / ANN\n",
    "classifier = MLPClassifier(hidden_layer_sizes=(128, 64), max_iter=300, activation='relu', solver='adam', random_state=1)\n",
    "classifier.fit(features, y_train)\n",
    "predictionsMLP = classifier.predict(features2)\n",
    "scoreMLP = accuracy_score(y_test, predictionsMLP)\n",
    "print(f\"\\nMLP Classifier score is {scoreMLP * 100}%\\n\")"
   ]
  },
  {
   "cell_type": "code",
   "execution_count": null,
   "id": "7SG5P3posLIn",
   "metadata": {
    "colab": {
     "base_uri": "https://localhost:8080/"
    },
    "id": "7SG5P3posLIn",
    "outputId": "d6e255f4-7e11-4d9b-f9d6-e3bf7afa77f5"
   },
   "outputs": [
    {
     "name": "stdout",
     "output_type": "stream",
     "text": [
      "Number of mislabeled points out of a total 87 points : 44\n"
     ]
    }
   ],
   "source": [
    "from sklearn.naive_bayes import GaussianNB\n",
    "gnb = GaussianNB()\n",
    "y_pred = gnb.fit(features, y_train).predict(features2)\n",
    "print(\"Number of mislabeled points out of a total %d points : %d\"\n",
    "      % (X_test.shape[0], (y_test != y_pred).sum()))"
   ]
  },
  {
   "cell_type": "code",
   "execution_count": null,
   "id": "uPIkabCcsLIn",
   "metadata": {
    "colab": {
     "base_uri": "https://localhost:8080/"
    },
    "id": "uPIkabCcsLIn",
    "outputId": "c0ce3641-71ae-4cf5-f773-5a0a062407f6"
   },
   "outputs": [
    {
     "name": "stdout",
     "output_type": "stream",
     "text": [
      "              precision    recall  f1-score   support\n",
      "\n",
      "           0       0.29      0.52      0.37        25\n",
      "           1       0.71      0.48      0.58        62\n",
      "\n",
      "    accuracy                           0.49        87\n",
      "   macro avg       0.50      0.50      0.47        87\n",
      "weighted avg       0.59      0.49      0.52        87\n",
      "\n"
     ]
    }
   ],
   "source": [
    "from numpy import mean\n",
    "from numpy import std\n",
    "from sklearn.datasets import make_classification\n",
    "from sklearn.ensemble import GradientBoostingClassifier\n",
    "from sklearn.model_selection import cross_val_score\n",
    "from sklearn.model_selection import RepeatedStratifiedKFold\n",
    "from matplotlib import pyplot\n",
    "# define dataset\n",
    "# X, y = make_classification(n_samples=1000, n_features=10, n_informative=5, n_redundant=5, random_state=1)\n",
    "# evaluate the model\n",
    "# model = GradientBoostingClassifier()\n",
    "# cv = RepeatedStratifiedKFold(n_splits=10, n_repeats=3, random_state=1)\n",
    "# n_scores = cross_val_score(model, X_train, y_train, scoring='accuracy', cv=cv, n_jobs=-1, error_score='raise')\n",
    "# print('Accuracy: %.3f (%.3f)' % (mean(n_scores), std(n_scores)))\n",
    "# fit the model on the whole dataset\n",
    "model = GradientBoostingClassifier()\n",
    "model.fit(features, y_train)\n",
    "# make a single prediction\n",
    "# row = [[2.56999479, -0.13019997, 3.16075093, -4.35936352, -1.61271951, -1.39352057, -2.48924933, -1.93094078, 3.26130366, 2.05692145]]\n",
    "yhat = model.predict(features2)\n",
    "\n",
    "print(classification_report(yhat,y_test))"
   ]
  },
  {
   "cell_type": "code",
   "execution_count": null,
   "id": "YZDLqKSusLIo",
   "metadata": {
    "colab": {
     "base_uri": "https://localhost:8080/"
    },
    "id": "YZDLqKSusLIo",
    "outputId": "7b01d0f1-71c3-4760-8934-c4eab9d2ccf3"
   },
   "outputs": [
    {
     "name": "stdout",
     "output_type": "stream",
     "text": [
      "              precision    recall  f1-score   support\n",
      "\n",
      "           0       0.27      0.60      0.37        20\n",
      "           1       0.81      0.51      0.62        67\n",
      "\n",
      "    accuracy                           0.53        87\n",
      "   macro avg       0.54      0.55      0.50        87\n",
      "weighted avg       0.68      0.53      0.57        87\n",
      "\n"
     ]
    }
   ],
   "source": [
    "# histogram-based gradient boosting for classification in scikit-learn\n",
    "from numpy import mean\n",
    "from numpy import std\n",
    "from sklearn.datasets import make_classification\n",
    "from sklearn.experimental import enable_hist_gradient_boosting\n",
    "from sklearn.ensemble import HistGradientBoostingClassifier\n",
    "from sklearn.model_selection import cross_val_score\n",
    "from sklearn.model_selection import RepeatedStratifiedKFold\n",
    "from matplotlib import pyplot\n",
    "# evaluate the model\n",
    "# model = HistGradientBoostingClassifier()\n",
    "# cv = RepeatedStratifiedKFold(n_splits=10, n_repeats=3, random_state=1)\n",
    "# n_scores = cross_val_score(model, features, y_train, scoring='accuracy', cv=cv, n_jobs=-1, error_score='raise')\n",
    "# print('Accuracy: %.3f (%.3f)' % (mean(n_scores), std(n_scores)))\n",
    "# fit the model on the whole dataset\n",
    "model = HistGradientBoostingClassifier()\n",
    "model.fit(features, y_train)\n",
    "# make a single prediction\n",
    "yhat = model.predict(features2)\n",
    "print(classification_report(yhat,y_test))"
   ]
  },
  {
   "cell_type": "code",
   "execution_count": null,
   "id": "qtPiaBScsLIo",
   "metadata": {
    "colab": {
     "base_uri": "https://localhost:8080/",
     "height": 387
    },
    "id": "qtPiaBScsLIo",
    "outputId": "bb271dec-ea1e-4d10-f2c6-1512a8968b2e"
   },
   "outputs": [
    {
     "ename": "ValueError",
     "evalue": "ignored",
     "output_type": "error",
     "traceback": [
      "\u001b[0;31m---------------------------------------------------------------------------\u001b[0m",
      "\u001b[0;31mValueError\u001b[0m                                Traceback (most recent call last)",
      "\u001b[0;32m<ipython-input-133-3e5eb772ea61>\u001b[0m in \u001b[0;36m<module>\u001b[0;34m()\u001b[0m\n\u001b[1;32m     17\u001b[0m \u001b[0;31m# fit the model on the whole dataset\u001b[0m\u001b[0;34m\u001b[0m\u001b[0;34m\u001b[0m\u001b[0;34m\u001b[0m\u001b[0m\n\u001b[1;32m     18\u001b[0m \u001b[0mmodel\u001b[0m \u001b[0;34m=\u001b[0m \u001b[0mXGBClassifier\u001b[0m\u001b[0;34m(\u001b[0m\u001b[0;34m)\u001b[0m\u001b[0;34m\u001b[0m\u001b[0;34m\u001b[0m\u001b[0m\n\u001b[0;32m---> 19\u001b[0;31m \u001b[0mmodel\u001b[0m\u001b[0;34m.\u001b[0m\u001b[0mfit\u001b[0m\u001b[0;34m(\u001b[0m\u001b[0mfeatures\u001b[0m\u001b[0;34m,\u001b[0m \u001b[0my_train\u001b[0m\u001b[0;34m)\u001b[0m\u001b[0;34m\u001b[0m\u001b[0;34m\u001b[0m\u001b[0m\n\u001b[0m\u001b[1;32m     20\u001b[0m \u001b[0;31m# make a single prediction\u001b[0m\u001b[0;34m\u001b[0m\u001b[0;34m\u001b[0m\u001b[0;34m\u001b[0m\u001b[0m\n\u001b[1;32m     21\u001b[0m \u001b[0myhat\u001b[0m \u001b[0;34m=\u001b[0m \u001b[0mmodel\u001b[0m\u001b[0;34m.\u001b[0m\u001b[0mpredict\u001b[0m\u001b[0;34m(\u001b[0m\u001b[0mfeatures2\u001b[0m\u001b[0;34m)\u001b[0m\u001b[0;34m\u001b[0m\u001b[0;34m\u001b[0m\u001b[0m\n",
      "\u001b[0;32m/usr/local/lib/python3.7/dist-packages/xgboost/sklearn.py\u001b[0m in \u001b[0;36mfit\u001b[0;34m(self, X, y, sample_weight, eval_set, eval_metric, early_stopping_rounds, verbose, xgb_model, sample_weight_eval_set, callbacks)\u001b[0m\n\u001b[1;32m    724\u001b[0m         \u001b[0;32melse\u001b[0m\u001b[0;34m:\u001b[0m\u001b[0;34m\u001b[0m\u001b[0;34m\u001b[0m\u001b[0m\n\u001b[1;32m    725\u001b[0m             train_dmatrix = DMatrix(X, label=training_labels,\n\u001b[0;32m--> 726\u001b[0;31m                                     missing=self.missing, nthread=self.n_jobs)\n\u001b[0m\u001b[1;32m    727\u001b[0m \u001b[0;34m\u001b[0m\u001b[0m\n\u001b[1;32m    728\u001b[0m         self._Booster = train(xgb_options, train_dmatrix, self.get_num_boosting_rounds(),\n",
      "\u001b[0;32m/usr/local/lib/python3.7/dist-packages/xgboost/core.py\u001b[0m in \u001b[0;36m__init__\u001b[0;34m(self, data, label, missing, weight, silent, feature_names, feature_types, nthread)\u001b[0m\n\u001b[1;32m    424\u001b[0m                 \u001b[0mself\u001b[0m\u001b[0;34m.\u001b[0m\u001b[0mset_weight\u001b[0m\u001b[0;34m(\u001b[0m\u001b[0mweight\u001b[0m\u001b[0;34m)\u001b[0m\u001b[0;34m\u001b[0m\u001b[0;34m\u001b[0m\u001b[0m\n\u001b[1;32m    425\u001b[0m \u001b[0;34m\u001b[0m\u001b[0m\n\u001b[0;32m--> 426\u001b[0;31m         \u001b[0mself\u001b[0m\u001b[0;34m.\u001b[0m\u001b[0mfeature_names\u001b[0m \u001b[0;34m=\u001b[0m \u001b[0mfeature_names\u001b[0m\u001b[0;34m\u001b[0m\u001b[0;34m\u001b[0m\u001b[0m\n\u001b[0m\u001b[1;32m    427\u001b[0m         \u001b[0mself\u001b[0m\u001b[0;34m.\u001b[0m\u001b[0mfeature_types\u001b[0m \u001b[0;34m=\u001b[0m \u001b[0mfeature_types\u001b[0m\u001b[0;34m\u001b[0m\u001b[0;34m\u001b[0m\u001b[0m\n\u001b[1;32m    428\u001b[0m \u001b[0;34m\u001b[0m\u001b[0m\n",
      "\u001b[0;32m/usr/local/lib/python3.7/dist-packages/xgboost/core.py\u001b[0m in \u001b[0;36mfeature_names\u001b[0;34m(self, feature_names)\u001b[0m\n\u001b[1;32m    868\u001b[0m                        \u001b[0;32mnot\u001b[0m \u001b[0many\u001b[0m\u001b[0;34m(\u001b[0m\u001b[0mx\u001b[0m \u001b[0;32min\u001b[0m \u001b[0mf\u001b[0m \u001b[0;32mfor\u001b[0m \u001b[0mx\u001b[0m \u001b[0;32min\u001b[0m \u001b[0mset\u001b[0m\u001b[0;34m(\u001b[0m\u001b[0;34m(\u001b[0m\u001b[0;34m'['\u001b[0m\u001b[0;34m,\u001b[0m \u001b[0;34m']'\u001b[0m\u001b[0;34m,\u001b[0m \u001b[0;34m'<'\u001b[0m\u001b[0;34m)\u001b[0m\u001b[0;34m)\u001b[0m\u001b[0;34m)\u001b[0m\u001b[0;34m\u001b[0m\u001b[0;34m\u001b[0m\u001b[0m\n\u001b[1;32m    869\u001b[0m                        for f in feature_names):\n\u001b[0;32m--> 870\u001b[0;31m                 \u001b[0;32mraise\u001b[0m \u001b[0mValueError\u001b[0m\u001b[0;34m(\u001b[0m\u001b[0;34m'feature_names may not contain [, ] or <'\u001b[0m\u001b[0;34m)\u001b[0m\u001b[0;34m\u001b[0m\u001b[0;34m\u001b[0m\u001b[0m\n\u001b[0m\u001b[1;32m    871\u001b[0m         \u001b[0;32melse\u001b[0m\u001b[0;34m:\u001b[0m\u001b[0;34m\u001b[0m\u001b[0;34m\u001b[0m\u001b[0m\n\u001b[1;32m    872\u001b[0m             \u001b[0;31m# reset feature_types also\u001b[0m\u001b[0;34m\u001b[0m\u001b[0;34m\u001b[0m\u001b[0;34m\u001b[0m\u001b[0m\n",
      "\u001b[0;31mValueError\u001b[0m: feature_names may not contain [, ] or <"
     ]
    }
   ],
   "source": [
    "# xgboost for classification\n",
    "from numpy import asarray\n",
    "from numpy import mean\n",
    "from numpy import std\n",
    "from sklearn.datasets import make_classification\n",
    "from xgboost import XGBClassifier\n",
    "from sklearn.model_selection import cross_val_score\n",
    "from sklearn.model_selection import RepeatedStratifiedKFold\n",
    "from matplotlib import pyplot\n",
    "# define dataset\n",
    "X, y = make_classification(n_samples=1000, n_features=10, n_informative=5, n_redundant=5, random_state=1)\n",
    "# evaluate the model\n",
    "# model = XGBClassifier()\n",
    "# cv = RepeatedStratifiedKFold(n_splits=10, n_repeats=3, random_state=1)\n",
    "# n_scores = cross_val_score(model, features, y_train, scoring='accuracy', cv=cv, n_jobs=-1, error_score='raise')\n",
    "# print('Accuracy: %.3f (%.3f)' % (mean(n_scores), std(n_scores)))\n",
    "# fit the model on the whole dataset\n",
    "model = XGBClassifier()\n",
    "model.fit(features, y_train)\n",
    "# make a single prediction\n",
    "yhat = model.predict(features2)\n",
    "print(classification_report(yhat,y_test))"
   ]
  },
  {
   "cell_type": "code",
   "execution_count": null,
   "id": "mry6H3SWsLIo",
   "metadata": {
    "colab": {
     "base_uri": "https://localhost:8080/"
    },
    "id": "mry6H3SWsLIo",
    "outputId": "775d69c5-06ca-4c3c-f428-59688a9936a8"
   },
   "outputs": [
    {
     "name": "stdout",
     "output_type": "stream",
     "text": [
      "              precision    recall  f1-score   support\n",
      "\n",
      "           0       0.24      0.65      0.35        17\n",
      "           1       0.86      0.51      0.64        70\n",
      "\n",
      "    accuracy                           0.54        87\n",
      "   macro avg       0.55      0.58      0.50        87\n",
      "weighted avg       0.74      0.54      0.59        87\n",
      "\n"
     ]
    }
   ],
   "source": [
    "# lightgbm for classification\n",
    "from numpy import mean\n",
    "from numpy import std\n",
    "from sklearn.datasets import make_classification\n",
    "from lightgbm import LGBMClassifier\n",
    "from sklearn.model_selection import cross_val_score\n",
    "from sklearn.model_selection import RepeatedStratifiedKFold\n",
    "from matplotlib import pyplot\n",
    "# evaluate the model\n",
    "# model = LGBMClassifier()\n",
    "# cv = RepeatedStratifiedKFold(n_splits=10, n_repeats=3, random_state=1)\n",
    "# n_scores = cross_val_score(model, features, y_train, scoring='accuracy', cv=cv, n_jobs=-1, error_score='raise')\n",
    "# print('Accuracy: %.3f (%.3f)' % (mean(n_scores), std(n_scores)))\n",
    "# fit the model on the whole dataset\n",
    "model = LGBMClassifier()\n",
    "model.fit(features, y_train)\n",
    "# make a single prediction\n",
    "yhat = model.predict(features2)\n",
    "print(classification_report(yhat,y_test))"
   ]
  },
  {
   "cell_type": "code",
   "execution_count": null,
   "id": "rXqaehoIsLIo",
   "metadata": {
    "id": "rXqaehoIsLIo"
   },
   "outputs": [],
   "source": []
  }
 ],
 "metadata": {
  "colab": {
   "name": "audio_models.ipynb",
   "provenance": [],
   "toc_visible": true
  },
  "kernelspec": {
   "display_name": "Python 3",
   "language": "python",
   "name": "python3"
  },
  "language_info": {
   "codemirror_mode": {
    "name": "ipython",
    "version": 3
   },
   "file_extension": ".py",
   "mimetype": "text/x-python",
   "name": "python",
   "nbconvert_exporter": "python",
   "pygments_lexer": "ipython3",
   "version": "3.8.8"
  }
 },
 "nbformat": 4,
 "nbformat_minor": 5
}
