{
 "cells": [
  {
   "cell_type": "code",
   "execution_count": 1,
   "id": "43bbc5b6",
   "metadata": {},
   "outputs": [],
   "source": [
    "import pandas as pd\n",
    "df = pd.read_csv('C:/Users/asim.tewari/Downloads/liwc_final (1).csv')"
   ]
  },
  {
   "cell_type": "code",
   "execution_count": 4,
   "id": "60240366",
   "metadata": {},
   "outputs": [
    {
     "name": "stderr",
     "output_type": "stream",
     "text": [
      "[nltk_data] Downloading package stopwords to\n",
      "[nltk_data]     C:\\Users\\asim.tewari\\AppData\\Roaming\\nltk_data...\n",
      "[nltk_data]   Unzipping corpora\\stopwords.zip.\n",
      "[nltk_data] Downloading package punkt to\n",
      "[nltk_data]     C:\\Users\\asim.tewari\\AppData\\Roaming\\nltk_data...\n",
      "[nltk_data]   Unzipping tokenizers\\punkt.zip.\n",
      "[nltk_data] Downloading package treebank to\n",
      "[nltk_data]     C:\\Users\\asim.tewari\\AppData\\Roaming\\nltk_data...\n",
      "[nltk_data]   Unzipping corpora\\treebank.zip.\n"
     ]
    }
   ],
   "source": [
    "import nltk\n",
    "from nltk.corpus import stopwords\n",
    "from nltk.tokenize import word_tokenize\n",
    "from nltk.stem.snowball import SnowballStemmer\n",
    "from nltk.corpus import treebank\n",
    "from nltk.tag.sequential import ClassifierBasedPOSTagger\n",
    "nltk.download('stopwords')\n",
    "nltk.download('punkt')http://localhost:8888/notebooks/Documents/Divya/word%20cloud.ipynb#\n",
    "nltk.download('treebank')\n",
    "stop_words = set(stopwords.words('english'))\n",
    "stop_words.update( ['.', ',', '\"', \"'\", '?', '!', ':', ';', '(', ')', '[', ']', '{', '}'])\n",
    "\n",
    "train_sents = treebank.tagged_sents()\n",
    "tagger = ClassifierBasedPOSTagger(train=train_sents)\n",
    "stemmer = SnowballStemmer('english')"
   ]
  },
  {
   "cell_type": "code",
   "execution_count": 45,
   "id": "1acb1464",
   "metadata": {},
   "outputs": [],
   "source": [
    "def get_corpus(IN_x):\n",
    "    index = 0\n",
    "    corpus = \"\"\n",
    "    #   stemmed_words = list()\n",
    "    for sentens_edna in IN_x:\n",
    "        word_tokens1 = [i for i in word_tokenize(sentens_edna) if i not in stop_words]\n",
    "        sentens_in = ' '.join(word_tokens1)\n",
    "#         print(sentens_in)\n",
    "        corpus+=sentens_in\n",
    "    return corpus\n"
   ]
  },
  {
   "cell_type": "code",
   "execution_count": 46,
   "id": "7064a411",
   "metadata": {},
   "outputs": [
    {
     "data": {
      "text/plain": [
       "0      So the rule is about software development, and...\n",
       "1      I believe that this role is going to expose me...\n",
       "2      OK, yeah, so the fact that I'll be able I'll b...\n",
       "3      All. I just talked about the. So the profile t...\n",
       "4      Well it was something I was born to do. I've b...\n",
       "                             ...                        \n",
       "862    I was 18 years old when I decided to pursue my...\n",
       "863                                          23 year old\n",
       "864                                         Or 14 years.\n",
       "865    I think I was about 2322 when I first realized...\n",
       "866    I was around 14 years after graduating from te...\n",
       "Name: Source (D), Length: 459, dtype: object"
      ]
     },
     "execution_count": 46,
     "metadata": {},
     "output_type": "execute_result"
    }
   ],
   "source": [
    "df[df.y==1]['Source (D)']"
   ]
  },
  {
   "cell_type": "code",
   "execution_count": 47,
   "id": "957fe8af",
   "metadata": {},
   "outputs": [],
   "source": [
    "a = get_corpus(df[df.y==1]['Source (D)'])"
   ]
  },
  {
   "cell_type": "code",
   "execution_count": 50,
   "id": "04838cc9",
   "metadata": {},
   "outputs": [],
   "source": [
    "text_file = open(\"truth.txt\", \"w\")\n",
    "n = text_file.write(a)\n",
    "text_file.close()"
   ]
  },
  {
   "cell_type": "code",
   "execution_count": 51,
   "id": "8c31bcea",
   "metadata": {},
   "outputs": [],
   "source": [
    "b = get_corpus(df[df.y==0]['Source (D)'])"
   ]
  },
  {
   "cell_type": "code",
   "execution_count": 52,
   "id": "9b28c078",
   "metadata": {},
   "outputs": [],
   "source": [
    "text_file = open(\"lie.txt\", \"w\")\n",
    "n = text_file.write(b)\n",
    "text_file.close()"
   ]
  },
  {
   "cell_type": "code",
   "execution_count": 53,
   "id": "633c23ec",
   "metadata": {},
   "outputs": [],
   "source": [
    "c = get_corpus(df['Source (D)'])"
   ]
  },
  {
   "cell_type": "code",
   "execution_count": 54,
   "id": "98e0c4c2",
   "metadata": {},
   "outputs": [],
   "source": [
    "text_file = open(\"full_dataset.txt\", \"w\")\n",
    "n = text_file.write(c)\n",
    "text_file.close()"
   ]
  },
  {
   "cell_type": "code",
   "execution_count": null,
   "id": "652427e6",
   "metadata": {},
   "outputs": [],
   "source": []
  }
 ],
 "metadata": {
  "kernelspec": {
   "display_name": "Python 3",
   "language": "python",
   "name": "python3"
  },
  "language_info": {
   "codemirror_mode": {
    "name": "ipython",
    "version": 3
   },
   "file_extension": ".py",
   "mimetype": "text/x-python",
   "name": "python",
   "nbconvert_exporter": "python",
   "pygments_lexer": "ipython3",
   "version": "3.8.8"
  }
 },
 "nbformat": 4,
 "nbformat_minor": 5
}
