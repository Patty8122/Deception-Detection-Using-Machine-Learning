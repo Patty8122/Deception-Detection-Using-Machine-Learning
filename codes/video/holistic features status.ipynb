{
 "cells": [
  {
   "cell_type": "code",
   "execution_count": 1,
   "id": "c8d3d447",
   "metadata": {},
   "outputs": [],
   "source": [
    "import pandas as pd\n",
    "df = pd.read_csv('C:/Users/asim.tewari/PycharmProjects/pythonProject/holistic_features4.csv')"
   ]
  },
  {
   "cell_type": "code",
   "execution_count": 2,
   "id": "2e99dc20",
   "metadata": {},
   "outputs": [
    {
     "data": {
      "text/plain": [
       "(7338, 230)"
      ]
     },
     "execution_count": 2,
     "metadata": {},
     "output_type": "execute_result"
    }
   ],
   "source": [
    "df.shape"
   ]
  },
  {
   "cell_type": "code",
   "execution_count": 3,
   "id": "03605ad7",
   "metadata": {},
   "outputs": [
    {
     "data": {
      "text/plain": [
       "Index(['0', '1', '2', '3', '4', '5', '6', '7', '8', '9',\n",
       "       ...\n",
       "       '220', '221', '222', '223', '224', '225', '226', '227', '228', '229'],\n",
       "      dtype='object', length=230)"
      ]
     },
     "execution_count": 3,
     "metadata": {},
     "output_type": "execute_result"
    }
   ],
   "source": [
    "df.columns"
   ]
  },
  {
   "cell_type": "code",
   "execution_count": 3,
   "id": "384c395c",
   "metadata": {},
   "outputs": [],
   "source": [
    "a = df.iloc[:,228].unique()"
   ]
  },
  {
   "cell_type": "code",
   "execution_count": 15,
   "id": "27a06e2c",
   "metadata": {},
   "outputs": [],
   "source": [
    "df2 = pd.read_csv('C:/Users/asim.tewari/PycharmProjects/pythonProject/holistic_features2.csv')"
   ]
  },
  {
   "cell_type": "code",
   "execution_count": 16,
   "id": "10899380",
   "metadata": {},
   "outputs": [],
   "source": [
    "b = df2.iloc[:,228].unique()"
   ]
  },
  {
   "cell_type": "code",
   "execution_count": 17,
   "id": "e1793f5a",
   "metadata": {},
   "outputs": [],
   "source": [
    "df3 = pd.read_csv('C:/Users/asim.tewari/PycharmProjects/pythonProject/holistic_features.csv')"
   ]
  },
  {
   "cell_type": "code",
   "execution_count": 18,
   "id": "2c25fdfa",
   "metadata": {},
   "outputs": [],
   "source": [
    "c= df3.iloc[:,228].unique()"
   ]
  },
  {
   "cell_type": "code",
   "execution_count": 19,
   "id": "f6ee493b",
   "metadata": {},
   "outputs": [
    {
     "data": {
      "text/plain": [
       "(array([17., nan, 19.,  2., 20.]),\n",
       " array([15., nan, 16.]),\n",
       " array([ 1., nan, 10., 11., 12., 13., 14.]))"
      ]
     },
     "execution_count": 19,
     "metadata": {},
     "output_type": "execute_result"
    }
   ],
   "source": [
    "# a.extend(b)\n",
    "# a.ex"
   ]
  },
  {
   "cell_type": "code",
   "execution_count": 19,
   "id": "53378884",
   "metadata": {},
   "outputs": [],
   "source": [
    "a = set(a)\n",
    "b = set(b)\n",
    "c =set(c)"
   ]
  },
  {
   "cell_type": "code",
   "execution_count": 23,
   "id": "becc6ffa",
   "metadata": {},
   "outputs": [],
   "source": [
    "full =set(range(1,28))"
   ]
  },
  {
   "cell_type": "code",
   "execution_count": 24,
   "id": "92debb7e",
   "metadata": {},
   "outputs": [
    {
     "data": {
      "text/plain": [
       "{3, 4, 5, 6, 7, 8, 9, 18, 21, 22, 23, 24, 25, 26, 27}"
      ]
     },
     "execution_count": 24,
     "metadata": {},
     "output_type": "execute_result"
    }
   ],
   "source": [
    "full - a - b -c"
   ]
  },
  {
   "cell_type": "code",
   "execution_count": 4,
   "id": "615f50ed",
   "metadata": {},
   "outputs": [
    {
     "data": {
      "text/plain": [
       "array([21], dtype=int64)"
      ]
     },
     "execution_count": 4,
     "metadata": {},
     "output_type": "execute_result"
    }
   ],
   "source": [
    "a"
   ]
  },
  {
   "cell_type": "code",
   "execution_count": 3,
   "id": "0e3df084",
   "metadata": {},
   "outputs": [],
   "source": [
    "import pandas as pd\n",
    "df = pd.read_csv('C:/Users/asim.tewari/Downloads/liwc_final (1).csv')"
   ]
  },
  {
   "cell_type": "code",
   "execution_count": 7,
   "id": "c5f1d3e8",
   "metadata": {
    "scrolled": false
   },
   "outputs": [
    {
     "name": "stdout",
     "output_type": "stream",
     "text": [
      "Source (A)\n",
      "Source (B)\n",
      "Source (C)\n",
      "Source (D)\n",
      "question\n",
      "Source (F)\n",
      "Source (G)\n",
      "person_id\n",
      "Source (I)\n",
      "Source (J)\n",
      "WC\n",
      "Analytic\n",
      "Clout\n",
      "Authentic\n",
      "Tone\n",
      "WPS\n",
      "Sixltr\n",
      "Dic\n",
      "function\n",
      "pronoun\n",
      "ppron\n",
      "i\n",
      "we\n",
      "you\n",
      "shehe\n",
      "they\n",
      "ipron\n",
      "article\n",
      "prep\n",
      "auxverb\n",
      "adverb\n",
      "conj\n",
      "negate\n",
      "verb\n",
      "adj\n",
      "compare\n",
      "interrog\n",
      "number\n",
      "quant\n",
      "affect\n",
      "posemo\n",
      "negemo\n",
      "anx\n",
      "anger\n",
      "sad\n",
      "social\n",
      "family\n",
      "friend\n",
      "female\n",
      "male\n",
      "cogproc\n",
      "insight\n",
      "cause\n",
      "discrep\n",
      "tentat\n",
      "certain\n",
      "differ\n",
      "percept\n",
      "see\n",
      "hear\n",
      "feel\n",
      "bio\n",
      "body\n",
      "health\n",
      "sexual\n",
      "ingest\n",
      "drives\n",
      "affiliation\n",
      "achieve\n",
      "power\n",
      "reward\n",
      "risk\n",
      "focuspast\n",
      "focuspresent\n",
      "focusfuture\n",
      "relativ\n",
      "motion\n",
      "space\n",
      "time\n",
      "work\n",
      "leisure\n",
      "home\n",
      "money\n",
      "relig\n",
      "death\n",
      "informal\n",
      "swear\n",
      "netspeak\n",
      "assent\n",
      "nonflu\n",
      "filler\n",
      "AllPunc\n",
      "Period\n",
      "Comma\n",
      "Colon\n",
      "SemiC\n",
      "QMark\n",
      "Exclam\n",
      "Dash\n",
      "Quote\n",
      "Apostro\n",
      "Parenth\n",
      "OtherP\n",
      "y\n",
      "positive_assumption\n",
      "negative_assumption\n"
     ]
    }
   ],
   "source": [
    "for i in df.columns:\n",
    "    print(i)"
   ]
  },
  {
   "cell_type": "code",
   "execution_count": 12,
   "id": "00b73daf",
   "metadata": {},
   "outputs": [
    {
     "data": {
      "text/plain": [
       "'hi'"
      ]
     },
     "execution_count": 12,
     "metadata": {},
     "output_type": "execute_result"
    }
   ],
   "source": [
    "a = \"Hi\"\n",
    "a.lower()"
   ]
  },
  {
   "cell_type": "code",
   "execution_count": null,
   "id": "10de64a6",
   "metadata": {},
   "outputs": [],
   "source": []
  }
 ],
 "metadata": {
  "kernelspec": {
   "display_name": "Python 3",
   "language": "python",
   "name": "python3"
  },
  "language_info": {
   "codemirror_mode": {
    "name": "ipython",
    "version": 3
   },
   "file_extension": ".py",
   "mimetype": "text/x-python",
   "name": "python",
   "nbconvert_exporter": "python",
   "pygments_lexer": "ipython3",
   "version": "3.8.8"
  }
 },
 "nbformat": 4,
 "nbformat_minor": 5
}
