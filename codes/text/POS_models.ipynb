{
 "cells": [
  {
   "cell_type": "code",
   "execution_count": 1,
   "id": "63df50f7",
   "metadata": {
    "id": "63df50f7"
   },
   "outputs": [],
   "source": [
    "import pandas as pd\n",
    "import numpy as np\n"
   ]
  },
  {
   "cell_type": "markdown",
   "id": "59432653",
   "metadata": {
    "id": "59432653"
   },
   "source": [
    "## Load data"
   ]
  },
  {
   "cell_type": "code",
   "execution_count": 2,
   "id": "eOrWgRwGd2X5",
   "metadata": {
    "id": "eOrWgRwGd2X5"
   },
   "outputs": [],
   "source": [
    "new_df = pd.read_csv('POSfeatures.csv')"
   ]
  },
  {
   "cell_type": "code",
   "execution_count": 3,
   "id": "eCN6OZvQgBXb",
   "metadata": {
    "colab": {
     "base_uri": "https://localhost:8080/",
     "height": 534
    },
    "id": "eCN6OZvQgBXb",
    "outputId": "82da6500-b5ee-4fce-da90-7a1d8680ed92"
   },
   "outputs": [],
   "source": [
    "import random\n",
    "random.seed(0)\n",
    "samples= list(new_df.id.unique())\n",
    "num_samples = len(samples)\n",
    "train_ids = random.sample(samples,round(0.9*num_samples))\n",
    "test_ids = list(set(samples)-set(train_ids))\n",
    "\n",
    "df_train=pd.DataFrame()\n",
    "for i in train_ids:\n",
    "    df_train=df_train.append(new_df[new_df['id']==i])\n",
    "\n",
    "df_test=pd.DataFrame()\n",
    "for i in test_ids:\n",
    "    df_test=df_test.append(new_df[new_df['id']==i])\n",
    "\n",
    "X_train = df_train.drop('y',axis=1)\n",
    "X_test = df_test.drop('y',axis=1)\n",
    "y_train = df_train['y']\n",
    "y_test = df_test['y']"
   ]
  },
  {
   "cell_type": "code",
   "execution_count": 4,
   "id": "8924c137",
   "metadata": {},
   "outputs": [
    {
     "data": {
      "text/plain": [
       "array([ 1,  2,  3,  4,  5,  6,  7,  8,  9, 10, 11, 12, 13, 14, 15, 16, 17,\n",
       "       18, 19, 20, 21, 22, 23, 24, 25, 26, 27, 28, 29, 30, 31],\n",
       "      dtype=int64)"
      ]
     },
     "execution_count": 4,
     "metadata": {},
     "output_type": "execute_result"
    }
   ],
   "source": [
    "new_df.id.unique()"
   ]
  },
  {
   "cell_type": "code",
   "execution_count": 5,
   "id": "J9q8giftkS3R",
   "metadata": {
    "id": "J9q8giftkS3R"
   },
   "outputs": [],
   "source": [
    "X_test = X_test.reset_index()\n",
    "X_train = X_train.reset_index()"
   ]
  },
  {
   "cell_type": "code",
   "execution_count": 6,
   "id": "8f150240",
   "metadata": {},
   "outputs": [],
   "source": [
    "X_train.drop(['index'],inplace=True,axis=1)\n",
    "X_test.drop(['index'],inplace=True,axis=1)"
   ]
  },
  {
   "cell_type": "code",
   "execution_count": 7,
   "id": "c11f4739",
   "metadata": {},
   "outputs": [],
   "source": [
    "id_train = X_train.id\n",
    "id_test = X_test.id"
   ]
  },
  {
   "cell_type": "code",
   "execution_count": 8,
   "id": "f0f42434",
   "metadata": {},
   "outputs": [],
   "source": [
    "# def add_id(a):\n",
    "#     return 'id'+str(a)"
   ]
  },
  {
   "cell_type": "code",
   "execution_count": 9,
   "id": "415e8aad",
   "metadata": {},
   "outputs": [],
   "source": [
    "# X_train.id = X_train.id.apply(add_id) \n",
    "# X_test.id = X_test.id.apply(add_id) "
   ]
  },
  {
   "cell_type": "code",
   "execution_count": 10,
   "id": "fb94095c",
   "metadata": {},
   "outputs": [],
   "source": [
    "X_train.drop('id', axis=1, inplace=True)\n",
    "X_test.drop('id', axis=1, inplace=True)"
   ]
  },
  {
   "cell_type": "code",
   "execution_count": 11,
   "id": "e86f20e3",
   "metadata": {},
   "outputs": [
    {
     "name": "stdout",
     "output_type": "stream",
     "text": [
      "Number of categorical features: 17\n",
      "Number of numerical features: 34\n"
     ]
    }
   ],
   "source": [
    "categorical_list = []\n",
    "numerical_list = []\n",
    "for i in X_train.columns.tolist():\n",
    "    if (X_train[i].dtype=='object') or (X_train[i].dtype=='bool'):\n",
    "        categorical_list.append(i)\n",
    "    else:\n",
    "        numerical_list.append(i)\n",
    "print('Number of categorical features:', str(len(categorical_list)))\n",
    "print('Number of numerical features:', str(len(numerical_list)))"
   ]
  },
  {
   "cell_type": "code",
   "execution_count": 12,
   "id": "b54a64bf",
   "metadata": {},
   "outputs": [
    {
     "data": {
      "text/plain": [
       "['seq_01',\n",
       " 'seq_02',\n",
       " 'seq_03',\n",
       " 'is_past_tense',\n",
       " 'is_modal',\n",
       " 'first_tag',\n",
       " 'second_tag',\n",
       " 'third_tag',\n",
       " 'exists_she',\n",
       " 'exists_he',\n",
       " 'first_word_is_the',\n",
       " 'first_word_is_she',\n",
       " 'first_word_is_he',\n",
       " 'first_word_is_it',\n",
       " 'first_word_is_this',\n",
       " 'first_word_is_you',\n",
       " 'first_word_is_OK']"
      ]
     },
     "execution_count": 12,
     "metadata": {},
     "output_type": "execute_result"
    }
   ],
   "source": [
    "categorical_list"
   ]
  },
  {
   "cell_type": "code",
   "execution_count": 13,
   "id": "36ac2efb",
   "metadata": {},
   "outputs": [],
   "source": [
    "from sklearn.preprocessing import OneHotEncoder, StandardScaler\n",
    "# Instantiate encoder/scaler\n",
    "scaler = StandardScaler()\n",
    "ohe    = OneHotEncoder(sparse=False,drop='if_binary')\n",
    "\n",
    "# Scale and Encode Separate Columns\n",
    "scaled_columns  = pd.DataFrame(scaler.fit_transform(X_train[numerical_list]), columns = X_train[numerical_list].columns)\n",
    "encoded_columns =    pd.DataFrame(ohe.fit_transform(X_train[categorical_list]), columns =ohe.get_feature_names(categorical_list))\n",
    "\n",
    "# Concatenate (Column-Bind) Processed Columns Back Together\n",
    "X_train = pd.concat([scaled_columns.reset_index(), encoded_columns.reset_index()], axis=1)\n",
    "X_train.drop(['index','index'], inplace=True,axis=1)"
   ]
  },
  {
   "cell_type": "code",
   "execution_count": 14,
   "id": "4dbd468d",
   "metadata": {},
   "outputs": [],
   "source": [
    "scaled_columns  = pd.DataFrame(scaler.transform(X_test[numerical_list]), columns = X_test[numerical_list].columns)\n",
    "encoded_columns =    pd.DataFrame(ohe.transform(X_test[categorical_list]), columns =ohe.get_feature_names(categorical_list))\n",
    "\n",
    "# Concatenate (Column-Bind) Processed Columns Back Together\n",
    "X_test = pd.concat([scaled_columns.reset_index(), encoded_columns.reset_index()], axis=1)\n",
    "X_test.drop(['index','index'], inplace=True,axis=1)"
   ]
  },
  {
   "cell_type": "code",
   "execution_count": 18,
   "id": "874d5d41",
   "metadata": {},
   "outputs": [
    {
     "ename": "KeyError",
     "evalue": "'question'",
     "output_type": "error",
     "traceback": [
      "\u001b[1;31m---------------------------------------------------------------------------\u001b[0m",
      "\u001b[1;31mKeyError\u001b[0m                                  Traceback (most recent call last)",
      "\u001b[1;32mC:\\ProgramData\\Anaconda3\\lib\\site-packages\\pandas\\core\\indexes\\base.py\u001b[0m in \u001b[0;36mget_loc\u001b[1;34m(self, key, method, tolerance)\u001b[0m\n\u001b[0;32m   3079\u001b[0m             \u001b[1;32mtry\u001b[0m\u001b[1;33m:\u001b[0m\u001b[1;33m\u001b[0m\u001b[1;33m\u001b[0m\u001b[0m\n\u001b[1;32m-> 3080\u001b[1;33m                 \u001b[1;32mreturn\u001b[0m \u001b[0mself\u001b[0m\u001b[1;33m.\u001b[0m\u001b[0m_engine\u001b[0m\u001b[1;33m.\u001b[0m\u001b[0mget_loc\u001b[0m\u001b[1;33m(\u001b[0m\u001b[0mcasted_key\u001b[0m\u001b[1;33m)\u001b[0m\u001b[1;33m\u001b[0m\u001b[1;33m\u001b[0m\u001b[0m\n\u001b[0m\u001b[0;32m   3081\u001b[0m             \u001b[1;32mexcept\u001b[0m \u001b[0mKeyError\u001b[0m \u001b[1;32mas\u001b[0m \u001b[0merr\u001b[0m\u001b[1;33m:\u001b[0m\u001b[1;33m\u001b[0m\u001b[1;33m\u001b[0m\u001b[0m\n",
      "\u001b[1;32mpandas\\_libs\\index.pyx\u001b[0m in \u001b[0;36mpandas._libs.index.IndexEngine.get_loc\u001b[1;34m()\u001b[0m\n",
      "\u001b[1;32mpandas\\_libs\\index.pyx\u001b[0m in \u001b[0;36mpandas._libs.index.IndexEngine.get_loc\u001b[1;34m()\u001b[0m\n",
      "\u001b[1;32mpandas\\_libs\\hashtable_class_helper.pxi\u001b[0m in \u001b[0;36mpandas._libs.hashtable.PyObjectHashTable.get_item\u001b[1;34m()\u001b[0m\n",
      "\u001b[1;32mpandas\\_libs\\hashtable_class_helper.pxi\u001b[0m in \u001b[0;36mpandas._libs.hashtable.PyObjectHashTable.get_item\u001b[1;34m()\u001b[0m\n",
      "\u001b[1;31mKeyError\u001b[0m: 'question'",
      "\nThe above exception was the direct cause of the following exception:\n",
      "\u001b[1;31mKeyError\u001b[0m                                  Traceback (most recent call last)",
      "\u001b[1;32m<ipython-input-18-64f3fc708a6f>\u001b[0m in \u001b[0;36m<module>\u001b[1;34m\u001b[0m\n\u001b[1;32m----> 1\u001b[1;33m \u001b[0mX_train\u001b[0m\u001b[1;33m[\u001b[0m\u001b[1;34m'question'\u001b[0m\u001b[1;33m]\u001b[0m\u001b[1;33m\u001b[0m\u001b[1;33m\u001b[0m\u001b[0m\n\u001b[0m",
      "\u001b[1;32mC:\\ProgramData\\Anaconda3\\lib\\site-packages\\pandas\\core\\frame.py\u001b[0m in \u001b[0;36m__getitem__\u001b[1;34m(self, key)\u001b[0m\n\u001b[0;32m   3022\u001b[0m             \u001b[1;32mif\u001b[0m \u001b[0mself\u001b[0m\u001b[1;33m.\u001b[0m\u001b[0mcolumns\u001b[0m\u001b[1;33m.\u001b[0m\u001b[0mnlevels\u001b[0m \u001b[1;33m>\u001b[0m \u001b[1;36m1\u001b[0m\u001b[1;33m:\u001b[0m\u001b[1;33m\u001b[0m\u001b[1;33m\u001b[0m\u001b[0m\n\u001b[0;32m   3023\u001b[0m                 \u001b[1;32mreturn\u001b[0m \u001b[0mself\u001b[0m\u001b[1;33m.\u001b[0m\u001b[0m_getitem_multilevel\u001b[0m\u001b[1;33m(\u001b[0m\u001b[0mkey\u001b[0m\u001b[1;33m)\u001b[0m\u001b[1;33m\u001b[0m\u001b[1;33m\u001b[0m\u001b[0m\n\u001b[1;32m-> 3024\u001b[1;33m             \u001b[0mindexer\u001b[0m \u001b[1;33m=\u001b[0m \u001b[0mself\u001b[0m\u001b[1;33m.\u001b[0m\u001b[0mcolumns\u001b[0m\u001b[1;33m.\u001b[0m\u001b[0mget_loc\u001b[0m\u001b[1;33m(\u001b[0m\u001b[0mkey\u001b[0m\u001b[1;33m)\u001b[0m\u001b[1;33m\u001b[0m\u001b[1;33m\u001b[0m\u001b[0m\n\u001b[0m\u001b[0;32m   3025\u001b[0m             \u001b[1;32mif\u001b[0m \u001b[0mis_integer\u001b[0m\u001b[1;33m(\u001b[0m\u001b[0mindexer\u001b[0m\u001b[1;33m)\u001b[0m\u001b[1;33m:\u001b[0m\u001b[1;33m\u001b[0m\u001b[1;33m\u001b[0m\u001b[0m\n\u001b[0;32m   3026\u001b[0m                 \u001b[0mindexer\u001b[0m \u001b[1;33m=\u001b[0m \u001b[1;33m[\u001b[0m\u001b[0mindexer\u001b[0m\u001b[1;33m]\u001b[0m\u001b[1;33m\u001b[0m\u001b[1;33m\u001b[0m\u001b[0m\n",
      "\u001b[1;32mC:\\ProgramData\\Anaconda3\\lib\\site-packages\\pandas\\core\\indexes\\base.py\u001b[0m in \u001b[0;36mget_loc\u001b[1;34m(self, key, method, tolerance)\u001b[0m\n\u001b[0;32m   3080\u001b[0m                 \u001b[1;32mreturn\u001b[0m \u001b[0mself\u001b[0m\u001b[1;33m.\u001b[0m\u001b[0m_engine\u001b[0m\u001b[1;33m.\u001b[0m\u001b[0mget_loc\u001b[0m\u001b[1;33m(\u001b[0m\u001b[0mcasted_key\u001b[0m\u001b[1;33m)\u001b[0m\u001b[1;33m\u001b[0m\u001b[1;33m\u001b[0m\u001b[0m\n\u001b[0;32m   3081\u001b[0m             \u001b[1;32mexcept\u001b[0m \u001b[0mKeyError\u001b[0m \u001b[1;32mas\u001b[0m \u001b[0merr\u001b[0m\u001b[1;33m:\u001b[0m\u001b[1;33m\u001b[0m\u001b[1;33m\u001b[0m\u001b[0m\n\u001b[1;32m-> 3082\u001b[1;33m                 \u001b[1;32mraise\u001b[0m \u001b[0mKeyError\u001b[0m\u001b[1;33m(\u001b[0m\u001b[0mkey\u001b[0m\u001b[1;33m)\u001b[0m \u001b[1;32mfrom\u001b[0m \u001b[0merr\u001b[0m\u001b[1;33m\u001b[0m\u001b[1;33m\u001b[0m\u001b[0m\n\u001b[0m\u001b[0;32m   3083\u001b[0m \u001b[1;33m\u001b[0m\u001b[0m\n\u001b[0;32m   3084\u001b[0m         \u001b[1;32mif\u001b[0m \u001b[0mtolerance\u001b[0m \u001b[1;32mis\u001b[0m \u001b[1;32mnot\u001b[0m \u001b[1;32mNone\u001b[0m\u001b[1;33m:\u001b[0m\u001b[1;33m\u001b[0m\u001b[1;33m\u001b[0m\u001b[0m\n",
      "\u001b[1;31mKeyError\u001b[0m: 'question'"
     ]
    }
   ],
   "source": [
    "X_train['question']"
   ]
  },
  {
   "cell_type": "code",
   "execution_count": 16,
   "id": "L2PhhiaTe7iN",
   "metadata": {
    "id": "L2PhhiaTe7iN"
   },
   "outputs": [],
   "source": [
    "df_train = X_train.copy()\n",
    "df_train['y'] = y_train.values"
   ]
  },
  {
   "cell_type": "code",
   "execution_count": 17,
   "id": "323dd930",
   "metadata": {},
   "outputs": [
    {
     "data": {
      "text/plain": [
       "0"
      ]
     },
     "execution_count": 17,
     "metadata": {},
     "output_type": "execute_result"
    }
   ],
   "source": [
    "df_train.isna().sum().sum()"
   ]
  },
  {
   "cell_type": "code",
   "execution_count": 119,
   "id": "233c15eb",
   "metadata": {},
   "outputs": [],
   "source": [
    "# X_train.drop('id', axis=1, inplace=True)\n",
    "# X_test.drop('id', axis=1, inplace=True)"
   ]
  },
  {
   "cell_type": "markdown",
   "id": "212c615f",
   "metadata": {
    "id": "212c615f"
   },
   "source": [
    "## Feature selection"
   ]
  },
  {
   "cell_type": "markdown",
   "id": "16886033",
   "metadata": {
    "id": "16886033"
   },
   "source": [
    "### null importance"
   ]
  },
  {
   "cell_type": "code",
   "execution_count": 31,
   "id": "202b0e15",
   "metadata": {
    "id": "202b0e15"
   },
   "outputs": [],
   "source": [
    "# df_train = X_train.copy()\n",
    "# y_trai\n",
    "df_train['y'] = y_train.values"
   ]
  },
  {
   "cell_type": "code",
   "execution_count": 7,
   "id": "63743cc4",
   "metadata": {
    "id": "63743cc4"
   },
   "outputs": [],
   "source": [
    "from sklearn.metrics import roc_auc_score\n",
    "from sklearn.model_selection import KFold\n",
    "import time\n",
    "from lightgbm import LGBMClassifier\n",
    "import lightgbm as lgb\n",
    "\n",
    "import matplotlib.pyplot as plt\n",
    "import matplotlib.gridspec as gridspec\n",
    "import seaborn as sns\n",
    "%matplotlib inline\n",
    "\n",
    "import warnings\n",
    "warnings.simplefilter('ignore', UserWarning)\n",
    "\n",
    "import gc\n",
    "gc.enable()"
   ]
  },
  {
   "cell_type": "code",
   "execution_count": null,
   "id": "e86f182a",
   "metadata": {
    "id": "e86f182a"
   },
   "outputs": [],
   "source": [
    "data = df_train.copy()\n",
    "\n",
    "\n",
    "\n",
    "# categorical_feats = df_train.columns[[-1,-2,-3]]\n",
    "\n",
    "# print(categorical_feats)\n",
    "# for f_ in categorical_feats:\n",
    "#     data[f_], _ = pd.factorize(data[f_])\n",
    "#     # Set feature type as categorical\n",
    "#     data[f_] = data[f_].astype('category')"
   ]
  },
  {
   "cell_type": "code",
   "execution_count": null,
   "id": "4c3018f9",
   "metadata": {
    "id": "4c3018f9",
    "outputId": "5bbea429-51a9-410a-8b4a-17c7a60a8288"
   },
   "outputs": [
    {
     "data": {
      "text/html": [
       "<div>\n",
       "<style scoped>\n",
       "    .dataframe tbody tr th:only-of-type {\n",
       "        vertical-align: middle;\n",
       "    }\n",
       "\n",
       "    .dataframe tbody tr th {\n",
       "        vertical-align: top;\n",
       "    }\n",
       "\n",
       "    .dataframe thead th {\n",
       "        text-align: right;\n",
       "    }\n",
       "</style>\n",
       "<table border=\"1\" class=\"dataframe\">\n",
       "  <thead>\n",
       "    <tr style=\"text-align: right;\">\n",
       "      <th></th>\n",
       "      <th>timestamp</th>\n",
       "      <th>confidence</th>\n",
       "      <th>gaze_0_x</th>\n",
       "      <th>gaze_0_y</th>\n",
       "      <th>gaze_0_z</th>\n",
       "      <th>gaze_1_x</th>\n",
       "      <th>gaze_1_y</th>\n",
       "      <th>gaze_1_z</th>\n",
       "      <th>gaze_angle_x</th>\n",
       "      <th>gaze_angle_y</th>\n",
       "      <th>...</th>\n",
       "      <th>AU26_c</th>\n",
       "      <th>AU28_c</th>\n",
       "      <th>AU45_c</th>\n",
       "      <th>question</th>\n",
       "      <th>person_id</th>\n",
       "      <th>WC</th>\n",
       "      <th>OtherP</th>\n",
       "      <th>y</th>\n",
       "      <th>positive_assumption</th>\n",
       "      <th>negative_assumption</th>\n",
       "    </tr>\n",
       "  </thead>\n",
       "  <tbody>\n",
       "    <tr>\n",
       "      <th>6415</th>\n",
       "      <td>0.000000</td>\n",
       "      <td>0.98</td>\n",
       "      <td>0.326309</td>\n",
       "      <td>0.274022</td>\n",
       "      <td>-0.904674</td>\n",
       "      <td>0.158873</td>\n",
       "      <td>0.243419</td>\n",
       "      <td>-0.956821</td>\n",
       "      <td>0.255</td>\n",
       "      <td>0.271</td>\n",
       "      <td>...</td>\n",
       "      <td>0</td>\n",
       "      <td>0</td>\n",
       "      <td>0</td>\n",
       "      <td>1</td>\n",
       "      <td>28</td>\n",
       "      <td>119</td>\n",
       "      <td>0.0</td>\n",
       "      <td>0</td>\n",
       "      <td>0</td>\n",
       "      <td>0</td>\n",
       "    </tr>\n",
       "    <tr>\n",
       "      <th>6416</th>\n",
       "      <td>0.040000</td>\n",
       "      <td>0.98</td>\n",
       "      <td>0.336460</td>\n",
       "      <td>0.274016</td>\n",
       "      <td>-0.900949</td>\n",
       "      <td>0.161493</td>\n",
       "      <td>0.241291</td>\n",
       "      <td>-0.956922</td>\n",
       "      <td>0.262</td>\n",
       "      <td>0.271</td>\n",
       "      <td>...</td>\n",
       "      <td>0</td>\n",
       "      <td>0</td>\n",
       "      <td>0</td>\n",
       "      <td>1</td>\n",
       "      <td>28</td>\n",
       "      <td>119</td>\n",
       "      <td>0.0</td>\n",
       "      <td>0</td>\n",
       "      <td>0</td>\n",
       "      <td>0</td>\n",
       "    </tr>\n",
       "    <tr>\n",
       "      <th>6417</th>\n",
       "      <td>0.080000</td>\n",
       "      <td>0.98</td>\n",
       "      <td>0.341593</td>\n",
       "      <td>0.269892</td>\n",
       "      <td>-0.900263</td>\n",
       "      <td>0.166425</td>\n",
       "      <td>0.237461</td>\n",
       "      <td>-0.957035</td>\n",
       "      <td>0.267</td>\n",
       "      <td>0.267</td>\n",
       "      <td>...</td>\n",
       "      <td>0</td>\n",
       "      <td>0</td>\n",
       "      <td>0</td>\n",
       "      <td>1</td>\n",
       "      <td>28</td>\n",
       "      <td>119</td>\n",
       "      <td>0.0</td>\n",
       "      <td>0</td>\n",
       "      <td>0</td>\n",
       "      <td>0</td>\n",
       "    </tr>\n",
       "    <tr>\n",
       "      <th>6418</th>\n",
       "      <td>0.120000</td>\n",
       "      <td>0.98</td>\n",
       "      <td>0.341751</td>\n",
       "      <td>0.269591</td>\n",
       "      <td>-0.900292</td>\n",
       "      <td>0.166547</td>\n",
       "      <td>0.237231</td>\n",
       "      <td>-0.957070</td>\n",
       "      <td>0.267</td>\n",
       "      <td>0.266</td>\n",
       "      <td>...</td>\n",
       "      <td>0</td>\n",
       "      <td>0</td>\n",
       "      <td>0</td>\n",
       "      <td>1</td>\n",
       "      <td>28</td>\n",
       "      <td>119</td>\n",
       "      <td>0.0</td>\n",
       "      <td>0</td>\n",
       "      <td>0</td>\n",
       "      <td>0</td>\n",
       "    </tr>\n",
       "    <tr>\n",
       "      <th>6419</th>\n",
       "      <td>0.160000</td>\n",
       "      <td>0.98</td>\n",
       "      <td>0.341803</td>\n",
       "      <td>0.269438</td>\n",
       "      <td>-0.900319</td>\n",
       "      <td>0.166416</td>\n",
       "      <td>0.237016</td>\n",
       "      <td>-0.957146</td>\n",
       "      <td>0.267</td>\n",
       "      <td>0.266</td>\n",
       "      <td>...</td>\n",
       "      <td>0</td>\n",
       "      <td>0</td>\n",
       "      <td>0</td>\n",
       "      <td>1</td>\n",
       "      <td>28</td>\n",
       "      <td>119</td>\n",
       "      <td>0.0</td>\n",
       "      <td>0</td>\n",
       "      <td>0</td>\n",
       "      <td>0</td>\n",
       "    </tr>\n",
       "    <tr>\n",
       "      <th>...</th>\n",
       "      <td>...</td>\n",
       "      <td>...</td>\n",
       "      <td>...</td>\n",
       "      <td>...</td>\n",
       "      <td>...</td>\n",
       "      <td>...</td>\n",
       "      <td>...</td>\n",
       "      <td>...</td>\n",
       "      <td>...</td>\n",
       "      <td>...</td>\n",
       "      <td>...</td>\n",
       "      <td>...</td>\n",
       "      <td>...</td>\n",
       "      <td>...</td>\n",
       "      <td>...</td>\n",
       "      <td>...</td>\n",
       "      <td>...</td>\n",
       "      <td>...</td>\n",
       "      <td>...</td>\n",
       "      <td>...</td>\n",
       "      <td>...</td>\n",
       "    </tr>\n",
       "    <tr>\n",
       "      <th>860059</th>\n",
       "      <td>44.320000</td>\n",
       "      <td>0.98</td>\n",
       "      <td>0.191839</td>\n",
       "      <td>0.410695</td>\n",
       "      <td>-0.891362</td>\n",
       "      <td>0.040223</td>\n",
       "      <td>0.424845</td>\n",
       "      <td>-0.904372</td>\n",
       "      <td>0.129</td>\n",
       "      <td>0.435</td>\n",
       "      <td>...</td>\n",
       "      <td>1</td>\n",
       "      <td>0</td>\n",
       "      <td>0</td>\n",
       "      <td>24</td>\n",
       "      <td>24</td>\n",
       "      <td>100</td>\n",
       "      <td>0.0</td>\n",
       "      <td>1</td>\n",
       "      <td>0</td>\n",
       "      <td>0</td>\n",
       "    </tr>\n",
       "    <tr>\n",
       "      <th>860060</th>\n",
       "      <td>44.360001</td>\n",
       "      <td>0.98</td>\n",
       "      <td>0.189389</td>\n",
       "      <td>0.405606</td>\n",
       "      <td>-0.894212</td>\n",
       "      <td>0.039152</td>\n",
       "      <td>0.419084</td>\n",
       "      <td>-0.907103</td>\n",
       "      <td>0.126</td>\n",
       "      <td>0.429</td>\n",
       "      <td>...</td>\n",
       "      <td>1</td>\n",
       "      <td>0</td>\n",
       "      <td>0</td>\n",
       "      <td>24</td>\n",
       "      <td>24</td>\n",
       "      <td>100</td>\n",
       "      <td>0.0</td>\n",
       "      <td>1</td>\n",
       "      <td>0</td>\n",
       "      <td>0</td>\n",
       "    </tr>\n",
       "    <tr>\n",
       "      <th>860061</th>\n",
       "      <td>44.400002</td>\n",
       "      <td>0.98</td>\n",
       "      <td>0.187418</td>\n",
       "      <td>0.443895</td>\n",
       "      <td>-0.876260</td>\n",
       "      <td>0.030524</td>\n",
       "      <td>0.459217</td>\n",
       "      <td>-0.887799</td>\n",
       "      <td>0.123</td>\n",
       "      <td>0.473</td>\n",
       "      <td>...</td>\n",
       "      <td>0</td>\n",
       "      <td>0</td>\n",
       "      <td>0</td>\n",
       "      <td>24</td>\n",
       "      <td>24</td>\n",
       "      <td>100</td>\n",
       "      <td>0.0</td>\n",
       "      <td>1</td>\n",
       "      <td>0</td>\n",
       "      <td>0</td>\n",
       "    </tr>\n",
       "    <tr>\n",
       "      <th>860062</th>\n",
       "      <td>44.439999</td>\n",
       "      <td>0.93</td>\n",
       "      <td>0.186500</td>\n",
       "      <td>0.458894</td>\n",
       "      <td>-0.868697</td>\n",
       "      <td>0.029780</td>\n",
       "      <td>0.475174</td>\n",
       "      <td>-0.879388</td>\n",
       "      <td>0.123</td>\n",
       "      <td>0.491</td>\n",
       "      <td>...</td>\n",
       "      <td>0</td>\n",
       "      <td>0</td>\n",
       "      <td>0</td>\n",
       "      <td>24</td>\n",
       "      <td>24</td>\n",
       "      <td>100</td>\n",
       "      <td>0.0</td>\n",
       "      <td>1</td>\n",
       "      <td>0</td>\n",
       "      <td>0</td>\n",
       "    </tr>\n",
       "    <tr>\n",
       "      <th>860063</th>\n",
       "      <td>44.480000</td>\n",
       "      <td>0.98</td>\n",
       "      <td>0.185974</td>\n",
       "      <td>0.464983</td>\n",
       "      <td>-0.865566</td>\n",
       "      <td>0.025003</td>\n",
       "      <td>0.481289</td>\n",
       "      <td>-0.876205</td>\n",
       "      <td>0.121</td>\n",
       "      <td>0.498</td>\n",
       "      <td>...</td>\n",
       "      <td>0</td>\n",
       "      <td>0</td>\n",
       "      <td>0</td>\n",
       "      <td>24</td>\n",
       "      <td>24</td>\n",
       "      <td>100</td>\n",
       "      <td>0.0</td>\n",
       "      <td>1</td>\n",
       "      <td>0</td>\n",
       "      <td>0</td>\n",
       "    </tr>\n",
       "  </tbody>\n",
       "</table>\n",
       "<p>787477 rows × 718 columns</p>\n",
       "</div>"
      ],
      "text/plain": [
       "        timestamp  confidence  gaze_0_x  gaze_0_y  gaze_0_z  gaze_1_x  \\\n",
       "6415     0.000000        0.98  0.326309  0.274022 -0.904674  0.158873   \n",
       "6416     0.040000        0.98  0.336460  0.274016 -0.900949  0.161493   \n",
       "6417     0.080000        0.98  0.341593  0.269892 -0.900263  0.166425   \n",
       "6418     0.120000        0.98  0.341751  0.269591 -0.900292  0.166547   \n",
       "6419     0.160000        0.98  0.341803  0.269438 -0.900319  0.166416   \n",
       "...           ...         ...       ...       ...       ...       ...   \n",
       "860059  44.320000        0.98  0.191839  0.410695 -0.891362  0.040223   \n",
       "860060  44.360001        0.98  0.189389  0.405606 -0.894212  0.039152   \n",
       "860061  44.400002        0.98  0.187418  0.443895 -0.876260  0.030524   \n",
       "860062  44.439999        0.93  0.186500  0.458894 -0.868697  0.029780   \n",
       "860063  44.480000        0.98  0.185974  0.464983 -0.865566  0.025003   \n",
       "\n",
       "        gaze_1_y  gaze_1_z  gaze_angle_x  gaze_angle_y  ...  AU26_c  AU28_c  \\\n",
       "6415    0.243419 -0.956821         0.255         0.271  ...       0       0   \n",
       "6416    0.241291 -0.956922         0.262         0.271  ...       0       0   \n",
       "6417    0.237461 -0.957035         0.267         0.267  ...       0       0   \n",
       "6418    0.237231 -0.957070         0.267         0.266  ...       0       0   \n",
       "6419    0.237016 -0.957146         0.267         0.266  ...       0       0   \n",
       "...          ...       ...           ...           ...  ...     ...     ...   \n",
       "860059  0.424845 -0.904372         0.129         0.435  ...       1       0   \n",
       "860060  0.419084 -0.907103         0.126         0.429  ...       1       0   \n",
       "860061  0.459217 -0.887799         0.123         0.473  ...       0       0   \n",
       "860062  0.475174 -0.879388         0.123         0.491  ...       0       0   \n",
       "860063  0.481289 -0.876205         0.121         0.498  ...       0       0   \n",
       "\n",
       "        AU45_c  question  person_id   WC  OtherP  y  positive_assumption  \\\n",
       "6415         0         1         28  119     0.0  0                    0   \n",
       "6416         0         1         28  119     0.0  0                    0   \n",
       "6417         0         1         28  119     0.0  0                    0   \n",
       "6418         0         1         28  119     0.0  0                    0   \n",
       "6419         0         1         28  119     0.0  0                    0   \n",
       "...        ...       ...        ...  ...     ... ..                  ...   \n",
       "860059       0        24         24  100     0.0  1                    0   \n",
       "860060       0        24         24  100     0.0  1                    0   \n",
       "860061       0        24         24  100     0.0  1                    0   \n",
       "860062       0        24         24  100     0.0  1                    0   \n",
       "860063       0        24         24  100     0.0  1                    0   \n",
       "\n",
       "        negative_assumption  \n",
       "6415                      0  \n",
       "6416                      0  \n",
       "6417                      0  \n",
       "6418                      0  \n",
       "6419                      0  \n",
       "...                     ...  \n",
       "860059                    0  \n",
       "860060                    0  \n",
       "860061                    0  \n",
       "860062                    0  \n",
       "860063                    0  \n",
       "\n",
       "[787477 rows x 718 columns]"
      ]
     },
     "execution_count": 16,
     "metadata": {
      "tags": []
     },
     "output_type": "execute_result"
    }
   ],
   "source": [
    "data"
   ]
  },
  {
   "cell_type": "code",
   "execution_count": null,
   "id": "c5c1b468",
   "metadata": {
    "id": "c5c1b468"
   },
   "outputs": [],
   "source": [
    "def get_feature_importances(data, shuffle, seed=None):\n",
    "    # Gather real features\n",
    "    train_features = [f for f in data if f not in ['y', 'question','WC','positive_assumption','negative_assumption']]\n",
    "    # Go over fold and keep track of CV score (train and valid) and feature importances\n",
    "    \n",
    "    # Shuffle target if required\n",
    "    y = data['y'].copy()\n",
    "    if shuffle:\n",
    "        # Here you could as well use a binomial distribution\n",
    "        y = data['y'].copy().sample(frac=1.0)\n",
    "    \n",
    "    # Fit LightGBM in RF mode, yes it's quicker than sklearn RandomForest\n",
    "    dtrain = lgb.Dataset(data[train_features], y, free_raw_data=False, silent=True)\n",
    "    lgb_params = {\n",
    "        'objective': 'binary',\n",
    "        'boosting_type': 'rf',\n",
    "        'subsample': 0.623,\n",
    "        'colsample_bytree': 0.7,\n",
    "        'num_leaves': 127,\n",
    "        'max_depth': 8,\n",
    "        'seed': seed,\n",
    "        'bagging_freq': 1,\n",
    "        'n_jobs': 4\n",
    "    }\n",
    "    \n",
    "    # Fit the model\n",
    "    clf = lgb.train(params=lgb_params, train_set=dtrain, num_boost_round=200)\n",
    "\n",
    "    # Get feature importances\n",
    "    imp_df = pd.DataFrame()\n",
    "    imp_df[\"feature\"] = list(train_features)\n",
    "    imp_df[\"importance_gain\"] = clf.feature_importance(importance_type='gain')\n",
    "    imp_df[\"importance_split\"] = clf.feature_importance(importance_type='split')\n",
    "    imp_df['trn_score'] = roc_auc_score(y, clf.predict(data[train_features]))\n",
    "    \n",
    "    return imp_df"
   ]
  },
  {
   "cell_type": "code",
   "execution_count": null,
   "id": "f719051b",
   "metadata": {
    "id": "f719051b",
    "outputId": "6c6881d4-9139-42fe-fd92-a20720302d8e"
   },
   "outputs": [
    {
     "name": "stdout",
     "output_type": "stream",
     "text": [
      "[LightGBM] [Info] Number of positive: 421357, number of negative: 366120\n",
      "[LightGBM] [Warning] Auto-choosing col-wise multi-threading, the overhead of testing was 2.064860 seconds.\n",
      "You can set `force_col_wise=true` to remove the overhead.\n",
      "[LightGBM] [Info] Total Bins 176490\n",
      "[LightGBM] [Info] Number of data points in the train set: 787477, number of used features: 713\n",
      "[LightGBM] [Info] [binary:BoostFromScore]: pavg=0.535072 -> initscore=0.140519\n",
      "[LightGBM] [Info] Start training from score 0.140519\n",
      "[LightGBM] [Warning] No further splits with positive gain, best gain: -inf\n",
      "[LightGBM] [Warning] No further splits with positive gain, best gain: -inf\n",
      "[LightGBM] [Warning] No further splits with positive gain, best gain: -inf\n",
      "[LightGBM] [Warning] No further splits with positive gain, best gain: -inf\n",
      "[LightGBM] [Warning] No further splits with positive gain, best gain: -inf\n",
      "[LightGBM] [Warning] No further splits with positive gain, best gain: -inf\n",
      "[LightGBM] [Warning] No further splits with positive gain, best gain: -inf\n",
      "[LightGBM] [Warning] No further splits with positive gain, best gain: -inf\n",
      "[LightGBM] [Warning] No further splits with positive gain, best gain: -inf\n",
      "[LightGBM] [Warning] No further splits with positive gain, best gain: -inf\n",
      "[LightGBM] [Warning] No further splits with positive gain, best gain: -inf\n",
      "[LightGBM] [Warning] No further splits with positive gain, best gain: -inf\n",
      "[LightGBM] [Warning] No further splits with positive gain, best gain: -inf\n",
      "[LightGBM] [Warning] No further splits with positive gain, best gain: -inf\n",
      "[LightGBM] [Warning] No further splits with positive gain, best gain: -inf\n",
      "[LightGBM] [Warning] No further splits with positive gain, best gain: -inf\n",
      "[LightGBM] [Warning] No further splits with positive gain, best gain: -inf\n",
      "[LightGBM] [Warning] No further splits with positive gain, best gain: -inf\n",
      "[LightGBM] [Warning] No further splits with positive gain, best gain: -inf\n",
      "[LightGBM] [Warning] No further splits with positive gain, best gain: -inf\n",
      "[LightGBM] [Warning] No further splits with positive gain, best gain: -inf\n",
      "[LightGBM] [Warning] No further splits with positive gain, best gain: -inf\n",
      "[LightGBM] [Warning] No further splits with positive gain, best gain: -inf\n",
      "[LightGBM] [Warning] No further splits with positive gain, best gain: -inf\n",
      "[LightGBM] [Warning] No further splits with positive gain, best gain: -inf\n",
      "[LightGBM] [Warning] No further splits with positive gain, best gain: -inf\n",
      "[LightGBM] [Warning] No further splits with positive gain, best gain: -inf\n",
      "[LightGBM] [Warning] No further splits with positive gain, best gain: -inf\n",
      "[LightGBM] [Warning] No further splits with positive gain, best gain: -inf\n",
      "[LightGBM] [Warning] No further splits with positive gain, best gain: -inf\n",
      "[LightGBM] [Warning] No further splits with positive gain, best gain: -inf\n",
      "[LightGBM] [Warning] No further splits with positive gain, best gain: -inf\n",
      "[LightGBM] [Warning] No further splits with positive gain, best gain: -inf\n",
      "[LightGBM] [Warning] No further splits with positive gain, best gain: -inf\n",
      "[LightGBM] [Warning] No further splits with positive gain, best gain: -inf\n",
      "[LightGBM] [Warning] No further splits with positive gain, best gain: -inf\n",
      "[LightGBM] [Warning] No further splits with positive gain, best gain: -inf\n",
      "[LightGBM] [Warning] No further splits with positive gain, best gain: -inf\n",
      "[LightGBM] [Warning] No further splits with positive gain, best gain: -inf\n",
      "[LightGBM] [Warning] No further splits with positive gain, best gain: -inf\n",
      "[LightGBM] [Warning] No further splits with positive gain, best gain: -inf\n",
      "[LightGBM] [Warning] No further splits with positive gain, best gain: -inf\n",
      "[LightGBM] [Warning] No further splits with positive gain, best gain: -inf\n",
      "[LightGBM] [Warning] No further splits with positive gain, best gain: -inf\n",
      "[LightGBM] [Warning] No further splits with positive gain, best gain: -inf\n",
      "[LightGBM] [Warning] No further splits with positive gain, best gain: -inf\n",
      "[LightGBM] [Warning] No further splits with positive gain, best gain: -inf\n",
      "[LightGBM] [Warning] No further splits with positive gain, best gain: -inf\n",
      "[LightGBM] [Warning] No further splits with positive gain, best gain: -inf\n",
      "[LightGBM] [Warning] No further splits with positive gain, best gain: -inf\n",
      "[LightGBM] [Warning] No further splits with positive gain, best gain: -inf\n",
      "[LightGBM] [Warning] No further splits with positive gain, best gain: -inf\n",
      "[LightGBM] [Warning] No further splits with positive gain, best gain: -inf\n",
      "[LightGBM] [Warning] No further splits with positive gain, best gain: -inf\n",
      "[LightGBM] [Warning] No further splits with positive gain, best gain: -inf\n",
      "[LightGBM] [Warning] No further splits with positive gain, best gain: -inf\n",
      "[LightGBM] [Warning] No further splits with positive gain, best gain: -inf\n",
      "[LightGBM] [Warning] No further splits with positive gain, best gain: -inf\n",
      "[LightGBM] [Warning] No further splits with positive gain, best gain: -inf\n",
      "[LightGBM] [Warning] No further splits with positive gain, best gain: -inf\n",
      "[LightGBM] [Warning] No further splits with positive gain, best gain: -inf\n",
      "[LightGBM] [Warning] No further splits with positive gain, best gain: -inf\n",
      "[LightGBM] [Warning] No further splits with positive gain, best gain: -inf\n",
      "[LightGBM] [Warning] No further splits with positive gain, best gain: -inf\n",
      "[LightGBM] [Warning] No further splits with positive gain, best gain: -inf\n",
      "[LightGBM] [Warning] No further splits with positive gain, best gain: -inf\n",
      "[LightGBM] [Warning] No further splits with positive gain, best gain: -inf\n",
      "[LightGBM] [Warning] No further splits with positive gain, best gain: -inf\n",
      "[LightGBM] [Warning] No further splits with positive gain, best gain: -inf\n",
      "[LightGBM] [Warning] No further splits with positive gain, best gain: -inf\n",
      "[LightGBM] [Warning] No further splits with positive gain, best gain: -inf\n",
      "[LightGBM] [Warning] No further splits with positive gain, best gain: -inf\n",
      "[LightGBM] [Warning] No further splits with positive gain, best gain: -inf\n",
      "[LightGBM] [Warning] No further splits with positive gain, best gain: -inf\n",
      "[LightGBM] [Warning] No further splits with positive gain, best gain: -inf\n",
      "[LightGBM] [Warning] No further splits with positive gain, best gain: -inf\n",
      "[LightGBM] [Warning] No further splits with positive gain, best gain: -inf\n",
      "[LightGBM] [Warning] No further splits with positive gain, best gain: -inf\n"
     ]
    }
   ],
   "source": [
    "np.random.seed(123)\n",
    "# Get the actual importance, i.e. without shuffling\n",
    "actual_imp_df = get_feature_importances(data=data, shuffle=False)"
   ]
  },
  {
   "cell_type": "code",
   "execution_count": null,
   "id": "93c53da0",
   "metadata": {
    "id": "93c53da0",
    "outputId": "ef8ccbd0-4e1b-41a6-e718-07d1c3db4a06"
   },
   "outputs": [
    {
     "data": {
      "text/plain": [
       "array([0.72580373])"
      ]
     },
     "execution_count": 30,
     "metadata": {
      "tags": []
     },
     "output_type": "execute_result"
    }
   ],
   "source": [
    "actual_imp_df.trn_score.unique()"
   ]
  },
  {
   "cell_type": "code",
   "execution_count": null,
   "id": "9c4becfe",
   "metadata": {
    "id": "9c4becfe",
    "outputId": "cd7e92ec-407b-4d72-f879-0bef5d28963e"
   },
   "outputs": [
    {
     "name": "stdout",
     "output_type": "stream",
     "text": [
      "[LightGBM] [Info] Number of positive: 421357, number of negative: 366120\n",
      "[LightGBM] [Warning] Auto-choosing col-wise multi-threading, the overhead of testing was 2.049123 seconds.\n",
      "You can set `force_col_wise=true` to remove the overhead.\n",
      "[LightGBM] [Info] Total Bins 176490\n",
      "[LightGBM] [Info] Number of data points in the train set: 787477, number of used features: 713\n",
      "[LightGBM] [Info] [binary:BoostFromScore]: pavg=0.535072 -> initscore=0.140519\n",
      "[LightGBM] [Info] Start training from score 0.140519\n",
      "[LightGBM] [Warning] No further splits with positive gain, best gain: -inf\n",
      "[LightGBM] [Warning] No further splits with positive gain, best gain: -inf\n",
      "[LightGBM] [Warning] No further splits with positive gain, best gain: -inf\n",
      "[LightGBM] [Warning] No further splits with positive gain, best gain: -inf\n",
      "[LightGBM] [Warning] No further splits with positive gain, best gain: -inf\n",
      "[LightGBM] [Warning] No further splits with positive gain, best gain: -inf\n",
      "[LightGBM] [Warning] No further splits with positive gain, best gain: -inf\n",
      "[LightGBM] [Warning] No further splits with positive gain, best gain: -inf\n",
      "[LightGBM] [Warning] No further splits with positive gain, best gain: -inf\n",
      "[LightGBM] [Warning] No further splits with positive gain, best gain: -inf\n",
      "[LightGBM] [Warning] No further splits with positive gain, best gain: -inf\n",
      "[LightGBM] [Warning] No further splits with positive gain, best gain: -inf\n",
      "[LightGBM] [Warning] No further splits with positive gain, best gain: -inf\n",
      "[LightGBM] [Warning] No further splits with positive gain, best gain: -inf\n",
      "[LightGBM] [Warning] No further splits with positive gain, best gain: -inf\n",
      "[LightGBM] [Warning] No further splits with positive gain, best gain: -inf\n",
      "[LightGBM] [Warning] No further splits with positive gain, best gain: -inf\n",
      "[LightGBM] [Warning] No further splits with positive gain, best gain: -inf\n",
      "[LightGBM] [Warning] No further splits with positive gain, best gain: -inf\n",
      "[LightGBM] [Warning] No further splits with positive gain, best gain: -inf\n",
      "[LightGBM] [Warning] No further splits with positive gain, best gain: -inf\n",
      "[LightGBM] [Warning] No further splits with positive gain, best gain: -inf\n",
      "[LightGBM] [Warning] No further splits with positive gain, best gain: -inf\n",
      "[LightGBM] [Warning] No further splits with positive gain, best gain: -inf\n",
      "[LightGBM] [Warning] No further splits with positive gain, best gain: -inf\n",
      "[LightGBM] [Warning] No further splits with positive gain, best gain: -inf\n",
      "[LightGBM] [Warning] No further splits with positive gain, best gain: -inf\n",
      "[LightGBM] [Warning] No further splits with positive gain, best gain: -inf\n",
      "[LightGBM] [Warning] No further splits with positive gain, best gain: -inf\n",
      "[LightGBM] [Warning] No further splits with positive gain, best gain: -inf\n",
      "[LightGBM] [Warning] No further splits with positive gain, best gain: -inf\n",
      "[LightGBM] [Warning] No further splits with positive gain, best gain: -inf\n",
      "[LightGBM] [Warning] No further splits with positive gain, best gain: -inf\n",
      "[LightGBM] [Warning] No further splits with positive gain, best gain: -inf\n",
      "[LightGBM] [Warning] No further splits with positive gain, best gain: -inf\n",
      "[LightGBM] [Warning] No further splits with positive gain, best gain: -inf\n",
      "[LightGBM] [Warning] No further splits with positive gain, best gain: -inf\n",
      "[LightGBM] [Warning] No further splits with positive gain, best gain: -inf\n",
      "[LightGBM] [Warning] No further splits with positive gain, best gain: -inf\n",
      "[LightGBM] [Warning] No further splits with positive gain, best gain: -inf\n",
      "[LightGBM] [Warning] No further splits with positive gain, best gain: -inf\n",
      "[LightGBM] [Warning] No further splits with positive gain, best gain: -inf\n",
      "[LightGBM] [Warning] No further splits with positive gain, best gain: -inf\n",
      "[LightGBM] [Warning] No further splits with positive gain, best gain: -inf\n",
      "[LightGBM] [Warning] No further splits with positive gain, best gain: -inf\n",
      "[LightGBM] [Warning] No further splits with positive gain, best gain: -inf\n",
      "[LightGBM] [Warning] No further splits with positive gain, best gain: -inf\n",
      "[LightGBM] [Warning] No further splits with positive gain, best gain: -inf\n",
      "[LightGBM] [Warning] No further splits with positive gain, best gain: -inf\n",
      "[LightGBM] [Warning] No further splits with positive gain, best gain: -inf\n",
      "[LightGBM] [Warning] No further splits with positive gain, best gain: -inf\n",
      "[LightGBM] [Warning] No further splits with positive gain, best gain: -inf\n",
      "[LightGBM] [Warning] No further splits with positive gain, best gain: -inf\n",
      "[LightGBM] [Warning] No further splits with positive gain, best gain: -inf\n",
      "[LightGBM] [Warning] No further splits with positive gain, best gain: -inf\n",
      "[LightGBM] [Warning] No further splits with positive gain, best gain: -inf\n",
      "[LightGBM] [Warning] No further splits with positive gain, best gain: -inf\n",
      "[LightGBM] [Warning] No further splits with positive gain, best gain: -inf\n",
      "[LightGBM] [Warning] No further splits with positive gain, best gain: -inf\n",
      "[LightGBM] [Warning] No further splits with positive gain, best gain: -inf\n",
      "[LightGBM] [Warning] No further splits with positive gain, best gain: -inf\n",
      "[LightGBM] [Warning] No further splits with positive gain, best gain: -inf\n",
      "[LightGBM] [Warning] No further splits with positive gain, best gain: -inf\n",
      "[LightGBM] [Warning] No further splits with positive gain, best gain: -inf\n",
      "[LightGBM] [Warning] No further splits with positive gain, best gain: -inf\n",
      "[LightGBM] [Warning] No further splits with positive gain, best gain: -inf\n",
      "[LightGBM] [Warning] No further splits with positive gain, best gain: -inf\n",
      "[LightGBM] [Warning] No further splits with positive gain, best gain: -inf\n",
      "[LightGBM] [Warning] No further splits with positive gain, best gain: -inf\n",
      "[LightGBM] [Warning] No further splits with positive gain, best gain: -inf\n",
      "[LightGBM] [Warning] No further splits with positive gain, best gain: -inf\n",
      "[LightGBM] [Warning] No further splits with positive gain, best gain: -inf\n",
      "[LightGBM] [Warning] No further splits with positive gain, best gain: -inf\n",
      "[LightGBM] [Warning] No further splits with positive gain, best gain: -inf\n",
      "[LightGBM] [Warning] No further splits with positive gain, best gain: -inf\n",
      "[LightGBM] [Warning] No further splits with positive gain, best gain: -inf\n",
      "Done with    1 of   80 (Spent   1.4 min)[LightGBM] [Info] Number of positive: 421357, number of negative: 366120\n",
      "[LightGBM] [Warning] Auto-choosing col-wise multi-threading, the overhead of testing was 2.087780 seconds.\n",
      "You can set `force_col_wise=true` to remove the overhead.\n",
      "[LightGBM] [Info] Total Bins 176490\n",
      "[LightGBM] [Info] Number of data points in the train set: 787477, number of used features: 713\n",
      "[LightGBM] [Info] [binary:BoostFromScore]: pavg=0.535072 -> initscore=0.140519\n",
      "[LightGBM] [Info] Start training from score 0.140519\n",
      "[LightGBM] [Warning] No further splits with positive gain, best gain: -inf\n",
      "[LightGBM] [Warning] No further splits with positive gain, best gain: -inf\n",
      "[LightGBM] [Warning] No further splits with positive gain, best gain: -inf\n",
      "[LightGBM] [Warning] No further splits with positive gain, best gain: -inf\n",
      "[LightGBM] [Warning] No further splits with positive gain, best gain: -inf\n",
      "[LightGBM] [Warning] No further splits with positive gain, best gain: -inf\n",
      "[LightGBM] [Warning] No further splits with positive gain, best gain: -inf\n",
      "[LightGBM] [Warning] No further splits with positive gain, best gain: -inf\n",
      "[LightGBM] [Warning] No further splits with positive gain, best gain: -inf\n",
      "[LightGBM] [Warning] No further splits with positive gain, best gain: -inf\n",
      "[LightGBM] [Warning] No further splits with positive gain, best gain: -inf\n",
      "[LightGBM] [Warning] No further splits with positive gain, best gain: -inf\n",
      "[LightGBM] [Warning] No further splits with positive gain, best gain: -inf\n",
      "[LightGBM] [Warning] No further splits with positive gain, best gain: -inf\n",
      "[LightGBM] [Warning] No further splits with positive gain, best gain: -inf\n",
      "[LightGBM] [Warning] No further splits with positive gain, best gain: -inf\n",
      "[LightGBM] [Warning] No further splits with positive gain, best gain: -inf\n",
      "[LightGBM] [Warning] No further splits with positive gain, best gain: -inf\n",
      "[LightGBM] [Warning] No further splits with positive gain, best gain: -inf\n",
      "[LightGBM] [Warning] No further splits with positive gain, best gain: -inf\n",
      "[LightGBM] [Warning] No further splits with positive gain, best gain: -inf\n",
      "[LightGBM] [Warning] No further splits with positive gain, best gain: -inf\n",
      "[LightGBM] [Warning] No further splits with positive gain, best gain: -inf\n",
      "[LightGBM] [Warning] No further splits with positive gain, best gain: -inf\n",
      "[LightGBM] [Warning] No further splits with positive gain, best gain: -inf\n",
      "[LightGBM] [Warning] No further splits with positive gain, best gain: -inf\n",
      "[LightGBM] [Warning] No further splits with positive gain, best gain: -inf\n",
      "[LightGBM] [Warning] No further splits with positive gain, best gain: -inf\n",
      "[LightGBM] [Warning] No further splits with positive gain, best gain: -inf\n",
      "[LightGBM] [Warning] No further splits with positive gain, best gain: -inf\n",
      "[LightGBM] [Warning] No further splits with positive gain, best gain: -inf\n",
      "[LightGBM] [Warning] No further splits with positive gain, best gain: -inf\n",
      "[LightGBM] [Warning] No further splits with positive gain, best gain: -inf\n",
      "[LightGBM] [Warning] No further splits with positive gain, best gain: -inf\n",
      "[LightGBM] [Warning] No further splits with positive gain, best gain: -inf\n",
      "[LightGBM] [Warning] No further splits with positive gain, best gain: -inf\n",
      "[LightGBM] [Warning] No further splits with positive gain, best gain: -inf\n",
      "[LightGBM] [Warning] No further splits with positive gain, best gain: -inf\n",
      "[LightGBM] [Warning] No further splits with positive gain, best gain: -inf\n",
      "[LightGBM] [Warning] No further splits with positive gain, best gain: -inf\n",
      "[LightGBM] [Warning] No further splits with positive gain, best gain: -inf\n",
      "[LightGBM] [Warning] No further splits with positive gain, best gain: -inf\n",
      "[LightGBM] [Warning] No further splits with positive gain, best gain: -inf\n",
      "[LightGBM] [Warning] No further splits with positive gain, best gain: -inf\n",
      "[LightGBM] [Warning] No further splits with positive gain, best gain: -inf\n",
      "[LightGBM] [Warning] No further splits with positive gain, best gain: -inf\n",
      "[LightGBM] [Warning] No further splits with positive gain, best gain: -inf\n",
      "[LightGBM] [Warning] No further splits with positive gain, best gain: -inf\n",
      "[LightGBM] [Warning] No further splits with positive gain, best gain: -inf\n",
      "[LightGBM] [Warning] No further splits with positive gain, best gain: -inf\n",
      "[LightGBM] [Warning] No further splits with positive gain, best gain: -inf\n",
      "[LightGBM] [Warning] No further splits with positive gain, best gain: -inf\n",
      "[LightGBM] [Warning] No further splits with positive gain, best gain: -inf\n",
      "[LightGBM] [Warning] No further splits with positive gain, best gain: -inf\n",
      "[LightGBM] [Warning] No further splits with positive gain, best gain: -inf\n",
      "[LightGBM] [Warning] No further splits with positive gain, best gain: -inf\n",
      "[LightGBM] [Warning] No further splits with positive gain, best gain: -inf\n",
      "[LightGBM] [Warning] No further splits with positive gain, best gain: -inf\n",
      "[LightGBM] [Warning] No further splits with positive gain, best gain: -inf\n",
      "[LightGBM] [Warning] No further splits with positive gain, best gain: -inf\n",
      "[LightGBM] [Warning] No further splits with positive gain, best gain: -inf\n",
      "[LightGBM] [Warning] No further splits with positive gain, best gain: -inf\n",
      "[LightGBM] [Warning] No further splits with positive gain, best gain: -inf\n",
      "[LightGBM] [Warning] No further splits with positive gain, best gain: -inf\n",
      "[LightGBM] [Warning] No further splits with positive gain, best gain: -inf\n",
      "[LightGBM] [Warning] No further splits with positive gain, best gain: -inf\n",
      "[LightGBM] [Warning] No further splits with positive gain, best gain: -inf\n",
      "[LightGBM] [Warning] No further splits with positive gain, best gain: -inf\n",
      "[LightGBM] [Warning] No further splits with positive gain, best gain: -inf\n",
      "[LightGBM] [Warning] No further splits with positive gain, best gain: -inf\n",
      "[LightGBM] [Warning] No further splits with positive gain, best gain: -inf\n",
      "[LightGBM] [Warning] No further splits with positive gain, best gain: -inf\n",
      "[LightGBM] [Warning] No further splits with positive gain, best gain: -inf\n",
      "[LightGBM] [Warning] No further splits with positive gain, best gain: -inf\n",
      "[LightGBM] [Warning] No further splits with positive gain, best gain: -inf\n",
      "[LightGBM] [Warning] No further splits with positive gain, best gain: -inf\n",
      "[LightGBM] [Warning] No further splits with positive gain, best gain: -inf\n",
      "[LightGBM] [Warning] No further splits with positive gain, best gain: -inf\n",
      "[LightGBM] [Warning] No further splits with positive gain, best gain: -inf\n",
      "[LightGBM] [Warning] No further splits with positive gain, best gain: -inf\n",
      "[LightGBM] [Warning] No further splits with positive gain, best gain: -inf\n",
      "[LightGBM] [Warning] No further splits with positive gain, best gain: -inf\n",
      "[LightGBM] [Warning] No further splits with positive gain, best gain: -inf\n",
      "[LightGBM] [Warning] No further splits with positive gain, best gain: -inf\n",
      "[LightGBM] [Warning] No further splits with positive gain, best gain: -inf\n",
      "Done with    2 of   80 (Spent   2.7 min)[LightGBM] [Info] Number of positive: 421357, number of negative: 366120\n",
      "[LightGBM] [Warning] Auto-choosing col-wise multi-threading, the overhead of testing was 2.140765 seconds.\n",
      "You can set `force_col_wise=true` to remove the overhead.\n",
      "[LightGBM] [Info] Total Bins 176490\n",
      "[LightGBM] [Info] Number of data points in the train set: 787477, number of used features: 713\n",
      "[LightGBM] [Info] [binary:BoostFromScore]: pavg=0.535072 -> initscore=0.140519\n",
      "[LightGBM] [Info] Start training from score 0.140519\n",
      "[LightGBM] [Warning] No further splits with positive gain, best gain: -inf\n",
      "[LightGBM] [Warning] No further splits with positive gain, best gain: -inf\n",
      "[LightGBM] [Warning] No further splits with positive gain, best gain: -inf\n",
      "[LightGBM] [Warning] No further splits with positive gain, best gain: -inf\n",
      "[LightGBM] [Warning] No further splits with positive gain, best gain: -inf\n",
      "[LightGBM] [Warning] No further splits with positive gain, best gain: -inf\n",
      "[LightGBM] [Warning] No further splits with positive gain, best gain: -inf\n",
      "[LightGBM] [Warning] No further splits with positive gain, best gain: -inf\n",
      "[LightGBM] [Warning] No further splits with positive gain, best gain: -inf\n",
      "[LightGBM] [Warning] No further splits with positive gain, best gain: -inf\n",
      "[LightGBM] [Warning] No further splits with positive gain, best gain: -inf\n",
      "[LightGBM] [Warning] No further splits with positive gain, best gain: -inf\n",
      "[LightGBM] [Warning] No further splits with positive gain, best gain: -inf\n",
      "[LightGBM] [Warning] No further splits with positive gain, best gain: -inf\n",
      "[LightGBM] [Warning] No further splits with positive gain, best gain: -inf\n",
      "[LightGBM] [Warning] No further splits with positive gain, best gain: -inf\n",
      "[LightGBM] [Warning] No further splits with positive gain, best gain: -inf\n",
      "[LightGBM] [Warning] No further splits with positive gain, best gain: -inf\n",
      "[LightGBM] [Warning] No further splits with positive gain, best gain: -inf\n",
      "[LightGBM] [Warning] No further splits with positive gain, best gain: -inf\n",
      "[LightGBM] [Warning] No further splits with positive gain, best gain: -inf\n",
      "[LightGBM] [Warning] No further splits with positive gain, best gain: -inf\n",
      "[LightGBM] [Warning] No further splits with positive gain, best gain: -inf\n",
      "[LightGBM] [Warning] No further splits with positive gain, best gain: -inf\n",
      "[LightGBM] [Warning] No further splits with positive gain, best gain: -inf\n",
      "[LightGBM] [Warning] No further splits with positive gain, best gain: -inf\n",
      "[LightGBM] [Warning] No further splits with positive gain, best gain: -inf\n",
      "[LightGBM] [Warning] No further splits with positive gain, best gain: -inf\n",
      "[LightGBM] [Warning] No further splits with positive gain, best gain: -inf\n",
      "[LightGBM] [Warning] No further splits with positive gain, best gain: -inf\n",
      "[LightGBM] [Warning] No further splits with positive gain, best gain: -inf\n",
      "[LightGBM] [Warning] No further splits with positive gain, best gain: -inf\n",
      "[LightGBM] [Warning] No further splits with positive gain, best gain: -inf\n",
      "[LightGBM] [Warning] No further splits with positive gain, best gain: -inf\n",
      "[LightGBM] [Warning] No further splits with positive gain, best gain: -inf\n",
      "[LightGBM] [Warning] No further splits with positive gain, best gain: -inf\n",
      "[LightGBM] [Warning] No further splits with positive gain, best gain: -inf\n",
      "[LightGBM] [Warning] No further splits with positive gain, best gain: -inf\n",
      "[LightGBM] [Warning] No further splits with positive gain, best gain: -inf\n",
      "[LightGBM] [Warning] No further splits with positive gain, best gain: -inf\n",
      "[LightGBM] [Warning] No further splits with positive gain, best gain: -inf\n",
      "[LightGBM] [Warning] No further splits with positive gain, best gain: -inf\n",
      "[LightGBM] [Warning] No further splits with positive gain, best gain: -inf\n",
      "[LightGBM] [Warning] No further splits with positive gain, best gain: -inf\n",
      "[LightGBM] [Warning] No further splits with positive gain, best gain: -inf\n",
      "[LightGBM] [Warning] No further splits with positive gain, best gain: -inf\n",
      "[LightGBM] [Warning] No further splits with positive gain, best gain: -inf\n",
      "[LightGBM] [Warning] No further splits with positive gain, best gain: -inf\n",
      "[LightGBM] [Warning] No further splits with positive gain, best gain: -inf\n",
      "[LightGBM] [Warning] No further splits with positive gain, best gain: -inf\n",
      "[LightGBM] [Warning] No further splits with positive gain, best gain: -inf\n",
      "[LightGBM] [Warning] No further splits with positive gain, best gain: -inf\n",
      "[LightGBM] [Warning] No further splits with positive gain, best gain: -inf\n",
      "[LightGBM] [Warning] No further splits with positive gain, best gain: -inf\n",
      "[LightGBM] [Warning] No further splits with positive gain, best gain: -inf\n",
      "[LightGBM] [Warning] No further splits with positive gain, best gain: -inf\n",
      "[LightGBM] [Warning] No further splits with positive gain, best gain: -inf\n",
      "[LightGBM] [Warning] No further splits with positive gain, best gain: -inf\n",
      "[LightGBM] [Warning] No further splits with positive gain, best gain: -inf\n",
      "[LightGBM] [Warning] No further splits with positive gain, best gain: -inf\n",
      "[LightGBM] [Warning] No further splits with positive gain, best gain: -inf\n",
      "[LightGBM] [Warning] No further splits with positive gain, best gain: -inf\n",
      "[LightGBM] [Warning] No further splits with positive gain, best gain: -inf\n",
      "[LightGBM] [Warning] No further splits with positive gain, best gain: -inf\n",
      "[LightGBM] [Warning] No further splits with positive gain, best gain: -inf\n",
      "[LightGBM] [Warning] No further splits with positive gain, best gain: -inf\n",
      "[LightGBM] [Warning] No further splits with positive gain, best gain: -inf\n",
      "[LightGBM] [Warning] No further splits with positive gain, best gain: -inf\n",
      "Done with    3 of   80 (Spent   4.1 min)[LightGBM] [Info] Number of positive: 421357, number of negative: 366120\n",
      "[LightGBM] [Warning] Auto-choosing col-wise multi-threading, the overhead of testing was 2.062056 seconds.\n",
      "You can set `force_col_wise=true` to remove the overhead.\n",
      "[LightGBM] [Info] Total Bins 176490\n",
      "[LightGBM] [Info] Number of data points in the train set: 787477, number of used features: 713\n",
      "[LightGBM] [Info] [binary:BoostFromScore]: pavg=0.535072 -> initscore=0.140519\n",
      "[LightGBM] [Info] Start training from score 0.140519\n",
      "[LightGBM] [Warning] No further splits with positive gain, best gain: -inf\n",
      "[LightGBM] [Warning] No further splits with positive gain, best gain: -inf\n",
      "[LightGBM] [Warning] No further splits with positive gain, best gain: -inf\n",
      "[LightGBM] [Warning] No further splits with positive gain, best gain: -inf\n",
      "[LightGBM] [Warning] No further splits with positive gain, best gain: -inf\n",
      "[LightGBM] [Warning] No further splits with positive gain, best gain: -inf\n",
      "[LightGBM] [Warning] No further splits with positive gain, best gain: -inf\n",
      "[LightGBM] [Warning] No further splits with positive gain, best gain: -inf\n",
      "[LightGBM] [Warning] No further splits with positive gain, best gain: -inf\n",
      "[LightGBM] [Warning] No further splits with positive gain, best gain: -inf\n",
      "[LightGBM] [Warning] No further splits with positive gain, best gain: -inf\n",
      "[LightGBM] [Warning] No further splits with positive gain, best gain: -inf\n",
      "[LightGBM] [Warning] No further splits with positive gain, best gain: -inf\n",
      "[LightGBM] [Warning] No further splits with positive gain, best gain: -inf\n",
      "[LightGBM] [Warning] No further splits with positive gain, best gain: -inf\n",
      "[LightGBM] [Warning] No further splits with positive gain, best gain: -inf\n",
      "[LightGBM] [Warning] No further splits with positive gain, best gain: -inf\n",
      "[LightGBM] [Warning] No further splits with positive gain, best gain: -inf\n",
      "[LightGBM] [Warning] No further splits with positive gain, best gain: -inf\n",
      "[LightGBM] [Warning] No further splits with positive gain, best gain: -inf\n",
      "[LightGBM] [Warning] No further splits with positive gain, best gain: -inf\n",
      "[LightGBM] [Warning] No further splits with positive gain, best gain: -inf\n",
      "[LightGBM] [Warning] No further splits with positive gain, best gain: -inf\n",
      "[LightGBM] [Warning] No further splits with positive gain, best gain: -inf\n",
      "[LightGBM] [Warning] No further splits with positive gain, best gain: -inf\n",
      "[LightGBM] [Warning] No further splits with positive gain, best gain: -inf\n",
      "[LightGBM] [Warning] No further splits with positive gain, best gain: -inf\n",
      "[LightGBM] [Warning] No further splits with positive gain, best gain: -inf\n",
      "[LightGBM] [Warning] No further splits with positive gain, best gain: -inf\n",
      "[LightGBM] [Warning] No further splits with positive gain, best gain: -inf\n",
      "[LightGBM] [Warning] No further splits with positive gain, best gain: -inf\n",
      "[LightGBM] [Warning] No further splits with positive gain, best gain: -inf\n",
      "[LightGBM] [Warning] No further splits with positive gain, best gain: -inf\n",
      "[LightGBM] [Warning] No further splits with positive gain, best gain: -inf\n",
      "[LightGBM] [Warning] No further splits with positive gain, best gain: -inf\n",
      "[LightGBM] [Warning] No further splits with positive gain, best gain: -inf\n",
      "[LightGBM] [Warning] No further splits with positive gain, best gain: -inf\n",
      "[LightGBM] [Warning] No further splits with positive gain, best gain: -inf\n",
      "[LightGBM] [Warning] No further splits with positive gain, best gain: -inf\n",
      "[LightGBM] [Warning] No further splits with positive gain, best gain: -inf\n",
      "[LightGBM] [Warning] No further splits with positive gain, best gain: -inf\n",
      "[LightGBM] [Warning] No further splits with positive gain, best gain: -inf\n",
      "[LightGBM] [Warning] No further splits with positive gain, best gain: -inf\n",
      "[LightGBM] [Warning] No further splits with positive gain, best gain: -inf\n",
      "[LightGBM] [Warning] No further splits with positive gain, best gain: -inf\n",
      "[LightGBM] [Warning] No further splits with positive gain, best gain: -inf\n",
      "[LightGBM] [Warning] No further splits with positive gain, best gain: -inf\n",
      "[LightGBM] [Warning] No further splits with positive gain, best gain: -inf\n",
      "[LightGBM] [Warning] No further splits with positive gain, best gain: -inf\n",
      "[LightGBM] [Warning] No further splits with positive gain, best gain: -inf\n",
      "[LightGBM] [Warning] No further splits with positive gain, best gain: -inf\n",
      "[LightGBM] [Warning] No further splits with positive gain, best gain: -inf\n",
      "[LightGBM] [Warning] No further splits with positive gain, best gain: -inf\n",
      "[LightGBM] [Warning] No further splits with positive gain, best gain: -inf\n",
      "[LightGBM] [Warning] No further splits with positive gain, best gain: -inf\n",
      "[LightGBM] [Warning] No further splits with positive gain, best gain: -inf\n",
      "[LightGBM] [Warning] No further splits with positive gain, best gain: -inf\n",
      "[LightGBM] [Warning] No further splits with positive gain, best gain: -inf\n",
      "[LightGBM] [Warning] No further splits with positive gain, best gain: -inf\n",
      "[LightGBM] [Warning] No further splits with positive gain, best gain: -inf\n",
      "[LightGBM] [Warning] No further splits with positive gain, best gain: -inf\n",
      "[LightGBM] [Warning] No further splits with positive gain, best gain: -inf\n",
      "[LightGBM] [Warning] No further splits with positive gain, best gain: -inf\n",
      "[LightGBM] [Warning] No further splits with positive gain, best gain: -inf\n",
      "[LightGBM] [Warning] No further splits with positive gain, best gain: -inf\n",
      "[LightGBM] [Warning] No further splits with positive gain, best gain: -inf\n",
      "[LightGBM] [Warning] No further splits with positive gain, best gain: -inf\n",
      "[LightGBM] [Warning] No further splits with positive gain, best gain: -inf\n",
      "[LightGBM] [Warning] No further splits with positive gain, best gain: -inf\n",
      "[LightGBM] [Warning] No further splits with positive gain, best gain: -inf\n",
      "[LightGBM] [Warning] No further splits with positive gain, best gain: -inf\n",
      "[LightGBM] [Warning] No further splits with positive gain, best gain: -inf\n",
      "[LightGBM] [Warning] No further splits with positive gain, best gain: -inf\n",
      "[LightGBM] [Warning] No further splits with positive gain, best gain: -inf\n",
      "[LightGBM] [Warning] No further splits with positive gain, best gain: -inf\n",
      "[LightGBM] [Warning] No further splits with positive gain, best gain: -inf\n",
      "[LightGBM] [Warning] No further splits with positive gain, best gain: -inf\n",
      "[LightGBM] [Warning] No further splits with positive gain, best gain: -inf\n",
      "[LightGBM] [Warning] No further splits with positive gain, best gain: -inf\n",
      "[LightGBM] [Warning] No further splits with positive gain, best gain: -inf\n",
      "[LightGBM] [Warning] No further splits with positive gain, best gain: -inf\n",
      "[LightGBM] [Warning] No further splits with positive gain, best gain: -inf\n",
      "[LightGBM] [Warning] No further splits with positive gain, best gain: -inf\n",
      "[LightGBM] [Warning] No further splits with positive gain, best gain: -inf\n",
      "[LightGBM] [Warning] No further splits with positive gain, best gain: -inf\n",
      "[LightGBM] [Warning] No further splits with positive gain, best gain: -inf\n",
      "[LightGBM] [Warning] No further splits with positive gain, best gain: -inf\n",
      "[LightGBM] [Warning] No further splits with positive gain, best gain: -inf\n",
      "[LightGBM] [Warning] No further splits with positive gain, best gain: -inf\n",
      "[LightGBM] [Warning] No further splits with positive gain, best gain: -inf\n",
      "[LightGBM] [Warning] No further splits with positive gain, best gain: -inf\n",
      "Done with    4 of   80 (Spent   5.5 min)"
     ]
    },
    {
     "ename": "KeyboardInterrupt",
     "evalue": "",
     "output_type": "error",
     "traceback": [
      "\u001b[1;31m---------------------------------------------------------------------------\u001b[0m",
      "\u001b[1;31mKeyboardInterrupt\u001b[0m                         Traceback (most recent call last)",
      "\u001b[1;32m<ipython-input-31-15ef08f258e3>\u001b[0m in \u001b[0;36m<module>\u001b[1;34m\u001b[0m\n\u001b[0;32m      6\u001b[0m \u001b[1;32mfor\u001b[0m \u001b[0mi\u001b[0m \u001b[1;32min\u001b[0m \u001b[0mrange\u001b[0m\u001b[1;33m(\u001b[0m\u001b[0mnb_runs\u001b[0m\u001b[1;33m)\u001b[0m\u001b[1;33m:\u001b[0m\u001b[1;33m\u001b[0m\u001b[1;33m\u001b[0m\u001b[0m\n\u001b[0;32m      7\u001b[0m     \u001b[1;31m# Get current run importances\u001b[0m\u001b[1;33m\u001b[0m\u001b[1;33m\u001b[0m\u001b[1;33m\u001b[0m\u001b[0m\n\u001b[1;32m----> 8\u001b[1;33m     \u001b[0mimp_df\u001b[0m \u001b[1;33m=\u001b[0m \u001b[0mget_feature_importances\u001b[0m\u001b[1;33m(\u001b[0m\u001b[0mdata\u001b[0m\u001b[1;33m=\u001b[0m\u001b[0mdata\u001b[0m\u001b[1;33m,\u001b[0m \u001b[0mshuffle\u001b[0m\u001b[1;33m=\u001b[0m\u001b[1;32mTrue\u001b[0m\u001b[1;33m)\u001b[0m\u001b[1;33m\u001b[0m\u001b[1;33m\u001b[0m\u001b[0m\n\u001b[0m\u001b[0;32m      9\u001b[0m     \u001b[0mimp_df\u001b[0m\u001b[1;33m[\u001b[0m\u001b[1;34m'run'\u001b[0m\u001b[1;33m]\u001b[0m \u001b[1;33m=\u001b[0m \u001b[0mi\u001b[0m \u001b[1;33m+\u001b[0m \u001b[1;36m1\u001b[0m\u001b[1;33m\u001b[0m\u001b[1;33m\u001b[0m\u001b[0m\n\u001b[0;32m     10\u001b[0m     \u001b[1;31m# Concat the latest importances with the old ones\u001b[0m\u001b[1;33m\u001b[0m\u001b[1;33m\u001b[0m\u001b[1;33m\u001b[0m\u001b[0m\n",
      "\u001b[1;32m<ipython-input-27-bea3c00c78bd>\u001b[0m in \u001b[0;36mget_feature_importances\u001b[1;34m(data, shuffle, seed)\u001b[0m\n\u001b[0;32m     25\u001b[0m \u001b[1;33m\u001b[0m\u001b[0m\n\u001b[0;32m     26\u001b[0m     \u001b[1;31m# Fit the model\u001b[0m\u001b[1;33m\u001b[0m\u001b[1;33m\u001b[0m\u001b[1;33m\u001b[0m\u001b[0m\n\u001b[1;32m---> 27\u001b[1;33m     \u001b[0mclf\u001b[0m \u001b[1;33m=\u001b[0m \u001b[0mlgb\u001b[0m\u001b[1;33m.\u001b[0m\u001b[0mtrain\u001b[0m\u001b[1;33m(\u001b[0m\u001b[0mparams\u001b[0m\u001b[1;33m=\u001b[0m\u001b[0mlgb_params\u001b[0m\u001b[1;33m,\u001b[0m \u001b[0mtrain_set\u001b[0m\u001b[1;33m=\u001b[0m\u001b[0mdtrain\u001b[0m\u001b[1;33m,\u001b[0m \u001b[0mnum_boost_round\u001b[0m\u001b[1;33m=\u001b[0m\u001b[1;36m200\u001b[0m\u001b[1;33m)\u001b[0m\u001b[1;33m\u001b[0m\u001b[1;33m\u001b[0m\u001b[0m\n\u001b[0m\u001b[0;32m     28\u001b[0m \u001b[1;33m\u001b[0m\u001b[0m\n\u001b[0;32m     29\u001b[0m     \u001b[1;31m# Get feature importances\u001b[0m\u001b[1;33m\u001b[0m\u001b[1;33m\u001b[0m\u001b[1;33m\u001b[0m\u001b[0m\n",
      "\u001b[1;32mC:\\ProgramData\\Anaconda3\\lib\\site-packages\\lightgbm\\engine.py\u001b[0m in \u001b[0;36mtrain\u001b[1;34m(params, train_set, num_boost_round, valid_sets, valid_names, fobj, feval, init_model, feature_name, categorical_feature, early_stopping_rounds, evals_result, verbose_eval, learning_rates, keep_training_booster, callbacks)\u001b[0m\n\u001b[0;32m    226\u001b[0m     \u001b[1;31m# construct booster\u001b[0m\u001b[1;33m\u001b[0m\u001b[1;33m\u001b[0m\u001b[1;33m\u001b[0m\u001b[0m\n\u001b[0;32m    227\u001b[0m     \u001b[1;32mtry\u001b[0m\u001b[1;33m:\u001b[0m\u001b[1;33m\u001b[0m\u001b[1;33m\u001b[0m\u001b[0m\n\u001b[1;32m--> 228\u001b[1;33m         \u001b[0mbooster\u001b[0m \u001b[1;33m=\u001b[0m \u001b[0mBooster\u001b[0m\u001b[1;33m(\u001b[0m\u001b[0mparams\u001b[0m\u001b[1;33m=\u001b[0m\u001b[0mparams\u001b[0m\u001b[1;33m,\u001b[0m \u001b[0mtrain_set\u001b[0m\u001b[1;33m=\u001b[0m\u001b[0mtrain_set\u001b[0m\u001b[1;33m)\u001b[0m\u001b[1;33m\u001b[0m\u001b[1;33m\u001b[0m\u001b[0m\n\u001b[0m\u001b[0;32m    229\u001b[0m         \u001b[1;32mif\u001b[0m \u001b[0mis_valid_contain_train\u001b[0m\u001b[1;33m:\u001b[0m\u001b[1;33m\u001b[0m\u001b[1;33m\u001b[0m\u001b[0m\n\u001b[0;32m    230\u001b[0m             \u001b[0mbooster\u001b[0m\u001b[1;33m.\u001b[0m\u001b[0mset_train_data_name\u001b[0m\u001b[1;33m(\u001b[0m\u001b[0mtrain_data_name\u001b[0m\u001b[1;33m)\u001b[0m\u001b[1;33m\u001b[0m\u001b[1;33m\u001b[0m\u001b[0m\n",
      "\u001b[1;32mC:\\ProgramData\\Anaconda3\\lib\\site-packages\\lightgbm\\basic.py\u001b[0m in \u001b[0;36m__init__\u001b[1;34m(self, params, train_set, model_file, model_str, silent)\u001b[0m\n\u001b[0;32m   2227\u001b[0m                 )\n\u001b[0;32m   2228\u001b[0m             \u001b[1;31m# construct booster object\u001b[0m\u001b[1;33m\u001b[0m\u001b[1;33m\u001b[0m\u001b[1;33m\u001b[0m\u001b[0m\n\u001b[1;32m-> 2229\u001b[1;33m             \u001b[0mtrain_set\u001b[0m\u001b[1;33m.\u001b[0m\u001b[0mconstruct\u001b[0m\u001b[1;33m(\u001b[0m\u001b[1;33m)\u001b[0m\u001b[1;33m\u001b[0m\u001b[1;33m\u001b[0m\u001b[0m\n\u001b[0m\u001b[0;32m   2230\u001b[0m             \u001b[1;31m# copy the parameters from train_set\u001b[0m\u001b[1;33m\u001b[0m\u001b[1;33m\u001b[0m\u001b[1;33m\u001b[0m\u001b[0m\n\u001b[0;32m   2231\u001b[0m             \u001b[0mparams\u001b[0m\u001b[1;33m.\u001b[0m\u001b[0mupdate\u001b[0m\u001b[1;33m(\u001b[0m\u001b[0mtrain_set\u001b[0m\u001b[1;33m.\u001b[0m\u001b[0mget_params\u001b[0m\u001b[1;33m(\u001b[0m\u001b[1;33m)\u001b[0m\u001b[1;33m)\u001b[0m\u001b[1;33m\u001b[0m\u001b[1;33m\u001b[0m\u001b[0m\n",
      "\u001b[1;32mC:\\ProgramData\\Anaconda3\\lib\\site-packages\\lightgbm\\basic.py\u001b[0m in \u001b[0;36mconstruct\u001b[1;34m(self)\u001b[0m\n\u001b[0;32m   1466\u001b[0m             \u001b[1;32melse\u001b[0m\u001b[1;33m:\u001b[0m\u001b[1;33m\u001b[0m\u001b[1;33m\u001b[0m\u001b[0m\n\u001b[0;32m   1467\u001b[0m                 \u001b[1;31m# create train\u001b[0m\u001b[1;33m\u001b[0m\u001b[1;33m\u001b[0m\u001b[1;33m\u001b[0m\u001b[0m\n\u001b[1;32m-> 1468\u001b[1;33m                 self._lazy_init(self.data, label=self.label,\n\u001b[0m\u001b[0;32m   1469\u001b[0m                                 \u001b[0mweight\u001b[0m\u001b[1;33m=\u001b[0m\u001b[0mself\u001b[0m\u001b[1;33m.\u001b[0m\u001b[0mweight\u001b[0m\u001b[1;33m,\u001b[0m \u001b[0mgroup\u001b[0m\u001b[1;33m=\u001b[0m\u001b[0mself\u001b[0m\u001b[1;33m.\u001b[0m\u001b[0mgroup\u001b[0m\u001b[1;33m,\u001b[0m\u001b[1;33m\u001b[0m\u001b[1;33m\u001b[0m\u001b[0m\n\u001b[0;32m   1470\u001b[0m                                 \u001b[0minit_score\u001b[0m\u001b[1;33m=\u001b[0m\u001b[0mself\u001b[0m\u001b[1;33m.\u001b[0m\u001b[0minit_score\u001b[0m\u001b[1;33m,\u001b[0m \u001b[0mpredictor\u001b[0m\u001b[1;33m=\u001b[0m\u001b[0mself\u001b[0m\u001b[1;33m.\u001b[0m\u001b[0m_predictor\u001b[0m\u001b[1;33m,\u001b[0m\u001b[1;33m\u001b[0m\u001b[1;33m\u001b[0m\u001b[0m\n",
      "\u001b[1;32mC:\\ProgramData\\Anaconda3\\lib\\site-packages\\lightgbm\\basic.py\u001b[0m in \u001b[0;36m_lazy_init\u001b[1;34m(self, data, label, reference, weight, group, init_score, predictor, silent, feature_name, categorical_feature, params)\u001b[0m\n\u001b[0;32m   1268\u001b[0m             \u001b[0mself\u001b[0m\u001b[1;33m.\u001b[0m\u001b[0m__init_from_csc\u001b[0m\u001b[1;33m(\u001b[0m\u001b[0mdata\u001b[0m\u001b[1;33m,\u001b[0m \u001b[0mparams_str\u001b[0m\u001b[1;33m,\u001b[0m \u001b[0mref_dataset\u001b[0m\u001b[1;33m)\u001b[0m\u001b[1;33m\u001b[0m\u001b[1;33m\u001b[0m\u001b[0m\n\u001b[0;32m   1269\u001b[0m         \u001b[1;32melif\u001b[0m \u001b[0misinstance\u001b[0m\u001b[1;33m(\u001b[0m\u001b[0mdata\u001b[0m\u001b[1;33m,\u001b[0m \u001b[0mnp\u001b[0m\u001b[1;33m.\u001b[0m\u001b[0mndarray\u001b[0m\u001b[1;33m)\u001b[0m\u001b[1;33m:\u001b[0m\u001b[1;33m\u001b[0m\u001b[1;33m\u001b[0m\u001b[0m\n\u001b[1;32m-> 1270\u001b[1;33m             \u001b[0mself\u001b[0m\u001b[1;33m.\u001b[0m\u001b[0m__init_from_np2d\u001b[0m\u001b[1;33m(\u001b[0m\u001b[0mdata\u001b[0m\u001b[1;33m,\u001b[0m \u001b[0mparams_str\u001b[0m\u001b[1;33m,\u001b[0m \u001b[0mref_dataset\u001b[0m\u001b[1;33m)\u001b[0m\u001b[1;33m\u001b[0m\u001b[1;33m\u001b[0m\u001b[0m\n\u001b[0m\u001b[0;32m   1271\u001b[0m         \u001b[1;32melif\u001b[0m \u001b[0misinstance\u001b[0m\u001b[1;33m(\u001b[0m\u001b[0mdata\u001b[0m\u001b[1;33m,\u001b[0m \u001b[0mlist\u001b[0m\u001b[1;33m)\u001b[0m \u001b[1;32mand\u001b[0m \u001b[0mlen\u001b[0m\u001b[1;33m(\u001b[0m\u001b[0mdata\u001b[0m\u001b[1;33m)\u001b[0m \u001b[1;33m>\u001b[0m \u001b[1;36m0\u001b[0m \u001b[1;32mand\u001b[0m \u001b[0mall\u001b[0m\u001b[1;33m(\u001b[0m\u001b[0misinstance\u001b[0m\u001b[1;33m(\u001b[0m\u001b[0mx\u001b[0m\u001b[1;33m,\u001b[0m \u001b[0mnp\u001b[0m\u001b[1;33m.\u001b[0m\u001b[0mndarray\u001b[0m\u001b[1;33m)\u001b[0m \u001b[1;32mfor\u001b[0m \u001b[0mx\u001b[0m \u001b[1;32min\u001b[0m \u001b[0mdata\u001b[0m\u001b[1;33m)\u001b[0m\u001b[1;33m:\u001b[0m\u001b[1;33m\u001b[0m\u001b[1;33m\u001b[0m\u001b[0m\n\u001b[0;32m   1272\u001b[0m             \u001b[0mself\u001b[0m\u001b[1;33m.\u001b[0m\u001b[0m__init_from_list_np2d\u001b[0m\u001b[1;33m(\u001b[0m\u001b[0mdata\u001b[0m\u001b[1;33m,\u001b[0m \u001b[0mparams_str\u001b[0m\u001b[1;33m,\u001b[0m \u001b[0mref_dataset\u001b[0m\u001b[1;33m)\u001b[0m\u001b[1;33m\u001b[0m\u001b[1;33m\u001b[0m\u001b[0m\n",
      "\u001b[1;32mC:\\ProgramData\\Anaconda3\\lib\\site-packages\\lightgbm\\basic.py\u001b[0m in \u001b[0;36m__init_from_np2d\u001b[1;34m(self, mat, params_str, ref_dataset)\u001b[0m\n\u001b[0;32m   1310\u001b[0m \u001b[1;33m\u001b[0m\u001b[0m\n\u001b[0;32m   1311\u001b[0m         \u001b[0mptr_data\u001b[0m\u001b[1;33m,\u001b[0m \u001b[0mtype_ptr_data\u001b[0m\u001b[1;33m,\u001b[0m \u001b[0m_\u001b[0m \u001b[1;33m=\u001b[0m \u001b[0mc_float_array\u001b[0m\u001b[1;33m(\u001b[0m\u001b[0mdata\u001b[0m\u001b[1;33m)\u001b[0m\u001b[1;33m\u001b[0m\u001b[1;33m\u001b[0m\u001b[0m\n\u001b[1;32m-> 1312\u001b[1;33m         _safe_call(_LIB.LGBM_DatasetCreateFromMat(\n\u001b[0m\u001b[0;32m   1313\u001b[0m             \u001b[0mptr_data\u001b[0m\u001b[1;33m,\u001b[0m\u001b[1;33m\u001b[0m\u001b[1;33m\u001b[0m\u001b[0m\n\u001b[0;32m   1314\u001b[0m             \u001b[0mctypes\u001b[0m\u001b[1;33m.\u001b[0m\u001b[0mc_int\u001b[0m\u001b[1;33m(\u001b[0m\u001b[0mtype_ptr_data\u001b[0m\u001b[1;33m)\u001b[0m\u001b[1;33m,\u001b[0m\u001b[1;33m\u001b[0m\u001b[1;33m\u001b[0m\u001b[0m\n",
      "\u001b[1;31mKeyboardInterrupt\u001b[0m: "
     ]
    }
   ],
   "source": [
    "null_imp_df = pd.DataFrame()\n",
    "nb_runs = 80\n",
    "import time\n",
    "start = time.time()\n",
    "dsp = ''\n",
    "for i in range(nb_runs):\n",
    "    # Get current run importances\n",
    "    imp_df = get_feature_importances(data=data, shuffle=True)\n",
    "    imp_df['run'] = i + 1 \n",
    "    # Concat the latest importances with the old ones\n",
    "    null_imp_df = pd.concat([null_imp_df, imp_df], axis=0)\n",
    "    # Erase previous message\n",
    "    for l in range(len(dsp)):\n",
    "        print('\\b', end='', flush=True)\n",
    "    # Display current run and time used\n",
    "    spent = (time.time() - start) / 60\n",
    "    dsp = 'Done with %4d of %4d (Spent %5.1f min)' % (i + 1, nb_runs, spent)\n",
    "    print(dsp, end='', flush=True)"
   ]
  },
  {
   "cell_type": "code",
   "execution_count": null,
   "id": "b4a745e2",
   "metadata": {
    "id": "b4a745e2"
   },
   "outputs": [],
   "source": [
    "null_imp_df.head()"
   ]
  },
  {
   "cell_type": "code",
   "execution_count": null,
   "id": "5c2e5282",
   "metadata": {
    "id": "5c2e5282"
   },
   "outputs": [],
   "source": [
    "def display_distributions(actual_imp_df_, null_imp_df_, feature_):\n",
    "    plt.figure(figsize=(13, 6))\n",
    "    gs = gridspec.GridSpec(1, 2)\n",
    "    # Plot Split importances\n",
    "    ax = plt.subplot(gs[0, 0])\n",
    "    a = ax.hist(null_imp_df_.loc[null_imp_df_['feature'] == feature_, 'importance_split'].values, label='Null importances')\n",
    "    ax.vlines(x=actual_imp_df_.loc[actual_imp_df_['feature'] == feature_, 'importance_split'].mean(), \n",
    "               ymin=0, ymax=np.max(a[0]), color='r',linewidth=10, label='Real Target')\n",
    "    ax.legend()\n",
    "    ax.set_title('Split Importance of %s' % feature_.upper(), fontweight='bold')\n",
    "    plt.xlabel('Null Importance (split) Distribution for %s ' % feature_.upper())\n",
    "    # Plot Gain importances\n",
    "    ax = plt.subplot(gs[0, 1])\n",
    "    a = ax.hist(null_imp_df_.loc[null_imp_df_['feature'] == feature_, 'importance_gain'].values, label='Null importances')\n",
    "    ax.vlines(x=actual_imp_df_.loc[actual_imp_df_['feature'] == feature_, 'importance_gain'].mean(), \n",
    "               ymin=0, ymax=np.max(a[0]), color='r',linewidth=10, label='Real Target')\n",
    "    ax.legend()\n",
    "    ax.set_title('Gain Importance of %s' % feature_.upper(), fontweight='bold')\n",
    "    plt.xlabel('Null Importance (gain) Distribution for %s ' % feature_.upper())"
   ]
  },
  {
   "cell_type": "code",
   "execution_count": null,
   "id": "3b5b3d6e",
   "metadata": {
    "id": "3b5b3d6e"
   },
   "outputs": [],
   "source": [
    "display_distributions(actual_imp_df_=actual_imp_df, null_imp_df_=null_imp_df, feature_='LIVINGAPARTMENTS_AVG')"
   ]
  },
  {
   "cell_type": "code",
   "execution_count": null,
   "id": "8fde625b",
   "metadata": {
    "id": "8fde625b"
   },
   "outputs": [],
   "source": [
    "feature_scores = []\n",
    "for _f in actual_imp_df['feature'].unique():\n",
    "    f_null_imps_gain = null_imp_df.loc[null_imp_df['feature'] == _f, 'importance_gain'].values\n",
    "    f_act_imps_gain = actual_imp_df.loc[actual_imp_df['feature'] == _f, 'importance_gain'].mean()\n",
    "    gain_score = np.log(1e-10 + f_act_imps_gain / (1 + np.percentile(f_null_imps_gain, 75)))  # Avoid didvide by zero\n",
    "    f_null_imps_split = null_imp_df.loc[null_imp_df['feature'] == _f, 'importance_split'].values\n",
    "    f_act_imps_split = actual_imp_df.loc[actual_imp_df['feature'] == _f, 'importance_split'].mean()\n",
    "    split_score = np.log(1e-10 + f_act_imps_split / (1 + np.percentile(f_null_imps_split, 75)))  # Avoid didvide by zero\n",
    "    feature_scores.append((_f, split_score, gain_score))\n",
    "\n",
    "scores_df = pd.DataFrame(feature_scores, columns=['feature', 'split_score', 'gain_score'])\n",
    "\n",
    "plt.figure(figsize=(16, 16))\n",
    "gs = gridspec.GridSpec(1, 2)\n",
    "# Plot Split importances\n",
    "ax = plt.subplot(gs[0, 0])\n",
    "sns.barplot(x='split_score', y='feature', data=scores_df.sort_values('split_score', ascending=False).iloc[0:70], ax=ax)\n",
    "ax.set_title('Feature scores wrt split importances', fontweight='bold', fontsize=14)\n",
    "# Plot Gain importances\n",
    "ax = plt.subplot(gs[0, 1])\n",
    "sns.barplot(x='gain_score', y='feature', data=scores_df.sort_values('gain_score', ascending=False).iloc[0:70], ax=ax)\n",
    "ax.set_title('Feature scores wrt gain importances', fontweight='bold', fontsize=14)\n",
    "plt.tight_layout()"
   ]
  },
  {
   "cell_type": "markdown",
   "id": "b1619a55",
   "metadata": {
    "id": "b1619a55"
   },
   "source": [
    "\n",
    "\n",
    "\n",
    "### Correlation"
   ]
  },
  {
   "cell_type": "code",
   "execution_count": 19,
   "id": "9dfa57c4",
   "metadata": {
    "colab": {
     "base_uri": "https://localhost:8080/"
    },
    "id": "9dfa57c4",
    "outputId": "78ab6a30-deab-4cef-b7f3-8903b13f698f"
   },
   "outputs": [
    {
     "name": "stdout",
     "output_type": "stream",
     "text": [
      "label 1 sample size: 417\n",
      "label 0 sample size: 393\n"
     ]
    }
   ],
   "source": [
    "application_sample1 = df_train.loc[df_train.y==1].sample(frac=1, replace=False)\n",
    "print('label 1 sample size:', str(application_sample1.shape[0]))\n",
    "application_sample0 = df_train.loc[df_train.y==0].sample(frac=1, replace=False)\n",
    "print('label 0 sample size:', str(application_sample0.shape[0]))\n",
    "application = pd.concat([application_sample1, application_sample0], axis=0)"
   ]
  },
  {
   "cell_type": "code",
   "execution_count": 20,
   "id": "f61b7526",
   "metadata": {
    "colab": {
     "base_uri": "https://localhost:8080/"
    },
    "id": "f61b7526",
    "outputId": "d9aa0ae0-2f79-43b1-e69b-50b3f3e7993f"
   },
   "outputs": [
    {
     "name": "stdout",
     "output_type": "stream",
     "text": [
      "Number of categorical features: 0\n",
      "Number of numerical features: 124\n"
     ]
    }
   ],
   "source": [
    "categorical_list = []\n",
    "numerical_list = []\n",
    "for i in application.columns.tolist():\n",
    "    if application[i].dtype=='object':\n",
    "        categorical_list.append(i)\n",
    "    else:\n",
    "        numerical_list.append(i)\n",
    "print('Number of categorical features:', str(len(categorical_list)))\n",
    "print('Number of numerical features:', str(len(numerical_list)))"
   ]
  },
  {
   "cell_type": "code",
   "execution_count": 21,
   "id": "8cdc21cd",
   "metadata": {
    "id": "8cdc21cd"
   },
   "outputs": [],
   "source": [
    "# from sklearn.impute import SimpleImputer\n",
    "# application[numerical_list] = SimpleImputer(strategy='median').fit_transform(application[numerical_list])"
   ]
  },
  {
   "cell_type": "code",
   "execution_count": 22,
   "id": "503123a2",
   "metadata": {
    "id": "503123a2"
   },
   "outputs": [],
   "source": [
    "X = application.drop(['y'], axis=1)\n",
    "y = application.y\n",
    "feature_name = X.columns.tolist()"
   ]
  },
  {
   "cell_type": "code",
   "execution_count": 23,
   "id": "0a0787bd",
   "metadata": {
    "id": "0a0787bd"
   },
   "outputs": [],
   "source": [
    "def cor_selector(X, y):\n",
    "    cor_list = []\n",
    "    # calculate the correlation with y for each feature\n",
    "    for i in X.columns.tolist():\n",
    "        cor = np.corrcoef(X[i], y)[0, 1]\n",
    "        cor_list.append(cor)\n",
    "    # replace NaN with 0\n",
    "    cor_list = [0 if np.isnan(i) else i for i in cor_list]\n",
    "    # feature name\n",
    "    cor_feature = X.iloc[:,np.argsort(np.abs(cor_list))[-100:]].columns.tolist()\n",
    "    # feature selection? 0 for not select, 1 for select\n",
    "    cor_support = [True if i in cor_feature else False for i in feature_name]\n",
    "    return cor_support, cor_feature"
   ]
  },
  {
   "cell_type": "code",
   "execution_count": 24,
   "id": "a8bb1b69",
   "metadata": {
    "colab": {
     "base_uri": "https://localhost:8080/"
    },
    "id": "a8bb1b69",
    "outputId": "79f87948-8b15-4fea-e5bb-c5beaaa533ad",
    "scrolled": false
   },
   "outputs": [
    {
     "name": "stdout",
     "output_type": "stream",
     "text": [
      "100 selected features\n",
      "['second_tag_False', 'count_3rd person', 'second_tag_IN', 'first_tag_NN', 'first_word_is_this_True', 'second_tag_CC', 'second_tag_EX', 'first_tag_WRB', 'third_tag_WDT', 'first_tag_WP', 'third_tag_IN', \"third_tag_''\", 'second_tag_VBG', 'first_tag_IN', 'first_tag_NNP', 'third_tag_CC', 'second_tag_NNS', 'count_PDT', 'count_DT', 'third_tag_VBP', 'second_tag_.', 'count_of_fillers', 'second_tag_VBZ', 'first_tag_DT', 'first_tag_PRP$', 'second_tag_POS', 'third_tag_VBN', 'third_tag_CD', 'third_tag_PRP$', 'third_tag_VB', 'first_tag_VBD', 'third_tag_RBS', 'second_tag_PRP', 'third_tag_VBD', 'third_tag_UH', 'first_word_is_he_True', 'second_tag_PDT', 'third_tag_EX', 'third_tag_NNS', 'second_tag_PRP$', 'second_tag_DT', 'third_tag_RBR', 'first_tag_EX', 'second_tag_MD', 'first_tag_PRP', 'third_tag_NN', 'third_tag_WRB', 'count_NNP', 'count_LS', 'second_tag_VBD', 'first_tag_JJR', 'first_tag_VBP', 'second_tag_WRB', 'third_tag_WP', 'count_NNS', 'seq_02_True', 'third_tag_POS', 'third_tag_VBG', 'second_tag_VBN', 'third_tag_WP$', 'count_RBS', 'exists_she_True', 'count_WP$', 'is_past_tense_True', 'count_UH', 'first_tag_CD', 'second_tag_JJR', 'count_WP', 'third_tag_VBZ', 'first_tag_JJS', 'first_tag_RB', 'count_VBG', 'count_gerund', 'second_tag_CD', 'count_WRB', 'lexical_diversity', 'second_tag_JJ', 'third_tag_JJ', 'second_tag_VBP', 'count_VBD', 'count_POS', 'count_RBR', 'exists_he_True', 'third_tag_DT', 'count_VBN', 'count_CC', 'count_numbers', 'is_modal_True', 'first_tag_NNS', 'seq_03_True', 'seq_01_True', 'count_of_other_fillers', 'count_VB', 'count_nouns', 'get_consonant_letters', 'vocab_richness', 'count_PRP', 'get_sonant_letters', 'count_of_spaces', 'count_adjectives']\n"
     ]
    },
    {
     "name": "stderr",
     "output_type": "stream",
     "text": [
      "C:\\ProgramData\\Anaconda3\\lib\\site-packages\\numpy\\lib\\function_base.py:2691: RuntimeWarning: invalid value encountered in true_divide\n",
      "  c /= stddev[:, None]\n",
      "C:\\ProgramData\\Anaconda3\\lib\\site-packages\\numpy\\lib\\function_base.py:2692: RuntimeWarning: invalid value encountered in true_divide\n",
      "  c /= stddev[None, :]\n"
     ]
    }
   ],
   "source": [
    "cor_support, cor_feature = cor_selector(X, y)\n",
    "print(str(len(cor_feature)), 'selected features')\n",
    "print(cor_feature)"
   ]
  },
  {
   "cell_type": "markdown",
   "id": "Sx-0FAwJuP8h",
   "metadata": {
    "id": "Sx-0FAwJuP8h"
   },
   "source": [
    "\n",
    "\n",
    "\n",
    "### chi\n"
   ]
  },
  {
   "cell_type": "code",
   "execution_count": 101,
   "id": "taPez20PuP8p",
   "metadata": {
    "colab": {
     "base_uri": "https://localhost:8080/"
    },
    "id": "taPez20PuP8p",
    "outputId": "47e67af1-edff-4fb3-bedd-4e5042db0e16"
   },
   "outputs": [
    {
     "data": {
      "text/plain": [
       "SelectKBest(k=100, score_func=<function chi2 at 0x000001EEA67375E0>)"
      ]
     },
     "execution_count": 101,
     "metadata": {},
     "output_type": "execute_result"
    }
   ],
   "source": [
    "from sklearn.feature_selection import SelectKBest\n",
    "from sklearn.feature_selection import chi2\n",
    "from sklearn.preprocessing import MinMaxScaler\n",
    "X_norm = MinMaxScaler().fit_transform(X_train)\n",
    "chi_selector = SelectKBest(chi2, k=100)\n",
    "chi_selector.fit(X_train.abs(), y_train)"
   ]
  },
  {
   "cell_type": "code",
   "execution_count": 103,
   "id": "57PwAqKMunm8",
   "metadata": {
    "colab": {
     "base_uri": "https://localhost:8080/"
    },
    "id": "57PwAqKMunm8",
    "outputId": "19ef14d4-7e2c-46bf-dc51-34fdc0269a38"
   },
   "outputs": [
    {
     "name": "stdout",
     "output_type": "stream",
     "text": [
      "100 selected features\n"
     ]
    }
   ],
   "source": [
    "\n",
    "chi_support = chi_selector.get_support()\n",
    "chi_feature = X_train.loc[:,chi_support].columns.tolist()\n",
    "print(str(len(chi_feature)), 'selected features')"
   ]
  },
  {
   "cell_type": "markdown",
   "id": "X4YI5-Jvmke6",
   "metadata": {
    "id": "X4YI5-Jvmke6"
   },
   "source": [
    "### RFE"
   ]
  },
  {
   "cell_type": "code",
   "execution_count": 117,
   "id": "wnP7RlPPm-Me",
   "metadata": {
    "colab": {
     "base_uri": "https://localhost:8080/"
    },
    "id": "wnP7RlPPm-Me",
    "outputId": "d2621c76-44ba-454a-d976-5bed1f12d9e0"
   },
   "outputs": [
    {
     "name": "stdout",
     "output_type": "stream",
     "text": [
      "Fitting estimator with 50080 features.\n",
      "Fitting estimator with 48580 features.\n",
      "Fitting estimator with 47080 features.\n",
      "Fitting estimator with 45580 features.\n",
      "Fitting estimator with 44080 features.\n",
      "Fitting estimator with 42580 features.\n",
      "Fitting estimator with 41080 features.\n",
      "Fitting estimator with 39580 features.\n",
      "Fitting estimator with 38080 features.\n",
      "Fitting estimator with 36580 features.\n",
      "Fitting estimator with 35080 features.\n",
      "Fitting estimator with 33580 features.\n",
      "Fitting estimator with 32080 features.\n",
      "Fitting estimator with 30580 features.\n",
      "Fitting estimator with 29080 features.\n",
      "Fitting estimator with 27580 features.\n",
      "Fitting estimator with 26080 features.\n",
      "Fitting estimator with 24580 features.\n",
      "Fitting estimator with 23080 features.\n",
      "Fitting estimator with 21580 features.\n",
      "Fitting estimator with 20080 features.\n",
      "Fitting estimator with 18580 features.\n",
      "Fitting estimator with 17080 features.\n",
      "Fitting estimator with 15580 features.\n",
      "Fitting estimator with 14080 features.\n",
      "Fitting estimator with 12580 features.\n",
      "Fitting estimator with 11080 features.\n",
      "Fitting estimator with 9580 features.\n",
      "Fitting estimator with 8080 features.\n",
      "Fitting estimator with 6580 features.\n",
      "Fitting estimator with 5080 features.\n",
      "Fitting estimator with 3580 features.\n",
      "Fitting estimator with 2080 features.\n",
      "Fitting estimator with 580 features.\n"
     ]
    },
    {
     "data": {
      "text/plain": [
       "RFE(estimator=LogisticRegression(), n_features_to_select=100, step=1500,\n",
       "    verbose=5)"
      ]
     },
     "execution_count": 117,
     "metadata": {},
     "output_type": "execute_result"
    }
   ],
   "source": [
    "from sklearn.feature_selection import RFE\n",
    "from sklearn.linear_model import LogisticRegression\n",
    "rfe_selector = RFE(estimator=LogisticRegression(), n_features_to_select=100, step=1500, verbose=5)\n",
    "rfe_selector.fit(X_train, y_train)\n"
   ]
  },
  {
   "cell_type": "code",
   "execution_count": 133,
   "id": "JH_ZY9sinfZ1",
   "metadata": {
    "colab": {
     "base_uri": "https://localhost:8080/"
    },
    "id": "JH_ZY9sinfZ1",
    "outputId": "0c7c40ec-7b82-49f7-cb70-8f52bb79813a"
   },
   "outputs": [
    {
     "name": "stdout",
     "output_type": "stream",
     "text": [
      "100 selected features\n"
     ]
    }
   ],
   "source": [
    "rfe_support = rfe_selector.get_support()\n",
    "rfe_feature = X_train.loc[:,rfe_support].columns.tolist()\n",
    "print(str(len(rfe_feature)), 'selected features')"
   ]
  },
  {
   "cell_type": "markdown",
   "id": "f3h6UUJvozyA",
   "metadata": {
    "id": "f3h6UUJvozyA"
   },
   "source": [
    "### SelectFromModel"
   ]
  },
  {
   "cell_type": "code",
   "execution_count": 149,
   "id": "f1Fk8m0vpBZ9",
   "metadata": {
    "colab": {
     "base_uri": "https://localhost:8080/"
    },
    "id": "f1Fk8m0vpBZ9",
    "outputId": "27b065e1-94bd-490c-ae9e-3f3e9e77036b"
   },
   "outputs": [
    {
     "name": "stdout",
     "output_type": "stream",
     "text": [
      "19788 selected features\n"
     ]
    }
   ],
   "source": [
    "from sklearn.feature_selection import SelectFromModel\n",
    "from sklearn.linear_model import LogisticRegression\n",
    "\n",
    "embeded_lr_selector = SelectFromModel(LogisticRegression(penalty=\"l2\"), '1.25*median')\n",
    "embeded_lr_selector.fit(X_train, y_train)\n",
    "\n",
    "embeded_lr_support = embeded_lr_selector.get_support()\n",
    "embeded_lr_feature = X_train.loc[:,embeded_lr_support].columns.tolist()\n",
    "print(str(len(embeded_lr_feature)), 'selected features')"
   ]
  },
  {
   "cell_type": "markdown",
   "id": "lEsxM2OKpzjO",
   "metadata": {
    "id": "lEsxM2OKpzjO"
   },
   "source": [
    "### SelectFromRF"
   ]
  },
  {
   "cell_type": "code",
   "execution_count": 150,
   "id": "wC1Pi3Map3Y5",
   "metadata": {
    "colab": {
     "base_uri": "https://localhost:8080/"
    },
    "id": "wC1Pi3Map3Y5",
    "outputId": "52c00fa1-fd32-4dce-8ecc-6af972284458"
   },
   "outputs": [
    {
     "name": "stdout",
     "output_type": "stream",
     "text": [
      "50080 selected features\n"
     ]
    }
   ],
   "source": [
    "from sklearn.feature_selection import SelectFromModel\n",
    "from sklearn.ensemble import RandomForestClassifier\n",
    "\n",
    "embeded_rf_selector = SelectFromModel(RandomForestClassifier(n_estimators=100), threshold='1.25*median')\n",
    "embeded_rf_selector.fit(X_train, y_train)\n",
    "\n",
    "embeded_rf_support = embeded_rf_selector.get_support()\n",
    "embeded_rf_feature = X_train.loc[:,embeded_rf_support].columns.tolist()\n",
    "print(str(len(embeded_rf_feature)), 'selected features')"
   ]
  },
  {
   "cell_type": "markdown",
   "id": "uK46dJsqr1rm",
   "metadata": {
    "id": "uK46dJsqr1rm"
   },
   "source": [
    "### SelectFromlgbm"
   ]
  },
  {
   "cell_type": "code",
   "execution_count": 151,
   "id": "Xyrl3jAsr1ro",
   "metadata": {
    "colab": {
     "base_uri": "https://localhost:8080/"
    },
    "id": "Xyrl3jAsr1ro",
    "outputId": "788b89bd-3eda-48e7-9ef1-b2b71ace5a5f"
   },
   "outputs": [
    {
     "name": "stdout",
     "output_type": "stream",
     "text": [
      "50080 selected features\n"
     ]
    }
   ],
   "source": [
    "from sklearn.feature_selection import SelectFromModel\n",
    "from lightgbm import LGBMClassifier\n",
    "\n",
    "lgbc=LGBMClassifier(n_estimators=500, learning_rate=0.05, num_leaves=32, colsample_bytree=0.2,\n",
    "            reg_alpha=3, reg_lambda=1, min_split_gain=0.01, min_child_weight=40)\n",
    "\n",
    "embeded_lgb_selector = SelectFromModel(lgbc, threshold='1.25*median')\n",
    "embeded_lgb_selector.fit(X_train, y_train)\n",
    "\n",
    "embeded_lgb_support = embeded_lgb_selector.get_support()\n",
    "embeded_lgb_feature = X_train.loc[:,embeded_lgb_support].columns.tolist()\n",
    "print(str(len(embeded_lgb_feature)), 'selected features')"
   ]
  },
  {
   "cell_type": "markdown",
   "id": "18015e10",
   "metadata": {
    "id": "18015e10"
   },
   "source": [
    "# Models correlation features"
   ]
  },
  {
   "cell_type": "code",
   "execution_count": 25,
   "id": "EJW0b03Tld2z",
   "metadata": {
    "id": "EJW0b03Tld2z"
   },
   "outputs": [],
   "source": [
    "import pandas as pd\n",
    "import numpy as np\n",
    "from sklearn.linear_model import LogisticRegression\n",
    "from sklearn import svm\n",
    "from sklearn import tree\n",
    "from sklearn.ensemble import RandomForestClassifier\n",
    "from sklearn.neighbors import KNeighborsClassifier\n",
    "from xgboost import XGBClassifier\n",
    "from sklearn.model_selection import train_test_split\n",
    "from sklearn.neural_network import MLPClassifier\n",
    "from sklearn.preprocessing import StandardScaler\n",
    "import seaborn as sns\n",
    "import matplotlib.pyplot as plt\n",
    "from sklearn.metrics import accuracy_score\n",
    "from sklearn.feature_selection import SelectFromModel\n",
    "\n",
    "from sklearn.decomposition import PCA\n",
    "from sklearn.manifold import TSNE\n",
    "%matplotlib inline\n",
    "import matplotlib.pyplot as plt\n",
    "from mpl_toolkits.mplot3d import Axes3D\n",
    "\n",
    "\n",
    "\n",
    "import warnings\n",
    "warnings.filterwarnings('ignore')"
   ]
  },
  {
   "cell_type": "code",
   "execution_count": 26,
   "id": "228cc777",
   "metadata": {
    "id": "228cc777"
   },
   "outputs": [],
   "source": [
    "features = X_train[cor_feature]\n",
    "features2 = X_test[cor_feature]"
   ]
  },
  {
   "cell_type": "code",
   "execution_count": 27,
   "id": "4t4BH4VPklGT",
   "metadata": {
    "colab": {
     "base_uri": "https://localhost:8080/"
    },
    "id": "4t4BH4VPklGT",
    "outputId": "7f6d0ee8-d2d0-4f41-f006-c87282438b11"
   },
   "outputs": [
    {
     "data": {
      "text/plain": [
       "0"
      ]
     },
     "execution_count": 27,
     "metadata": {},
     "output_type": "execute_result"
    }
   ],
   "source": [
    "features.isna().sum().sum()"
   ]
  },
  {
   "cell_type": "code",
   "execution_count": 28,
   "id": "17xh_Mqoii9g",
   "metadata": {
    "colab": {
     "base_uri": "https://localhost:8080/"
    },
    "id": "17xh_Mqoii9g",
    "outputId": "1d51b99c-b1dd-401d-94f3-05d2e3afdf41"
   },
   "outputs": [
    {
     "data": {
      "text/plain": [
       "27     1.0\n",
       "58     0.0\n",
       "89     1.0\n",
       "120    0.0\n",
       "151    1.0\n",
       "      ... \n",
       "761    0.0\n",
       "792    1.0\n",
       "823    0.0\n",
       "854    1.0\n",
       "884    0.0\n",
       "Name: y, Length: 810, dtype: float64"
      ]
     },
     "execution_count": 28,
     "metadata": {},
     "output_type": "execute_result"
    }
   ],
   "source": [
    "y_train"
   ]
  },
  {
   "cell_type": "code",
   "execution_count": 29,
   "id": "77380da7",
   "metadata": {
    "colab": {
     "base_uri": "https://localhost:8080/"
    },
    "id": "77380da7",
    "outputId": "79b65b8c-7805-42bb-82e1-40f2a610ab97"
   },
   "outputs": [
    {
     "name": "stdout",
     "output_type": "stream",
     "text": [
      "              precision    recall  f1-score   support\n",
      "\n",
      "           0       0.47      0.57      0.51        37\n",
      "           1       0.62      0.52      0.57        50\n",
      "\n",
      "    accuracy                           0.54        87\n",
      "   macro avg       0.54      0.54      0.54        87\n",
      "weighted avg       0.55      0.54      0.54        87\n",
      "\n"
     ]
    }
   ],
   "source": [
    "from sklearn.model_selection import cross_val_score\n",
    "# from sklearn.datasets import load_iris\n",
    "from sklearn.ensemble import AdaBoostClassifier\n",
    "\n",
    "# X, y = load_iris(return_X_y=True)\n",
    "clf = AdaBoostClassifier()\n",
    "# scores = cross_val_score(clf, features, y_train, cv=5)\n",
    "# print(scores.mean())\n",
    "clf.fit(features, y_train)\n",
    "y_pred = (clf.predict(features2)>0.5).astype(int)\n",
    "from sklearn.metrics import classification_report\n",
    "print(classification_report(y_pred,y_test))\n"
   ]
  },
  {
   "cell_type": "code",
   "execution_count": 30,
   "id": "fbbf2475",
   "metadata": {
    "colab": {
     "base_uri": "https://localhost:8080/"
    },
    "id": "fbbf2475",
    "outputId": "6fb87daf-fbb8-456e-ba7d-4a5b918f877b"
   },
   "outputs": [
    {
     "name": "stdout",
     "output_type": "stream",
     "text": [
      "              precision    recall  f1-score   support\n",
      "\n",
      "         0.0       0.51      0.40      0.45        45\n",
      "         1.0       0.48      0.60      0.53        42\n",
      "\n",
      "    accuracy                           0.49        87\n",
      "   macro avg       0.50      0.50      0.49        87\n",
      "weighted avg       0.50      0.49      0.49        87\n",
      "\n"
     ]
    }
   ],
   "source": [
    "from sklearn.svm import SVC\n",
    "\n",
    "svclassifier = SVC(gamma='auto')\n",
    "svclassifier.fit(features, y_train)\n",
    "y_pred = svclassifier.predict(features2)\n",
    "print(classification_report(y_test, y_pred))"
   ]
  },
  {
   "cell_type": "code",
   "execution_count": 31,
   "id": "91072e8d",
   "metadata": {
    "colab": {
     "base_uri": "https://localhost:8080/"
    },
    "id": "91072e8d",
    "outputId": "f56961bf-a4a8-44c8-ba99-ca876ca85ee8"
   },
   "outputs": [
    {
     "name": "stdout",
     "output_type": "stream",
     "text": [
      "Accuracy: 0.54 (+/- 0.04) [DecisionTreeClassifier]\n",
      "Accuracy: 0.56 (+/- 0.03) [KNNClassifier]\n",
      "Accuracy: 0.58 (+/- 0.03) [SVC]\n",
      "Accuracy: 0.55 (+/- 0.01) [voting]\n"
     ]
    }
   ],
   "source": [
    "from sklearn import datasets\n",
    "from sklearn.tree import DecisionTreeClassifier\n",
    "from sklearn.neighbors import KNeighborsClassifier\n",
    "from sklearn.svm import SVC\n",
    "from itertools import product\n",
    "from sklearn.ensemble import VotingClassifier\n",
    "\n",
    "\n",
    "clf1 = DecisionTreeClassifier()\n",
    "clf2 = KNeighborsClassifier()\n",
    "clf3 = SVC(kernel='rbf', probability=True)\n",
    "eclf = VotingClassifier(estimators=[('dt', clf1), ('knn', clf2), ('svc', clf3)],\n",
    "                        voting='soft', weights=[2, 2, 2])\n",
    "\n",
    "clf1 = clf1.fit(features, y_train)\n",
    "clf2 = clf2.fit(features, y_train)\n",
    "clf3 = clf3.fit(features, y_train)\n",
    "eclf = eclf.fit(features, y_train)\n",
    "\n",
    "for clf, label in zip([clf1, clf2, clf3, eclf], ['DecisionTreeClassifier', 'KNNClassifier', 'SVC', 'voting']):\n",
    "    scores = cross_val_score(clf, features, y_train, scoring='accuracy', cv=5)\n",
    "    print(\"Accuracy: %0.2f (+/- %0.2f) [%s]\" % (scores.mean(), scores.std(), label))"
   ]
  },
  {
   "cell_type": "code",
   "execution_count": 32,
   "id": "66e5760b",
   "metadata": {},
   "outputs": [
    {
     "name": "stdout",
     "output_type": "stream",
     "text": [
      "Support Vector Classifier score is 49.42528735632184%\n",
      "\n",
      "              precision    recall  f1-score   support\n",
      "\n",
      "         0.0       0.52      0.38      0.44        45\n",
      "         1.0       0.48      0.62      0.54        42\n",
      "\n",
      "    accuracy                           0.49        87\n",
      "   macro avg       0.50      0.50      0.49        87\n",
      "weighted avg       0.50      0.49      0.49        87\n",
      "\n"
     ]
    }
   ],
   "source": [
    "svc = SVC(kernel='rbf', probability=True,)\n",
    "svc.fit(features, y_train)\n",
    "predictionsSVC = svc.predict(features2)\n",
    "scoreSVC = accuracy_score(y_test, predictionsSVC)\n",
    "print(f\"Support Vector Classifier score is {scoreSVC * 100}%\\n\")\n",
    "print(classification_report(y_test, predictionsSVC))"
   ]
  },
  {
   "cell_type": "code",
   "execution_count": 33,
   "id": "20a61de7",
   "metadata": {},
   "outputs": [],
   "source": [
    "# g = [0.001*x for x in range(1,10,1)]\n",
    "\n",
    "# for g1 in g:\n",
    "#     svc = SVC(kernel='rbf', probability=True,gamma=g1)\n",
    "#     svc.fit(features, y_train)\n",
    "#     predictionsSVC = svc.predict(features2)\n",
    "# #     scoreSVC = accuracy_score(y_test, predictionsSVC)\n",
    "# #     print(f\"Support Vector Classifier score is {scoreSVC * 100}%\\n\")\n",
    "#     print(g1,classification_report(y_test, predictionsSVC))"
   ]
  },
  {
   "cell_type": "code",
   "execution_count": 34,
   "id": "be3bc1f7",
   "metadata": {},
   "outputs": [],
   "source": [
    "# c1= [0.001*x for x in range(560,650)]\n",
    "\n",
    "# for c in c1:\n",
    "#     svc = SVC(kernel='rbf', probability=True,gamma=0.004,C=c)\n",
    "#     svc.fit(features, y_train)\n",
    "#     predictionsSVC = svc.predict(features2)\n",
    "#     print(c,classification_report(y_test, predictionsSVC))"
   ]
  },
  {
   "cell_type": "code",
   "execution_count": 35,
   "id": "4c813b7a",
   "metadata": {},
   "outputs": [
    {
     "name": "stdout",
     "output_type": "stream",
     "text": [
      "              precision    recall  f1-score   support\n",
      "\n",
      "         0.0       0.52      0.38      0.44        45\n",
      "         1.0       0.48      0.62      0.54        42\n",
      "\n",
      "    accuracy                           0.49        87\n",
      "   macro avg       0.50      0.50      0.49        87\n",
      "weighted avg       0.50      0.49      0.49        87\n",
      "\n"
     ]
    }
   ],
   "source": [
    "svc = SVC(kernel='rbf', probability=True)\n",
    "svc.fit(features, y_train)\n",
    "predictionsSVC = svc.predict(features2)\n",
    "print(classification_report(y_test, predictionsSVC))"
   ]
  },
  {
   "cell_type": "code",
   "execution_count": 36,
   "id": "88238eff",
   "metadata": {
    "colab": {
     "base_uri": "https://localhost:8080/",
     "height": 827
    },
    "id": "88238eff",
    "outputId": "c730ca44-4e59-4566-cfe7-678f468ea6ac"
   },
   "outputs": [
    {
     "name": "stdout",
     "output_type": "stream",
     "text": [
      "Logistic Regression score is 50.57471264367817% \n",
      "\n",
      "Support Vector Classifier score is 50.57471264367817%\n",
      "\n",
      "Decision Tree Classifier score is 47.12643678160919%\n",
      "\n",
      "Random Forest Classifier score is 50.57471264367817%\n",
      "\n",
      "KNN Classifier score is 44.827586206896555% with k = 1\n",
      "KNN Classifier score is 47.12643678160919% with k = 2\n",
      "KNN Classifier score is 55.172413793103445% with k = 3\n",
      "KNN Classifier score is 55.172413793103445% with k = 4\n",
      "KNN Classifier score is 52.87356321839081% with k = 5\n",
      "KNN Classifier score is 54.02298850574713% with k = 6\n",
      "KNN Classifier score is 51.724137931034484% with k = 7\n",
      "KNN Classifier score is 52.87356321839081% with k = 8\n",
      "KNN Classifier score is 49.42528735632184% with k = 9\n",
      "KNN Classifier score is 54.02298850574713% with k = 10\n",
      "KNN Classifier score is 48.275862068965516% with k = 11\n",
      "KNN Classifier score is 51.724137931034484% with k = 12\n",
      "KNN Classifier score is 56.32183908045977% with k = 13\n",
      "KNN Classifier score is 57.47126436781609% with k = 14\n",
      "KNN Classifier score is 55.172413793103445% with k = 15\n",
      "KNN Classifier score is 55.172413793103445% with k = 16\n",
      "KNN Classifier score is 56.32183908045977% with k = 17\n",
      "KNN Classifier score is 55.172413793103445% with k = 18\n",
      "KNN Classifier score is 49.42528735632184% with k = 19\n"
     ]
    },
    {
     "data": {
      "image/png": "[encoded data removed]",
      "text/plain": [
       "<Figure size 432x288 with 1 Axes>"
      ]
     },
     "metadata": {
      "needs_background": "light"
     },
     "output_type": "display_data"
    },
    {
     "name": "stdout",
     "output_type": "stream",
     "text": [
      "\n",
      "MLP Classifier score is 48.275862068965516%\n",
      "\n"
     ]
    }
   ],
   "source": [
    "# fitting logistic regression\n",
    "lr = LogisticRegression()\n",
    "lr.fit(features, y_train)\n",
    "predictionsLR = lr.predict(features2)\n",
    "scoreLR = accuracy_score(y_test, predictionsLR)\n",
    "print(f\"Logistic Regression score is {scoreLR * 100}% \\n\")\n",
    "\n",
    "# fitting SVC\n",
    "svc = svm.LinearSVC()\n",
    "svc.fit(features, y_train)\n",
    "predictionsSVC = svc.predict(features2)\n",
    "scoreSVC = accuracy_score(y_test, predictionsSVC)\n",
    "print(f\"Support Vector Classifier score is {scoreSVC * 100}%\\n\")\n",
    "\n",
    "# fitting decision tree classifier\n",
    "clf = tree.DecisionTreeClassifier()\n",
    "clf.fit(features, y_train)\n",
    "predictionsTree = clf.predict(features2)\n",
    "scoreTree = accuracy_score(y_test, predictionsTree)\n",
    "print(f\"Decision Tree Classifier score is {scoreTree * 100}%\\n\")\n",
    "\n",
    "# fitting Random Forest classifier\n",
    "clf1 = RandomForestClassifier()\n",
    "clf1.fit(features, y_train)\n",
    "predictionsTree1 = clf1.predict(features2)\n",
    "scoreTree1 = accuracy_score(y_test, predictionsTree1)\n",
    "print(f\"Random Forest Classifier score is {scoreTree1 * 100}%\\n\")\n",
    "\n",
    "# fitting XGBoost\n",
    "# xgb = XGBClassifier()\n",
    "# xgb.fit(features.to_numpy(), y_train)\n",
    "# predictionsXGB = xgb.predict(X_test)\n",
    "# predictionsXGB = (predictionsXGB>0.5).astype(int)\n",
    "# scoreXGB = accuracy_score(y_test, predictionsXGB)\n",
    "# print(f\"XG Boost Classifier score is {scoreXGB * 100}%\\n\")\n",
    "\n",
    "# fitting KNN Classifier\n",
    "K = range(1, 20)\n",
    "acc = []\n",
    "for k in K:\n",
    "    knn = KNeighborsClassifier(n_neighbors=k)\n",
    "    knn.fit(features, y_train)\n",
    "    predictionsKNN = knn.predict(features2)\n",
    "    scoreKNN = accuracy_score(y_test, predictionsKNN)\n",
    "    print(f\"KNN Classifier score is {scoreKNN * 100}% with k = {k}\")\n",
    "    acc.append(scoreKNN*100)\n",
    "\n",
    "# Elbow plot:\n",
    "plt.plot(K, acc)\n",
    "plt.xlabel('K')\n",
    "plt.ylabel('Accuracy')\n",
    "plt.title(\"Elbow Curve without feature selection for Inter-Reseach Area\")\n",
    "\n",
    "plt.show()\n",
    "\n",
    "# MLP / ANN\n",
    "classifier = MLPClassifier(hidden_layer_sizes=(128, 64), max_iter=300, activation='relu', solver='adam', random_state=1)\n",
    "classifier.fit(features, y_train)\n",
    "predictionsMLP = classifier.predict(features2)\n",
    "scoreMLP = accuracy_score(y_test, predictionsMLP)\n",
    "print(f\"\\nMLP Classifier score is {scoreMLP * 100}%\\n\")"
   ]
  },
  {
   "cell_type": "code",
   "execution_count": 156,
   "id": "ff6dc49b",
   "metadata": {},
   "outputs": [
    {
     "name": "stdout",
     "output_type": "stream",
     "text": [
      "Best leaf_size: 1\n",
      "Best p: 1\n",
      "Best n_neighbors: 18\n"
     ]
    }
   ],
   "source": [
    "from sklearn.model_selection import GridSearchCV\n",
    "leaf_size = list(range(1,50))\n",
    "n_neighbors = list(range(1,30))\n",
    "p=[1,2]\n",
    "#Convert to dictionary\n",
    "hyperparameters = dict(leaf_size=leaf_size, n_neighbors=n_neighbors, p=p)\n",
    "#Create new KNN object\n",
    "knn_2 = KNeighborsClassifier()\n",
    "#Use GridSearch\n",
    "clf = GridSearchCV(knn_2, hyperparameters, cv=10)\n",
    "#Fit the model\n",
    "best_model = clf.fit(features,y_train)\n",
    "#Print The value of best Hyperparameters\n",
    "print('Best leaf_size:', best_model.best_estimator_.get_params()['leaf_size'])\n",
    "print('Best p:', best_model.best_estimator_.get_params()['p'])\n",
    "print('Best n_neighbors:', best_model.best_estimator_.get_params()['n_neighbors'])"
   ]
  },
  {
   "cell_type": "code",
   "execution_count": 45,
   "id": "2fb07592",
   "metadata": {},
   "outputs": [
    {
     "data": {
      "text/plain": [
       "2"
      ]
     },
     "execution_count": 45,
     "metadata": {},
     "output_type": "execute_result"
    }
   ],
   "source": [
    "knn.p"
   ]
  },
  {
   "cell_type": "code",
   "execution_count": 44,
   "id": "624274e6",
   "metadata": {},
   "outputs": [
    {
     "name": "stdout",
     "output_type": "stream",
     "text": [
      "              precision    recall  f1-score   support\n",
      "\n",
      "         0.0       0.58      0.62      0.60        45\n",
      "         1.0       0.56      0.52      0.54        42\n",
      "\n",
      "    accuracy                           0.57        87\n",
      "   macro avg       0.57      0.57      0.57        87\n",
      "weighted avg       0.57      0.57      0.57        87\n",
      "\n"
     ]
    }
   ],
   "source": [
    "from sklearn.neighbors import KNeighborsClassifier\n",
    "knn = KNeighborsClassifier(n_neighbors=14)\n",
    "knn.fit(features,y_train)\n",
    "pred = knn.predict(features2)\n",
    "print(classification_report(y_test,pred))"
   ]
  },
  {
   "cell_type": "code",
   "execution_count": 157,
   "id": "f148ed88",
   "metadata": {
    "colab": {
     "base_uri": "https://localhost:8080/"
    },
    "id": "f148ed88",
    "outputId": "d9da354f-4381-4268-8df0-204c5d6ac719"
   },
   "outputs": [
    {
     "name": "stdout",
     "output_type": "stream",
     "text": [
      "Number of mislabeled points out of a total 87 points : 48\n"
     ]
    }
   ],
   "source": [
    "from sklearn.naive_bayes import GaussianNB\n",
    "gnb = GaussianNB()\n",
    "y_pred = gnb.fit(features, y_train).predict(features2)\n",
    "print(\"Number of mislabeled points out of a total %d points : %d\"\n",
    "      % (X_test.shape[0], (y_test != y_pred).sum()))"
   ]
  },
  {
   "cell_type": "code",
   "execution_count": 158,
   "id": "070f2d7d",
   "metadata": {
    "colab": {
     "base_uri": "https://localhost:8080/"
    },
    "id": "070f2d7d",
    "outputId": "cf431877-dd83-4e90-e613-19aef83d7c50"
   },
   "outputs": [
    {
     "name": "stdout",
     "output_type": "stream",
     "text": [
      "              precision    recall  f1-score   support\n",
      "\n",
      "         0.0       0.42      0.51      0.46        37\n",
      "         1.0       0.57      0.48      0.52        50\n",
      "\n",
      "    accuracy                           0.49        87\n",
      "   macro avg       0.50      0.50      0.49        87\n",
      "weighted avg       0.51      0.49      0.50        87\n",
      "\n"
     ]
    }
   ],
   "source": [
    "from numpy import mean\n",
    "from numpy import std\n",
    "from sklearn.datasets import make_classification\n",
    "from sklearn.ensemble import GradientBoostingClassifier\n",
    "from sklearn.model_selection import cross_val_score\n",
    "from sklearn.model_selection import RepeatedStratifiedKFold\n",
    "from matplotlib import pyplot\n",
    "# define dataset\n",
    "# X, y = make_classification(n_samples=1000, n_features=10, n_informative=5, n_redundant=5, random_state=1)\n",
    "# evaluate the model\n",
    "# model = GradientBoostingClassifier()\n",
    "# cv = RepeatedStratifiedKFold(n_splits=10, n_repeats=3, random_state=1)\n",
    "# n_scores = cross_val_score(model, X_train, y_train, scoring='accuracy', cv=cv, n_jobs=-1, error_score='raise')\n",
    "# print('Accuracy: %.3f (%.3f)' % (mean(n_scores), std(n_scores)))\n",
    "# fit the model on the whole dataset\n",
    "model = GradientBoostingClassifier()\n",
    "model.fit(features, y_train)\n",
    "# make a single prediction\n",
    "# row = [[2.56999479, -0.13019997, 3.16075093, -4.35936352, -1.61271951, -1.39352057, -2.48924933, -1.93094078, 3.26130366, 2.05692145]]\n",
    "yhat = model.predict(features2)\n",
    "\n",
    "print(classification_report(yhat,y_test))"
   ]
  },
  {
   "cell_type": "code",
   "execution_count": 159,
   "id": "236ec010",
   "metadata": {
    "colab": {
     "base_uri": "https://localhost:8080/"
    },
    "id": "236ec010",
    "outputId": "20c99687-42f9-44ce-9c03-a0f43f522398"
   },
   "outputs": [
    {
     "name": "stdout",
     "output_type": "stream",
     "text": [
      "              precision    recall  f1-score   support\n",
      "\n",
      "         0.0       0.44      0.59      0.51        34\n",
      "         1.0       0.67      0.53      0.59        53\n",
      "\n",
      "    accuracy                           0.55        87\n",
      "   macro avg       0.56      0.56      0.55        87\n",
      "weighted avg       0.58      0.55      0.56        87\n",
      "\n"
     ]
    }
   ],
   "source": [
    "# histogram-based gradient boosting for classification in scikit-learn\n",
    "from numpy import mean\n",
    "from numpy import std\n",
    "from sklearn.datasets import make_classification\n",
    "from sklearn.experimental import enable_hist_gradient_boosting\n",
    "from sklearn.ensemble import HistGradientBoostingClassifier\n",
    "from sklearn.model_selection import cross_val_score\n",
    "from sklearn.model_selection import RepeatedStratifiedKFold\n",
    "from matplotlib import pyplot\n",
    "# evaluate the model\n",
    "# model = HistGradientBoostingClassifier()\n",
    "# cv = RepeatedStratifiedKFold(n_splits=10, n_repeats=3, random_state=1)\n",
    "# n_scores = cross_val_score(model, features, y_train, scoring='accuracy', cv=cv, n_jobs=-1, error_score='raise')\n",
    "# print('Accuracy: %.3f (%.3f)' % (mean(n_scores), std(n_scores)))\n",
    "# fit the model on the whole dataset\n",
    "model = HistGradientBoostingClassifier()\n",
    "model.fit(features, y_train)\n",
    "# make a single prediction\n",
    "yhat = model.predict(features2)\n",
    "print(classification_report(yhat,y_test))"
   ]
  },
  {
   "cell_type": "code",
   "execution_count": 160,
   "id": "7f6c009a",
   "metadata": {
    "colab": {
     "base_uri": "https://localhost:8080/",
     "height": 387
    },
    "id": "7f6c009a",
    "outputId": "6612033c-34dc-40d2-efcc-72eb0b1e458c"
   },
   "outputs": [
    {
     "name": "stdout",
     "output_type": "stream",
     "text": [
      "[15:06:24] WARNING: C:/Users/Administrator/workspace/xgboost-win64_release_1.4.0/src/learner.cc:1095: Starting in XGBoost 1.3.0, the default evaluation metric used with the objective 'binary:logistic' was changed from 'error' to 'logloss'. Explicitly set eval_metric if you'd like to restore the old behavior.\n",
      "              precision    recall  f1-score   support\n",
      "\n",
      "         0.0       0.42      0.56      0.48        34\n",
      "         1.0       0.64      0.51      0.57        53\n",
      "\n",
      "    accuracy                           0.53        87\n",
      "   macro avg       0.53      0.53      0.52        87\n",
      "weighted avg       0.56      0.53      0.53        87\n",
      "\n"
     ]
    }
   ],
   "source": [
    "# xgboost for classification\n",
    "from numpy import asarray\n",
    "from numpy import mean\n",
    "from numpy import std\n",
    "# from sklearn.datasets import make_classification\n",
    "from xgboost import XGBClassifier\n",
    "from sklearn.model_selection import cross_val_score\n",
    "from sklearn.model_selection import RepeatedStratifiedKFold\n",
    "from matplotlib import pyplot\n",
    "# define dataset\n",
    "# X, y = make_classification(n_samples=1000, n_features=10, n_informative=5, n_redundant=5, random_state=1)\n",
    "# evaluate the model\n",
    "# model = XGBClassifier()\n",
    "# cv = RepeatedStratifiedKFold(n_splits=10, n_repeats=3, random_state=1)\n",
    "# n_scores = cross_val_score(model, features, y_train, scoring='accuracy', cv=cv, n_jobs=-1, error_score='raise')\n",
    "# print('Accuracy: %.3f (%.3f)' % (mean(n_scores), std(n_scores)))\n",
    "# fit the model on the whole dataset\n",
    "model = XGBClassifier()\n",
    "model.fit(features, y_train)\n",
    "# make a single prediction\n",
    "yhat = model.predict(features2)\n",
    "print(classification_report(yhat,y_test))"
   ]
  },
  {
   "cell_type": "code",
   "execution_count": 161,
   "id": "2294b541",
   "metadata": {
    "colab": {
     "base_uri": "https://localhost:8080/"
    },
    "id": "2294b541",
    "outputId": "3ab5d55a-c374-4759-ad71-97e3d645f029"
   },
   "outputs": [
    {
     "name": "stdout",
     "output_type": "stream",
     "text": [
      "              precision    recall  f1-score   support\n",
      "\n",
      "         0.0       0.42      0.59      0.49        32\n",
      "         1.0       0.69      0.53      0.60        55\n",
      "\n",
      "    accuracy                           0.55        87\n",
      "   macro avg       0.56      0.56      0.55        87\n",
      "weighted avg       0.59      0.55      0.56        87\n",
      "\n"
     ]
    }
   ],
   "source": [
    "# lightgbm for classification\n",
    "from numpy import mean\n",
    "from numpy import std\n",
    "from sklearn.datasets import make_classification\n",
    "from lightgbm import LGBMClassifier\n",
    "from sklearn.model_selection import cross_val_score\n",
    "from sklearn.model_selection import RepeatedStratifiedKFold\n",
    "from matplotlib import pyplot\n",
    "# evaluate the model\n",
    "# model = LGBMClassifier()\n",
    "# cv = RepeatedStratifiedKFold(n_splits=10, n_repeats=3, random_state=1)\n",
    "# n_scores = cross_val_score(model, features, y_train, scoring='accuracy', cv=cv, n_jobs=-1, error_score='raise')\n",
    "# print('Accuracy: %.3f (%.3f)' % (mean(n_scores), std(n_scores)))\n",
    "# fit the model on the whole dataset\n",
    "model = LGBMClassifier()\n",
    "model.fit(features, y_train)\n",
    "# make a single prediction\n",
    "yhat = model.predict(features2)\n",
    "print(classification_report(yhat,y_test))"
   ]
  },
  {
   "cell_type": "code",
   "execution_count": null,
   "id": "732a6df9",
   "metadata": {
    "id": "732a6df9"
   },
   "outputs": [],
   "source": []
  },
  {
   "cell_type": "markdown",
   "id": "Rl4RaMhButB_",
   "metadata": {
    "id": "Rl4RaMhButB_"
   },
   "source": [
    "# Models chi"
   ]
  },
  {
   "cell_type": "code",
   "execution_count": null,
   "id": "0vxQ4vywutB_",
   "metadata": {
    "id": "0vxQ4vywutB_"
   },
   "outputs": [],
   "source": [
    "import pandas as pd\n",
    "import numpy as np\n",
    "from sklearn.linear_model import LogisticRegression\n",
    "from sklearn import svm\n",
    "from sklearn import tree\n",
    "from sklearn.ensemble import RandomForestClassifier\n",
    "from sklearn.neighbors import KNeighborsClassifier\n",
    "from xgboost import XGBClassifier\n",
    "from sklearn.model_selection import train_test_split\n",
    "from sklearn.neural_network import MLPClassifier\n",
    "from sklearn.preprocessing import StandardScaler\n",
    "import seaborn as sns\n",
    "import matplotlib.pyplot as plt\n",
    "from sklearn.metrics import accuracy_score\n",
    "from sklearn.feature_selection import SelectFromModel\n",
    "\n",
    "from sklearn.decomposition import PCA\n",
    "from sklearn.manifold import TSNE\n",
    "%matplotlib inline\n",
    "import matplotlib.pyplot as plt\n",
    "from mpl_toolkits.mplot3d import Axes3D\n",
    "\n",
    "\n",
    "\n",
    "import warnings\n",
    "warnings.filterwarnings('ignore')"
   ]
  },
  {
   "cell_type": "code",
   "execution_count": 121,
   "id": "D0oMFrX6utB_",
   "metadata": {
    "id": "D0oMFrX6utB_"
   },
   "outputs": [],
   "source": [
    "features = X_train[chi_feature]\n",
    "features2 = X_test[chi_feature]"
   ]
  },
  {
   "cell_type": "code",
   "execution_count": 122,
   "id": "awxGthAiutB_",
   "metadata": {
    "colab": {
     "base_uri": "https://localhost:8080/"
    },
    "id": "awxGthAiutB_",
    "outputId": "6baa7e87-1948-4dc5-e770-9cdd91fd4226"
   },
   "outputs": [
    {
     "data": {
      "text/plain": [
       "0"
      ]
     },
     "execution_count": 122,
     "metadata": {},
     "output_type": "execute_result"
    }
   ],
   "source": [
    "features.isna().sum().sum()"
   ]
  },
  {
   "cell_type": "code",
   "execution_count": 123,
   "id": "m26_abtautB_",
   "metadata": {
    "colab": {
     "base_uri": "https://localhost:8080/"
    },
    "id": "m26_abtautB_",
    "outputId": "f12bd8d0-3047-4f6e-97b8-f219e8e224a4"
   },
   "outputs": [
    {
     "data": {
      "text/plain": [
       "0"
      ]
     },
     "execution_count": 123,
     "metadata": {},
     "output_type": "execute_result"
    }
   ],
   "source": [
    "X_test.isna().sum().sum()"
   ]
  },
  {
   "cell_type": "code",
   "execution_count": 124,
   "id": "Il7_aME5utCA",
   "metadata": {
    "colab": {
     "base_uri": "https://localhost:8080/"
    },
    "id": "Il7_aME5utCA",
    "outputId": "e0f56dee-9826-4e23-8499-02b37c2ebfb6"
   },
   "outputs": [
    {
     "name": "stdout",
     "output_type": "stream",
     "text": [
      "              precision    recall  f1-score   support\n",
      "\n",
      "           0       0.87      0.55      0.67        71\n",
      "           1       0.24      0.62      0.34        16\n",
      "\n",
      "    accuracy                           0.56        87\n",
      "   macro avg       0.55      0.59      0.51        87\n",
      "weighted avg       0.75      0.56      0.61        87\n",
      "\n"
     ]
    }
   ],
   "source": [
    "from sklearn.model_selection import cross_val_score\n",
    "# from sklearn.datasets import load_iris\n",
    "from sklearn.ensemble import AdaBoostClassifier\n",
    "\n",
    "# X, y = load_iris(return_X_y=True)\n",
    "clf = AdaBoostClassifier()\n",
    "# scores = cross_val_score(clf, features, y_train, cv=5)\n",
    "# print(scores.mean())\n",
    "clf.fit(features, y_train)\n",
    "y_pred = (clf.predict(features2)>0.5).astype(int)\n",
    "from sklearn.metrics import classification_report\n",
    "print(classification_report(y_pred,y_test))\n"
   ]
  },
  {
   "cell_type": "code",
   "execution_count": 125,
   "id": "QuxXByxlutCA",
   "metadata": {
    "colab": {
     "base_uri": "https://localhost:8080/"
    },
    "id": "QuxXByxlutCA",
    "outputId": "8229f790-5371-4f67-8800-525f4c62e19b"
   },
   "outputs": [
    {
     "name": "stdout",
     "output_type": "stream",
     "text": [
      "              precision    recall  f1-score   support\n",
      "\n",
      "         0.0       0.52      0.78      0.62        45\n",
      "         1.0       0.50      0.24      0.32        42\n",
      "\n",
      "    accuracy                           0.52        87\n",
      "   macro avg       0.51      0.51      0.47        87\n",
      "weighted avg       0.51      0.52      0.48        87\n",
      "\n"
     ]
    }
   ],
   "source": [
    "from sklearn.svm import SVC\n",
    "\n",
    "svclassifier = SVC(gamma='auto')\n",
    "svclassifier.fit(features, y_train)\n",
    "y_pred = svclassifier.predict(features2)\n",
    "print(classification_report(y_test, y_pred))"
   ]
  },
  {
   "cell_type": "code",
   "execution_count": 126,
   "id": "cMi0n7AQutCA",
   "metadata": {
    "colab": {
     "base_uri": "https://localhost:8080/"
    },
    "id": "cMi0n7AQutCA",
    "outputId": "188e629a-7cae-4ada-b8fe-79250e88cfe3"
   },
   "outputs": [
    {
     "name": "stdout",
     "output_type": "stream",
     "text": [
      "Accuracy: 0.65 (+/- 0.02) [DecisionTreeClassifier]\n",
      "Accuracy: 0.64 (+/- 0.03) [KNNClassifier]\n",
      "Accuracy: 0.66 (+/- 0.03) [SVC]\n",
      "Accuracy: 0.67 (+/- 0.04) [voting]\n"
     ]
    }
   ],
   "source": [
    "from sklearn import datasets\n",
    "from sklearn.tree import DecisionTreeClassifier\n",
    "from sklearn.neighbors import KNeighborsClassifier\n",
    "from sklearn.svm import SVC\n",
    "from itertools import product\n",
    "from sklearn.ensemble import VotingClassifier\n",
    "\n",
    "\n",
    "clf1 = DecisionTreeClassifier()\n",
    "clf2 = KNeighborsClassifier()\n",
    "clf3 = SVC(kernel='rbf', probability=True)\n",
    "eclf = VotingClassifier(estimators=[('dt', clf1), ('knn', clf2), ('svc', clf3)],\n",
    "                        voting='soft', weights=[2, 2, 2])\n",
    "\n",
    "clf1 = clf1.fit(features, y_train)\n",
    "clf2 = clf2.fit(features, y_train)\n",
    "clf3 = clf3.fit(features, y_train)\n",
    "eclf = eclf.fit(features, y_train)\n",
    "\n",
    "for clf, label in zip([clf1, clf2, clf3, eclf], ['DecisionTreeClassifier', 'KNNClassifier', 'SVC', 'voting']):\n",
    "    scores = cross_val_score(clf, features, y_train, scoring='accuracy', cv=5)\n",
    "    print(\"Accuracy: %0.2f (+/- %0.2f) [%s]\" % (scores.mean(), scores.std(), label))"
   ]
  },
  {
   "cell_type": "code",
   "execution_count": 127,
   "id": "YBuJ2yqmutCA",
   "metadata": {
    "colab": {
     "base_uri": "https://localhost:8080/",
     "height": 0
    },
    "id": "YBuJ2yqmutCA",
    "outputId": "fe7662a0-23e6-4261-f06d-2fb419367958"
   },
   "outputs": [
    {
     "name": "stdout",
     "output_type": "stream",
     "text": [
      "Logistic Regression score is 51.724137931034484% \n",
      "\n",
      "Support Vector Classifier score is 51.724137931034484%\n",
      "\n",
      "Decision Tree Classifier score is 51.724137931034484%\n",
      "\n",
      "Random Forest Classifier score is 52.87356321839081%\n",
      "\n",
      "KNN Classifier score is 52.87356321839081% with k = 1\n",
      "KNN Classifier score is 55.172413793103445% with k = 2\n",
      "KNN Classifier score is 54.02298850574713% with k = 3\n",
      "KNN Classifier score is 54.02298850574713% with k = 4\n",
      "KNN Classifier score is 55.172413793103445% with k = 5\n",
      "KNN Classifier score is 57.47126436781609% with k = 6\n",
      "KNN Classifier score is 55.172413793103445% with k = 7\n",
      "KNN Classifier score is 55.172413793103445% with k = 8\n",
      "KNN Classifier score is 58.620689655172406% with k = 9\n",
      "KNN Classifier score is 55.172413793103445% with k = 10\n",
      "KNN Classifier score is 56.32183908045977% with k = 11\n",
      "KNN Classifier score is 54.02298850574713% with k = 12\n",
      "KNN Classifier score is 56.32183908045977% with k = 13\n",
      "KNN Classifier score is 56.32183908045977% with k = 14\n",
      "KNN Classifier score is 54.02298850574713% with k = 15\n",
      "KNN Classifier score is 52.87356321839081% with k = 16\n",
      "KNN Classifier score is 56.32183908045977% with k = 17\n",
      "KNN Classifier score is 54.02298850574713% with k = 18\n",
      "KNN Classifier score is 56.32183908045977% with k = 19\n"
     ]
    },
    {
     "data": {
      "image/png": "[encoded data removed]",
      "text/plain": [
       "<Figure size 432x288 with 1 Axes>"
      ]
     },
     "metadata": {
      "needs_background": "light"
     },
     "output_type": "display_data"
    },
    {
     "name": "stdout",
     "output_type": "stream",
     "text": [
      "\n",
      "MLP Classifier score is 52.87356321839081%\n",
      "\n"
     ]
    }
   ],
   "source": [
    "# fitting logistic regression\n",
    "lr = LogisticRegression()\n",
    "lr.fit(features, y_train)\n",
    "predictionsLR = lr.predict(features2)\n",
    "scoreLR = accuracy_score(y_test, predictionsLR)\n",
    "print(f\"Logistic Regression score is {scoreLR * 100}% \\n\")\n",
    "\n",
    "# fitting SVC\n",
    "svc = svm.LinearSVC()\n",
    "svc.fit(features, y_train)\n",
    "predictionsSVC = svc.predict(features2)\n",
    "scoreSVC = accuracy_score(y_test, predictionsSVC)\n",
    "print(f\"Support Vector Classifier score is {scoreSVC * 100}%\\n\")\n",
    "\n",
    "# fitting decision tree classifier\n",
    "clf = tree.DecisionTreeClassifier()\n",
    "clf.fit(features, y_train)\n",
    "predictionsTree = clf.predict(features2)\n",
    "scoreTree = accuracy_score(y_test, predictionsTree)\n",
    "print(f\"Decision Tree Classifier score is {scoreTree * 100}%\\n\")\n",
    "\n",
    "# fitting Random Forest classifier\n",
    "clf1 = RandomForestClassifier(max_features=23)\n",
    "clf1.fit(features, y_train)\n",
    "predictionsTree1 = clf1.predict(features2)\n",
    "scoreTree1 = accuracy_score(y_test, predictionsTree1)\n",
    "print(f\"Random Forest Classifier score is {scoreTree1 * 100}%\\n\")\n",
    "\n",
    "# fitting XGBoost\n",
    "# xgb = XGBClassifier()\n",
    "# xgb.fit(features.to_numpy(), y_train)\n",
    "# predictionsXGB = xgb.predict(X_test)\n",
    "# predictionsXGB = (predictionsXGB>0.5).astype(int)\n",
    "# scoreXGB = accuracy_score(y_test, predictionsXGB)\n",
    "# print(f\"XG Boost Classifier score is {scoreXGB * 100}%\\n\")\n",
    "\n",
    "# fitting KNN Classifier\n",
    "K = range(1, 20)\n",
    "acc = []\n",
    "for k in K:\n",
    "    knn = KNeighborsClassifier(n_neighbors=k)\n",
    "    knn.fit(features, y_train)\n",
    "    predictionsKNN = knn.predict(features2)\n",
    "    scoreKNN = accuracy_score(y_test, predictionsKNN)\n",
    "    print(f\"KNN Classifier score is {scoreKNN * 100}% with k = {k}\")\n",
    "    acc.append(scoreKNN*100)\n",
    "\n",
    "# Elbow plot:\n",
    "plt.plot(K, acc)\n",
    "plt.xlabel('K')\n",
    "plt.ylabel('Accuracy')\n",
    "plt.title(\"Elbow Curve without feature selection for Inter-Reseach Area\")\n",
    "\n",
    "plt.show()\n",
    "\n",
    "# MLP / ANN\n",
    "classifier = MLPClassifier(hidden_layer_sizes=(128, 64), max_iter=300, activation='relu', solver='adam', random_state=1)\n",
    "classifier.fit(features, y_train)\n",
    "predictionsMLP = classifier.predict(features2)\n",
    "scoreMLP = accuracy_score(y_test, predictionsMLP)\n",
    "print(f\"\\nMLP Classifier score is {scoreMLP * 100}%\\n\")"
   ]
  },
  {
   "cell_type": "code",
   "execution_count": 128,
   "id": "92jo2kOtutCA",
   "metadata": {
    "colab": {
     "base_uri": "https://localhost:8080/"
    },
    "id": "92jo2kOtutCA",
    "outputId": "89ff8df8-5c72-4b04-b159-5c07009bd96c"
   },
   "outputs": [
    {
     "name": "stdout",
     "output_type": "stream",
     "text": [
      "Number of mislabeled points out of a total 87 points : 40\n"
     ]
    }
   ],
   "source": [
    "from sklearn.naive_bayes import GaussianNB\n",
    "gnb = GaussianNB()\n",
    "y_pred = gnb.fit(features, y_train).predict(features2)\n",
    "print(\"Number of mislabeled points out of a total %d points : %d\"\n",
    "      % (X_test.shape[0], (y_test != y_pred).sum()))"
   ]
  },
  {
   "cell_type": "code",
   "execution_count": 129,
   "id": "Kj6dYRuQutCA",
   "metadata": {
    "colab": {
     "base_uri": "https://localhost:8080/"
    },
    "id": "Kj6dYRuQutCA",
    "outputId": "f673ba74-ef52-4c7d-fab4-9041ad051c52"
   },
   "outputs": [
    {
     "name": "stdout",
     "output_type": "stream",
     "text": [
      "              precision    recall  f1-score   support\n",
      "\n",
      "         0.0       0.82      0.54      0.65        68\n",
      "         1.0       0.26      0.58      0.36        19\n",
      "\n",
      "    accuracy                           0.55        87\n",
      "   macro avg       0.54      0.56      0.51        87\n",
      "weighted avg       0.70      0.55      0.59        87\n",
      "\n"
     ]
    }
   ],
   "source": [
    "from numpy import mean\n",
    "from numpy import std\n",
    "from sklearn.datasets import make_classification\n",
    "from sklearn.ensemble import GradientBoostingClassifier\n",
    "from sklearn.model_selection import cross_val_score\n",
    "from sklearn.model_selection import RepeatedStratifiedKFold\n",
    "from matplotlib import pyplot\n",
    "# define dataset\n",
    "# X, y = make_classification(n_samples=1000, n_features=10, n_informative=5, n_redundant=5, random_state=1)\n",
    "# evaluate the model\n",
    "# model = GradientBoostingClassifier()\n",
    "# cv = RepeatedStratifiedKFold(n_splits=10, n_repeats=3, random_state=1)\n",
    "# n_scores = cross_val_score(model, X_train, y_train, scoring='accuracy', cv=cv, n_jobs=-1, error_score='raise')\n",
    "# print('Accuracy: %.3f (%.3f)' % (mean(n_scores), std(n_scores)))\n",
    "# fit the model on the whole dataset\n",
    "model = GradientBoostingClassifier()\n",
    "model.fit(features, y_train)\n",
    "# make a single prediction\n",
    "# row = [[2.56999479, -0.13019997, 3.16075093, -4.35936352, -1.61271951, -1.39352057, -2.48924933, -1.93094078, 3.26130366, 2.05692145]]\n",
    "yhat = model.predict(features2)\n",
    "\n",
    "print(classification_report(yhat,y_test))"
   ]
  },
  {
   "cell_type": "code",
   "execution_count": 130,
   "id": "enHD5HdYutCB",
   "metadata": {
    "colab": {
     "base_uri": "https://localhost:8080/"
    },
    "id": "enHD5HdYutCB",
    "outputId": "3895dba7-87f7-4c46-b096-6181b8f513e9"
   },
   "outputs": [
    {
     "name": "stdout",
     "output_type": "stream",
     "text": [
      "              precision    recall  f1-score   support\n",
      "\n",
      "         0.0       0.04      1.00      0.09         2\n",
      "         1.0       1.00      0.49      0.66        85\n",
      "\n",
      "    accuracy                           0.51        87\n",
      "   macro avg       0.52      0.75      0.37        87\n",
      "weighted avg       0.98      0.51      0.65        87\n",
      "\n"
     ]
    }
   ],
   "source": [
    "# histogram-based gradient boosting for classification in scikit-learn\n",
    "from numpy import mean\n",
    "from numpy import std\n",
    "from sklearn.datasets import make_classification\n",
    "from sklearn.experimental import enable_hist_gradient_boosting\n",
    "from sklearn.ensemble import HistGradientBoostingClassifier\n",
    "from sklearn.model_selection import cross_val_score\n",
    "from sklearn.model_selection import RepeatedStratifiedKFold\n",
    "from matplotlib import pyplot\n",
    "# evaluate the model\n",
    "# model = HistGradientBoostingClassifier()\n",
    "# cv = RepeatedStratifiedKFold(n_splits=10, n_repeats=3, random_state=1)\n",
    "# n_scores = cross_val_score(model, features, y_train, scoring='accuracy', cv=cv, n_jobs=-1, error_score='raise')\n",
    "# print('Accuracy: %.3f (%.3f)' % (mean(n_scores), std(n_scores)))\n",
    "# fit the model on the whole dataset\n",
    "model = HistGradientBoostingClassifier()\n",
    "model.fit(features, y_train)\n",
    "# make a single prediction\n",
    "yhat = model.predict(features2)\n",
    "print(classification_report(yhat,y_test))"
   ]
  },
  {
   "cell_type": "code",
   "execution_count": 131,
   "id": "xBesZOlkutCB",
   "metadata": {
    "colab": {
     "base_uri": "https://localhost:8080/",
     "height": 0
    },
    "id": "xBesZOlkutCB",
    "outputId": "1ab49c2d-f24d-4d11-d1f1-9ecebf9b89a7"
   },
   "outputs": [
    {
     "name": "stdout",
     "output_type": "stream",
     "text": [
      "[11:27:06] WARNING: C:/Users/Administrator/workspace/xgboost-win64_release_1.4.0/src/learner.cc:1095: Starting in XGBoost 1.3.0, the default evaluation metric used with the objective 'binary:logistic' was changed from 'error' to 'logloss'. Explicitly set eval_metric if you'd like to restore the old behavior.\n",
      "              precision    recall  f1-score   support\n",
      "\n",
      "         0.0       0.87      0.54      0.67        72\n",
      "         1.0       0.21      0.60      0.32        15\n",
      "\n",
      "    accuracy                           0.55        87\n",
      "   macro avg       0.54      0.57      0.49        87\n",
      "weighted avg       0.75      0.55      0.61        87\n",
      "\n"
     ]
    }
   ],
   "source": [
    "# xgboost for classification\n",
    "from numpy import asarray\n",
    "from numpy import mean\n",
    "from numpy import std\n",
    "# from sklearn.datasets import make_classification\n",
    "from xgboost import XGBClassifier\n",
    "from sklearn.model_selection import cross_val_score\n",
    "from sklearn.model_selection import RepeatedStratifiedKFold\n",
    "from matplotlib import pyplot\n",
    "# define dataset\n",
    "# X, y = make_classification(n_samples=1000, n_features=10, n_informative=5, n_redundant=5, random_state=1)\n",
    "# evaluate the model\n",
    "# model = XGBClassifier()\n",
    "# cv = RepeatedStratifiedKFold(n_splits=10, n_repeats=3, random_state=1)\n",
    "# n_scores = cross_val_score(model, features, y_train, scoring='accuracy', cv=cv, n_jobs=-1, error_score='raise')\n",
    "# print('Accuracy: %.3f (%.3f)' % (mean(n_scores), std(n_scores)))\n",
    "# fit the model on the whole dataset\n",
    "model = XGBClassifier()\n",
    "model.fit(features, y_train)\n",
    "# make a single prediction\n",
    "yhat = model.predict(features2)\n",
    "print(classification_report(yhat,y_test))"
   ]
  },
  {
   "cell_type": "code",
   "execution_count": 132,
   "id": "71ZGaSpPutCB",
   "metadata": {
    "colab": {
     "base_uri": "https://localhost:8080/"
    },
    "id": "71ZGaSpPutCB",
    "outputId": "da7db305-08d0-4720-8d64-76ce9a8b6d76"
   },
   "outputs": [
    {
     "name": "stdout",
     "output_type": "stream",
     "text": [
      "              precision    recall  f1-score   support\n",
      "\n",
      "         0.0       0.07      0.75      0.12         4\n",
      "         1.0       0.98      0.49      0.66        83\n",
      "\n",
      "    accuracy                           0.51        87\n",
      "   macro avg       0.52      0.62      0.39        87\n",
      "weighted avg       0.93      0.51      0.63        87\n",
      "\n"
     ]
    }
   ],
   "source": [
    "# lightgbm for classification\n",
    "from numpy import mean\n",
    "from numpy import std\n",
    "# from sklearn.datasets import make_classification\n",
    "from lightgbm import LGBMClassifier\n",
    "from sklearn.model_selection import cross_val_score\n",
    "from sklearn.model_selection import RepeatedStratifiedKFold\n",
    "from matplotlib import pyplot\n",
    "# evaluate the model\n",
    "# model = LGBMClassifier()\n",
    "# cv = RepeatedStratifiedKFold(n_splits=10, n_repeats=3, random_state=1)\n",
    "# n_scores = cross_val_score(model, features, y_train, scoring='accuracy', cv=cv, n_jobs=-1, error_score='raise')\n",
    "# print('Accuracy: %.3f (%.3f)' % (mean(n_scores), std(n_scores)))\n",
    "# fit the model on the whole dataset\n",
    "model = LGBMClassifier()\n",
    "model.fit(features, y_train)\n",
    "# make a single prediction\n",
    "yhat = model.predict(features2)\n",
    "print(classification_report(yhat,y_test))"
   ]
  },
  {
   "cell_type": "code",
   "execution_count": null,
   "id": "ZLWT-1RtutCB",
   "metadata": {
    "id": "ZLWT-1RtutCB"
   },
   "outputs": [],
   "source": []
  },
  {
   "cell_type": "markdown",
   "id": "VoP0_tbUmPcu",
   "metadata": {
    "id": "VoP0_tbUmPcu"
   },
   "source": [
    "# Models rfe features"
   ]
  },
  {
   "cell_type": "code",
   "execution_count": 134,
   "id": "ZAFnTYc2mPc1",
   "metadata": {
    "id": "ZAFnTYc2mPc1"
   },
   "outputs": [],
   "source": [
    "import pandas as pd\n",
    "import numpy as np\n",
    "from sklearn.linear_model import LogisticRegression\n",
    "from sklearn import svm\n",
    "from sklearn import tree\n",
    "from sklearn.ensemble import RandomForestClassifier\n",
    "from sklearn.neighbors import KNeighborsClassifier\n",
    "from xgboost import XGBClassifier\n",
    "from sklearn.model_selection import train_test_split\n",
    "from sklearn.neural_network import MLPClassifier\n",
    "from sklearn.preprocessing import StandardScaler\n",
    "import seaborn as sns\n",
    "import matplotlib.pyplot as plt\n",
    "from sklearn.metrics import accuracy_score\n",
    "from sklearn.feature_selection import SelectFromModel\n",
    "\n",
    "from sklearn.decomposition import PCA\n",
    "from sklearn.manifold import TSNE\n",
    "%matplotlib inline\n",
    "import matplotlib.pyplot as plt\n",
    "from mpl_toolkits.mplot3d import Axes3D\n",
    "\n",
    "\n",
    "\n",
    "import warnings\n",
    "warnings.filterwarnings('ignore')"
   ]
  },
  {
   "cell_type": "code",
   "execution_count": 152,
   "id": "7bI-4T2qmPc1",
   "metadata": {
    "id": "7bI-4T2qmPc1"
   },
   "outputs": [],
   "source": [
    "features = X_train[rfe_feature]\n",
    "features2 = X_test[rfe_feature]"
   ]
  },
  {
   "cell_type": "code",
   "execution_count": 153,
   "id": "xMvcCaO_mPc2",
   "metadata": {
    "colab": {
     "base_uri": "https://localhost:8080/"
    },
    "id": "xMvcCaO_mPc2",
    "outputId": "327711eb-8f6a-4f0f-b1c3-9f76d2ec4d71"
   },
   "outputs": [
    {
     "data": {
      "text/plain": [
       "0"
      ]
     },
     "execution_count": 153,
     "metadata": {},
     "output_type": "execute_result"
    }
   ],
   "source": [
    "features.isna().sum().sum()"
   ]
  },
  {
   "cell_type": "code",
   "execution_count": 154,
   "id": "6HIGdTFWmPc2",
   "metadata": {
    "colab": {
     "base_uri": "https://localhost:8080/"
    },
    "id": "6HIGdTFWmPc2",
    "outputId": "0e617e5f-b459-4446-fcc9-b5e02c8aa963"
   },
   "outputs": [
    {
     "data": {
      "text/plain": [
       "0"
      ]
     },
     "execution_count": 154,
     "metadata": {},
     "output_type": "execute_result"
    }
   ],
   "source": [
    "X_test.isna().sum().sum()"
   ]
  },
  {
   "cell_type": "code",
   "execution_count": 138,
   "id": "3oKAnumSmPc2",
   "metadata": {
    "colab": {
     "base_uri": "https://localhost:8080/"
    },
    "id": "3oKAnumSmPc2",
    "outputId": "b79d069c-9db2-4477-e785-adedd15956a5"
   },
   "outputs": [
    {
     "name": "stdout",
     "output_type": "stream",
     "text": [
      "              precision    recall  f1-score   support\n",
      "\n",
      "           0       0.64      0.49      0.56        59\n",
      "           1       0.29      0.43      0.34        28\n",
      "\n",
      "    accuracy                           0.47        87\n",
      "   macro avg       0.47      0.46      0.45        87\n",
      "weighted avg       0.53      0.47      0.49        87\n",
      "\n"
     ]
    }
   ],
   "source": [
    "from sklearn.model_selection import cross_val_score\n",
    "# from sklearn.datasets import load_iris\n",
    "from sklearn.ensemble import AdaBoostClassifier\n",
    "\n",
    "# X, y = load_iris(return_X_y=True)\n",
    "clf = AdaBoostClassifier()\n",
    "# scores = cross_val_score(clf, features, y_train, cv=5)\n",
    "# print(scores.mean())\n",
    "clf.fit(features, y_train)\n",
    "y_pred = (clf.predict(features2)>0.5).astype(int)\n",
    "from sklearn.metrics import classification_report\n",
    "print(classification_report(y_pred,y_test))\n"
   ]
  },
  {
   "cell_type": "code",
   "execution_count": 139,
   "id": "pUUQ50WxmPc2",
   "metadata": {
    "colab": {
     "base_uri": "https://localhost:8080/"
    },
    "id": "pUUQ50WxmPc2",
    "outputId": "119b34ca-d047-44e4-af08-07820e8fc607"
   },
   "outputs": [
    {
     "name": "stdout",
     "output_type": "stream",
     "text": [
      "              precision    recall  f1-score   support\n",
      "\n",
      "         0.0       0.56      0.64      0.60        45\n",
      "         1.0       0.54      0.45      0.49        42\n",
      "\n",
      "    accuracy                           0.55        87\n",
      "   macro avg       0.55      0.55      0.55        87\n",
      "weighted avg       0.55      0.55      0.55        87\n",
      "\n"
     ]
    }
   ],
   "source": [
    "from sklearn.svm import SVC\n",
    "\n",
    "svclassifier = SVC(gamma='auto')\n",
    "svclassifier.fit(features, y_train)\n",
    "y_pred = svclassifier.predict(features2)\n",
    "print(classification_report(y_test, y_pred))"
   ]
  },
  {
   "cell_type": "code",
   "execution_count": 140,
   "id": "12141LsmmPc3",
   "metadata": {
    "colab": {
     "base_uri": "https://localhost:8080/"
    },
    "id": "12141LsmmPc3",
    "outputId": "2b824337-feab-4105-b9d0-c797884bbfec"
   },
   "outputs": [
    {
     "name": "stdout",
     "output_type": "stream",
     "text": [
      "Accuracy: 0.62 (+/- 0.02) [DecisionTreeClassifier]\n",
      "Accuracy: 0.68 (+/- 0.03) [KNNClassifier]\n",
      "Accuracy: 0.72 (+/- 0.03) [SVC]\n",
      "Accuracy: 0.65 (+/- 0.03) [voting]\n"
     ]
    }
   ],
   "source": [
    "from sklearn import datasets\n",
    "from sklearn.tree import DecisionTreeClassifier\n",
    "from sklearn.neighbors import KNeighborsClassifier\n",
    "from sklearn.svm import SVC\n",
    "from itertools import product\n",
    "from sklearn.ensemble import VotingClassifier\n",
    "\n",
    "\n",
    "clf1 = DecisionTreeClassifier()\n",
    "clf2 = KNeighborsClassifier()\n",
    "clf3 = SVC(kernel='rbf', probability=True)\n",
    "eclf = VotingClassifier(estimators=[('dt', clf1), ('knn', clf2), ('svc', clf3)],\n",
    "                        voting='soft', weights=[2, 2, 2])\n",
    "\n",
    "clf1 = clf1.fit(features, y_train)\n",
    "clf2 = clf2.fit(features, y_train)\n",
    "clf3 = clf3.fit(features, y_train)\n",
    "eclf = eclf.fit(features, y_train)\n",
    "\n",
    "for clf, label in zip([clf1, clf2, clf3, eclf], ['DecisionTreeClassifier', 'KNNClassifier', 'SVC', 'voting']):\n",
    "    scores = cross_val_score(clf, features, y_train, scoring='accuracy', cv=5)\n",
    "    print(\"Accuracy: %0.2f (+/- %0.2f) [%s]\" % (scores.mean(), scores.std(), label))"
   ]
  },
  {
   "cell_type": "code",
   "execution_count": 155,
   "id": "9ba5121f",
   "metadata": {},
   "outputs": [
    {
     "name": "stdout",
     "output_type": "stream",
     "text": [
      "Support Vector Classifier score is 55.172413793103445%\n",
      "\n",
      "              precision    recall  f1-score   support\n",
      "\n",
      "         0.0       0.56      0.64      0.60        45\n",
      "         1.0       0.54      0.45      0.49        42\n",
      "\n",
      "    accuracy                           0.55        87\n",
      "   macro avg       0.55      0.55      0.55        87\n",
      "weighted avg       0.55      0.55      0.55        87\n",
      "\n"
     ]
    }
   ],
   "source": [
    "svc = SVC(kernel='rbf', probability=True)\n",
    "svc.fit(features, y_train)\n",
    "predictionsSVC = svc.predict(features2)\n",
    "scoreSVC = accuracy_score(y_test, predictionsSVC)\n",
    "print(f\"Support Vector Classifier score is {scoreSVC * 100}%\\n\")\n",
    "print(classification_report(y_test,predictionsSVC))"
   ]
  },
  {
   "cell_type": "code",
   "execution_count": 141,
   "id": "ft02PlTrmPc3",
   "metadata": {
    "colab": {
     "base_uri": "https://localhost:8080/",
     "height": 827
    },
    "id": "ft02PlTrmPc3",
    "outputId": "2c17b87c-c92c-497f-eb33-043862725a7a"
   },
   "outputs": [
    {
     "name": "stdout",
     "output_type": "stream",
     "text": [
      "Logistic Regression score is 55.172413793103445% \n",
      "\n",
      "Support Vector Classifier score is 55.172413793103445%\n",
      "\n",
      "Decision Tree Classifier score is 51.724137931034484%\n",
      "\n",
      "Random Forest Classifier score is 48.275862068965516%\n",
      "\n",
      "KNN Classifier score is 44.827586206896555% with k = 1\n",
      "KNN Classifier score is 45.97701149425287% with k = 2\n",
      "KNN Classifier score is 45.97701149425287% with k = 3\n",
      "KNN Classifier score is 51.724137931034484% with k = 4\n",
      "KNN Classifier score is 50.57471264367817% with k = 5\n",
      "KNN Classifier score is 51.724137931034484% with k = 6\n",
      "KNN Classifier score is 45.97701149425287% with k = 7\n",
      "KNN Classifier score is 43.67816091954023% with k = 8\n",
      "KNN Classifier score is 44.827586206896555% with k = 9\n",
      "KNN Classifier score is 44.827586206896555% with k = 10\n",
      "KNN Classifier score is 44.827586206896555% with k = 11\n",
      "KNN Classifier score is 44.827586206896555% with k = 12\n",
      "KNN Classifier score is 44.827586206896555% with k = 13\n",
      "KNN Classifier score is 49.42528735632184% with k = 14\n",
      "KNN Classifier score is 45.97701149425287% with k = 15\n",
      "KNN Classifier score is 49.42528735632184% with k = 16\n",
      "KNN Classifier score is 43.67816091954023% with k = 17\n",
      "KNN Classifier score is 47.12643678160919% with k = 18\n",
      "KNN Classifier score is 44.827586206896555% with k = 19\n"
     ]
    },
    {
     "data": {
      "image/png": "[encoded data removed]",
      "text/plain": [
       "<Figure size 432x288 with 1 Axes>"
      ]
     },
     "metadata": {
      "needs_background": "light"
     },
     "output_type": "display_data"
    },
    {
     "name": "stdout",
     "output_type": "stream",
     "text": [
      "\n",
      "MLP Classifier score is 49.42528735632184%\n",
      "\n"
     ]
    }
   ],
   "source": [
    "# fitting logistic regression\n",
    "lr = LogisticRegression()\n",
    "lr.fit(features, y_train)\n",
    "predictionsLR = lr.predict(features2)\n",
    "scoreLR = accuracy_score(y_test, predictionsLR)\n",
    "print(f\"Logistic Regression score is {scoreLR * 100}% \\n\")\n",
    "\n",
    "# fitting SVC\n",
    "svc = svm.LinearSVC()\n",
    "svc.fit(features, y_train)\n",
    "predictionsSVC = svc.predict(features2)\n",
    "scoreSVC = accuracy_score(y_test, predictionsSVC)\n",
    "print(f\"Support Vector Classifier score is {scoreSVC * 100}%\\n\")\n",
    "\n",
    "# fitting decision tree classifier\n",
    "clf = tree.DecisionTreeClassifier()\n",
    "clf.fit(features, y_train)\n",
    "predictionsTree = clf.predict(features2)\n",
    "scoreTree = accuracy_score(y_test, predictionsTree)\n",
    "print(f\"Decision Tree Classifier score is {scoreTree * 100}%\\n\")\n",
    "\n",
    "# fitting Random Forest classifier\n",
    "clf1 = RandomForestClassifier(max_features=23)\n",
    "clf1.fit(features, y_train)\n",
    "predictionsTree1 = clf1.predict(features2)\n",
    "scoreTree1 = accuracy_score(y_test, predictionsTree1)\n",
    "print(f\"Random Forest Classifier score is {scoreTree1 * 100}%\\n\")\n",
    "\n",
    "# fitting XGBoost\n",
    "# xgb = XGBClassifier()\n",
    "# xgb.fit(features.to_numpy(), y_train)\n",
    "# predictionsXGB = xgb.predict(X_test)\n",
    "# predictionsXGB = (predictionsXGB>0.5).astype(int)\n",
    "# scoreXGB = accuracy_score(y_test, predictionsXGB)\n",
    "# print(f\"XG Boost Classifier score is {scoreXGB * 100}%\\n\")\n",
    "\n",
    "# fitting KNN Classifier\n",
    "K = range(1, 20)\n",
    "acc = []\n",
    "for k in K:\n",
    "    knn = KNeighborsClassifier(n_neighbors=k)\n",
    "    knn.fit(features, y_train)\n",
    "    predictionsKNN = knn.predict(features2)\n",
    "    scoreKNN = accuracy_score(y_test, predictionsKNN)\n",
    "    print(f\"KNN Classifier score is {scoreKNN * 100}% with k = {k}\")\n",
    "    acc.append(scoreKNN*100)\n",
    "\n",
    "# Elbow plot:\n",
    "plt.plot(K, acc)\n",
    "plt.xlabel('K')\n",
    "plt.ylabel('Accuracy')\n",
    "plt.title(\"Elbow Curve without feature selection for Inter-Reseach Area\")\n",
    "\n",
    "plt.show()\n",
    "\n",
    "# MLP / ANN\n",
    "classifier = MLPClassifier(hidden_layer_sizes=(128, 64), max_iter=300, activation='relu', solver='adam', random_state=1)\n",
    "classifier.fit(features, y_train)\n",
    "predictionsMLP = classifier.predict(features2)\n",
    "scoreMLP = accuracy_score(y_test, predictionsMLP)\n",
    "print(f\"\\nMLP Classifier score is {scoreMLP * 100}%\\n\")"
   ]
  },
  {
   "cell_type": "code",
   "execution_count": 147,
   "id": "yc8ST0-KmPc3",
   "metadata": {
    "colab": {
     "base_uri": "https://localhost:8080/"
    },
    "id": "yc8ST0-KmPc3",
    "outputId": "70a837cf-0a7a-46c1-d476-e1e6a5a43af8"
   },
   "outputs": [
    {
     "name": "stdout",
     "output_type": "stream",
     "text": [
      "Number of mislabeled points out of a total 87 points : 38\n"
     ]
    }
   ],
   "source": [
    "from sklearn.naive_bayes import GaussianNB\n",
    "gnb = GaussianNB()\n",
    "y_pred = gnb.fit(features, y_train).predict(features2)\n",
    "print(\"Number of mislabeled points out of a total %d points : %d\"\n",
    "      % (X_test.shape[0], (y_test != y_pred).sum()))"
   ]
  },
  {
   "cell_type": "code",
   "execution_count": 148,
   "id": "db697daf",
   "metadata": {},
   "outputs": [
    {
     "name": "stdout",
     "output_type": "stream",
     "text": [
      "              precision    recall  f1-score   support\n",
      "\n",
      "         0.0       0.87      0.55      0.67        71\n",
      "         1.0       0.24      0.62      0.34        16\n",
      "\n",
      "    accuracy                           0.56        87\n",
      "   macro avg       0.55      0.59      0.51        87\n",
      "weighted avg       0.75      0.56      0.61        87\n",
      "\n"
     ]
    }
   ],
   "source": [
    "print(classification_report(y_pred,y_test))"
   ]
  },
  {
   "cell_type": "code",
   "execution_count": 143,
   "id": "MzUZBG3OmPc3",
   "metadata": {
    "colab": {
     "base_uri": "https://localhost:8080/"
    },
    "id": "MzUZBG3OmPc3",
    "outputId": "ebb3f185-8cfd-40c0-b260-ffda72b5b491"
   },
   "outputs": [
    {
     "name": "stdout",
     "output_type": "stream",
     "text": [
      "              precision    recall  f1-score   support\n",
      "\n",
      "         0.0       0.64      0.57      0.60        51\n",
      "         1.0       0.48      0.56      0.51        36\n",
      "\n",
      "    accuracy                           0.56        87\n",
      "   macro avg       0.56      0.56      0.56        87\n",
      "weighted avg       0.57      0.56      0.57        87\n",
      "\n"
     ]
    }
   ],
   "source": [
    "from numpy import mean\n",
    "from numpy import std\n",
    "from sklearn.datasets import make_classification\n",
    "from sklearn.ensemble import GradientBoostingClassifier\n",
    "from sklearn.model_selection import cross_val_score\n",
    "from sklearn.model_selection import RepeatedStratifiedKFold\n",
    "from matplotlib import pyplot\n",
    "# define dataset\n",
    "# X, y = make_classification(n_samples=1000, n_features=10, n_informative=5, n_redundant=5, random_state=1)\n",
    "# evaluate the model\n",
    "# model = GradientBoostingClassifier()\n",
    "# cv = RepeatedStratifiedKFold(n_splits=10, n_repeats=3, random_state=1)\n",
    "# n_scores = cross_val_score(model, X_train, y_train, scoring='accuracy', cv=cv, n_jobs=-1, error_score='raise')\n",
    "# print('Accuracy: %.3f (%.3f)' % (mean(n_scores), std(n_scores)))\n",
    "# fit the model on the whole dataset\n",
    "model = GradientBoostingClassifier()\n",
    "model.fit(features, y_train)\n",
    "# make a single prediction\n",
    "# row = [[2.56999479, -0.13019997, 3.16075093, -4.35936352, -1.61271951, -1.39352057, -2.48924933, -1.93094078, 3.26130366, 2.05692145]]\n",
    "yhat = model.predict(features2)\n",
    "\n",
    "print(classification_report(yhat,y_test))"
   ]
  },
  {
   "cell_type": "code",
   "execution_count": 144,
   "id": "gl9ZEeFImPc4",
   "metadata": {
    "colab": {
     "base_uri": "https://localhost:8080/"
    },
    "id": "gl9ZEeFImPc4",
    "outputId": "d130c683-b2eb-4b37-b00e-6a33d3ef5ad6"
   },
   "outputs": [
    {
     "name": "stdout",
     "output_type": "stream",
     "text": [
      "              precision    recall  f1-score   support\n",
      "\n",
      "         0.0       0.58      0.50      0.54        52\n",
      "         1.0       0.38      0.46      0.42        35\n",
      "\n",
      "    accuracy                           0.48        87\n",
      "   macro avg       0.48      0.48      0.48        87\n",
      "weighted avg       0.50      0.48      0.49        87\n",
      "\n"
     ]
    }
   ],
   "source": [
    "# histogram-based gradient boosting for classification in scikit-learn\n",
    "from numpy import mean\n",
    "from numpy import std\n",
    "from sklearn.datasets import make_classification\n",
    "from sklearn.experimental import enable_hist_gradient_boosting\n",
    "from sklearn.ensemble import HistGradientBoostingClassifier\n",
    "from sklearn.model_selection import cross_val_score\n",
    "from sklearn.model_selection import RepeatedStratifiedKFold\n",
    "from matplotlib import pyplot\n",
    "# evaluate the model\n",
    "# model = HistGradientBoostingClassifier()\n",
    "# cv = RepeatedStratifiedKFold(n_splits=10, n_repeats=3, random_state=1)\n",
    "# n_scores = cross_val_score(model, features, y_train, scoring='accuracy', cv=cv, n_jobs=-1, error_score='raise')\n",
    "# print('Accuracy: %.3f (%.3f)' % (mean(n_scores), std(n_scores)))\n",
    "# fit the model on the whole dataset\n",
    "model = HistGradientBoostingClassifier()\n",
    "model.fit(features, y_train)\n",
    "# make a single prediction\n",
    "yhat = model.predict(features2)\n",
    "print(classification_report(yhat,y_test))"
   ]
  },
  {
   "cell_type": "code",
   "execution_count": 145,
   "id": "chk-JdFmmPc4",
   "metadata": {
    "colab": {
     "base_uri": "https://localhost:8080/",
     "height": 387
    },
    "id": "chk-JdFmmPc4",
    "outputId": "bb271dec-ea1e-4d10-f2c6-1512a8968b2e"
   },
   "outputs": [
    {
     "name": "stdout",
     "output_type": "stream",
     "text": [
      "[11:27:53] WARNING: C:/Users/Administrator/workspace/xgboost-win64_release_1.4.0/src/learner.cc:1095: Starting in XGBoost 1.3.0, the default evaluation metric used with the objective 'binary:logistic' was changed from 'error' to 'logloss'. Explicitly set eval_metric if you'd like to restore the old behavior.\n",
      "              precision    recall  f1-score   support\n",
      "\n",
      "         0.0       0.56      0.52      0.54        48\n",
      "         1.0       0.45      0.49      0.47        39\n",
      "\n",
      "    accuracy                           0.51        87\n",
      "   macro avg       0.50      0.50      0.50        87\n",
      "weighted avg       0.51      0.51      0.51        87\n",
      "\n"
     ]
    }
   ],
   "source": [
    "# xgboost for classification\n",
    "from numpy import asarray\n",
    "from numpy import mean\n",
    "from numpy import std\n",
    "from sklearn.datasets import make_classification\n",
    "from xgboost import XGBClassifier\n",
    "from sklearn.model_selection import cross_val_score\n",
    "from sklearn.model_selection import RepeatedStratifiedKFold\n",
    "from matplotlib import pyplot\n",
    "# define dataset\n",
    "X, y = make_classification(n_samples=1000, n_features=10, n_informative=5, n_redundant=5, random_state=1)\n",
    "# evaluate the model\n",
    "# model = XGBClassifier()\n",
    "# cv = RepeatedStratifiedKFold(n_splits=10, n_repeats=3, random_state=1)\n",
    "# n_scores = cross_val_score(model, features, y_train, scoring='accuracy', cv=cv, n_jobs=-1, error_score='raise')\n",
    "# print('Accuracy: %.3f (%.3f)' % (mean(n_scores), std(n_scores)))\n",
    "# fit the model on the whole dataset\n",
    "model = XGBClassifier()\n",
    "model.fit(features, y_train)\n",
    "# make a single prediction\n",
    "yhat = model.predict(features2)\n",
    "print(classification_report(yhat,y_test))"
   ]
  },
  {
   "cell_type": "code",
   "execution_count": 146,
   "id": "yTS9Ii_zmPc4",
   "metadata": {
    "colab": {
     "base_uri": "https://localhost:8080/"
    },
    "id": "yTS9Ii_zmPc4",
    "outputId": "b8e75f5b-28f3-48ed-8c5f-16b05301df9f"
   },
   "outputs": [
    {
     "name": "stdout",
     "output_type": "stream",
     "text": [
      "              precision    recall  f1-score   support\n",
      "\n",
      "         0.0       0.56      0.48      0.52        52\n",
      "         1.0       0.36      0.43      0.39        35\n",
      "\n",
      "    accuracy                           0.46        87\n",
      "   macro avg       0.46      0.45      0.45        87\n",
      "weighted avg       0.48      0.46      0.46        87\n",
      "\n"
     ]
    }
   ],
   "source": [
    "# lightgbm for classification\n",
    "from numpy import mean\n",
    "from numpy import std\n",
    "from sklearn.datasets import make_classification\n",
    "from lightgbm import LGBMClassifier\n",
    "from sklearn.model_selection import cross_val_score\n",
    "from sklearn.model_selection import RepeatedStratifiedKFold\n",
    "from matplotlib import pyplot\n",
    "# evaluate the model\n",
    "# model = LGBMClassifier()\n",
    "# cv = RepeatedStratifiedKFold(n_splits=10, n_repeats=3, random_state=1)\n",
    "# n_scores = cross_val_score(model, features, y_train, scoring='accuracy', cv=cv, n_jobs=-1, error_score='raise')\n",
    "# print('Accuracy: %.3f (%.3f)' % (mean(n_scores), std(n_scores)))\n",
    "# fit the model on the whole dataset\n",
    "model = LGBMClassifier()\n",
    "model.fit(features, y_train)\n",
    "# make a single prediction\n",
    "yhat = model.predict(features2)\n",
    "print(classification_report(yhat,y_test))"
   ]
  },
  {
   "cell_type": "code",
   "execution_count": 134,
   "id": "RKVX4MyBmPc4",
   "metadata": {
    "id": "RKVX4MyBmPc4"
   },
   "outputs": [],
   "source": []
  },
  {
   "cell_type": "markdown",
   "id": "1r_X3Et_owwx",
   "metadata": {
    "id": "1r_X3Et_owwx"
   },
   "source": [
    "# Models embed"
   ]
  },
  {
   "cell_type": "code",
   "execution_count": null,
   "id": "pPK2Yxltoww6",
   "metadata": {
    "id": "pPK2Yxltoww6"
   },
   "outputs": [],
   "source": [
    "import pandas as pd\n",
    "import numpy as np\n",
    "from sklearn.linear_model import LogisticRegression\n",
    "from sklearn import svm\n",
    "from sklearn import tree\n",
    "from sklearn.ensemble import RandomForestClassifier\n",
    "from sklearn.neighbors import KNeighborsClassifier\n",
    "from xgboost import XGBClassifier\n",
    "from sklearn.model_selection import train_test_split\n",
    "from sklearn.neural_network import MLPClassifier\n",
    "from sklearn.preprocessing import StandardScaler\n",
    "import seaborn as sns\n",
    "import matplotlib.pyplot as plt\n",
    "from sklearn.metrics import accuracy_score\n",
    "from sklearn.feature_selection import SelectFromModel\n",
    "\n",
    "from sklearn.decomposition import PCA\n",
    "from sklearn.manifold import TSNE\n",
    "%matplotlib inline\n",
    "import matplotlib.pyplot as plt\n",
    "from mpl_toolkits.mplot3d import Axes3D\n",
    "\n",
    "\n",
    "\n",
    "import warnings\n",
    "warnings.filterwarnings('ignore')"
   ]
  },
  {
   "cell_type": "code",
   "execution_count": 138,
   "id": "nIWGQWBOoww6",
   "metadata": {
    "id": "nIWGQWBOoww6"
   },
   "outputs": [],
   "source": [
    "features = X_train[embeded_lr_feature]\n",
    "features2 = X_test[embeded_lr_feature]"
   ]
  },
  {
   "cell_type": "code",
   "execution_count": 139,
   "id": "NHYfxjl7oww6",
   "metadata": {
    "colab": {
     "base_uri": "https://localhost:8080/"
    },
    "id": "NHYfxjl7oww6",
    "outputId": "da6939bb-d592-4436-fa01-ea7bd295481e"
   },
   "outputs": [
    {
     "data": {
      "text/plain": [
       "0"
      ]
     },
     "execution_count": 139,
     "metadata": {
      "tags": []
     },
     "output_type": "execute_result"
    }
   ],
   "source": [
    "features.isna().sum().sum()"
   ]
  },
  {
   "cell_type": "code",
   "execution_count": 140,
   "id": "9-7uYPMDoww7",
   "metadata": {
    "colab": {
     "base_uri": "https://localhost:8080/"
    },
    "id": "9-7uYPMDoww7",
    "outputId": "353d454a-29b9-4322-de7f-3043930e8af5"
   },
   "outputs": [
    {
     "data": {
      "text/plain": [
       "0"
      ]
     },
     "execution_count": 140,
     "metadata": {
      "tags": []
     },
     "output_type": "execute_result"
    }
   ],
   "source": [
    "X_test.isna().sum().sum()"
   ]
  },
  {
   "cell_type": "code",
   "execution_count": 141,
   "id": "gpV4yAsvoww7",
   "metadata": {
    "colab": {
     "base_uri": "https://localhost:8080/"
    },
    "id": "gpV4yAsvoww7",
    "outputId": "01cc12c2-a00f-490a-9f5e-35c720e0a380"
   },
   "outputs": [
    {
     "name": "stdout",
     "output_type": "stream",
     "text": [
      "              precision    recall  f1-score   support\n",
      "\n",
      "           0       0.31      0.52      0.39        27\n",
      "           1       0.69      0.48      0.57        60\n",
      "\n",
      "    accuracy                           0.49        87\n",
      "   macro avg       0.50      0.50      0.48        87\n",
      "weighted avg       0.57      0.49      0.51        87\n",
      "\n"
     ]
    }
   ],
   "source": [
    "from sklearn.model_selection import cross_val_score\n",
    "# from sklearn.datasets import load_iris\n",
    "from sklearn.ensemble import AdaBoostClassifier\n",
    "\n",
    "# X, y = load_iris(return_X_y=True)\n",
    "clf = AdaBoostClassifier()\n",
    "# scores = cross_val_score(clf, features, y_train, cv=5)\n",
    "# print(scores.mean())\n",
    "clf.fit(features, y_train)\n",
    "y_pred = (clf.predict(features2)>0.5).astype(int)\n",
    "from sklearn.metrics import classification_report\n",
    "print(classification_report(y_pred,y_test))\n"
   ]
  },
  {
   "cell_type": "code",
   "execution_count": 142,
   "id": "AAJHjOUvoww7",
   "metadata": {
    "colab": {
     "base_uri": "https://localhost:8080/"
    },
    "id": "AAJHjOUvoww7",
    "outputId": "42a5dccf-450f-428e-a326-f4e29fd0147e"
   },
   "outputs": [
    {
     "name": "stdout",
     "output_type": "stream",
     "text": [
      "              precision    recall  f1-score   support\n",
      "\n",
      "           0       0.53      0.20      0.29        45\n",
      "           1       0.49      0.81      0.61        42\n",
      "\n",
      "    accuracy                           0.49        87\n",
      "   macro avg       0.51      0.50      0.45        87\n",
      "weighted avg       0.51      0.49      0.44        87\n",
      "\n"
     ]
    }
   ],
   "source": [
    "from sklearn.svm import SVC\n",
    "\n",
    "svclassifier = SVC(gamma='auto')\n",
    "svclassifier.fit(features, y_train)\n",
    "y_pred = svclassifier.predict(features2)\n",
    "print(classification_report(y_test, y_pred))"
   ]
  },
  {
   "cell_type": "code",
   "execution_count": 143,
   "id": "Zc-QrRafoww7",
   "metadata": {
    "colab": {
     "base_uri": "https://localhost:8080/"
    },
    "id": "Zc-QrRafoww7",
    "outputId": "b70423ec-217b-4c83-df64-985cb4bdbc79"
   },
   "outputs": [
    {
     "name": "stdout",
     "output_type": "stream",
     "text": [
      "Accuracy: 0.51 (+/- 0.04) [DecisionTreeClassifier]\n",
      "Accuracy: 0.54 (+/- 0.01) [KNNClassifier]\n",
      "Accuracy: 0.59 (+/- 0.02) [SVC]\n",
      "Accuracy: 0.53 (+/- 0.04) [voting]\n"
     ]
    }
   ],
   "source": [
    "from sklearn import datasets\n",
    "from sklearn.tree import DecisionTreeClassifier\n",
    "from sklearn.neighbors import KNeighborsClassifier\n",
    "from sklearn.svm import SVC\n",
    "from itertools import product\n",
    "from sklearn.ensemble import VotingClassifier\n",
    "\n",
    "\n",
    "clf1 = DecisionTreeClassifier()\n",
    "clf2 = KNeighborsClassifier()\n",
    "clf3 = SVC(kernel='rbf', probability=True)\n",
    "eclf = VotingClassifier(estimators=[('dt', clf1), ('knn', clf2), ('svc', clf3)],\n",
    "                        voting='soft', weights=[2, 2, 2])\n",
    "\n",
    "clf1 = clf1.fit(features, y_train)\n",
    "clf2 = clf2.fit(features, y_train)\n",
    "clf3 = clf3.fit(features, y_train)\n",
    "eclf = eclf.fit(features, y_train)\n",
    "\n",
    "for clf, label in zip([clf1, clf2, clf3, eclf], ['DecisionTreeClassifier', 'KNNClassifier', 'SVC', 'voting']):\n",
    "    scores = cross_val_score(clf, features, y_train, scoring='accuracy', cv=5)\n",
    "    print(\"Accuracy: %0.2f (+/- %0.2f) [%s]\" % (scores.mean(), scores.std(), label))"
   ]
  },
  {
   "cell_type": "code",
   "execution_count": 144,
   "id": "Eq9XOSgqoww8",
   "metadata": {
    "colab": {
     "base_uri": "https://localhost:8080/",
     "height": 827
    },
    "id": "Eq9XOSgqoww8",
    "outputId": "71677c5e-90c3-4307-e3f8-d80b7348b426"
   },
   "outputs": [
    {
     "name": "stdout",
     "output_type": "stream",
     "text": [
      "Logistic Regression score is 56.32183908045977% \n",
      "\n",
      "Support Vector Classifier score is 55.172413793103445%\n",
      "\n",
      "Decision Tree Classifier score is 47.12643678160919%\n",
      "\n",
      "Random Forest Classifier score is 48.275862068965516%\n",
      "\n",
      "KNN Classifier score is 48.275862068965516% with k = 1\n",
      "KNN Classifier score is 49.42528735632184% with k = 2\n",
      "KNN Classifier score is 44.827586206896555% with k = 3\n",
      "KNN Classifier score is 42.5287356321839% with k = 4\n",
      "KNN Classifier score is 45.97701149425287% with k = 5\n",
      "KNN Classifier score is 42.5287356321839% with k = 6\n",
      "KNN Classifier score is 51.724137931034484% with k = 7\n",
      "KNN Classifier score is 49.42528735632184% with k = 8\n",
      "KNN Classifier score is 49.42528735632184% with k = 9\n",
      "KNN Classifier score is 51.724137931034484% with k = 10\n",
      "KNN Classifier score is 50.57471264367817% with k = 11\n",
      "KNN Classifier score is 44.827586206896555% with k = 12\n",
      "KNN Classifier score is 45.97701149425287% with k = 13\n",
      "KNN Classifier score is 48.275862068965516% with k = 14\n",
      "KNN Classifier score is 49.42528735632184% with k = 15\n",
      "KNN Classifier score is 51.724137931034484% with k = 16\n",
      "KNN Classifier score is 51.724137931034484% with k = 17\n",
      "KNN Classifier score is 51.724137931034484% with k = 18\n",
      "KNN Classifier score is 50.57471264367817% with k = 19\n"
     ]
    },
    {
     "data": {
      "image/png": "[encoded data removed]",
      "text/plain": [
       "<Figure size 432x288 with 1 Axes>"
      ]
     },
     "metadata": {
      "needs_background": "light",
      "tags": []
     },
     "output_type": "display_data"
    },
    {
     "name": "stdout",
     "output_type": "stream",
     "text": [
      "\n",
      "MLP Classifier score is 50.57471264367817%\n",
      "\n"
     ]
    }
   ],
   "source": [
    "# fitting logistic regression\n",
    "lr = LogisticRegression()\n",
    "lr.fit(features, y_train)\n",
    "predictionsLR = lr.predict(features2)\n",
    "scoreLR = accuracy_score(y_test, predictionsLR)\n",
    "print(f\"Logistic Regression score is {scoreLR * 100}% \\n\")\n",
    "\n",
    "# fitting SVC\n",
    "svc = svm.LinearSVC()\n",
    "svc.fit(features, y_train)\n",
    "predictionsSVC = svc.predict(features2)\n",
    "scoreSVC = accuracy_score(y_test, predictionsSVC)\n",
    "print(f\"Support Vector Classifier score is {scoreSVC * 100}%\\n\")\n",
    "\n",
    "# fitting decision tree classifier\n",
    "clf = tree.DecisionTreeClassifier()\n",
    "clf.fit(features, y_train)\n",
    "predictionsTree = clf.predict(features2)\n",
    "scoreTree = accuracy_score(y_test, predictionsTree)\n",
    "print(f\"Decision Tree Classifier score is {scoreTree * 100}%\\n\")\n",
    "\n",
    "# fitting Random Forest classifier\n",
    "clf1 = RandomForestClassifier(max_features=23)\n",
    "clf1.fit(features, y_train)\n",
    "predictionsTree1 = clf1.predict(features2)\n",
    "scoreTree1 = accuracy_score(y_test, predictionsTree1)\n",
    "print(f\"Random Forest Classifier score is {scoreTree1 * 100}%\\n\")\n",
    "\n",
    "# fitting XGBoost\n",
    "# xgb = XGBClassifier()\n",
    "# xgb.fit(features.to_numpy(), y_train)\n",
    "# predictionsXGB = xgb.predict(X_test)\n",
    "# predictionsXGB = (predictionsXGB>0.5).astype(int)\n",
    "# scoreXGB = accuracy_score(y_test, predictionsXGB)\n",
    "# print(f\"XG Boost Classifier score is {scoreXGB * 100}%\\n\")\n",
    "\n",
    "# fitting KNN Classifier\n",
    "K = range(1, 20)\n",
    "acc = []\n",
    "for k in K:\n",
    "    knn = KNeighborsClassifier(n_neighbors=k)\n",
    "    knn.fit(features, y_train)\n",
    "    predictionsKNN = knn.predict(features2)\n",
    "    scoreKNN = accuracy_score(y_test, predictionsKNN)\n",
    "    print(f\"KNN Classifier score is {scoreKNN * 100}% with k = {k}\")\n",
    "    acc.append(scoreKNN*100)\n",
    "\n",
    "# Elbow plot:\n",
    "plt.plot(K, acc)\n",
    "plt.xlabel('K')\n",
    "plt.ylabel('Accuracy')\n",
    "plt.title(\"Elbow Curve without feature selection for Inter-Reseach Area\")\n",
    "\n",
    "plt.show()\n",
    "\n",
    "# MLP / ANN\n",
    "classifier = MLPClassifier(hidden_layer_sizes=(128, 64), max_iter=300, activation='relu', solver='adam', random_state=1)\n",
    "classifier.fit(features, y_train)\n",
    "predictionsMLP = classifier.predict(features2)\n",
    "scoreMLP = accuracy_score(y_test, predictionsMLP)\n",
    "print(f\"\\nMLP Classifier score is {scoreMLP * 100}%\\n\")"
   ]
  },
  {
   "cell_type": "code",
   "execution_count": 145,
   "id": "6hGyZp0qoww8",
   "metadata": {
    "colab": {
     "base_uri": "https://localhost:8080/"
    },
    "id": "6hGyZp0qoww8",
    "outputId": "d6e255f4-7e11-4d9b-f9d6-e3bf7afa77f5"
   },
   "outputs": [
    {
     "name": "stdout",
     "output_type": "stream",
     "text": [
      "Number of mislabeled points out of a total 87 points : 44\n"
     ]
    }
   ],
   "source": [
    "from sklearn.naive_bayes import GaussianNB\n",
    "gnb = GaussianNB()\n",
    "y_pred = gnb.fit(features, y_train).predict(features2)\n",
    "print(\"Number of mislabeled points out of a total %d points : %d\"\n",
    "      % (X_test.shape[0], (y_test != y_pred).sum()))"
   ]
  },
  {
   "cell_type": "code",
   "execution_count": 146,
   "id": "3qjXatsCoww8",
   "metadata": {
    "colab": {
     "base_uri": "https://localhost:8080/"
    },
    "id": "3qjXatsCoww8",
    "outputId": "c0ce3641-71ae-4cf5-f773-5a0a062407f6"
   },
   "outputs": [
    {
     "name": "stdout",
     "output_type": "stream",
     "text": [
      "              precision    recall  f1-score   support\n",
      "\n",
      "           0       0.29      0.52      0.37        25\n",
      "           1       0.71      0.48      0.58        62\n",
      "\n",
      "    accuracy                           0.49        87\n",
      "   macro avg       0.50      0.50      0.47        87\n",
      "weighted avg       0.59      0.49      0.52        87\n",
      "\n"
     ]
    }
   ],
   "source": [
    "from numpy import mean\n",
    "from numpy import std\n",
    "from sklearn.datasets import make_classification\n",
    "from sklearn.ensemble import GradientBoostingClassifier\n",
    "from sklearn.model_selection import cross_val_score\n",
    "from sklearn.model_selection import RepeatedStratifiedKFold\n",
    "from matplotlib import pyplot\n",
    "# define dataset\n",
    "# X, y = make_classification(n_samples=1000, n_features=10, n_informative=5, n_redundant=5, random_state=1)\n",
    "# evaluate the model\n",
    "# model = GradientBoostingClassifier()\n",
    "# cv = RepeatedStratifiedKFold(n_splits=10, n_repeats=3, random_state=1)\n",
    "# n_scores = cross_val_score(model, X_train, y_train, scoring='accuracy', cv=cv, n_jobs=-1, error_score='raise')\n",
    "# print('Accuracy: %.3f (%.3f)' % (mean(n_scores), std(n_scores)))\n",
    "# fit the model on the whole dataset\n",
    "model = GradientBoostingClassifier()\n",
    "model.fit(features, y_train)\n",
    "# make a single prediction\n",
    "# row = [[2.56999479, -0.13019997, 3.16075093, -4.35936352, -1.61271951, -1.39352057, -2.48924933, -1.93094078, 3.26130366, 2.05692145]]\n",
    "yhat = model.predict(features2)\n",
    "\n",
    "print(classification_report(yhat,y_test))"
   ]
  },
  {
   "cell_type": "code",
   "execution_count": 147,
   "id": "aF0L1T-roww9",
   "metadata": {
    "colab": {
     "base_uri": "https://localhost:8080/"
    },
    "id": "aF0L1T-roww9",
    "outputId": "7b01d0f1-71c3-4760-8934-c4eab9d2ccf3"
   },
   "outputs": [
    {
     "name": "stdout",
     "output_type": "stream",
     "text": [
      "              precision    recall  f1-score   support\n",
      "\n",
      "           0       0.27      0.60      0.37        20\n",
      "           1       0.81      0.51      0.62        67\n",
      "\n",
      "    accuracy                           0.53        87\n",
      "   macro avg       0.54      0.55      0.50        87\n",
      "weighted avg       0.68      0.53      0.57        87\n",
      "\n"
     ]
    }
   ],
   "source": [
    "# histogram-based gradient boosting for classification in scikit-learn\n",
    "from numpy import mean\n",
    "from numpy import std\n",
    "from sklearn.datasets import make_classification\n",
    "from sklearn.experimental import enable_hist_gradient_boosting\n",
    "from sklearn.ensemble import HistGradientBoostingClassifier\n",
    "from sklearn.model_selection import cross_val_score\n",
    "from sklearn.model_selection import RepeatedStratifiedKFold\n",
    "from matplotlib import pyplot\n",
    "# evaluate the model\n",
    "# model = HistGradientBoostingClassifier()\n",
    "# cv = RepeatedStratifiedKFold(n_splits=10, n_repeats=3, random_state=1)\n",
    "# n_scores = cross_val_score(model, features, y_train, scoring='accuracy', cv=cv, n_jobs=-1, error_score='raise')\n",
    "# print('Accuracy: %.3f (%.3f)' % (mean(n_scores), std(n_scores)))\n",
    "# fit the model on the whole dataset\n",
    "model = HistGradientBoostingClassifier()\n",
    "model.fit(features, y_train)\n",
    "# make a single prediction\n",
    "yhat = model.predict(features2)\n",
    "print(classification_report(yhat,y_test))"
   ]
  },
  {
   "cell_type": "code",
   "execution_count": null,
   "id": "E8MzWy3goww9",
   "metadata": {
    "colab": {
     "base_uri": "https://localhost:8080/",
     "height": 387
    },
    "id": "E8MzWy3goww9",
    "outputId": "bb271dec-ea1e-4d10-f2c6-1512a8968b2e"
   },
   "outputs": [
    {
     "ename": "ValueError",
     "evalue": "ignored",
     "output_type": "error",
     "traceback": [
      "\u001b[0;31m---------------------------------------------------------------------------\u001b[0m",
      "\u001b[0;31mValueError\u001b[0m                                Traceback (most recent call last)",
      "\u001b[0;32m<ipython-input-133-3e5eb772ea61>\u001b[0m in \u001b[0;36m<module>\u001b[0;34m()\u001b[0m\n\u001b[1;32m     17\u001b[0m \u001b[0;31m# fit the model on the whole dataset\u001b[0m\u001b[0;34m\u001b[0m\u001b[0;34m\u001b[0m\u001b[0;34m\u001b[0m\u001b[0m\n\u001b[1;32m     18\u001b[0m \u001b[0mmodel\u001b[0m \u001b[0;34m=\u001b[0m \u001b[0mXGBClassifier\u001b[0m\u001b[0;34m(\u001b[0m\u001b[0;34m)\u001b[0m\u001b[0;34m\u001b[0m\u001b[0;34m\u001b[0m\u001b[0m\n\u001b[0;32m---> 19\u001b[0;31m \u001b[0mmodel\u001b[0m\u001b[0;34m.\u001b[0m\u001b[0mfit\u001b[0m\u001b[0;34m(\u001b[0m\u001b[0mfeatures\u001b[0m\u001b[0;34m,\u001b[0m \u001b[0my_train\u001b[0m\u001b[0;34m)\u001b[0m\u001b[0;34m\u001b[0m\u001b[0;34m\u001b[0m\u001b[0m\n\u001b[0m\u001b[1;32m     20\u001b[0m \u001b[0;31m# make a single prediction\u001b[0m\u001b[0;34m\u001b[0m\u001b[0;34m\u001b[0m\u001b[0;34m\u001b[0m\u001b[0m\n\u001b[1;32m     21\u001b[0m \u001b[0myhat\u001b[0m \u001b[0;34m=\u001b[0m \u001b[0mmodel\u001b[0m\u001b[0;34m.\u001b[0m\u001b[0mpredict\u001b[0m\u001b[0;34m(\u001b[0m\u001b[0mfeatures2\u001b[0m\u001b[0;34m)\u001b[0m\u001b[0;34m\u001b[0m\u001b[0;34m\u001b[0m\u001b[0m\n",
      "\u001b[0;32m/usr/local/lib/python3.7/dist-packages/xgboost/sklearn.py\u001b[0m in \u001b[0;36mfit\u001b[0;34m(self, X, y, sample_weight, eval_set, eval_metric, early_stopping_rounds, verbose, xgb_model, sample_weight_eval_set, callbacks)\u001b[0m\n\u001b[1;32m    724\u001b[0m         \u001b[0;32melse\u001b[0m\u001b[0;34m:\u001b[0m\u001b[0;34m\u001b[0m\u001b[0;34m\u001b[0m\u001b[0m\n\u001b[1;32m    725\u001b[0m             train_dmatrix = DMatrix(X, label=training_labels,\n\u001b[0;32m--> 726\u001b[0;31m                                     missing=self.missing, nthread=self.n_jobs)\n\u001b[0m\u001b[1;32m    727\u001b[0m \u001b[0;34m\u001b[0m\u001b[0m\n\u001b[1;32m    728\u001b[0m         self._Booster = train(xgb_options, train_dmatrix, self.get_num_boosting_rounds(),\n",
      "\u001b[0;32m/usr/local/lib/python3.7/dist-packages/xgboost/core.py\u001b[0m in \u001b[0;36m__init__\u001b[0;34m(self, data, label, missing, weight, silent, feature_names, feature_types, nthread)\u001b[0m\n\u001b[1;32m    424\u001b[0m                 \u001b[0mself\u001b[0m\u001b[0;34m.\u001b[0m\u001b[0mset_weight\u001b[0m\u001b[0;34m(\u001b[0m\u001b[0mweight\u001b[0m\u001b[0;34m)\u001b[0m\u001b[0;34m\u001b[0m\u001b[0;34m\u001b[0m\u001b[0m\n\u001b[1;32m    425\u001b[0m \u001b[0;34m\u001b[0m\u001b[0m\n\u001b[0;32m--> 426\u001b[0;31m         \u001b[0mself\u001b[0m\u001b[0;34m.\u001b[0m\u001b[0mfeature_names\u001b[0m \u001b[0;34m=\u001b[0m \u001b[0mfeature_names\u001b[0m\u001b[0;34m\u001b[0m\u001b[0;34m\u001b[0m\u001b[0m\n\u001b[0m\u001b[1;32m    427\u001b[0m         \u001b[0mself\u001b[0m\u001b[0;34m.\u001b[0m\u001b[0mfeature_types\u001b[0m \u001b[0;34m=\u001b[0m \u001b[0mfeature_types\u001b[0m\u001b[0;34m\u001b[0m\u001b[0;34m\u001b[0m\u001b[0m\n\u001b[1;32m    428\u001b[0m \u001b[0;34m\u001b[0m\u001b[0m\n",
      "\u001b[0;32m/usr/local/lib/python3.7/dist-packages/xgboost/core.py\u001b[0m in \u001b[0;36mfeature_names\u001b[0;34m(self, feature_names)\u001b[0m\n\u001b[1;32m    868\u001b[0m                        \u001b[0;32mnot\u001b[0m \u001b[0many\u001b[0m\u001b[0;34m(\u001b[0m\u001b[0mx\u001b[0m \u001b[0;32min\u001b[0m \u001b[0mf\u001b[0m \u001b[0;32mfor\u001b[0m \u001b[0mx\u001b[0m \u001b[0;32min\u001b[0m \u001b[0mset\u001b[0m\u001b[0;34m(\u001b[0m\u001b[0;34m(\u001b[0m\u001b[0;34m'['\u001b[0m\u001b[0;34m,\u001b[0m \u001b[0;34m']'\u001b[0m\u001b[0;34m,\u001b[0m \u001b[0;34m'<'\u001b[0m\u001b[0;34m)\u001b[0m\u001b[0;34m)\u001b[0m\u001b[0;34m)\u001b[0m\u001b[0;34m\u001b[0m\u001b[0;34m\u001b[0m\u001b[0m\n\u001b[1;32m    869\u001b[0m                        for f in feature_names):\n\u001b[0;32m--> 870\u001b[0;31m                 \u001b[0;32mraise\u001b[0m \u001b[0mValueError\u001b[0m\u001b[0;34m(\u001b[0m\u001b[0;34m'feature_names may not contain [, ] or <'\u001b[0m\u001b[0;34m)\u001b[0m\u001b[0;34m\u001b[0m\u001b[0;34m\u001b[0m\u001b[0m\n\u001b[0m\u001b[1;32m    871\u001b[0m         \u001b[0;32melse\u001b[0m\u001b[0;34m:\u001b[0m\u001b[0;34m\u001b[0m\u001b[0;34m\u001b[0m\u001b[0m\n\u001b[1;32m    872\u001b[0m             \u001b[0;31m# reset feature_types also\u001b[0m\u001b[0;34m\u001b[0m\u001b[0;34m\u001b[0m\u001b[0;34m\u001b[0m\u001b[0m\n",
      "\u001b[0;31mValueError\u001b[0m: feature_names may not contain [, ] or <"
     ]
    }
   ],
   "source": [
    "# xgboost for classification\n",
    "from numpy import asarray\n",
    "from numpy import mean\n",
    "from numpy import std\n",
    "from sklearn.datasets import make_classification\n",
    "from xgboost import XGBClassifier\n",
    "from sklearn.model_selection import cross_val_score\n",
    "from sklearn.model_selection import RepeatedStratifiedKFold\n",
    "from matplotlib import pyplot\n",
    "# define dataset\n",
    "X, y = make_classification(n_samples=1000, n_features=10, n_informative=5, n_redundant=5, random_state=1)\n",
    "# evaluate the model\n",
    "# model = XGBClassifier()\n",
    "# cv = RepeatedStratifiedKFold(n_splits=10, n_repeats=3, random_state=1)\n",
    "# n_scores = cross_val_score(model, features, y_train, scoring='accuracy', cv=cv, n_jobs=-1, error_score='raise')\n",
    "# print('Accuracy: %.3f (%.3f)' % (mean(n_scores), std(n_scores)))\n",
    "# fit the model on the whole dataset\n",
    "model = XGBClassifier()\n",
    "model.fit(features, y_train)\n",
    "# make a single prediction\n",
    "yhat = model.predict(features2)\n",
    "print(classification_report(yhat,y_test))"
   ]
  },
  {
   "cell_type": "code",
   "execution_count": 148,
   "id": "Tdax6s_Ooww9",
   "metadata": {
    "colab": {
     "base_uri": "https://localhost:8080/"
    },
    "id": "Tdax6s_Ooww9",
    "outputId": "775d69c5-06ca-4c3c-f428-59688a9936a8"
   },
   "outputs": [
    {
     "name": "stdout",
     "output_type": "stream",
     "text": [
      "              precision    recall  f1-score   support\n",
      "\n",
      "           0       0.24      0.65      0.35        17\n",
      "           1       0.86      0.51      0.64        70\n",
      "\n",
      "    accuracy                           0.54        87\n",
      "   macro avg       0.55      0.58      0.50        87\n",
      "weighted avg       0.74      0.54      0.59        87\n",
      "\n"
     ]
    }
   ],
   "source": [
    "# lightgbm for classification\n",
    "from numpy import mean\n",
    "from numpy import std\n",
    "from sklearn.datasets import make_classification\n",
    "from lightgbm import LGBMClassifier\n",
    "from sklearn.model_selection import cross_val_score\n",
    "from sklearn.model_selection import RepeatedStratifiedKFold\n",
    "from matplotlib import pyplot\n",
    "# evaluate the model\n",
    "# model = LGBMClassifier()\n",
    "# cv = RepeatedStratifiedKFold(n_splits=10, n_repeats=3, random_state=1)\n",
    "# n_scores = cross_val_score(model, features, y_train, scoring='accuracy', cv=cv, n_jobs=-1, error_score='raise')\n",
    "# print('Accuracy: %.3f (%.3f)' % (mean(n_scores), std(n_scores)))\n",
    "# fit the model on the whole dataset\n",
    "model = LGBMClassifier()\n",
    "model.fit(features, y_train)\n",
    "# make a single prediction\n",
    "yhat = model.predict(features2)\n",
    "print(classification_report(yhat,y_test))"
   ]
  },
  {
   "cell_type": "code",
   "execution_count": 148,
   "id": "cbbPd1unoww_",
   "metadata": {
    "id": "cbbPd1unoww_"
   },
   "outputs": [],
   "source": []
  },
  {
   "cell_type": "markdown",
   "id": "AULrRtEVqIWj",
   "metadata": {
    "id": "AULrRtEVqIWj"
   },
   "source": [
    "# Models embed rf"
   ]
  },
  {
   "cell_type": "code",
   "execution_count": 18,
   "id": "Bmnf27hTqIWj",
   "metadata": {
    "id": "Bmnf27hTqIWj"
   },
   "outputs": [],
   "source": [
    "import pandas as pd\n",
    "import numpy as np\n",
    "from sklearn.linear_model import LogisticRegression\n",
    "from sklearn import svm\n",
    "from sklearn import tree\n",
    "from sklearn.ensemble import RandomForestClassifier\n",
    "from sklearn.neighbors import KNeighborsClassifier\n",
    "from xgboost import XGBClassifier\n",
    "from sklearn.model_selection import train_test_split\n",
    "from sklearn.neural_network import MLPClassifier\n",
    "from sklearn.preprocessing import StandardScaler\n",
    "import seaborn as sns\n",
    "import matplotlib.pyplot as plt\n",
    "from sklearn.metrics import accuracy_score\n",
    "from sklearn.feature_selection import SelectFromModel\n",
    "\n",
    "from sklearn.decomposition import PCA\n",
    "from sklearn.manifold import TSNE\n",
    "%matplotlib inline\n",
    "import matplotlib.pyplot as plt\n",
    "from mpl_toolkits.mplot3d import Axes3D\n",
    "\n",
    "\n",
    "\n",
    "import warnings\n",
    "warnings.filterwarnings('ignore')"
   ]
  },
  {
   "cell_type": "code",
   "execution_count": 23,
   "id": "zdmSCMlaBD1v",
   "metadata": {
    "id": "zdmSCMlaBD1v"
   },
   "outputs": [],
   "source": [
    "from sklearn.metrics import classification_report, confusion_matrix"
   ]
  },
  {
   "cell_type": "code",
   "execution_count": 19,
   "id": "Cq2mqFUaqIWj",
   "metadata": {
    "id": "Cq2mqFUaqIWj"
   },
   "outputs": [],
   "source": [
    "features = X_train[embeded_rf_feature]\n",
    "features2 = X_test[embeded_rf_feature]"
   ]
  },
  {
   "cell_type": "code",
   "execution_count": 20,
   "id": "IlWMhzoyqIWj",
   "metadata": {
    "colab": {
     "base_uri": "https://localhost:8080/"
    },
    "id": "IlWMhzoyqIWj",
    "outputId": "b9064bd9-6a6d-41c8-9517-d8fec8b592d5"
   },
   "outputs": [
    {
     "data": {
      "text/plain": [
       "0"
      ]
     },
     "execution_count": 20,
     "metadata": {
      "tags": []
     },
     "output_type": "execute_result"
    }
   ],
   "source": [
    "features.isna().sum().sum()"
   ]
  },
  {
   "cell_type": "code",
   "execution_count": 21,
   "id": "3nxlWCrkqIWk",
   "metadata": {
    "colab": {
     "base_uri": "https://localhost:8080/"
    },
    "id": "3nxlWCrkqIWk",
    "outputId": "48d683d2-3259-4035-df21-0f7920d62e76"
   },
   "outputs": [
    {
     "data": {
      "text/plain": [
       "0"
      ]
     },
     "execution_count": 21,
     "metadata": {
      "tags": []
     },
     "output_type": "execute_result"
    }
   ],
   "source": [
    "X_test.isna().sum().sum()"
   ]
  },
  {
   "cell_type": "code",
   "execution_count": 24,
   "id": "UVTrWTLkqIWk",
   "metadata": {
    "colab": {
     "base_uri": "https://localhost:8080/"
    },
    "id": "UVTrWTLkqIWk",
    "outputId": "f8ba19c5-ab85-4dbf-c310-532164bd8d6a"
   },
   "outputs": [
    {
     "name": "stdout",
     "output_type": "stream",
     "text": [
      "              precision    recall  f1-score   support\n",
      "\n",
      "           0       0.22      0.42      0.29        24\n",
      "           1       0.67      0.44      0.53        63\n",
      "\n",
      "    accuracy                           0.44        87\n",
      "   macro avg       0.44      0.43      0.41        87\n",
      "weighted avg       0.54      0.44      0.47        87\n",
      "\n"
     ]
    }
   ],
   "source": [
    "from sklearn.model_selection import cross_val_score\n",
    "# from sklearn.datasets import load_iris\n",
    "from sklearn.ensemble import AdaBoostClassifier\n",
    "\n",
    "# X, y = load_iris(return_X_y=True)\n",
    "clf = AdaBoostClassifier()\n",
    "# scores = cross_val_score(clf, features, y_train, cv=5)\n",
    "# print(scores.mean())\n",
    "clf.fit(features, y_train)\n",
    "y_pred = (clf.predict(features2)>0.5).astype(int)\n",
    "from sklearn.metrics import classification_report\n",
    "print(classification_report(y_pred,y_test))\n"
   ]
  },
  {
   "cell_type": "code",
   "execution_count": 25,
   "id": "nEyl39i9qIWk",
   "metadata": {
    "colab": {
     "base_uri": "https://localhost:8080/"
    },
    "id": "nEyl39i9qIWk",
    "outputId": "9acbb15a-e4fe-472b-a26c-5bb3c55e6ee1"
   },
   "outputs": [
    {
     "name": "stdout",
     "output_type": "stream",
     "text": [
      "              precision    recall  f1-score   support\n",
      "\n",
      "           0       0.47      0.20      0.28        45\n",
      "           1       0.47      0.76      0.58        42\n",
      "\n",
      "    accuracy                           0.47        87\n",
      "   macro avg       0.47      0.48      0.43        87\n",
      "weighted avg       0.47      0.47      0.43        87\n",
      "\n"
     ]
    }
   ],
   "source": [
    "from sklearn.svm import SVC\n",
    "\n",
    "svclassifier = SVC(gamma='auto')\n",
    "svclassifier.fit(features, y_train)\n",
    "y_pred = svclassifier.predict(features2)\n",
    "print(classification_report(y_test, y_pred))"
   ]
  },
  {
   "cell_type": "code",
   "execution_count": 26,
   "id": "1mNhIbZ6qIWl",
   "metadata": {
    "colab": {
     "base_uri": "https://localhost:8080/"
    },
    "id": "1mNhIbZ6qIWl",
    "outputId": "6a479b0e-573b-424a-bb76-7f41c1522636"
   },
   "outputs": [
    {
     "name": "stdout",
     "output_type": "stream",
     "text": [
      "Accuracy: 0.51 (+/- 0.01) [DecisionTreeClassifier]\n",
      "Accuracy: 0.52 (+/- 0.03) [KNNClassifier]\n",
      "Accuracy: 0.55 (+/- 0.02) [SVC]\n",
      "Accuracy: 0.53 (+/- 0.04) [voting]\n"
     ]
    }
   ],
   "source": [
    "from sklearn import datasets\n",
    "from sklearn.tree import DecisionTreeClassifier\n",
    "from sklearn.neighbors import KNeighborsClassifier\n",
    "from sklearn.svm import SVC\n",
    "from itertools import product\n",
    "from sklearn.ensemble import VotingClassifier\n",
    "\n",
    "\n",
    "clf1 = DecisionTreeClassifier()\n",
    "clf2 = KNeighborsClassifier()\n",
    "clf3 = SVC(kernel='rbf', probability=True)\n",
    "eclf = VotingClassifier(estimators=[('dt', clf1), ('knn', clf2), ('svc', clf3)],\n",
    "                        voting='soft', weights=[2, 2, 2])\n",
    "\n",
    "clf1 = clf1.fit(features, y_train)\n",
    "clf2 = clf2.fit(features, y_train)\n",
    "clf3 = clf3.fit(features, y_train)\n",
    "eclf = eclf.fit(features, y_train)\n",
    "\n",
    "for clf, label in zip([clf1, clf2, clf3, eclf], ['DecisionTreeClassifier', 'KNNClassifier', 'SVC', 'voting']):\n",
    "    scores = cross_val_score(clf, features, y_train, scoring='accuracy', cv=5)\n",
    "    print(\"Accuracy: %0.2f (+/- %0.2f) [%s]\" % (scores.mean(), scores.std(), label))"
   ]
  },
  {
   "cell_type": "code",
   "execution_count": 27,
   "id": "_QMoPvFCqIWl",
   "metadata": {
    "colab": {
     "base_uri": "https://localhost:8080/",
     "height": 827
    },
    "id": "_QMoPvFCqIWl",
    "outputId": "02c251f4-e884-4c10-be29-437c6a5c8f9a"
   },
   "outputs": [
    {
     "name": "stdout",
     "output_type": "stream",
     "text": [
      "Logistic Regression score is 49.42528735632184% \n",
      "\n",
      "Support Vector Classifier score is 52.87356321839081%\n",
      "\n",
      "Decision Tree Classifier score is 47.12643678160919%\n",
      "\n",
      "Random Forest Classifier score is 51.724137931034484%\n",
      "\n",
      "KNN Classifier score is 47.12643678160919% with k = 1\n",
      "KNN Classifier score is 44.827586206896555% with k = 2\n",
      "KNN Classifier score is 47.12643678160919% with k = 3\n",
      "KNN Classifier score is 47.12643678160919% with k = 4\n",
      "KNN Classifier score is 50.57471264367817% with k = 5\n",
      "KNN Classifier score is 45.97701149425287% with k = 6\n",
      "KNN Classifier score is 52.87356321839081% with k = 7\n",
      "KNN Classifier score is 51.724137931034484% with k = 8\n",
      "KNN Classifier score is 54.02298850574713% with k = 9\n",
      "KNN Classifier score is 52.87356321839081% with k = 10\n",
      "KNN Classifier score is 51.724137931034484% with k = 11\n",
      "KNN Classifier score is 51.724137931034484% with k = 12\n",
      "KNN Classifier score is 54.02298850574713% with k = 13\n",
      "KNN Classifier score is 54.02298850574713% with k = 14\n",
      "KNN Classifier score is 50.57471264367817% with k = 15\n",
      "KNN Classifier score is 48.275862068965516% with k = 16\n",
      "KNN Classifier score is 47.12643678160919% with k = 17\n",
      "KNN Classifier score is 45.97701149425287% with k = 18\n",
      "KNN Classifier score is 48.275862068965516% with k = 19\n"
     ]
    },
    {
     "data": {
      "image/png": "[encoded data removed]",
      "text/plain": [
       "<Figure size 432x288 with 1 Axes>"
      ]
     },
     "metadata": {
      "needs_background": "light",
      "tags": []
     },
     "output_type": "display_data"
    },
    {
     "name": "stdout",
     "output_type": "stream",
     "text": [
      "\n",
      "MLP Classifier score is 47.12643678160919%\n",
      "\n"
     ]
    }
   ],
   "source": [
    "# fitting logistic regression\n",
    "lr = LogisticRegression()\n",
    "lr.fit(features, y_train)\n",
    "predictionsLR = lr.predict(features2)\n",
    "scoreLR = accuracy_score(y_test, predictionsLR)\n",
    "print(f\"Logistic Regression score is {scoreLR * 100}% \\n\")\n",
    "\n",
    "# fitting SVC\n",
    "svc = svm.LinearSVC()\n",
    "svc.fit(features, y_train)\n",
    "predictionsSVC = svc.predict(features2)\n",
    "scoreSVC = accuracy_score(y_test, predictionsSVC)\n",
    "print(f\"Support Vector Classifier score is {scoreSVC * 100}%\\n\")\n",
    "\n",
    "# fitting decision tree classifier\n",
    "clf = tree.DecisionTreeClassifier()\n",
    "clf.fit(features, y_train)\n",
    "predictionsTree = clf.predict(features2)\n",
    "scoreTree = accuracy_score(y_test, predictionsTree)\n",
    "print(f\"Decision Tree Classifier score is {scoreTree * 100}%\\n\")\n",
    "\n",
    "# fitting Random Forest classifier\n",
    "clf1 = RandomForestClassifier(max_features=23)\n",
    "clf1.fit(features, y_train)\n",
    "predictionsTree1 = clf1.predict(features2)\n",
    "scoreTree1 = accuracy_score(y_test, predictionsTree1)\n",
    "print(f\"Random Forest Classifier score is {scoreTree1 * 100}%\\n\")\n",
    "\n",
    "# fitting XGBoost\n",
    "# xgb = XGBClassifier()\n",
    "# xgb.fit(features.to_numpy(), y_train)\n",
    "# predictionsXGB = xgb.predict(X_test)\n",
    "# predictionsXGB = (predictionsXGB>0.5).astype(int)\n",
    "# scoreXGB = accuracy_score(y_test, predictionsXGB)\n",
    "# print(f\"XG Boost Classifier score is {scoreXGB * 100}%\\n\")\n",
    "\n",
    "# fitting KNN Classifier\n",
    "K = range(1, 20)\n",
    "acc = []\n",
    "for k in K:\n",
    "    knn = KNeighborsClassifier(n_neighbors=k)\n",
    "    knn.fit(features, y_train)\n",
    "    predictionsKNN = knn.predict(features2)\n",
    "    scoreKNN = accuracy_score(y_test, predictionsKNN)\n",
    "    print(f\"KNN Classifier score is {scoreKNN * 100}% with k = {k}\")\n",
    "    acc.append(scoreKNN*100)\n",
    "\n",
    "# Elbow plot:\n",
    "plt.plot(K, acc)\n",
    "plt.xlabel('K')\n",
    "plt.ylabel('Accuracy')\n",
    "plt.title(\"Elbow Curve without feature selection for Inter-Reseach Area\")\n",
    "\n",
    "plt.show()\n",
    "\n",
    "# MLP / ANN\n",
    "classifier = MLPClassifier(hidden_layer_sizes=(128, 64), max_iter=300, activation='relu', solver='adam', random_state=1)\n",
    "classifier.fit(features, y_train)\n",
    "predictionsMLP = classifier.predict(features2)\n",
    "scoreMLP = accuracy_score(y_test, predictionsMLP)\n",
    "print(f\"\\nMLP Classifier score is {scoreMLP * 100}%\\n\")"
   ]
  },
  {
   "cell_type": "code",
   "execution_count": 30,
   "id": "48RYtYwlqIWl",
   "metadata": {
    "colab": {
     "base_uri": "https://localhost:8080/"
    },
    "id": "48RYtYwlqIWl",
    "outputId": "30b47bb2-fe4c-49eb-cbd7-9b1279b7da94"
   },
   "outputs": [
    {
     "name": "stdout",
     "output_type": "stream",
     "text": [
      "Number of mislabeled points out of a total 87 points : 48\n",
      "              precision    recall  f1-score   support\n",
      "\n",
      "           0       0.47      0.58      0.52        45\n",
      "           1       0.41      0.31      0.35        42\n",
      "\n",
      "    accuracy                           0.45        87\n",
      "   macro avg       0.44      0.44      0.44        87\n",
      "weighted avg       0.44      0.45      0.44        87\n",
      "\n"
     ]
    }
   ],
   "source": [
    "from sklearn.naive_bayes import GaussianNB\n",
    "gnb = GaussianNB()\n",
    "y_pred = gnb.fit(features, y_train).predict(features2)\n",
    "print(\"Number of mislabeled points out of a total %d points : %d\"\n",
    "      % (X_test.shape[0], (y_test != y_pred).sum()))\n",
    "\n",
    "print(classification_report(y_test,y_pred))"
   ]
  },
  {
   "cell_type": "code",
   "execution_count": 29,
   "id": "cg9mr6wsqIWl",
   "metadata": {
    "colab": {
     "base_uri": "https://localhost:8080/"
    },
    "id": "cg9mr6wsqIWl",
    "outputId": "0a8bf105-408d-4d20-cea3-8627e7388ad0"
   },
   "outputs": [
    {
     "name": "stdout",
     "output_type": "stream",
     "text": [
      "              precision    recall  f1-score   support\n",
      "\n",
      "           0       0.33      0.56      0.42        27\n",
      "           1       0.71      0.50      0.59        60\n",
      "\n",
      "    accuracy                           0.52        87\n",
      "   macro avg       0.52      0.53      0.50        87\n",
      "weighted avg       0.60      0.52      0.53        87\n",
      "\n"
     ]
    }
   ],
   "source": [
    "from numpy import mean\n",
    "from numpy import std\n",
    "# from sklearn.datasets import make_classification\n",
    "from sklearn.ensemble import GradientBoostingClassifier\n",
    "from sklearn.model_selection import cross_val_score\n",
    "from sklearn.model_selection import RepeatedStratifiedKFold\n",
    "from matplotlib import pyplot\n",
    "# define dataset\n",
    "# X, y = make_classification(n_samples=1000, n_features=10, n_informative=5, n_redundant=5, random_state=1)\n",
    "# evaluate the model\n",
    "# model = GradientBoostingClassifier()\n",
    "# cv = RepeatedStratifiedKFold(n_splits=10, n_repeats=3, random_state=1)\n",
    "# n_scores = cross_val_score(model, X_train, y_train, scoring='accuracy', cv=cv, n_jobs=-1, error_score='raise')\n",
    "# print('Accuracy: %.3f (%.3f)' % (mean(n_scores), std(n_scores)))\n",
    "# fit the model on the whole dataset\n",
    "model = GradientBoostingClassifier()\n",
    "model.fit(features, y_train)\n",
    "# make a single prediction\n",
    "# row = [[2.56999479, -0.13019997, 3.16075093, -4.35936352, -1.61271951, -1.39352057, -2.48924933, -1.93094078, 3.26130366, 2.05692145]]\n",
    "yhat = model.predict(features2)\n",
    "\n",
    "print(classification_report(yhat,y_test))"
   ]
  },
  {
   "cell_type": "code",
   "execution_count": 31,
   "id": "s2Get55oqIWm",
   "metadata": {
    "colab": {
     "base_uri": "https://localhost:8080/"
    },
    "id": "s2Get55oqIWm",
    "outputId": "7a45668e-1321-4445-c01c-27585745a3dc"
   },
   "outputs": [
    {
     "name": "stdout",
     "output_type": "stream",
     "text": [
      "              precision    recall  f1-score   support\n",
      "\n",
      "           0       0.16      0.54      0.24        13\n",
      "           1       0.86      0.49      0.62        74\n",
      "\n",
      "    accuracy                           0.49        87\n",
      "   macro avg       0.51      0.51      0.43        87\n",
      "weighted avg       0.75      0.49      0.56        87\n",
      "\n"
     ]
    }
   ],
   "source": [
    "# histogram-based gradient boosting for classification in scikit-learn\n",
    "from numpy import mean\n",
    "from numpy import std\n",
    "from sklearn.datasets import make_classification\n",
    "from sklearn.experimental import enable_hist_gradient_boosting\n",
    "from sklearn.ensemble import HistGradientBoostingClassifier\n",
    "from sklearn.model_selection import cross_val_score\n",
    "from sklearn.model_selection import RepeatedStratifiedKFold\n",
    "from matplotlib import pyplot\n",
    "# evaluate the model\n",
    "# model = HistGradientBoostingClassifier()\n",
    "# cv = RepeatedStratifiedKFold(n_splits=10, n_repeats=3, random_state=1)\n",
    "# n_scores = cross_val_score(model, features, y_train, scoring='accuracy', cv=cv, n_jobs=-1, error_score='raise')\n",
    "# print('Accuracy: %.3f (%.3f)' % (mean(n_scores), std(n_scores)))\n",
    "# fit the model on the whole dataset\n",
    "model = HistGradientBoostingClassifier()\n",
    "model.fit(features, y_train)\n",
    "# make a single prediction\n",
    "yhat = model.predict(features2)\n",
    "print(classification_report(yhat,y_test))"
   ]
  },
  {
   "cell_type": "code",
   "execution_count": 32,
   "id": "O-luGAMlqIWm",
   "metadata": {
    "colab": {
     "base_uri": "https://localhost:8080/",
     "height": 672
    },
    "id": "O-luGAMlqIWm",
    "outputId": "8feeace8-f1ea-460a-a79a-0ed34314e77e"
   },
   "outputs": [
    {
     "ename": "ValueError",
     "evalue": "ignored",
     "output_type": "error",
     "traceback": [
      "\u001b[0;31m---------------------------------------------------------------------------\u001b[0m",
      "\u001b[0;31mValueError\u001b[0m                                Traceback (most recent call last)",
      "\u001b[0;32m<ipython-input-32-6eac32dd02d6>\u001b[0m in \u001b[0;36m<module>\u001b[0;34m()\u001b[0m\n\u001b[1;32m     17\u001b[0m \u001b[0;31m# fit the model on the whole dataset\u001b[0m\u001b[0;34m\u001b[0m\u001b[0;34m\u001b[0m\u001b[0;34m\u001b[0m\u001b[0m\n\u001b[1;32m     18\u001b[0m \u001b[0mmodel\u001b[0m \u001b[0;34m=\u001b[0m \u001b[0mXGBClassifier\u001b[0m\u001b[0;34m(\u001b[0m\u001b[0;34m)\u001b[0m\u001b[0;34m\u001b[0m\u001b[0;34m\u001b[0m\u001b[0m\n\u001b[0;32m---> 19\u001b[0;31m \u001b[0mmodel\u001b[0m\u001b[0;34m.\u001b[0m\u001b[0mfit\u001b[0m\u001b[0;34m(\u001b[0m\u001b[0mfeatures\u001b[0m\u001b[0;34m,\u001b[0m \u001b[0my_train\u001b[0m\u001b[0;34m)\u001b[0m\u001b[0;34m\u001b[0m\u001b[0;34m\u001b[0m\u001b[0m\n\u001b[0m\u001b[1;32m     20\u001b[0m \u001b[0;31m# make a single prediction\u001b[0m\u001b[0;34m\u001b[0m\u001b[0;34m\u001b[0m\u001b[0;34m\u001b[0m\u001b[0m\n\u001b[1;32m     21\u001b[0m \u001b[0myhat\u001b[0m \u001b[0;34m=\u001b[0m \u001b[0mmodel\u001b[0m\u001b[0;34m.\u001b[0m\u001b[0mpredict\u001b[0m\u001b[0;34m(\u001b[0m\u001b[0mfeatures2\u001b[0m\u001b[0;34m)\u001b[0m\u001b[0;34m\u001b[0m\u001b[0;34m\u001b[0m\u001b[0m\n",
      "\u001b[0;32m/usr/local/lib/python3.7/dist-packages/xgboost/sklearn.py\u001b[0m in \u001b[0;36mfit\u001b[0;34m(self, X, y, sample_weight, eval_set, eval_metric, early_stopping_rounds, verbose, xgb_model, sample_weight_eval_set, callbacks)\u001b[0m\n\u001b[1;32m    724\u001b[0m         \u001b[0;32melse\u001b[0m\u001b[0;34m:\u001b[0m\u001b[0;34m\u001b[0m\u001b[0;34m\u001b[0m\u001b[0m\n\u001b[1;32m    725\u001b[0m             train_dmatrix = DMatrix(X, label=training_labels,\n\u001b[0;32m--> 726\u001b[0;31m                                     missing=self.missing, nthread=self.n_jobs)\n\u001b[0m\u001b[1;32m    727\u001b[0m \u001b[0;34m\u001b[0m\u001b[0m\n\u001b[1;32m    728\u001b[0m         self._Booster = train(xgb_options, train_dmatrix, self.get_num_boosting_rounds(),\n",
      "\u001b[0;32m/usr/local/lib/python3.7/dist-packages/xgboost/core.py\u001b[0m in \u001b[0;36m__init__\u001b[0;34m(self, data, label, missing, weight, silent, feature_names, feature_types, nthread)\u001b[0m\n\u001b[1;32m    424\u001b[0m                 \u001b[0mself\u001b[0m\u001b[0;34m.\u001b[0m\u001b[0mset_weight\u001b[0m\u001b[0;34m(\u001b[0m\u001b[0mweight\u001b[0m\u001b[0;34m)\u001b[0m\u001b[0;34m\u001b[0m\u001b[0;34m\u001b[0m\u001b[0m\n\u001b[1;32m    425\u001b[0m \u001b[0;34m\u001b[0m\u001b[0m\n\u001b[0;32m--> 426\u001b[0;31m         \u001b[0mself\u001b[0m\u001b[0;34m.\u001b[0m\u001b[0mfeature_names\u001b[0m \u001b[0;34m=\u001b[0m \u001b[0mfeature_names\u001b[0m\u001b[0;34m\u001b[0m\u001b[0;34m\u001b[0m\u001b[0m\n\u001b[0m\u001b[1;32m    427\u001b[0m         \u001b[0mself\u001b[0m\u001b[0;34m.\u001b[0m\u001b[0mfeature_types\u001b[0m \u001b[0;34m=\u001b[0m \u001b[0mfeature_types\u001b[0m\u001b[0;34m\u001b[0m\u001b[0;34m\u001b[0m\u001b[0m\n\u001b[1;32m    428\u001b[0m \u001b[0;34m\u001b[0m\u001b[0m\n",
      "\u001b[0;32m/usr/local/lib/python3.7/dist-packages/xgboost/core.py\u001b[0m in \u001b[0;36mfeature_names\u001b[0;34m(self, feature_names)\u001b[0m\n\u001b[1;32m    868\u001b[0m                        \u001b[0;32mnot\u001b[0m \u001b[0many\u001b[0m\u001b[0;34m(\u001b[0m\u001b[0mx\u001b[0m \u001b[0;32min\u001b[0m \u001b[0mf\u001b[0m \u001b[0;32mfor\u001b[0m \u001b[0mx\u001b[0m \u001b[0;32min\u001b[0m \u001b[0mset\u001b[0m\u001b[0;34m(\u001b[0m\u001b[0;34m(\u001b[0m\u001b[0;34m'['\u001b[0m\u001b[0;34m,\u001b[0m \u001b[0;34m']'\u001b[0m\u001b[0;34m,\u001b[0m \u001b[0;34m'<'\u001b[0m\u001b[0;34m)\u001b[0m\u001b[0;34m)\u001b[0m\u001b[0;34m)\u001b[0m\u001b[0;34m\u001b[0m\u001b[0;34m\u001b[0m\u001b[0m\n\u001b[1;32m    869\u001b[0m                        for f in feature_names):\n\u001b[0;32m--> 870\u001b[0;31m                 \u001b[0;32mraise\u001b[0m \u001b[0mValueError\u001b[0m\u001b[0;34m(\u001b[0m\u001b[0;34m'feature_names may not contain [, ] or <'\u001b[0m\u001b[0;34m)\u001b[0m\u001b[0;34m\u001b[0m\u001b[0;34m\u001b[0m\u001b[0m\n\u001b[0m\u001b[1;32m    871\u001b[0m         \u001b[0;32melse\u001b[0m\u001b[0;34m:\u001b[0m\u001b[0;34m\u001b[0m\u001b[0;34m\u001b[0m\u001b[0m\n\u001b[1;32m    872\u001b[0m             \u001b[0;31m# reset feature_types also\u001b[0m\u001b[0;34m\u001b[0m\u001b[0;34m\u001b[0m\u001b[0;34m\u001b[0m\u001b[0m\n",
      "\u001b[0;31mValueError\u001b[0m: feature_names may not contain [, ] or <"
     ]
    }
   ],
   "source": [
    "# xgboost for classification\n",
    "from numpy import asarray\n",
    "from numpy import mean\n",
    "from numpy import std\n",
    "# from sklearn.datasets import make_classification\n",
    "from xgboost import XGBClassifier\n",
    "from sklearn.model_selection import cross_val_score\n",
    "from sklearn.model_selection import RepeatedStratifiedKFold\n",
    "from matplotlib import pyplot\n",
    "# define dataset\n",
    "# X, y = make_classification(n_samples=1000, n_features=10, n_informative=5, n_redundant=5, random_state=1)\n",
    "# evaluate the model\n",
    "# model = XGBClassifier()\n",
    "# cv = RepeatedStratifiedKFold(n_splits=10, n_repeats=3, random_state=1)\n",
    "# n_scores = cross_val_score(model, features, y_train, scoring='accuracy', cv=cv, n_jobs=-1, error_score='raise')\n",
    "# print('Accuracy: %.3f (%.3f)' % (mean(n_scores), std(n_scores)))\n",
    "# fit the model on the whole dataset\n",
    "model = XGBClassifier()\n",
    "model.fit(features, y_train)\n",
    "# make a single prediction\n",
    "yhat = model.predict(features2)\n",
    "print(classification_report(yhat,y_test))"
   ]
  },
  {
   "cell_type": "code",
   "execution_count": 33,
   "id": "nrsbgcjAqIWm",
   "metadata": {
    "colab": {
     "base_uri": "https://localhost:8080/"
    },
    "id": "nrsbgcjAqIWm",
    "outputId": "e964b6b7-7a2f-4352-e286-3cf5f39cef88"
   },
   "outputs": [
    {
     "name": "stdout",
     "output_type": "stream",
     "text": [
      "              precision    recall  f1-score   support\n",
      "\n",
      "           0       0.33      0.58      0.42        26\n",
      "           1       0.74      0.51      0.60        61\n",
      "\n",
      "    accuracy                           0.53        87\n",
      "   macro avg       0.54      0.54      0.51        87\n",
      "weighted avg       0.62      0.53      0.55        87\n",
      "\n"
     ]
    }
   ],
   "source": [
    "# lightgbm for classification\n",
    "from numpy import mean\n",
    "from numpy import std\n",
    "from sklearn.datasets import make_classification\n",
    "from lightgbm import LGBMClassifier\n",
    "from sklearn.model_selection import cross_val_score\n",
    "from sklearn.model_selection import RepeatedStratifiedKFold\n",
    "from matplotlib import pyplot\n",
    "# evaluate the model\n",
    "# model = LGBMClassifier()\n",
    "# cv = RepeatedStratifiedKFold(n_splits=10, n_repeats=3, random_state=1)\n",
    "# n_scores = cross_val_score(model, features, y_train, scoring='accuracy', cv=cv, n_jobs=-1, error_score='raise')\n",
    "# print('Accuracy: %.3f (%.3f)' % (mean(n_scores), std(n_scores)))\n",
    "# fit the model on the whole dataset\n",
    "model = LGBMClassifier()\n",
    "model.fit(features, y_train)\n",
    "# make a single prediction\n",
    "yhat = model.predict(features2)\n",
    "print(classification_report(yhat,y_test))"
   ]
  },
  {
   "cell_type": "code",
   "execution_count": null,
   "id": "NlnIinX5qIWm",
   "metadata": {
    "id": "NlnIinX5qIWm"
   },
   "outputs": [],
   "source": []
  },
  {
   "cell_type": "markdown",
   "id": "7gp8UbHXsLIl",
   "metadata": {
    "id": "7gp8UbHXsLIl"
   },
   "source": [
    "# Models lgbm"
   ]
  },
  {
   "cell_type": "code",
   "execution_count": null,
   "id": "csjsHeECsLIl",
   "metadata": {
    "id": "csjsHeECsLIl"
   },
   "outputs": [],
   "source": [
    "import pandas as pd\n",
    "import numpy as np\n",
    "from sklearn.linear_model import LogisticRegression\n",
    "from sklearn import svm\n",
    "from sklearn import tree\n",
    "from sklearn.ensemble import RandomForestClassifier\n",
    "from sklearn.neighbors import KNeighborsClassifier\n",
    "from xgboost import XGBClassifier\n",
    "from sklearn.model_selection import train_test_split\n",
    "from sklearn.neural_network import MLPClassifier\n",
    "from sklearn.preprocessing import StandardScaler\n",
    "import seaborn as sns\n",
    "import matplotlib.pyplot as plt\n",
    "from sklearn.metrics import accuracy_score\n",
    "from sklearn.feature_selection import SelectFromModel\n",
    "\n",
    "from sklearn.decomposition import PCA\n",
    "from sklearn.manifold import TSNE\n",
    "%matplotlib inline\n",
    "import matplotlib.pyplot as plt\n",
    "from mpl_toolkits.mplot3d import Axes3D\n",
    "\n",
    "\n",
    "\n",
    "import warnings\n",
    "warnings.filterwarnings('ignore')"
   ]
  },
  {
   "cell_type": "code",
   "execution_count": null,
   "id": "6dDYneZwsLIm",
   "metadata": {
    "id": "6dDYneZwsLIm"
   },
   "outputs": [],
   "source": [
    "features = X_train[embeded_lgb_feature]\n",
    "features2 = X_test[embeded_lgb_feature]"
   ]
  },
  {
   "cell_type": "code",
   "execution_count": null,
   "id": "CsoCCfXHsLIm",
   "metadata": {
    "colab": {
     "base_uri": "https://localhost:8080/"
    },
    "id": "CsoCCfXHsLIm",
    "outputId": "da6939bb-d592-4436-fa01-ea7bd295481e"
   },
   "outputs": [
    {
     "data": {
      "text/plain": [
       "0"
      ]
     },
     "execution_count": 139,
     "metadata": {
      "tags": []
     },
     "output_type": "execute_result"
    }
   ],
   "source": [
    "features.isna().sum().sum()"
   ]
  },
  {
   "cell_type": "code",
   "execution_count": null,
   "id": "brwSG0XusLIm",
   "metadata": {
    "colab": {
     "base_uri": "https://localhost:8080/"
    },
    "id": "brwSG0XusLIm",
    "outputId": "353d454a-29b9-4322-de7f-3043930e8af5"
   },
   "outputs": [
    {
     "data": {
      "text/plain": [
       "0"
      ]
     },
     "execution_count": 140,
     "metadata": {
      "tags": []
     },
     "output_type": "execute_result"
    }
   ],
   "source": [
    "X_test.isna().sum().sum()"
   ]
  },
  {
   "cell_type": "code",
   "execution_count": null,
   "id": "wYsauz-WsLIm",
   "metadata": {
    "colab": {
     "base_uri": "https://localhost:8080/"
    },
    "id": "wYsauz-WsLIm",
    "outputId": "01cc12c2-a00f-490a-9f5e-35c720e0a380"
   },
   "outputs": [
    {
     "name": "stdout",
     "output_type": "stream",
     "text": [
      "              precision    recall  f1-score   support\n",
      "\n",
      "           0       0.31      0.52      0.39        27\n",
      "           1       0.69      0.48      0.57        60\n",
      "\n",
      "    accuracy                           0.49        87\n",
      "   macro avg       0.50      0.50      0.48        87\n",
      "weighted avg       0.57      0.49      0.51        87\n",
      "\n"
     ]
    }
   ],
   "source": [
    "from sklearn.model_selection import cross_val_score\n",
    "# from sklearn.datasets import load_iris\n",
    "from sklearn.ensemble import AdaBoostClassifier\n",
    "\n",
    "# X, y = load_iris(return_X_y=True)\n",
    "clf = AdaBoostClassifier()\n",
    "# scores = cross_val_score(clf, features, y_train, cv=5)\n",
    "# print(scores.mean())\n",
    "clf.fit(features, y_train)\n",
    "y_pred = (clf.predict(features2)>0.5).astype(int)\n",
    "from sklearn.metrics import classification_report\n",
    "print(classification_report(y_pred,y_test))\n"
   ]
  },
  {
   "cell_type": "code",
   "execution_count": null,
   "id": "NIFvhMJIsLIn",
   "metadata": {
    "colab": {
     "base_uri": "https://localhost:8080/"
    },
    "id": "NIFvhMJIsLIn",
    "outputId": "42a5dccf-450f-428e-a326-f4e29fd0147e"
   },
   "outputs": [
    {
     "name": "stdout",
     "output_type": "stream",
     "text": [
      "              precision    recall  f1-score   support\n",
      "\n",
      "           0       0.53      0.20      0.29        45\n",
      "           1       0.49      0.81      0.61        42\n",
      "\n",
      "    accuracy                           0.49        87\n",
      "   macro avg       0.51      0.50      0.45        87\n",
      "weighted avg       0.51      0.49      0.44        87\n",
      "\n"
     ]
    }
   ],
   "source": [
    "from sklearn.svm import SVC\n",
    "\n",
    "svclassifier = SVC(gamma='auto')\n",
    "svclassifier.fit(features, y_train)\n",
    "y_pred = svclassifier.predict(features2)\n",
    "print(classification_report(y_test, y_pred))"
   ]
  },
  {
   "cell_type": "code",
   "execution_count": null,
   "id": "wo_0lws6sLIn",
   "metadata": {
    "colab": {
     "base_uri": "https://localhost:8080/"
    },
    "id": "wo_0lws6sLIn",
    "outputId": "b70423ec-217b-4c83-df64-985cb4bdbc79"
   },
   "outputs": [
    {
     "name": "stdout",
     "output_type": "stream",
     "text": [
      "Accuracy: 0.51 (+/- 0.04) [DecisionTreeClassifier]\n",
      "Accuracy: 0.54 (+/- 0.01) [KNNClassifier]\n",
      "Accuracy: 0.59 (+/- 0.02) [SVC]\n",
      "Accuracy: 0.53 (+/- 0.04) [voting]\n"
     ]
    }
   ],
   "source": [
    "from sklearn import datasets\n",
    "from sklearn.tree import DecisionTreeClassifier\n",
    "from sklearn.neighbors import KNeighborsClassifier\n",
    "from sklearn.svm import SVC\n",
    "from itertools import product\n",
    "from sklearn.ensemble import VotingClassifier\n",
    "\n",
    "\n",
    "clf1 = DecisionTreeClassifier()\n",
    "clf2 = KNeighborsClassifier()\n",
    "clf3 = SVC(kernel='rbf', probability=True)\n",
    "eclf = VotingClassifier(estimators=[('dt', clf1), ('knn', clf2), ('svc', clf3)],\n",
    "                        voting='soft', weights=[2, 2, 2])\n",
    "\n",
    "clf1 = clf1.fit(features, y_train)\n",
    "clf2 = clf2.fit(features, y_train)\n",
    "clf3 = clf3.fit(features, y_train)\n",
    "eclf = eclf.fit(features, y_train)\n",
    "\n",
    "for clf, label in zip([clf1, clf2, clf3, eclf], ['DecisionTreeClassifier', 'KNNClassifier', 'SVC', 'voting']):\n",
    "    scores = cross_val_score(clf, features, y_train, scoring='accuracy', cv=5)\n",
    "    print(\"Accuracy: %0.2f (+/- %0.2f) [%s]\" % (scores.mean(), scores.std(), label))"
   ]
  },
  {
   "cell_type": "code",
   "execution_count": null,
   "id": "6bJs0YZDsLIn",
   "metadata": {
    "colab": {
     "base_uri": "https://localhost:8080/",
     "height": 827
    },
    "id": "6bJs0YZDsLIn",
    "outputId": "71677c5e-90c3-4307-e3f8-d80b7348b426"
   },
   "outputs": [
    {
     "name": "stdout",
     "output_type": "stream",
     "text": [
      "Logistic Regression score is 56.32183908045977% \n",
      "\n",
      "Support Vector Classifier score is 55.172413793103445%\n",
      "\n",
      "Decision Tree Classifier score is 47.12643678160919%\n",
      "\n",
      "Random Forest Classifier score is 48.275862068965516%\n",
      "\n",
      "KNN Classifier score is 48.275862068965516% with k = 1\n",
      "KNN Classifier score is 49.42528735632184% with k = 2\n",
      "KNN Classifier score is 44.827586206896555% with k = 3\n",
      "KNN Classifier score is 42.5287356321839% with k = 4\n",
      "KNN Classifier score is 45.97701149425287% with k = 5\n",
      "KNN Classifier score is 42.5287356321839% with k = 6\n",
      "KNN Classifier score is 51.724137931034484% with k = 7\n",
      "KNN Classifier score is 49.42528735632184% with k = 8\n",
      "KNN Classifier score is 49.42528735632184% with k = 9\n",
      "KNN Classifier score is 51.724137931034484% with k = 10\n",
      "KNN Classifier score is 50.57471264367817% with k = 11\n",
      "KNN Classifier score is 44.827586206896555% with k = 12\n",
      "KNN Classifier score is 45.97701149425287% with k = 13\n",
      "KNN Classifier score is 48.275862068965516% with k = 14\n",
      "KNN Classifier score is 49.42528735632184% with k = 15\n",
      "KNN Classifier score is 51.724137931034484% with k = 16\n",
      "KNN Classifier score is 51.724137931034484% with k = 17\n",
      "KNN Classifier score is 51.724137931034484% with k = 18\n",
      "KNN Classifier score is 50.57471264367817% with k = 19\n"
     ]
    },
    {
     "data": {
      "image/png": "[encoded data removed]",
      "text/plain": [
       "<Figure size 432x288 with 1 Axes>"
      ]
     },
     "metadata": {
      "needs_background": "light",
      "tags": []
     },
     "output_type": "display_data"
    },
    {
     "name": "stdout",
     "output_type": "stream",
     "text": [
      "\n",
      "MLP Classifier score is 50.57471264367817%\n",
      "\n"
     ]
    }
   ],
   "source": [
    "# fitting logistic regression\n",
    "lr = LogisticRegression()\n",
    "lr.fit(features, y_train)\n",
    "predictionsLR = lr.predict(features2)\n",
    "scoreLR = accuracy_score(y_test, predictionsLR)\n",
    "print(f\"Logistic Regression score is {scoreLR * 100}% \\n\")\n",
    "\n",
    "# fitting SVC\n",
    "svc = svm.LinearSVC()\n",
    "svc.fit(features, y_train)\n",
    "predictionsSVC = svc.predict(features2)\n",
    "scoreSVC = accuracy_score(y_test, predictionsSVC)\n",
    "print(f\"Support Vector Classifier score is {scoreSVC * 100}%\\n\")\n",
    "\n",
    "# fitting decision tree classifier\n",
    "clf = tree.DecisionTreeClassifier()\n",
    "clf.fit(features, y_train)\n",
    "predictionsTree = clf.predict(features2)\n",
    "scoreTree = accuracy_score(y_test, predictionsTree)\n",
    "print(f\"Decision Tree Classifier score is {scoreTree * 100}%\\n\")\n",
    "\n",
    "# fitting Random Forest classifier\n",
    "clf1 = RandomForestClassifier(max_features=23)\n",
    "clf1.fit(features, y_train)\n",
    "predictionsTree1 = clf1.predict(features2)\n",
    "scoreTree1 = accuracy_score(y_test, predictionsTree1)\n",
    "print(f\"Random Forest Classifier score is {scoreTree1 * 100}%\\n\")\n",
    "\n",
    "# fitting XGBoost\n",
    "# xgb = XGBClassifier()\n",
    "# xgb.fit(features.to_numpy(), y_train)\n",
    "# predictionsXGB = xgb.predict(X_test)\n",
    "# predictionsXGB = (predictionsXGB>0.5).astype(int)\n",
    "# scoreXGB = accuracy_score(y_test, predictionsXGB)\n",
    "# print(f\"XG Boost Classifier score is {scoreXGB * 100}%\\n\")\n",
    "\n",
    "# fitting KNN Classifier\n",
    "K = range(1, 20)\n",
    "acc = []\n",
    "for k in K:\n",
    "    knn = KNeighborsClassifier(n_neighbors=k)\n",
    "    knn.fit(features, y_train)\n",
    "    predictionsKNN = knn.predict(features2)\n",
    "    scoreKNN = accuracy_score(y_test, predictionsKNN)\n",
    "    print(f\"KNN Classifier score is {scoreKNN * 100}% with k = {k}\")\n",
    "    acc.append(scoreKNN*100)\n",
    "\n",
    "# Elbow plot:\n",
    "plt.plot(K, acc)\n",
    "plt.xlabel('K')\n",
    "plt.ylabel('Accuracy')\n",
    "plt.title(\"Elbow Curve without feature selection for Inter-Reseach Area\")\n",
    "\n",
    "plt.show()\n",
    "\n",
    "# MLP / ANN\n",
    "classifier = MLPClassifier(hidden_layer_sizes=(128, 64), max_iter=300, activation='relu', solver='adam', random_state=1)\n",
    "classifier.fit(features, y_train)\n",
    "predictionsMLP = classifier.predict(features2)\n",
    "scoreMLP = accuracy_score(y_test, predictionsMLP)\n",
    "print(f\"\\nMLP Classifier score is {scoreMLP * 100}%\\n\")"
   ]
  },
  {
   "cell_type": "code",
   "execution_count": null,
   "id": "7SG5P3posLIn",
   "metadata": {
    "colab": {
     "base_uri": "https://localhost:8080/"
    },
    "id": "7SG5P3posLIn",
    "outputId": "d6e255f4-7e11-4d9b-f9d6-e3bf7afa77f5"
   },
   "outputs": [
    {
     "name": "stdout",
     "output_type": "stream",
     "text": [
      "Number of mislabeled points out of a total 87 points : 44\n"
     ]
    }
   ],
   "source": [
    "from sklearn.naive_bayes import GaussianNB\n",
    "gnb = GaussianNB()\n",
    "y_pred = gnb.fit(features, y_train).predict(features2)\n",
    "print(\"Number of mislabeled points out of a total %d points : %d\"\n",
    "      % (X_test.shape[0], (y_test != y_pred).sum()))"
   ]
  },
  {
   "cell_type": "code",
   "execution_count": null,
   "id": "uPIkabCcsLIn",
   "metadata": {
    "colab": {
     "base_uri": "https://localhost:8080/"
    },
    "id": "uPIkabCcsLIn",
    "outputId": "c0ce3641-71ae-4cf5-f773-5a0a062407f6"
   },
   "outputs": [
    {
     "name": "stdout",
     "output_type": "stream",
     "text": [
      "              precision    recall  f1-score   support\n",
      "\n",
      "           0       0.29      0.52      0.37        25\n",
      "           1       0.71      0.48      0.58        62\n",
      "\n",
      "    accuracy                           0.49        87\n",
      "   macro avg       0.50      0.50      0.47        87\n",
      "weighted avg       0.59      0.49      0.52        87\n",
      "\n"
     ]
    }
   ],
   "source": [
    "from numpy import mean\n",
    "from numpy import std\n",
    "from sklearn.datasets import make_classification\n",
    "from sklearn.ensemble import GradientBoostingClassifier\n",
    "from sklearn.model_selection import cross_val_score\n",
    "from sklearn.model_selection import RepeatedStratifiedKFold\n",
    "from matplotlib import pyplot\n",
    "# define dataset\n",
    "# X, y = make_classification(n_samples=1000, n_features=10, n_informative=5, n_redundant=5, random_state=1)\n",
    "# evaluate the model\n",
    "# model = GradientBoostingClassifier()\n",
    "# cv = RepeatedStratifiedKFold(n_splits=10, n_repeats=3, random_state=1)\n",
    "# n_scores = cross_val_score(model, X_train, y_train, scoring='accuracy', cv=cv, n_jobs=-1, error_score='raise')\n",
    "# print('Accuracy: %.3f (%.3f)' % (mean(n_scores), std(n_scores)))\n",
    "# fit the model on the whole dataset\n",
    "model = GradientBoostingClassifier()\n",
    "model.fit(features, y_train)\n",
    "# make a single prediction\n",
    "# row = [[2.56999479, -0.13019997, 3.16075093, -4.35936352, -1.61271951, -1.39352057, -2.48924933, -1.93094078, 3.26130366, 2.05692145]]\n",
    "yhat = model.predict(features2)\n",
    "\n",
    "print(classification_report(yhat,y_test))"
   ]
  },
  {
   "cell_type": "code",
   "execution_count": null,
   "id": "YZDLqKSusLIo",
   "metadata": {
    "colab": {
     "base_uri": "https://localhost:8080/"
    },
    "id": "YZDLqKSusLIo",
    "outputId": "7b01d0f1-71c3-4760-8934-c4eab9d2ccf3"
   },
   "outputs": [
    {
     "name": "stdout",
     "output_type": "stream",
     "text": [
      "              precision    recall  f1-score   support\n",
      "\n",
      "           0       0.27      0.60      0.37        20\n",
      "           1       0.81      0.51      0.62        67\n",
      "\n",
      "    accuracy                           0.53        87\n",
      "   macro avg       0.54      0.55      0.50        87\n",
      "weighted avg       0.68      0.53      0.57        87\n",
      "\n"
     ]
    }
   ],
   "source": [
    "# histogram-based gradient boosting for classification in scikit-learn\n",
    "from numpy import mean\n",
    "from numpy import std\n",
    "from sklearn.datasets import make_classification\n",
    "from sklearn.experimental import enable_hist_gradient_boosting\n",
    "from sklearn.ensemble import HistGradientBoostingClassifier\n",
    "from sklearn.model_selection import cross_val_score\n",
    "from sklearn.model_selection import RepeatedStratifiedKFold\n",
    "from matplotlib import pyplot\n",
    "# evaluate the model\n",
    "# model = HistGradientBoostingClassifier()\n",
    "# cv = RepeatedStratifiedKFold(n_splits=10, n_repeats=3, random_state=1)\n",
    "# n_scores = cross_val_score(model, features, y_train, scoring='accuracy', cv=cv, n_jobs=-1, error_score='raise')\n",
    "# print('Accuracy: %.3f (%.3f)' % (mean(n_scores), std(n_scores)))\n",
    "# fit the model on the whole dataset\n",
    "model = HistGradientBoostingClassifier()\n",
    "model.fit(features, y_train)\n",
    "# make a single prediction\n",
    "yhat = model.predict(features2)\n",
    "print(classification_report(yhat,y_test))"
   ]
  },
  {
   "cell_type": "code",
   "execution_count": 118,
   "id": "qtPiaBScsLIo",
   "metadata": {
    "colab": {
     "base_uri": "https://localhost:8080/",
     "height": 387
    },
    "id": "qtPiaBScsLIo",
    "outputId": "bb271dec-ea1e-4d10-f2c6-1512a8968b2e"
   },
   "outputs": [
    {
     "name": "stdout",
     "output_type": "stream",
     "text": [
      "[11:25:38] WARNING: C:/Users/Administrator/workspace/xgboost-win64_release_1.4.0/src/learner.cc:1095: Starting in XGBoost 1.3.0, the default evaluation metric used with the objective 'binary:logistic' was changed from 'error' to 'logloss'. Explicitly set eval_metric if you'd like to restore the old behavior.\n",
      "              precision    recall  f1-score   support\n",
      "\n",
      "         0.0       0.87      0.54      0.67        72\n",
      "         1.0       0.21      0.60      0.32        15\n",
      "\n",
      "    accuracy                           0.55        87\n",
      "   macro avg       0.54      0.57      0.49        87\n",
      "weighted avg       0.75      0.55      0.61        87\n",
      "\n"
     ]
    }
   ],
   "source": [
    "# xgboost for classification\n",
    "from numpy import asarray\n",
    "from numpy import mean\n",
    "from numpy import std\n",
    "from sklearn.datasets import make_classification\n",
    "from xgboost import XGBClassifier\n",
    "from sklearn.model_selection import cross_val_score\n",
    "from sklearn.model_selection import RepeatedStratifiedKFold\n",
    "from matplotlib import pyplot\n",
    "# define dataset\n",
    "# X, y = make_classification(n_samples=1000, n_features=10, n_informative=5, n_redundant=5, random_state=1)\n",
    "# evaluate the model\n",
    "# model = XGBClassifier()\n",
    "# cv = RepeatedStratifiedKFold(n_splits=10, n_repeats=3, random_state=1)\n",
    "# n_scores = cross_val_score(model, features, y_train, scoring='accuracy', cv=cv, n_jobs=-1, error_score='raise')\n",
    "# print('Accuracy: %.3f (%.3f)' % (mean(n_scores), std(n_scores)))\n",
    "# fit the model on the whole dataset\n",
    "model = XGBClassifier()\n",
    "model.fit(features, y_train)\n",
    "# make a single prediction\n",
    "yhat = model.predict(features2)\n",
    "print(classification_report(yhat,y_test))"
   ]
  },
  {
   "cell_type": "code",
   "execution_count": null,
   "id": "mry6H3SWsLIo",
   "metadata": {
    "colab": {
     "base_uri": "https://localhost:8080/"
    },
    "id": "mry6H3SWsLIo",
    "outputId": "775d69c5-06ca-4c3c-f428-59688a9936a8"
   },
   "outputs": [
    {
     "name": "stdout",
     "output_type": "stream",
     "text": [
      "              precision    recall  f1-score   support\n",
      "\n",
      "           0       0.24      0.65      0.35        17\n",
      "           1       0.86      0.51      0.64        70\n",
      "\n",
      "    accuracy                           0.54        87\n",
      "   macro avg       0.55      0.58      0.50        87\n",
      "weighted avg       0.74      0.54      0.59        87\n",
      "\n"
     ]
    }
   ],
   "source": [
    "# lightgbm for classification\n",
    "from numpy import mean\n",
    "from numpy import std\n",
    "from sklearn.datasets import make_classification\n",
    "from lightgbm import LGBMClassifier\n",
    "from sklearn.model_selection import cross_val_score\n",
    "from sklearn.model_selection import RepeatedStratifiedKFold\n",
    "from matplotlib import pyplot\n",
    "# evaluate the model\n",
    "# model = LGBMClassifier()\n",
    "# cv = RepeatedStratifiedKFold(n_splits=10, n_repeats=3, random_state=1)\n",
    "# n_scores = cross_val_score(model, features, y_train, scoring='accuracy', cv=cv, n_jobs=-1, error_score='raise')\n",
    "# print('Accuracy: %.3f (%.3f)' % (mean(n_scores), std(n_scores)))\n",
    "# fit the model on the whole dataset\n",
    "model = LGBMClassifier()\n",
    "model.fit(features, y_train)\n",
    "# make a single prediction\n",
    "yhat = model.predict(features2)\n",
    "print(classification_report(yhat,y_test))"
   ]
  },
  {
   "cell_type": "code",
   "execution_count": null,
   "id": "rXqaehoIsLIo",
   "metadata": {
    "id": "rXqaehoIsLIo"
   },
   "outputs": [],
   "source": []
  }
 ],
 "metadata": {
  "colab": {
   "name": "audio_models.ipynb",
   "provenance": [],
   "toc_visible": true
  },
  "kernelspec": {
   "display_name": "Python 3",
   "language": "python",
   "name": "python3"
  },
  "language_info": {
   "codemirror_mode": {
    "name": "ipython",
    "version": 3
   },
   "file_extension": ".py",
   "mimetype": "text/x-python",
   "name": "python",
   "nbconvert_exporter": "python",
   "pygments_lexer": "ipython3",
   "version": "3.8.8"
  }
 },
 "nbformat": 4,
 "nbformat_minor": 5
}
