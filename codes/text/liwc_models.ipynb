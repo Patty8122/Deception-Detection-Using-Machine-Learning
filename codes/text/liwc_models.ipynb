{
 "cells": [
  {
   "cell_type": "code",
   "execution_count": 1,
   "id": "63df50f7",
   "metadata": {
    "id": "63df50f7"
   },
   "outputs": [],
   "source": [
    "import pandas as pd\n",
    "import numpy as np"
   ]
  },
  {
   "cell_type": "code",
   "execution_count": 2,
   "id": "eOrWgRwGd2X5",
   "metadata": {
    "id": "eOrWgRwGd2X5"
   },
   "outputs": [],
   "source": [
    "new_df = pd.read_csv('liwc_final_question_type.csv')"
   ]
  },
  {
   "cell_type": "code",
   "execution_count": 161,
   "id": "085b45c9",
   "metadata": {},
   "outputs": [
    {
     "data": {
      "text/plain": [
       "Index(['Source (D)', 'question', 'person_id', 'WC', 'Analytic', 'Clout',\n",
       "       'Authentic', 'Tone', 'WPS', 'Sixltr', 'Dic', 'function', 'pronoun',\n",
       "       'ppron', 'i', 'we', 'you', 'shehe', 'they', 'ipron', 'article', 'prep',\n",
       "       'auxverb', 'adverb', 'conj', 'negate', 'verb', 'adj', 'compare',\n",
       "       'interrog', 'number', 'quant', 'affect', 'posemo', 'negemo', 'anx',\n",
       "       'anger', 'sad', 'social', 'family', 'friend', 'female', 'male',\n",
       "       'cogproc', 'insight', 'cause', 'discrep', 'tentat', 'certain', 'differ',\n",
       "       'percept', 'see', 'hear', 'feel', 'bio', 'body', 'health', 'sexual',\n",
       "       'ingest', 'drives', 'affiliation', 'achieve', 'power', 'reward', 'risk',\n",
       "       'focuspast', 'focuspresent', 'focusfuture', 'relativ', 'motion',\n",
       "       'space', 'time', 'work', 'leisure', 'home', 'money', 'relig', 'death',\n",
       "       'informal', 'swear', 'netspeak', 'assent', 'nonflu', 'filler',\n",
       "       'AllPunc', 'Period', 'Comma', 'Colon', 'QMark', 'Dash', 'Apostro',\n",
       "       'OtherP', 'y', 'positive_assumption', 'negative_assumption',\n",
       "       'outcome_question', 'recollection_question', 'hypothetical_question'],\n",
       "      dtype='object')"
      ]
     },
     "execution_count": 161,
     "metadata": {},
     "output_type": "execute_result"
    }
   ],
   "source": [
    "new_df.columns"
   ]
  },
  {
   "cell_type": "code",
   "execution_count": 162,
   "id": "2d9d8679",
   "metadata": {},
   "outputs": [
    {
     "data": {
      "text/plain": [
       "94"
      ]
     },
     "execution_count": 162,
     "metadata": {},
     "output_type": "execute_result"
    }
   ],
   "source": [
    "len(new_df.columns) - 8 + 4"
   ]
  },
  {
   "cell_type": "code",
   "execution_count": 3,
   "id": "022ed4c4",
   "metadata": {},
   "outputs": [],
   "source": [
    "new_df.drop([\n",
    "# 'Source (A)',\n",
    "# 'Source (B)',\n",
    "# 'Source (C)',\n",
    "'Source (D)',\n",
    "# 'Source (F)',\n",
    "# 'Source (G)',\n",
    "# 'Source (I)',\n",
    "# 'Source (J)',\n",
    "# 'SemiC', 'Exclam', 'Quote', 'Parenth'\n",
    "],axis=1,inplace=True)"
   ]
  },
  {
   "cell_type": "code",
   "execution_count": 4,
   "id": "801de91f",
   "metadata": {},
   "outputs": [],
   "source": [
    "new_df.drop(897,axis=0,inplace=True)"
   ]
  },
  {
   "cell_type": "code",
   "execution_count": 5,
   "id": "58e86a4d",
   "metadata": {},
   "outputs": [
    {
     "data": {
      "text/html": [
       "<div>\n",
       "<style scoped>\n",
       "    .dataframe tbody tr th:only-of-type {\n",
       "        vertical-align: middle;\n",
       "    }\n",
       "\n",
       "    .dataframe tbody tr th {\n",
       "        vertical-align: top;\n",
       "    }\n",
       "\n",
       "    .dataframe thead th {\n",
       "        text-align: right;\n",
       "    }\n",
       "</style>\n",
       "<table border=\"1\" class=\"dataframe\">\n",
       "  <thead>\n",
       "    <tr style=\"text-align: right;\">\n",
       "      <th></th>\n",
       "      <th>question</th>\n",
       "      <th>person_id</th>\n",
       "      <th>WC</th>\n",
       "      <th>Analytic</th>\n",
       "      <th>Clout</th>\n",
       "      <th>Authentic</th>\n",
       "      <th>Tone</th>\n",
       "      <th>WPS</th>\n",
       "      <th>Sixltr</th>\n",
       "      <th>Dic</th>\n",
       "      <th>...</th>\n",
       "      <th>QMark</th>\n",
       "      <th>Dash</th>\n",
       "      <th>Apostro</th>\n",
       "      <th>OtherP</th>\n",
       "      <th>y</th>\n",
       "      <th>positive_assumption</th>\n",
       "      <th>negative_assumption</th>\n",
       "      <th>outcome_question</th>\n",
       "      <th>recollection_question</th>\n",
       "      <th>hypothetical_question</th>\n",
       "    </tr>\n",
       "  </thead>\n",
       "  <tbody>\n",
       "    <tr>\n",
       "      <th>0</th>\n",
       "      <td>1</td>\n",
       "      <td>1.0</td>\n",
       "      <td>118.0</td>\n",
       "      <td>35.18</td>\n",
       "      <td>24.88</td>\n",
       "      <td>87.71</td>\n",
       "      <td>73.27</td>\n",
       "      <td>29.50</td>\n",
       "      <td>18.64</td>\n",
       "      <td>93.22</td>\n",
       "      <td>...</td>\n",
       "      <td>0.85</td>\n",
       "      <td>0.0</td>\n",
       "      <td>2.54</td>\n",
       "      <td>0.0</td>\n",
       "      <td>1.0</td>\n",
       "      <td>0.0</td>\n",
       "      <td>0.0</td>\n",
       "      <td>1.0</td>\n",
       "      <td>0.0</td>\n",
       "      <td>0.0</td>\n",
       "    </tr>\n",
       "    <tr>\n",
       "      <th>1</th>\n",
       "      <td>1</td>\n",
       "      <td>2.0</td>\n",
       "      <td>188.0</td>\n",
       "      <td>59.59</td>\n",
       "      <td>31.62</td>\n",
       "      <td>41.31</td>\n",
       "      <td>66.07</td>\n",
       "      <td>12.53</td>\n",
       "      <td>17.55</td>\n",
       "      <td>93.09</td>\n",
       "      <td>...</td>\n",
       "      <td>0.53</td>\n",
       "      <td>0.0</td>\n",
       "      <td>0.00</td>\n",
       "      <td>0.0</td>\n",
       "      <td>1.0</td>\n",
       "      <td>0.0</td>\n",
       "      <td>0.0</td>\n",
       "      <td>1.0</td>\n",
       "      <td>0.0</td>\n",
       "      <td>0.0</td>\n",
       "    </tr>\n",
       "    <tr>\n",
       "      <th>2</th>\n",
       "      <td>1</td>\n",
       "      <td>3.0</td>\n",
       "      <td>38.0</td>\n",
       "      <td>17.17</td>\n",
       "      <td>14.62</td>\n",
       "      <td>33.36</td>\n",
       "      <td>97.58</td>\n",
       "      <td>38.00</td>\n",
       "      <td>13.16</td>\n",
       "      <td>92.11</td>\n",
       "      <td>...</td>\n",
       "      <td>0.00</td>\n",
       "      <td>0.0</td>\n",
       "      <td>7.89</td>\n",
       "      <td>0.0</td>\n",
       "      <td>1.0</td>\n",
       "      <td>0.0</td>\n",
       "      <td>0.0</td>\n",
       "      <td>1.0</td>\n",
       "      <td>0.0</td>\n",
       "      <td>0.0</td>\n",
       "    </tr>\n",
       "    <tr>\n",
       "      <th>3</th>\n",
       "      <td>1</td>\n",
       "      <td>4.0</td>\n",
       "      <td>136.0</td>\n",
       "      <td>27.29</td>\n",
       "      <td>23.11</td>\n",
       "      <td>74.76</td>\n",
       "      <td>97.25</td>\n",
       "      <td>13.60</td>\n",
       "      <td>13.97</td>\n",
       "      <td>89.71</td>\n",
       "      <td>...</td>\n",
       "      <td>0.00</td>\n",
       "      <td>0.0</td>\n",
       "      <td>0.74</td>\n",
       "      <td>0.0</td>\n",
       "      <td>1.0</td>\n",
       "      <td>0.0</td>\n",
       "      <td>0.0</td>\n",
       "      <td>1.0</td>\n",
       "      <td>0.0</td>\n",
       "      <td>0.0</td>\n",
       "    </tr>\n",
       "    <tr>\n",
       "      <th>4</th>\n",
       "      <td>1</td>\n",
       "      <td>5.0</td>\n",
       "      <td>53.0</td>\n",
       "      <td>34.80</td>\n",
       "      <td>12.88</td>\n",
       "      <td>98.39</td>\n",
       "      <td>99.00</td>\n",
       "      <td>7.57</td>\n",
       "      <td>3.77</td>\n",
       "      <td>98.11</td>\n",
       "      <td>...</td>\n",
       "      <td>0.00</td>\n",
       "      <td>0.0</td>\n",
       "      <td>5.66</td>\n",
       "      <td>0.0</td>\n",
       "      <td>1.0</td>\n",
       "      <td>0.0</td>\n",
       "      <td>0.0</td>\n",
       "      <td>1.0</td>\n",
       "      <td>0.0</td>\n",
       "      <td>0.0</td>\n",
       "    </tr>\n",
       "    <tr>\n",
       "      <th>...</th>\n",
       "      <td>...</td>\n",
       "      <td>...</td>\n",
       "      <td>...</td>\n",
       "      <td>...</td>\n",
       "      <td>...</td>\n",
       "      <td>...</td>\n",
       "      <td>...</td>\n",
       "      <td>...</td>\n",
       "      <td>...</td>\n",
       "      <td>...</td>\n",
       "      <td>...</td>\n",
       "      <td>...</td>\n",
       "      <td>...</td>\n",
       "      <td>...</td>\n",
       "      <td>...</td>\n",
       "      <td>...</td>\n",
       "      <td>...</td>\n",
       "      <td>...</td>\n",
       "      <td>...</td>\n",
       "      <td>...</td>\n",
       "      <td>...</td>\n",
       "    </tr>\n",
       "    <tr>\n",
       "      <th>892</th>\n",
       "      <td>D_2</td>\n",
       "      <td>27.0</td>\n",
       "      <td>4.0</td>\n",
       "      <td>1.92</td>\n",
       "      <td>50.00</td>\n",
       "      <td>74.76</td>\n",
       "      <td>25.77</td>\n",
       "      <td>4.00</td>\n",
       "      <td>0.00</td>\n",
       "      <td>75.00</td>\n",
       "      <td>...</td>\n",
       "      <td>0.00</td>\n",
       "      <td>0.0</td>\n",
       "      <td>0.00</td>\n",
       "      <td>0.0</td>\n",
       "      <td>0.0</td>\n",
       "      <td>0.0</td>\n",
       "      <td>0.0</td>\n",
       "      <td>1.0</td>\n",
       "      <td>0.0</td>\n",
       "      <td>0.0</td>\n",
       "    </tr>\n",
       "    <tr>\n",
       "      <th>893</th>\n",
       "      <td>D_2</td>\n",
       "      <td>28.0</td>\n",
       "      <td>11.0</td>\n",
       "      <td>32.58</td>\n",
       "      <td>81.84</td>\n",
       "      <td>2.40</td>\n",
       "      <td>99.00</td>\n",
       "      <td>3.67</td>\n",
       "      <td>18.18</td>\n",
       "      <td>81.82</td>\n",
       "      <td>...</td>\n",
       "      <td>0.00</td>\n",
       "      <td>0.0</td>\n",
       "      <td>9.09</td>\n",
       "      <td>0.0</td>\n",
       "      <td>0.0</td>\n",
       "      <td>0.0</td>\n",
       "      <td>0.0</td>\n",
       "      <td>1.0</td>\n",
       "      <td>0.0</td>\n",
       "      <td>0.0</td>\n",
       "    </tr>\n",
       "    <tr>\n",
       "      <th>894</th>\n",
       "      <td>D_2</td>\n",
       "      <td>29.0</td>\n",
       "      <td>1.0</td>\n",
       "      <td>93.26</td>\n",
       "      <td>50.00</td>\n",
       "      <td>1.00</td>\n",
       "      <td>25.77</td>\n",
       "      <td>1.00</td>\n",
       "      <td>0.00</td>\n",
       "      <td>100.00</td>\n",
       "      <td>...</td>\n",
       "      <td>0.00</td>\n",
       "      <td>0.0</td>\n",
       "      <td>0.00</td>\n",
       "      <td>0.0</td>\n",
       "      <td>0.0</td>\n",
       "      <td>0.0</td>\n",
       "      <td>0.0</td>\n",
       "      <td>1.0</td>\n",
       "      <td>0.0</td>\n",
       "      <td>0.0</td>\n",
       "    </tr>\n",
       "    <tr>\n",
       "      <th>895</th>\n",
       "      <td>D_2</td>\n",
       "      <td>30.0</td>\n",
       "      <td>7.0</td>\n",
       "      <td>93.26</td>\n",
       "      <td>7.67</td>\n",
       "      <td>13.15</td>\n",
       "      <td>25.77</td>\n",
       "      <td>7.00</td>\n",
       "      <td>0.00</td>\n",
       "      <td>85.71</td>\n",
       "      <td>...</td>\n",
       "      <td>0.00</td>\n",
       "      <td>0.0</td>\n",
       "      <td>0.00</td>\n",
       "      <td>0.0</td>\n",
       "      <td>0.0</td>\n",
       "      <td>0.0</td>\n",
       "      <td>0.0</td>\n",
       "      <td>1.0</td>\n",
       "      <td>0.0</td>\n",
       "      <td>0.0</td>\n",
       "    </tr>\n",
       "    <tr>\n",
       "      <th>896</th>\n",
       "      <td>D_2</td>\n",
       "      <td>31.0</td>\n",
       "      <td>48.0</td>\n",
       "      <td>27.87</td>\n",
       "      <td>50.00</td>\n",
       "      <td>35.37</td>\n",
       "      <td>25.77</td>\n",
       "      <td>8.00</td>\n",
       "      <td>10.42</td>\n",
       "      <td>87.50</td>\n",
       "      <td>...</td>\n",
       "      <td>0.00</td>\n",
       "      <td>0.0</td>\n",
       "      <td>2.08</td>\n",
       "      <td>0.0</td>\n",
       "      <td>0.0</td>\n",
       "      <td>0.0</td>\n",
       "      <td>0.0</td>\n",
       "      <td>1.0</td>\n",
       "      <td>0.0</td>\n",
       "      <td>0.0</td>\n",
       "    </tr>\n",
       "  </tbody>\n",
       "</table>\n",
       "<p>897 rows × 97 columns</p>\n",
       "</div>"
      ],
      "text/plain": [
       "    question  person_id     WC  Analytic  Clout  Authentic   Tone    WPS  \\\n",
       "0          1        1.0  118.0     35.18  24.88      87.71  73.27  29.50   \n",
       "1          1        2.0  188.0     59.59  31.62      41.31  66.07  12.53   \n",
       "2          1        3.0   38.0     17.17  14.62      33.36  97.58  38.00   \n",
       "3          1        4.0  136.0     27.29  23.11      74.76  97.25  13.60   \n",
       "4          1        5.0   53.0     34.80  12.88      98.39  99.00   7.57   \n",
       "..       ...        ...    ...       ...    ...        ...    ...    ...   \n",
       "892      D_2       27.0    4.0      1.92  50.00      74.76  25.77   4.00   \n",
       "893      D_2       28.0   11.0     32.58  81.84       2.40  99.00   3.67   \n",
       "894      D_2       29.0    1.0     93.26  50.00       1.00  25.77   1.00   \n",
       "895      D_2       30.0    7.0     93.26   7.67      13.15  25.77   7.00   \n",
       "896      D_2       31.0   48.0     27.87  50.00      35.37  25.77   8.00   \n",
       "\n",
       "     Sixltr     Dic  ...  QMark  Dash  Apostro  OtherP    y  \\\n",
       "0     18.64   93.22  ...   0.85   0.0     2.54     0.0  1.0   \n",
       "1     17.55   93.09  ...   0.53   0.0     0.00     0.0  1.0   \n",
       "2     13.16   92.11  ...   0.00   0.0     7.89     0.0  1.0   \n",
       "3     13.97   89.71  ...   0.00   0.0     0.74     0.0  1.0   \n",
       "4      3.77   98.11  ...   0.00   0.0     5.66     0.0  1.0   \n",
       "..      ...     ...  ...    ...   ...      ...     ...  ...   \n",
       "892    0.00   75.00  ...   0.00   0.0     0.00     0.0  0.0   \n",
       "893   18.18   81.82  ...   0.00   0.0     9.09     0.0  0.0   \n",
       "894    0.00  100.00  ...   0.00   0.0     0.00     0.0  0.0   \n",
       "895    0.00   85.71  ...   0.00   0.0     0.00     0.0  0.0   \n",
       "896   10.42   87.50  ...   0.00   0.0     2.08     0.0  0.0   \n",
       "\n",
       "     positive_assumption  negative_assumption  outcome_question  \\\n",
       "0                    0.0                  0.0               1.0   \n",
       "1                    0.0                  0.0               1.0   \n",
       "2                    0.0                  0.0               1.0   \n",
       "3                    0.0                  0.0               1.0   \n",
       "4                    0.0                  0.0               1.0   \n",
       "..                   ...                  ...               ...   \n",
       "892                  0.0                  0.0               1.0   \n",
       "893                  0.0                  0.0               1.0   \n",
       "894                  0.0                  0.0               1.0   \n",
       "895                  0.0                  0.0               1.0   \n",
       "896                  0.0                  0.0               1.0   \n",
       "\n",
       "     recollection_question  hypothetical_question  \n",
       "0                      0.0                    0.0  \n",
       "1                      0.0                    0.0  \n",
       "2                      0.0                    0.0  \n",
       "3                      0.0                    0.0  \n",
       "4                      0.0                    0.0  \n",
       "..                     ...                    ...  \n",
       "892                    0.0                    0.0  \n",
       "893                    0.0                    0.0  \n",
       "894                    0.0                    0.0  \n",
       "895                    0.0                    0.0  \n",
       "896                    0.0                    0.0  \n",
       "\n",
       "[897 rows x 97 columns]"
      ]
     },
     "execution_count": 5,
     "metadata": {},
     "output_type": "execute_result"
    }
   ],
   "source": [
    "new_df"
   ]
  },
  {
   "cell_type": "code",
   "execution_count": 6,
   "id": "a80cb0a0",
   "metadata": {},
   "outputs": [],
   "source": [
    "p = pd.read_csv('personality_ocean.csv')"
   ]
  },
  {
   "cell_type": "code",
   "execution_count": 7,
   "id": "c0a705d1",
   "metadata": {},
   "outputs": [],
   "source": [
    "# new_df2 = pd.concat([new_df.reset_index(),p.reset_index()], axis=1)"
   ]
  },
  {
   "cell_type": "code",
   "execution_count": 8,
   "id": "86aac980",
   "metadata": {},
   "outputs": [],
   "source": [
    "new_df2  = pd.merge(new_df,p,how='left',on='person_id')"
   ]
  },
  {
   "cell_type": "code",
   "execution_count": 9,
   "id": "0a14656e",
   "metadata": {},
   "outputs": [
    {
     "data": {
      "text/html": [
       "<div>\n",
       "<style scoped>\n",
       "    .dataframe tbody tr th:only-of-type {\n",
       "        vertical-align: middle;\n",
       "    }\n",
       "\n",
       "    .dataframe tbody tr th {\n",
       "        vertical-align: top;\n",
       "    }\n",
       "\n",
       "    .dataframe thead th {\n",
       "        text-align: right;\n",
       "    }\n",
       "</style>\n",
       "<table border=\"1\" class=\"dataframe\">\n",
       "  <thead>\n",
       "    <tr style=\"text-align: right;\">\n",
       "      <th></th>\n",
       "      <th>question</th>\n",
       "      <th>person_id</th>\n",
       "      <th>WC</th>\n",
       "      <th>Analytic</th>\n",
       "      <th>Clout</th>\n",
       "      <th>Authentic</th>\n",
       "      <th>Tone</th>\n",
       "      <th>WPS</th>\n",
       "      <th>Sixltr</th>\n",
       "      <th>Dic</th>\n",
       "      <th>...</th>\n",
       "      <th>I (The respondent) [Often feel blue.]_Slightly agree</th>\n",
       "      <th>I (The respondent) [Often feel blue.]_Slightly disagree</th>\n",
       "      <th>I (The respondent) [Am full of ideas.]_Neutral</th>\n",
       "      <th>I (The respondent) [Am full of ideas.]_Slightly agree</th>\n",
       "      <th>I (The respondent) [Am full of ideas.]_Slightly disagree</th>\n",
       "      <th>O</th>\n",
       "      <th>E</th>\n",
       "      <th>C</th>\n",
       "      <th>A</th>\n",
       "      <th>N</th>\n",
       "    </tr>\n",
       "  </thead>\n",
       "  <tbody>\n",
       "    <tr>\n",
       "      <th>0</th>\n",
       "      <td>1</td>\n",
       "      <td>1.0</td>\n",
       "      <td>118.0</td>\n",
       "      <td>35.18</td>\n",
       "      <td>24.88</td>\n",
       "      <td>87.71</td>\n",
       "      <td>73.27</td>\n",
       "      <td>29.50</td>\n",
       "      <td>18.64</td>\n",
       "      <td>93.22</td>\n",
       "      <td>...</td>\n",
       "      <td>0</td>\n",
       "      <td>0</td>\n",
       "      <td>1</td>\n",
       "      <td>0</td>\n",
       "      <td>0</td>\n",
       "      <td>19</td>\n",
       "      <td>25.000000</td>\n",
       "      <td>13.0</td>\n",
       "      <td>17</td>\n",
       "      <td>35</td>\n",
       "    </tr>\n",
       "    <tr>\n",
       "      <th>1</th>\n",
       "      <td>1</td>\n",
       "      <td>2.0</td>\n",
       "      <td>188.0</td>\n",
       "      <td>59.59</td>\n",
       "      <td>31.62</td>\n",
       "      <td>41.31</td>\n",
       "      <td>66.07</td>\n",
       "      <td>12.53</td>\n",
       "      <td>17.55</td>\n",
       "      <td>93.09</td>\n",
       "      <td>...</td>\n",
       "      <td>0</td>\n",
       "      <td>0</td>\n",
       "      <td>0</td>\n",
       "      <td>0</td>\n",
       "      <td>0</td>\n",
       "      <td>18</td>\n",
       "      <td>7.000000</td>\n",
       "      <td>6.0</td>\n",
       "      <td>6</td>\n",
       "      <td>33</td>\n",
       "    </tr>\n",
       "    <tr>\n",
       "      <th>2</th>\n",
       "      <td>1</td>\n",
       "      <td>3.0</td>\n",
       "      <td>38.0</td>\n",
       "      <td>17.17</td>\n",
       "      <td>14.62</td>\n",
       "      <td>33.36</td>\n",
       "      <td>97.58</td>\n",
       "      <td>38.00</td>\n",
       "      <td>13.16</td>\n",
       "      <td>92.11</td>\n",
       "      <td>...</td>\n",
       "      <td>0</td>\n",
       "      <td>0</td>\n",
       "      <td>0</td>\n",
       "      <td>1</td>\n",
       "      <td>0</td>\n",
       "      <td>12</td>\n",
       "      <td>22.000000</td>\n",
       "      <td>27.0</td>\n",
       "      <td>17</td>\n",
       "      <td>36</td>\n",
       "    </tr>\n",
       "    <tr>\n",
       "      <th>3</th>\n",
       "      <td>1</td>\n",
       "      <td>4.0</td>\n",
       "      <td>136.0</td>\n",
       "      <td>27.29</td>\n",
       "      <td>23.11</td>\n",
       "      <td>74.76</td>\n",
       "      <td>97.25</td>\n",
       "      <td>13.60</td>\n",
       "      <td>13.97</td>\n",
       "      <td>89.71</td>\n",
       "      <td>...</td>\n",
       "      <td>0</td>\n",
       "      <td>1</td>\n",
       "      <td>0</td>\n",
       "      <td>0</td>\n",
       "      <td>1</td>\n",
       "      <td>14</td>\n",
       "      <td>15.000000</td>\n",
       "      <td>15.0</td>\n",
       "      <td>20</td>\n",
       "      <td>41</td>\n",
       "    </tr>\n",
       "    <tr>\n",
       "      <th>4</th>\n",
       "      <td>1</td>\n",
       "      <td>5.0</td>\n",
       "      <td>53.0</td>\n",
       "      <td>34.80</td>\n",
       "      <td>12.88</td>\n",
       "      <td>98.39</td>\n",
       "      <td>99.00</td>\n",
       "      <td>7.57</td>\n",
       "      <td>3.77</td>\n",
       "      <td>98.11</td>\n",
       "      <td>...</td>\n",
       "      <td>0</td>\n",
       "      <td>1</td>\n",
       "      <td>0</td>\n",
       "      <td>0</td>\n",
       "      <td>0</td>\n",
       "      <td>16</td>\n",
       "      <td>17.000000</td>\n",
       "      <td>15.0</td>\n",
       "      <td>18</td>\n",
       "      <td>36</td>\n",
       "    </tr>\n",
       "    <tr>\n",
       "      <th>...</th>\n",
       "      <td>...</td>\n",
       "      <td>...</td>\n",
       "      <td>...</td>\n",
       "      <td>...</td>\n",
       "      <td>...</td>\n",
       "      <td>...</td>\n",
       "      <td>...</td>\n",
       "      <td>...</td>\n",
       "      <td>...</td>\n",
       "      <td>...</td>\n",
       "      <td>...</td>\n",
       "      <td>...</td>\n",
       "      <td>...</td>\n",
       "      <td>...</td>\n",
       "      <td>...</td>\n",
       "      <td>...</td>\n",
       "      <td>...</td>\n",
       "      <td>...</td>\n",
       "      <td>...</td>\n",
       "      <td>...</td>\n",
       "      <td>...</td>\n",
       "    </tr>\n",
       "    <tr>\n",
       "      <th>892</th>\n",
       "      <td>D_2</td>\n",
       "      <td>27.0</td>\n",
       "      <td>4.0</td>\n",
       "      <td>1.92</td>\n",
       "      <td>50.00</td>\n",
       "      <td>74.76</td>\n",
       "      <td>25.77</td>\n",
       "      <td>4.00</td>\n",
       "      <td>0.00</td>\n",
       "      <td>75.00</td>\n",
       "      <td>...</td>\n",
       "      <td>0</td>\n",
       "      <td>0</td>\n",
       "      <td>0</td>\n",
       "      <td>1</td>\n",
       "      <td>0</td>\n",
       "      <td>16</td>\n",
       "      <td>30.966667</td>\n",
       "      <td>11.0</td>\n",
       "      <td>24</td>\n",
       "      <td>38</td>\n",
       "    </tr>\n",
       "    <tr>\n",
       "      <th>893</th>\n",
       "      <td>D_2</td>\n",
       "      <td>28.0</td>\n",
       "      <td>11.0</td>\n",
       "      <td>32.58</td>\n",
       "      <td>81.84</td>\n",
       "      <td>2.40</td>\n",
       "      <td>99.00</td>\n",
       "      <td>3.67</td>\n",
       "      <td>18.18</td>\n",
       "      <td>81.82</td>\n",
       "      <td>...</td>\n",
       "      <td>0</td>\n",
       "      <td>1</td>\n",
       "      <td>0</td>\n",
       "      <td>0</td>\n",
       "      <td>0</td>\n",
       "      <td>19</td>\n",
       "      <td>34.000000</td>\n",
       "      <td>18.0</td>\n",
       "      <td>25</td>\n",
       "      <td>39</td>\n",
       "    </tr>\n",
       "    <tr>\n",
       "      <th>894</th>\n",
       "      <td>D_2</td>\n",
       "      <td>29.0</td>\n",
       "      <td>1.0</td>\n",
       "      <td>93.26</td>\n",
       "      <td>50.00</td>\n",
       "      <td>1.00</td>\n",
       "      <td>25.77</td>\n",
       "      <td>1.00</td>\n",
       "      <td>0.00</td>\n",
       "      <td>100.00</td>\n",
       "      <td>...</td>\n",
       "      <td>0</td>\n",
       "      <td>0</td>\n",
       "      <td>0</td>\n",
       "      <td>1</td>\n",
       "      <td>0</td>\n",
       "      <td>17</td>\n",
       "      <td>19.000000</td>\n",
       "      <td>19.0</td>\n",
       "      <td>21</td>\n",
       "      <td>35</td>\n",
       "    </tr>\n",
       "    <tr>\n",
       "      <th>895</th>\n",
       "      <td>D_2</td>\n",
       "      <td>30.0</td>\n",
       "      <td>7.0</td>\n",
       "      <td>93.26</td>\n",
       "      <td>7.67</td>\n",
       "      <td>13.15</td>\n",
       "      <td>25.77</td>\n",
       "      <td>7.00</td>\n",
       "      <td>0.00</td>\n",
       "      <td>85.71</td>\n",
       "      <td>...</td>\n",
       "      <td>0</td>\n",
       "      <td>0</td>\n",
       "      <td>0</td>\n",
       "      <td>1</td>\n",
       "      <td>0</td>\n",
       "      <td>13</td>\n",
       "      <td>21.000000</td>\n",
       "      <td>17.0</td>\n",
       "      <td>20</td>\n",
       "      <td>44</td>\n",
       "    </tr>\n",
       "    <tr>\n",
       "      <th>896</th>\n",
       "      <td>D_2</td>\n",
       "      <td>31.0</td>\n",
       "      <td>48.0</td>\n",
       "      <td>27.87</td>\n",
       "      <td>50.00</td>\n",
       "      <td>35.37</td>\n",
       "      <td>25.77</td>\n",
       "      <td>8.00</td>\n",
       "      <td>10.42</td>\n",
       "      <td>87.50</td>\n",
       "      <td>...</td>\n",
       "      <td>0</td>\n",
       "      <td>1</td>\n",
       "      <td>0</td>\n",
       "      <td>1</td>\n",
       "      <td>0</td>\n",
       "      <td>16</td>\n",
       "      <td>25.000000</td>\n",
       "      <td>15.0</td>\n",
       "      <td>22</td>\n",
       "      <td>33</td>\n",
       "    </tr>\n",
       "  </tbody>\n",
       "</table>\n",
       "<p>897 rows × 299 columns</p>\n",
       "</div>"
      ],
      "text/plain": [
       "    question  person_id     WC  Analytic  Clout  Authentic   Tone    WPS  \\\n",
       "0          1        1.0  118.0     35.18  24.88      87.71  73.27  29.50   \n",
       "1          1        2.0  188.0     59.59  31.62      41.31  66.07  12.53   \n",
       "2          1        3.0   38.0     17.17  14.62      33.36  97.58  38.00   \n",
       "3          1        4.0  136.0     27.29  23.11      74.76  97.25  13.60   \n",
       "4          1        5.0   53.0     34.80  12.88      98.39  99.00   7.57   \n",
       "..       ...        ...    ...       ...    ...        ...    ...    ...   \n",
       "892      D_2       27.0    4.0      1.92  50.00      74.76  25.77   4.00   \n",
       "893      D_2       28.0   11.0     32.58  81.84       2.40  99.00   3.67   \n",
       "894      D_2       29.0    1.0     93.26  50.00       1.00  25.77   1.00   \n",
       "895      D_2       30.0    7.0     93.26   7.67      13.15  25.77   7.00   \n",
       "896      D_2       31.0   48.0     27.87  50.00      35.37  25.77   8.00   \n",
       "\n",
       "     Sixltr     Dic  ...  \\\n",
       "0     18.64   93.22  ...   \n",
       "1     17.55   93.09  ...   \n",
       "2     13.16   92.11  ...   \n",
       "3     13.97   89.71  ...   \n",
       "4      3.77   98.11  ...   \n",
       "..      ...     ...  ...   \n",
       "892    0.00   75.00  ...   \n",
       "893   18.18   81.82  ...   \n",
       "894    0.00  100.00  ...   \n",
       "895    0.00   85.71  ...   \n",
       "896   10.42   87.50  ...   \n",
       "\n",
       "     I (The respondent) [Often feel blue.]_Slightly agree  \\\n",
       "0                                                    0      \n",
       "1                                                    0      \n",
       "2                                                    0      \n",
       "3                                                    0      \n",
       "4                                                    0      \n",
       "..                                                 ...      \n",
       "892                                                  0      \n",
       "893                                                  0      \n",
       "894                                                  0      \n",
       "895                                                  0      \n",
       "896                                                  0      \n",
       "\n",
       "     I (The respondent) [Often feel blue.]_Slightly disagree  \\\n",
       "0                                                    0         \n",
       "1                                                    0         \n",
       "2                                                    0         \n",
       "3                                                    1         \n",
       "4                                                    1         \n",
       "..                                                 ...         \n",
       "892                                                  0         \n",
       "893                                                  1         \n",
       "894                                                  0         \n",
       "895                                                  0         \n",
       "896                                                  1         \n",
       "\n",
       "     I (The respondent) [Am full of ideas.]_Neutral  \\\n",
       "0                                                 1   \n",
       "1                                                 0   \n",
       "2                                                 0   \n",
       "3                                                 0   \n",
       "4                                                 0   \n",
       "..                                              ...   \n",
       "892                                               0   \n",
       "893                                               0   \n",
       "894                                               0   \n",
       "895                                               0   \n",
       "896                                               0   \n",
       "\n",
       "     I (The respondent) [Am full of ideas.]_Slightly agree  \\\n",
       "0                                                    0       \n",
       "1                                                    0       \n",
       "2                                                    1       \n",
       "3                                                    0       \n",
       "4                                                    0       \n",
       "..                                                 ...       \n",
       "892                                                  1       \n",
       "893                                                  0       \n",
       "894                                                  1       \n",
       "895                                                  1       \n",
       "896                                                  1       \n",
       "\n",
       "     I (The respondent) [Am full of ideas.]_Slightly disagree   O          E  \\\n",
       "0                                                    0         19  25.000000   \n",
       "1                                                    0         18   7.000000   \n",
       "2                                                    0         12  22.000000   \n",
       "3                                                    1         14  15.000000   \n",
       "4                                                    0         16  17.000000   \n",
       "..                                                 ...         ..        ...   \n",
       "892                                                  0         16  30.966667   \n",
       "893                                                  0         19  34.000000   \n",
       "894                                                  0         17  19.000000   \n",
       "895                                                  0         13  21.000000   \n",
       "896                                                  0         16  25.000000   \n",
       "\n",
       "        C   A   N  \n",
       "0    13.0  17  35  \n",
       "1     6.0   6  33  \n",
       "2    27.0  17  36  \n",
       "3    15.0  20  41  \n",
       "4    15.0  18  36  \n",
       "..    ...  ..  ..  \n",
       "892  11.0  24  38  \n",
       "893  18.0  25  39  \n",
       "894  19.0  21  35  \n",
       "895  17.0  20  44  \n",
       "896  15.0  22  33  \n",
       "\n",
       "[897 rows x 299 columns]"
      ]
     },
     "execution_count": 9,
     "metadata": {},
     "output_type": "execute_result"
    }
   ],
   "source": [
    "new_df2"
   ]
  },
  {
   "cell_type": "code",
   "execution_count": 170,
   "id": "e177e473",
   "metadata": {
    "scrolled": true
   },
   "outputs": [
    {
     "name": "stdout",
     "output_type": "stream",
     "text": [
      "0 question\n",
      "1 person_id\n",
      "2 WC\n",
      "3 Analytic\n",
      "4 Clout\n",
      "5 Authentic\n",
      "6 Tone\n",
      "7 WPS\n",
      "8 Sixltr\n",
      "9 Dic\n",
      "10 function\n",
      "11 pronoun\n",
      "12 ppron\n",
      "13 i\n",
      "14 we\n",
      "15 you\n",
      "16 shehe\n",
      "17 they\n",
      "18 ipron\n",
      "19 article\n",
      "20 prep\n",
      "21 auxverb\n",
      "22 adverb\n",
      "23 conj\n",
      "24 negate\n",
      "25 verb\n",
      "26 adj\n",
      "27 compare\n",
      "28 interrog\n",
      "29 number\n",
      "30 quant\n",
      "31 affect\n",
      "32 posemo\n",
      "33 negemo\n",
      "34 anx\n",
      "35 anger\n",
      "36 sad\n",
      "37 social\n",
      "38 family\n",
      "39 friend\n",
      "40 female\n",
      "41 male\n",
      "42 cogproc\n",
      "43 insight\n",
      "44 cause\n",
      "45 discrep\n",
      "46 tentat\n",
      "47 certain\n",
      "48 differ\n",
      "49 percept\n",
      "50 see\n",
      "51 hear\n",
      "52 feel\n",
      "53 bio\n",
      "54 body\n",
      "55 health\n",
      "56 sexual\n",
      "57 ingest\n",
      "58 drives\n",
      "59 affiliation\n",
      "60 achieve\n",
      "61 power\n",
      "62 reward\n",
      "63 risk\n",
      "64 focuspast\n",
      "65 focuspresent\n",
      "66 focusfuture\n",
      "67 relativ\n",
      "68 motion\n",
      "69 space\n",
      "70 time\n",
      "71 work\n",
      "72 leisure\n",
      "73 home\n",
      "74 money\n",
      "75 relig\n",
      "76 death\n",
      "77 informal\n",
      "78 swear\n",
      "79 netspeak\n",
      "80 assent\n",
      "81 nonflu\n",
      "82 filler\n",
      "83 AllPunc\n",
      "84 Period\n",
      "85 Comma\n",
      "86 Colon\n",
      "87 QMark\n",
      "88 Dash\n",
      "89 Apostro\n",
      "90 OtherP\n",
      "91 y\n",
      "92 positive_assumption\n",
      "93 negative_assumption\n",
      "94 outcome_question\n",
      "95 recollection_question\n",
      "96 hypothetical_question\n",
      "97 What is your age (in years) ?\n",
      "98 Gender_Male\n",
      "99 What is the highest degree or level of school you have completed? If currently enrolled, mention current degree _Master’s degree\n",
      "100 Employment Status: Are you currently…?_Employed for wages\n",
      "101 Employment Status: Are you currently…?_Out of work but not currently looking for work\n",
      "102 Are you.. ?_Right-handed\n",
      "103 Do you wear prescription glasses (spectacles)?_Yes\n",
      "104 Which of the following job profiles are you comfortable interviewing for? (No questions testing your knowledge will be asked in the interview)_Coding\n",
      "105 Which of the following job profiles are you comfortable interviewing for? (No questions testing your knowledge will be asked in the interview)_Consulting\n",
      "106 Which of the following job profiles are you comfortable interviewing for? (No questions testing your knowledge will be asked in the interview)_Engineering\n",
      "107 Which of the following job profiles are you comfortable interviewing for? (No questions testing your knowledge will be asked in the interview)_FMCG\n",
      "108 Which of the following job profiles are you comfortable interviewing for? (No questions testing your knowledge will be asked in the interview)_Finance\n",
      "109 Which of the following job profiles are you comfortable interviewing for? (No questions testing your knowledge will be asked in the interview)_Management\n",
      "110 Which of the following job profiles are you comfortable interviewing for? (No questions testing your knowledge will be asked in the interview)_Marketing\n",
      "111 Which of the following job profiles are you comfortable interviewing for? (No questions testing your knowledge will be asked in the interview)_Professor\n",
      "112 Which of the following job profiles are you comfortable interviewing for? (No questions testing your knowledge will be asked in the interview)_RnD\n",
      "113 I (The respondent) [Am the life of the party.]_Disagree\n",
      "114 I (The respondent) [Am the life of the party.]_Neutral\n",
      "115 I (The respondent) [Am the life of the party.]_Slightly agree\n",
      "116 I (The respondent) [Am the life of the party.]_Slightly disagree\n",
      "117 I (The respondent) [Feel little concern for others.]_Disagree\n",
      "118 I (The respondent) [Feel little concern for others.]_Neutral\n",
      "119 I (The respondent) [Feel little concern for others.]_Slightly agree\n",
      "120 I (The respondent) [Feel little concern for others.]_Slightly disagree\n",
      "121 I (The respondent) [Am always prepared.]_Disagree\n",
      "122 I (The respondent) [Am always prepared.]_Neutral\n",
      "123 I (The respondent) [Am always prepared.]_Slightly agree\n",
      "124 I (The respondent) [Am always prepared.]_Slightly disagree\n",
      "125 I (The respondent) [ Get stressed out easily.]_Disagree\n",
      "126 I (The respondent) [ Get stressed out easily.]_Neutral\n",
      "127 I (The respondent) [ Get stressed out easily.]_Slightly agree\n",
      "128 I (The respondent) [ Get stressed out easily.]_Slightly disagree\n",
      "129 I (The respondent) [Have a rich vocabulary.]_Disagree\n",
      "130 I (The respondent) [Have a rich vocabulary.]_Neutral\n",
      "131 I (The respondent) [Have a rich vocabulary.]_Slightly agree\n",
      "132 I (The respondent) [Have a rich vocabulary.]_Slightly disagree\n",
      "133 I (The respondent) [Don't talk a lot.]_Neutral\n",
      "134 I (The respondent) [Don't talk a lot.]_Slightly agree\n",
      "135 I (The respondent) [Don't talk a lot.]_Slightly disagree\n",
      "136 I (The respondent) [Am interested in people.]_Neutral\n",
      "137 I (The respondent) [Am interested in people.]_Slightly agree\n",
      "138 I (The respondent) [Am interested in people.]_Slightly disagree\n",
      "139 I (The respondent) [ Leave my belongings around.]_Disagree\n",
      "140 I (The respondent) [ Leave my belongings around.]_Neutral\n",
      "141 I (The respondent) [ Leave my belongings around.]_Slightly agree\n",
      "142 I (The respondent) [ Leave my belongings around.]_Slightly disagree\n",
      "143 I (The respondent) [Am relaxed most of the time.]_Disagree\n",
      "144 I (The respondent) [Am relaxed most of the time.]_Neutral\n",
      "145 I (The respondent) [Am relaxed most of the time.]_Slightly agree\n",
      "146 I (The respondent) [Am relaxed most of the time.]_Slightly disagree\n",
      "147 I (The respondent) [Have difficulty understanding abstract ideas.]_Neutral\n",
      "148 I (The respondent) [Have difficulty understanding abstract ideas.]_Slightly agree\n",
      "149 I (The respondent) [Have difficulty understanding abstract ideas.]_Slightly disagree\n",
      "150 I (The respondent) [Feel comfortable around people.]_Disagree\n",
      "151 I (The respondent) [Feel comfortable around people.]_Neutral\n",
      "152 I (The respondent) [Feel comfortable around people.]_Slightly agree\n",
      "153 I (The respondent) [Feel comfortable around people.]_Slightly disagree\n",
      "154 I (The respondent) [Insult people.]_Neutral\n",
      "155 I (The respondent) [Insult people.]_Slightly agree\n",
      "156 I (The respondent) [Insult people.]_Slightly disagree\n",
      "157 I (The respondent) [Pay attention to details.]_Neutral\n",
      "158 I (The respondent) [Pay attention to details.]_Slightly agree\n",
      "159 I (The respondent) [Pay attention to details.]_Slightly disagree\n",
      "160 I (The respondent) [Worry about things.]_Neutral\n",
      "161 I (The respondent) [Worry about things.]_Slightly agree\n",
      "162 I (The respondent) [Worry about things.]_Slightly disagree\n",
      "163 I (The respondent) [Have a vivid imagination.]_Neutral\n",
      "164 I (The respondent) [Have a vivid imagination.]_Slightly agree\n",
      "165 I (The respondent) [Have a vivid imagination.]_Slightly disagree\n",
      "166 I (The respondent) [Keep in the background.]_Disagree\n",
      "167 I (The respondent) [Keep in the background.]_Neutral\n",
      "168 I (The respondent) [Keep in the background.]_Slightly agree\n",
      "169 I (The respondent) [Keep in the background.]_Slightly disagree\n",
      "170 I (The respondent) [Sympathize with others' feelings.]_Neutral\n",
      "171 I (The respondent) [Sympathize with others' feelings.]_Slightly agree\n",
      "172 I (The respondent) [Sympathize with others' feelings.]_Slightly disagree\n",
      "173 I (The respondent) [Make a mess of things.]_Disagree\n",
      "174 I (The respondent) [Make a mess of things.]_Neutral\n",
      "175 I (The respondent) [Make a mess of things.]_Slightly agree\n",
      "176 I (The respondent) [Make a mess of things.]_Slightly disagree\n",
      "177 I (The respondent) [Seldom feel blue.]_Disagree\n",
      "178 I (The respondent) [Seldom feel blue.]_Neutral\n",
      "179 I (The respondent) [Seldom feel blue.]_Slightly agree\n",
      "180 I (The respondent) [Seldom feel blue.]_Slightly disagree\n",
      "181 I (The respondent) [Am not interested in abstract ideas.]_Disagree\n",
      "182 I (The respondent) [Am not interested in abstract ideas.]_Neutral\n",
      "183 I (The respondent) [Am not interested in abstract ideas.]_Slightly agree\n",
      "184 I (The respondent) [Am not interested in abstract ideas.]_Slightly disagree\n",
      "185 I (The respondent) [Start conversations.]_Disagree\n",
      "186 I (The respondent) [Start conversations.]_Neutral\n",
      "187 I (The respondent) [Start conversations.]_Slightly agree\n",
      "188 I (The respondent) [Start conversations.]_Slightly disagree\n",
      "189 I (The respondent) [Am not interested in other people's problems.]_Disagree\n",
      "190 I (The respondent) [Am not interested in other people's problems.]_Neutral\n",
      "191 I (The respondent) [Am not interested in other people's problems.]_Slightly agree\n",
      "192 I (The respondent) [Am not interested in other people's problems.]_Slightly disagree\n",
      "193 I (The respondent) [Get chores done right away.]_Disagree\n",
      "194 I (The respondent) [Get chores done right away.]_Neutral\n",
      "195 I (The respondent) [Get chores done right away.]_Slightly agree\n",
      "196 I (The respondent) [Get chores done right away.]_Slightly disagree\n",
      "197 I (The respondent) [Am easily disturbed.]_Disagree\n",
      "198 I (The respondent) [Am easily disturbed.]_Neutral\n",
      "199 I (The respondent) [Am easily disturbed.]_Slightly agree\n",
      "200 I (The respondent) [Am easily disturbed.]_Slightly disagree\n",
      "201 I (The respondent) [Have excellent ideas.]_Disagree\n",
      "202 I (The respondent) [Have excellent ideas.]_Neutral\n",
      "203 I (The respondent) [Have excellent ideas.]_Slightly agree\n",
      "204 I (The respondent) [Have excellent ideas.]_Slightly disagree\n",
      "205 I (The respondent) [Have little to say.]_Disagree\n",
      "206 I (The respondent) [Have little to say.]_Neutral\n",
      "207 I (The respondent) [Have little to say.]_Slightly agree\n",
      "208 I (The respondent) [Have little to say.]_Slightly disagree\n",
      "209 I (The respondent) [Have a soft heart.]_Neutral\n",
      "210 I (The respondent) [Have a soft heart.]_Slightly agree\n",
      "211 I (The respondent) [Have a soft heart.]_Slightly disagree\n",
      "212 I (The respondent) [Often forget to put things back in their proper place.]_Disagree\n",
      "213 I (The respondent) [Often forget to put things back in their proper place.]_Neutral\n",
      "214 I (The respondent) [Often forget to put things back in their proper place.]_Slightly agree\n",
      "215 I (The respondent) [Often forget to put things back in their proper place.]_Slightly disagree\n",
      "216 I (The respondent) [Get upset easily.]_Neutral\n",
      "217 I (The respondent) [Get upset easily.]_Slightly agree\n",
      "218 I (The respondent) [Get upset easily.]_Slightly disagree\n",
      "219 I (The respondent) [Do not have a good imagination.]_Disagree\n",
      "220 I (The respondent) [Do not have a good imagination.]_Neutral\n",
      "221 I (The respondent) [Do not have a good imagination.]_Slightly agree\n",
      "222 I (The respondent) [Do not have a good imagination.]_Slightly disagree\n",
      "223 I (The respondent) [Talk to a lot of different people at parties.]_Disagree\n",
      "224 I (The respondent) [Talk to a lot of different people at parties.]_Neutral\n",
      "225 I (The respondent) [Talk to a lot of different people at parties.]_Slightly agree\n",
      "226 I (The respondent) [Talk to a lot of different people at parties.]_Slightly disagree\n",
      "227 I (The respondent) [Am not really interested in others.]_Neutral\n",
      "228 I (The respondent) [Am not really interested in others.]_Slightly agree\n",
      "229 I (The respondent) [Am not really interested in others.]_Slightly disagree\n",
      "230 I (The respondent) [Like order.]_Neutral\n",
      "231 I (The respondent) [Like order.]_Slightly agree\n",
      "232 I (The respondent) [Like order.]_Slightly disagree\n",
      "233 I (The respondent) [Change my mood a lot.]_Disagree\n",
      "234 I (The respondent) [Change my mood a lot.]_Neutral\n",
      "235 I (The respondent) [Change my mood a lot.]_Slightly agree\n",
      "236 I (The respondent) [Change my mood a lot.]_Slightly disagree\n",
      "237 I (The respondent) [Am quick to understand things.]_Neutral\n",
      "238 I (The respondent) [Am quick to understand things.]_Slightly agree\n",
      "239 I (The respondent) [Am quick to understand things.]_Slightly disagree\n",
      "240 I (The respondent) [Don't like to draw attention to myself.]_Disagree\n",
      "241 I (The respondent) [Don't like to draw attention to myself.]_Neutral\n",
      "242 I (The respondent) [Don't like to draw attention to myself.]_Slightly agree\n",
      "243 I (The respondent) [Don't like to draw attention to myself.]_Slightly disagree\n",
      "244 I (The respondent) [Take time out for others.]_Neutral\n",
      "245 I (The respondent) [Take time out for others.]_Slightly agree\n",
      "246 I (The respondent) [Take time out for others.]_Slightly disagree\n",
      "247 I (The respondent) [Shirk my duties.]_Neutral\n",
      "248 I (The respondent) [Shirk my duties.]_Slightly agree\n",
      "249 I (The respondent) [Shirk my duties.]_Slightly disagree\n",
      "250 I (The respondent) [Have frequent mood swings.]_Disagree\n",
      "251 I (The respondent) [Have frequent mood swings.]_Neutral\n",
      "252 I (The respondent) [Have frequent mood swings.]_Slightly agree\n",
      "253 I (The respondent) [Have frequent mood swings.]_Slightly disagree\n",
      "254 I (The respondent) [Use difficult words.]_Disagree\n",
      "255 I (The respondent) [Use difficult words.]_Neutral\n",
      "256 I (The respondent) [Use difficult words.]_Slightly agree\n",
      "257 I (The respondent) [Use difficult words.]_Slightly disagree\n",
      "258 I (The respondent) [Don't mind being the center of attention.]_Disagree\n",
      "259 I (The respondent) [Don't mind being the center of attention.]_Neutral\n",
      "260 I (The respondent) [Don't mind being the center of attention.]_Slightly agree\n",
      "261 I (The respondent) [Don't mind being the center of attention.]_Slightly disagree\n",
      "262 I (The respondent) [Feel others' emotions.]_Neutral\n",
      "263 I (The respondent) [Feel others' emotions.]_Slightly agree\n",
      "264 I (The respondent) [Feel others' emotions.]_Slightly disagree\n",
      "265 I (The respondent) [Follow a schedule.]_Disagree\n",
      "266 I (The respondent) [Follow a schedule.]_Neutral\n",
      "267 I (The respondent) [Follow a schedule.]_Slightly agree\n",
      "268 I (The respondent) [Follow a schedule.]_Slightly disagree\n",
      "269 I (The respondent) [Get irritated easily.]_Disagree\n",
      "270 I (The respondent) [Get irritated easily.]_Neutral\n",
      "271 I (The respondent) [Get irritated easily.]_Slightly agree\n",
      "272 I (The respondent) [Get irritated easily.]_Slightly disagree\n",
      "273 I (The respondent) [Spend time reflecting on things.]_Neutral\n",
      "274 I (The respondent) [Spend time reflecting on things.]_Slightly agree\n",
      "275 I (The respondent) [Spend time reflecting on things.]_Slightly disagree\n",
      "276 I (The respondent) [Am quiet around strangers.]_Disagree\n",
      "277 I (The respondent) [Am quiet around strangers.]_Neutral\n",
      "278 I (The respondent) [Am quiet around strangers.]_Slightly agree\n",
      "279 I (The respondent) [Am quiet around strangers.]_Slightly disagree\n",
      "280 I (The respondent) [Make people feel at ease.]_Neutral\n",
      "281 I (The respondent) [Make people feel at ease.]_Slightly agree\n",
      "282 I (The respondent) [Make people feel at ease.]_Slightly disagree\n",
      "283 I (The respondent) [Am exacting in my work.]_Disagree\n",
      "284 I (The respondent) [Am exacting in my work.]_Neutral\n",
      "285 I (The respondent) [Am exacting in my work.]_Slightly agree\n",
      "286 I (The respondent) [Am exacting in my work.]_Slightly disagree\n",
      "287 I (The respondent) [Often feel blue.]_Disagree\n",
      "288 I (The respondent) [Often feel blue.]_Neutral\n",
      "289 I (The respondent) [Often feel blue.]_Slightly agree\n",
      "290 I (The respondent) [Often feel blue.]_Slightly disagree\n",
      "291 I (The respondent) [Am full of ideas.]_Neutral\n",
      "292 I (The respondent) [Am full of ideas.]_Slightly agree\n",
      "293 I (The respondent) [Am full of ideas.]_Slightly disagree\n",
      "294 O\n",
      "295 E\n",
      "296 C\n",
      "297 A\n",
      "298 N\n"
     ]
    }
   ],
   "source": [
    "k=0\n",
    "for i in new_df2.columns:\n",
    "    print(k,i)\n",
    "    k+=1"
   ]
  },
  {
   "cell_type": "code",
   "execution_count": 171,
   "id": "c395d56d",
   "metadata": {},
   "outputs": [],
   "source": [
    "a = list(range(100))\n",
    "a.append(102)\n",
    "b = list(range(294,299))\n",
    "a.extend(b)\n",
    "# ([99,102,294,295,296,297,298],inplace=True,axis=1)"
   ]
  },
  {
   "cell_type": "code",
   "execution_count": 172,
   "id": "19f11dce",
   "metadata": {
    "scrolled": true
   },
   "outputs": [
    {
     "data": {
      "text/plain": [
       "[0,\n",
       " 1,\n",
       " 2,\n",
       " 3,\n",
       " 4,\n",
       " 5,\n",
       " 6,\n",
       " 7,\n",
       " 8,\n",
       " 9,\n",
       " 10,\n",
       " 11,\n",
       " 12,\n",
       " 13,\n",
       " 14,\n",
       " 15,\n",
       " 16,\n",
       " 17,\n",
       " 18,\n",
       " 19,\n",
       " 20,\n",
       " 21,\n",
       " 22,\n",
       " 23,\n",
       " 24,\n",
       " 25,\n",
       " 26,\n",
       " 27,\n",
       " 28,\n",
       " 29,\n",
       " 30,\n",
       " 31,\n",
       " 32,\n",
       " 33,\n",
       " 34,\n",
       " 35,\n",
       " 36,\n",
       " 37,\n",
       " 38,\n",
       " 39,\n",
       " 40,\n",
       " 41,\n",
       " 42,\n",
       " 43,\n",
       " 44,\n",
       " 45,\n",
       " 46,\n",
       " 47,\n",
       " 48,\n",
       " 49,\n",
       " 50,\n",
       " 51,\n",
       " 52,\n",
       " 53,\n",
       " 54,\n",
       " 55,\n",
       " 56,\n",
       " 57,\n",
       " 58,\n",
       " 59,\n",
       " 60,\n",
       " 61,\n",
       " 62,\n",
       " 63,\n",
       " 64,\n",
       " 65,\n",
       " 66,\n",
       " 67,\n",
       " 68,\n",
       " 69,\n",
       " 70,\n",
       " 71,\n",
       " 72,\n",
       " 73,\n",
       " 74,\n",
       " 75,\n",
       " 76,\n",
       " 77,\n",
       " 78,\n",
       " 79,\n",
       " 80,\n",
       " 81,\n",
       " 82,\n",
       " 83,\n",
       " 84,\n",
       " 85,\n",
       " 86,\n",
       " 87,\n",
       " 88,\n",
       " 89,\n",
       " 90,\n",
       " 91,\n",
       " 92,\n",
       " 93,\n",
       " 94,\n",
       " 95,\n",
       " 96,\n",
       " 97,\n",
       " 98,\n",
       " 99,\n",
       " 102,\n",
       " 294,\n",
       " 295,\n",
       " 296,\n",
       " 297,\n",
       " 298]"
      ]
     },
     "execution_count": 172,
     "metadata": {},
     "output_type": "execute_result"
    }
   ],
   "source": [
    "a"
   ]
  },
  {
   "cell_type": "code",
   "execution_count": 173,
   "id": "4279c253",
   "metadata": {},
   "outputs": [],
   "source": [
    "new_df2 = new_df2[new_df2.columns[a]]"
   ]
  },
  {
   "cell_type": "code",
   "execution_count": 174,
   "id": "b2128ccb",
   "metadata": {},
   "outputs": [
    {
     "data": {
      "text/html": [
       "<div>\n",
       "<style scoped>\n",
       "    .dataframe tbody tr th:only-of-type {\n",
       "        vertical-align: middle;\n",
       "    }\n",
       "\n",
       "    .dataframe tbody tr th {\n",
       "        vertical-align: top;\n",
       "    }\n",
       "\n",
       "    .dataframe thead th {\n",
       "        text-align: right;\n",
       "    }\n",
       "</style>\n",
       "<table border=\"1\" class=\"dataframe\">\n",
       "  <thead>\n",
       "    <tr style=\"text-align: right;\">\n",
       "      <th></th>\n",
       "      <th>question</th>\n",
       "      <th>person_id</th>\n",
       "      <th>WC</th>\n",
       "      <th>Analytic</th>\n",
       "      <th>Clout</th>\n",
       "      <th>Authentic</th>\n",
       "      <th>Tone</th>\n",
       "      <th>WPS</th>\n",
       "      <th>Sixltr</th>\n",
       "      <th>Dic</th>\n",
       "      <th>...</th>\n",
       "      <th>hypothetical_question</th>\n",
       "      <th>What is your age (in years) ?</th>\n",
       "      <th>Gender_Male</th>\n",
       "      <th>What is the highest degree or level of school you have completed? If currently enrolled, mention current degree _Master’s degree</th>\n",
       "      <th>Are you.. ?_Right-handed</th>\n",
       "      <th>O</th>\n",
       "      <th>E</th>\n",
       "      <th>C</th>\n",
       "      <th>A</th>\n",
       "      <th>N</th>\n",
       "    </tr>\n",
       "  </thead>\n",
       "  <tbody>\n",
       "    <tr>\n",
       "      <th>0</th>\n",
       "      <td>1</td>\n",
       "      <td>1.0</td>\n",
       "      <td>118.0</td>\n",
       "      <td>35.18</td>\n",
       "      <td>24.88</td>\n",
       "      <td>87.71</td>\n",
       "      <td>73.27</td>\n",
       "      <td>29.50</td>\n",
       "      <td>18.64</td>\n",
       "      <td>93.22</td>\n",
       "      <td>...</td>\n",
       "      <td>0.0</td>\n",
       "      <td>23</td>\n",
       "      <td>1</td>\n",
       "      <td>1</td>\n",
       "      <td>0</td>\n",
       "      <td>19</td>\n",
       "      <td>25.000000</td>\n",
       "      <td>13.0</td>\n",
       "      <td>17</td>\n",
       "      <td>35</td>\n",
       "    </tr>\n",
       "    <tr>\n",
       "      <th>1</th>\n",
       "      <td>1</td>\n",
       "      <td>2.0</td>\n",
       "      <td>188.0</td>\n",
       "      <td>59.59</td>\n",
       "      <td>31.62</td>\n",
       "      <td>41.31</td>\n",
       "      <td>66.07</td>\n",
       "      <td>12.53</td>\n",
       "      <td>17.55</td>\n",
       "      <td>93.09</td>\n",
       "      <td>...</td>\n",
       "      <td>0.0</td>\n",
       "      <td>21</td>\n",
       "      <td>1</td>\n",
       "      <td>1</td>\n",
       "      <td>1</td>\n",
       "      <td>18</td>\n",
       "      <td>7.000000</td>\n",
       "      <td>6.0</td>\n",
       "      <td>6</td>\n",
       "      <td>33</td>\n",
       "    </tr>\n",
       "    <tr>\n",
       "      <th>2</th>\n",
       "      <td>1</td>\n",
       "      <td>3.0</td>\n",
       "      <td>38.0</td>\n",
       "      <td>17.17</td>\n",
       "      <td>14.62</td>\n",
       "      <td>33.36</td>\n",
       "      <td>97.58</td>\n",
       "      <td>38.00</td>\n",
       "      <td>13.16</td>\n",
       "      <td>92.11</td>\n",
       "      <td>...</td>\n",
       "      <td>0.0</td>\n",
       "      <td>22</td>\n",
       "      <td>1</td>\n",
       "      <td>0</td>\n",
       "      <td>1</td>\n",
       "      <td>12</td>\n",
       "      <td>22.000000</td>\n",
       "      <td>27.0</td>\n",
       "      <td>17</td>\n",
       "      <td>36</td>\n",
       "    </tr>\n",
       "    <tr>\n",
       "      <th>3</th>\n",
       "      <td>1</td>\n",
       "      <td>4.0</td>\n",
       "      <td>136.0</td>\n",
       "      <td>27.29</td>\n",
       "      <td>23.11</td>\n",
       "      <td>74.76</td>\n",
       "      <td>97.25</td>\n",
       "      <td>13.60</td>\n",
       "      <td>13.97</td>\n",
       "      <td>89.71</td>\n",
       "      <td>...</td>\n",
       "      <td>0.0</td>\n",
       "      <td>22</td>\n",
       "      <td>0</td>\n",
       "      <td>0</td>\n",
       "      <td>1</td>\n",
       "      <td>14</td>\n",
       "      <td>15.000000</td>\n",
       "      <td>15.0</td>\n",
       "      <td>20</td>\n",
       "      <td>41</td>\n",
       "    </tr>\n",
       "    <tr>\n",
       "      <th>4</th>\n",
       "      <td>1</td>\n",
       "      <td>5.0</td>\n",
       "      <td>53.0</td>\n",
       "      <td>34.80</td>\n",
       "      <td>12.88</td>\n",
       "      <td>98.39</td>\n",
       "      <td>99.00</td>\n",
       "      <td>7.57</td>\n",
       "      <td>3.77</td>\n",
       "      <td>98.11</td>\n",
       "      <td>...</td>\n",
       "      <td>0.0</td>\n",
       "      <td>31</td>\n",
       "      <td>1</td>\n",
       "      <td>1</td>\n",
       "      <td>1</td>\n",
       "      <td>16</td>\n",
       "      <td>17.000000</td>\n",
       "      <td>15.0</td>\n",
       "      <td>18</td>\n",
       "      <td>36</td>\n",
       "    </tr>\n",
       "    <tr>\n",
       "      <th>...</th>\n",
       "      <td>...</td>\n",
       "      <td>...</td>\n",
       "      <td>...</td>\n",
       "      <td>...</td>\n",
       "      <td>...</td>\n",
       "      <td>...</td>\n",
       "      <td>...</td>\n",
       "      <td>...</td>\n",
       "      <td>...</td>\n",
       "      <td>...</td>\n",
       "      <td>...</td>\n",
       "      <td>...</td>\n",
       "      <td>...</td>\n",
       "      <td>...</td>\n",
       "      <td>...</td>\n",
       "      <td>...</td>\n",
       "      <td>...</td>\n",
       "      <td>...</td>\n",
       "      <td>...</td>\n",
       "      <td>...</td>\n",
       "      <td>...</td>\n",
       "    </tr>\n",
       "    <tr>\n",
       "      <th>892</th>\n",
       "      <td>D_2</td>\n",
       "      <td>27.0</td>\n",
       "      <td>4.0</td>\n",
       "      <td>1.92</td>\n",
       "      <td>50.00</td>\n",
       "      <td>74.76</td>\n",
       "      <td>25.77</td>\n",
       "      <td>4.00</td>\n",
       "      <td>0.00</td>\n",
       "      <td>75.00</td>\n",
       "      <td>...</td>\n",
       "      <td>0.0</td>\n",
       "      <td>19</td>\n",
       "      <td>0</td>\n",
       "      <td>0</td>\n",
       "      <td>1</td>\n",
       "      <td>16</td>\n",
       "      <td>30.966667</td>\n",
       "      <td>11.0</td>\n",
       "      <td>24</td>\n",
       "      <td>38</td>\n",
       "    </tr>\n",
       "    <tr>\n",
       "      <th>893</th>\n",
       "      <td>D_2</td>\n",
       "      <td>28.0</td>\n",
       "      <td>11.0</td>\n",
       "      <td>32.58</td>\n",
       "      <td>81.84</td>\n",
       "      <td>2.40</td>\n",
       "      <td>99.00</td>\n",
       "      <td>3.67</td>\n",
       "      <td>18.18</td>\n",
       "      <td>81.82</td>\n",
       "      <td>...</td>\n",
       "      <td>0.0</td>\n",
       "      <td>22</td>\n",
       "      <td>1</td>\n",
       "      <td>1</td>\n",
       "      <td>1</td>\n",
       "      <td>19</td>\n",
       "      <td>34.000000</td>\n",
       "      <td>18.0</td>\n",
       "      <td>25</td>\n",
       "      <td>39</td>\n",
       "    </tr>\n",
       "    <tr>\n",
       "      <th>894</th>\n",
       "      <td>D_2</td>\n",
       "      <td>29.0</td>\n",
       "      <td>1.0</td>\n",
       "      <td>93.26</td>\n",
       "      <td>50.00</td>\n",
       "      <td>1.00</td>\n",
       "      <td>25.77</td>\n",
       "      <td>1.00</td>\n",
       "      <td>0.00</td>\n",
       "      <td>100.00</td>\n",
       "      <td>...</td>\n",
       "      <td>0.0</td>\n",
       "      <td>22</td>\n",
       "      <td>0</td>\n",
       "      <td>0</td>\n",
       "      <td>1</td>\n",
       "      <td>17</td>\n",
       "      <td>19.000000</td>\n",
       "      <td>19.0</td>\n",
       "      <td>21</td>\n",
       "      <td>35</td>\n",
       "    </tr>\n",
       "    <tr>\n",
       "      <th>895</th>\n",
       "      <td>D_2</td>\n",
       "      <td>30.0</td>\n",
       "      <td>7.0</td>\n",
       "      <td>93.26</td>\n",
       "      <td>7.67</td>\n",
       "      <td>13.15</td>\n",
       "      <td>25.77</td>\n",
       "      <td>7.00</td>\n",
       "      <td>0.00</td>\n",
       "      <td>85.71</td>\n",
       "      <td>...</td>\n",
       "      <td>0.0</td>\n",
       "      <td>24</td>\n",
       "      <td>0</td>\n",
       "      <td>0</td>\n",
       "      <td>1</td>\n",
       "      <td>13</td>\n",
       "      <td>21.000000</td>\n",
       "      <td>17.0</td>\n",
       "      <td>20</td>\n",
       "      <td>44</td>\n",
       "    </tr>\n",
       "    <tr>\n",
       "      <th>896</th>\n",
       "      <td>D_2</td>\n",
       "      <td>31.0</td>\n",
       "      <td>48.0</td>\n",
       "      <td>27.87</td>\n",
       "      <td>50.00</td>\n",
       "      <td>35.37</td>\n",
       "      <td>25.77</td>\n",
       "      <td>8.00</td>\n",
       "      <td>10.42</td>\n",
       "      <td>87.50</td>\n",
       "      <td>...</td>\n",
       "      <td>0.0</td>\n",
       "      <td>22</td>\n",
       "      <td>1</td>\n",
       "      <td>0</td>\n",
       "      <td>1</td>\n",
       "      <td>16</td>\n",
       "      <td>25.000000</td>\n",
       "      <td>15.0</td>\n",
       "      <td>22</td>\n",
       "      <td>33</td>\n",
       "    </tr>\n",
       "  </tbody>\n",
       "</table>\n",
       "<p>897 rows × 106 columns</p>\n",
       "</div>"
      ],
      "text/plain": [
       "    question  person_id     WC  Analytic  Clout  Authentic   Tone    WPS  \\\n",
       "0          1        1.0  118.0     35.18  24.88      87.71  73.27  29.50   \n",
       "1          1        2.0  188.0     59.59  31.62      41.31  66.07  12.53   \n",
       "2          1        3.0   38.0     17.17  14.62      33.36  97.58  38.00   \n",
       "3          1        4.0  136.0     27.29  23.11      74.76  97.25  13.60   \n",
       "4          1        5.0   53.0     34.80  12.88      98.39  99.00   7.57   \n",
       "..       ...        ...    ...       ...    ...        ...    ...    ...   \n",
       "892      D_2       27.0    4.0      1.92  50.00      74.76  25.77   4.00   \n",
       "893      D_2       28.0   11.0     32.58  81.84       2.40  99.00   3.67   \n",
       "894      D_2       29.0    1.0     93.26  50.00       1.00  25.77   1.00   \n",
       "895      D_2       30.0    7.0     93.26   7.67      13.15  25.77   7.00   \n",
       "896      D_2       31.0   48.0     27.87  50.00      35.37  25.77   8.00   \n",
       "\n",
       "     Sixltr     Dic  ...  hypothetical_question  \\\n",
       "0     18.64   93.22  ...                    0.0   \n",
       "1     17.55   93.09  ...                    0.0   \n",
       "2     13.16   92.11  ...                    0.0   \n",
       "3     13.97   89.71  ...                    0.0   \n",
       "4      3.77   98.11  ...                    0.0   \n",
       "..      ...     ...  ...                    ...   \n",
       "892    0.00   75.00  ...                    0.0   \n",
       "893   18.18   81.82  ...                    0.0   \n",
       "894    0.00  100.00  ...                    0.0   \n",
       "895    0.00   85.71  ...                    0.0   \n",
       "896   10.42   87.50  ...                    0.0   \n",
       "\n",
       "     What is your age (in years) ?  Gender_Male  \\\n",
       "0                               23            1   \n",
       "1                               21            1   \n",
       "2                               22            1   \n",
       "3                               22            0   \n",
       "4                               31            1   \n",
       "..                             ...          ...   \n",
       "892                             19            0   \n",
       "893                             22            1   \n",
       "894                             22            0   \n",
       "895                             24            0   \n",
       "896                             22            1   \n",
       "\n",
       "     What is the highest degree or level of school you have completed? If currently enrolled, mention current degree _Master’s degree  \\\n",
       "0                                                    1                                                                                  \n",
       "1                                                    1                                                                                  \n",
       "2                                                    0                                                                                  \n",
       "3                                                    0                                                                                  \n",
       "4                                                    1                                                                                  \n",
       "..                                                 ...                                                                                  \n",
       "892                                                  0                                                                                  \n",
       "893                                                  1                                                                                  \n",
       "894                                                  0                                                                                  \n",
       "895                                                  0                                                                                  \n",
       "896                                                  0                                                                                  \n",
       "\n",
       "     Are you.. ?_Right-handed   O          E     C   A   N  \n",
       "0                           0  19  25.000000  13.0  17  35  \n",
       "1                           1  18   7.000000   6.0   6  33  \n",
       "2                           1  12  22.000000  27.0  17  36  \n",
       "3                           1  14  15.000000  15.0  20  41  \n",
       "4                           1  16  17.000000  15.0  18  36  \n",
       "..                        ...  ..        ...   ...  ..  ..  \n",
       "892                         1  16  30.966667  11.0  24  38  \n",
       "893                         1  19  34.000000  18.0  25  39  \n",
       "894                         1  17  19.000000  19.0  21  35  \n",
       "895                         1  13  21.000000  17.0  20  44  \n",
       "896                         1  16  25.000000  15.0  22  33  \n",
       "\n",
       "[897 rows x 106 columns]"
      ]
     },
     "execution_count": 174,
     "metadata": {},
     "output_type": "execute_result"
    }
   ],
   "source": [
    "new_df2"
   ]
  },
  {
   "cell_type": "code",
   "execution_count": 175,
   "id": "eCN6OZvQgBXb",
   "metadata": {
    "colab": {
     "base_uri": "https://localhost:8080/",
     "height": 534
    },
    "id": "eCN6OZvQgBXb",
    "outputId": "82da6500-b5ee-4fce-da90-7a1d8680ed92"
   },
   "outputs": [],
   "source": [
    "import random\n",
    "random.seed(0)\n",
    "samples= list(new_df2.person_id.unique())\n",
    "num_samples = len(samples)\n",
    "train_ids = random.sample(samples,round(0.8*num_samples))\n",
    "test_ids = list(set(samples)-set(train_ids))\n",
    "\n",
    "df_train=pd.DataFrame()\n",
    "for i in train_ids:\n",
    "  df_train=df_train.append(new_df2[new_df2['person_id']==i])\n",
    "\n",
    "df_test=pd.DataFrame()\n",
    "for i in test_ids:\n",
    "  df_test=df_test.append(new_df2[new_df2['person_id']==i])\n",
    "\n",
    "X_train = df_train.drop('y',axis=1)\n",
    "X_test = df_test.drop('y',axis=1)\n",
    "y_train = df_train['y']\n",
    "y_test = df_test['y']"
   ]
  },
  {
   "cell_type": "code",
   "execution_count": 176,
   "id": "a3cc69e8",
   "metadata": {},
   "outputs": [],
   "source": [
    "# new_df.drop([''])"
   ]
  },
  {
   "cell_type": "code",
   "execution_count": 177,
   "id": "8924c137",
   "metadata": {},
   "outputs": [
    {
     "data": {
      "text/plain": [
       "array([28., 13., 25., 14.,  2.,  9., 17., 16., 30., 10., 24., 12., 19.,\n",
       "        7., 29.,  5., 21.,  3., 23., 27., 22., 15., 26., 31.,  8.])"
      ]
     },
     "execution_count": 177,
     "metadata": {},
     "output_type": "execute_result"
    }
   ],
   "source": [
    "df_train.person_id.unique()"
   ]
  },
  {
   "cell_type": "code",
   "execution_count": 178,
   "id": "7c3fa5f8",
   "metadata": {},
   "outputs": [
    {
     "data": {
      "text/plain": [
       "array([ 1.,  4.,  6., 11., 18., 20.])"
      ]
     },
     "execution_count": 178,
     "metadata": {},
     "output_type": "execute_result"
    }
   ],
   "source": [
    "df_test.person_id.unique()"
   ]
  },
  {
   "cell_type": "code",
   "execution_count": 179,
   "id": "eaac4b05",
   "metadata": {
    "scrolled": true
   },
   "outputs": [
    {
     "name": "stdout",
     "output_type": "stream",
     "text": [
      "question\n",
      "person_id\n",
      "WC\n",
      "Analytic\n",
      "Clout\n",
      "Authentic\n",
      "Tone\n",
      "WPS\n",
      "Sixltr\n",
      "Dic\n",
      "function\n",
      "pronoun\n",
      "ppron\n",
      "i\n",
      "we\n",
      "you\n",
      "shehe\n",
      "they\n",
      "ipron\n",
      "article\n",
      "prep\n",
      "auxverb\n",
      "adverb\n",
      "conj\n",
      "negate\n",
      "verb\n",
      "adj\n",
      "compare\n",
      "interrog\n",
      "number\n",
      "quant\n",
      "affect\n",
      "posemo\n",
      "negemo\n",
      "anx\n",
      "anger\n",
      "sad\n",
      "social\n",
      "family\n",
      "friend\n",
      "female\n",
      "male\n",
      "cogproc\n",
      "insight\n",
      "cause\n",
      "discrep\n",
      "tentat\n",
      "certain\n",
      "differ\n",
      "percept\n",
      "see\n",
      "hear\n",
      "feel\n",
      "bio\n",
      "body\n",
      "health\n",
      "sexual\n",
      "ingest\n",
      "drives\n",
      "affiliation\n",
      "achieve\n",
      "power\n",
      "reward\n",
      "risk\n",
      "focuspast\n",
      "focuspresent\n",
      "focusfuture\n",
      "relativ\n",
      "motion\n",
      "space\n",
      "time\n",
      "work\n",
      "leisure\n",
      "home\n",
      "money\n",
      "relig\n",
      "death\n",
      "informal\n",
      "swear\n",
      "netspeak\n",
      "assent\n",
      "nonflu\n",
      "filler\n",
      "AllPunc\n",
      "Period\n",
      "Comma\n",
      "Colon\n",
      "QMark\n",
      "Dash\n",
      "Apostro\n",
      "OtherP\n",
      "positive_assumption\n",
      "negative_assumption\n",
      "outcome_question\n",
      "recollection_question\n",
      "hypothetical_question\n",
      "What is your age (in years) ?\n",
      "Gender_Male\n",
      "What is the highest degree or level of school you have completed? If currently enrolled, mention current degree _Master’s degree\n",
      "Are you.. ?_Right-handed\n",
      "O\n",
      "E\n",
      "C\n",
      "A\n",
      "N\n"
     ]
    }
   ],
   "source": [
    "for i in X_train.columns:\n",
    "    print(i)"
   ]
  },
  {
   "cell_type": "code",
   "execution_count": null,
   "id": "335c6488",
   "metadata": {},
   "outputs": [],
   "source": []
  },
  {
   "cell_type": "code",
   "execution_count": 180,
   "id": "J9q8giftkS3R",
   "metadata": {
    "id": "J9q8giftkS3R"
   },
   "outputs": [],
   "source": [
    "X_test = X_test.reset_index()\n",
    "X_train = X_train.reset_index()"
   ]
  },
  {
   "cell_type": "code",
   "execution_count": 181,
   "id": "8f150240",
   "metadata": {},
   "outputs": [],
   "source": [
    "X_train.drop(['index'],inplace=True,axis=1)\n",
    "X_test.drop(['index'],inplace=True,axis=1)"
   ]
  },
  {
   "cell_type": "code",
   "execution_count": 182,
   "id": "e6c9b3fc",
   "metadata": {},
   "outputs": [],
   "source": [
    "X_train.drop('person_id', axis=1, inplace=True)\n",
    "X_test.drop('person_id', axis=1, inplace=True)"
   ]
  },
  {
   "cell_type": "code",
   "execution_count": 183,
   "id": "6110a1b4",
   "metadata": {},
   "outputs": [],
   "source": [
    "X_train.drop('question', axis=1, inplace=True)\n",
    "X_test.drop('question', axis=1, inplace=True)"
   ]
  },
  {
   "cell_type": "code",
   "execution_count": 184,
   "id": "03e6962c",
   "metadata": {
    "id": "03e6962c"
   },
   "outputs": [
    {
     "name": "stdout",
     "output_type": "stream",
     "text": [
      "Number of categorical features: 0\n",
      "Number of numerical features: 103\n"
     ]
    }
   ],
   "source": [
    "categorical_list = []\n",
    "numerical_list = []\n",
    "for i in X_train.columns.tolist():\n",
    "    if (X_train[i].dtype=='object') or (X_train[i].dtype=='bool'):\n",
    "        categorical_list.append(i)\n",
    "    else:\n",
    "        numerical_list.append(i)\n",
    "print('Number of categorical features:', str(len(categorical_list)))\n",
    "print('Number of numerical features:', str(len(numerical_list)))"
   ]
  },
  {
   "cell_type": "code",
   "execution_count": 185,
   "id": "fb40bca4",
   "metadata": {},
   "outputs": [],
   "source": [
    "categorical_list = ['positive_assumption', 'negative_assumption', 'outcome_question', 'recollection_question', 'hypothetical_question', 'Gender_Male']\n",
    "\n",
    "for i in X_train.columns:\n",
    "    if i=='Are you.. ?_Right-handed' or 'What is the highest degree or level of school you have completed? If currently enrolled, mention current degree _Master’s degree':\n",
    "        continue\n",
    "    if i not in categorical_list:\n",
    "        numerical_list.append(i) "
   ]
  },
  {
   "cell_type": "code",
   "execution_count": 186,
   "id": "798c0e5b",
   "metadata": {},
   "outputs": [
    {
     "name": "stdout",
     "output_type": "stream",
     "text": [
      "['positive_assumption', 'negative_assumption', 'outcome_question', 'recollection_question', 'hypothetical_question', 'Gender_Male']\n",
      "['WC', 'Analytic', 'Clout', 'Authentic', 'Tone', 'WPS', 'Sixltr', 'Dic', 'function', 'pronoun', 'ppron', 'i', 'we', 'you', 'shehe', 'they', 'ipron', 'article', 'prep', 'auxverb', 'adverb', 'conj', 'negate', 'verb', 'adj', 'compare', 'interrog', 'number', 'quant', 'affect', 'posemo', 'negemo', 'anx', 'anger', 'sad', 'social', 'family', 'friend', 'female', 'male', 'cogproc', 'insight', 'cause', 'discrep', 'tentat', 'certain', 'differ', 'percept', 'see', 'hear', 'feel', 'bio', 'body', 'health', 'sexual', 'ingest', 'drives', 'affiliation', 'achieve', 'power', 'reward', 'risk', 'focuspast', 'focuspresent', 'focusfuture', 'relativ', 'motion', 'space', 'time', 'work', 'leisure', 'home', 'money', 'relig', 'death', 'informal', 'swear', 'netspeak', 'assent', 'nonflu', 'filler', 'AllPunc', 'Period', 'Comma', 'Colon', 'QMark', 'Dash', 'Apostro', 'OtherP', 'positive_assumption', 'negative_assumption', 'outcome_question', 'recollection_question', 'hypothetical_question', 'What is your age (in years) ?', 'Gender_Male', 'What is the highest degree or level of school you have completed? If currently enrolled, mention current degree _Master’s degree', 'Are you.. ?_Right-handed', 'O', 'E', 'C', 'A', 'N']\n"
     ]
    }
   ],
   "source": [
    "# categorical_list.append('question')\n",
    "# numerical_list.remove('question')\n",
    "print(categorical_list)\n",
    "print(numerical_list)"
   ]
  },
  {
   "cell_type": "code",
   "execution_count": 187,
   "id": "e06bdfe5",
   "metadata": {},
   "outputs": [],
   "source": [
    "from sklearn.preprocessing import OneHotEncoder, StandardScaler\n",
    "# Instantiate encoder/scaler\n",
    "scaler = StandardScaler()\n",
    "ohe    = OneHotEncoder(sparse=False,drop='if_binary')\n",
    "\n",
    "# Scale and Encode Separate Columns\n",
    "scaled_columns  = pd.DataFrame(scaler.fit_transform(X_train[numerical_list]), columns = X_train[numerical_list].columns)\n",
    "encoded_columns =    pd.DataFrame(ohe.fit_transform(X_train[categorical_list]), columns =ohe.get_feature_names(categorical_list))\n",
    "\n",
    "# Concatenate (Column-Bind) Processed Columns Back Together\n",
    "X_train = pd.concat([scaled_columns.reset_index(), encoded_columns.reset_index()], axis=1)\n",
    "X_train.drop(['index','index'], inplace=True,axis=1)"
   ]
  },
  {
   "cell_type": "code",
   "execution_count": 188,
   "id": "1a27b08f",
   "metadata": {},
   "outputs": [],
   "source": [
    "scaled_columns  = pd.DataFrame(scaler.transform(X_test[numerical_list]), columns = X_test[numerical_list].columns)\n",
    "encoded_columns =    pd.DataFrame(ohe.transform(X_test[categorical_list]), columns =ohe.get_feature_names(categorical_list))\n",
    "\n",
    "# Concatenate (Column-Bind) Processed Columns Back Together\n",
    "X_test = pd.concat([scaled_columns.reset_index(), encoded_columns.reset_index()], axis=1)\n",
    "X_test.drop(['index','index'], inplace=True,axis=1)"
   ]
  },
  {
   "cell_type": "code",
   "execution_count": 189,
   "id": "L2PhhiaTe7iN",
   "metadata": {
    "id": "L2PhhiaTe7iN"
   },
   "outputs": [],
   "source": [
    "df_train = X_train.copy()\n",
    "df_train['y'] = y_train.values"
   ]
  },
  {
   "cell_type": "code",
   "execution_count": 190,
   "id": "323dd930",
   "metadata": {},
   "outputs": [
    {
     "data": {
      "text/plain": [
       "0"
      ]
     },
     "execution_count": 190,
     "metadata": {},
     "output_type": "execute_result"
    }
   ],
   "source": [
    "df_train.isna().sum().sum()"
   ]
  },
  {
   "cell_type": "markdown",
   "id": "212c615f",
   "metadata": {
    "id": "212c615f"
   },
   "source": [
    "\n",
    "\n",
    "## Feature selection"
   ]
  },
  {
   "cell_type": "markdown",
   "id": "b1619a55",
   "metadata": {
    "id": "b1619a55"
   },
   "source": [
    "\n",
    "\n",
    "\n",
    "### Correlation"
   ]
  },
  {
   "cell_type": "code",
   "execution_count": 191,
   "id": "9dfa57c4",
   "metadata": {
    "colab": {
     "base_uri": "https://localhost:8080/"
    },
    "id": "9dfa57c4",
    "outputId": "78ab6a30-deab-4cef-b7f3-8903b13f698f"
   },
   "outputs": [
    {
     "name": "stdout",
     "output_type": "stream",
     "text": [
      "label 1 sample size: 372\n",
      "label 0 sample size: 351\n"
     ]
    }
   ],
   "source": [
    "application_sample1 = df_train.loc[df_train.y==1].sample(frac=1, replace=False)\n",
    "print('label 1 sample size:', str(application_sample1.shape[0]))\n",
    "application_sample0 = df_train.loc[df_train.y==0].sample(frac=1, replace=False)\n",
    "print('label 0 sample size:', str(application_sample0.shape[0]))\n",
    "application = pd.concat([application_sample1, application_sample0], axis=0)"
   ]
  },
  {
   "cell_type": "code",
   "execution_count": 192,
   "id": "f61b7526",
   "metadata": {
    "colab": {
     "base_uri": "https://localhost:8080/"
    },
    "id": "f61b7526",
    "outputId": "d9aa0ae0-2f79-43b1-e69b-50b3f3e7993f"
   },
   "outputs": [
    {
     "name": "stdout",
     "output_type": "stream",
     "text": [
      "Number of categorical features: 0\n",
      "Number of numerical features: 110\n"
     ]
    }
   ],
   "source": [
    "categorical_list = []\n",
    "numerical_list = []\n",
    "for i in application.columns.tolist():\n",
    "    if application[i].dtype=='object':\n",
    "        categorical_list.append(i)\n",
    "    else:\n",
    "        numerical_list.append(i)\n",
    "print('Number of categorical features:', str(len(categorical_list)))\n",
    "print('Number of numerical features:', str(len(numerical_list)))"
   ]
  },
  {
   "cell_type": "code",
   "execution_count": 193,
   "id": "8cdc21cd",
   "metadata": {
    "id": "8cdc21cd"
   },
   "outputs": [],
   "source": [
    "# from sklearn.impute import SimpleImputer\n",
    "# application[numerical_list] = SimpleImputer(strategy='median').fit_transform(application[numerical_list])"
   ]
  },
  {
   "cell_type": "code",
   "execution_count": 194,
   "id": "503123a2",
   "metadata": {
    "id": "503123a2"
   },
   "outputs": [],
   "source": [
    "X = application.drop(['y'], axis=1)\n",
    "y = application.y\n",
    "feature_name = X.columns.tolist()"
   ]
  },
  {
   "cell_type": "code",
   "execution_count": 195,
   "id": "0a0787bd",
   "metadata": {
    "id": "0a0787bd"
   },
   "outputs": [],
   "source": [
    "def cor_selector(X, y):\n",
    "    cor_list = []\n",
    "    # calculate the correlation with y for each feature\n",
    "    for i in X.columns.tolist():\n",
    "        cor = np.corrcoef(X[i], y)[0, 1]\n",
    "        cor_list.append(cor)\n",
    "    # replace NaN with 0\n",
    "    cor_list = [0 if np.isnan(i) else i for i in cor_list]\n",
    "    # feature name\n",
    "    cor_feature = X.iloc[:,np.argsort(np.abs(cor_list))[-300:]].columns.tolist()\n",
    "    # feature selection? 0 for not select, 1 for select\n",
    "    cor_support = [True if i in cor_feature else False for i in feature_name]\n",
    "    return cor_support, cor_feature"
   ]
  },
  {
   "cell_type": "code",
   "execution_count": 196,
   "id": "a8bb1b69",
   "metadata": {
    "colab": {
     "base_uri": "https://localhost:8080/"
    },
    "id": "a8bb1b69",
    "outputId": "79f87948-8b15-4fea-e5bb-c5beaaa533ad"
   },
   "outputs": [
    {
     "name": "stdout",
     "output_type": "stream",
     "text": [
      "109 selected features\n",
      "['Are you.. ?_Right-handed', 'Gender_Male', 'Gender_Male_1', 'N', 'A', 'see', 'work', 'What is your age (in years) ?', 'What is the highest degree or level of school you have completed? If currently enrolled, mention current degree _Master’s degree', 'anger', 'ipron', 'space', 'you', 'adj', 'focusfuture', 'reward', 'QMark', 'E', 'conj', 'O', 'hypothetical_question_1.0', 'hypothetical_question', 'sad', 'OtherP', 'C', 'quant', 'motion', 'i', 'focuspresent', 'Tone', 'discrep', 'family', 'Comma', 'female', 'hear', 'they', 'posemo', 'percept', 'feel', 'pronoun', 'leisure', 'Colon', 'prep', 'we', 'Sixltr', 'cause', 'friend', 'health', 'power', 'Apostro', 'verb', 'affect', 'filler', 'male', 'swear', 'body', 'compare', 'negate', 'home', 'ppron', 'sexual', 'negemo', 'bio', 'function', 'recollection_question', 'recollection_question_1.0', 'focuspast', 'positive_assumption_1.0', 'positive_assumption', 'netspeak', 'death', 'achieve', 'affiliation', 'Analytic', 'tentat', 'certain', 'money', 'WPS', 'drives', 'ingest', 'auxverb', 'shehe', 'risk', 'adverb', 'AllPunc', 'Dash', 'nonflu', 'article', 'Period', 'differ', 'relativ', 'anx', 'Authentic', 'social', 'interrog', 'insight', 'relig', 'outcome_question_1.0', 'outcome_question', 'assent', 'Clout', 'Dic', 'negative_assumption_1.0', 'negative_assumption', 'time', 'informal', 'number', 'cogproc', 'WC']\n"
     ]
    }
   ],
   "source": [
    "cor_support, cor_feature = cor_selector(X, y)\n",
    "print(str(len(cor_feature)), 'selected features')\n",
    "print(cor_feature)"
   ]
  },
  {
   "cell_type": "code",
   "execution_count": 197,
   "id": "40b1c739",
   "metadata": {},
   "outputs": [],
   "source": [
    "cor_feature.remove('Are you.. ?_Right-handed')\n",
    "cor_feature.remove('Gender_Male')\n",
    "cor_feature.remove('negative_assumption_1.0')\n",
    "cor_feature.remove('positive_assumption_1.0')\n",
    "cor_feature.remove('outcome_question_1.0')\n",
    "cor_feature.remove('hypothetical_question_1.0')\n",
    "cor_feature.remove('recollection_question_1.0')\n",
    "\n"
   ]
  },
  {
   "cell_type": "code",
   "execution_count": 198,
   "id": "5fc062b4",
   "metadata": {},
   "outputs": [
    {
     "data": {
      "text/plain": [
       "Index(['Are you.. ?_Right-handed'], dtype='object')"
      ]
     },
     "execution_count": 198,
     "metadata": {},
     "output_type": "execute_result"
    }
   ],
   "source": [
    "X_test.columns[X_train.nunique() <=1]"
   ]
  },
  {
   "cell_type": "code",
   "execution_count": 199,
   "id": "90c6063b",
   "metadata": {},
   "outputs": [
    {
     "data": {
      "text/plain": [
       "109"
      ]
     },
     "execution_count": 199,
     "metadata": {},
     "output_type": "execute_result"
    }
   ],
   "source": [
    "len(X_train.columns)"
   ]
  },
  {
   "cell_type": "markdown",
   "id": "Sx-0FAwJuP8h",
   "metadata": {
    "id": "Sx-0FAwJuP8h"
   },
   "source": [
    "\n",
    "\n",
    "\n",
    "### chi\n"
   ]
  },
  {
   "cell_type": "code",
   "execution_count": 89,
   "id": "taPez20PuP8p",
   "metadata": {
    "colab": {
     "base_uri": "https://localhost:8080/"
    },
    "id": "taPez20PuP8p",
    "outputId": "47e67af1-edff-4fb3-bedd-4e5042db0e16"
   },
   "outputs": [
    {
     "data": {
      "text/plain": [
       "SelectKBest(k=100, score_func=<function chi2 at 0x000002B6BE6D5040>)"
      ]
     },
     "execution_count": 89,
     "metadata": {},
     "output_type": "execute_result"
    }
   ],
   "source": [
    "from sklearn.feature_selection import SelectKBest\n",
    "from sklearn.feature_selection import chi2\n",
    "from sklearn.preprocessing import MinMaxScaler\n",
    "X_norm = MinMaxScaler().fit_transform(X_train)\n",
    "chi_selector = SelectKBest(chi2, k=100)\n",
    "chi_selector.fit(X_train.abs(), y_train)"
   ]
  },
  {
   "cell_type": "code",
   "execution_count": 90,
   "id": "57PwAqKMunm8",
   "metadata": {
    "colab": {
     "base_uri": "https://localhost:8080/"
    },
    "id": "57PwAqKMunm8",
    "outputId": "19ef14d4-7e2c-46bf-dc51-34fdc0269a38"
   },
   "outputs": [
    {
     "name": "stdout",
     "output_type": "stream",
     "text": [
      "100 selected features\n"
     ]
    }
   ],
   "source": [
    "\n",
    "chi_support = chi_selector.get_support()\n",
    "chi_feature = X_train.loc[:,chi_support].columns.tolist()\n",
    "print(str(len(chi_feature)), 'selected features')"
   ]
  },
  {
   "cell_type": "code",
   "execution_count": 222,
   "id": "61a24e73",
   "metadata": {},
   "outputs": [],
   "source": [
    "chi_feature = ['O','C','E','A','N']"
   ]
  },
  {
   "cell_type": "markdown",
   "id": "X4YI5-Jvmke6",
   "metadata": {
    "id": "X4YI5-Jvmke6"
   },
   "source": [
    "### RFE"
   ]
  },
  {
   "cell_type": "code",
   "execution_count": 117,
   "id": "wnP7RlPPm-Me",
   "metadata": {
    "colab": {
     "base_uri": "https://localhost:8080/"
    },
    "id": "wnP7RlPPm-Me",
    "outputId": "d2621c76-44ba-454a-d976-5bed1f12d9e0"
   },
   "outputs": [
    {
     "name": "stdout",
     "output_type": "stream",
     "text": [
      "Fitting estimator with 50080 features.\n",
      "Fitting estimator with 48580 features.\n",
      "Fitting estimator with 47080 features.\n",
      "Fitting estimator with 45580 features.\n",
      "Fitting estimator with 44080 features.\n",
      "Fitting estimator with 42580 features.\n",
      "Fitting estimator with 41080 features.\n",
      "Fitting estimator with 39580 features.\n",
      "Fitting estimator with 38080 features.\n",
      "Fitting estimator with 36580 features.\n",
      "Fitting estimator with 35080 features.\n",
      "Fitting estimator with 33580 features.\n",
      "Fitting estimator with 32080 features.\n",
      "Fitting estimator with 30580 features.\n",
      "Fitting estimator with 29080 features.\n",
      "Fitting estimator with 27580 features.\n",
      "Fitting estimator with 26080 features.\n",
      "Fitting estimator with 24580 features.\n",
      "Fitting estimator with 23080 features.\n",
      "Fitting estimator with 21580 features.\n",
      "Fitting estimator with 20080 features.\n",
      "Fitting estimator with 18580 features.\n",
      "Fitting estimator with 17080 features.\n",
      "Fitting estimator with 15580 features.\n",
      "Fitting estimator with 14080 features.\n",
      "Fitting estimator with 12580 features.\n",
      "Fitting estimator with 11080 features.\n",
      "Fitting estimator with 9580 features.\n",
      "Fitting estimator with 8080 features.\n",
      "Fitting estimator with 6580 features.\n",
      "Fitting estimator with 5080 features.\n",
      "Fitting estimator with 3580 features.\n",
      "Fitting estimator with 2080 features.\n",
      "Fitting estimator with 580 features.\n"
     ]
    },
    {
     "data": {
      "text/plain": [
       "RFE(estimator=LogisticRegression(), n_features_to_select=100, step=1500,\n",
       "    verbose=5)"
      ]
     },
     "execution_count": 117,
     "metadata": {},
     "output_type": "execute_result"
    }
   ],
   "source": [
    "from sklearn.feature_selection import RFE\n",
    "from sklearn.linear_model import LogisticRegression\n",
    "rfe_selector = RFE(estimator=LogisticRegression(), n_features_to_select=100, step=1500, verbose=5)\n",
    "rfe_selector.fit(X_train, y_train)\n"
   ]
  },
  {
   "cell_type": "code",
   "execution_count": 133,
   "id": "JH_ZY9sinfZ1",
   "metadata": {
    "colab": {
     "base_uri": "https://localhost:8080/"
    },
    "id": "JH_ZY9sinfZ1",
    "outputId": "0c7c40ec-7b82-49f7-cb70-8f52bb79813a"
   },
   "outputs": [
    {
     "name": "stdout",
     "output_type": "stream",
     "text": [
      "100 selected features\n"
     ]
    }
   ],
   "source": [
    "rfe_support = rfe_selector.get_support()\n",
    "rfe_feature = X_train.loc[:,rfe_support].columns.tolist()\n",
    "print(str(len(rfe_feature)), 'selected features')"
   ]
  },
  {
   "cell_type": "markdown",
   "id": "f3h6UUJvozyA",
   "metadata": {
    "id": "f3h6UUJvozyA"
   },
   "source": [
    "### SelectFromModel"
   ]
  },
  {
   "cell_type": "code",
   "execution_count": 265,
   "id": "f1Fk8m0vpBZ9",
   "metadata": {
    "colab": {
     "base_uri": "https://localhost:8080/"
    },
    "id": "f1Fk8m0vpBZ9",
    "outputId": "27b065e1-94bd-490c-ae9e-3f3e9e77036b"
   },
   "outputs": [
    {
     "name": "stdout",
     "output_type": "stream",
     "text": [
      "39 selected features\n"
     ]
    }
   ],
   "source": [
    "from sklearn.feature_selection import SelectFromModel\n",
    "from sklearn.linear_model import LogisticRegression\n",
    "\n",
    "embeded_lr_selector = SelectFromModel(LogisticRegression(penalty=\"l2\"), '1.25*median')\n",
    "embeded_lr_selector.fit(X_train, y_train)\n",
    "\n",
    "embeded_lr_support = embeded_lr_selector.get_support()\n",
    "embeded_lr_feature = X_train.loc[:,embeded_lr_support].columns.tolist()\n",
    "print(str(len(embeded_lr_feature)), 'selected features')"
   ]
  },
  {
   "cell_type": "markdown",
   "id": "lEsxM2OKpzjO",
   "metadata": {
    "id": "lEsxM2OKpzjO"
   },
   "source": [
    "### SelectFromRF"
   ]
  },
  {
   "cell_type": "code",
   "execution_count": 150,
   "id": "wC1Pi3Map3Y5",
   "metadata": {
    "colab": {
     "base_uri": "https://localhost:8080/"
    },
    "id": "wC1Pi3Map3Y5",
    "outputId": "52c00fa1-fd32-4dce-8ecc-6af972284458"
   },
   "outputs": [
    {
     "name": "stdout",
     "output_type": "stream",
     "text": [
      "50080 selected features\n"
     ]
    }
   ],
   "source": [
    "from sklearn.feature_selection import SelectFromModel\n",
    "from sklearn.ensemble import RandomForestClassifier\n",
    "\n",
    "embeded_rf_selector = SelectFromModel(RandomForestClassifier(n_estimators=100), threshold='1.25*median')\n",
    "embeded_rf_selector.fit(X_train, y_train)\n",
    "\n",
    "embeded_rf_support = embeded_rf_selector.get_support()\n",
    "embeded_rf_feature = X_train.loc[:,embeded_rf_support].columns.tolist()\n",
    "print(str(len(embeded_rf_feature)), 'selected features')"
   ]
  },
  {
   "cell_type": "markdown",
   "id": "uK46dJsqr1rm",
   "metadata": {
    "id": "uK46dJsqr1rm"
   },
   "source": [
    "### SelectFromlgbm"
   ]
  },
  {
   "cell_type": "code",
   "execution_count": 151,
   "id": "Xyrl3jAsr1ro",
   "metadata": {
    "colab": {
     "base_uri": "https://localhost:8080/"
    },
    "id": "Xyrl3jAsr1ro",
    "outputId": "788b89bd-3eda-48e7-9ef1-b2b71ace5a5f"
   },
   "outputs": [
    {
     "name": "stdout",
     "output_type": "stream",
     "text": [
      "50080 selected features\n"
     ]
    }
   ],
   "source": [
    "from sklearn.feature_selection import SelectFromModel\n",
    "from lightgbm import LGBMClassifier\n",
    "\n",
    "lgbc=LGBMClassifier(n_estimators=500, learning_rate=0.05, num_leaves=32, colsample_bytree=0.2,\n",
    "            reg_alpha=3, reg_lambda=1, min_split_gain=0.01, min_child_weight=40)\n",
    "\n",
    "embeded_lgb_selector = SelectFromModel(lgbc, threshold='1.25*median')\n",
    "embeded_lgb_selector.fit(X_train, y_train)\n",
    "\n",
    "embeded_lgb_support = embeded_lgb_selector.get_support()\n",
    "embeded_lgb_feature = X_train.loc[:,embeded_lgb_support].columns.tolist()\n",
    "print(str(len(embeded_lgb_feature)), 'selected features')"
   ]
  },
  {
   "cell_type": "markdown",
   "id": "18015e10",
   "metadata": {
    "id": "18015e10"
   },
   "source": [
    "# Models correlation features"
   ]
  },
  {
   "cell_type": "code",
   "execution_count": 200,
   "id": "EJW0b03Tld2z",
   "metadata": {
    "id": "EJW0b03Tld2z"
   },
   "outputs": [],
   "source": [
    "import pandas as pd\n",
    "import numpy as np\n",
    "from sklearn.linear_model import LogisticRegression\n",
    "from sklearn import svm\n",
    "from sklearn import tree\n",
    "from sklearn.ensemble import RandomForestClassifier\n",
    "from sklearn.neighbors import KNeighborsClassifier\n",
    "from xgboost import XGBClassifier\n",
    "from sklearn.model_selection import train_test_split\n",
    "from sklearn.neural_network import MLPClassifier\n",
    "from sklearn.preprocessing import StandardScaler\n",
    "import seaborn as sns\n",
    "import matplotlib.pyplot as plt\n",
    "from sklearn.metrics import accuracy_score\n",
    "from sklearn.feature_selection import SelectFromModel\n",
    "\n",
    "from sklearn.decomposition import PCA\n",
    "from sklearn.manifold import TSNE\n",
    "%matplotlib inline\n",
    "import matplotlib.pyplot as plt\n",
    "from mpl_toolkits.mplot3d import Axes3D\n",
    "\n",
    "\n",
    "\n",
    "import warnings\n",
    "warnings.filterwarnings('ignore')"
   ]
  },
  {
   "cell_type": "code",
   "execution_count": 201,
   "id": "228cc777",
   "metadata": {
    "id": "228cc777"
   },
   "outputs": [],
   "source": [
    "features = X_train[cor_feature]\n",
    "features2 = X_test[cor_feature]"
   ]
  },
  {
   "cell_type": "code",
   "execution_count": 202,
   "id": "4t4BH4VPklGT",
   "metadata": {
    "colab": {
     "base_uri": "https://localhost:8080/"
    },
    "id": "4t4BH4VPklGT",
    "outputId": "7f6d0ee8-d2d0-4f41-f006-c87282438b11"
   },
   "outputs": [
    {
     "data": {
      "text/plain": [
       "0"
      ]
     },
     "execution_count": 202,
     "metadata": {},
     "output_type": "execute_result"
    }
   ],
   "source": [
    "features.isna().sum().sum()"
   ]
  },
  {
   "cell_type": "code",
   "execution_count": 203,
   "id": "17xh_Mqoii9g",
   "metadata": {
    "colab": {
     "base_uri": "https://localhost:8080/"
    },
    "id": "17xh_Mqoii9g",
    "outputId": "1d51b99c-b1dd-401d-94f3-05d2e3afdf41"
   },
   "outputs": [
    {
     "data": {
      "text/plain": [
       "27     1.0\n",
       "58     0.0\n",
       "89     1.0\n",
       "120    0.0\n",
       "151    1.0\n",
       "      ... \n",
       "751    1.0\n",
       "782    1.0\n",
       "813    0.0\n",
       "844    1.0\n",
       "874    0.0\n",
       "Name: y, Length: 723, dtype: float64"
      ]
     },
     "execution_count": 203,
     "metadata": {},
     "output_type": "execute_result"
    }
   ],
   "source": [
    "y_train"
   ]
  },
  {
   "cell_type": "code",
   "execution_count": 204,
   "id": "77380da7",
   "metadata": {
    "colab": {
     "base_uri": "https://localhost:8080/"
    },
    "id": "77380da7",
    "outputId": "79b65b8c-7805-42bb-82e1-40f2a610ab97"
   },
   "outputs": [
    {
     "name": "stdout",
     "output_type": "stream",
     "text": [
      "              precision    recall  f1-score   support\n",
      "\n",
      "           0       0.46      0.54      0.50        74\n",
      "           1       0.61      0.53      0.57       100\n",
      "\n",
      "    accuracy                           0.53       174\n",
      "   macro avg       0.53      0.54      0.53       174\n",
      "weighted avg       0.55      0.53      0.54       174\n",
      "\n"
     ]
    }
   ],
   "source": [
    "from sklearn.model_selection import cross_val_score\n",
    "# from sklearn.datasets import load_iris\n",
    "from sklearn.ensemble import AdaBoostClassifier\n",
    "\n",
    "# X, y = load_iris(return_X_y=True)\n",
    "clf = AdaBoostClassifier()\n",
    "# scores = cross_val_score(clf, features, y_train, cv=5)\n",
    "# print(scores.mean())\n",
    "clf.fit(features, y_train)\n",
    "y_pred = (clf.predict(features2)>0.5).astype(int)\n",
    "from sklearn.metrics import classification_report\n",
    "print(classification_report(y_pred,y_test))\n"
   ]
  },
  {
   "cell_type": "code",
   "execution_count": 205,
   "id": "fdee4c6c",
   "metadata": {
    "scrolled": true
   },
   "outputs": [
    {
     "name": "stdout",
     "output_type": "stream",
     "text": [
      "Gender_Male_1\n",
      "N\n",
      "A\n",
      "see\n",
      "work\n",
      "What is your age (in years) ?\n",
      "What is the highest degree or level of school you have completed? If currently enrolled, mention current degree _Master’s degree\n",
      "anger\n",
      "ipron\n",
      "space\n",
      "you\n",
      "adj\n",
      "focusfuture\n",
      "reward\n",
      "QMark\n",
      "E\n",
      "conj\n",
      "O\n",
      "hypothetical_question\n",
      "sad\n",
      "OtherP\n",
      "C\n",
      "quant\n",
      "motion\n",
      "i\n",
      "focuspresent\n",
      "Tone\n",
      "discrep\n",
      "family\n",
      "Comma\n",
      "female\n",
      "hear\n",
      "they\n",
      "posemo\n",
      "percept\n",
      "feel\n",
      "pronoun\n",
      "leisure\n",
      "Colon\n",
      "prep\n",
      "we\n",
      "Sixltr\n",
      "cause\n",
      "friend\n",
      "health\n",
      "power\n",
      "Apostro\n",
      "verb\n",
      "affect\n",
      "filler\n",
      "male\n",
      "swear\n",
      "body\n",
      "compare\n",
      "negate\n",
      "home\n",
      "ppron\n",
      "sexual\n",
      "negemo\n",
      "bio\n",
      "function\n",
      "recollection_question\n",
      "focuspast\n",
      "positive_assumption\n",
      "netspeak\n",
      "death\n",
      "achieve\n",
      "affiliation\n",
      "Analytic\n",
      "tentat\n",
      "certain\n",
      "money\n",
      "WPS\n",
      "drives\n",
      "ingest\n",
      "auxverb\n",
      "shehe\n",
      "risk\n",
      "adverb\n",
      "AllPunc\n",
      "Dash\n",
      "nonflu\n",
      "article\n",
      "Period\n",
      "differ\n",
      "relativ\n",
      "anx\n",
      "Authentic\n",
      "social\n",
      "interrog\n",
      "insight\n",
      "relig\n",
      "outcome_question\n",
      "assent\n",
      "Clout\n",
      "Dic\n",
      "negative_assumption\n",
      "time\n",
      "informal\n",
      "number\n",
      "cogproc\n",
      "WC\n"
     ]
    }
   ],
   "source": [
    "for i in features.columns:\n",
    "    print(i)"
   ]
  },
  {
   "cell_type": "code",
   "execution_count": 206,
   "id": "fbbf2475",
   "metadata": {
    "colab": {
     "base_uri": "https://localhost:8080/"
    },
    "id": "fbbf2475",
    "outputId": "6fb87daf-fbb8-456e-ba7d-4a5b918f877b"
   },
   "outputs": [
    {
     "name": "stdout",
     "output_type": "stream",
     "text": [
      "              precision    recall  f1-score   support\n",
      "\n",
      "         0.0       0.56      0.46      0.50        87\n",
      "         1.0       0.54      0.63      0.58        87\n",
      "\n",
      "    accuracy                           0.55       174\n",
      "   macro avg       0.55      0.55      0.54       174\n",
      "weighted avg       0.55      0.55      0.54       174\n",
      "\n"
     ]
    }
   ],
   "source": [
    "from sklearn.svm import SVC\n",
    "\n",
    "svclassifier = SVC(gamma='auto')\n",
    "svclassifier.fit(features, y_train)\n",
    "y_pred = svclassifier.predict(features2)\n",
    "print(classification_report(y_test, y_pred))"
   ]
  },
  {
   "cell_type": "code",
   "execution_count": 207,
   "id": "91072e8d",
   "metadata": {
    "colab": {
     "base_uri": "https://localhost:8080/"
    },
    "id": "91072e8d",
    "outputId": "f56961bf-a4a8-44c8-ba99-ca876ca85ee8"
   },
   "outputs": [
    {
     "name": "stdout",
     "output_type": "stream",
     "text": [
      "Accuracy: 0.53 (+/- 0.04) [DecisionTreeClassifier]\n",
      "Accuracy: 0.57 (+/- 0.03) [KNNClassifier]\n",
      "Accuracy: 0.59 (+/- 0.02) [SVC]\n",
      "Accuracy: 0.52 (+/- 0.05) [voting]\n"
     ]
    }
   ],
   "source": [
    "from sklearn import datasets\n",
    "from sklearn.tree import DecisionTreeClassifier\n",
    "from sklearn.neighbors import KNeighborsClassifier\n",
    "from sklearn.svm import SVC\n",
    "from itertools import product\n",
    "from sklearn.ensemble import VotingClassifier\n",
    "\n",
    "\n",
    "clf1 = DecisionTreeClassifier()\n",
    "clf2 = KNeighborsClassifier()\n",
    "clf3 = SVC(kernel='rbf', probability=True)\n",
    "eclf = VotingClassifier(estimators=[('dt', clf1), ('knn', clf2), ('svc', clf3)],\n",
    "                        voting='soft', weights=[2, 2, 2])\n",
    "\n",
    "clf1 = clf1.fit(features, y_train)\n",
    "clf2 = clf2.fit(features, y_train)\n",
    "clf3 = clf3.fit(features, y_train)\n",
    "eclf = eclf.fit(features, y_train)\n",
    "\n",
    "for clf, label in zip([clf1, clf2, clf3, eclf], ['DecisionTreeClassifier', 'KNNClassifier', 'SVC', 'voting']):\n",
    "    scores = cross_val_score(clf, features, y_train, scoring='accuracy', cv=5)\n",
    "    print(\"Accuracy: %0.2f (+/- %0.2f) [%s]\" % (scores.mean(), scores.std(), label))"
   ]
  },
  {
   "cell_type": "code",
   "execution_count": 208,
   "id": "66e5760b",
   "metadata": {},
   "outputs": [
    {
     "name": "stdout",
     "output_type": "stream",
     "text": [
      "              precision    recall  f1-score   support\n",
      "\n",
      "         0.0       0.56      0.46      0.50        87\n",
      "         1.0       0.54      0.63      0.58        87\n",
      "\n",
      "    accuracy                           0.55       174\n",
      "   macro avg       0.55      0.55      0.54       174\n",
      "weighted avg       0.55      0.55      0.54       174\n",
      "\n"
     ]
    }
   ],
   "source": [
    "svc = SVC(kernel='rbf', probability=True,)\n",
    "svc.fit(features, y_train)\n",
    "predictionsSVC = svc.predict(features2)\n",
    "# scoreSVC = accuracy_score(y_test, predictionsSVC)\n",
    "# print(f\"Support Vector Classifier score is {scoreSVC * 100}%\\n\")\n",
    "print(classification_report(y_test, predictionsSVC))"
   ]
  },
  {
   "cell_type": "code",
   "execution_count": 209,
   "id": "3a8d8ce4",
   "metadata": {},
   "outputs": [],
   "source": [
    "# g = [0.01*x for x in range(1000,1200)]\n",
    "# # g=[x for x in [0.5, 1.0, 2.0, 3.0, 4.0, 5.0, 6.0, 7.0, 8.0, 9.0, 10.0, 11.0, 12.0]]\n",
    "\n",
    "# for g1 in g:\n",
    "#     svc = SVC(kernel='rbf', probability=True,gamma=g1)\n",
    "#     svc.fit(features, y_train)\n",
    "#     predictionsSVC = svc.predict(features2)\n",
    "# #     scoreSVC = accuracy_score(y_test, predictionsSVC)\n",
    "# #     print(f\"Support Vector Classifier score is {scoreSVC * 100}%\\n\")\n",
    "#     print(g1,classification_report(y_test, predictionsSVC))"
   ]
  },
  {
   "cell_type": "code",
   "execution_count": 210,
   "id": "20a61de7",
   "metadata": {
    "scrolled": true
   },
   "outputs": [],
   "source": [
    "# g = [0.001*x for x in range(1,10,1)]\n",
    "\n",
    "# for g1 in g:\n",
    "#     svc = SVC(kernel='rbf', probability=True,gamma=g1)\n",
    "#     svc.fit(features, y_train)\n",
    "#     predictionsSVC = svc.predict(features2)\n",
    "# #     scoreSVC = accuracy_score(y_test, predictionsSVC)\n",
    "# #     print(f\"Support Vector Classifier score is {scoreSVC * 100}%\\n\")\n",
    "#     print(g1,classification_report(y_test, predictionsSVC))"
   ]
  },
  {
   "cell_type": "code",
   "execution_count": 211,
   "id": "be3bc1f7",
   "metadata": {},
   "outputs": [],
   "source": [
    "# c1= [0.001*x for x in range(560,650)]\n",
    "\n",
    "# for c in c1:\n",
    "#     svc = SVC(kernel='rbf', probability=True,gamma=0.004,C=c)\n",
    "#     svc.fit(features, y_train)\n",
    "#     predictionsSVC = svc.predict(features2)\n",
    "#     print(c,classification_report(y_test, predictionsSVC))"
   ]
  },
  {
   "cell_type": "code",
   "execution_count": 212,
   "id": "4c813b7a",
   "metadata": {
    "scrolled": true
   },
   "outputs": [
    {
     "name": "stdout",
     "output_type": "stream",
     "text": [
      "              precision    recall  f1-score   support\n",
      "\n",
      "         0.0       0.62      0.39      0.48        87\n",
      "         1.0       0.55      0.76      0.64        87\n",
      "\n",
      "    accuracy                           0.57       174\n",
      "   macro avg       0.59      0.57      0.56       174\n",
      "weighted avg       0.59      0.57      0.56       174\n",
      "\n"
     ]
    }
   ],
   "source": [
    "svc=SVC(C=1, gamma=1, kernel='linear')\n",
    "svc.fit(features, y_train)\n",
    "predictionsSVC = svc.predict(features2)\n",
    "print(classification_report(y_test, predictionsSVC))"
   ]
  },
  {
   "cell_type": "code",
   "execution_count": 213,
   "id": "7c14eaf0",
   "metadata": {},
   "outputs": [
    {
     "name": "stdout",
     "output_type": "stream",
     "text": [
      "Fitting 5 folds for each of 25 candidates, totalling 125 fits\n",
      "[CV 1/5] END ..................C=0.1, gamma=1, kernel=linear; total time=   0.0s\n",
      "[CV 2/5] END ..................C=0.1, gamma=1, kernel=linear; total time=   0.0s\n",
      "[CV 3/5] END ..................C=0.1, gamma=1, kernel=linear; total time=   0.0s\n",
      "[CV 4/5] END ..................C=0.1, gamma=1, kernel=linear; total time=   0.0s\n",
      "[CV 5/5] END ..................C=0.1, gamma=1, kernel=linear; total time=   0.0s\n",
      "[CV 1/5] END ................C=0.1, gamma=0.1, kernel=linear; total time=   0.0s\n",
      "[CV 2/5] END ................C=0.1, gamma=0.1, kernel=linear; total time=   0.0s\n",
      "[CV 3/5] END ................C=0.1, gamma=0.1, kernel=linear; total time=   0.0s\n",
      "[CV 4/5] END ................C=0.1, gamma=0.1, kernel=linear; total time=   0.0s\n",
      "[CV 5/5] END ................C=0.1, gamma=0.1, kernel=linear; total time=   0.0s\n",
      "[CV 1/5] END ...............C=0.1, gamma=0.01, kernel=linear; total time=   0.0s\n",
      "[CV 2/5] END ...............C=0.1, gamma=0.01, kernel=linear; total time=   0.0s\n",
      "[CV 3/5] END ...............C=0.1, gamma=0.01, kernel=linear; total time=   0.0s\n",
      "[CV 4/5] END ...............C=0.1, gamma=0.01, kernel=linear; total time=   0.0s\n",
      "[CV 5/5] END ...............C=0.1, gamma=0.01, kernel=linear; total time=   0.0s\n",
      "[CV 1/5] END ..............C=0.1, gamma=0.001, kernel=linear; total time=   0.0s\n",
      "[CV 2/5] END ..............C=0.1, gamma=0.001, kernel=linear; total time=   0.0s\n",
      "[CV 3/5] END ..............C=0.1, gamma=0.001, kernel=linear; total time=   0.0s\n",
      "[CV 4/5] END ..............C=0.1, gamma=0.001, kernel=linear; total time=   0.0s\n",
      "[CV 5/5] END ..............C=0.1, gamma=0.001, kernel=linear; total time=   0.0s\n",
      "[CV 1/5] END .............C=0.1, gamma=0.0001, kernel=linear; total time=   0.0s\n",
      "[CV 2/5] END .............C=0.1, gamma=0.0001, kernel=linear; total time=   0.0s\n",
      "[CV 3/5] END .............C=0.1, gamma=0.0001, kernel=linear; total time=   0.0s\n",
      "[CV 4/5] END .............C=0.1, gamma=0.0001, kernel=linear; total time=   0.0s\n",
      "[CV 5/5] END .............C=0.1, gamma=0.0001, kernel=linear; total time=   0.0s\n",
      "[CV 1/5] END ....................C=1, gamma=1, kernel=linear; total time=   0.0s\n",
      "[CV 2/5] END ....................C=1, gamma=1, kernel=linear; total time=   0.0s\n",
      "[CV 3/5] END ....................C=1, gamma=1, kernel=linear; total time=   0.0s\n",
      "[CV 4/5] END ....................C=1, gamma=1, kernel=linear; total time=   0.0s\n",
      "[CV 5/5] END ....................C=1, gamma=1, kernel=linear; total time=   0.0s\n",
      "[CV 1/5] END ..................C=1, gamma=0.1, kernel=linear; total time=   0.0s\n",
      "[CV 2/5] END ..................C=1, gamma=0.1, kernel=linear; total time=   0.0s\n",
      "[CV 3/5] END ..................C=1, gamma=0.1, kernel=linear; total time=   0.0s\n",
      "[CV 4/5] END ..................C=1, gamma=0.1, kernel=linear; total time=   0.0s\n",
      "[CV 5/5] END ..................C=1, gamma=0.1, kernel=linear; total time=   0.0s\n",
      "[CV 1/5] END .................C=1, gamma=0.01, kernel=linear; total time=   0.0s\n",
      "[CV 2/5] END .................C=1, gamma=0.01, kernel=linear; total time=   0.0s\n",
      "[CV 3/5] END .................C=1, gamma=0.01, kernel=linear; total time=   0.0s\n",
      "[CV 4/5] END .................C=1, gamma=0.01, kernel=linear; total time=   0.0s\n",
      "[CV 5/5] END .................C=1, gamma=0.01, kernel=linear; total time=   0.0s\n",
      "[CV 1/5] END ................C=1, gamma=0.001, kernel=linear; total time=   0.0s\n",
      "[CV 2/5] END ................C=1, gamma=0.001, kernel=linear; total time=   0.0s\n"
     ]
    },
    {
     "ename": "KeyboardInterrupt",
     "evalue": "",
     "output_type": "error",
     "traceback": [
      "\u001b[1;31m---------------------------------------------------------------------------\u001b[0m",
      "\u001b[1;31mKeyboardInterrupt\u001b[0m                         Traceback (most recent call last)",
      "\u001b[1;32m<ipython-input-213-5adf0a2c035f>\u001b[0m in \u001b[0;36m<module>\u001b[1;34m\u001b[0m\n\u001b[0;32m      9\u001b[0m \u001b[1;33m\u001b[0m\u001b[0m\n\u001b[0;32m     10\u001b[0m \u001b[1;31m# fitting the model for grid search\u001b[0m\u001b[1;33m\u001b[0m\u001b[1;33m\u001b[0m\u001b[1;33m\u001b[0m\u001b[0m\n\u001b[1;32m---> 11\u001b[1;33m \u001b[0mgrid\u001b[0m\u001b[1;33m.\u001b[0m\u001b[0mfit\u001b[0m\u001b[1;33m(\u001b[0m\u001b[0mfeatures\u001b[0m\u001b[1;33m,\u001b[0m \u001b[0my_train\u001b[0m\u001b[1;33m)\u001b[0m\u001b[1;33m\u001b[0m\u001b[1;33m\u001b[0m\u001b[0m\n\u001b[0m\u001b[0;32m     12\u001b[0m \u001b[1;31m# print best parameter after tuning\u001b[0m\u001b[1;33m\u001b[0m\u001b[1;33m\u001b[0m\u001b[1;33m\u001b[0m\u001b[0m\n\u001b[0;32m     13\u001b[0m \u001b[0mprint\u001b[0m\u001b[1;33m(\u001b[0m\u001b[0mgrid\u001b[0m\u001b[1;33m.\u001b[0m\u001b[0mbest_params_\u001b[0m\u001b[1;33m)\u001b[0m\u001b[1;33m\u001b[0m\u001b[1;33m\u001b[0m\u001b[0m\n",
      "\u001b[1;32mC:\\ProgramData\\Anaconda3\\lib\\site-packages\\sklearn\\utils\\validation.py\u001b[0m in \u001b[0;36minner_f\u001b[1;34m(*args, **kwargs)\u001b[0m\n\u001b[0;32m     61\u001b[0m             \u001b[0mextra_args\u001b[0m \u001b[1;33m=\u001b[0m \u001b[0mlen\u001b[0m\u001b[1;33m(\u001b[0m\u001b[0margs\u001b[0m\u001b[1;33m)\u001b[0m \u001b[1;33m-\u001b[0m \u001b[0mlen\u001b[0m\u001b[1;33m(\u001b[0m\u001b[0mall_args\u001b[0m\u001b[1;33m)\u001b[0m\u001b[1;33m\u001b[0m\u001b[1;33m\u001b[0m\u001b[0m\n\u001b[0;32m     62\u001b[0m             \u001b[1;32mif\u001b[0m \u001b[0mextra_args\u001b[0m \u001b[1;33m<=\u001b[0m \u001b[1;36m0\u001b[0m\u001b[1;33m:\u001b[0m\u001b[1;33m\u001b[0m\u001b[1;33m\u001b[0m\u001b[0m\n\u001b[1;32m---> 63\u001b[1;33m                 \u001b[1;32mreturn\u001b[0m \u001b[0mf\u001b[0m\u001b[1;33m(\u001b[0m\u001b[1;33m*\u001b[0m\u001b[0margs\u001b[0m\u001b[1;33m,\u001b[0m \u001b[1;33m**\u001b[0m\u001b[0mkwargs\u001b[0m\u001b[1;33m)\u001b[0m\u001b[1;33m\u001b[0m\u001b[1;33m\u001b[0m\u001b[0m\n\u001b[0m\u001b[0;32m     64\u001b[0m \u001b[1;33m\u001b[0m\u001b[0m\n\u001b[0;32m     65\u001b[0m             \u001b[1;31m# extra_args > 0\u001b[0m\u001b[1;33m\u001b[0m\u001b[1;33m\u001b[0m\u001b[1;33m\u001b[0m\u001b[0m\n",
      "\u001b[1;32mC:\\ProgramData\\Anaconda3\\lib\\site-packages\\sklearn\\model_selection\\_search.py\u001b[0m in \u001b[0;36mfit\u001b[1;34m(self, X, y, groups, **fit_params)\u001b[0m\n\u001b[0;32m    839\u001b[0m                 \u001b[1;32mreturn\u001b[0m \u001b[0mresults\u001b[0m\u001b[1;33m\u001b[0m\u001b[1;33m\u001b[0m\u001b[0m\n\u001b[0;32m    840\u001b[0m \u001b[1;33m\u001b[0m\u001b[0m\n\u001b[1;32m--> 841\u001b[1;33m             \u001b[0mself\u001b[0m\u001b[1;33m.\u001b[0m\u001b[0m_run_search\u001b[0m\u001b[1;33m(\u001b[0m\u001b[0mevaluate_candidates\u001b[0m\u001b[1;33m)\u001b[0m\u001b[1;33m\u001b[0m\u001b[1;33m\u001b[0m\u001b[0m\n\u001b[0m\u001b[0;32m    842\u001b[0m \u001b[1;33m\u001b[0m\u001b[0m\n\u001b[0;32m    843\u001b[0m             \u001b[1;31m# multimetric is determined here because in the case of a callable\u001b[0m\u001b[1;33m\u001b[0m\u001b[1;33m\u001b[0m\u001b[1;33m\u001b[0m\u001b[0m\n",
      "\u001b[1;32mC:\\ProgramData\\Anaconda3\\lib\\site-packages\\sklearn\\model_selection\\_search.py\u001b[0m in \u001b[0;36m_run_search\u001b[1;34m(self, evaluate_candidates)\u001b[0m\n\u001b[0;32m   1286\u001b[0m     \u001b[1;32mdef\u001b[0m \u001b[0m_run_search\u001b[0m\u001b[1;33m(\u001b[0m\u001b[0mself\u001b[0m\u001b[1;33m,\u001b[0m \u001b[0mevaluate_candidates\u001b[0m\u001b[1;33m)\u001b[0m\u001b[1;33m:\u001b[0m\u001b[1;33m\u001b[0m\u001b[1;33m\u001b[0m\u001b[0m\n\u001b[0;32m   1287\u001b[0m         \u001b[1;34m\"\"\"Search all candidates in param_grid\"\"\"\u001b[0m\u001b[1;33m\u001b[0m\u001b[1;33m\u001b[0m\u001b[0m\n\u001b[1;32m-> 1288\u001b[1;33m         \u001b[0mevaluate_candidates\u001b[0m\u001b[1;33m(\u001b[0m\u001b[0mParameterGrid\u001b[0m\u001b[1;33m(\u001b[0m\u001b[0mself\u001b[0m\u001b[1;33m.\u001b[0m\u001b[0mparam_grid\u001b[0m\u001b[1;33m)\u001b[0m\u001b[1;33m)\u001b[0m\u001b[1;33m\u001b[0m\u001b[1;33m\u001b[0m\u001b[0m\n\u001b[0m\u001b[0;32m   1289\u001b[0m \u001b[1;33m\u001b[0m\u001b[0m\n\u001b[0;32m   1290\u001b[0m \u001b[1;33m\u001b[0m\u001b[0m\n",
      "\u001b[1;32mC:\\ProgramData\\Anaconda3\\lib\\site-packages\\sklearn\\model_selection\\_search.py\u001b[0m in \u001b[0;36mevaluate_candidates\u001b[1;34m(candidate_params, cv, more_results)\u001b[0m\n\u001b[0;32m    793\u001b[0m                               n_splits, n_candidates, n_candidates * n_splits))\n\u001b[0;32m    794\u001b[0m \u001b[1;33m\u001b[0m\u001b[0m\n\u001b[1;32m--> 795\u001b[1;33m                 out = parallel(delayed(_fit_and_score)(clone(base_estimator),\n\u001b[0m\u001b[0;32m    796\u001b[0m                                                        \u001b[0mX\u001b[0m\u001b[1;33m,\u001b[0m \u001b[0my\u001b[0m\u001b[1;33m,\u001b[0m\u001b[1;33m\u001b[0m\u001b[1;33m\u001b[0m\u001b[0m\n\u001b[0;32m    797\u001b[0m                                                        \u001b[0mtrain\u001b[0m\u001b[1;33m=\u001b[0m\u001b[0mtrain\u001b[0m\u001b[1;33m,\u001b[0m \u001b[0mtest\u001b[0m\u001b[1;33m=\u001b[0m\u001b[0mtest\u001b[0m\u001b[1;33m,\u001b[0m\u001b[1;33m\u001b[0m\u001b[1;33m\u001b[0m\u001b[0m\n",
      "\u001b[1;32mC:\\ProgramData\\Anaconda3\\lib\\site-packages\\joblib\\parallel.py\u001b[0m in \u001b[0;36m__call__\u001b[1;34m(self, iterable)\u001b[0m\n\u001b[0;32m   1042\u001b[0m                 \u001b[0mself\u001b[0m\u001b[1;33m.\u001b[0m\u001b[0m_iterating\u001b[0m \u001b[1;33m=\u001b[0m \u001b[0mself\u001b[0m\u001b[1;33m.\u001b[0m\u001b[0m_original_iterator\u001b[0m \u001b[1;32mis\u001b[0m \u001b[1;32mnot\u001b[0m \u001b[1;32mNone\u001b[0m\u001b[1;33m\u001b[0m\u001b[1;33m\u001b[0m\u001b[0m\n\u001b[0;32m   1043\u001b[0m \u001b[1;33m\u001b[0m\u001b[0m\n\u001b[1;32m-> 1044\u001b[1;33m             \u001b[1;32mwhile\u001b[0m \u001b[0mself\u001b[0m\u001b[1;33m.\u001b[0m\u001b[0mdispatch_one_batch\u001b[0m\u001b[1;33m(\u001b[0m\u001b[0miterator\u001b[0m\u001b[1;33m)\u001b[0m\u001b[1;33m:\u001b[0m\u001b[1;33m\u001b[0m\u001b[1;33m\u001b[0m\u001b[0m\n\u001b[0m\u001b[0;32m   1045\u001b[0m                 \u001b[1;32mpass\u001b[0m\u001b[1;33m\u001b[0m\u001b[1;33m\u001b[0m\u001b[0m\n\u001b[0;32m   1046\u001b[0m \u001b[1;33m\u001b[0m\u001b[0m\n",
      "\u001b[1;32mC:\\ProgramData\\Anaconda3\\lib\\site-packages\\joblib\\parallel.py\u001b[0m in \u001b[0;36mdispatch_one_batch\u001b[1;34m(self, iterator)\u001b[0m\n\u001b[0;32m    857\u001b[0m                 \u001b[1;32mreturn\u001b[0m \u001b[1;32mFalse\u001b[0m\u001b[1;33m\u001b[0m\u001b[1;33m\u001b[0m\u001b[0m\n\u001b[0;32m    858\u001b[0m             \u001b[1;32melse\u001b[0m\u001b[1;33m:\u001b[0m\u001b[1;33m\u001b[0m\u001b[1;33m\u001b[0m\u001b[0m\n\u001b[1;32m--> 859\u001b[1;33m                 \u001b[0mself\u001b[0m\u001b[1;33m.\u001b[0m\u001b[0m_dispatch\u001b[0m\u001b[1;33m(\u001b[0m\u001b[0mtasks\u001b[0m\u001b[1;33m)\u001b[0m\u001b[1;33m\u001b[0m\u001b[1;33m\u001b[0m\u001b[0m\n\u001b[0m\u001b[0;32m    860\u001b[0m                 \u001b[1;32mreturn\u001b[0m \u001b[1;32mTrue\u001b[0m\u001b[1;33m\u001b[0m\u001b[1;33m\u001b[0m\u001b[0m\n\u001b[0;32m    861\u001b[0m \u001b[1;33m\u001b[0m\u001b[0m\n",
      "\u001b[1;32mC:\\ProgramData\\Anaconda3\\lib\\site-packages\\joblib\\parallel.py\u001b[0m in \u001b[0;36m_dispatch\u001b[1;34m(self, batch)\u001b[0m\n\u001b[0;32m    775\u001b[0m         \u001b[1;32mwith\u001b[0m \u001b[0mself\u001b[0m\u001b[1;33m.\u001b[0m\u001b[0m_lock\u001b[0m\u001b[1;33m:\u001b[0m\u001b[1;33m\u001b[0m\u001b[1;33m\u001b[0m\u001b[0m\n\u001b[0;32m    776\u001b[0m             \u001b[0mjob_idx\u001b[0m \u001b[1;33m=\u001b[0m \u001b[0mlen\u001b[0m\u001b[1;33m(\u001b[0m\u001b[0mself\u001b[0m\u001b[1;33m.\u001b[0m\u001b[0m_jobs\u001b[0m\u001b[1;33m)\u001b[0m\u001b[1;33m\u001b[0m\u001b[1;33m\u001b[0m\u001b[0m\n\u001b[1;32m--> 777\u001b[1;33m             \u001b[0mjob\u001b[0m \u001b[1;33m=\u001b[0m \u001b[0mself\u001b[0m\u001b[1;33m.\u001b[0m\u001b[0m_backend\u001b[0m\u001b[1;33m.\u001b[0m\u001b[0mapply_async\u001b[0m\u001b[1;33m(\u001b[0m\u001b[0mbatch\u001b[0m\u001b[1;33m,\u001b[0m \u001b[0mcallback\u001b[0m\u001b[1;33m=\u001b[0m\u001b[0mcb\u001b[0m\u001b[1;33m)\u001b[0m\u001b[1;33m\u001b[0m\u001b[1;33m\u001b[0m\u001b[0m\n\u001b[0m\u001b[0;32m    778\u001b[0m             \u001b[1;31m# A job can complete so quickly than its callback is\u001b[0m\u001b[1;33m\u001b[0m\u001b[1;33m\u001b[0m\u001b[1;33m\u001b[0m\u001b[0m\n\u001b[0;32m    779\u001b[0m             \u001b[1;31m# called before we get here, causing self._jobs to\u001b[0m\u001b[1;33m\u001b[0m\u001b[1;33m\u001b[0m\u001b[1;33m\u001b[0m\u001b[0m\n",
      "\u001b[1;32mC:\\ProgramData\\Anaconda3\\lib\\site-packages\\joblib\\_parallel_backends.py\u001b[0m in \u001b[0;36mapply_async\u001b[1;34m(self, func, callback)\u001b[0m\n\u001b[0;32m    206\u001b[0m     \u001b[1;32mdef\u001b[0m \u001b[0mapply_async\u001b[0m\u001b[1;33m(\u001b[0m\u001b[0mself\u001b[0m\u001b[1;33m,\u001b[0m \u001b[0mfunc\u001b[0m\u001b[1;33m,\u001b[0m \u001b[0mcallback\u001b[0m\u001b[1;33m=\u001b[0m\u001b[1;32mNone\u001b[0m\u001b[1;33m)\u001b[0m\u001b[1;33m:\u001b[0m\u001b[1;33m\u001b[0m\u001b[1;33m\u001b[0m\u001b[0m\n\u001b[0;32m    207\u001b[0m         \u001b[1;34m\"\"\"Schedule a func to be run\"\"\"\u001b[0m\u001b[1;33m\u001b[0m\u001b[1;33m\u001b[0m\u001b[0m\n\u001b[1;32m--> 208\u001b[1;33m         \u001b[0mresult\u001b[0m \u001b[1;33m=\u001b[0m \u001b[0mImmediateResult\u001b[0m\u001b[1;33m(\u001b[0m\u001b[0mfunc\u001b[0m\u001b[1;33m)\u001b[0m\u001b[1;33m\u001b[0m\u001b[1;33m\u001b[0m\u001b[0m\n\u001b[0m\u001b[0;32m    209\u001b[0m         \u001b[1;32mif\u001b[0m \u001b[0mcallback\u001b[0m\u001b[1;33m:\u001b[0m\u001b[1;33m\u001b[0m\u001b[1;33m\u001b[0m\u001b[0m\n\u001b[0;32m    210\u001b[0m             \u001b[0mcallback\u001b[0m\u001b[1;33m(\u001b[0m\u001b[0mresult\u001b[0m\u001b[1;33m)\u001b[0m\u001b[1;33m\u001b[0m\u001b[1;33m\u001b[0m\u001b[0m\n",
      "\u001b[1;32mC:\\ProgramData\\Anaconda3\\lib\\site-packages\\joblib\\_parallel_backends.py\u001b[0m in \u001b[0;36m__init__\u001b[1;34m(self, batch)\u001b[0m\n\u001b[0;32m    570\u001b[0m         \u001b[1;31m# Don't delay the application, to avoid keeping the input\u001b[0m\u001b[1;33m\u001b[0m\u001b[1;33m\u001b[0m\u001b[1;33m\u001b[0m\u001b[0m\n\u001b[0;32m    571\u001b[0m         \u001b[1;31m# arguments in memory\u001b[0m\u001b[1;33m\u001b[0m\u001b[1;33m\u001b[0m\u001b[1;33m\u001b[0m\u001b[0m\n\u001b[1;32m--> 572\u001b[1;33m         \u001b[0mself\u001b[0m\u001b[1;33m.\u001b[0m\u001b[0mresults\u001b[0m \u001b[1;33m=\u001b[0m \u001b[0mbatch\u001b[0m\u001b[1;33m(\u001b[0m\u001b[1;33m)\u001b[0m\u001b[1;33m\u001b[0m\u001b[1;33m\u001b[0m\u001b[0m\n\u001b[0m\u001b[0;32m    573\u001b[0m \u001b[1;33m\u001b[0m\u001b[0m\n\u001b[0;32m    574\u001b[0m     \u001b[1;32mdef\u001b[0m \u001b[0mget\u001b[0m\u001b[1;33m(\u001b[0m\u001b[0mself\u001b[0m\u001b[1;33m)\u001b[0m\u001b[1;33m:\u001b[0m\u001b[1;33m\u001b[0m\u001b[1;33m\u001b[0m\u001b[0m\n",
      "\u001b[1;32mC:\\ProgramData\\Anaconda3\\lib\\site-packages\\joblib\\parallel.py\u001b[0m in \u001b[0;36m__call__\u001b[1;34m(self)\u001b[0m\n\u001b[0;32m    260\u001b[0m         \u001b[1;31m# change the default number of processes to -1\u001b[0m\u001b[1;33m\u001b[0m\u001b[1;33m\u001b[0m\u001b[1;33m\u001b[0m\u001b[0m\n\u001b[0;32m    261\u001b[0m         \u001b[1;32mwith\u001b[0m \u001b[0mparallel_backend\u001b[0m\u001b[1;33m(\u001b[0m\u001b[0mself\u001b[0m\u001b[1;33m.\u001b[0m\u001b[0m_backend\u001b[0m\u001b[1;33m,\u001b[0m \u001b[0mn_jobs\u001b[0m\u001b[1;33m=\u001b[0m\u001b[0mself\u001b[0m\u001b[1;33m.\u001b[0m\u001b[0m_n_jobs\u001b[0m\u001b[1;33m)\u001b[0m\u001b[1;33m:\u001b[0m\u001b[1;33m\u001b[0m\u001b[1;33m\u001b[0m\u001b[0m\n\u001b[1;32m--> 262\u001b[1;33m             return [func(*args, **kwargs)\n\u001b[0m\u001b[0;32m    263\u001b[0m                     for func, args, kwargs in self.items]\n\u001b[0;32m    264\u001b[0m \u001b[1;33m\u001b[0m\u001b[0m\n",
      "\u001b[1;32mC:\\ProgramData\\Anaconda3\\lib\\site-packages\\joblib\\parallel.py\u001b[0m in \u001b[0;36m<listcomp>\u001b[1;34m(.0)\u001b[0m\n\u001b[0;32m    260\u001b[0m         \u001b[1;31m# change the default number of processes to -1\u001b[0m\u001b[1;33m\u001b[0m\u001b[1;33m\u001b[0m\u001b[1;33m\u001b[0m\u001b[0m\n\u001b[0;32m    261\u001b[0m         \u001b[1;32mwith\u001b[0m \u001b[0mparallel_backend\u001b[0m\u001b[1;33m(\u001b[0m\u001b[0mself\u001b[0m\u001b[1;33m.\u001b[0m\u001b[0m_backend\u001b[0m\u001b[1;33m,\u001b[0m \u001b[0mn_jobs\u001b[0m\u001b[1;33m=\u001b[0m\u001b[0mself\u001b[0m\u001b[1;33m.\u001b[0m\u001b[0m_n_jobs\u001b[0m\u001b[1;33m)\u001b[0m\u001b[1;33m:\u001b[0m\u001b[1;33m\u001b[0m\u001b[1;33m\u001b[0m\u001b[0m\n\u001b[1;32m--> 262\u001b[1;33m             return [func(*args, **kwargs)\n\u001b[0m\u001b[0;32m    263\u001b[0m                     for func, args, kwargs in self.items]\n\u001b[0;32m    264\u001b[0m \u001b[1;33m\u001b[0m\u001b[0m\n",
      "\u001b[1;32mC:\\ProgramData\\Anaconda3\\lib\\site-packages\\sklearn\\utils\\fixes.py\u001b[0m in \u001b[0;36m__call__\u001b[1;34m(self, *args, **kwargs)\u001b[0m\n\u001b[0;32m    220\u001b[0m     \u001b[1;32mdef\u001b[0m \u001b[0m__call__\u001b[0m\u001b[1;33m(\u001b[0m\u001b[0mself\u001b[0m\u001b[1;33m,\u001b[0m \u001b[1;33m*\u001b[0m\u001b[0margs\u001b[0m\u001b[1;33m,\u001b[0m \u001b[1;33m**\u001b[0m\u001b[0mkwargs\u001b[0m\u001b[1;33m)\u001b[0m\u001b[1;33m:\u001b[0m\u001b[1;33m\u001b[0m\u001b[1;33m\u001b[0m\u001b[0m\n\u001b[0;32m    221\u001b[0m         \u001b[1;32mwith\u001b[0m \u001b[0mconfig_context\u001b[0m\u001b[1;33m(\u001b[0m\u001b[1;33m**\u001b[0m\u001b[0mself\u001b[0m\u001b[1;33m.\u001b[0m\u001b[0mconfig\u001b[0m\u001b[1;33m)\u001b[0m\u001b[1;33m:\u001b[0m\u001b[1;33m\u001b[0m\u001b[1;33m\u001b[0m\u001b[0m\n\u001b[1;32m--> 222\u001b[1;33m             \u001b[1;32mreturn\u001b[0m \u001b[0mself\u001b[0m\u001b[1;33m.\u001b[0m\u001b[0mfunction\u001b[0m\u001b[1;33m(\u001b[0m\u001b[1;33m*\u001b[0m\u001b[0margs\u001b[0m\u001b[1;33m,\u001b[0m \u001b[1;33m**\u001b[0m\u001b[0mkwargs\u001b[0m\u001b[1;33m)\u001b[0m\u001b[1;33m\u001b[0m\u001b[1;33m\u001b[0m\u001b[0m\n\u001b[0m",
      "\u001b[1;32mC:\\ProgramData\\Anaconda3\\lib\\site-packages\\sklearn\\model_selection\\_validation.py\u001b[0m in \u001b[0;36m_fit_and_score\u001b[1;34m(estimator, X, y, scorer, train, test, verbose, parameters, fit_params, return_train_score, return_parameters, return_n_test_samples, return_times, return_estimator, split_progress, candidate_progress, error_score)\u001b[0m\n\u001b[0;32m    591\u001b[0m             \u001b[0mestimator\u001b[0m\u001b[1;33m.\u001b[0m\u001b[0mfit\u001b[0m\u001b[1;33m(\u001b[0m\u001b[0mX_train\u001b[0m\u001b[1;33m,\u001b[0m \u001b[1;33m**\u001b[0m\u001b[0mfit_params\u001b[0m\u001b[1;33m)\u001b[0m\u001b[1;33m\u001b[0m\u001b[1;33m\u001b[0m\u001b[0m\n\u001b[0;32m    592\u001b[0m         \u001b[1;32melse\u001b[0m\u001b[1;33m:\u001b[0m\u001b[1;33m\u001b[0m\u001b[1;33m\u001b[0m\u001b[0m\n\u001b[1;32m--> 593\u001b[1;33m             \u001b[0mestimator\u001b[0m\u001b[1;33m.\u001b[0m\u001b[0mfit\u001b[0m\u001b[1;33m(\u001b[0m\u001b[0mX_train\u001b[0m\u001b[1;33m,\u001b[0m \u001b[0my_train\u001b[0m\u001b[1;33m,\u001b[0m \u001b[1;33m**\u001b[0m\u001b[0mfit_params\u001b[0m\u001b[1;33m)\u001b[0m\u001b[1;33m\u001b[0m\u001b[1;33m\u001b[0m\u001b[0m\n\u001b[0m\u001b[0;32m    594\u001b[0m \u001b[1;33m\u001b[0m\u001b[0m\n\u001b[0;32m    595\u001b[0m     \u001b[1;32mexcept\u001b[0m \u001b[0mException\u001b[0m \u001b[1;32mas\u001b[0m \u001b[0me\u001b[0m\u001b[1;33m:\u001b[0m\u001b[1;33m\u001b[0m\u001b[1;33m\u001b[0m\u001b[0m\n",
      "\u001b[1;32mC:\\ProgramData\\Anaconda3\\lib\\site-packages\\sklearn\\svm\\_base.py\u001b[0m in \u001b[0;36mfit\u001b[1;34m(self, X, y, sample_weight)\u001b[0m\n\u001b[0;32m    224\u001b[0m \u001b[1;33m\u001b[0m\u001b[0m\n\u001b[0;32m    225\u001b[0m         \u001b[0mseed\u001b[0m \u001b[1;33m=\u001b[0m \u001b[0mrnd\u001b[0m\u001b[1;33m.\u001b[0m\u001b[0mrandint\u001b[0m\u001b[1;33m(\u001b[0m\u001b[0mnp\u001b[0m\u001b[1;33m.\u001b[0m\u001b[0miinfo\u001b[0m\u001b[1;33m(\u001b[0m\u001b[1;34m'i'\u001b[0m\u001b[1;33m)\u001b[0m\u001b[1;33m.\u001b[0m\u001b[0mmax\u001b[0m\u001b[1;33m)\u001b[0m\u001b[1;33m\u001b[0m\u001b[1;33m\u001b[0m\u001b[0m\n\u001b[1;32m--> 226\u001b[1;33m         \u001b[0mfit\u001b[0m\u001b[1;33m(\u001b[0m\u001b[0mX\u001b[0m\u001b[1;33m,\u001b[0m \u001b[0my\u001b[0m\u001b[1;33m,\u001b[0m \u001b[0msample_weight\u001b[0m\u001b[1;33m,\u001b[0m \u001b[0msolver_type\u001b[0m\u001b[1;33m,\u001b[0m \u001b[0mkernel\u001b[0m\u001b[1;33m,\u001b[0m \u001b[0mrandom_seed\u001b[0m\u001b[1;33m=\u001b[0m\u001b[0mseed\u001b[0m\u001b[1;33m)\u001b[0m\u001b[1;33m\u001b[0m\u001b[1;33m\u001b[0m\u001b[0m\n\u001b[0m\u001b[0;32m    227\u001b[0m         \u001b[1;31m# see comment on the other call to np.iinfo in this file\u001b[0m\u001b[1;33m\u001b[0m\u001b[1;33m\u001b[0m\u001b[1;33m\u001b[0m\u001b[0m\n\u001b[0;32m    228\u001b[0m \u001b[1;33m\u001b[0m\u001b[0m\n",
      "\u001b[1;32mC:\\ProgramData\\Anaconda3\\lib\\site-packages\\sklearn\\svm\\_base.py\u001b[0m in \u001b[0;36m_dense_fit\u001b[1;34m(self, X, y, sample_weight, solver_type, kernel, random_seed)\u001b[0m\n\u001b[0;32m    275\u001b[0m         \u001b[0mself\u001b[0m\u001b[1;33m.\u001b[0m\u001b[0msupport_\u001b[0m\u001b[1;33m,\u001b[0m \u001b[0mself\u001b[0m\u001b[1;33m.\u001b[0m\u001b[0msupport_vectors_\u001b[0m\u001b[1;33m,\u001b[0m \u001b[0mself\u001b[0m\u001b[1;33m.\u001b[0m\u001b[0m_n_support\u001b[0m\u001b[1;33m,\u001b[0m\u001b[0;31m \u001b[0m\u001b[0;31m\\\u001b[0m\u001b[1;33m\u001b[0m\u001b[1;33m\u001b[0m\u001b[0m\n\u001b[0;32m    276\u001b[0m             \u001b[0mself\u001b[0m\u001b[1;33m.\u001b[0m\u001b[0mdual_coef_\u001b[0m\u001b[1;33m,\u001b[0m \u001b[0mself\u001b[0m\u001b[1;33m.\u001b[0m\u001b[0mintercept_\u001b[0m\u001b[1;33m,\u001b[0m \u001b[0mself\u001b[0m\u001b[1;33m.\u001b[0m\u001b[0m_probA\u001b[0m\u001b[1;33m,\u001b[0m\u001b[0;31m \u001b[0m\u001b[0;31m\\\u001b[0m\u001b[1;33m\u001b[0m\u001b[1;33m\u001b[0m\u001b[0m\n\u001b[1;32m--> 277\u001b[1;33m             self._probB, self.fit_status_ = libsvm.fit(\n\u001b[0m\u001b[0;32m    278\u001b[0m                 \u001b[0mX\u001b[0m\u001b[1;33m,\u001b[0m \u001b[0my\u001b[0m\u001b[1;33m,\u001b[0m\u001b[1;33m\u001b[0m\u001b[1;33m\u001b[0m\u001b[0m\n\u001b[0;32m    279\u001b[0m                 \u001b[0msvm_type\u001b[0m\u001b[1;33m=\u001b[0m\u001b[0msolver_type\u001b[0m\u001b[1;33m,\u001b[0m \u001b[0msample_weight\u001b[0m\u001b[1;33m=\u001b[0m\u001b[0msample_weight\u001b[0m\u001b[1;33m,\u001b[0m\u001b[1;33m\u001b[0m\u001b[1;33m\u001b[0m\u001b[0m\n",
      "\u001b[1;31mKeyboardInterrupt\u001b[0m: "
     ]
    }
   ],
   "source": [
    "from sklearn.model_selection import GridSearchCV\n",
    "  \n",
    "# defining parameter range\n",
    "param_grid = {'C': [0.1, 1, 10, 100, 1000], \n",
    "              'gamma': [1, 0.1, 0.01, 0.001, 0.0001],\n",
    "              'kernel': ['linear']} \n",
    "  \n",
    "grid = GridSearchCV(SVC(), param_grid, refit = True, verbose = 3)\n",
    "  \n",
    "# fitting the model for grid search\n",
    "grid.fit(features, y_train)\n",
    "# print best parameter after tuning\n",
    "print(grid.best_params_)\n",
    "  \n",
    "# print how our model looks after hyper-parameter tuning\n",
    "print(grid.best_estimator_)\n"
   ]
  },
  {
   "cell_type": "code",
   "execution_count": 255,
   "id": "3709bdfa",
   "metadata": {},
   "outputs": [],
   "source": [
    "# svc.coef_[0]"
   ]
  },
  {
   "cell_type": "code",
   "execution_count": 214,
   "id": "5e1a579f",
   "metadata": {},
   "outputs": [
    {
     "name": "stderr",
     "output_type": "stream",
     "text": [
      "No handles with labels found to put in legend.\n"
     ]
    },
    {
     "data": {
      "image/png": "[encoded data removed]",
      "text/plain": [
       "<Figure size 432x288 with 1 Axes>"
      ]
     },
     "metadata": {
      "needs_background": "light"
     },
     "output_type": "display_data"
    }
   ],
   "source": [
    "from sklearn.metrics import classification_report,confusion_matrix\n",
    "# #Create a Gaussian Classifier\n",
    "# clf=RandomForestClassifier()\n",
    "# # RandomForestClassifier()\n",
    "# #Train the model using the training sets y_pred=clf.predict(X_test)\n",
    "# clf.fit(features,y_train)\n",
    "# y_pred=clf.predict(features2)\n",
    "# print(classification_report(y_test,y_pred))\n",
    "import pandas as pd\n",
    "feature_imp = pd.Series(svc.coef_[0], index=features.columns).sort_values(ascending=False)\n",
    "feature_imp\n",
    "import matplotlib.pyplot as plt\n",
    "import seaborn as sns\n",
    "%matplotlib inline\n",
    "# Creating a bar plot\n",
    "sns.barplot(x=feature_imp[:15], y=feature_imp.index[:15],orient='h')\n",
    "# Add labels to your graph\n",
    "plt.xlabel('Feature Importance Score')\n",
    "plt.ylabel('Features')\n",
    "plt.title(\"Visualizing Important Features\")\n",
    "plt.legend()\n",
    "plt.show()"
   ]
  },
  {
   "cell_type": "code",
   "execution_count": 215,
   "id": "88238eff",
   "metadata": {
    "colab": {
     "base_uri": "https://localhost:8080/",
     "height": 827
    },
    "id": "88238eff",
    "outputId": "c730ca44-4e59-4566-cfe7-678f468ea6ac"
   },
   "outputs": [
    {
     "name": "stdout",
     "output_type": "stream",
     "text": [
      "Logistic Regression score is 55.74712643678161% \n",
      "\n",
      "Support Vector Classifier score is 55.172413793103445%\n",
      "\n",
      "Decision Tree Classifier score is 54.02298850574713%\n",
      "\n",
      "Random Forest Classifier score is 54.59770114942529%\n",
      "\n",
      "KNN Classifier score is 52.29885057471264% with k = 1\n",
      "KNN Classifier score is 51.724137931034484% with k = 2\n",
      "KNN Classifier score is 50.0% with k = 3\n",
      "KNN Classifier score is 50.57471264367817% with k = 4\n",
      "KNN Classifier score is 50.57471264367817% with k = 5\n",
      "KNN Classifier score is 52.87356321839081% with k = 6\n",
      "KNN Classifier score is 52.29885057471264% with k = 7\n",
      "KNN Classifier score is 55.172413793103445% with k = 8\n",
      "KNN Classifier score is 55.172413793103445% with k = 9\n",
      "KNN Classifier score is 54.02298850574713% with k = 10\n",
      "KNN Classifier score is 54.59770114942529% with k = 11\n",
      "KNN Classifier score is 54.02298850574713% with k = 12\n",
      "KNN Classifier score is 54.02298850574713% with k = 13\n",
      "KNN Classifier score is 53.44827586206896% with k = 14\n",
      "KNN Classifier score is 52.87356321839081% with k = 15\n",
      "KNN Classifier score is 52.29885057471264% with k = 16\n",
      "KNN Classifier score is 54.02298850574713% with k = 17\n",
      "KNN Classifier score is 53.44827586206896% with k = 18\n",
      "KNN Classifier score is 54.02298850574713% with k = 19\n"
     ]
    },
    {
     "data": {
      "image/png": "[encoded data removed]",
      "text/plain": [
       "<Figure size 432x288 with 1 Axes>"
      ]
     },
     "metadata": {
      "needs_background": "light"
     },
     "output_type": "display_data"
    },
    {
     "name": "stdout",
     "output_type": "stream",
     "text": [
      "\n",
      "MLP Classifier score is 56.896551724137936%\n",
      "\n"
     ]
    }
   ],
   "source": [
    "# fitting logistic regression\n",
    "lr = LogisticRegression()\n",
    "lr.fit(features, y_train)\n",
    "predictionsLR = lr.predict(features2)\n",
    "scoreLR = accuracy_score(y_test, predictionsLR)\n",
    "print(f\"Logistic Regression score is {scoreLR * 100}% \\n\")\n",
    "\n",
    "# fitting SVC\n",
    "svc = svm.LinearSVC()\n",
    "svc.fit(features, y_train)\n",
    "predictionsSVC = svc.predict(features2)\n",
    "scoreSVC = accuracy_score(y_test, predictionsSVC)\n",
    "print(f\"Support Vector Classifier score is {scoreSVC * 100}%\\n\")\n",
    "\n",
    "# fitting decision tree classifier\n",
    "clf = tree.DecisionTreeClassifier()\n",
    "clf.fit(features, y_train)\n",
    "predictionsTree = clf.predict(features2)\n",
    "scoreTree = accuracy_score(y_test, predictionsTree)\n",
    "print(f\"Decision Tree Classifier score is {scoreTree * 100}%\\n\")\n",
    "\n",
    "# fitting Random Forest classifier\n",
    "clf1 = RandomForestClassifier(max_features=23)\n",
    "clf1.fit(features, y_train)\n",
    "predictionsTree1 = clf1.predict(features2)\n",
    "scoreTree1 = accuracy_score(y_test, predictionsTree1)\n",
    "print(f\"Random Forest Classifier score is {scoreTree1 * 100}%\\n\")\n",
    "\n",
    "# fitting XGBoost\n",
    "# xgb = XGBClassifier()\n",
    "# xgb.fit(features.to_numpy(), y_train)\n",
    "# predictionsXGB = xgb.predict(X_test)\n",
    "# predictionsXGB = (predictionsXGB>0.5).astype(int)\n",
    "# scoreXGB = accuracy_score(y_test, predictionsXGB)\n",
    "# print(f\"XG Boost Classifier score is {scoreXGB * 100}%\\n\")\n",
    "\n",
    "# fitting KNN Classifier\n",
    "K = range(1, 20)\n",
    "acc = []\n",
    "for k in K:\n",
    "    knn = KNeighborsClassifier(n_neighbors=k)\n",
    "    knn.fit(features, y_train)\n",
    "    predictionsKNN = knn.predict(features2)\n",
    "    scoreKNN = accuracy_score(y_test, predictionsKNN)\n",
    "    print(f\"KNN Classifier score is {scoreKNN * 100}% with k = {k}\")\n",
    "    acc.append(scoreKNN*100)\n",
    "\n",
    "# Elbow plot:\n",
    "plt.plot(K, acc)\n",
    "plt.xlabel('K')\n",
    "plt.ylabel('Accuracy')\n",
    "plt.title(\"Elbow Curve without feature selection for Inter-Reseach Area\")\n",
    "\n",
    "plt.show()\n",
    "\n",
    "# MLP / ANN\n",
    "classifier = MLPClassifier(hidden_layer_sizes=(25, 5), max_iter=300, activation='relu', solver='adam', random_state=1)\n",
    "classifier.fit(features, y_train)\n",
    "predictionsMLP = classifier.predict(features2)\n",
    "scoreMLP = accuracy_score(y_test, predictionsMLP)\n",
    "print(f\"\\nMLP Classifier score is {scoreMLP * 100}%\\n\")"
   ]
  },
  {
   "cell_type": "code",
   "execution_count": 216,
   "id": "630f4b08",
   "metadata": {},
   "outputs": [
    {
     "ename": "KeyboardInterrupt",
     "evalue": "",
     "output_type": "error",
     "traceback": [
      "\u001b[1;31m---------------------------------------------------------------------------\u001b[0m",
      "\u001b[1;31mKeyboardInterrupt\u001b[0m                         Traceback (most recent call last)",
      "\u001b[1;32m<ipython-input-216-c3dd979ad8cb>\u001b[0m in \u001b[0;36m<module>\u001b[1;34m\u001b[0m\n\u001b[0;32m     10\u001b[0m \u001b[0mclf\u001b[0m \u001b[1;33m=\u001b[0m \u001b[0mGridSearchCV\u001b[0m\u001b[1;33m(\u001b[0m\u001b[0mknn_2\u001b[0m\u001b[1;33m,\u001b[0m \u001b[0mhyperparameters\u001b[0m\u001b[1;33m,\u001b[0m \u001b[0mcv\u001b[0m\u001b[1;33m=\u001b[0m\u001b[1;36m10\u001b[0m\u001b[1;33m)\u001b[0m\u001b[1;33m\u001b[0m\u001b[1;33m\u001b[0m\u001b[0m\n\u001b[0;32m     11\u001b[0m \u001b[1;31m#Fit the model\u001b[0m\u001b[1;33m\u001b[0m\u001b[1;33m\u001b[0m\u001b[1;33m\u001b[0m\u001b[0m\n\u001b[1;32m---> 12\u001b[1;33m \u001b[0mbest_model\u001b[0m \u001b[1;33m=\u001b[0m \u001b[0mclf\u001b[0m\u001b[1;33m.\u001b[0m\u001b[0mfit\u001b[0m\u001b[1;33m(\u001b[0m\u001b[0mfeatures\u001b[0m\u001b[1;33m,\u001b[0m\u001b[0my_train\u001b[0m\u001b[1;33m)\u001b[0m\u001b[1;33m\u001b[0m\u001b[1;33m\u001b[0m\u001b[0m\n\u001b[0m\u001b[0;32m     13\u001b[0m \u001b[1;31m#Print The value of best Hyperparameters\u001b[0m\u001b[1;33m\u001b[0m\u001b[1;33m\u001b[0m\u001b[1;33m\u001b[0m\u001b[0m\n\u001b[0;32m     14\u001b[0m \u001b[0mprint\u001b[0m\u001b[1;33m(\u001b[0m\u001b[1;34m'Best leaf_size:'\u001b[0m\u001b[1;33m,\u001b[0m \u001b[0mbest_model\u001b[0m\u001b[1;33m.\u001b[0m\u001b[0mbest_estimator_\u001b[0m\u001b[1;33m.\u001b[0m\u001b[0mget_params\u001b[0m\u001b[1;33m(\u001b[0m\u001b[1;33m)\u001b[0m\u001b[1;33m[\u001b[0m\u001b[1;34m'leaf_size'\u001b[0m\u001b[1;33m]\u001b[0m\u001b[1;33m)\u001b[0m\u001b[1;33m\u001b[0m\u001b[1;33m\u001b[0m\u001b[0m\n",
      "\u001b[1;32mC:\\ProgramData\\Anaconda3\\lib\\site-packages\\sklearn\\utils\\validation.py\u001b[0m in \u001b[0;36minner_f\u001b[1;34m(*args, **kwargs)\u001b[0m\n\u001b[0;32m     61\u001b[0m             \u001b[0mextra_args\u001b[0m \u001b[1;33m=\u001b[0m \u001b[0mlen\u001b[0m\u001b[1;33m(\u001b[0m\u001b[0margs\u001b[0m\u001b[1;33m)\u001b[0m \u001b[1;33m-\u001b[0m \u001b[0mlen\u001b[0m\u001b[1;33m(\u001b[0m\u001b[0mall_args\u001b[0m\u001b[1;33m)\u001b[0m\u001b[1;33m\u001b[0m\u001b[1;33m\u001b[0m\u001b[0m\n\u001b[0;32m     62\u001b[0m             \u001b[1;32mif\u001b[0m \u001b[0mextra_args\u001b[0m \u001b[1;33m<=\u001b[0m \u001b[1;36m0\u001b[0m\u001b[1;33m:\u001b[0m\u001b[1;33m\u001b[0m\u001b[1;33m\u001b[0m\u001b[0m\n\u001b[1;32m---> 63\u001b[1;33m                 \u001b[1;32mreturn\u001b[0m \u001b[0mf\u001b[0m\u001b[1;33m(\u001b[0m\u001b[1;33m*\u001b[0m\u001b[0margs\u001b[0m\u001b[1;33m,\u001b[0m \u001b[1;33m**\u001b[0m\u001b[0mkwargs\u001b[0m\u001b[1;33m)\u001b[0m\u001b[1;33m\u001b[0m\u001b[1;33m\u001b[0m\u001b[0m\n\u001b[0m\u001b[0;32m     64\u001b[0m \u001b[1;33m\u001b[0m\u001b[0m\n\u001b[0;32m     65\u001b[0m             \u001b[1;31m# extra_args > 0\u001b[0m\u001b[1;33m\u001b[0m\u001b[1;33m\u001b[0m\u001b[1;33m\u001b[0m\u001b[0m\n",
      "\u001b[1;32mC:\\ProgramData\\Anaconda3\\lib\\site-packages\\sklearn\\model_selection\\_search.py\u001b[0m in \u001b[0;36mfit\u001b[1;34m(self, X, y, groups, **fit_params)\u001b[0m\n\u001b[0;32m    839\u001b[0m                 \u001b[1;32mreturn\u001b[0m \u001b[0mresults\u001b[0m\u001b[1;33m\u001b[0m\u001b[1;33m\u001b[0m\u001b[0m\n\u001b[0;32m    840\u001b[0m \u001b[1;33m\u001b[0m\u001b[0m\n\u001b[1;32m--> 841\u001b[1;33m             \u001b[0mself\u001b[0m\u001b[1;33m.\u001b[0m\u001b[0m_run_search\u001b[0m\u001b[1;33m(\u001b[0m\u001b[0mevaluate_candidates\u001b[0m\u001b[1;33m)\u001b[0m\u001b[1;33m\u001b[0m\u001b[1;33m\u001b[0m\u001b[0m\n\u001b[0m\u001b[0;32m    842\u001b[0m \u001b[1;33m\u001b[0m\u001b[0m\n\u001b[0;32m    843\u001b[0m             \u001b[1;31m# multimetric is determined here because in the case of a callable\u001b[0m\u001b[1;33m\u001b[0m\u001b[1;33m\u001b[0m\u001b[1;33m\u001b[0m\u001b[0m\n",
      "\u001b[1;32mC:\\ProgramData\\Anaconda3\\lib\\site-packages\\sklearn\\model_selection\\_search.py\u001b[0m in \u001b[0;36m_run_search\u001b[1;34m(self, evaluate_candidates)\u001b[0m\n\u001b[0;32m   1286\u001b[0m     \u001b[1;32mdef\u001b[0m \u001b[0m_run_search\u001b[0m\u001b[1;33m(\u001b[0m\u001b[0mself\u001b[0m\u001b[1;33m,\u001b[0m \u001b[0mevaluate_candidates\u001b[0m\u001b[1;33m)\u001b[0m\u001b[1;33m:\u001b[0m\u001b[1;33m\u001b[0m\u001b[1;33m\u001b[0m\u001b[0m\n\u001b[0;32m   1287\u001b[0m         \u001b[1;34m\"\"\"Search all candidates in param_grid\"\"\"\u001b[0m\u001b[1;33m\u001b[0m\u001b[1;33m\u001b[0m\u001b[0m\n\u001b[1;32m-> 1288\u001b[1;33m         \u001b[0mevaluate_candidates\u001b[0m\u001b[1;33m(\u001b[0m\u001b[0mParameterGrid\u001b[0m\u001b[1;33m(\u001b[0m\u001b[0mself\u001b[0m\u001b[1;33m.\u001b[0m\u001b[0mparam_grid\u001b[0m\u001b[1;33m)\u001b[0m\u001b[1;33m)\u001b[0m\u001b[1;33m\u001b[0m\u001b[1;33m\u001b[0m\u001b[0m\n\u001b[0m\u001b[0;32m   1289\u001b[0m \u001b[1;33m\u001b[0m\u001b[0m\n\u001b[0;32m   1290\u001b[0m \u001b[1;33m\u001b[0m\u001b[0m\n",
      "\u001b[1;32mC:\\ProgramData\\Anaconda3\\lib\\site-packages\\sklearn\\model_selection\\_search.py\u001b[0m in \u001b[0;36mevaluate_candidates\u001b[1;34m(candidate_params, cv, more_results)\u001b[0m\n\u001b[0;32m    793\u001b[0m                               n_splits, n_candidates, n_candidates * n_splits))\n\u001b[0;32m    794\u001b[0m \u001b[1;33m\u001b[0m\u001b[0m\n\u001b[1;32m--> 795\u001b[1;33m                 out = parallel(delayed(_fit_and_score)(clone(base_estimator),\n\u001b[0m\u001b[0;32m    796\u001b[0m                                                        \u001b[0mX\u001b[0m\u001b[1;33m,\u001b[0m \u001b[0my\u001b[0m\u001b[1;33m,\u001b[0m\u001b[1;33m\u001b[0m\u001b[1;33m\u001b[0m\u001b[0m\n\u001b[0;32m    797\u001b[0m                                                        \u001b[0mtrain\u001b[0m\u001b[1;33m=\u001b[0m\u001b[0mtrain\u001b[0m\u001b[1;33m,\u001b[0m \u001b[0mtest\u001b[0m\u001b[1;33m=\u001b[0m\u001b[0mtest\u001b[0m\u001b[1;33m,\u001b[0m\u001b[1;33m\u001b[0m\u001b[1;33m\u001b[0m\u001b[0m\n",
      "\u001b[1;32mC:\\ProgramData\\Anaconda3\\lib\\site-packages\\joblib\\parallel.py\u001b[0m in \u001b[0;36m__call__\u001b[1;34m(self, iterable)\u001b[0m\n\u001b[0;32m   1042\u001b[0m                 \u001b[0mself\u001b[0m\u001b[1;33m.\u001b[0m\u001b[0m_iterating\u001b[0m \u001b[1;33m=\u001b[0m \u001b[0mself\u001b[0m\u001b[1;33m.\u001b[0m\u001b[0m_original_iterator\u001b[0m \u001b[1;32mis\u001b[0m \u001b[1;32mnot\u001b[0m \u001b[1;32mNone\u001b[0m\u001b[1;33m\u001b[0m\u001b[1;33m\u001b[0m\u001b[0m\n\u001b[0;32m   1043\u001b[0m \u001b[1;33m\u001b[0m\u001b[0m\n\u001b[1;32m-> 1044\u001b[1;33m             \u001b[1;32mwhile\u001b[0m \u001b[0mself\u001b[0m\u001b[1;33m.\u001b[0m\u001b[0mdispatch_one_batch\u001b[0m\u001b[1;33m(\u001b[0m\u001b[0miterator\u001b[0m\u001b[1;33m)\u001b[0m\u001b[1;33m:\u001b[0m\u001b[1;33m\u001b[0m\u001b[1;33m\u001b[0m\u001b[0m\n\u001b[0m\u001b[0;32m   1045\u001b[0m                 \u001b[1;32mpass\u001b[0m\u001b[1;33m\u001b[0m\u001b[1;33m\u001b[0m\u001b[0m\n\u001b[0;32m   1046\u001b[0m \u001b[1;33m\u001b[0m\u001b[0m\n",
      "\u001b[1;32mC:\\ProgramData\\Anaconda3\\lib\\site-packages\\joblib\\parallel.py\u001b[0m in \u001b[0;36mdispatch_one_batch\u001b[1;34m(self, iterator)\u001b[0m\n\u001b[0;32m    857\u001b[0m                 \u001b[1;32mreturn\u001b[0m \u001b[1;32mFalse\u001b[0m\u001b[1;33m\u001b[0m\u001b[1;33m\u001b[0m\u001b[0m\n\u001b[0;32m    858\u001b[0m             \u001b[1;32melse\u001b[0m\u001b[1;33m:\u001b[0m\u001b[1;33m\u001b[0m\u001b[1;33m\u001b[0m\u001b[0m\n\u001b[1;32m--> 859\u001b[1;33m                 \u001b[0mself\u001b[0m\u001b[1;33m.\u001b[0m\u001b[0m_dispatch\u001b[0m\u001b[1;33m(\u001b[0m\u001b[0mtasks\u001b[0m\u001b[1;33m)\u001b[0m\u001b[1;33m\u001b[0m\u001b[1;33m\u001b[0m\u001b[0m\n\u001b[0m\u001b[0;32m    860\u001b[0m                 \u001b[1;32mreturn\u001b[0m \u001b[1;32mTrue\u001b[0m\u001b[1;33m\u001b[0m\u001b[1;33m\u001b[0m\u001b[0m\n\u001b[0;32m    861\u001b[0m \u001b[1;33m\u001b[0m\u001b[0m\n",
      "\u001b[1;32mC:\\ProgramData\\Anaconda3\\lib\\site-packages\\joblib\\parallel.py\u001b[0m in \u001b[0;36m_dispatch\u001b[1;34m(self, batch)\u001b[0m\n\u001b[0;32m    775\u001b[0m         \u001b[1;32mwith\u001b[0m \u001b[0mself\u001b[0m\u001b[1;33m.\u001b[0m\u001b[0m_lock\u001b[0m\u001b[1;33m:\u001b[0m\u001b[1;33m\u001b[0m\u001b[1;33m\u001b[0m\u001b[0m\n\u001b[0;32m    776\u001b[0m             \u001b[0mjob_idx\u001b[0m \u001b[1;33m=\u001b[0m \u001b[0mlen\u001b[0m\u001b[1;33m(\u001b[0m\u001b[0mself\u001b[0m\u001b[1;33m.\u001b[0m\u001b[0m_jobs\u001b[0m\u001b[1;33m)\u001b[0m\u001b[1;33m\u001b[0m\u001b[1;33m\u001b[0m\u001b[0m\n\u001b[1;32m--> 777\u001b[1;33m             \u001b[0mjob\u001b[0m \u001b[1;33m=\u001b[0m \u001b[0mself\u001b[0m\u001b[1;33m.\u001b[0m\u001b[0m_backend\u001b[0m\u001b[1;33m.\u001b[0m\u001b[0mapply_async\u001b[0m\u001b[1;33m(\u001b[0m\u001b[0mbatch\u001b[0m\u001b[1;33m,\u001b[0m \u001b[0mcallback\u001b[0m\u001b[1;33m=\u001b[0m\u001b[0mcb\u001b[0m\u001b[1;33m)\u001b[0m\u001b[1;33m\u001b[0m\u001b[1;33m\u001b[0m\u001b[0m\n\u001b[0m\u001b[0;32m    778\u001b[0m             \u001b[1;31m# A job can complete so quickly than its callback is\u001b[0m\u001b[1;33m\u001b[0m\u001b[1;33m\u001b[0m\u001b[1;33m\u001b[0m\u001b[0m\n\u001b[0;32m    779\u001b[0m             \u001b[1;31m# called before we get here, causing self._jobs to\u001b[0m\u001b[1;33m\u001b[0m\u001b[1;33m\u001b[0m\u001b[1;33m\u001b[0m\u001b[0m\n",
      "\u001b[1;32mC:\\ProgramData\\Anaconda3\\lib\\site-packages\\joblib\\_parallel_backends.py\u001b[0m in \u001b[0;36mapply_async\u001b[1;34m(self, func, callback)\u001b[0m\n\u001b[0;32m    206\u001b[0m     \u001b[1;32mdef\u001b[0m \u001b[0mapply_async\u001b[0m\u001b[1;33m(\u001b[0m\u001b[0mself\u001b[0m\u001b[1;33m,\u001b[0m \u001b[0mfunc\u001b[0m\u001b[1;33m,\u001b[0m \u001b[0mcallback\u001b[0m\u001b[1;33m=\u001b[0m\u001b[1;32mNone\u001b[0m\u001b[1;33m)\u001b[0m\u001b[1;33m:\u001b[0m\u001b[1;33m\u001b[0m\u001b[1;33m\u001b[0m\u001b[0m\n\u001b[0;32m    207\u001b[0m         \u001b[1;34m\"\"\"Schedule a func to be run\"\"\"\u001b[0m\u001b[1;33m\u001b[0m\u001b[1;33m\u001b[0m\u001b[0m\n\u001b[1;32m--> 208\u001b[1;33m         \u001b[0mresult\u001b[0m \u001b[1;33m=\u001b[0m \u001b[0mImmediateResult\u001b[0m\u001b[1;33m(\u001b[0m\u001b[0mfunc\u001b[0m\u001b[1;33m)\u001b[0m\u001b[1;33m\u001b[0m\u001b[1;33m\u001b[0m\u001b[0m\n\u001b[0m\u001b[0;32m    209\u001b[0m         \u001b[1;32mif\u001b[0m \u001b[0mcallback\u001b[0m\u001b[1;33m:\u001b[0m\u001b[1;33m\u001b[0m\u001b[1;33m\u001b[0m\u001b[0m\n\u001b[0;32m    210\u001b[0m             \u001b[0mcallback\u001b[0m\u001b[1;33m(\u001b[0m\u001b[0mresult\u001b[0m\u001b[1;33m)\u001b[0m\u001b[1;33m\u001b[0m\u001b[1;33m\u001b[0m\u001b[0m\n",
      "\u001b[1;32mC:\\ProgramData\\Anaconda3\\lib\\site-packages\\joblib\\_parallel_backends.py\u001b[0m in \u001b[0;36m__init__\u001b[1;34m(self, batch)\u001b[0m\n\u001b[0;32m    570\u001b[0m         \u001b[1;31m# Don't delay the application, to avoid keeping the input\u001b[0m\u001b[1;33m\u001b[0m\u001b[1;33m\u001b[0m\u001b[1;33m\u001b[0m\u001b[0m\n\u001b[0;32m    571\u001b[0m         \u001b[1;31m# arguments in memory\u001b[0m\u001b[1;33m\u001b[0m\u001b[1;33m\u001b[0m\u001b[1;33m\u001b[0m\u001b[0m\n\u001b[1;32m--> 572\u001b[1;33m         \u001b[0mself\u001b[0m\u001b[1;33m.\u001b[0m\u001b[0mresults\u001b[0m \u001b[1;33m=\u001b[0m \u001b[0mbatch\u001b[0m\u001b[1;33m(\u001b[0m\u001b[1;33m)\u001b[0m\u001b[1;33m\u001b[0m\u001b[1;33m\u001b[0m\u001b[0m\n\u001b[0m\u001b[0;32m    573\u001b[0m \u001b[1;33m\u001b[0m\u001b[0m\n\u001b[0;32m    574\u001b[0m     \u001b[1;32mdef\u001b[0m \u001b[0mget\u001b[0m\u001b[1;33m(\u001b[0m\u001b[0mself\u001b[0m\u001b[1;33m)\u001b[0m\u001b[1;33m:\u001b[0m\u001b[1;33m\u001b[0m\u001b[1;33m\u001b[0m\u001b[0m\n",
      "\u001b[1;32mC:\\ProgramData\\Anaconda3\\lib\\site-packages\\joblib\\parallel.py\u001b[0m in \u001b[0;36m__call__\u001b[1;34m(self)\u001b[0m\n\u001b[0;32m    260\u001b[0m         \u001b[1;31m# change the default number of processes to -1\u001b[0m\u001b[1;33m\u001b[0m\u001b[1;33m\u001b[0m\u001b[1;33m\u001b[0m\u001b[0m\n\u001b[0;32m    261\u001b[0m         \u001b[1;32mwith\u001b[0m \u001b[0mparallel_backend\u001b[0m\u001b[1;33m(\u001b[0m\u001b[0mself\u001b[0m\u001b[1;33m.\u001b[0m\u001b[0m_backend\u001b[0m\u001b[1;33m,\u001b[0m \u001b[0mn_jobs\u001b[0m\u001b[1;33m=\u001b[0m\u001b[0mself\u001b[0m\u001b[1;33m.\u001b[0m\u001b[0m_n_jobs\u001b[0m\u001b[1;33m)\u001b[0m\u001b[1;33m:\u001b[0m\u001b[1;33m\u001b[0m\u001b[1;33m\u001b[0m\u001b[0m\n\u001b[1;32m--> 262\u001b[1;33m             return [func(*args, **kwargs)\n\u001b[0m\u001b[0;32m    263\u001b[0m                     for func, args, kwargs in self.items]\n\u001b[0;32m    264\u001b[0m \u001b[1;33m\u001b[0m\u001b[0m\n",
      "\u001b[1;32mC:\\ProgramData\\Anaconda3\\lib\\site-packages\\joblib\\parallel.py\u001b[0m in \u001b[0;36m<listcomp>\u001b[1;34m(.0)\u001b[0m\n\u001b[0;32m    260\u001b[0m         \u001b[1;31m# change the default number of processes to -1\u001b[0m\u001b[1;33m\u001b[0m\u001b[1;33m\u001b[0m\u001b[1;33m\u001b[0m\u001b[0m\n\u001b[0;32m    261\u001b[0m         \u001b[1;32mwith\u001b[0m \u001b[0mparallel_backend\u001b[0m\u001b[1;33m(\u001b[0m\u001b[0mself\u001b[0m\u001b[1;33m.\u001b[0m\u001b[0m_backend\u001b[0m\u001b[1;33m,\u001b[0m \u001b[0mn_jobs\u001b[0m\u001b[1;33m=\u001b[0m\u001b[0mself\u001b[0m\u001b[1;33m.\u001b[0m\u001b[0m_n_jobs\u001b[0m\u001b[1;33m)\u001b[0m\u001b[1;33m:\u001b[0m\u001b[1;33m\u001b[0m\u001b[1;33m\u001b[0m\u001b[0m\n\u001b[1;32m--> 262\u001b[1;33m             return [func(*args, **kwargs)\n\u001b[0m\u001b[0;32m    263\u001b[0m                     for func, args, kwargs in self.items]\n\u001b[0;32m    264\u001b[0m \u001b[1;33m\u001b[0m\u001b[0m\n",
      "\u001b[1;32mC:\\ProgramData\\Anaconda3\\lib\\site-packages\\sklearn\\utils\\fixes.py\u001b[0m in \u001b[0;36m__call__\u001b[1;34m(self, *args, **kwargs)\u001b[0m\n\u001b[0;32m    220\u001b[0m     \u001b[1;32mdef\u001b[0m \u001b[0m__call__\u001b[0m\u001b[1;33m(\u001b[0m\u001b[0mself\u001b[0m\u001b[1;33m,\u001b[0m \u001b[1;33m*\u001b[0m\u001b[0margs\u001b[0m\u001b[1;33m,\u001b[0m \u001b[1;33m**\u001b[0m\u001b[0mkwargs\u001b[0m\u001b[1;33m)\u001b[0m\u001b[1;33m:\u001b[0m\u001b[1;33m\u001b[0m\u001b[1;33m\u001b[0m\u001b[0m\n\u001b[0;32m    221\u001b[0m         \u001b[1;32mwith\u001b[0m \u001b[0mconfig_context\u001b[0m\u001b[1;33m(\u001b[0m\u001b[1;33m**\u001b[0m\u001b[0mself\u001b[0m\u001b[1;33m.\u001b[0m\u001b[0mconfig\u001b[0m\u001b[1;33m)\u001b[0m\u001b[1;33m:\u001b[0m\u001b[1;33m\u001b[0m\u001b[1;33m\u001b[0m\u001b[0m\n\u001b[1;32m--> 222\u001b[1;33m             \u001b[1;32mreturn\u001b[0m \u001b[0mself\u001b[0m\u001b[1;33m.\u001b[0m\u001b[0mfunction\u001b[0m\u001b[1;33m(\u001b[0m\u001b[1;33m*\u001b[0m\u001b[0margs\u001b[0m\u001b[1;33m,\u001b[0m \u001b[1;33m**\u001b[0m\u001b[0mkwargs\u001b[0m\u001b[1;33m)\u001b[0m\u001b[1;33m\u001b[0m\u001b[1;33m\u001b[0m\u001b[0m\n\u001b[0m",
      "\u001b[1;32mC:\\ProgramData\\Anaconda3\\lib\\site-packages\\sklearn\\model_selection\\_validation.py\u001b[0m in \u001b[0;36m_fit_and_score\u001b[1;34m(estimator, X, y, scorer, train, test, verbose, parameters, fit_params, return_train_score, return_parameters, return_n_test_samples, return_times, return_estimator, split_progress, candidate_progress, error_score)\u001b[0m\n\u001b[0;32m    618\u001b[0m \u001b[1;33m\u001b[0m\u001b[0m\n\u001b[0;32m    619\u001b[0m         \u001b[0mfit_time\u001b[0m \u001b[1;33m=\u001b[0m \u001b[0mtime\u001b[0m\u001b[1;33m.\u001b[0m\u001b[0mtime\u001b[0m\u001b[1;33m(\u001b[0m\u001b[1;33m)\u001b[0m \u001b[1;33m-\u001b[0m \u001b[0mstart_time\u001b[0m\u001b[1;33m\u001b[0m\u001b[1;33m\u001b[0m\u001b[0m\n\u001b[1;32m--> 620\u001b[1;33m         \u001b[0mtest_scores\u001b[0m \u001b[1;33m=\u001b[0m \u001b[0m_score\u001b[0m\u001b[1;33m(\u001b[0m\u001b[0mestimator\u001b[0m\u001b[1;33m,\u001b[0m \u001b[0mX_test\u001b[0m\u001b[1;33m,\u001b[0m \u001b[0my_test\u001b[0m\u001b[1;33m,\u001b[0m \u001b[0mscorer\u001b[0m\u001b[1;33m,\u001b[0m \u001b[0merror_score\u001b[0m\u001b[1;33m)\u001b[0m\u001b[1;33m\u001b[0m\u001b[1;33m\u001b[0m\u001b[0m\n\u001b[0m\u001b[0;32m    621\u001b[0m         \u001b[0mscore_time\u001b[0m \u001b[1;33m=\u001b[0m \u001b[0mtime\u001b[0m\u001b[1;33m.\u001b[0m\u001b[0mtime\u001b[0m\u001b[1;33m(\u001b[0m\u001b[1;33m)\u001b[0m \u001b[1;33m-\u001b[0m \u001b[0mstart_time\u001b[0m \u001b[1;33m-\u001b[0m \u001b[0mfit_time\u001b[0m\u001b[1;33m\u001b[0m\u001b[1;33m\u001b[0m\u001b[0m\n\u001b[0;32m    622\u001b[0m         \u001b[1;32mif\u001b[0m \u001b[0mreturn_train_score\u001b[0m\u001b[1;33m:\u001b[0m\u001b[1;33m\u001b[0m\u001b[1;33m\u001b[0m\u001b[0m\n",
      "\u001b[1;32mC:\\ProgramData\\Anaconda3\\lib\\site-packages\\sklearn\\model_selection\\_validation.py\u001b[0m in \u001b[0;36m_score\u001b[1;34m(estimator, X_test, y_test, scorer, error_score)\u001b[0m\n\u001b[0;32m    672\u001b[0m             \u001b[0mscores\u001b[0m \u001b[1;33m=\u001b[0m \u001b[0mscorer\u001b[0m\u001b[1;33m(\u001b[0m\u001b[0mestimator\u001b[0m\u001b[1;33m,\u001b[0m \u001b[0mX_test\u001b[0m\u001b[1;33m)\u001b[0m\u001b[1;33m\u001b[0m\u001b[1;33m\u001b[0m\u001b[0m\n\u001b[0;32m    673\u001b[0m         \u001b[1;32melse\u001b[0m\u001b[1;33m:\u001b[0m\u001b[1;33m\u001b[0m\u001b[1;33m\u001b[0m\u001b[0m\n\u001b[1;32m--> 674\u001b[1;33m             \u001b[0mscores\u001b[0m \u001b[1;33m=\u001b[0m \u001b[0mscorer\u001b[0m\u001b[1;33m(\u001b[0m\u001b[0mestimator\u001b[0m\u001b[1;33m,\u001b[0m \u001b[0mX_test\u001b[0m\u001b[1;33m,\u001b[0m \u001b[0my_test\u001b[0m\u001b[1;33m)\u001b[0m\u001b[1;33m\u001b[0m\u001b[1;33m\u001b[0m\u001b[0m\n\u001b[0m\u001b[0;32m    675\u001b[0m     \u001b[1;32mexcept\u001b[0m \u001b[0mException\u001b[0m\u001b[1;33m:\u001b[0m\u001b[1;33m\u001b[0m\u001b[1;33m\u001b[0m\u001b[0m\n\u001b[0;32m    676\u001b[0m         \u001b[1;32mif\u001b[0m \u001b[0merror_score\u001b[0m \u001b[1;33m==\u001b[0m \u001b[1;34m'raise'\u001b[0m\u001b[1;33m:\u001b[0m\u001b[1;33m\u001b[0m\u001b[1;33m\u001b[0m\u001b[0m\n",
      "\u001b[1;32mC:\\ProgramData\\Anaconda3\\lib\\site-packages\\sklearn\\metrics\\_scorer.py\u001b[0m in \u001b[0;36m_passthrough_scorer\u001b[1;34m(estimator, *args, **kwargs)\u001b[0m\n\u001b[0;32m    395\u001b[0m \u001b[1;32mdef\u001b[0m \u001b[0m_passthrough_scorer\u001b[0m\u001b[1;33m(\u001b[0m\u001b[0mestimator\u001b[0m\u001b[1;33m,\u001b[0m \u001b[1;33m*\u001b[0m\u001b[0margs\u001b[0m\u001b[1;33m,\u001b[0m \u001b[1;33m**\u001b[0m\u001b[0mkwargs\u001b[0m\u001b[1;33m)\u001b[0m\u001b[1;33m:\u001b[0m\u001b[1;33m\u001b[0m\u001b[1;33m\u001b[0m\u001b[0m\n\u001b[0;32m    396\u001b[0m     \u001b[1;34m\"\"\"Function that wraps estimator.score\"\"\"\u001b[0m\u001b[1;33m\u001b[0m\u001b[1;33m\u001b[0m\u001b[0m\n\u001b[1;32m--> 397\u001b[1;33m     \u001b[1;32mreturn\u001b[0m \u001b[0mestimator\u001b[0m\u001b[1;33m.\u001b[0m\u001b[0mscore\u001b[0m\u001b[1;33m(\u001b[0m\u001b[1;33m*\u001b[0m\u001b[0margs\u001b[0m\u001b[1;33m,\u001b[0m \u001b[1;33m**\u001b[0m\u001b[0mkwargs\u001b[0m\u001b[1;33m)\u001b[0m\u001b[1;33m\u001b[0m\u001b[1;33m\u001b[0m\u001b[0m\n\u001b[0m\u001b[0;32m    398\u001b[0m \u001b[1;33m\u001b[0m\u001b[0m\n\u001b[0;32m    399\u001b[0m \u001b[1;33m\u001b[0m\u001b[0m\n",
      "\u001b[1;32mC:\\ProgramData\\Anaconda3\\lib\\site-packages\\sklearn\\base.py\u001b[0m in \u001b[0;36mscore\u001b[1;34m(self, X, y, sample_weight)\u001b[0m\n\u001b[0;32m    498\u001b[0m         \"\"\"\n\u001b[0;32m    499\u001b[0m         \u001b[1;32mfrom\u001b[0m \u001b[1;33m.\u001b[0m\u001b[0mmetrics\u001b[0m \u001b[1;32mimport\u001b[0m \u001b[0maccuracy_score\u001b[0m\u001b[1;33m\u001b[0m\u001b[1;33m\u001b[0m\u001b[0m\n\u001b[1;32m--> 500\u001b[1;33m         \u001b[1;32mreturn\u001b[0m \u001b[0maccuracy_score\u001b[0m\u001b[1;33m(\u001b[0m\u001b[0my\u001b[0m\u001b[1;33m,\u001b[0m \u001b[0mself\u001b[0m\u001b[1;33m.\u001b[0m\u001b[0mpredict\u001b[0m\u001b[1;33m(\u001b[0m\u001b[0mX\u001b[0m\u001b[1;33m)\u001b[0m\u001b[1;33m,\u001b[0m \u001b[0msample_weight\u001b[0m\u001b[1;33m=\u001b[0m\u001b[0msample_weight\u001b[0m\u001b[1;33m)\u001b[0m\u001b[1;33m\u001b[0m\u001b[1;33m\u001b[0m\u001b[0m\n\u001b[0m\u001b[0;32m    501\u001b[0m \u001b[1;33m\u001b[0m\u001b[0m\n\u001b[0;32m    502\u001b[0m     \u001b[1;32mdef\u001b[0m \u001b[0m_more_tags\u001b[0m\u001b[1;33m(\u001b[0m\u001b[0mself\u001b[0m\u001b[1;33m)\u001b[0m\u001b[1;33m:\u001b[0m\u001b[1;33m\u001b[0m\u001b[1;33m\u001b[0m\u001b[0m\n",
      "\u001b[1;32mC:\\ProgramData\\Anaconda3\\lib\\site-packages\\sklearn\\neighbors\\_classification.py\u001b[0m in \u001b[0;36mpredict\u001b[1;34m(self, X)\u001b[0m\n\u001b[0;32m    195\u001b[0m         \u001b[0mX\u001b[0m \u001b[1;33m=\u001b[0m \u001b[0mcheck_array\u001b[0m\u001b[1;33m(\u001b[0m\u001b[0mX\u001b[0m\u001b[1;33m,\u001b[0m \u001b[0maccept_sparse\u001b[0m\u001b[1;33m=\u001b[0m\u001b[1;34m'csr'\u001b[0m\u001b[1;33m)\u001b[0m\u001b[1;33m\u001b[0m\u001b[1;33m\u001b[0m\u001b[0m\n\u001b[0;32m    196\u001b[0m \u001b[1;33m\u001b[0m\u001b[0m\n\u001b[1;32m--> 197\u001b[1;33m         \u001b[0mneigh_dist\u001b[0m\u001b[1;33m,\u001b[0m \u001b[0mneigh_ind\u001b[0m \u001b[1;33m=\u001b[0m \u001b[0mself\u001b[0m\u001b[1;33m.\u001b[0m\u001b[0mkneighbors\u001b[0m\u001b[1;33m(\u001b[0m\u001b[0mX\u001b[0m\u001b[1;33m)\u001b[0m\u001b[1;33m\u001b[0m\u001b[1;33m\u001b[0m\u001b[0m\n\u001b[0m\u001b[0;32m    198\u001b[0m         \u001b[0mclasses_\u001b[0m \u001b[1;33m=\u001b[0m \u001b[0mself\u001b[0m\u001b[1;33m.\u001b[0m\u001b[0mclasses_\u001b[0m\u001b[1;33m\u001b[0m\u001b[1;33m\u001b[0m\u001b[0m\n\u001b[0;32m    199\u001b[0m         \u001b[0m_y\u001b[0m \u001b[1;33m=\u001b[0m \u001b[0mself\u001b[0m\u001b[1;33m.\u001b[0m\u001b[0m_y\u001b[0m\u001b[1;33m\u001b[0m\u001b[1;33m\u001b[0m\u001b[0m\n",
      "\u001b[1;32mC:\\ProgramData\\Anaconda3\\lib\\site-packages\\sklearn\\neighbors\\_base.py\u001b[0m in \u001b[0;36mkneighbors\u001b[1;34m(self, X, n_neighbors, return_distance)\u001b[0m\n\u001b[0;32m    703\u001b[0m                 \u001b[0mkwds\u001b[0m \u001b[1;33m=\u001b[0m \u001b[0mself\u001b[0m\u001b[1;33m.\u001b[0m\u001b[0meffective_metric_params_\u001b[0m\u001b[1;33m\u001b[0m\u001b[1;33m\u001b[0m\u001b[0m\n\u001b[0;32m    704\u001b[0m \u001b[1;33m\u001b[0m\u001b[0m\n\u001b[1;32m--> 705\u001b[1;33m             chunked_results = list(pairwise_distances_chunked(\n\u001b[0m\u001b[0;32m    706\u001b[0m                 \u001b[0mX\u001b[0m\u001b[1;33m,\u001b[0m \u001b[0mself\u001b[0m\u001b[1;33m.\u001b[0m\u001b[0m_fit_X\u001b[0m\u001b[1;33m,\u001b[0m \u001b[0mreduce_func\u001b[0m\u001b[1;33m=\u001b[0m\u001b[0mreduce_func\u001b[0m\u001b[1;33m,\u001b[0m\u001b[1;33m\u001b[0m\u001b[1;33m\u001b[0m\u001b[0m\n\u001b[0;32m    707\u001b[0m                 \u001b[0mmetric\u001b[0m\u001b[1;33m=\u001b[0m\u001b[0mself\u001b[0m\u001b[1;33m.\u001b[0m\u001b[0meffective_metric_\u001b[0m\u001b[1;33m,\u001b[0m \u001b[0mn_jobs\u001b[0m\u001b[1;33m=\u001b[0m\u001b[0mn_jobs\u001b[0m\u001b[1;33m,\u001b[0m\u001b[1;33m\u001b[0m\u001b[1;33m\u001b[0m\u001b[0m\n",
      "\u001b[1;32mC:\\ProgramData\\Anaconda3\\lib\\site-packages\\sklearn\\metrics\\pairwise.py\u001b[0m in \u001b[0;36mpairwise_distances_chunked\u001b[1;34m(X, Y, reduce_func, metric, n_jobs, working_memory, **kwds)\u001b[0m\n\u001b[0;32m   1631\u001b[0m         \u001b[1;32mif\u001b[0m \u001b[0mreduce_func\u001b[0m \u001b[1;32mis\u001b[0m \u001b[1;32mnot\u001b[0m \u001b[1;32mNone\u001b[0m\u001b[1;33m:\u001b[0m\u001b[1;33m\u001b[0m\u001b[1;33m\u001b[0m\u001b[0m\n\u001b[0;32m   1632\u001b[0m             \u001b[0mchunk_size\u001b[0m \u001b[1;33m=\u001b[0m \u001b[0mD_chunk\u001b[0m\u001b[1;33m.\u001b[0m\u001b[0mshape\u001b[0m\u001b[1;33m[\u001b[0m\u001b[1;36m0\u001b[0m\u001b[1;33m]\u001b[0m\u001b[1;33m\u001b[0m\u001b[1;33m\u001b[0m\u001b[0m\n\u001b[1;32m-> 1633\u001b[1;33m             \u001b[0mD_chunk\u001b[0m \u001b[1;33m=\u001b[0m \u001b[0mreduce_func\u001b[0m\u001b[1;33m(\u001b[0m\u001b[0mD_chunk\u001b[0m\u001b[1;33m,\u001b[0m \u001b[0msl\u001b[0m\u001b[1;33m.\u001b[0m\u001b[0mstart\u001b[0m\u001b[1;33m)\u001b[0m\u001b[1;33m\u001b[0m\u001b[1;33m\u001b[0m\u001b[0m\n\u001b[0m\u001b[0;32m   1634\u001b[0m             \u001b[0m_check_chunk_size\u001b[0m\u001b[1;33m(\u001b[0m\u001b[0mD_chunk\u001b[0m\u001b[1;33m,\u001b[0m \u001b[0mchunk_size\u001b[0m\u001b[1;33m)\u001b[0m\u001b[1;33m\u001b[0m\u001b[1;33m\u001b[0m\u001b[0m\n\u001b[0;32m   1635\u001b[0m         \u001b[1;32myield\u001b[0m \u001b[0mD_chunk\u001b[0m\u001b[1;33m\u001b[0m\u001b[1;33m\u001b[0m\u001b[0m\n",
      "\u001b[1;32mC:\\ProgramData\\Anaconda3\\lib\\site-packages\\sklearn\\neighbors\\_base.py\u001b[0m in \u001b[0;36m_kneighbors_reduce_func\u001b[1;34m(self, dist, start, n_neighbors, return_distance)\u001b[0m\n\u001b[0;32m    580\u001b[0m         \"\"\"\n\u001b[0;32m    581\u001b[0m         \u001b[0msample_range\u001b[0m \u001b[1;33m=\u001b[0m \u001b[0mnp\u001b[0m\u001b[1;33m.\u001b[0m\u001b[0marange\u001b[0m\u001b[1;33m(\u001b[0m\u001b[0mdist\u001b[0m\u001b[1;33m.\u001b[0m\u001b[0mshape\u001b[0m\u001b[1;33m[\u001b[0m\u001b[1;36m0\u001b[0m\u001b[1;33m]\u001b[0m\u001b[1;33m)\u001b[0m\u001b[1;33m[\u001b[0m\u001b[1;33m:\u001b[0m\u001b[1;33m,\u001b[0m \u001b[1;32mNone\u001b[0m\u001b[1;33m]\u001b[0m\u001b[1;33m\u001b[0m\u001b[1;33m\u001b[0m\u001b[0m\n\u001b[1;32m--> 582\u001b[1;33m         \u001b[0mneigh_ind\u001b[0m \u001b[1;33m=\u001b[0m \u001b[0mnp\u001b[0m\u001b[1;33m.\u001b[0m\u001b[0margpartition\u001b[0m\u001b[1;33m(\u001b[0m\u001b[0mdist\u001b[0m\u001b[1;33m,\u001b[0m \u001b[0mn_neighbors\u001b[0m \u001b[1;33m-\u001b[0m \u001b[1;36m1\u001b[0m\u001b[1;33m,\u001b[0m \u001b[0maxis\u001b[0m\u001b[1;33m=\u001b[0m\u001b[1;36m1\u001b[0m\u001b[1;33m)\u001b[0m\u001b[1;33m\u001b[0m\u001b[1;33m\u001b[0m\u001b[0m\n\u001b[0m\u001b[0;32m    583\u001b[0m         \u001b[0mneigh_ind\u001b[0m \u001b[1;33m=\u001b[0m \u001b[0mneigh_ind\u001b[0m\u001b[1;33m[\u001b[0m\u001b[1;33m:\u001b[0m\u001b[1;33m,\u001b[0m \u001b[1;33m:\u001b[0m\u001b[0mn_neighbors\u001b[0m\u001b[1;33m]\u001b[0m\u001b[1;33m\u001b[0m\u001b[1;33m\u001b[0m\u001b[0m\n\u001b[0;32m    584\u001b[0m         \u001b[1;31m# argpartition doesn't guarantee sorted order, so we sort again\u001b[0m\u001b[1;33m\u001b[0m\u001b[1;33m\u001b[0m\u001b[1;33m\u001b[0m\u001b[0m\n",
      "\u001b[1;32m<__array_function__ internals>\u001b[0m in \u001b[0;36margpartition\u001b[1;34m(*args, **kwargs)\u001b[0m\n",
      "\u001b[1;32mC:\\ProgramData\\Anaconda3\\lib\\site-packages\\numpy\\core\\fromnumeric.py\u001b[0m in \u001b[0;36margpartition\u001b[1;34m(a, kth, axis, kind, order)\u001b[0m\n\u001b[0;32m    837\u001b[0m \u001b[1;33m\u001b[0m\u001b[0m\n\u001b[0;32m    838\u001b[0m     \"\"\"\n\u001b[1;32m--> 839\u001b[1;33m     \u001b[1;32mreturn\u001b[0m \u001b[0m_wrapfunc\u001b[0m\u001b[1;33m(\u001b[0m\u001b[0ma\u001b[0m\u001b[1;33m,\u001b[0m \u001b[1;34m'argpartition'\u001b[0m\u001b[1;33m,\u001b[0m \u001b[0mkth\u001b[0m\u001b[1;33m,\u001b[0m \u001b[0maxis\u001b[0m\u001b[1;33m=\u001b[0m\u001b[0maxis\u001b[0m\u001b[1;33m,\u001b[0m \u001b[0mkind\u001b[0m\u001b[1;33m=\u001b[0m\u001b[0mkind\u001b[0m\u001b[1;33m,\u001b[0m \u001b[0morder\u001b[0m\u001b[1;33m=\u001b[0m\u001b[0morder\u001b[0m\u001b[1;33m)\u001b[0m\u001b[1;33m\u001b[0m\u001b[1;33m\u001b[0m\u001b[0m\n\u001b[0m\u001b[0;32m    840\u001b[0m \u001b[1;33m\u001b[0m\u001b[0m\n\u001b[0;32m    841\u001b[0m \u001b[1;33m\u001b[0m\u001b[0m\n",
      "\u001b[1;32mC:\\ProgramData\\Anaconda3\\lib\\site-packages\\numpy\\core\\fromnumeric.py\u001b[0m in \u001b[0;36m_wrapfunc\u001b[1;34m(obj, method, *args, **kwds)\u001b[0m\n\u001b[0;32m     55\u001b[0m \u001b[1;33m\u001b[0m\u001b[0m\n\u001b[0;32m     56\u001b[0m     \u001b[1;32mtry\u001b[0m\u001b[1;33m:\u001b[0m\u001b[1;33m\u001b[0m\u001b[1;33m\u001b[0m\u001b[0m\n\u001b[1;32m---> 57\u001b[1;33m         \u001b[1;32mreturn\u001b[0m \u001b[0mbound\u001b[0m\u001b[1;33m(\u001b[0m\u001b[1;33m*\u001b[0m\u001b[0margs\u001b[0m\u001b[1;33m,\u001b[0m \u001b[1;33m**\u001b[0m\u001b[0mkwds\u001b[0m\u001b[1;33m)\u001b[0m\u001b[1;33m\u001b[0m\u001b[1;33m\u001b[0m\u001b[0m\n\u001b[0m\u001b[0;32m     58\u001b[0m     \u001b[1;32mexcept\u001b[0m \u001b[0mTypeError\u001b[0m\u001b[1;33m:\u001b[0m\u001b[1;33m\u001b[0m\u001b[1;33m\u001b[0m\u001b[0m\n\u001b[0;32m     59\u001b[0m         \u001b[1;31m# A TypeError occurs if the object does have such a method in its\u001b[0m\u001b[1;33m\u001b[0m\u001b[1;33m\u001b[0m\u001b[1;33m\u001b[0m\u001b[0m\n",
      "\u001b[1;31mKeyboardInterrupt\u001b[0m: "
     ]
    }
   ],
   "source": [
    "from sklearn.model_selection import GridSearchCV\n",
    "leaf_size = list(range(1,50))\n",
    "n_neighbors = list(range(1,30))\n",
    "p=[1,2]\n",
    "#Convert to dictionary\n",
    "hyperparameters = dict(leaf_size=leaf_size, n_neighbors=n_neighbors, p=p)\n",
    "#Create new KNN object\n",
    "knn_2 = KNeighborsClassifier()\n",
    "#Use GridSearch\n",
    "clf = GridSearchCV(knn_2, hyperparameters, cv=10)\n",
    "#Fit the model\n",
    "best_model = clf.fit(features,y_train)\n",
    "#Print The value of best Hyperparameters\n",
    "print('Best leaf_size:', best_model.best_estimator_.get_params()['leaf_size'])\n",
    "print('Best p:', best_model.best_estimator_.get_params()['p'])\n",
    "print('Best n_neighbors:', best_model.best_estimator_.get_params()['n_neighbors'])"
   ]
  },
  {
   "cell_type": "code",
   "execution_count": 217,
   "id": "0d49c220",
   "metadata": {},
   "outputs": [
    {
     "name": "stdout",
     "output_type": "stream",
     "text": [
      "              precision    recall  f1-score   support\n",
      "\n",
      "         0.0       0.63      0.22      0.32        87\n",
      "         1.0       0.53      0.87      0.66        87\n",
      "\n",
      "    accuracy                           0.55       174\n",
      "   macro avg       0.58      0.55      0.49       174\n",
      "weighted avg       0.58      0.55      0.49       174\n",
      "\n"
     ]
    }
   ],
   "source": [
    "from sklearn.neighbors import KNeighborsClassifier\n",
    "knn = KNeighborsClassifier(n_neighbors=26,leaf_size=1,p=1)\n",
    "knn.fit(features,y_train)\n",
    "pred = knn.predict(features2)\n",
    "print(classification_report(y_test,pred))"
   ]
  },
  {
   "cell_type": "code",
   "execution_count": 218,
   "id": "f148ed88",
   "metadata": {
    "colab": {
     "base_uri": "https://localhost:8080/"
    },
    "id": "f148ed88",
    "outputId": "d9da354f-4381-4268-8df0-204c5d6ac719"
   },
   "outputs": [
    {
     "name": "stdout",
     "output_type": "stream",
     "text": [
      "Number of mislabeled points out of a total 174 points : 85\n",
      "              precision    recall  f1-score   support\n",
      "\n",
      "         0.0       0.55      0.13      0.21        87\n",
      "         1.0       0.51      0.90      0.65        87\n",
      "\n",
      "    accuracy                           0.51       174\n",
      "   macro avg       0.53      0.51      0.43       174\n",
      "weighted avg       0.53      0.51      0.43       174\n",
      "\n"
     ]
    }
   ],
   "source": [
    "from sklearn.naive_bayes import GaussianNB\n",
    "gnb = GaussianNB()\n",
    "y_pred = gnb.fit(features, y_train).predict(features2)\n",
    "print(\"Number of mislabeled points out of a total %d points : %d\"\n",
    "      % (X_test.shape[0], (y_test != y_pred).sum()))\n",
    "print(classification_report(y_test,y_pred))"
   ]
  },
  {
   "cell_type": "code",
   "execution_count": 219,
   "id": "070f2d7d",
   "metadata": {
    "colab": {
     "base_uri": "https://localhost:8080/"
    },
    "id": "070f2d7d",
    "outputId": "cf431877-dd83-4e90-e613-19aef83d7c50"
   },
   "outputs": [
    {
     "name": "stdout",
     "output_type": "stream",
     "text": [
      "              precision    recall  f1-score   support\n",
      "\n",
      "         0.0       0.51      0.58      0.54        76\n",
      "         1.0       0.63      0.56      0.59        98\n",
      "\n",
      "    accuracy                           0.57       174\n",
      "   macro avg       0.57      0.57      0.57       174\n",
      "weighted avg       0.58      0.57      0.57       174\n",
      "\n"
     ]
    }
   ],
   "source": [
    "from numpy import mean\n",
    "from numpy import std\n",
    "from sklearn.datasets import make_classification\n",
    "from sklearn.ensemble import GradientBoostingClassifier\n",
    "from sklearn.model_selection import cross_val_score\n",
    "from sklearn.model_selection import RepeatedStratifiedKFold\n",
    "from matplotlib import pyplot\n",
    "# define dataset\n",
    "# X, y = make_classification(n_samples=1000, n_features=10, n_informative=5, n_redundant=5, random_state=1)\n",
    "# evaluate the model\n",
    "# model = GradientBoostingClassifier()\n",
    "# cv = RepeatedStratifiedKFold(n_splits=10, n_repeats=3, random_state=1)\n",
    "# n_scores = cross_val_score(model, X_train, y_train, scoring='accuracy', cv=cv, n_jobs=-1, error_score='raise')\n",
    "# print('Accuracy: %.3f (%.3f)' % (mean(n_scores), std(n_scores)))\n",
    "# fit the model on the whole dataset\n",
    "model = GradientBoostingClassifier()\n",
    "model.fit(features, y_train)\n",
    "# make a single prediction\n",
    "# row = [[2.56999479, -0.13019997, 3.16075093, -4.35936352, -1.61271951, -1.39352057, -2.48924933, -1.93094078, 3.26130366, 2.05692145]]\n",
    "yhat = model.predict(features2)\n",
    "\n",
    "print(classification_report(yhat,y_test))"
   ]
  },
  {
   "cell_type": "code",
   "execution_count": 220,
   "id": "236ec010",
   "metadata": {
    "colab": {
     "base_uri": "https://localhost:8080/"
    },
    "id": "236ec010",
    "outputId": "20c99687-42f9-44ce-9c03-a0f43f522398"
   },
   "outputs": [
    {
     "name": "stdout",
     "output_type": "stream",
     "text": [
      "              precision    recall  f1-score   support\n",
      "\n",
      "         0.0       0.47      0.58      0.52        71\n",
      "         1.0       0.66      0.55      0.60       103\n",
      "\n",
      "    accuracy                           0.56       174\n",
      "   macro avg       0.56      0.57      0.56       174\n",
      "weighted avg       0.58      0.56      0.57       174\n",
      "\n"
     ]
    }
   ],
   "source": [
    "# histogram-based gradient boosting for classification in scikit-learn\n",
    "from numpy import mean\n",
    "from numpy import std\n",
    "from sklearn.datasets import make_classification\n",
    "from sklearn.experimental import enable_hist_gradient_boosting\n",
    "from sklearn.ensemble import HistGradientBoostingClassifier\n",
    "from sklearn.model_selection import cross_val_score\n",
    "from sklearn.model_selection import RepeatedStratifiedKFold\n",
    "from matplotlib import pyplot\n",
    "# evaluate the model\n",
    "# model = HistGradientBoostingClassifier()\n",
    "# cv = RepeatedStratifiedKFold(n_splits=10, n_repeats=3, random_state=1)\n",
    "# n_scores = cross_val_score(model, features, y_train, scoring='accuracy', cv=cv, n_jobs=-1, error_score='raise')\n",
    "# print('Accuracy: %.3f (%.3f)' % (mean(n_scores), std(n_scores)))\n",
    "# fit the model on the whole dataset\n",
    "model = HistGradientBoostingClassifier()\n",
    "model.fit(features, y_train)\n",
    "# make a single prediction\n",
    "yhat = model.predict(features2)\n",
    "print(classification_report(yhat,y_test))"
   ]
  },
  {
   "cell_type": "code",
   "execution_count": 221,
   "id": "7f6c009a",
   "metadata": {
    "colab": {
     "base_uri": "https://localhost:8080/",
     "height": 387
    },
    "id": "7f6c009a",
    "outputId": "6612033c-34dc-40d2-efcc-72eb0b1e458c"
   },
   "outputs": [
    {
     "name": "stdout",
     "output_type": "stream",
     "text": [
      "[23:49:56] WARNING: C:/Users/Administrator/workspace/xgboost-win64_release_1.4.0/src/learner.cc:1095: Starting in XGBoost 1.3.0, the default evaluation metric used with the objective 'binary:logistic' was changed from 'error' to 'logloss'. Explicitly set eval_metric if you'd like to restore the old behavior.\n",
      "              precision    recall  f1-score   support\n",
      "\n",
      "         0.0       0.48      0.55      0.52        76\n",
      "         1.0       0.61      0.54      0.57        98\n",
      "\n",
      "    accuracy                           0.55       174\n",
      "   macro avg       0.55      0.55      0.54       174\n",
      "weighted avg       0.55      0.55      0.55       174\n",
      "\n"
     ]
    }
   ],
   "source": [
    "# xgboost for classification\n",
    "from numpy import asarray\n",
    "from numpy import mean\n",
    "from numpy import std\n",
    "# from sklearn.datasets import make_classification\n",
    "from xgboost import XGBClassifier\n",
    "from sklearn.model_selection import cross_val_score\n",
    "from sklearn.model_selection import RepeatedStratifiedKFold\n",
    "from matplotlib import pyplot\n",
    "# define dataset\n",
    "# X, y = make_classification(n_samples=1000, n_features=10, n_informative=5, n_redundant=5, random_state=1)\n",
    "# evaluate the model\n",
    "# model = XGBClassifier()\n",
    "# cv = RepeatedStratifiedKFold(n_splits=10, n_repeats=3, random_state=1)\n",
    "# n_scores = cross_val_score(model, features, y_train, scoring='accuracy', cv=cv, n_jobs=-1, error_score='raise')\n",
    "# print('Accuracy: %.3f (%.3f)' % (mean(n_scores), std(n_scores)))\n",
    "# fit the model on the whole dataset\n",
    "model = XGBClassifier()\n",
    "model.fit(features, y_train)\n",
    "# make a single prediction\n",
    "yhat = model.predict(features2)\n",
    "print(classification_report(yhat,y_test))"
   ]
  },
  {
   "cell_type": "code",
   "execution_count": 140,
   "id": "2294b541",
   "metadata": {
    "colab": {
     "base_uri": "https://localhost:8080/"
    },
    "id": "2294b541",
    "outputId": "3ab5d55a-c374-4759-ad71-97e3d645f029"
   },
   "outputs": [
    {
     "name": "stdout",
     "output_type": "stream",
     "text": [
      "              precision    recall  f1-score   support\n",
      "\n",
      "         0.0       0.43      0.49      0.46        75\n",
      "         1.0       0.56      0.49      0.53        99\n",
      "\n",
      "    accuracy                           0.49       174\n",
      "   macro avg       0.49      0.49      0.49       174\n",
      "weighted avg       0.50      0.49      0.50       174\n",
      "\n"
     ]
    }
   ],
   "source": [
    "# lightgbm for classification\n",
    "from numpy import mean\n",
    "from numpy import std\n",
    "from sklearn.datasets import make_classification\n",
    "from lightgbm import LGBMClassifier\n",
    "from sklearn.model_selection import cross_val_score\n",
    "from sklearn.model_selection import RepeatedStratifiedKFold\n",
    "from matplotlib import pyplot\n",
    "# evaluate the model\n",
    "# model = LGBMClassifier()\n",
    "# cv = RepeatedStratifiedKFold(n_splits=10, n_repeats=3, random_state=1)\n",
    "# n_scores = cross_val_score(model, features, y_train, scoring='accuracy', cv=cv, n_jobs=-1, error_score='raise')\n",
    "# print('Accuracy: %.3f (%.3f)' % (mean(n_scores), std(n_scores)))\n",
    "# fit the model on the whole dataset\n",
    "model = LGBMClassifier()\n",
    "model.fit(features, y_train)\n",
    "# make a single prediction\n",
    "yhat = model.predict(features2)\n",
    "print(classification_report(yhat,y_test))"
   ]
  },
  {
   "cell_type": "code",
   "execution_count": null,
   "id": "696cbc55",
   "metadata": {},
   "outputs": [],
   "source": []
  },
  {
   "cell_type": "code",
   "execution_count": null,
   "id": "732a6df9",
   "metadata": {
    "id": "732a6df9"
   },
   "outputs": [],
   "source": []
  },
  {
   "cell_type": "markdown",
   "id": "Rl4RaMhButB_",
   "metadata": {
    "id": "Rl4RaMhButB_"
   },
   "source": [
    "# Models chi"
   ]
  },
  {
   "cell_type": "code",
   "execution_count": 91,
   "id": "0vxQ4vywutB_",
   "metadata": {
    "id": "0vxQ4vywutB_"
   },
   "outputs": [],
   "source": [
    "import pandas as pd\n",
    "import numpy as np\n",
    "from sklearn.linear_model import LogisticRegression\n",
    "from sklearn import svm\n",
    "from sklearn import tree\n",
    "from sklearn.ensemble import RandomForestClassifier\n",
    "from sklearn.neighbors import KNeighborsClassifier\n",
    "from xgboost import XGBClassifier\n",
    "from sklearn.model_selection import train_test_split\n",
    "from sklearn.neural_network import MLPClassifier\n",
    "from sklearn.preprocessing import StandardScaler\n",
    "import seaborn as sns\n",
    "import matplotlib.pyplot as plt\n",
    "from sklearn.metrics import accuracy_score\n",
    "from sklearn.feature_selection import SelectFromModel\n",
    "\n",
    "from sklearn.decomposition import PCA\n",
    "from sklearn.manifold import TSNE\n",
    "%matplotlib inline\n",
    "import matplotlib.pyplot as plt\n",
    "from mpl_toolkits.mplot3d import Axes3D\n",
    "\n",
    "\n",
    "\n",
    "import warnings\n",
    "warnings.filterwarnings('ignore')"
   ]
  },
  {
   "cell_type": "code",
   "execution_count": 223,
   "id": "D0oMFrX6utB_",
   "metadata": {
    "id": "D0oMFrX6utB_"
   },
   "outputs": [],
   "source": [
    "features = X_train[chi_feature]\n",
    "features2 = X_test[chi_feature]"
   ]
  },
  {
   "cell_type": "code",
   "execution_count": 224,
   "id": "awxGthAiutB_",
   "metadata": {
    "colab": {
     "base_uri": "https://localhost:8080/"
    },
    "id": "awxGthAiutB_",
    "outputId": "6baa7e87-1948-4dc5-e770-9cdd91fd4226"
   },
   "outputs": [
    {
     "data": {
      "text/plain": [
       "0"
      ]
     },
     "execution_count": 224,
     "metadata": {},
     "output_type": "execute_result"
    }
   ],
   "source": [
    "features.isna().sum().sum()"
   ]
  },
  {
   "cell_type": "code",
   "execution_count": 225,
   "id": "m26_abtautB_",
   "metadata": {
    "colab": {
     "base_uri": "https://localhost:8080/"
    },
    "id": "m26_abtautB_",
    "outputId": "f12bd8d0-3047-4f6e-97b8-f219e8e224a4"
   },
   "outputs": [
    {
     "data": {
      "text/plain": [
       "0"
      ]
     },
     "execution_count": 225,
     "metadata": {},
     "output_type": "execute_result"
    }
   ],
   "source": [
    "X_test.isna().sum().sum()"
   ]
  },
  {
   "cell_type": "code",
   "execution_count": 226,
   "id": "Il7_aME5utCA",
   "metadata": {
    "colab": {
     "base_uri": "https://localhost:8080/"
    },
    "id": "Il7_aME5utCA",
    "outputId": "e0f56dee-9826-4e23-8499-02b37c2ebfb6"
   },
   "outputs": [
    {
     "name": "stdout",
     "output_type": "stream",
     "text": [
      "              precision    recall  f1-score   support\n",
      "\n",
      "           0       0.34      0.52      0.41        58\n",
      "           1       0.68      0.51      0.58       116\n",
      "\n",
      "    accuracy                           0.51       174\n",
      "   macro avg       0.51      0.51      0.50       174\n",
      "weighted avg       0.57      0.51      0.53       174\n",
      "\n"
     ]
    }
   ],
   "source": [
    "from sklearn.model_selection import cross_val_score\n",
    "# from sklearn.datasets import load_iris\n",
    "from sklearn.ensemble import AdaBoostClassifier\n",
    "\n",
    "# X, y = load_iris(return_X_y=True)\n",
    "clf = AdaBoostClassifier()\n",
    "# scores = cross_val_score(clf, features, y_train, cv=5)\n",
    "# print(scores.mean())\n",
    "clf.fit(features, y_train)\n",
    "y_pred = (clf.predict(features2)>0.5).astype(int)\n",
    "from sklearn.metrics import classification_report\n",
    "print(classification_report(y_pred,y_test))\n"
   ]
  },
  {
   "cell_type": "code",
   "execution_count": 227,
   "id": "QuxXByxlutCA",
   "metadata": {
    "colab": {
     "base_uri": "https://localhost:8080/"
    },
    "id": "QuxXByxlutCA",
    "outputId": "8229f790-5371-4f67-8800-525f4c62e19b"
   },
   "outputs": [
    {
     "name": "stdout",
     "output_type": "stream",
     "text": [
      "              precision    recall  f1-score   support\n",
      "\n",
      "         0.0       0.00      0.00      0.00        87\n",
      "         1.0       0.50      1.00      0.67        87\n",
      "\n",
      "    accuracy                           0.50       174\n",
      "   macro avg       0.25      0.50      0.33       174\n",
      "weighted avg       0.25      0.50      0.33       174\n",
      "\n"
     ]
    }
   ],
   "source": [
    "from sklearn.svm import SVC\n",
    "\n",
    "svclassifier = SVC(gamma='auto')\n",
    "svclassifier.fit(features, y_train)\n",
    "y_pred = svclassifier.predict(features2)\n",
    "print(classification_report(y_test, y_pred))"
   ]
  },
  {
   "cell_type": "code",
   "execution_count": 228,
   "id": "cMi0n7AQutCA",
   "metadata": {
    "colab": {
     "base_uri": "https://localhost:8080/"
    },
    "id": "cMi0n7AQutCA",
    "outputId": "188e629a-7cae-4ada-b8fe-79250e88cfe3"
   },
   "outputs": [
    {
     "name": "stdout",
     "output_type": "stream",
     "text": [
      "Accuracy: 0.50 (+/- 0.01) [DecisionTreeClassifier]\n",
      "Accuracy: 0.50 (+/- 0.01) [KNNClassifier]\n",
      "Accuracy: 0.51 (+/- 0.01) [SVC]\n",
      "Accuracy: 0.50 (+/- 0.01) [voting]\n"
     ]
    }
   ],
   "source": [
    "from sklearn import datasets\n",
    "from sklearn.tree import DecisionTreeClassifier\n",
    "from sklearn.neighbors import KNeighborsClassifier\n",
    "from sklearn.svm import SVC\n",
    "from itertools import product\n",
    "from sklearn.ensemble import VotingClassifier\n",
    "\n",
    "\n",
    "clf1 = DecisionTreeClassifier()\n",
    "clf2 = KNeighborsClassifier()\n",
    "clf3 = SVC(kernel='rbf', probability=True)\n",
    "eclf = VotingClassifier(estimators=[('dt', clf1), ('knn', clf2), ('svc', clf3)],\n",
    "                        voting='soft', weights=[2, 2, 2])\n",
    "\n",
    "clf1 = clf1.fit(features, y_train)\n",
    "clf2 = clf2.fit(features, y_train)\n",
    "clf3 = clf3.fit(features, y_train)\n",
    "eclf = eclf.fit(features, y_train)\n",
    "\n",
    "for clf, label in zip([clf1, clf2, clf3, eclf], ['DecisionTreeClassifier', 'KNNClassifier', 'SVC', 'voting']):\n",
    "    scores = cross_val_score(clf, features, y_train, scoring='accuracy', cv=5)\n",
    "    print(\"Accuracy: %0.2f (+/- %0.2f) [%s]\" % (scores.mean(), scores.std(), label))"
   ]
  },
  {
   "cell_type": "code",
   "execution_count": 230,
   "id": "YBuJ2yqmutCA",
   "metadata": {
    "colab": {
     "base_uri": "https://localhost:8080/",
     "height": 0
    },
    "id": "YBuJ2yqmutCA",
    "outputId": "fe7662a0-23e6-4261-f06d-2fb419367958"
   },
   "outputs": [
    {
     "name": "stdout",
     "output_type": "stream",
     "text": [
      "Logistic Regression score is 48.85057471264368% \n",
      "\n",
      "Support Vector Classifier score is 48.85057471264368%\n",
      "\n",
      "Decision Tree Classifier score is 51.14942528735632%\n",
      "\n",
      "Random Forest Classifier score is 50.57471264367817%\n",
      "\n",
      "KNN Classifier score is 53.44827586206896% with k = 1\n",
      "KNN Classifier score is 51.14942528735632% with k = 2\n",
      "KNN Classifier score is 51.14942528735632% with k = 3\n",
      "KNN Classifier score is 51.14942528735632% with k = 4\n",
      "KNN Classifier score is 51.14942528735632% with k = 5\n",
      "KNN Classifier score is 51.14942528735632% with k = 6\n",
      "KNN Classifier score is 51.724137931034484% with k = 7\n",
      "KNN Classifier score is 53.44827586206896% with k = 8\n",
      "KNN Classifier score is 51.724137931034484% with k = 9\n",
      "KNN Classifier score is 50.0% with k = 10\n",
      "KNN Classifier score is 51.724137931034484% with k = 11\n",
      "KNN Classifier score is 53.44827586206896% with k = 12\n",
      "KNN Classifier score is 53.44827586206896% with k = 13\n",
      "KNN Classifier score is 52.87356321839081% with k = 14\n",
      "KNN Classifier score is 52.87356321839081% with k = 15\n",
      "KNN Classifier score is 51.14942528735632% with k = 16\n",
      "KNN Classifier score is 51.724137931034484% with k = 17\n",
      "KNN Classifier score is 50.57471264367817% with k = 18\n",
      "KNN Classifier score is 51.14942528735632% with k = 19\n"
     ]
    },
    {
     "data": {
      "image/png": "[encoded data removed]",
      "text/plain": [
       "<Figure size 432x288 with 1 Axes>"
      ]
     },
     "metadata": {
      "needs_background": "light"
     },
     "output_type": "display_data"
    },
    {
     "name": "stdout",
     "output_type": "stream",
     "text": [
      "\n",
      "MLP Classifier score is 51.14942528735632%\n",
      "\n"
     ]
    }
   ],
   "source": [
    "# fitting logistic regression\n",
    "lr = LogisticRegression()\n",
    "lr.fit(features, y_train)\n",
    "predictionsLR = lr.predict(features2)\n",
    "scoreLR = accuracy_score(y_test, predictionsLR)\n",
    "print(f\"Logistic Regression score is {scoreLR * 100}% \\n\")\n",
    "\n",
    "# fitting SVC\n",
    "svc = svm.LinearSVC()\n",
    "svc.fit(features, y_train)\n",
    "predictionsSVC = svc.predict(features2)\n",
    "scoreSVC = accuracy_score(y_test, predictionsSVC)\n",
    "print(f\"Support Vector Classifier score is {scoreSVC * 100}%\\n\")\n",
    "\n",
    "# fitting decision tree classifier\n",
    "clf = tree.DecisionTreeClassifier()\n",
    "clf.fit(features, y_train)\n",
    "predictionsTree = clf.predict(features2)\n",
    "scoreTree = accuracy_score(y_test, predictionsTree)\n",
    "print(f\"Decision Tree Classifier score is {scoreTree * 100}%\\n\")\n",
    "\n",
    "# fitting Random Forest classifier\n",
    "clf1 = RandomForestClassifier(max_features=5)\n",
    "clf1.fit(features, y_train)\n",
    "predictionsTree1 = clf1.predict(features2)\n",
    "scoreTree1 = accuracy_score(y_test, predictionsTree1)\n",
    "print(f\"Random Forest Classifier score is {scoreTree1 * 100}%\\n\")\n",
    "\n",
    "# fitting XGBoost\n",
    "# xgb = XGBClassifier()\n",
    "# xgb.fit(features.to_numpy(), y_train)\n",
    "# predictionsXGB = xgb.predict(X_test)\n",
    "# predictionsXGB = (predictionsXGB>0.5).astype(int)\n",
    "# scoreXGB = accuracy_score(y_test, predictionsXGB)\n",
    "# print(f\"XG Boost Classifier score is {scoreXGB * 100}%\\n\")\n",
    "\n",
    "# fitting KNN Classifier\n",
    "K = range(1, 20)\n",
    "acc = []\n",
    "for k in K:\n",
    "    knn = KNeighborsClassifier(n_neighbors=k)\n",
    "    knn.fit(features, y_train)\n",
    "    predictionsKNN = knn.predict(features2)\n",
    "    scoreKNN = accuracy_score(y_test, predictionsKNN)\n",
    "    print(f\"KNN Classifier score is {scoreKNN * 100}% with k = {k}\")\n",
    "    acc.append(scoreKNN*100)\n",
    "\n",
    "# Elbow plot:\n",
    "plt.plot(K, acc)\n",
    "plt.xlabel('K')\n",
    "plt.ylabel('Accuracy')\n",
    "plt.title(\"Elbow Curve without feature selection for Inter-Reseach Area\")\n",
    "\n",
    "plt.show()\n",
    "\n",
    "# MLP / ANN\n",
    "classifier = MLPClassifier(hidden_layer_sizes=(128, 64), max_iter=300, activation='relu', solver='adam', random_state=1)\n",
    "classifier.fit(features, y_train)\n",
    "predictionsMLP = classifier.predict(features2)\n",
    "scoreMLP = accuracy_score(y_test, predictionsMLP)\n",
    "print(f\"\\nMLP Classifier score is {scoreMLP * 100}%\\n\")"
   ]
  },
  {
   "cell_type": "code",
   "execution_count": 231,
   "id": "92jo2kOtutCA",
   "metadata": {
    "colab": {
     "base_uri": "https://localhost:8080/"
    },
    "id": "92jo2kOtutCA",
    "outputId": "89ff8df8-5c72-4b04-b159-5c07009bd96c"
   },
   "outputs": [
    {
     "name": "stdout",
     "output_type": "stream",
     "text": [
      "Number of mislabeled points out of a total 174 points : 88\n",
      "              precision    recall  f1-score   support\n",
      "\n",
      "         0.0       0.48      0.16      0.24        87\n",
      "         1.0       0.50      0.83      0.62        87\n",
      "\n",
      "    accuracy                           0.49       174\n",
      "   macro avg       0.49      0.49      0.43       174\n",
      "weighted avg       0.49      0.49      0.43       174\n",
      "\n"
     ]
    }
   ],
   "source": [
    "from sklearn.naive_bayes import GaussianNB\n",
    "from sklearn.metrics import classification_report\n",
    "gnb = GaussianNB()\n",
    "y_pred = gnb.fit(features, y_train).predict(features2)\n",
    "print(\"Number of mislabeled points out of a total %d points : %d\"\n",
    "      % (X_test.shape[0], (y_test != y_pred).sum()))\n",
    "print(classification_report(y_test,y_pred))"
   ]
  },
  {
   "cell_type": "code",
   "execution_count": 232,
   "id": "Kj6dYRuQutCA",
   "metadata": {
    "colab": {
     "base_uri": "https://localhost:8080/"
    },
    "id": "Kj6dYRuQutCA",
    "outputId": "f673ba74-ef52-4c7d-fab4-9041ad051c52"
   },
   "outputs": [
    {
     "name": "stdout",
     "output_type": "stream",
     "text": [
      "              precision    recall  f1-score   support\n",
      "\n",
      "         0.0       0.18      0.55      0.28        29\n",
      "         1.0       0.85      0.51      0.64       145\n",
      "\n",
      "    accuracy                           0.52       174\n",
      "   macro avg       0.52      0.53      0.46       174\n",
      "weighted avg       0.74      0.52      0.58       174\n",
      "\n"
     ]
    }
   ],
   "source": [
    "from numpy import mean\n",
    "from numpy import std\n",
    "from sklearn.datasets import make_classification\n",
    "from sklearn.ensemble import GradientBoostingClassifier\n",
    "from sklearn.model_selection import cross_val_score\n",
    "from sklearn.model_selection import RepeatedStratifiedKFold\n",
    "from matplotlib import pyplot\n",
    "# define dataset\n",
    "# X, y = make_classification(n_samples=1000, n_features=10, n_informative=5, n_redundant=5, random_state=1)\n",
    "# evaluate the model\n",
    "# model = GradientBoostingClassifier()\n",
    "# cv = RepeatedStratifiedKFold(n_splits=10, n_repeats=3, random_state=1)\n",
    "# n_scores = cross_val_score(model, X_train, y_train, scoring='accuracy', cv=cv, n_jobs=-1, error_score='raise')\n",
    "# print('Accuracy: %.3f (%.3f)' % (mean(n_scores), std(n_scores)))\n",
    "# fit the model on the whole dataset\n",
    "model = GradientBoostingClassifier()\n",
    "model.fit(features, y_train)\n",
    "# make a single prediction\n",
    "# row = [[2.56999479, -0.13019997, 3.16075093, -4.35936352, -1.61271951, -1.39352057, -2.48924933, -1.93094078, 3.26130366, 2.05692145]]\n",
    "yhat = model.predict(features2)\n",
    "\n",
    "print(classification_report(yhat,y_test))"
   ]
  },
  {
   "cell_type": "code",
   "execution_count": 233,
   "id": "enHD5HdYutCB",
   "metadata": {
    "colab": {
     "base_uri": "https://localhost:8080/"
    },
    "id": "enHD5HdYutCB",
    "outputId": "3895dba7-87f7-4c46-b096-6181b8f513e9"
   },
   "outputs": [
    {
     "name": "stdout",
     "output_type": "stream",
     "text": [
      "              precision    recall  f1-score   support\n",
      "\n",
      "         0.0       0.53      0.53      0.53        87\n",
      "         1.0       0.53      0.53      0.53        87\n",
      "\n",
      "    accuracy                           0.53       174\n",
      "   macro avg       0.53      0.53      0.53       174\n",
      "weighted avg       0.53      0.53      0.53       174\n",
      "\n"
     ]
    }
   ],
   "source": [
    "# histogram-based gradient boosting for classification in scikit-learn\n",
    "from numpy import mean\n",
    "from numpy import std\n",
    "from sklearn.datasets import make_classification\n",
    "from sklearn.experimental import enable_hist_gradient_boosting\n",
    "from sklearn.ensemble import HistGradientBoostingClassifier\n",
    "from sklearn.model_selection import cross_val_score\n",
    "from sklearn.model_selection import RepeatedStratifiedKFold\n",
    "from matplotlib import pyplot\n",
    "# evaluate the model\n",
    "# model = HistGradientBoostingClassifier()\n",
    "# cv = RepeatedStratifiedKFold(n_splits=10, n_repeats=3, random_state=1)\n",
    "# n_scores = cross_val_score(model, features, y_train, scoring='accuracy', cv=cv, n_jobs=-1, error_score='raise')\n",
    "# print('Accuracy: %.3f (%.3f)' % (mean(n_scores), std(n_scores)))\n",
    "# fit the model on the whole dataset\n",
    "model = HistGradientBoostingClassifier()\n",
    "model.fit(features, y_train)\n",
    "# make a single prediction\n",
    "yhat = model.predict(features2)\n",
    "print(classification_report(yhat,y_test))"
   ]
  },
  {
   "cell_type": "code",
   "execution_count": 234,
   "id": "xBesZOlkutCB",
   "metadata": {
    "colab": {
     "base_uri": "https://localhost:8080/",
     "height": 0
    },
    "id": "xBesZOlkutCB",
    "outputId": "1ab49c2d-f24d-4d11-d1f1-9ecebf9b89a7"
   },
   "outputs": [
    {
     "name": "stdout",
     "output_type": "stream",
     "text": [
      "[23:52:56] WARNING: C:/Users/Administrator/workspace/xgboost-win64_release_1.4.0/src/learner.cc:1095: Starting in XGBoost 1.3.0, the default evaluation metric used with the objective 'binary:logistic' was changed from 'error' to 'logloss'. Explicitly set eval_metric if you'd like to restore the old behavior.\n",
      "              precision    recall  f1-score   support\n",
      "\n",
      "         0.0       0.00      0.00      0.00         0\n",
      "         1.0       1.00      0.50      0.67       174\n",
      "\n",
      "    accuracy                           0.50       174\n",
      "   macro avg       0.50      0.25      0.33       174\n",
      "weighted avg       1.00      0.50      0.67       174\n",
      "\n"
     ]
    }
   ],
   "source": [
    "# xgboost for classification\n",
    "from numpy import asarray\n",
    "from numpy import mean\n",
    "from numpy import std\n",
    "# from sklearn.datasets import make_classification\n",
    "from xgboost import XGBClassifier\n",
    "from sklearn.model_selection import cross_val_score\n",
    "from sklearn.model_selection import RepeatedStratifiedKFold\n",
    "from matplotlib import pyplot\n",
    "# define dataset\n",
    "# X, y = make_classification(n_samples=1000, n_features=10, n_informative=5, n_redundant=5, random_state=1)\n",
    "# evaluate the model\n",
    "# model = XGBClassifier()\n",
    "# cv = RepeatedStratifiedKFold(n_splits=10, n_repeats=3, random_state=1)\n",
    "# n_scores = cross_val_score(model, features, y_train, scoring='accuracy', cv=cv, n_jobs=-1, error_score='raise')\n",
    "# print('Accuracy: %.3f (%.3f)' % (mean(n_scores), std(n_scores)))\n",
    "# fit the model on the whole dataset\n",
    "model = XGBClassifier()\n",
    "model.fit(features, y_train)\n",
    "# make a single prediction\n",
    "yhat = model.predict(features2)\n",
    "print(classification_report(yhat,y_test))"
   ]
  },
  {
   "cell_type": "code",
   "execution_count": 235,
   "id": "71ZGaSpPutCB",
   "metadata": {
    "colab": {
     "base_uri": "https://localhost:8080/"
    },
    "id": "71ZGaSpPutCB",
    "outputId": "da7db305-08d0-4720-8d64-76ce9a8b6d76"
   },
   "outputs": [
    {
     "name": "stdout",
     "output_type": "stream",
     "text": [
      "              precision    recall  f1-score   support\n",
      "\n",
      "         0.0       0.34      0.52      0.41        58\n",
      "         1.0       0.68      0.51      0.58       116\n",
      "\n",
      "    accuracy                           0.51       174\n",
      "   macro avg       0.51      0.51      0.50       174\n",
      "weighted avg       0.57      0.51      0.53       174\n",
      "\n"
     ]
    }
   ],
   "source": [
    "# lightgbm for classification\n",
    "from numpy import mean\n",
    "from numpy import std\n",
    "# from sklearn.datasets import make_classification\n",
    "from lightgbm import LGBMClassifier\n",
    "from sklearn.model_selection import cross_val_score\n",
    "from sklearn.model_selection import RepeatedStratifiedKFold\n",
    "from matplotlib import pyplot\n",
    "# evaluate the model\n",
    "# model = LGBMClassifier()\n",
    "# cv = RepeatedStratifiedKFold(n_splits=10, n_repeats=3, random_state=1)\n",
    "# n_scores = cross_val_score(model, features, y_train, scoring='accuracy', cv=cv, n_jobs=-1, error_score='raise')\n",
    "# print('Accuracy: %.3f (%.3f)' % (mean(n_scores), std(n_scores)))\n",
    "# fit the model on the whole dataset\n",
    "model = LGBMClassifier()\n",
    "model.fit(features, y_train)\n",
    "# make a single prediction\n",
    "yhat = model.predict(features2)\n",
    "print(classification_report(yhat,y_test))"
   ]
  },
  {
   "cell_type": "code",
   "execution_count": null,
   "id": "ZLWT-1RtutCB",
   "metadata": {
    "id": "ZLWT-1RtutCB"
   },
   "outputs": [],
   "source": []
  },
  {
   "cell_type": "markdown",
   "id": "VoP0_tbUmPcu",
   "metadata": {
    "id": "VoP0_tbUmPcu"
   },
   "source": [
    "# Models rfe features"
   ]
  },
  {
   "cell_type": "code",
   "execution_count": 134,
   "id": "ZAFnTYc2mPc1",
   "metadata": {
    "id": "ZAFnTYc2mPc1"
   },
   "outputs": [],
   "source": [
    "import pandas as pd\n",
    "import numpy as np\n",
    "from sklearn.linear_model import LogisticRegression\n",
    "from sklearn import svm\n",
    "from sklearn import tree\n",
    "from sklearn.ensemble import RandomForestClassifier\n",
    "from sklearn.neighbors import KNeighborsClassifier\n",
    "from xgboost import XGBClassifier\n",
    "from sklearn.model_selection import train_test_split\n",
    "from sklearn.neural_network import MLPClassifier\n",
    "from sklearn.preprocessing import StandardScaler\n",
    "import seaborn as sns\n",
    "import matplotlib.pyplot as plt\n",
    "from sklearn.metrics import accuracy_score\n",
    "from sklearn.feature_selection import SelectFromModel\n",
    "\n",
    "from sklearn.decomposition import PCA\n",
    "from sklearn.manifold import TSNE\n",
    "%matplotlib inline\n",
    "import matplotlib.pyplot as plt\n",
    "from mpl_toolkits.mplot3d import Axes3D\n",
    "\n",
    "\n",
    "\n",
    "import warnings\n",
    "warnings.filterwarnings('ignore')"
   ]
  },
  {
   "cell_type": "code",
   "execution_count": 152,
   "id": "7bI-4T2qmPc1",
   "metadata": {
    "id": "7bI-4T2qmPc1"
   },
   "outputs": [],
   "source": [
    "features = X_train[rfe_feature]\n",
    "features2 = X_test[rfe_feature]"
   ]
  },
  {
   "cell_type": "code",
   "execution_count": 153,
   "id": "xMvcCaO_mPc2",
   "metadata": {
    "colab": {
     "base_uri": "https://localhost:8080/"
    },
    "id": "xMvcCaO_mPc2",
    "outputId": "327711eb-8f6a-4f0f-b1c3-9f76d2ec4d71"
   },
   "outputs": [
    {
     "data": {
      "text/plain": [
       "0"
      ]
     },
     "execution_count": 153,
     "metadata": {},
     "output_type": "execute_result"
    }
   ],
   "source": [
    "features.isna().sum().sum()"
   ]
  },
  {
   "cell_type": "code",
   "execution_count": 154,
   "id": "6HIGdTFWmPc2",
   "metadata": {
    "colab": {
     "base_uri": "https://localhost:8080/"
    },
    "id": "6HIGdTFWmPc2",
    "outputId": "0e617e5f-b459-4446-fcc9-b5e02c8aa963"
   },
   "outputs": [
    {
     "data": {
      "text/plain": [
       "0"
      ]
     },
     "execution_count": 154,
     "metadata": {},
     "output_type": "execute_result"
    }
   ],
   "source": [
    "X_test.isna().sum().sum()"
   ]
  },
  {
   "cell_type": "code",
   "execution_count": 138,
   "id": "3oKAnumSmPc2",
   "metadata": {
    "colab": {
     "base_uri": "https://localhost:8080/"
    },
    "id": "3oKAnumSmPc2",
    "outputId": "b79d069c-9db2-4477-e785-adedd15956a5"
   },
   "outputs": [
    {
     "name": "stdout",
     "output_type": "stream",
     "text": [
      "              precision    recall  f1-score   support\n",
      "\n",
      "           0       0.64      0.49      0.56        59\n",
      "           1       0.29      0.43      0.34        28\n",
      "\n",
      "    accuracy                           0.47        87\n",
      "   macro avg       0.47      0.46      0.45        87\n",
      "weighted avg       0.53      0.47      0.49        87\n",
      "\n"
     ]
    }
   ],
   "source": [
    "from sklearn.model_selection import cross_val_score\n",
    "# from sklearn.datasets import load_iris\n",
    "from sklearn.ensemble import AdaBoostClassifier\n",
    "\n",
    "# X, y = load_iris(return_X_y=True)\n",
    "clf = AdaBoostClassifier()\n",
    "# scores = cross_val_score(clf, features, y_train, cv=5)\n",
    "# print(scores.mean())\n",
    "clf.fit(features, y_train)\n",
    "y_pred = (clf.predict(features2)>0.5).astype(int)\n",
    "from sklearn.metrics import classification_report\n",
    "print(classification_report(y_pred,y_test))\n"
   ]
  },
  {
   "cell_type": "code",
   "execution_count": 139,
   "id": "pUUQ50WxmPc2",
   "metadata": {
    "colab": {
     "base_uri": "https://localhost:8080/"
    },
    "id": "pUUQ50WxmPc2",
    "outputId": "119b34ca-d047-44e4-af08-07820e8fc607"
   },
   "outputs": [
    {
     "name": "stdout",
     "output_type": "stream",
     "text": [
      "              precision    recall  f1-score   support\n",
      "\n",
      "         0.0       0.56      0.64      0.60        45\n",
      "         1.0       0.54      0.45      0.49        42\n",
      "\n",
      "    accuracy                           0.55        87\n",
      "   macro avg       0.55      0.55      0.55        87\n",
      "weighted avg       0.55      0.55      0.55        87\n",
      "\n"
     ]
    }
   ],
   "source": [
    "from sklearn.svm import SVC\n",
    "\n",
    "svclassifier = SVC(gamma='auto')\n",
    "svclassifier.fit(features, y_train)\n",
    "y_pred = svclassifier.predict(features2)\n",
    "print(classification_report(y_test, y_pred))"
   ]
  },
  {
   "cell_type": "code",
   "execution_count": 140,
   "id": "12141LsmmPc3",
   "metadata": {
    "colab": {
     "base_uri": "https://localhost:8080/"
    },
    "id": "12141LsmmPc3",
    "outputId": "2b824337-feab-4105-b9d0-c797884bbfec"
   },
   "outputs": [
    {
     "name": "stdout",
     "output_type": "stream",
     "text": [
      "Accuracy: 0.62 (+/- 0.02) [DecisionTreeClassifier]\n",
      "Accuracy: 0.68 (+/- 0.03) [KNNClassifier]\n",
      "Accuracy: 0.72 (+/- 0.03) [SVC]\n",
      "Accuracy: 0.65 (+/- 0.03) [voting]\n"
     ]
    }
   ],
   "source": [
    "from sklearn import datasets\n",
    "from sklearn.tree import DecisionTreeClassifier\n",
    "from sklearn.neighbors import KNeighborsClassifier\n",
    "from sklearn.svm import SVC\n",
    "from itertools import product\n",
    "from sklearn.ensemble import VotingClassifier\n",
    "\n",
    "\n",
    "clf1 = DecisionTreeClassifier()\n",
    "clf2 = KNeighborsClassifier()\n",
    "clf3 = SVC(kernel='rbf', probability=True)\n",
    "eclf = VotingClassifier(estimators=[('dt', clf1), ('knn', clf2), ('svc', clf3)],\n",
    "                        voting='soft', weights=[2, 2, 2])\n",
    "\n",
    "clf1 = clf1.fit(features, y_train)\n",
    "clf2 = clf2.fit(features, y_train)\n",
    "clf3 = clf3.fit(features, y_train)\n",
    "eclf = eclf.fit(features, y_train)\n",
    "\n",
    "for clf, label in zip([clf1, clf2, clf3, eclf], ['DecisionTreeClassifier', 'KNNClassifier', 'SVC', 'voting']):\n",
    "    scores = cross_val_score(clf, features, y_train, scoring='accuracy', cv=5)\n",
    "    print(\"Accuracy: %0.2f (+/- %0.2f) [%s]\" % (scores.mean(), scores.std(), label))"
   ]
  },
  {
   "cell_type": "code",
   "execution_count": 155,
   "id": "9ba5121f",
   "metadata": {},
   "outputs": [
    {
     "name": "stdout",
     "output_type": "stream",
     "text": [
      "Support Vector Classifier score is 55.172413793103445%\n",
      "\n",
      "              precision    recall  f1-score   support\n",
      "\n",
      "         0.0       0.56      0.64      0.60        45\n",
      "         1.0       0.54      0.45      0.49        42\n",
      "\n",
      "    accuracy                           0.55        87\n",
      "   macro avg       0.55      0.55      0.55        87\n",
      "weighted avg       0.55      0.55      0.55        87\n",
      "\n"
     ]
    }
   ],
   "source": [
    "svc = SVC(kernel='rbf', probability=True)\n",
    "svc.fit(features, y_train)\n",
    "predictionsSVC = svc.predict(features2)\n",
    "scoreSVC = accuracy_score(y_test, predictionsSVC)\n",
    "print(f\"Support Vector Classifier score is {scoreSVC * 100}%\\n\")\n",
    "print(classification_report(y_test,predictionsSVC))"
   ]
  },
  {
   "cell_type": "code",
   "execution_count": 141,
   "id": "ft02PlTrmPc3",
   "metadata": {
    "colab": {
     "base_uri": "https://localhost:8080/",
     "height": 827
    },
    "id": "ft02PlTrmPc3",
    "outputId": "2c17b87c-c92c-497f-eb33-043862725a7a"
   },
   "outputs": [
    {
     "name": "stdout",
     "output_type": "stream",
     "text": [
      "Logistic Regression score is 55.172413793103445% \n",
      "\n",
      "Support Vector Classifier score is 55.172413793103445%\n",
      "\n",
      "Decision Tree Classifier score is 51.724137931034484%\n",
      "\n",
      "Random Forest Classifier score is 48.275862068965516%\n",
      "\n",
      "KNN Classifier score is 44.827586206896555% with k = 1\n",
      "KNN Classifier score is 45.97701149425287% with k = 2\n",
      "KNN Classifier score is 45.97701149425287% with k = 3\n",
      "KNN Classifier score is 51.724137931034484% with k = 4\n",
      "KNN Classifier score is 50.57471264367817% with k = 5\n",
      "KNN Classifier score is 51.724137931034484% with k = 6\n",
      "KNN Classifier score is 45.97701149425287% with k = 7\n",
      "KNN Classifier score is 43.67816091954023% with k = 8\n",
      "KNN Classifier score is 44.827586206896555% with k = 9\n",
      "KNN Classifier score is 44.827586206896555% with k = 10\n",
      "KNN Classifier score is 44.827586206896555% with k = 11\n",
      "KNN Classifier score is 44.827586206896555% with k = 12\n",
      "KNN Classifier score is 44.827586206896555% with k = 13\n",
      "KNN Classifier score is 49.42528735632184% with k = 14\n",
      "KNN Classifier score is 45.97701149425287% with k = 15\n",
      "KNN Classifier score is 49.42528735632184% with k = 16\n",
      "KNN Classifier score is 43.67816091954023% with k = 17\n",
      "KNN Classifier score is 47.12643678160919% with k = 18\n",
      "KNN Classifier score is 44.827586206896555% with k = 19\n"
     ]
    },
    {
     "data": {
      "image/png": "[encoded data removed]",
      "text/plain": [
       "<Figure size 432x288 with 1 Axes>"
      ]
     },
     "metadata": {
      "needs_background": "light"
     },
     "output_type": "display_data"
    },
    {
     "name": "stdout",
     "output_type": "stream",
     "text": [
      "\n",
      "MLP Classifier score is 49.42528735632184%\n",
      "\n"
     ]
    }
   ],
   "source": [
    "# fitting logistic regression\n",
    "lr = LogisticRegression()\n",
    "lr.fit(features, y_train)\n",
    "predictionsLR = lr.predict(features2)\n",
    "scoreLR = accuracy_score(y_test, predictionsLR)\n",
    "print(f\"Logistic Regression score is {scoreLR * 100}% \\n\")\n",
    "\n",
    "# fitting SVC\n",
    "svc = svm.LinearSVC()\n",
    "svc.fit(features, y_train)\n",
    "predictionsSVC = svc.predict(features2)\n",
    "scoreSVC = accuracy_score(y_test, predictionsSVC)\n",
    "print(f\"Support Vector Classifier score is {scoreSVC * 100}%\\n\")\n",
    "\n",
    "# fitting decision tree classifier\n",
    "clf = tree.DecisionTreeClassifier()\n",
    "clf.fit(features, y_train)\n",
    "predictionsTree = clf.predict(features2)\n",
    "scoreTree = accuracy_score(y_test, predictionsTree)\n",
    "print(f\"Decision Tree Classifier score is {scoreTree * 100}%\\n\")\n",
    "\n",
    "# fitting Random Forest classifier\n",
    "clf1 = RandomForestClassifier(max_features=23)\n",
    "clf1.fit(features, y_train)\n",
    "predictionsTree1 = clf1.predict(features2)\n",
    "scoreTree1 = accuracy_score(y_test, predictionsTree1)\n",
    "print(f\"Random Forest Classifier score is {scoreTree1 * 100}%\\n\")\n",
    "\n",
    "# fitting XGBoost\n",
    "# xgb = XGBClassifier()\n",
    "# xgb.fit(features.to_numpy(), y_train)\n",
    "# predictionsXGB = xgb.predict(X_test)\n",
    "# predictionsXGB = (predictionsXGB>0.5).astype(int)\n",
    "# scoreXGB = accuracy_score(y_test, predictionsXGB)\n",
    "# print(f\"XG Boost Classifier score is {scoreXGB * 100}%\\n\")\n",
    "\n",
    "# fitting KNN Classifier\n",
    "K = range(1, 20)\n",
    "acc = []\n",
    "for k in K:\n",
    "    knn = KNeighborsClassifier(n_neighbors=k)\n",
    "    knn.fit(features, y_train)\n",
    "    predictionsKNN = knn.predict(features2)\n",
    "    scoreKNN = accuracy_score(y_test, predictionsKNN)\n",
    "    print(f\"KNN Classifier score is {scoreKNN * 100}% with k = {k}\")\n",
    "    acc.append(scoreKNN*100)\n",
    "\n",
    "# Elbow plot:\n",
    "plt.plot(K, acc)\n",
    "plt.xlabel('K')\n",
    "plt.ylabel('Accuracy')\n",
    "plt.title(\"Elbow Curve without feature selection for Inter-Reseach Area\")\n",
    "\n",
    "plt.show()\n",
    "\n",
    "# MLP / ANN\n",
    "classifier = MLPClassifier(hidden_layer_sizes=(128, 64), max_iter=300, activation='relu', solver='adam', random_state=1)\n",
    "classifier.fit(features, y_train)\n",
    "predictionsMLP = classifier.predict(features2)\n",
    "scoreMLP = accuracy_score(y_test, predictionsMLP)\n",
    "print(f\"\\nMLP Classifier score is {scoreMLP * 100}%\\n\")"
   ]
  },
  {
   "cell_type": "code",
   "execution_count": 147,
   "id": "yc8ST0-KmPc3",
   "metadata": {
    "colab": {
     "base_uri": "https://localhost:8080/"
    },
    "id": "yc8ST0-KmPc3",
    "outputId": "70a837cf-0a7a-46c1-d476-e1e6a5a43af8"
   },
   "outputs": [
    {
     "name": "stdout",
     "output_type": "stream",
     "text": [
      "Number of mislabeled points out of a total 87 points : 38\n"
     ]
    }
   ],
   "source": [
    "from sklearn.naive_bayes import GaussianNB\n",
    "gnb = GaussianNB()\n",
    "y_pred = gnb.fit(features, y_train).predict(features2)\n",
    "print(\"Number of mislabeled points out of a total %d points : %d\"\n",
    "      % (X_test.shape[0], (y_test != y_pred).sum()))"
   ]
  },
  {
   "cell_type": "code",
   "execution_count": 148,
   "id": "db697daf",
   "metadata": {},
   "outputs": [
    {
     "name": "stdout",
     "output_type": "stream",
     "text": [
      "              precision    recall  f1-score   support\n",
      "\n",
      "         0.0       0.87      0.55      0.67        71\n",
      "         1.0       0.24      0.62      0.34        16\n",
      "\n",
      "    accuracy                           0.56        87\n",
      "   macro avg       0.55      0.59      0.51        87\n",
      "weighted avg       0.75      0.56      0.61        87\n",
      "\n"
     ]
    }
   ],
   "source": [
    "print(classification_report(y_pred,y_test))"
   ]
  },
  {
   "cell_type": "code",
   "execution_count": 143,
   "id": "MzUZBG3OmPc3",
   "metadata": {
    "colab": {
     "base_uri": "https://localhost:8080/"
    },
    "id": "MzUZBG3OmPc3",
    "outputId": "ebb3f185-8cfd-40c0-b260-ffda72b5b491"
   },
   "outputs": [
    {
     "name": "stdout",
     "output_type": "stream",
     "text": [
      "              precision    recall  f1-score   support\n",
      "\n",
      "         0.0       0.64      0.57      0.60        51\n",
      "         1.0       0.48      0.56      0.51        36\n",
      "\n",
      "    accuracy                           0.56        87\n",
      "   macro avg       0.56      0.56      0.56        87\n",
      "weighted avg       0.57      0.56      0.57        87\n",
      "\n"
     ]
    }
   ],
   "source": [
    "from numpy import mean\n",
    "from numpy import std\n",
    "from sklearn.datasets import make_classification\n",
    "from sklearn.ensemble import GradientBoostingClassifier\n",
    "from sklearn.model_selection import cross_val_score\n",
    "from sklearn.model_selection import RepeatedStratifiedKFold\n",
    "from matplotlib import pyplot\n",
    "# define dataset\n",
    "# X, y = make_classification(n_samples=1000, n_features=10, n_informative=5, n_redundant=5, random_state=1)\n",
    "# evaluate the model\n",
    "# model = GradientBoostingClassifier()\n",
    "# cv = RepeatedStratifiedKFold(n_splits=10, n_repeats=3, random_state=1)\n",
    "# n_scores = cross_val_score(model, X_train, y_train, scoring='accuracy', cv=cv, n_jobs=-1, error_score='raise')\n",
    "# print('Accuracy: %.3f (%.3f)' % (mean(n_scores), std(n_scores)))\n",
    "# fit the model on the whole dataset\n",
    "model = GradientBoostingClassifier()\n",
    "model.fit(features, y_train)\n",
    "# make a single prediction\n",
    "# row = [[2.56999479, -0.13019997, 3.16075093, -4.35936352, -1.61271951, -1.39352057, -2.48924933, -1.93094078, 3.26130366, 2.05692145]]\n",
    "yhat = model.predict(features2)\n",
    "\n",
    "print(classification_report(yhat,y_test))"
   ]
  },
  {
   "cell_type": "code",
   "execution_count": 144,
   "id": "gl9ZEeFImPc4",
   "metadata": {
    "colab": {
     "base_uri": "https://localhost:8080/"
    },
    "id": "gl9ZEeFImPc4",
    "outputId": "d130c683-b2eb-4b37-b00e-6a33d3ef5ad6"
   },
   "outputs": [
    {
     "name": "stdout",
     "output_type": "stream",
     "text": [
      "              precision    recall  f1-score   support\n",
      "\n",
      "         0.0       0.58      0.50      0.54        52\n",
      "         1.0       0.38      0.46      0.42        35\n",
      "\n",
      "    accuracy                           0.48        87\n",
      "   macro avg       0.48      0.48      0.48        87\n",
      "weighted avg       0.50      0.48      0.49        87\n",
      "\n"
     ]
    }
   ],
   "source": [
    "# histogram-based gradient boosting for classification in scikit-learn\n",
    "from numpy import mean\n",
    "from numpy import std\n",
    "from sklearn.datasets import make_classification\n",
    "from sklearn.experimental import enable_hist_gradient_boosting\n",
    "from sklearn.ensemble import HistGradientBoostingClassifier\n",
    "from sklearn.model_selection import cross_val_score\n",
    "from sklearn.model_selection import RepeatedStratifiedKFold\n",
    "from matplotlib import pyplot\n",
    "# evaluate the model\n",
    "# model = HistGradientBoostingClassifier()\n",
    "# cv = RepeatedStratifiedKFold(n_splits=10, n_repeats=3, random_state=1)\n",
    "# n_scores = cross_val_score(model, features, y_train, scoring='accuracy', cv=cv, n_jobs=-1, error_score='raise')\n",
    "# print('Accuracy: %.3f (%.3f)' % (mean(n_scores), std(n_scores)))\n",
    "# fit the model on the whole dataset\n",
    "model = HistGradientBoostingClassifier()\n",
    "model.fit(features, y_train)\n",
    "# make a single prediction\n",
    "yhat = model.predict(features2)\n",
    "print(classification_report(yhat,y_test))"
   ]
  },
  {
   "cell_type": "code",
   "execution_count": 145,
   "id": "chk-JdFmmPc4",
   "metadata": {
    "colab": {
     "base_uri": "https://localhost:8080/",
     "height": 387
    },
    "id": "chk-JdFmmPc4",
    "outputId": "bb271dec-ea1e-4d10-f2c6-1512a8968b2e"
   },
   "outputs": [
    {
     "name": "stdout",
     "output_type": "stream",
     "text": [
      "[11:27:53] WARNING: C:/Users/Administrator/workspace/xgboost-win64_release_1.4.0/src/learner.cc:1095: Starting in XGBoost 1.3.0, the default evaluation metric used with the objective 'binary:logistic' was changed from 'error' to 'logloss'. Explicitly set eval_metric if you'd like to restore the old behavior.\n",
      "              precision    recall  f1-score   support\n",
      "\n",
      "         0.0       0.56      0.52      0.54        48\n",
      "         1.0       0.45      0.49      0.47        39\n",
      "\n",
      "    accuracy                           0.51        87\n",
      "   macro avg       0.50      0.50      0.50        87\n",
      "weighted avg       0.51      0.51      0.51        87\n",
      "\n"
     ]
    }
   ],
   "source": [
    "# xgboost for classification\n",
    "from numpy import asarray\n",
    "from numpy import mean\n",
    "from numpy import std\n",
    "from sklearn.datasets import make_classification\n",
    "from xgboost import XGBClassifier\n",
    "from sklearn.model_selection import cross_val_score\n",
    "from sklearn.model_selection import RepeatedStratifiedKFold\n",
    "from matplotlib import pyplot\n",
    "# define dataset\n",
    "X, y = make_classification(n_samples=1000, n_features=10, n_informative=5, n_redundant=5, random_state=1)\n",
    "# evaluate the model\n",
    "# model = XGBClassifier()\n",
    "# cv = RepeatedStratifiedKFold(n_splits=10, n_repeats=3, random_state=1)\n",
    "# n_scores = cross_val_score(model, features, y_train, scoring='accuracy', cv=cv, n_jobs=-1, error_score='raise')\n",
    "# print('Accuracy: %.3f (%.3f)' % (mean(n_scores), std(n_scores)))\n",
    "# fit the model on the whole dataset\n",
    "model = XGBClassifier()\n",
    "model.fit(features, y_train)\n",
    "# make a single prediction\n",
    "yhat = model.predict(features2)\n",
    "print(classification_report(yhat,y_test))"
   ]
  },
  {
   "cell_type": "code",
   "execution_count": 146,
   "id": "yTS9Ii_zmPc4",
   "metadata": {
    "colab": {
     "base_uri": "https://localhost:8080/"
    },
    "id": "yTS9Ii_zmPc4",
    "outputId": "b8e75f5b-28f3-48ed-8c5f-16b05301df9f"
   },
   "outputs": [
    {
     "name": "stdout",
     "output_type": "stream",
     "text": [
      "              precision    recall  f1-score   support\n",
      "\n",
      "         0.0       0.56      0.48      0.52        52\n",
      "         1.0       0.36      0.43      0.39        35\n",
      "\n",
      "    accuracy                           0.46        87\n",
      "   macro avg       0.46      0.45      0.45        87\n",
      "weighted avg       0.48      0.46      0.46        87\n",
      "\n"
     ]
    }
   ],
   "source": [
    "# lightgbm for classification\n",
    "from numpy import mean\n",
    "from numpy import std\n",
    "from sklearn.datasets import make_classification\n",
    "from lightgbm import LGBMClassifier\n",
    "from sklearn.model_selection import cross_val_score\n",
    "from sklearn.model_selection import RepeatedStratifiedKFold\n",
    "from matplotlib import pyplot\n",
    "# evaluate the model\n",
    "# model = LGBMClassifier()\n",
    "# cv = RepeatedStratifiedKFold(n_splits=10, n_repeats=3, random_state=1)\n",
    "# n_scores = cross_val_score(model, features, y_train, scoring='accuracy', cv=cv, n_jobs=-1, error_score='raise')\n",
    "# print('Accuracy: %.3f (%.3f)' % (mean(n_scores), std(n_scores)))\n",
    "# fit the model on the whole dataset\n",
    "model = LGBMClassifier()\n",
    "model.fit(features, y_train)\n",
    "# make a single prediction\n",
    "yhat = model.predict(features2)\n",
    "print(classification_report(yhat,y_test))"
   ]
  },
  {
   "cell_type": "code",
   "execution_count": 134,
   "id": "RKVX4MyBmPc4",
   "metadata": {
    "id": "RKVX4MyBmPc4"
   },
   "outputs": [],
   "source": []
  },
  {
   "cell_type": "markdown",
   "id": "1r_X3Et_owwx",
   "metadata": {
    "id": "1r_X3Et_owwx"
   },
   "source": [
    "# Models embed"
   ]
  },
  {
   "cell_type": "code",
   "execution_count": 266,
   "id": "pPK2Yxltoww6",
   "metadata": {
    "id": "pPK2Yxltoww6"
   },
   "outputs": [],
   "source": [
    "import pandas as pd\n",
    "import numpy as np\n",
    "from sklearn.linear_model import LogisticRegression\n",
    "from sklearn import svm\n",
    "from sklearn import tree\n",
    "from sklearn.ensemble import RandomForestClassifier\n",
    "from sklearn.neighbors import KNeighborsClassifier\n",
    "from xgboost import XGBClassifier\n",
    "from sklearn.model_selection import train_test_split\n",
    "from sklearn.neural_network import MLPClassifier\n",
    "from sklearn.preprocessing import StandardScaler\n",
    "import seaborn as sns\n",
    "import matplotlib.pyplot as plt\n",
    "from sklearn.metrics import accuracy_score\n",
    "from sklearn.feature_selection import SelectFromModel\n",
    "\n",
    "from sklearn.decomposition import PCA\n",
    "from sklearn.manifold import TSNE\n",
    "%matplotlib inline\n",
    "import matplotlib.pyplot as plt\n",
    "from mpl_toolkits.mplot3d import Axes3D\n",
    "\n",
    "\n",
    "\n",
    "import warnings\n",
    "warnings.filterwarnings('ignore')"
   ]
  },
  {
   "cell_type": "code",
   "execution_count": 267,
   "id": "nIWGQWBOoww6",
   "metadata": {
    "id": "nIWGQWBOoww6"
   },
   "outputs": [],
   "source": [
    "features = X_train[embeded_lr_feature]\n",
    "features2 = X_test[embeded_lr_feature]"
   ]
  },
  {
   "cell_type": "code",
   "execution_count": 268,
   "id": "NHYfxjl7oww6",
   "metadata": {
    "colab": {
     "base_uri": "https://localhost:8080/"
    },
    "id": "NHYfxjl7oww6",
    "outputId": "da6939bb-d592-4436-fa01-ea7bd295481e"
   },
   "outputs": [
    {
     "data": {
      "text/plain": [
       "0"
      ]
     },
     "execution_count": 268,
     "metadata": {},
     "output_type": "execute_result"
    }
   ],
   "source": [
    "features.isna().sum().sum()"
   ]
  },
  {
   "cell_type": "code",
   "execution_count": 269,
   "id": "9-7uYPMDoww7",
   "metadata": {
    "colab": {
     "base_uri": "https://localhost:8080/"
    },
    "id": "9-7uYPMDoww7",
    "outputId": "353d454a-29b9-4322-de7f-3043930e8af5"
   },
   "outputs": [
    {
     "data": {
      "text/plain": [
       "0"
      ]
     },
     "execution_count": 269,
     "metadata": {},
     "output_type": "execute_result"
    }
   ],
   "source": [
    "X_test.isna().sum().sum()"
   ]
  },
  {
   "cell_type": "code",
   "execution_count": 270,
   "id": "gpV4yAsvoww7",
   "metadata": {
    "colab": {
     "base_uri": "https://localhost:8080/"
    },
    "id": "gpV4yAsvoww7",
    "outputId": "01cc12c2-a00f-490a-9f5e-35c720e0a380"
   },
   "outputs": [
    {
     "name": "stdout",
     "output_type": "stream",
     "text": [
      "              precision    recall  f1-score   support\n",
      "\n",
      "           0       0.40      0.55      0.46        64\n",
      "           1       0.67      0.53      0.59       110\n",
      "\n",
      "    accuracy                           0.53       174\n",
      "   macro avg       0.53      0.54      0.53       174\n",
      "weighted avg       0.57      0.53      0.54       174\n",
      "\n"
     ]
    }
   ],
   "source": [
    "from sklearn.model_selection import cross_val_score\n",
    "# from sklearn.datasets import load_iris\n",
    "from sklearn.ensemble import AdaBoostClassifier\n",
    "\n",
    "# X, y = load_iris(return_X_y=True)\n",
    "clf = AdaBoostClassifier()\n",
    "# scores = cross_val_score(clf, features, y_train, cv=5)\n",
    "# print(scores.mean())\n",
    "clf.fit(features, y_train)\n",
    "y_pred = (clf.predict(features2)>0.5).astype(int)\n",
    "from sklearn.metrics import classification_report\n",
    "print(classification_report(y_pred,y_test))\n"
   ]
  },
  {
   "cell_type": "code",
   "execution_count": 271,
   "id": "AAJHjOUvoww7",
   "metadata": {
    "colab": {
     "base_uri": "https://localhost:8080/"
    },
    "id": "AAJHjOUvoww7",
    "outputId": "42a5dccf-450f-428e-a326-f4e29fd0147e"
   },
   "outputs": [
    {
     "name": "stdout",
     "output_type": "stream",
     "text": [
      "              precision    recall  f1-score   support\n",
      "\n",
      "         0.0       0.52      0.37      0.43        87\n",
      "         1.0       0.51      0.66      0.57        87\n",
      "\n",
      "    accuracy                           0.51       174\n",
      "   macro avg       0.51      0.51      0.50       174\n",
      "weighted avg       0.51      0.51      0.50       174\n",
      "\n"
     ]
    }
   ],
   "source": [
    "from sklearn.svm import SVC\n",
    "\n",
    "svclassifier = SVC(gamma='auto')\n",
    "svclassifier.fit(features, y_train)\n",
    "y_pred = svclassifier.predict(features2)\n",
    "print(classification_report(y_test, y_pred))"
   ]
  },
  {
   "cell_type": "code",
   "execution_count": 272,
   "id": "Zc-QrRafoww7",
   "metadata": {
    "colab": {
     "base_uri": "https://localhost:8080/"
    },
    "id": "Zc-QrRafoww7",
    "outputId": "b70423ec-217b-4c83-df64-985cb4bdbc79"
   },
   "outputs": [
    {
     "name": "stdout",
     "output_type": "stream",
     "text": [
      "Accuracy: 0.55 (+/- 0.03) [DecisionTreeClassifier]\n",
      "Accuracy: 0.55 (+/- 0.04) [KNNClassifier]\n",
      "Accuracy: 0.60 (+/- 0.03) [SVC]\n",
      "Accuracy: 0.56 (+/- 0.04) [voting]\n"
     ]
    }
   ],
   "source": [
    "from sklearn import datasets\n",
    "from sklearn.tree import DecisionTreeClassifier\n",
    "from sklearn.neighbors import KNeighborsClassifier\n",
    "from sklearn.svm import SVC\n",
    "from itertools import product\n",
    "from sklearn.ensemble import VotingClassifier\n",
    "\n",
    "\n",
    "clf1 = DecisionTreeClassifier()\n",
    "clf2 = KNeighborsClassifier()\n",
    "clf3 = SVC(kernel='rbf', probability=True)\n",
    "eclf = VotingClassifier(estimators=[('dt', clf1), ('knn', clf2), ('svc', clf3)],\n",
    "                        voting='soft', weights=[2, 2, 2])\n",
    "\n",
    "clf1 = clf1.fit(features, y_train)\n",
    "clf2 = clf2.fit(features, y_train)\n",
    "clf3 = clf3.fit(features, y_train)\n",
    "eclf = eclf.fit(features, y_train)\n",
    "\n",
    "for clf, label in zip([clf1, clf2, clf3, eclf], ['DecisionTreeClassifier', 'KNNClassifier', 'SVC', 'voting']):\n",
    "    scores = cross_val_score(clf, features, y_train, scoring='accuracy', cv=5)\n",
    "    print(\"Accuracy: %0.2f (+/- %0.2f) [%s]\" % (scores.mean(), scores.std(), label))"
   ]
  },
  {
   "cell_type": "code",
   "execution_count": 283,
   "id": "Eq9XOSgqoww8",
   "metadata": {
    "colab": {
     "base_uri": "https://localhost:8080/",
     "height": 827
    },
    "id": "Eq9XOSgqoww8",
    "outputId": "71677c5e-90c3-4307-e3f8-d80b7348b426"
   },
   "outputs": [
    {
     "name": "stdout",
     "output_type": "stream",
     "text": [
      "Logistic Regression score is 58.620689655172406% \n",
      "\n",
      "Support Vector Classifier score is 57.47126436781609%\n",
      "\n",
      "Decision Tree Classifier score is 45.97701149425287%\n",
      "\n",
      "Random Forest Classifier score is 54.59770114942529%\n",
      "\n",
      "KNN Classifier score is 55.172413793103445% with k = 1\n",
      "KNN Classifier score is 58.04597701149425% with k = 2\n",
      "KNN Classifier score is 55.172413793103445% with k = 3\n",
      "KNN Classifier score is 48.275862068965516% with k = 4\n",
      "KNN Classifier score is 51.14942528735632% with k = 5\n",
      "KNN Classifier score is 52.29885057471264% with k = 6\n",
      "KNN Classifier score is 52.87356321839081% with k = 7\n",
      "KNN Classifier score is 55.172413793103445% with k = 8\n",
      "KNN Classifier score is 53.44827586206896% with k = 9\n",
      "KNN Classifier score is 52.29885057471264% with k = 10\n",
      "KNN Classifier score is 51.14942528735632% with k = 11\n",
      "KNN Classifier score is 54.02298850574713% with k = 12\n",
      "KNN Classifier score is 48.85057471264368% with k = 13\n",
      "KNN Classifier score is 52.29885057471264% with k = 14\n",
      "KNN Classifier score is 49.42528735632184% with k = 15\n",
      "KNN Classifier score is 50.0% with k = 16\n",
      "KNN Classifier score is 46.55172413793103% with k = 17\n",
      "KNN Classifier score is 51.14942528735632% with k = 18\n",
      "KNN Classifier score is 47.12643678160919% with k = 19\n"
     ]
    },
    {
     "data": {
      "image/png": "[encoded data removed]",
      "text/plain": [
       "<Figure size 432x288 with 1 Axes>"
      ]
     },
     "metadata": {
      "needs_background": "light"
     },
     "output_type": "display_data"
    },
    {
     "name": "stdout",
     "output_type": "stream",
     "text": [
      "\n",
      "MLP Classifier score is 63.793103448275865%\n",
      "\n"
     ]
    }
   ],
   "source": [
    "# fitting logistic regression\n",
    "lr = LogisticRegression()\n",
    "lr.fit(features, y_train)\n",
    "predictionsLR = lr.predict(features2)\n",
    "scoreLR = accuracy_score(y_test, predictionsLR)\n",
    "print(f\"Logistic Regression score is {scoreLR * 100}% \\n\")\n",
    "\n",
    "# fitting SVC\n",
    "svc = svm.LinearSVC()\n",
    "svc.fit(features, y_train)\n",
    "predictionsSVC = svc.predict(features2)\n",
    "scoreSVC = accuracy_score(y_test, predictionsSVC)\n",
    "print(f\"Support Vector Classifier score is {scoreSVC * 100}%\\n\")\n",
    "\n",
    "# fitting decision tree classifier\n",
    "clf = tree.DecisionTreeClassifier()\n",
    "clf.fit(features, y_train)\n",
    "predictionsTree = clf.predict(features2)\n",
    "scoreTree = accuracy_score(y_test, predictionsTree)\n",
    "print(f\"Decision Tree Classifier score is {scoreTree * 100}%\\n\")\n",
    "\n",
    "# fitting Random Forest classifier\n",
    "clf1 = RandomForestClassifier(max_features=23)\n",
    "clf1.fit(features, y_train)\n",
    "predictionsTree1 = clf1.predict(features2)\n",
    "scoreTree1 = accuracy_score(y_test, predictionsTree1)\n",
    "print(f\"Random Forest Classifier score is {scoreTree1 * 100}%\\n\")\n",
    "\n",
    "# fitting XGBoost\n",
    "# xgb = XGBClassifier()\n",
    "# xgb.fit(features.to_numpy(), y_train)\n",
    "# predictionsXGB = xgb.predict(X_test)\n",
    "# predictionsXGB = (predictionsXGB>0.5).astype(int)\n",
    "# scoreXGB = accuracy_score(y_test, predictionsXGB)\n",
    "# print(f\"XG Boost Classifier score is {scoreXGB * 100}%\\n\")\n",
    "\n",
    "# fitting KNN Classifier\n",
    "K = range(1, 20)\n",
    "acc = []\n",
    "for k in K:\n",
    "    knn = KNeighborsClassifier(n_neighbors=k)\n",
    "    knn.fit(features, y_train)\n",
    "    predictionsKNN = knn.predict(features2)\n",
    "    scoreKNN = accuracy_score(y_test, predictionsKNN)\n",
    "    print(f\"KNN Classifier score is {scoreKNN * 100}% with k = {k}\")\n",
    "    acc.append(scoreKNN*100)\n",
    "\n",
    "# Elbow plot:\n",
    "plt.plot(K, acc)\n",
    "plt.xlabel('K')\n",
    "plt.ylabel('Accuracy')\n",
    "plt.title(\"Elbow Curve without feature selection for Inter-Reseach Area\")\n",
    "\n",
    "plt.show()\n",
    "\n",
    "# MLP / ANN\n",
    "classifier = MLPClassifier(hidden_layer_sizes=(15,5), max_iter=300, activation='relu', solver='adam', random_state=1)\n",
    "classifier.fit(features, y_train)\n",
    "predictionsMLP = classifier.predict(features2)\n",
    "scoreMLP = accuracy_score(y_test, predictionsMLP)\n",
    "print(f\"\\nMLP Classifier score is {scoreMLP * 100}%\\n\")"
   ]
  },
  {
   "cell_type": "code",
   "execution_count": 274,
   "id": "6hGyZp0qoww8",
   "metadata": {
    "colab": {
     "base_uri": "https://localhost:8080/"
    },
    "id": "6hGyZp0qoww8",
    "outputId": "d6e255f4-7e11-4d9b-f9d6-e3bf7afa77f5"
   },
   "outputs": [
    {
     "name": "stdout",
     "output_type": "stream",
     "text": [
      "Number of mislabeled points out of a total 174 points : 85\n"
     ]
    }
   ],
   "source": [
    "from sklearn.naive_bayes import GaussianNB\n",
    "gnb = GaussianNB()\n",
    "y_pred = gnb.fit(features, y_train).predict(features2)\n",
    "print(\"Number of mislabeled points out of a total %d points : %d\"\n",
    "      % (X_test.shape[0], (y_test != y_pred).sum()))"
   ]
  },
  {
   "cell_type": "code",
   "execution_count": 275,
   "id": "3qjXatsCoww8",
   "metadata": {
    "colab": {
     "base_uri": "https://localhost:8080/"
    },
    "id": "3qjXatsCoww8",
    "outputId": "c0ce3641-71ae-4cf5-f773-5a0a062407f6"
   },
   "outputs": [
    {
     "name": "stdout",
     "output_type": "stream",
     "text": [
      "              precision    recall  f1-score   support\n",
      "\n",
      "         0.0       0.41      0.49      0.45        73\n",
      "         1.0       0.57      0.50      0.53       101\n",
      "\n",
      "    accuracy                           0.49       174\n",
      "   macro avg       0.49      0.49      0.49       174\n",
      "weighted avg       0.51      0.49      0.50       174\n",
      "\n"
     ]
    }
   ],
   "source": [
    "from numpy import mean\n",
    "from numpy import std\n",
    "from sklearn.datasets import make_classification\n",
    "from sklearn.ensemble import GradientBoostingClassifier\n",
    "from sklearn.model_selection import cross_val_score\n",
    "from sklearn.model_selection import RepeatedStratifiedKFold\n",
    "from matplotlib import pyplot\n",
    "# define dataset\n",
    "# X, y = make_classification(n_samples=1000, n_features=10, n_informative=5, n_redundant=5, random_state=1)\n",
    "# evaluate the model\n",
    "# model = GradientBoostingClassifier()\n",
    "# cv = RepeatedStratifiedKFold(n_splits=10, n_repeats=3, random_state=1)\n",
    "# n_scores = cross_val_score(model, X_train, y_train, scoring='accuracy', cv=cv, n_jobs=-1, error_score='raise')\n",
    "# print('Accuracy: %.3f (%.3f)' % (mean(n_scores), std(n_scores)))\n",
    "# fit the model on the whole dataset\n",
    "model = GradientBoostingClassifier()\n",
    "model.fit(features, y_train)\n",
    "# make a single prediction\n",
    "# row = [[2.56999479, -0.13019997, 3.16075093, -4.35936352, -1.61271951, -1.39352057, -2.48924933, -1.93094078, 3.26130366, 2.05692145]]\n",
    "yhat = model.predict(features2)\n",
    "\n",
    "print(classification_report(yhat,y_test))"
   ]
  },
  {
   "cell_type": "code",
   "execution_count": 277,
   "id": "aF0L1T-roww9",
   "metadata": {
    "colab": {
     "base_uri": "https://localhost:8080/"
    },
    "id": "aF0L1T-roww9",
    "outputId": "7b01d0f1-71c3-4760-8934-c4eab9d2ccf3"
   },
   "outputs": [
    {
     "name": "stdout",
     "output_type": "stream",
     "text": [
      "              precision    recall  f1-score   support\n",
      "\n",
      "         0.0       0.45      0.51      0.48        76\n",
      "         1.0       0.57      0.51      0.54        98\n",
      "\n",
      "    accuracy                           0.51       174\n",
      "   macro avg       0.51      0.51      0.51       174\n",
      "weighted avg       0.52      0.51      0.51       174\n",
      "\n"
     ]
    }
   ],
   "source": [
    "# histogram-based gradient boosting for classification in scikit-learn\n",
    "from numpy import mean\n",
    "from numpy import std\n",
    "from sklearn.datasets import make_classification\n",
    "from sklearn.experimental import enable_hist_gradient_boosting\n",
    "from sklearn.ensemble import HistGradientBoostingClassifier\n",
    "from sklearn.model_selection import cross_val_score\n",
    "from sklearn.model_selection import RepeatedStratifiedKFold\n",
    "from matplotlib import pyplot\n",
    "# evaluate the model\n",
    "# model = HistGradientBoostingClassifier()\n",
    "# cv = RepeatedStratifiedKFold(n_splits=10, n_repeats=3, random_state=1)\n",
    "# n_scores = cross_val_score(model, features, y_train, scoring='accuracy', cv=cv, n_jobs=-1, error_score='raise')\n",
    "# print('Accuracy: %.3f (%.3f)' % (mean(n_scores), std(n_scores)))\n",
    "# fit the model on the whole dataset\n",
    "model = HistGradientBoostingClassifier()\n",
    "model.fit(features, y_train)\n",
    "# make a single prediction\n",
    "yhat = model.predict(features2)\n",
    "print(classification_report(yhat,y_test))"
   ]
  },
  {
   "cell_type": "code",
   "execution_count": 278,
   "id": "E8MzWy3goww9",
   "metadata": {
    "colab": {
     "base_uri": "https://localhost:8080/",
     "height": 387
    },
    "id": "E8MzWy3goww9",
    "outputId": "bb271dec-ea1e-4d10-f2c6-1512a8968b2e"
   },
   "outputs": [
    {
     "name": "stdout",
     "output_type": "stream",
     "text": [
      "[16:07:02] WARNING: C:/Users/Administrator/workspace/xgboost-win64_release_1.4.0/src/learner.cc:1095: Starting in XGBoost 1.3.0, the default evaluation metric used with the objective 'binary:logistic' was changed from 'error' to 'logloss'. Explicitly set eval_metric if you'd like to restore the old behavior.\n",
      "              precision    recall  f1-score   support\n",
      "\n",
      "         0.0       0.43      0.51      0.46        73\n",
      "         1.0       0.59      0.50      0.54       101\n",
      "\n",
      "    accuracy                           0.51       174\n",
      "   macro avg       0.51      0.51      0.50       174\n",
      "weighted avg       0.52      0.51      0.51       174\n",
      "\n"
     ]
    }
   ],
   "source": [
    "# xgboost for classification\n",
    "from numpy import asarray\n",
    "from numpy import mean\n",
    "from numpy import std\n",
    "from sklearn.datasets import make_classification\n",
    "from xgboost import XGBClassifier\n",
    "from sklearn.model_selection import cross_val_score\n",
    "from sklearn.model_selection import RepeatedStratifiedKFold\n",
    "from matplotlib import pyplot\n",
    "# define dataset\n",
    "# X, y = make_classification(n_samples=1000, n_features=10, n_informative=5, n_redundant=5, random_state=1)\n",
    "# evaluate the model\n",
    "# model = XGBClassifier()\n",
    "# cv = RepeatedStratifiedKFold(n_splits=10, n_repeats=3, random_state=1)\n",
    "# n_scores = cross_val_score(model, features, y_train, scoring='accuracy', cv=cv, n_jobs=-1, error_score='raise')\n",
    "# print('Accuracy: %.3f (%.3f)' % (mean(n_scores), std(n_scores)))\n",
    "# fit the model on the whole dataset\n",
    "model = XGBClassifier()\n",
    "model.fit(features, y_train)\n",
    "# make a single prediction\n",
    "yhat = model.predict(features2)\n",
    "print(classification_report(yhat,y_test))"
   ]
  },
  {
   "cell_type": "code",
   "execution_count": 279,
   "id": "Tdax6s_Ooww9",
   "metadata": {
    "colab": {
     "base_uri": "https://localhost:8080/"
    },
    "id": "Tdax6s_Ooww9",
    "outputId": "775d69c5-06ca-4c3c-f428-59688a9936a8"
   },
   "outputs": [
    {
     "name": "stdout",
     "output_type": "stream",
     "text": [
      "              precision    recall  f1-score   support\n",
      "\n",
      "         0.0       0.43      0.49      0.46        75\n",
      "         1.0       0.56      0.49      0.53        99\n",
      "\n",
      "    accuracy                           0.49       174\n",
      "   macro avg       0.49      0.49      0.49       174\n",
      "weighted avg       0.50      0.49      0.50       174\n",
      "\n"
     ]
    }
   ],
   "source": [
    "# lightgbm for classification\n",
    "from numpy import mean\n",
    "from numpy import std\n",
    "from sklearn.datasets import make_classification\n",
    "from lightgbm import LGBMClassifier\n",
    "from sklearn.model_selection import cross_val_score\n",
    "from sklearn.model_selection import RepeatedStratifiedKFold\n",
    "from matplotlib import pyplot\n",
    "# evaluate the model\n",
    "# model = LGBMClassifier()\n",
    "# cv = RepeatedStratifiedKFold(n_splits=10, n_repeats=3, random_state=1)\n",
    "# n_scores = cross_val_score(model, features, y_train, scoring='accuracy', cv=cv, n_jobs=-1, error_score='raise')\n",
    "# print('Accuracy: %.3f (%.3f)' % (mean(n_scores), std(n_scores)))\n",
    "# fit the model on the whole dataset\n",
    "model = LGBMClassifier()\n",
    "model.fit(features, y_train)\n",
    "# make a single prediction\n",
    "yhat = model.predict(features2)\n",
    "print(classification_report(yhat,y_test))"
   ]
  },
  {
   "cell_type": "code",
   "execution_count": 148,
   "id": "cbbPd1unoww_",
   "metadata": {
    "id": "cbbPd1unoww_"
   },
   "outputs": [],
   "source": []
  },
  {
   "cell_type": "markdown",
   "id": "AULrRtEVqIWj",
   "metadata": {
    "id": "AULrRtEVqIWj"
   },
   "source": [
    "# Models embed rf"
   ]
  },
  {
   "cell_type": "code",
   "execution_count": 18,
   "id": "Bmnf27hTqIWj",
   "metadata": {
    "id": "Bmnf27hTqIWj"
   },
   "outputs": [],
   "source": [
    "import pandas as pd\n",
    "import numpy as np\n",
    "from sklearn.linear_model import LogisticRegression\n",
    "from sklearn import svm\n",
    "from sklearn import tree\n",
    "from sklearn.ensemble import RandomForestClassifier\n",
    "from sklearn.neighbors import KNeighborsClassifier\n",
    "from xgboost import XGBClassifier\n",
    "from sklearn.model_selection import train_test_split\n",
    "from sklearn.neural_network import MLPClassifier\n",
    "from sklearn.preprocessing import StandardScaler\n",
    "import seaborn as sns\n",
    "import matplotlib.pyplot as plt\n",
    "from sklearn.metrics import accuracy_score\n",
    "from sklearn.feature_selection import SelectFromModel\n",
    "\n",
    "from sklearn.decomposition import PCA\n",
    "from sklearn.manifold import TSNE\n",
    "%matplotlib inline\n",
    "import matplotlib.pyplot as plt\n",
    "from mpl_toolkits.mplot3d import Axes3D\n",
    "\n",
    "\n",
    "\n",
    "import warnings\n",
    "warnings.filterwarnings('ignore')"
   ]
  },
  {
   "cell_type": "code",
   "execution_count": 23,
   "id": "zdmSCMlaBD1v",
   "metadata": {
    "id": "zdmSCMlaBD1v"
   },
   "outputs": [],
   "source": [
    "from sklearn.metrics import classification_report, confusion_matrix"
   ]
  },
  {
   "cell_type": "code",
   "execution_count": 19,
   "id": "Cq2mqFUaqIWj",
   "metadata": {
    "id": "Cq2mqFUaqIWj"
   },
   "outputs": [],
   "source": [
    "features = X_train[embeded_rf_feature]\n",
    "features2 = X_test[embeded_rf_feature]"
   ]
  },
  {
   "cell_type": "code",
   "execution_count": 20,
   "id": "IlWMhzoyqIWj",
   "metadata": {
    "colab": {
     "base_uri": "https://localhost:8080/"
    },
    "id": "IlWMhzoyqIWj",
    "outputId": "b9064bd9-6a6d-41c8-9517-d8fec8b592d5"
   },
   "outputs": [
    {
     "data": {
      "text/plain": [
       "0"
      ]
     },
     "execution_count": 20,
     "metadata": {
      "tags": []
     },
     "output_type": "execute_result"
    }
   ],
   "source": [
    "features.isna().sum().sum()"
   ]
  },
  {
   "cell_type": "code",
   "execution_count": 21,
   "id": "3nxlWCrkqIWk",
   "metadata": {
    "colab": {
     "base_uri": "https://localhost:8080/"
    },
    "id": "3nxlWCrkqIWk",
    "outputId": "48d683d2-3259-4035-df21-0f7920d62e76"
   },
   "outputs": [
    {
     "data": {
      "text/plain": [
       "0"
      ]
     },
     "execution_count": 21,
     "metadata": {
      "tags": []
     },
     "output_type": "execute_result"
    }
   ],
   "source": [
    "X_test.isna().sum().sum()"
   ]
  },
  {
   "cell_type": "code",
   "execution_count": 24,
   "id": "UVTrWTLkqIWk",
   "metadata": {
    "colab": {
     "base_uri": "https://localhost:8080/"
    },
    "id": "UVTrWTLkqIWk",
    "outputId": "f8ba19c5-ab85-4dbf-c310-532164bd8d6a"
   },
   "outputs": [
    {
     "name": "stdout",
     "output_type": "stream",
     "text": [
      "              precision    recall  f1-score   support\n",
      "\n",
      "           0       0.22      0.42      0.29        24\n",
      "           1       0.67      0.44      0.53        63\n",
      "\n",
      "    accuracy                           0.44        87\n",
      "   macro avg       0.44      0.43      0.41        87\n",
      "weighted avg       0.54      0.44      0.47        87\n",
      "\n"
     ]
    }
   ],
   "source": [
    "from sklearn.model_selection import cross_val_score\n",
    "# from sklearn.datasets import load_iris\n",
    "from sklearn.ensemble import AdaBoostClassifier\n",
    "\n",
    "# X, y = load_iris(return_X_y=True)\n",
    "clf = AdaBoostClassifier()\n",
    "# scores = cross_val_score(clf, features, y_train, cv=5)\n",
    "# print(scores.mean())\n",
    "clf.fit(features, y_train)\n",
    "y_pred = (clf.predict(features2)>0.5).astype(int)\n",
    "from sklearn.metrics import classification_report\n",
    "print(classification_report(y_pred,y_test))\n"
   ]
  },
  {
   "cell_type": "code",
   "execution_count": 25,
   "id": "nEyl39i9qIWk",
   "metadata": {
    "colab": {
     "base_uri": "https://localhost:8080/"
    },
    "id": "nEyl39i9qIWk",
    "outputId": "9acbb15a-e4fe-472b-a26c-5bb3c55e6ee1"
   },
   "outputs": [
    {
     "name": "stdout",
     "output_type": "stream",
     "text": [
      "              precision    recall  f1-score   support\n",
      "\n",
      "           0       0.47      0.20      0.28        45\n",
      "           1       0.47      0.76      0.58        42\n",
      "\n",
      "    accuracy                           0.47        87\n",
      "   macro avg       0.47      0.48      0.43        87\n",
      "weighted avg       0.47      0.47      0.43        87\n",
      "\n"
     ]
    }
   ],
   "source": [
    "from sklearn.svm import SVC\n",
    "\n",
    "svclassifier = SVC(gamma='auto')\n",
    "svclassifier.fit(features, y_train)\n",
    "y_pred = svclassifier.predict(features2)\n",
    "print(classification_report(y_test, y_pred))"
   ]
  },
  {
   "cell_type": "code",
   "execution_count": 26,
   "id": "1mNhIbZ6qIWl",
   "metadata": {
    "colab": {
     "base_uri": "https://localhost:8080/"
    },
    "id": "1mNhIbZ6qIWl",
    "outputId": "6a479b0e-573b-424a-bb76-7f41c1522636"
   },
   "outputs": [
    {
     "name": "stdout",
     "output_type": "stream",
     "text": [
      "Accuracy: 0.51 (+/- 0.01) [DecisionTreeClassifier]\n",
      "Accuracy: 0.52 (+/- 0.03) [KNNClassifier]\n",
      "Accuracy: 0.55 (+/- 0.02) [SVC]\n",
      "Accuracy: 0.53 (+/- 0.04) [voting]\n"
     ]
    }
   ],
   "source": [
    "from sklearn import datasets\n",
    "from sklearn.tree import DecisionTreeClassifier\n",
    "from sklearn.neighbors import KNeighborsClassifier\n",
    "from sklearn.svm import SVC\n",
    "from itertools import product\n",
    "from sklearn.ensemble import VotingClassifier\n",
    "\n",
    "\n",
    "clf1 = DecisionTreeClassifier()\n",
    "clf2 = KNeighborsClassifier()\n",
    "clf3 = SVC(kernel='rbf', probability=True)\n",
    "eclf = VotingClassifier(estimators=[('dt', clf1), ('knn', clf2), ('svc', clf3)],\n",
    "                        voting='soft', weights=[2, 2, 2])\n",
    "\n",
    "clf1 = clf1.fit(features, y_train)\n",
    "clf2 = clf2.fit(features, y_train)\n",
    "clf3 = clf3.fit(features, y_train)\n",
    "eclf = eclf.fit(features, y_train)\n",
    "\n",
    "for clf, label in zip([clf1, clf2, clf3, eclf], ['DecisionTreeClassifier', 'KNNClassifier', 'SVC', 'voting']):\n",
    "    scores = cross_val_score(clf, features, y_train, scoring='accuracy', cv=5)\n",
    "    print(\"Accuracy: %0.2f (+/- %0.2f) [%s]\" % (scores.mean(), scores.std(), label))"
   ]
  },
  {
   "cell_type": "code",
   "execution_count": 27,
   "id": "_QMoPvFCqIWl",
   "metadata": {
    "colab": {
     "base_uri": "https://localhost:8080/",
     "height": 827
    },
    "id": "_QMoPvFCqIWl",
    "outputId": "02c251f4-e884-4c10-be29-437c6a5c8f9a"
   },
   "outputs": [
    {
     "name": "stdout",
     "output_type": "stream",
     "text": [
      "Logistic Regression score is 49.42528735632184% \n",
      "\n",
      "Support Vector Classifier score is 52.87356321839081%\n",
      "\n",
      "Decision Tree Classifier score is 47.12643678160919%\n",
      "\n",
      "Random Forest Classifier score is 51.724137931034484%\n",
      "\n",
      "KNN Classifier score is 47.12643678160919% with k = 1\n",
      "KNN Classifier score is 44.827586206896555% with k = 2\n",
      "KNN Classifier score is 47.12643678160919% with k = 3\n",
      "KNN Classifier score is 47.12643678160919% with k = 4\n",
      "KNN Classifier score is 50.57471264367817% with k = 5\n",
      "KNN Classifier score is 45.97701149425287% with k = 6\n",
      "KNN Classifier score is 52.87356321839081% with k = 7\n",
      "KNN Classifier score is 51.724137931034484% with k = 8\n",
      "KNN Classifier score is 54.02298850574713% with k = 9\n",
      "KNN Classifier score is 52.87356321839081% with k = 10\n",
      "KNN Classifier score is 51.724137931034484% with k = 11\n",
      "KNN Classifier score is 51.724137931034484% with k = 12\n",
      "KNN Classifier score is 54.02298850574713% with k = 13\n",
      "KNN Classifier score is 54.02298850574713% with k = 14\n",
      "KNN Classifier score is 50.57471264367817% with k = 15\n",
      "KNN Classifier score is 48.275862068965516% with k = 16\n",
      "KNN Classifier score is 47.12643678160919% with k = 17\n",
      "KNN Classifier score is 45.97701149425287% with k = 18\n",
      "KNN Classifier score is 48.275862068965516% with k = 19\n"
     ]
    },
    {
     "data": {
      "image/png": "[encoded data removed]",
      "text/plain": [
       "<Figure size 432x288 with 1 Axes>"
      ]
     },
     "metadata": {
      "needs_background": "light",
      "tags": []
     },
     "output_type": "display_data"
    },
    {
     "name": "stdout",
     "output_type": "stream",
     "text": [
      "\n",
      "MLP Classifier score is 47.12643678160919%\n",
      "\n"
     ]
    }
   ],
   "source": [
    "# fitting logistic regression\n",
    "lr = LogisticRegression()\n",
    "lr.fit(features, y_train)\n",
    "predictionsLR = lr.predict(features2)\n",
    "scoreLR = accuracy_score(y_test, predictionsLR)\n",
    "print(f\"Logistic Regression score is {scoreLR * 100}% \\n\")\n",
    "\n",
    "# fitting SVC\n",
    "svc = svm.LinearSVC()\n",
    "svc.fit(features, y_train)\n",
    "predictionsSVC = svc.predict(features2)\n",
    "scoreSVC = accuracy_score(y_test, predictionsSVC)\n",
    "print(f\"Support Vector Classifier score is {scoreSVC * 100}%\\n\")\n",
    "\n",
    "# fitting decision tree classifier\n",
    "clf = tree.DecisionTreeClassifier()\n",
    "clf.fit(features, y_train)\n",
    "predictionsTree = clf.predict(features2)\n",
    "scoreTree = accuracy_score(y_test, predictionsTree)\n",
    "print(f\"Decision Tree Classifier score is {scoreTree * 100}%\\n\")\n",
    "\n",
    "# fitting Random Forest classifier\n",
    "clf1 = RandomForestClassifier(max_features=23)\n",
    "clf1.fit(features, y_train)\n",
    "predictionsTree1 = clf1.predict(features2)\n",
    "scoreTree1 = accuracy_score(y_test, predictionsTree1)\n",
    "print(f\"Random Forest Classifier score is {scoreTree1 * 100}%\\n\")\n",
    "\n",
    "# fitting XGBoost\n",
    "# xgb = XGBClassifier()\n",
    "# xgb.fit(features.to_numpy(), y_train)\n",
    "# predictionsXGB = xgb.predict(X_test)\n",
    "# predictionsXGB = (predictionsXGB>0.5).astype(int)\n",
    "# scoreXGB = accuracy_score(y_test, predictionsXGB)\n",
    "# print(f\"XG Boost Classifier score is {scoreXGB * 100}%\\n\")\n",
    "\n",
    "# fitting KNN Classifier\n",
    "K = range(1, 20)\n",
    "acc = []\n",
    "for k in K:\n",
    "    knn = KNeighborsClassifier(n_neighbors=k)\n",
    "    knn.fit(features, y_train)\n",
    "    predictionsKNN = knn.predict(features2)\n",
    "    scoreKNN = accuracy_score(y_test, predictionsKNN)\n",
    "    print(f\"KNN Classifier score is {scoreKNN * 100}% with k = {k}\")\n",
    "    acc.append(scoreKNN*100)\n",
    "\n",
    "# Elbow plot:\n",
    "plt.plot(K, acc)\n",
    "plt.xlabel('K')\n",
    "plt.ylabel('Accuracy')\n",
    "plt.title(\"Elbow Curve without feature selection for Inter-Reseach Area\")\n",
    "\n",
    "plt.show()\n",
    "\n",
    "# MLP / ANN\n",
    "classifier = MLPClassifier(hidden_layer_sizes=(128, 64), max_iter=300, activation='relu', solver='adam', random_state=1)\n",
    "classifier.fit(features, y_train)\n",
    "predictionsMLP = classifier.predict(features2)\n",
    "scoreMLP = accuracy_score(y_test, predictionsMLP)\n",
    "print(f\"\\nMLP Classifier score is {scoreMLP * 100}%\\n\")"
   ]
  },
  {
   "cell_type": "code",
   "execution_count": 30,
   "id": "48RYtYwlqIWl",
   "metadata": {
    "colab": {
     "base_uri": "https://localhost:8080/"
    },
    "id": "48RYtYwlqIWl",
    "outputId": "30b47bb2-fe4c-49eb-cbd7-9b1279b7da94"
   },
   "outputs": [
    {
     "name": "stdout",
     "output_type": "stream",
     "text": [
      "Number of mislabeled points out of a total 87 points : 48\n",
      "              precision    recall  f1-score   support\n",
      "\n",
      "           0       0.47      0.58      0.52        45\n",
      "           1       0.41      0.31      0.35        42\n",
      "\n",
      "    accuracy                           0.45        87\n",
      "   macro avg       0.44      0.44      0.44        87\n",
      "weighted avg       0.44      0.45      0.44        87\n",
      "\n"
     ]
    }
   ],
   "source": [
    "from sklearn.naive_bayes import GaussianNB\n",
    "gnb = GaussianNB()\n",
    "y_pred = gnb.fit(features, y_train).predict(features2)\n",
    "print(\"Number of mislabeled points out of a total %d points : %d\"\n",
    "      % (X_test.shape[0], (y_test != y_pred).sum()))\n",
    "\n",
    "print(classification_report(y_test,y_pred))"
   ]
  },
  {
   "cell_type": "code",
   "execution_count": 29,
   "id": "cg9mr6wsqIWl",
   "metadata": {
    "colab": {
     "base_uri": "https://localhost:8080/"
    },
    "id": "cg9mr6wsqIWl",
    "outputId": "0a8bf105-408d-4d20-cea3-8627e7388ad0"
   },
   "outputs": [
    {
     "name": "stdout",
     "output_type": "stream",
     "text": [
      "              precision    recall  f1-score   support\n",
      "\n",
      "           0       0.33      0.56      0.42        27\n",
      "           1       0.71      0.50      0.59        60\n",
      "\n",
      "    accuracy                           0.52        87\n",
      "   macro avg       0.52      0.53      0.50        87\n",
      "weighted avg       0.60      0.52      0.53        87\n",
      "\n"
     ]
    }
   ],
   "source": [
    "from numpy import mean\n",
    "from numpy import std\n",
    "# from sklearn.datasets import make_classification\n",
    "from sklearn.ensemble import GradientBoostingClassifier\n",
    "from sklearn.model_selection import cross_val_score\n",
    "from sklearn.model_selection import RepeatedStratifiedKFold\n",
    "from matplotlib import pyplot\n",
    "# define dataset\n",
    "# X, y = make_classification(n_samples=1000, n_features=10, n_informative=5, n_redundant=5, random_state=1)\n",
    "# evaluate the model\n",
    "# model = GradientBoostingClassifier()\n",
    "# cv = RepeatedStratifiedKFold(n_splits=10, n_repeats=3, random_state=1)\n",
    "# n_scores = cross_val_score(model, X_train, y_train, scoring='accuracy', cv=cv, n_jobs=-1, error_score='raise')\n",
    "# print('Accuracy: %.3f (%.3f)' % (mean(n_scores), std(n_scores)))\n",
    "# fit the model on the whole dataset\n",
    "model = GradientBoostingClassifier()\n",
    "model.fit(features, y_train)\n",
    "# make a single prediction\n",
    "# row = [[2.56999479, -0.13019997, 3.16075093, -4.35936352, -1.61271951, -1.39352057, -2.48924933, -1.93094078, 3.26130366, 2.05692145]]\n",
    "yhat = model.predict(features2)\n",
    "\n",
    "print(classification_report(yhat,y_test))"
   ]
  },
  {
   "cell_type": "code",
   "execution_count": 31,
   "id": "s2Get55oqIWm",
   "metadata": {
    "colab": {
     "base_uri": "https://localhost:8080/"
    },
    "id": "s2Get55oqIWm",
    "outputId": "7a45668e-1321-4445-c01c-27585745a3dc"
   },
   "outputs": [
    {
     "name": "stdout",
     "output_type": "stream",
     "text": [
      "              precision    recall  f1-score   support\n",
      "\n",
      "           0       0.16      0.54      0.24        13\n",
      "           1       0.86      0.49      0.62        74\n",
      "\n",
      "    accuracy                           0.49        87\n",
      "   macro avg       0.51      0.51      0.43        87\n",
      "weighted avg       0.75      0.49      0.56        87\n",
      "\n"
     ]
    }
   ],
   "source": [
    "# histogram-based gradient boosting for classification in scikit-learn\n",
    "from numpy import mean\n",
    "from numpy import std\n",
    "from sklearn.datasets import make_classification\n",
    "from sklearn.experimental import enable_hist_gradient_boosting\n",
    "from sklearn.ensemble import HistGradientBoostingClassifier\n",
    "from sklearn.model_selection import cross_val_score\n",
    "from sklearn.model_selection import RepeatedStratifiedKFold\n",
    "from matplotlib import pyplot\n",
    "# evaluate the model\n",
    "# model = HistGradientBoostingClassifier()\n",
    "# cv = RepeatedStratifiedKFold(n_splits=10, n_repeats=3, random_state=1)\n",
    "# n_scores = cross_val_score(model, features, y_train, scoring='accuracy', cv=cv, n_jobs=-1, error_score='raise')\n",
    "# print('Accuracy: %.3f (%.3f)' % (mean(n_scores), std(n_scores)))\n",
    "# fit the model on the whole dataset\n",
    "model = HistGradientBoostingClassifier()\n",
    "model.fit(features, y_train)\n",
    "# make a single prediction\n",
    "yhat = model.predict(features2)\n",
    "print(classification_report(yhat,y_test))"
   ]
  },
  {
   "cell_type": "code",
   "execution_count": 32,
   "id": "O-luGAMlqIWm",
   "metadata": {
    "colab": {
     "base_uri": "https://localhost:8080/",
     "height": 672
    },
    "id": "O-luGAMlqIWm",
    "outputId": "8feeace8-f1ea-460a-a79a-0ed34314e77e"
   },
   "outputs": [
    {
     "ename": "ValueError",
     "evalue": "ignored",
     "output_type": "error",
     "traceback": [
      "\u001b[0;31m---------------------------------------------------------------------------\u001b[0m",
      "\u001b[0;31mValueError\u001b[0m                                Traceback (most recent call last)",
      "\u001b[0;32m<ipython-input-32-6eac32dd02d6>\u001b[0m in \u001b[0;36m<module>\u001b[0;34m()\u001b[0m\n\u001b[1;32m     17\u001b[0m \u001b[0;31m# fit the model on the whole dataset\u001b[0m\u001b[0;34m\u001b[0m\u001b[0;34m\u001b[0m\u001b[0;34m\u001b[0m\u001b[0m\n\u001b[1;32m     18\u001b[0m \u001b[0mmodel\u001b[0m \u001b[0;34m=\u001b[0m \u001b[0mXGBClassifier\u001b[0m\u001b[0;34m(\u001b[0m\u001b[0;34m)\u001b[0m\u001b[0;34m\u001b[0m\u001b[0;34m\u001b[0m\u001b[0m\n\u001b[0;32m---> 19\u001b[0;31m \u001b[0mmodel\u001b[0m\u001b[0;34m.\u001b[0m\u001b[0mfit\u001b[0m\u001b[0;34m(\u001b[0m\u001b[0mfeatures\u001b[0m\u001b[0;34m,\u001b[0m \u001b[0my_train\u001b[0m\u001b[0;34m)\u001b[0m\u001b[0;34m\u001b[0m\u001b[0;34m\u001b[0m\u001b[0m\n\u001b[0m\u001b[1;32m     20\u001b[0m \u001b[0;31m# make a single prediction\u001b[0m\u001b[0;34m\u001b[0m\u001b[0;34m\u001b[0m\u001b[0;34m\u001b[0m\u001b[0m\n\u001b[1;32m     21\u001b[0m \u001b[0myhat\u001b[0m \u001b[0;34m=\u001b[0m \u001b[0mmodel\u001b[0m\u001b[0;34m.\u001b[0m\u001b[0mpredict\u001b[0m\u001b[0;34m(\u001b[0m\u001b[0mfeatures2\u001b[0m\u001b[0;34m)\u001b[0m\u001b[0;34m\u001b[0m\u001b[0;34m\u001b[0m\u001b[0m\n",
      "\u001b[0;32m/usr/local/lib/python3.7/dist-packages/xgboost/sklearn.py\u001b[0m in \u001b[0;36mfit\u001b[0;34m(self, X, y, sample_weight, eval_set, eval_metric, early_stopping_rounds, verbose, xgb_model, sample_weight_eval_set, callbacks)\u001b[0m\n\u001b[1;32m    724\u001b[0m         \u001b[0;32melse\u001b[0m\u001b[0;34m:\u001b[0m\u001b[0;34m\u001b[0m\u001b[0;34m\u001b[0m\u001b[0m\n\u001b[1;32m    725\u001b[0m             train_dmatrix = DMatrix(X, label=training_labels,\n\u001b[0;32m--> 726\u001b[0;31m                                     missing=self.missing, nthread=self.n_jobs)\n\u001b[0m\u001b[1;32m    727\u001b[0m \u001b[0;34m\u001b[0m\u001b[0m\n\u001b[1;32m    728\u001b[0m         self._Booster = train(xgb_options, train_dmatrix, self.get_num_boosting_rounds(),\n",
      "\u001b[0;32m/usr/local/lib/python3.7/dist-packages/xgboost/core.py\u001b[0m in \u001b[0;36m__init__\u001b[0;34m(self, data, label, missing, weight, silent, feature_names, feature_types, nthread)\u001b[0m\n\u001b[1;32m    424\u001b[0m                 \u001b[0mself\u001b[0m\u001b[0;34m.\u001b[0m\u001b[0mset_weight\u001b[0m\u001b[0;34m(\u001b[0m\u001b[0mweight\u001b[0m\u001b[0;34m)\u001b[0m\u001b[0;34m\u001b[0m\u001b[0;34m\u001b[0m\u001b[0m\n\u001b[1;32m    425\u001b[0m \u001b[0;34m\u001b[0m\u001b[0m\n\u001b[0;32m--> 426\u001b[0;31m         \u001b[0mself\u001b[0m\u001b[0;34m.\u001b[0m\u001b[0mfeature_names\u001b[0m \u001b[0;34m=\u001b[0m \u001b[0mfeature_names\u001b[0m\u001b[0;34m\u001b[0m\u001b[0;34m\u001b[0m\u001b[0m\n\u001b[0m\u001b[1;32m    427\u001b[0m         \u001b[0mself\u001b[0m\u001b[0;34m.\u001b[0m\u001b[0mfeature_types\u001b[0m \u001b[0;34m=\u001b[0m \u001b[0mfeature_types\u001b[0m\u001b[0;34m\u001b[0m\u001b[0;34m\u001b[0m\u001b[0m\n\u001b[1;32m    428\u001b[0m \u001b[0;34m\u001b[0m\u001b[0m\n",
      "\u001b[0;32m/usr/local/lib/python3.7/dist-packages/xgboost/core.py\u001b[0m in \u001b[0;36mfeature_names\u001b[0;34m(self, feature_names)\u001b[0m\n\u001b[1;32m    868\u001b[0m                        \u001b[0;32mnot\u001b[0m \u001b[0many\u001b[0m\u001b[0;34m(\u001b[0m\u001b[0mx\u001b[0m \u001b[0;32min\u001b[0m \u001b[0mf\u001b[0m \u001b[0;32mfor\u001b[0m \u001b[0mx\u001b[0m \u001b[0;32min\u001b[0m \u001b[0mset\u001b[0m\u001b[0;34m(\u001b[0m\u001b[0;34m(\u001b[0m\u001b[0;34m'['\u001b[0m\u001b[0;34m,\u001b[0m \u001b[0;34m']'\u001b[0m\u001b[0;34m,\u001b[0m \u001b[0;34m'<'\u001b[0m\u001b[0;34m)\u001b[0m\u001b[0;34m)\u001b[0m\u001b[0;34m)\u001b[0m\u001b[0;34m\u001b[0m\u001b[0;34m\u001b[0m\u001b[0m\n\u001b[1;32m    869\u001b[0m                        for f in feature_names):\n\u001b[0;32m--> 870\u001b[0;31m                 \u001b[0;32mraise\u001b[0m \u001b[0mValueError\u001b[0m\u001b[0;34m(\u001b[0m\u001b[0;34m'feature_names may not contain [, ] or <'\u001b[0m\u001b[0;34m)\u001b[0m\u001b[0;34m\u001b[0m\u001b[0;34m\u001b[0m\u001b[0m\n\u001b[0m\u001b[1;32m    871\u001b[0m         \u001b[0;32melse\u001b[0m\u001b[0;34m:\u001b[0m\u001b[0;34m\u001b[0m\u001b[0;34m\u001b[0m\u001b[0m\n\u001b[1;32m    872\u001b[0m             \u001b[0;31m# reset feature_types also\u001b[0m\u001b[0;34m\u001b[0m\u001b[0;34m\u001b[0m\u001b[0;34m\u001b[0m\u001b[0m\n",
      "\u001b[0;31mValueError\u001b[0m: feature_names may not contain [, ] or <"
     ]
    }
   ],
   "source": [
    "# xgboost for classification\n",
    "from numpy import asarray\n",
    "from numpy import mean\n",
    "from numpy import std\n",
    "# from sklearn.datasets import make_classification\n",
    "from xgboost import XGBClassifier\n",
    "from sklearn.model_selection import cross_val_score\n",
    "from sklearn.model_selection import RepeatedStratifiedKFold\n",
    "from matplotlib import pyplot\n",
    "# define dataset\n",
    "# X, y = make_classification(n_samples=1000, n_features=10, n_informative=5, n_redundant=5, random_state=1)\n",
    "# evaluate the model\n",
    "# model = XGBClassifier()\n",
    "# cv = RepeatedStratifiedKFold(n_splits=10, n_repeats=3, random_state=1)\n",
    "# n_scores = cross_val_score(model, features, y_train, scoring='accuracy', cv=cv, n_jobs=-1, error_score='raise')\n",
    "# print('Accuracy: %.3f (%.3f)' % (mean(n_scores), std(n_scores)))\n",
    "# fit the model on the whole dataset\n",
    "model = XGBClassifier()\n",
    "model.fit(features, y_train)\n",
    "# make a single prediction\n",
    "yhat = model.predict(features2)\n",
    "print(classification_report(yhat,y_test))"
   ]
  },
  {
   "cell_type": "code",
   "execution_count": 33,
   "id": "nrsbgcjAqIWm",
   "metadata": {
    "colab": {
     "base_uri": "https://localhost:8080/"
    },
    "id": "nrsbgcjAqIWm",
    "outputId": "e964b6b7-7a2f-4352-e286-3cf5f39cef88"
   },
   "outputs": [
    {
     "name": "stdout",
     "output_type": "stream",
     "text": [
      "              precision    recall  f1-score   support\n",
      "\n",
      "           0       0.33      0.58      0.42        26\n",
      "           1       0.74      0.51      0.60        61\n",
      "\n",
      "    accuracy                           0.53        87\n",
      "   macro avg       0.54      0.54      0.51        87\n",
      "weighted avg       0.62      0.53      0.55        87\n",
      "\n"
     ]
    }
   ],
   "source": [
    "# lightgbm for classification\n",
    "from numpy import mean\n",
    "from numpy import std\n",
    "from sklearn.datasets import make_classification\n",
    "from lightgbm import LGBMClassifier\n",
    "from sklearn.model_selection import cross_val_score\n",
    "from sklearn.model_selection import RepeatedStratifiedKFold\n",
    "from matplotlib import pyplot\n",
    "# evaluate the model\n",
    "# model = LGBMClassifier()\n",
    "# cv = RepeatedStratifiedKFold(n_splits=10, n_repeats=3, random_state=1)\n",
    "# n_scores = cross_val_score(model, features, y_train, scoring='accuracy', cv=cv, n_jobs=-1, error_score='raise')\n",
    "# print('Accuracy: %.3f (%.3f)' % (mean(n_scores), std(n_scores)))\n",
    "# fit the model on the whole dataset\n",
    "model = LGBMClassifier()\n",
    "model.fit(features, y_train)\n",
    "# make a single prediction\n",
    "yhat = model.predict(features2)\n",
    "print(classification_report(yhat,y_test))"
   ]
  },
  {
   "cell_type": "code",
   "execution_count": null,
   "id": "NlnIinX5qIWm",
   "metadata": {
    "id": "NlnIinX5qIWm"
   },
   "outputs": [],
   "source": []
  },
  {
   "cell_type": "markdown",
   "id": "7gp8UbHXsLIl",
   "metadata": {
    "id": "7gp8UbHXsLIl"
   },
   "source": [
    "# Models lgbm"
   ]
  },
  {
   "cell_type": "code",
   "execution_count": null,
   "id": "csjsHeECsLIl",
   "metadata": {
    "id": "csjsHeECsLIl"
   },
   "outputs": [],
   "source": [
    "import pandas as pd\n",
    "import numpy as np\n",
    "from sklearn.linear_model import LogisticRegression\n",
    "from sklearn import svm\n",
    "from sklearn import tree\n",
    "from sklearn.ensemble import RandomForestClassifier\n",
    "from sklearn.neighbors import KNeighborsClassifier\n",
    "from xgboost import XGBClassifier\n",
    "from sklearn.model_selection import train_test_split\n",
    "from sklearn.neural_network import MLPClassifier\n",
    "from sklearn.preprocessing import StandardScaler\n",
    "import seaborn as sns\n",
    "import matplotlib.pyplot as plt\n",
    "from sklearn.metrics import accuracy_score\n",
    "from sklearn.feature_selection import SelectFromModel\n",
    "\n",
    "from sklearn.decomposition import PCA\n",
    "from sklearn.manifold import TSNE\n",
    "%matplotlib inline\n",
    "import matplotlib.pyplot as plt\n",
    "from mpl_toolkits.mplot3d import Axes3D\n",
    "\n",
    "\n",
    "\n",
    "import warnings\n",
    "warnings.filterwarnings('ignore')"
   ]
  },
  {
   "cell_type": "code",
   "execution_count": null,
   "id": "6dDYneZwsLIm",
   "metadata": {
    "id": "6dDYneZwsLIm"
   },
   "outputs": [],
   "source": [
    "features = X_train[embeded_lgb_feature]\n",
    "features2 = X_test[embeded_lgb_feature]"
   ]
  },
  {
   "cell_type": "code",
   "execution_count": null,
   "id": "CsoCCfXHsLIm",
   "metadata": {
    "colab": {
     "base_uri": "https://localhost:8080/"
    },
    "id": "CsoCCfXHsLIm",
    "outputId": "da6939bb-d592-4436-fa01-ea7bd295481e"
   },
   "outputs": [
    {
     "data": {
      "text/plain": [
       "0"
      ]
     },
     "execution_count": 139,
     "metadata": {
      "tags": []
     },
     "output_type": "execute_result"
    }
   ],
   "source": [
    "features.isna().sum().sum()"
   ]
  },
  {
   "cell_type": "code",
   "execution_count": null,
   "id": "brwSG0XusLIm",
   "metadata": {
    "colab": {
     "base_uri": "https://localhost:8080/"
    },
    "id": "brwSG0XusLIm",
    "outputId": "353d454a-29b9-4322-de7f-3043930e8af5"
   },
   "outputs": [
    {
     "data": {
      "text/plain": [
       "0"
      ]
     },
     "execution_count": 140,
     "metadata": {
      "tags": []
     },
     "output_type": "execute_result"
    }
   ],
   "source": [
    "X_test.isna().sum().sum()"
   ]
  },
  {
   "cell_type": "code",
   "execution_count": null,
   "id": "wYsauz-WsLIm",
   "metadata": {
    "colab": {
     "base_uri": "https://localhost:8080/"
    },
    "id": "wYsauz-WsLIm",
    "outputId": "01cc12c2-a00f-490a-9f5e-35c720e0a380"
   },
   "outputs": [
    {
     "name": "stdout",
     "output_type": "stream",
     "text": [
      "              precision    recall  f1-score   support\n",
      "\n",
      "           0       0.31      0.52      0.39        27\n",
      "           1       0.69      0.48      0.57        60\n",
      "\n",
      "    accuracy                           0.49        87\n",
      "   macro avg       0.50      0.50      0.48        87\n",
      "weighted avg       0.57      0.49      0.51        87\n",
      "\n"
     ]
    }
   ],
   "source": [
    "from sklearn.model_selection import cross_val_score\n",
    "# from sklearn.datasets import load_iris\n",
    "from sklearn.ensemble import AdaBoostClassifier\n",
    "\n",
    "# X, y = load_iris(return_X_y=True)\n",
    "clf = AdaBoostClassifier()\n",
    "# scores = cross_val_score(clf, features, y_train, cv=5)\n",
    "# print(scores.mean())\n",
    "clf.fit(features, y_train)\n",
    "y_pred = (clf.predict(features2)>0.5).astype(int)\n",
    "from sklearn.metrics import classification_report\n",
    "print(classification_report(y_pred,y_test))\n"
   ]
  },
  {
   "cell_type": "code",
   "execution_count": null,
   "id": "NIFvhMJIsLIn",
   "metadata": {
    "colab": {
     "base_uri": "https://localhost:8080/"
    },
    "id": "NIFvhMJIsLIn",
    "outputId": "42a5dccf-450f-428e-a326-f4e29fd0147e"
   },
   "outputs": [
    {
     "name": "stdout",
     "output_type": "stream",
     "text": [
      "              precision    recall  f1-score   support\n",
      "\n",
      "           0       0.53      0.20      0.29        45\n",
      "           1       0.49      0.81      0.61        42\n",
      "\n",
      "    accuracy                           0.49        87\n",
      "   macro avg       0.51      0.50      0.45        87\n",
      "weighted avg       0.51      0.49      0.44        87\n",
      "\n"
     ]
    }
   ],
   "source": [
    "from sklearn.svm import SVC\n",
    "\n",
    "svclassifier = SVC(gamma='auto')\n",
    "svclassifier.fit(features, y_train)\n",
    "y_pred = svclassifier.predict(features2)\n",
    "print(classification_report(y_test, y_pred))"
   ]
  },
  {
   "cell_type": "code",
   "execution_count": null,
   "id": "wo_0lws6sLIn",
   "metadata": {
    "colab": {
     "base_uri": "https://localhost:8080/"
    },
    "id": "wo_0lws6sLIn",
    "outputId": "b70423ec-217b-4c83-df64-985cb4bdbc79"
   },
   "outputs": [
    {
     "name": "stdout",
     "output_type": "stream",
     "text": [
      "Accuracy: 0.51 (+/- 0.04) [DecisionTreeClassifier]\n",
      "Accuracy: 0.54 (+/- 0.01) [KNNClassifier]\n",
      "Accuracy: 0.59 (+/- 0.02) [SVC]\n",
      "Accuracy: 0.53 (+/- 0.04) [voting]\n"
     ]
    }
   ],
   "source": [
    "from sklearn import datasets\n",
    "from sklearn.tree import DecisionTreeClassifier\n",
    "from sklearn.neighbors import KNeighborsClassifier\n",
    "from sklearn.svm import SVC\n",
    "from itertools import product\n",
    "from sklearn.ensemble import VotingClassifier\n",
    "\n",
    "\n",
    "clf1 = DecisionTreeClassifier()\n",
    "clf2 = KNeighborsClassifier()\n",
    "clf3 = SVC(kernel='rbf', probability=True)\n",
    "eclf = VotingClassifier(estimators=[('dt', clf1), ('knn', clf2), ('svc', clf3)],\n",
    "                        voting='soft', weights=[2, 2, 2])\n",
    "\n",
    "clf1 = clf1.fit(features, y_train)\n",
    "clf2 = clf2.fit(features, y_train)\n",
    "clf3 = clf3.fit(features, y_train)\n",
    "eclf = eclf.fit(features, y_train)\n",
    "\n",
    "for clf, label in zip([clf1, clf2, clf3, eclf], ['DecisionTreeClassifier', 'KNNClassifier', 'SVC', 'voting']):\n",
    "    scores = cross_val_score(clf, features, y_train, scoring='accuracy', cv=5)\n",
    "    print(\"Accuracy: %0.2f (+/- %0.2f) [%s]\" % (scores.mean(), scores.std(), label))"
   ]
  },
  {
   "cell_type": "code",
   "execution_count": null,
   "id": "6bJs0YZDsLIn",
   "metadata": {
    "colab": {
     "base_uri": "https://localhost:8080/",
     "height": 827
    },
    "id": "6bJs0YZDsLIn",
    "outputId": "71677c5e-90c3-4307-e3f8-d80b7348b426"
   },
   "outputs": [
    {
     "name": "stdout",
     "output_type": "stream",
     "text": [
      "Logistic Regression score is 56.32183908045977% \n",
      "\n",
      "Support Vector Classifier score is 55.172413793103445%\n",
      "\n",
      "Decision Tree Classifier score is 47.12643678160919%\n",
      "\n",
      "Random Forest Classifier score is 48.275862068965516%\n",
      "\n",
      "KNN Classifier score is 48.275862068965516% with k = 1\n",
      "KNN Classifier score is 49.42528735632184% with k = 2\n",
      "KNN Classifier score is 44.827586206896555% with k = 3\n",
      "KNN Classifier score is 42.5287356321839% with k = 4\n",
      "KNN Classifier score is 45.97701149425287% with k = 5\n",
      "KNN Classifier score is 42.5287356321839% with k = 6\n",
      "KNN Classifier score is 51.724137931034484% with k = 7\n",
      "KNN Classifier score is 49.42528735632184% with k = 8\n",
      "KNN Classifier score is 49.42528735632184% with k = 9\n",
      "KNN Classifier score is 51.724137931034484% with k = 10\n",
      "KNN Classifier score is 50.57471264367817% with k = 11\n",
      "KNN Classifier score is 44.827586206896555% with k = 12\n",
      "KNN Classifier score is 45.97701149425287% with k = 13\n",
      "KNN Classifier score is 48.275862068965516% with k = 14\n",
      "KNN Classifier score is 49.42528735632184% with k = 15\n",
      "KNN Classifier score is 51.724137931034484% with k = 16\n",
      "KNN Classifier score is 51.724137931034484% with k = 17\n",
      "KNN Classifier score is 51.724137931034484% with k = 18\n",
      "KNN Classifier score is 50.57471264367817% with k = 19\n"
     ]
    },
    {
     "data": {
      "image/png": "[encoded data removed]",
      "text/plain": [
       "<Figure size 432x288 with 1 Axes>"
      ]
     },
     "metadata": {
      "needs_background": "light",
      "tags": []
     },
     "output_type": "display_data"
    },
    {
     "name": "stdout",
     "output_type": "stream",
     "text": [
      "\n",
      "MLP Classifier score is 50.57471264367817%\n",
      "\n"
     ]
    }
   ],
   "source": [
    "# fitting logistic regression\n",
    "lr = LogisticRegression()\n",
    "lr.fit(features, y_train)\n",
    "predictionsLR = lr.predict(features2)\n",
    "scoreLR = accuracy_score(y_test, predictionsLR)\n",
    "print(f\"Logistic Regression score is {scoreLR * 100}% \\n\")\n",
    "\n",
    "# fitting SVC\n",
    "svc = svm.LinearSVC()\n",
    "svc.fit(features, y_train)\n",
    "predictionsSVC = svc.predict(features2)\n",
    "scoreSVC = accuracy_score(y_test, predictionsSVC)\n",
    "print(f\"Support Vector Classifier score is {scoreSVC * 100}%\\n\")\n",
    "\n",
    "# fitting decision tree classifier\n",
    "clf = tree.DecisionTreeClassifier()\n",
    "clf.fit(features, y_train)\n",
    "predictionsTree = clf.predict(features2)\n",
    "scoreTree = accuracy_score(y_test, predictionsTree)\n",
    "print(f\"Decision Tree Classifier score is {scoreTree * 100}%\\n\")\n",
    "\n",
    "# fitting Random Forest classifier\n",
    "clf1 = RandomForestClassifier(max_features=23)\n",
    "clf1.fit(features, y_train)\n",
    "predictionsTree1 = clf1.predict(features2)\n",
    "scoreTree1 = accuracy_score(y_test, predictionsTree1)\n",
    "print(f\"Random Forest Classifier score is {scoreTree1 * 100}%\\n\")\n",
    "\n",
    "# fitting XGBoost\n",
    "# xgb = XGBClassifier()\n",
    "# xgb.fit(features.to_numpy(), y_train)\n",
    "# predictionsXGB = xgb.predict(X_test)\n",
    "# predictionsXGB = (predictionsXGB>0.5).astype(int)\n",
    "# scoreXGB = accuracy_score(y_test, predictionsXGB)\n",
    "# print(f\"XG Boost Classifier score is {scoreXGB * 100}%\\n\")\n",
    "\n",
    "# fitting KNN Classifier\n",
    "K = range(1, 20)\n",
    "acc = []\n",
    "for k in K:\n",
    "    knn = KNeighborsClassifier(n_neighbors=k)\n",
    "    knn.fit(features, y_train)\n",
    "    predictionsKNN = knn.predict(features2)\n",
    "    scoreKNN = accuracy_score(y_test, predictionsKNN)\n",
    "    print(f\"KNN Classifier score is {scoreKNN * 100}% with k = {k}\")\n",
    "    acc.append(scoreKNN*100)\n",
    "\n",
    "# Elbow plot:\n",
    "plt.plot(K, acc)\n",
    "plt.xlabel('K')\n",
    "plt.ylabel('Accuracy')\n",
    "plt.title(\"Elbow Curve without feature selection for Inter-Reseach Area\")\n",
    "\n",
    "plt.show()\n",
    "\n",
    "# MLP / ANN\n",
    "classifier = MLPClassifier(hidden_layer_sizes=(128, 64), max_iter=300, activation='relu', solver='adam', random_state=1)\n",
    "classifier.fit(features, y_train)\n",
    "predictionsMLP = classifier.predict(features2)\n",
    "scoreMLP = accuracy_score(y_test, predictionsMLP)\n",
    "print(f\"\\nMLP Classifier score is {scoreMLP * 100}%\\n\")"
   ]
  },
  {
   "cell_type": "code",
   "execution_count": null,
   "id": "7SG5P3posLIn",
   "metadata": {
    "colab": {
     "base_uri": "https://localhost:8080/"
    },
    "id": "7SG5P3posLIn",
    "outputId": "d6e255f4-7e11-4d9b-f9d6-e3bf7afa77f5"
   },
   "outputs": [
    {
     "name": "stdout",
     "output_type": "stream",
     "text": [
      "Number of mislabeled points out of a total 87 points : 44\n"
     ]
    }
   ],
   "source": [
    "from sklearn.naive_bayes import GaussianNB\n",
    "gnb = GaussianNB()\n",
    "y_pred = gnb.fit(features, y_train).predict(features2)\n",
    "print(\"Number of mislabeled points out of a total %d points : %d\"\n",
    "      % (X_test.shape[0], (y_test != y_pred).sum()))"
   ]
  },
  {
   "cell_type": "code",
   "execution_count": null,
   "id": "uPIkabCcsLIn",
   "metadata": {
    "colab": {
     "base_uri": "https://localhost:8080/"
    },
    "id": "uPIkabCcsLIn",
    "outputId": "c0ce3641-71ae-4cf5-f773-5a0a062407f6"
   },
   "outputs": [
    {
     "name": "stdout",
     "output_type": "stream",
     "text": [
      "              precision    recall  f1-score   support\n",
      "\n",
      "           0       0.29      0.52      0.37        25\n",
      "           1       0.71      0.48      0.58        62\n",
      "\n",
      "    accuracy                           0.49        87\n",
      "   macro avg       0.50      0.50      0.47        87\n",
      "weighted avg       0.59      0.49      0.52        87\n",
      "\n"
     ]
    }
   ],
   "source": [
    "from numpy import mean\n",
    "from numpy import std\n",
    "from sklearn.datasets import make_classification\n",
    "from sklearn.ensemble import GradientBoostingClassifier\n",
    "from sklearn.model_selection import cross_val_score\n",
    "from sklearn.model_selection import RepeatedStratifiedKFold\n",
    "from matplotlib import pyplot\n",
    "# define dataset\n",
    "# X, y = make_classification(n_samples=1000, n_features=10, n_informative=5, n_redundant=5, random_state=1)\n",
    "# evaluate the model\n",
    "# model = GradientBoostingClassifier()\n",
    "# cv = RepeatedStratifiedKFold(n_splits=10, n_repeats=3, random_state=1)\n",
    "# n_scores = cross_val_score(model, X_train, y_train, scoring='accuracy', cv=cv, n_jobs=-1, error_score='raise')\n",
    "# print('Accuracy: %.3f (%.3f)' % (mean(n_scores), std(n_scores)))\n",
    "# fit the model on the whole dataset\n",
    "model = GradientBoostingClassifier()\n",
    "model.fit(features, y_train)\n",
    "# make a single prediction\n",
    "# row = [[2.56999479, -0.13019997, 3.16075093, -4.35936352, -1.61271951, -1.39352057, -2.48924933, -1.93094078, 3.26130366, 2.05692145]]\n",
    "yhat = model.predict(features2)\n",
    "\n",
    "print(classification_report(yhat,y_test))"
   ]
  },
  {
   "cell_type": "code",
   "execution_count": null,
   "id": "YZDLqKSusLIo",
   "metadata": {
    "colab": {
     "base_uri": "https://localhost:8080/"
    },
    "id": "YZDLqKSusLIo",
    "outputId": "7b01d0f1-71c3-4760-8934-c4eab9d2ccf3"
   },
   "outputs": [
    {
     "name": "stdout",
     "output_type": "stream",
     "text": [
      "              precision    recall  f1-score   support\n",
      "\n",
      "           0       0.27      0.60      0.37        20\n",
      "           1       0.81      0.51      0.62        67\n",
      "\n",
      "    accuracy                           0.53        87\n",
      "   macro avg       0.54      0.55      0.50        87\n",
      "weighted avg       0.68      0.53      0.57        87\n",
      "\n"
     ]
    }
   ],
   "source": [
    "# histogram-based gradient boosting for classification in scikit-learn\n",
    "from numpy import mean\n",
    "from numpy import std\n",
    "from sklearn.datasets import make_classification\n",
    "from sklearn.experimental import enable_hist_gradient_boosting\n",
    "from sklearn.ensemble import HistGradientBoostingClassifier\n",
    "from sklearn.model_selection import cross_val_score\n",
    "from sklearn.model_selection import RepeatedStratifiedKFold\n",
    "from matplotlib import pyplot\n",
    "# evaluate the model\n",
    "# model = HistGradientBoostingClassifier()\n",
    "# cv = RepeatedStratifiedKFold(n_splits=10, n_repeats=3, random_state=1)\n",
    "# n_scores = cross_val_score(model, features, y_train, scoring='accuracy', cv=cv, n_jobs=-1, error_score='raise')\n",
    "# print('Accuracy: %.3f (%.3f)' % (mean(n_scores), std(n_scores)))\n",
    "# fit the model on the whole dataset\n",
    "model = HistGradientBoostingClassifier()\n",
    "model.fit(features, y_train)\n",
    "# make a single prediction\n",
    "yhat = model.predict(features2)\n",
    "print(classification_report(yhat,y_test))"
   ]
  },
  {
   "cell_type": "code",
   "execution_count": 118,
   "id": "qtPiaBScsLIo",
   "metadata": {
    "colab": {
     "base_uri": "https://localhost:8080/",
     "height": 387
    },
    "id": "qtPiaBScsLIo",
    "outputId": "bb271dec-ea1e-4d10-f2c6-1512a8968b2e"
   },
   "outputs": [
    {
     "name": "stdout",
     "output_type": "stream",
     "text": [
      "[11:25:38] WARNING: C:/Users/Administrator/workspace/xgboost-win64_release_1.4.0/src/learner.cc:1095: Starting in XGBoost 1.3.0, the default evaluation metric used with the objective 'binary:logistic' was changed from 'error' to 'logloss'. Explicitly set eval_metric if you'd like to restore the old behavior.\n",
      "              precision    recall  f1-score   support\n",
      "\n",
      "         0.0       0.87      0.54      0.67        72\n",
      "         1.0       0.21      0.60      0.32        15\n",
      "\n",
      "    accuracy                           0.55        87\n",
      "   macro avg       0.54      0.57      0.49        87\n",
      "weighted avg       0.75      0.55      0.61        87\n",
      "\n"
     ]
    }
   ],
   "source": [
    "# xgboost for classification\n",
    "from numpy import asarray\n",
    "from numpy import mean\n",
    "from numpy import std\n",
    "from sklearn.datasets import make_classification\n",
    "from xgboost import XGBClassifier\n",
    "from sklearn.model_selection import cross_val_score\n",
    "from sklearn.model_selection import RepeatedStratifiedKFold\n",
    "from matplotlib import pyplot\n",
    "# define dataset\n",
    "# X, y = make_classification(n_samples=1000, n_features=10, n_informative=5, n_redundant=5, random_state=1)\n",
    "# evaluate the model\n",
    "# model = XGBClassifier()\n",
    "# cv = RepeatedStratifiedKFold(n_splits=10, n_repeats=3, random_state=1)\n",
    "# n_scores = cross_val_score(model, features, y_train, scoring='accuracy', cv=cv, n_jobs=-1, error_score='raise')\n",
    "# print('Accuracy: %.3f (%.3f)' % (mean(n_scores), std(n_scores)))\n",
    "# fit the model on the whole dataset\n",
    "model = XGBClassifier()\n",
    "model.fit(features, y_train)\n",
    "# make a single prediction\n",
    "yhat = model.predict(features2)\n",
    "print(classification_report(yhat,y_test))"
   ]
  },
  {
   "cell_type": "code",
   "execution_count": null,
   "id": "mry6H3SWsLIo",
   "metadata": {
    "colab": {
     "base_uri": "https://localhost:8080/"
    },
    "id": "mry6H3SWsLIo",
    "outputId": "775d69c5-06ca-4c3c-f428-59688a9936a8"
   },
   "outputs": [
    {
     "name": "stdout",
     "output_type": "stream",
     "text": [
      "              precision    recall  f1-score   support\n",
      "\n",
      "           0       0.24      0.65      0.35        17\n",
      "           1       0.86      0.51      0.64        70\n",
      "\n",
      "    accuracy                           0.54        87\n",
      "   macro avg       0.55      0.58      0.50        87\n",
      "weighted avg       0.74      0.54      0.59        87\n",
      "\n"
     ]
    }
   ],
   "source": [
    "# lightgbm for classification\n",
    "from numpy import mean\n",
    "from numpy import std\n",
    "from sklearn.datasets import make_classification\n",
    "from lightgbm import LGBMClassifier\n",
    "from sklearn.model_selection import cross_val_score\n",
    "from sklearn.model_selection import RepeatedStratifiedKFold\n",
    "from matplotlib import pyplot\n",
    "# evaluate the model\n",
    "# model = LGBMClassifier()\n",
    "# cv = RepeatedStratifiedKFold(n_splits=10, n_repeats=3, random_state=1)\n",
    "# n_scores = cross_val_score(model, features, y_train, scoring='accuracy', cv=cv, n_jobs=-1, error_score='raise')\n",
    "# print('Accuracy: %.3f (%.3f)' % (mean(n_scores), std(n_scores)))\n",
    "# fit the model on the whole dataset\n",
    "model = LGBMClassifier()\n",
    "model.fit(features, y_train)\n",
    "# make a single prediction\n",
    "yhat = model.predict(features2)\n",
    "print(classification_report(yhat,y_test))"
   ]
  },
  {
   "cell_type": "code",
   "execution_count": 10,
   "id": "rXqaehoIsLIo",
   "metadata": {
    "id": "rXqaehoIsLIo"
   },
   "outputs": [],
   "source": [
    "import seaborn as sns"
   ]
  },
  {
   "cell_type": "code",
   "execution_count": 16,
   "id": "f0319165",
   "metadata": {},
   "outputs": [
    {
     "data": {
      "text/plain": [
       "<AxesSubplot:xlabel='A', ylabel='Count'>"
      ]
     },
     "execution_count": 16,
     "metadata": {},
     "output_type": "execute_result"
    },
    {
     "data": {
      "image/png": "[encoded data removed]",
      "text/plain": [
       "<Figure size 432x288 with 1 Axes>"
      ]
     },
     "metadata": {
      "needs_background": "light"
     },
     "output_type": "display_data"
    }
   ],
   "source": [
    "sns.histplot(data=new_df2,x='A', hue=\"y\")"
   ]
  },
  {
   "cell_type": "code",
   "execution_count": null,
   "id": "f724b8ff",
   "metadata": {},
   "outputs": [],
   "source": [
    "g = sns.displot(\n",
    "    data=new_df2, y=\"\", hue=\"sex\", col=\"species\",\n",
    "    kind=\"kde\", height=4, aspect=.7,\n",
    ")\n",
    "g.set_axis_labels(\"Density (a.u.)\", \"Flipper length (mm)\")\n",
    "g.set_titles(\"{col_name} penguins\")"
   ]
  },
  {
   "cell_type": "code",
   "execution_count": 21,
   "id": "0dca237d",
   "metadata": {},
   "outputs": [
    {
     "data": {
      "text/plain": [
       "<seaborn.axisgrid.FacetGrid at 0x1a9d3986490>"
      ]
     },
     "execution_count": 21,
     "metadata": {},
     "output_type": "execute_result"
    },
    {
     "data": {
      "image/png": "[encoded data removed]",
      "text/plain": [
       "<Figure size 433.625x360 with 1 Axes>"
      ]
     },
     "metadata": {
      "needs_background": "light"
     },
     "output_type": "display_data"
    }
   ],
   "source": [
    "sns.displot(data=new_df2, x=\"O\", hue=\"Gender_Male\",  kind=\"kde\")\n"
   ]
  },
  {
   "cell_type": "code",
   "execution_count": 22,
   "id": "04a31faa",
   "metadata": {},
   "outputs": [],
   "source": [
    "from scipy import stats\n"
   ]
  },
  {
   "cell_type": "code",
   "execution_count": 24,
   "id": "5f00407c",
   "metadata": {},
   "outputs": [
    {
     "data": {
      "text/plain": [
       "(0.9295936822891235, 4.195477838327429e-20)"
      ]
     },
     "execution_count": 24,
     "metadata": {},
     "output_type": "execute_result"
    }
   ],
   "source": [
    "stats.shapiro(new_df2['O'])\n"
   ]
  },
  {
   "cell_type": "code",
   "execution_count": 27,
   "id": "fd89d027",
   "metadata": {},
   "outputs": [
    {
     "data": {
      "text/html": [
       "<div>\n",
       "<style scoped>\n",
       "    .dataframe tbody tr th:only-of-type {\n",
       "        vertical-align: middle;\n",
       "    }\n",
       "\n",
       "    .dataframe tbody tr th {\n",
       "        vertical-align: top;\n",
       "    }\n",
       "\n",
       "    .dataframe thead th {\n",
       "        text-align: right;\n",
       "    }\n",
       "</style>\n",
       "<table border=\"1\" class=\"dataframe\">\n",
       "  <thead>\n",
       "    <tr style=\"text-align: right;\">\n",
       "      <th></th>\n",
       "      <th>question</th>\n",
       "      <th>person_id</th>\n",
       "      <th>WC</th>\n",
       "      <th>Analytic</th>\n",
       "      <th>Clout</th>\n",
       "      <th>Authentic</th>\n",
       "      <th>Tone</th>\n",
       "      <th>WPS</th>\n",
       "      <th>Sixltr</th>\n",
       "      <th>Dic</th>\n",
       "      <th>...</th>\n",
       "      <th>I (The respondent) [Often feel blue.]_Slightly agree</th>\n",
       "      <th>I (The respondent) [Often feel blue.]_Slightly disagree</th>\n",
       "      <th>I (The respondent) [Am full of ideas.]_Neutral</th>\n",
       "      <th>I (The respondent) [Am full of ideas.]_Slightly agree</th>\n",
       "      <th>I (The respondent) [Am full of ideas.]_Slightly disagree</th>\n",
       "      <th>O</th>\n",
       "      <th>E</th>\n",
       "      <th>C</th>\n",
       "      <th>A</th>\n",
       "      <th>N</th>\n",
       "    </tr>\n",
       "  </thead>\n",
       "  <tbody>\n",
       "    <tr>\n",
       "      <th>0</th>\n",
       "      <td>1</td>\n",
       "      <td>1.0</td>\n",
       "      <td>118.0</td>\n",
       "      <td>35.18</td>\n",
       "      <td>24.88</td>\n",
       "      <td>87.71</td>\n",
       "      <td>73.27</td>\n",
       "      <td>29.50</td>\n",
       "      <td>18.64</td>\n",
       "      <td>93.22</td>\n",
       "      <td>...</td>\n",
       "      <td>0</td>\n",
       "      <td>0</td>\n",
       "      <td>1</td>\n",
       "      <td>0</td>\n",
       "      <td>0</td>\n",
       "      <td>19</td>\n",
       "      <td>25.0</td>\n",
       "      <td>13.0</td>\n",
       "      <td>17</td>\n",
       "      <td>35</td>\n",
       "    </tr>\n",
       "    <tr>\n",
       "      <th>1</th>\n",
       "      <td>1</td>\n",
       "      <td>2.0</td>\n",
       "      <td>188.0</td>\n",
       "      <td>59.59</td>\n",
       "      <td>31.62</td>\n",
       "      <td>41.31</td>\n",
       "      <td>66.07</td>\n",
       "      <td>12.53</td>\n",
       "      <td>17.55</td>\n",
       "      <td>93.09</td>\n",
       "      <td>...</td>\n",
       "      <td>0</td>\n",
       "      <td>0</td>\n",
       "      <td>0</td>\n",
       "      <td>0</td>\n",
       "      <td>0</td>\n",
       "      <td>18</td>\n",
       "      <td>7.0</td>\n",
       "      <td>6.0</td>\n",
       "      <td>6</td>\n",
       "      <td>33</td>\n",
       "    </tr>\n",
       "    <tr>\n",
       "      <th>2</th>\n",
       "      <td>1</td>\n",
       "      <td>3.0</td>\n",
       "      <td>38.0</td>\n",
       "      <td>17.17</td>\n",
       "      <td>14.62</td>\n",
       "      <td>33.36</td>\n",
       "      <td>97.58</td>\n",
       "      <td>38.00</td>\n",
       "      <td>13.16</td>\n",
       "      <td>92.11</td>\n",
       "      <td>...</td>\n",
       "      <td>0</td>\n",
       "      <td>0</td>\n",
       "      <td>0</td>\n",
       "      <td>1</td>\n",
       "      <td>0</td>\n",
       "      <td>12</td>\n",
       "      <td>22.0</td>\n",
       "      <td>27.0</td>\n",
       "      <td>17</td>\n",
       "      <td>36</td>\n",
       "    </tr>\n",
       "    <tr>\n",
       "      <th>4</th>\n",
       "      <td>1</td>\n",
       "      <td>5.0</td>\n",
       "      <td>53.0</td>\n",
       "      <td>34.80</td>\n",
       "      <td>12.88</td>\n",
       "      <td>98.39</td>\n",
       "      <td>99.00</td>\n",
       "      <td>7.57</td>\n",
       "      <td>3.77</td>\n",
       "      <td>98.11</td>\n",
       "      <td>...</td>\n",
       "      <td>0</td>\n",
       "      <td>1</td>\n",
       "      <td>0</td>\n",
       "      <td>0</td>\n",
       "      <td>0</td>\n",
       "      <td>16</td>\n",
       "      <td>17.0</td>\n",
       "      <td>15.0</td>\n",
       "      <td>18</td>\n",
       "      <td>36</td>\n",
       "    </tr>\n",
       "    <tr>\n",
       "      <th>5</th>\n",
       "      <td>1</td>\n",
       "      <td>6.0</td>\n",
       "      <td>56.0</td>\n",
       "      <td>38.60</td>\n",
       "      <td>42.90</td>\n",
       "      <td>52.86</td>\n",
       "      <td>59.59</td>\n",
       "      <td>14.00</td>\n",
       "      <td>17.86</td>\n",
       "      <td>94.64</td>\n",
       "      <td>...</td>\n",
       "      <td>0</td>\n",
       "      <td>0</td>\n",
       "      <td>0</td>\n",
       "      <td>0</td>\n",
       "      <td>0</td>\n",
       "      <td>13</td>\n",
       "      <td>25.0</td>\n",
       "      <td>24.0</td>\n",
       "      <td>22</td>\n",
       "      <td>37</td>\n",
       "    </tr>\n",
       "    <tr>\n",
       "      <th>...</th>\n",
       "      <td>...</td>\n",
       "      <td>...</td>\n",
       "      <td>...</td>\n",
       "      <td>...</td>\n",
       "      <td>...</td>\n",
       "      <td>...</td>\n",
       "      <td>...</td>\n",
       "      <td>...</td>\n",
       "      <td>...</td>\n",
       "      <td>...</td>\n",
       "      <td>...</td>\n",
       "      <td>...</td>\n",
       "      <td>...</td>\n",
       "      <td>...</td>\n",
       "      <td>...</td>\n",
       "      <td>...</td>\n",
       "      <td>...</td>\n",
       "      <td>...</td>\n",
       "      <td>...</td>\n",
       "      <td>...</td>\n",
       "      <td>...</td>\n",
       "    </tr>\n",
       "    <tr>\n",
       "      <th>883</th>\n",
       "      <td>D_2</td>\n",
       "      <td>17.0</td>\n",
       "      <td>61.0</td>\n",
       "      <td>1.71</td>\n",
       "      <td>68.85</td>\n",
       "      <td>31.05</td>\n",
       "      <td>56.75</td>\n",
       "      <td>10.17</td>\n",
       "      <td>4.92</td>\n",
       "      <td>96.72</td>\n",
       "      <td>...</td>\n",
       "      <td>0</td>\n",
       "      <td>0</td>\n",
       "      <td>0</td>\n",
       "      <td>0</td>\n",
       "      <td>0</td>\n",
       "      <td>13</td>\n",
       "      <td>21.0</td>\n",
       "      <td>24.0</td>\n",
       "      <td>25</td>\n",
       "      <td>33</td>\n",
       "    </tr>\n",
       "    <tr>\n",
       "      <th>885</th>\n",
       "      <td>D_2</td>\n",
       "      <td>19.0</td>\n",
       "      <td>17.0</td>\n",
       "      <td>97.21</td>\n",
       "      <td>1.00</td>\n",
       "      <td>91.95</td>\n",
       "      <td>98.87</td>\n",
       "      <td>8.50</td>\n",
       "      <td>0.00</td>\n",
       "      <td>88.24</td>\n",
       "      <td>...</td>\n",
       "      <td>0</td>\n",
       "      <td>1</td>\n",
       "      <td>0</td>\n",
       "      <td>1</td>\n",
       "      <td>0</td>\n",
       "      <td>17</td>\n",
       "      <td>28.0</td>\n",
       "      <td>22.0</td>\n",
       "      <td>20</td>\n",
       "      <td>42</td>\n",
       "    </tr>\n",
       "    <tr>\n",
       "      <th>890</th>\n",
       "      <td>D_2</td>\n",
       "      <td>25.0</td>\n",
       "      <td>89.0</td>\n",
       "      <td>9.48</td>\n",
       "      <td>32.66</td>\n",
       "      <td>44.87</td>\n",
       "      <td>68.20</td>\n",
       "      <td>17.80</td>\n",
       "      <td>20.22</td>\n",
       "      <td>91.01</td>\n",
       "      <td>...</td>\n",
       "      <td>0</td>\n",
       "      <td>1</td>\n",
       "      <td>0</td>\n",
       "      <td>1</td>\n",
       "      <td>0</td>\n",
       "      <td>12</td>\n",
       "      <td>10.0</td>\n",
       "      <td>13.0</td>\n",
       "      <td>19</td>\n",
       "      <td>30</td>\n",
       "    </tr>\n",
       "    <tr>\n",
       "      <th>893</th>\n",
       "      <td>D_2</td>\n",
       "      <td>28.0</td>\n",
       "      <td>11.0</td>\n",
       "      <td>32.58</td>\n",
       "      <td>81.84</td>\n",
       "      <td>2.40</td>\n",
       "      <td>99.00</td>\n",
       "      <td>3.67</td>\n",
       "      <td>18.18</td>\n",
       "      <td>81.82</td>\n",
       "      <td>...</td>\n",
       "      <td>0</td>\n",
       "      <td>1</td>\n",
       "      <td>0</td>\n",
       "      <td>0</td>\n",
       "      <td>0</td>\n",
       "      <td>19</td>\n",
       "      <td>34.0</td>\n",
       "      <td>18.0</td>\n",
       "      <td>25</td>\n",
       "      <td>39</td>\n",
       "    </tr>\n",
       "    <tr>\n",
       "      <th>896</th>\n",
       "      <td>D_2</td>\n",
       "      <td>31.0</td>\n",
       "      <td>48.0</td>\n",
       "      <td>27.87</td>\n",
       "      <td>50.00</td>\n",
       "      <td>35.37</td>\n",
       "      <td>25.77</td>\n",
       "      <td>8.00</td>\n",
       "      <td>10.42</td>\n",
       "      <td>87.50</td>\n",
       "      <td>...</td>\n",
       "      <td>0</td>\n",
       "      <td>1</td>\n",
       "      <td>0</td>\n",
       "      <td>1</td>\n",
       "      <td>0</td>\n",
       "      <td>16</td>\n",
       "      <td>25.0</td>\n",
       "      <td>15.0</td>\n",
       "      <td>22</td>\n",
       "      <td>33</td>\n",
       "    </tr>\n",
       "  </tbody>\n",
       "</table>\n",
       "<p>462 rows × 299 columns</p>\n",
       "</div>"
      ],
      "text/plain": [
       "    question  person_id     WC  Analytic  Clout  Authentic   Tone    WPS  \\\n",
       "0          1        1.0  118.0     35.18  24.88      87.71  73.27  29.50   \n",
       "1          1        2.0  188.0     59.59  31.62      41.31  66.07  12.53   \n",
       "2          1        3.0   38.0     17.17  14.62      33.36  97.58  38.00   \n",
       "4          1        5.0   53.0     34.80  12.88      98.39  99.00   7.57   \n",
       "5          1        6.0   56.0     38.60  42.90      52.86  59.59  14.00   \n",
       "..       ...        ...    ...       ...    ...        ...    ...    ...   \n",
       "883      D_2       17.0   61.0      1.71  68.85      31.05  56.75  10.17   \n",
       "885      D_2       19.0   17.0     97.21   1.00      91.95  98.87   8.50   \n",
       "890      D_2       25.0   89.0      9.48  32.66      44.87  68.20  17.80   \n",
       "893      D_2       28.0   11.0     32.58  81.84       2.40  99.00   3.67   \n",
       "896      D_2       31.0   48.0     27.87  50.00      35.37  25.77   8.00   \n",
       "\n",
       "     Sixltr    Dic  ...  I (The respondent) [Often feel blue.]_Slightly agree  \\\n",
       "0     18.64  93.22  ...                                                  0      \n",
       "1     17.55  93.09  ...                                                  0      \n",
       "2     13.16  92.11  ...                                                  0      \n",
       "4      3.77  98.11  ...                                                  0      \n",
       "5     17.86  94.64  ...                                                  0      \n",
       "..      ...    ...  ...                                                ...      \n",
       "883    4.92  96.72  ...                                                  0      \n",
       "885    0.00  88.24  ...                                                  0      \n",
       "890   20.22  91.01  ...                                                  0      \n",
       "893   18.18  81.82  ...                                                  0      \n",
       "896   10.42  87.50  ...                                                  0      \n",
       "\n",
       "     I (The respondent) [Often feel blue.]_Slightly disagree  \\\n",
       "0                                                    0         \n",
       "1                                                    0         \n",
       "2                                                    0         \n",
       "4                                                    1         \n",
       "5                                                    0         \n",
       "..                                                 ...         \n",
       "883                                                  0         \n",
       "885                                                  1         \n",
       "890                                                  1         \n",
       "893                                                  1         \n",
       "896                                                  1         \n",
       "\n",
       "     I (The respondent) [Am full of ideas.]_Neutral  \\\n",
       "0                                                 1   \n",
       "1                                                 0   \n",
       "2                                                 0   \n",
       "4                                                 0   \n",
       "5                                                 0   \n",
       "..                                              ...   \n",
       "883                                               0   \n",
       "885                                               0   \n",
       "890                                               0   \n",
       "893                                               0   \n",
       "896                                               0   \n",
       "\n",
       "     I (The respondent) [Am full of ideas.]_Slightly agree  \\\n",
       "0                                                    0       \n",
       "1                                                    0       \n",
       "2                                                    1       \n",
       "4                                                    0       \n",
       "5                                                    0       \n",
       "..                                                 ...       \n",
       "883                                                  0       \n",
       "885                                                  1       \n",
       "890                                                  1       \n",
       "893                                                  0       \n",
       "896                                                  1       \n",
       "\n",
       "     I (The respondent) [Am full of ideas.]_Slightly disagree   O     E     C  \\\n",
       "0                                                    0         19  25.0  13.0   \n",
       "1                                                    0         18   7.0   6.0   \n",
       "2                                                    0         12  22.0  27.0   \n",
       "4                                                    0         16  17.0  15.0   \n",
       "5                                                    0         13  25.0  24.0   \n",
       "..                                                 ...         ..   ...   ...   \n",
       "883                                                  0         13  21.0  24.0   \n",
       "885                                                  0         17  28.0  22.0   \n",
       "890                                                  0         12  10.0  13.0   \n",
       "893                                                  0         19  34.0  18.0   \n",
       "896                                                  0         16  25.0  15.0   \n",
       "\n",
       "      A   N  \n",
       "0    17  35  \n",
       "1     6  33  \n",
       "2    17  36  \n",
       "4    18  36  \n",
       "5    22  37  \n",
       "..   ..  ..  \n",
       "883  25  33  \n",
       "885  20  42  \n",
       "890  19  30  \n",
       "893  25  39  \n",
       "896  22  33  \n",
       "\n",
       "[462 rows x 299 columns]"
      ]
     },
     "execution_count": 27,
     "metadata": {},
     "output_type": "execute_result"
    }
   ],
   "source": [
    "new_df2[new_df2[\"Gender_Male\"]==1]\n"
   ]
  },
  {
   "cell_type": "code",
   "execution_count": 29,
   "id": "56f2c116",
   "metadata": {},
   "outputs": [],
   "source": [
    "new_df2 = new_df2[new_df2[\"person_id\"]!=24]"
   ]
  },
  {
   "cell_type": "code",
   "execution_count": 30,
   "id": "11c0cb3c",
   "metadata": {},
   "outputs": [
    {
     "data": {
      "text/plain": [
       "Ttest_relResult(statistic=11.45648435027277, pvalue=9.900921418779407e-27)"
      ]
     },
     "execution_count": 30,
     "metadata": {},
     "output_type": "execute_result"
    }
   ],
   "source": [
    "stats.ttest_rel(new_df2[new_df2[\"Gender_Male\"]==1]['O'],new_df2[new_df2[\"Gender_Male\"]==0]['O'])\n"
   ]
  },
  {
   "cell_type": "code",
   "execution_count": null,
   "id": "b028215b",
   "metadata": {},
   "outputs": [],
   "source": []
  }
 ],
 "metadata": {
  "colab": {
   "name": "audio_models.ipynb",
   "provenance": [],
   "toc_visible": true
  },
  "kernelspec": {
   "display_name": "Python 3",
   "language": "python",
   "name": "python3"
  },
  "language_info": {
   "codemirror_mode": {
    "name": "ipython",
    "version": 3
   },
   "file_extension": ".py",
   "mimetype": "text/x-python",
   "name": "python",
   "nbconvert_exporter": "python",
   "pygments_lexer": "ipython3",
   "version": "3.8.8"
  }
 },
 "nbformat": 4,
 "nbformat_minor": 5
}
