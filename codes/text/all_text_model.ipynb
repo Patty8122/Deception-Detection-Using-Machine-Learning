{
 "cells": [
  {
   "cell_type": "code",
   "execution_count": 1,
   "id": "5c16b07f",
   "metadata": {},
   "outputs": [],
   "source": [
    "import pandas as pd"
   ]
  },
  {
   "cell_type": "code",
   "execution_count": 2,
   "id": "39e5d034",
   "metadata": {},
   "outputs": [],
   "source": [
    "liwc = pd.read_csv('liwc_final.csv')"
   ]
  },
  {
   "cell_type": "code",
   "execution_count": 5,
   "id": "0c5b046b",
   "metadata": {},
   "outputs": [],
   "source": [
    "personality = pd.read_csv('personality_y.csv')"
   ]
  },
  {
   "cell_type": "code",
   "execution_count": 6,
   "id": "e8780419",
   "metadata": {},
   "outputs": [],
   "source": [
    "pos = pd.read_csv('POSfeatures.csv')"
   ]
  },
  {
   "cell_type": "code",
   "execution_count": null,
   "id": "9ce45b75",
   "metadata": {},
   "outputs": [],
   "source": []
  }
 ],
 "metadata": {
  "kernelspec": {
   "display_name": "Python 3",
   "language": "python",
   "name": "python3"
  },
  "language_info": {
   "codemirror_mode": {
    "name": "ipython",
    "version": 3
   },
   "file_extension": ".py",
   "mimetype": "text/x-python",
   "name": "python",
   "nbconvert_exporter": "python",
   "pygments_lexer": "ipython3",
   "version": "3.8.8"
  }
 },
 "nbformat": 4,
 "nbformat_minor": 5
}
